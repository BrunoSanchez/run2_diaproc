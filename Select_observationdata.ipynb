{
 "cells": [
  {
   "cell_type": "code",
   "execution_count": 1,
   "metadata": {},
   "outputs": [],
   "source": [
    "import numpy as np"
   ]
  },
  {
   "cell_type": "code",
   "execution_count": 2,
   "metadata": {},
   "outputs": [
    {
     "name": "stderr",
     "output_type": "stream",
     "text": [
      "/opt/lsst/software/stack/stack/miniconda3-4.5.12-1172c30/Linux64/sims_catalogs/2.13.0.sims-3-g60469dd+6/python/lsst/sims/catalogs/db/dbConnection.py:555: UserWarning: Duplicate object type id 25 specified: \n",
      "Output object ids may not be unique.\n",
      "This may not be a problem if you do not want globally unique id values\n",
      "  'want globally unique id values')\n",
      "/opt/lsst/software/stack/stack/miniconda3-4.5.12-1172c30/Linux64/sims_catalogs/2.13.0.sims-3-g60469dd+6/python/lsst/sims/catalogs/db/dbConnection.py:555: UserWarning: Duplicate object type id 40 specified: \n",
      "Output object ids may not be unique.\n",
      "This may not be a problem if you do not want globally unique id values\n",
      "  'want globally unique id values')\n",
      "/opt/lsst/software/stack/stack/miniconda3-4.5.12-1172c30/Linux64/sims_catalogs/2.13.0.sims-3-g60469dd+6/python/lsst/sims/catalogs/db/dbConnection.py:555: UserWarning: Duplicate object type id 4 specified: \n",
      "Output object ids may not be unique.\n",
      "This may not be a problem if you do not want globally unique id values\n",
      "  'want globally unique id values')\n",
      "/opt/lsst/software/stack/stack/miniconda3-4.5.12-1172c30/Linux64/sims_catalogs/2.13.0.sims-3-g60469dd+6/python/lsst/sims/catalogs/db/dbConnection.py:555: UserWarning: Duplicate object type id 28 specified: \n",
      "Output object ids may not be unique.\n",
      "This may not be a problem if you do not want globally unique id values\n",
      "  'want globally unique id values')\n"
     ]
    }
   ],
   "source": [
    "from lsst.sims.catUtils.utils import ObservationMetaDataGenerator"
   ]
  },
  {
   "cell_type": "code",
   "execution_count": 3,
   "metadata": {},
   "outputs": [],
   "source": [
    "dbname = '/global/projecta/projectdirs/lsst/groups/SSim/DC2/minion_1016_desc_dithered_v4.db'"
   ]
  },
  {
   "cell_type": "code",
   "execution_count": 6,
   "metadata": {},
   "outputs": [],
   "source": [
    "ObsMetaData = ObservationMetaDataGenerator(database=dbname)"
   ]
  },
  {
   "cell_type": "code",
   "execution_count": 4,
   "metadata": {},
   "outputs": [],
   "source": [
    "# We want to select based on dithered RA and DEC ... there is no way to accesss the place where these are. Tried fooling it but does not quite work\n",
    "# ObsMetaData.user_interface_to_opsim['fieldDec'] = ('descDitheredDec', None, float)\n",
    "# ObsMetaData.user_interface_to_opsim['fieldRA'] = ('descDitheredRA', None, float)"
   ]
  },
  {
   "cell_type": "code",
   "execution_count": 5,
   "metadata": {},
   "outputs": [],
   "source": [
    "# Select based on a larger range and then trim down"
   ]
  },
  {
   "cell_type": "code",
   "execution_count": 9,
   "metadata": {},
   "outputs": [
    {
     "data": {
      "text/plain": [
       "803"
      ]
     },
     "execution_count": 9,
     "metadata": {},
     "output_type": "execute_result"
    }
   ],
   "source": [
    "len(res)"
   ]
  },
  {
   "cell_type": "code",
   "execution_count": 14,
   "metadata": {},
   "outputs": [],
   "source": []
  },
  {
   "cell_type": "code",
   "execution_count": 15,
   "metadata": {},
   "outputs": [],
   "source": [
    "res = ObsMetaData.getObservationMetaData(boundLength=2, boundType='circle', fieldRA=(50, 64.), fieldDec=(-36., -28), expMJD=(59215, 59945))"
   ]
  },
  {
   "cell_type": "code",
   "execution_count": 16,
   "metadata": {},
   "outputs": [],
   "source": [
    "from collections import OrderedDict as Odict"
   ]
  },
  {
   "cell_type": "code",
   "execution_count": 17,
   "metadata": {},
   "outputs": [],
   "source": [
    "import pandas as pd"
   ]
  },
  {
   "cell_type": "code",
   "execution_count": 18,
   "metadata": {},
   "outputs": [],
   "source": [
    "# Keep desired filters"
   ]
  },
  {
   "cell_type": "code",
   "execution_count": 19,
   "metadata": {},
   "outputs": [],
   "source": [
    "df = pd.DataFrame(list(Odict(obsmd.summary['OpsimMetaData']) for obsmd in res if obsmd.bandpass in (\"g\", \"r\", \"i\", \"z\")))"
   ]
  },
  {
   "cell_type": "code",
   "execution_count": 20,
   "metadata": {},
   "outputs": [],
   "source": [
    "from lsst.sims.utils import angularSeparation"
   ]
  },
  {
   "cell_type": "code",
   "execution_count": 21,
   "metadata": {},
   "outputs": [],
   "source": [
    "X = df[['obsHistID', 'filter', 'FWHMeff', 'descDitheredRA', 'descDitheredDec', 'airmass', 'fiveSigmaDepth']]"
   ]
  },
  {
   "cell_type": "code",
   "execution_count": 22,
   "metadata": {},
   "outputs": [
    {
     "name": "stderr",
     "output_type": "stream",
     "text": [
      "/opt/lsst/software/stack/python/miniconda3-4.5.12/envs/lsst-scipipe-1172c30/lib/python3.7/site-packages/pandas/core/generic.py:5096: SettingWithCopyWarning: \n",
      "A value is trying to be set on a copy of a slice from a DataFrame.\n",
      "Try using .loc[row_indexer,col_indexer] = value instead\n",
      "\n",
      "See the caveats in the documentation: http://pandas.pydata.org/pandas-docs/stable/indexing.html#indexing-view-versus-copy\n",
      "  self[name] = value\n"
     ]
    }
   ],
   "source": [
    "X.descDitheredRA = np.degrees(X.descDitheredRA)\n",
    "X.descDitheredDec = np.degrees(X.descDitheredDec)"
   ]
  },
  {
   "cell_type": "code",
   "execution_count": 23,
   "metadata": {},
   "outputs": [],
   "source": [
    "# Make sure the corners are in"
   ]
  },
  {
   "cell_type": "code",
   "execution_count": 36,
   "metadata": {},
   "outputs": [
    {
     "name": "stderr",
     "output_type": "stream",
     "text": [
      "/opt/lsst/software/stack/python/miniconda3-4.5.12/envs/lsst-scipipe-1172c30/lib/python3.7/site-packages/ipykernel/__main__.py:1: SettingWithCopyWarning: \n",
      "A value is trying to be set on a copy of a slice from a DataFrame.\n",
      "Try using .loc[row_indexer,col_indexer] = value instead\n",
      "\n",
      "See the caveats in the documentation: http://pandas.pydata.org/pandas-docs/stable/indexing.html#indexing-view-versus-copy\n",
      "  if __name__ == '__main__':\n",
      "/opt/lsst/software/stack/python/miniconda3-4.5.12/envs/lsst-scipipe-1172c30/lib/python3.7/site-packages/ipykernel/__main__.py:2: SettingWithCopyWarning: \n",
      "A value is trying to be set on a copy of a slice from a DataFrame.\n",
      "Try using .loc[row_indexer,col_indexer] = value instead\n",
      "\n",
      "See the caveats in the documentation: http://pandas.pydata.org/pandas-docs/stable/indexing.html#indexing-view-versus-copy\n",
      "  from ipykernel import kernelapp as app\n",
      "/opt/lsst/software/stack/python/miniconda3-4.5.12/envs/lsst-scipipe-1172c30/lib/python3.7/site-packages/ipykernel/__main__.py:3: SettingWithCopyWarning: \n",
      "A value is trying to be set on a copy of a slice from a DataFrame.\n",
      "Try using .loc[row_indexer,col_indexer] = value instead\n",
      "\n",
      "See the caveats in the documentation: http://pandas.pydata.org/pandas-docs/stable/indexing.html#indexing-view-versus-copy\n",
      "  app.launch_new_instance()\n",
      "/opt/lsst/software/stack/python/miniconda3-4.5.12/envs/lsst-scipipe-1172c30/lib/python3.7/site-packages/ipykernel/__main__.py:4: SettingWithCopyWarning: \n",
      "A value is trying to be set on a copy of a slice from a DataFrame.\n",
      "Try using .loc[row_indexer,col_indexer] = value instead\n",
      "\n",
      "See the caveats in the documentation: http://pandas.pydata.org/pandas-docs/stable/indexing.html#indexing-view-versus-copy\n"
     ]
    }
   ],
   "source": [
    "X['d1'] = angularSeparation(56, -31, X.descDitheredRA.values, X.descDitheredDec.values)\n",
    "X['d2'] = angularSeparation(56, -32, X.descDitheredRA.values, X.descDitheredDec.values)\n",
    "X['d3'] = angularSeparation(58, -31, X.descDitheredRA.values, X.descDitheredDec.values)\n",
    "X['d4'] = angularSeparation(58, -32, X.descDitheredRA.values, X.descDitheredDec.values)"
   ]
  },
  {
   "cell_type": "code",
   "execution_count": 38,
   "metadata": {},
   "outputs": [
    {
     "data": {
      "text/html": [
       "<div>\n",
       "<style scoped>\n",
       "    .dataframe tbody tr th:only-of-type {\n",
       "        vertical-align: middle;\n",
       "    }\n",
       "\n",
       "    .dataframe tbody tr th {\n",
       "        vertical-align: top;\n",
       "    }\n",
       "\n",
       "    .dataframe thead th {\n",
       "        text-align: right;\n",
       "    }\n",
       "</style>\n",
       "<table border=\"1\" class=\"dataframe\">\n",
       "  <thead>\n",
       "    <tr style=\"text-align: right;\">\n",
       "      <th></th>\n",
       "      <th>obsHistID</th>\n",
       "      <th>filter</th>\n",
       "      <th>FWHMeff</th>\n",
       "      <th>descDitheredRA</th>\n",
       "      <th>descDitheredDec</th>\n",
       "      <th>airmass</th>\n",
       "      <th>fiveSigmaDepth</th>\n",
       "      <th>d1</th>\n",
       "      <th>d2</th>\n",
       "      <th>d3</th>\n",
       "      <th>d4</th>\n",
       "    </tr>\n",
       "  </thead>\n",
       "  <tbody>\n",
       "    <tr>\n",
       "      <th>0</th>\n",
       "      <td>4324</td>\n",
       "      <td>z</td>\n",
       "      <td>1.185419</td>\n",
       "      <td>62.236003</td>\n",
       "      <td>-30.045620</td>\n",
       "      <td>1.020370</td>\n",
       "      <td>22.467843</td>\n",
       "      <td>5.455183</td>\n",
       "      <td>5.689013</td>\n",
       "      <td>3.771459</td>\n",
       "      <td>4.122247</td>\n",
       "    </tr>\n",
       "    <tr>\n",
       "      <th>1</th>\n",
       "      <td>4354</td>\n",
       "      <td>z</td>\n",
       "      <td>0.933524</td>\n",
       "      <td>63.911262</td>\n",
       "      <td>-28.365823</td>\n",
       "      <td>1.008200</td>\n",
       "      <td>23.064965</td>\n",
       "      <td>7.358266</td>\n",
       "      <td>7.741093</td>\n",
       "      <td>5.770457</td>\n",
       "      <td>6.268510</td>\n",
       "    </tr>\n",
       "    <tr>\n",
       "      <th>2</th>\n",
       "      <td>6824</td>\n",
       "      <td>i</td>\n",
       "      <td>0.895988</td>\n",
       "      <td>64.399624</td>\n",
       "      <td>-32.100018</td>\n",
       "      <td>1.303959</td>\n",
       "      <td>23.657651</td>\n",
       "      <td>7.240085</td>\n",
       "      <td>7.118300</td>\n",
       "      <td>5.562552</td>\n",
       "      <td>5.424353</td>\n",
       "    </tr>\n",
       "    <tr>\n",
       "      <th>3</th>\n",
       "      <td>6825</td>\n",
       "      <td>i</td>\n",
       "      <td>0.920723</td>\n",
       "      <td>60.720838</td>\n",
       "      <td>-32.441959</td>\n",
       "      <td>1.363864</td>\n",
       "      <td>23.601620</td>\n",
       "      <td>4.266169</td>\n",
       "      <td>4.017858</td>\n",
       "      <td>2.726680</td>\n",
       "      <td>2.343795</td>\n",
       "    </tr>\n",
       "    <tr>\n",
       "      <th>4</th>\n",
       "      <td>6826</td>\n",
       "      <td>i</td>\n",
       "      <td>0.948814</td>\n",
       "      <td>57.488219</td>\n",
       "      <td>-29.828928</td>\n",
       "      <td>1.433173</td>\n",
       "      <td>23.547951</td>\n",
       "      <td>1.737364</td>\n",
       "      <td>2.518597</td>\n",
       "      <td>1.251475</td>\n",
       "      <td>2.215015</td>\n",
       "    </tr>\n",
       "  </tbody>\n",
       "</table>\n",
       "</div>"
      ],
      "text/plain": [
       "   obsHistID filter   FWHMeff  descDitheredRA  descDitheredDec   airmass  \\\n",
       "0       4324      z  1.185419       62.236003       -30.045620  1.020370   \n",
       "1       4354      z  0.933524       63.911262       -28.365823  1.008200   \n",
       "2       6824      i  0.895988       64.399624       -32.100018  1.303959   \n",
       "3       6825      i  0.920723       60.720838       -32.441959  1.363864   \n",
       "4       6826      i  0.948814       57.488219       -29.828928  1.433173   \n",
       "\n",
       "   fiveSigmaDepth        d1        d2        d3        d4  \n",
       "0       22.467843  5.455183  5.689013  3.771459  4.122247  \n",
       "1       23.064965  7.358266  7.741093  5.770457  6.268510  \n",
       "2       23.657651  7.240085  7.118300  5.562552  5.424353  \n",
       "3       23.601620  4.266169  4.017858  2.726680  2.343795  \n",
       "4       23.547951  1.737364  2.518597  1.251475  2.215015  "
      ]
     },
     "execution_count": 38,
     "metadata": {},
     "output_type": "execute_result"
    }
   ],
   "source": [
    "X.head()"
   ]
  },
  {
   "cell_type": "code",
   "execution_count": 26,
   "metadata": {},
   "outputs": [],
   "source": [
    "# Keep the cases which have at least one of these poaints in the focal radius"
   ]
  },
  {
   "cell_type": "code",
   "execution_count": 39,
   "metadata": {},
   "outputs": [],
   "source": [
    "Y = X.query('d1 < 1.75 | d2 < 1.75 | d3 < 1.75 |d4 < 1.75')#.obsHistID.size"
   ]
  },
  {
   "cell_type": "code",
   "execution_count": 41,
   "metadata": {},
   "outputs": [
    {
     "data": {
      "text/plain": [
       "129"
      ]
     },
     "execution_count": 41,
     "metadata": {},
     "output_type": "execute_result"
    }
   ],
   "source": [
    "len(Y)"
   ]
  },
  {
   "cell_type": "code",
   "execution_count": 40,
   "metadata": {},
   "outputs": [
    {
     "data": {
      "text/html": [
       "<div>\n",
       "<style scoped>\n",
       "    .dataframe tbody tr th:only-of-type {\n",
       "        vertical-align: middle;\n",
       "    }\n",
       "\n",
       "    .dataframe tbody tr th {\n",
       "        vertical-align: top;\n",
       "    }\n",
       "\n",
       "    .dataframe thead th {\n",
       "        text-align: right;\n",
       "    }\n",
       "</style>\n",
       "<table border=\"1\" class=\"dataframe\">\n",
       "  <thead>\n",
       "    <tr style=\"text-align: right;\">\n",
       "      <th></th>\n",
       "      <th>obsHistID</th>\n",
       "      <th>filter</th>\n",
       "      <th>FWHMeff</th>\n",
       "      <th>descDitheredRA</th>\n",
       "      <th>descDitheredDec</th>\n",
       "      <th>airmass</th>\n",
       "      <th>fiveSigmaDepth</th>\n",
       "      <th>d1</th>\n",
       "      <th>d2</th>\n",
       "      <th>d3</th>\n",
       "      <th>d4</th>\n",
       "    </tr>\n",
       "  </thead>\n",
       "  <tbody>\n",
       "    <tr>\n",
       "      <th>4</th>\n",
       "      <td>6826</td>\n",
       "      <td>i</td>\n",
       "      <td>0.948814</td>\n",
       "      <td>57.488219</td>\n",
       "      <td>-29.828928</td>\n",
       "      <td>1.433173</td>\n",
       "      <td>23.547951</td>\n",
       "      <td>1.737364</td>\n",
       "      <td>2.518597</td>\n",
       "      <td>1.251475</td>\n",
       "      <td>2.215015</td>\n",
       "    </tr>\n",
       "    <tr>\n",
       "      <th>6</th>\n",
       "      <td>6855</td>\n",
       "      <td>i</td>\n",
       "      <td>0.904759</td>\n",
       "      <td>59.717574</td>\n",
       "      <td>-32.698014</td>\n",
       "      <td>1.466872</td>\n",
       "      <td>23.582997</td>\n",
       "      <td>3.585079</td>\n",
       "      <td>3.217060</td>\n",
       "      <td>2.238636</td>\n",
       "      <td>1.610144</td>\n",
       "    </tr>\n",
       "    <tr>\n",
       "      <th>9</th>\n",
       "      <td>8004</td>\n",
       "      <td>z</td>\n",
       "      <td>0.769287</td>\n",
       "      <td>54.321783</td>\n",
       "      <td>-32.574026</td>\n",
       "      <td>1.028873</td>\n",
       "      <td>23.111168</td>\n",
       "      <td>2.124184</td>\n",
       "      <td>1.530438</td>\n",
       "      <td>3.500070</td>\n",
       "      <td>3.161864</td>\n",
       "    </tr>\n",
       "    <tr>\n",
       "      <th>12</th>\n",
       "      <td>8007</td>\n",
       "      <td>z</td>\n",
       "      <td>0.766362</td>\n",
       "      <td>58.658516</td>\n",
       "      <td>-31.065829</td>\n",
       "      <td>1.022500</td>\n",
       "      <td>23.110615</td>\n",
       "      <td>2.278903</td>\n",
       "      <td>2.450868</td>\n",
       "      <td>0.568090</td>\n",
       "      <td>1.089814</td>\n",
       "    </tr>\n",
       "    <tr>\n",
       "      <th>18</th>\n",
       "      <td>8048</td>\n",
       "      <td>z</td>\n",
       "      <td>0.839227</td>\n",
       "      <td>59.614086</td>\n",
       "      <td>-31.980671</td>\n",
       "      <td>1.039195</td>\n",
       "      <td>23.011508</td>\n",
       "      <td>3.233892</td>\n",
       "      <td>3.065160</td>\n",
       "      <td>1.689969</td>\n",
       "      <td>1.369090</td>\n",
       "    </tr>\n",
       "  </tbody>\n",
       "</table>\n",
       "</div>"
      ],
      "text/plain": [
       "    obsHistID filter   FWHMeff  descDitheredRA  descDitheredDec   airmass  \\\n",
       "4        6826      i  0.948814       57.488219       -29.828928  1.433173   \n",
       "6        6855      i  0.904759       59.717574       -32.698014  1.466872   \n",
       "9        8004      z  0.769287       54.321783       -32.574026  1.028873   \n",
       "12       8007      z  0.766362       58.658516       -31.065829  1.022500   \n",
       "18       8048      z  0.839227       59.614086       -31.980671  1.039195   \n",
       "\n",
       "    fiveSigmaDepth        d1        d2        d3        d4  \n",
       "4        23.547951  1.737364  2.518597  1.251475  2.215015  \n",
       "6        23.582997  3.585079  3.217060  2.238636  1.610144  \n",
       "9        23.111168  2.124184  1.530438  3.500070  3.161864  \n",
       "12       23.110615  2.278903  2.450868  0.568090  1.089814  \n",
       "18       23.011508  3.233892  3.065160  1.689969  1.369090  "
      ]
     },
     "execution_count": 40,
     "metadata": {},
     "output_type": "execute_result"
    }
   ],
   "source": [
    "Y.head()"
   ]
  },
  {
   "cell_type": "code",
   "execution_count": 42,
   "metadata": {},
   "outputs": [],
   "source": [
    "Y.to_csv('pointings_in_range.csv', index=False)"
   ]
  },
  {
   "cell_type": "code",
   "execution_count": 43,
   "metadata": {},
   "outputs": [],
   "source": [
    "import matplotlib.pyplot as plt"
   ]
  },
  {
   "cell_type": "code",
   "execution_count": 46,
   "metadata": {},
   "outputs": [
    {
     "data": {
      "text/plain": [
       "Text(0.5, 0, 'Seeing')"
      ]
     },
     "execution_count": 46,
     "metadata": {},
     "output_type": "execute_result"
    },
    {
     "data": {
      "image/png": "[encoded data removed]",
      "text/plain": [
       "<Figure size 432x288 with 2 Axes>"
      ]
     },
     "metadata": {
      "needs_background": "light"
     },
     "output_type": "display_data"
    }
   ],
   "source": [
    "fig, ax = plt.subplots(1, 2)\n",
    "_ = ax[0].hist(Y.airmass)\n",
    "_ = ax[1].hist(Y.FWHMeff)\n",
    "ax[0].set_xlabel('airmass')\n",
    "ax[1].set_xlabel('Seeing')"
   ]
  },
  {
   "cell_type": "markdown",
   "metadata": {},
   "source": [
    "Should have done this with OpSimSummary instead ... next time."
   ]
  },
  {
   "cell_type": "code",
   "execution_count": null,
   "metadata": {},
   "outputs": [],
   "source": []
  }
 ],
 "metadata": {
  "kernelspec": {
   "display_name": "desc-dia",
   "language": "python",
   "name": "desc-dia"
  },
  "language_info": {
   "codemirror_mode": {
    "name": "ipython",
    "version": 3
   },
   "file_extension": ".py",
   "mimetype": "text/x-python",
   "name": "python",
   "nbconvert_exporter": "python",
   "pygments_lexer": "ipython3",
   "version": "3.7.4"
  }
 },
 "nbformat": 4,
 "nbformat_minor": 4
}
