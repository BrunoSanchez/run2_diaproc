{
 "cells": [
  {
   "cell_type": "code",
   "execution_count": 1,
   "metadata": {},
   "outputs": [],
   "source": [
    "import os\n",
    "\n",
    "import numpy as np\n",
    "import matplotlib.pyplot as plt\n",
    "import pandas as pd\n",
    "\n",
    "%matplotlib inline"
   ]
  },
  {
   "cell_type": "code",
   "execution_count": 2,
   "metadata": {},
   "outputs": [],
   "source": [
    "from lsst.daf.persistence import Butler\n",
    "from importlib import reload"
   ]
  },
  {
   "cell_type": "code",
   "execution_count": 3,
   "metadata": {},
   "outputs": [],
   "source": [
    "import lsst.afw.geom as afwGeom\n",
    "import lsst.afw.cameraGeom\n",
    "import lsst.geom as geom\n",
    "from lsst.afw.geom import makeSkyWcs\n",
    "from lsst.obs.lsst.imsim import ImsimMapper"
   ]
  },
  {
   "cell_type": "code",
   "execution_count": 4,
   "metadata": {},
   "outputs": [],
   "source": [
    "from collections import OrderedDict as Odict"
   ]
  },
  {
   "cell_type": "code",
   "execution_count": 5,
   "metadata": {},
   "outputs": [],
   "source": [
    "#import dm_utilities as dmu"
   ]
  },
  {
   "cell_type": "code",
   "execution_count": 6,
   "metadata": {},
   "outputs": [],
   "source": [
    "calexprepo = '/global/cscratch1/sd/desc/DC2/data/Run2.1i/rerun/calexp-v1' \n",
    "b = Butler(calexprepo)\n",
    "skymap = b.get('deepCoadd_skyMap')"
   ]
  },
  {
   "cell_type": "code",
   "execution_count": 7,
   "metadata": {},
   "outputs": [],
   "source": [
    "template_repo = '/global/cscratch1/sd/bos0109/templates_rect'\n",
    "diarepo = template_repo + '/rerun/diff_rect'\n",
    "assocrepo = diarepo + '/rerun/assoc_sha'\n",
    "forcerepo = assocrepo + '/rerun/forcedPhot' \n",
    "tmprepo = template_repo + '/rerun/multiband'"
   ]
  },
  {
   "cell_type": "code",
   "execution_count": 8,
   "metadata": {},
   "outputs": [],
   "source": [
    "diabutler = Butler(forcerepo)"
   ]
  },
  {
   "cell_type": "code",
   "execution_count": 13,
   "metadata": {},
   "outputs": [
    {
     "name": "stdout",
     "output_type": "stream",
     "text": [
      "/global/u2/b/bos0109/run2_diaproc/notebooks\n"
     ]
    }
   ],
   "source": [
    "cd /global/homes/b/bos0109/run2_diaproc/notebooks"
   ]
  },
  {
   "cell_type": "code",
   "execution_count": 18,
   "metadata": {},
   "outputs": [],
   "source": [
    "truth_lightc = pd.read_csv('../lightcurves/lightcurves_cat_rect_58.0_56.0_-31.0_-32.0.csv')"
   ]
  },
  {
   "cell_type": "code",
   "execution_count": 19,
   "metadata": {},
   "outputs": [],
   "source": [
    "#sntab = pd.read_csv('./catalogs+tables/supernovae_cat_rect_58_56_-31_-32.csv')\n",
    "sntab = pd.read_csv('../results/sntab_matched.csv')\n",
    "snlcs = pd.read_csv('../lightcurves/sn_matched_lcs.csv')\n",
    "visitab = pd.read_csv('../catalogs+tables/full_t_visits_from_minion.csv')"
   ]
  },
  {
   "cell_type": "code",
   "execution_count": 20,
   "metadata": {},
   "outputs": [],
   "source": [
    "truth_lightc = truth_lightc[truth_lightc['filter']!='u']\n",
    "truth_lightc = truth_lightc[truth_lightc['filter']!='y']\n",
    "visitab = visitab[visitab['filter']!='u']\n",
    "visitab = visitab[visitab['filter']!='y']\n",
    "snlcs = snlcs[snlcs['filter']!='u']\n",
    "snlcs = snlcs[snlcs['filter']!='y']"
   ]
  },
  {
   "cell_type": "code",
   "execution_count": 21,
   "metadata": {},
   "outputs": [],
   "source": [
    "diaSrc_store = pd.HDFStore('/global/cscratch1/sd/bos0109/diaSrc_fulltables_v3.h5')\n",
    "diaSrc_store.open()\n",
    "diaSrcs_tab = diaSrc_store['matched_tab']\n",
    "basepaths = '/global/cscratch1/sd/bos0109/run2_stamps_v3'"
   ]
  },
  {
   "cell_type": "code",
   "execution_count": 22,
   "metadata": {},
   "outputs": [],
   "source": [
    "mapper = ImsimMapper()\n",
    "camera = mapper.camera\n",
    "trans = [detector.getTransform(lsst.afw.cameraGeom.cameraSys.PIXELS,\n",
    "         lsst.afw.cameraGeom.cameraSys.FIELD_ANGLE) for detector in camera]\n",
    "boxes = [detector.getBBox() for detector in camera]\n",
    "names = [detector.getName() for detector in camera]\n",
    "det_n = [detector.getId()   for detector in camera]"
   ]
  },
  {
   "cell_type": "code",
   "execution_count": 23,
   "metadata": {},
   "outputs": [],
   "source": [
    "#region  -----------------------------------------------------------------------\n",
    "stamp_path = os.path.abspath('/global/cscratch1/sd/bos0109/run2_stamps_v4/')\n",
    "skymap = diabutler.get(\"deepCoadd_skyMap\")\n"
   ]
  },
  {
   "cell_type": "code",
   "execution_count": 49,
   "metadata": {},
   "outputs": [
    {
     "data": {
      "text/plain": [
       "(array([1.661e+03, 1.630e+02, 1.170e+02, 6.500e+01, 5.700e+01, 2.500e+01,\n",
       "        1.800e+01, 1.600e+01, 1.500e+01, 1.000e+00]),\n",
       " array([ 0. ,  4.7,  9.4, 14.1, 18.8, 23.5, 28.2, 32.9, 37.6, 42.3, 47. ]),\n",
       " <a list of 10 Patch objects>)"
      ]
     },
     "execution_count": 49,
     "metadata": {},
     "output_type": "execute_result"
    },
    {
     "data": {
      "image/png": "[encoded data removed]",
      "text/plain": [
       "<Figure size 432x288 with 1 Axes>"
      ]
     },
     "metadata": {
      "needs_background": "light"
     },
     "output_type": "display_data"
    }
   ],
   "source": [
    "plt.hist(sntab.N_trueobserv)"
   ]
  },
  {
   "cell_type": "code",
   "execution_count": 57,
   "metadata": {},
   "outputs": [],
   "source": [
    "asn = sntab[sntab.N_trueobserv>20].iloc[0]"
   ]
  },
  {
   "cell_type": "code",
   "execution_count": 58,
   "metadata": {},
   "outputs": [
    {
     "data": {
      "text/plain": [
       "'MS_9172_56'"
      ]
     },
     "execution_count": 58,
     "metadata": {},
     "output_type": "execute_result"
    }
   ],
   "source": [
    "asn.snid_in"
   ]
  },
  {
   "cell_type": "code",
   "execution_count": 59,
   "metadata": {},
   "outputs": [],
   "source": [
    "ra, dec = asn.snra_in, asn.sndec_in\n",
    "sn_skyp = afwGeom.SpherePoint(ra, dec, afwGeom.degrees)"
   ]
  },
  {
   "cell_type": "code",
   "execution_count": 60,
   "metadata": {},
   "outputs": [],
   "source": [
    "lc = snlcs[snlcs.SN_id==asn.snid_in]\n",
    "lc = lc[lc.observed]\n",
    "lc = lc[lc['filter']!='y']\n",
    "lc = lc[lc['filter']!='u']"
   ]
  },
  {
   "cell_type": "code",
   "execution_count": 65,
   "metadata": {},
   "outputs": [],
   "source": [
    "lc = lc[lc.observable]"
   ]
  },
  {
   "cell_type": "code",
   "execution_count": null,
   "metadata": {},
   "outputs": [],
   "source": [
    "#sndir = os.path.join(stamp_path, f'SN_stamps/{asn.snid_in}')\n",
    "#if not os.path.exists(sndir):\n",
    "#    os.makedirs(sndir)\n",
    "#head = f'id={asn.snid_in}_z={asn.z_in}_mB={asn.mB}'\n",
    "#head += f'_x0={asn.x0_in}_x1={asn.x1_in}_c={asn.c_in}.snhead'\n",
    "#open(os.path.join(sndir, head), 'w')\n",
    "\n",
    "#coadd_id = dmu.get_coadd_id_for_ra_dec(skymap, ra, dec)"
   ]
  },
  {
   "cell_type": "code",
   "execution_count": 122,
   "metadata": {},
   "outputs": [],
   "source": [
    "visit_box = Odict()"
   ]
  },
  {
   "cell_type": "code",
   "execution_count": 123,
   "metadata": {},
   "outputs": [
    {
     "name": "stdout",
     "output_type": "stream",
     "text": [
      "sn is in dataref:  {'visit': 159481, 'filter': 'g', 'raftName': 'R12', 'detectorName': 'S11', 'detector': 49}\n",
      "3.33098 rad\n",
      "1.52471 rad\n",
      "detector that contains:  49 R12_S11\n"
     ]
    }
   ],
   "source": [
    "for afilter, flcurve in lc.groupby('filter'):\n",
    "    #fpath = os.path.join(sndir, afilter)\n",
    "    #if not os.path.exists(fpath):\n",
    "    #    os.makedirs(fpath)\n",
    "    #coadd_id['filter'] = afilter\n",
    "    stamp_title = f\"Coadd SN id={asn.snid_in} filter={afilter} \" \n",
    "\n",
    "    #coaddstamp_p = os.path.join(fpath, f'stamp_{asn.snid_in}_coadd')\n",
    "    #coadd_cutout = dmu.make_display_cutout_image(diabutler, coadd_id, \n",
    "    #    float(ra), float(dec), dataset_type='deepCoadd', title=stamp_title,\n",
    "    #    savefits=coaddstamp_p+'.fits', saveplot=coaddstamp_p+'.png')\n",
    "\n",
    "    for anepoch in flcurve.itertuples():\n",
    "        dataId = dict(visit=anepoch.visitn)\n",
    "        datarefs = list(b.subset('calexp', dataId=dataId))\n",
    "        isin_some_detector=False\n",
    "        # this circles through detectors\n",
    "        for i, dataref in enumerate(datarefs):\n",
    "            calexp = dataref.get('calexp')\n",
    "            ccd_box = afwGeom.Box2D(calexp.getBBox())\n",
    "            wcs = calexp.getWcs()\n",
    "            if ccd_box.contains(wcs.skyToPixel(sn_skyp)):\n",
    "                print('sn is in dataref: ', dataref.dataId)\n",
    "                isin_some_detector=True\n",
    "                diff_id = dataref.dataId\n",
    "                break\n",
    "            #center = wcs.pixelToSky(ccd_box.getCenter()).getPosition(afwGeom.degrees)\n",
    "        if not isin_some_detector:\n",
    "            print('no detector overlapping sn cats!') \n",
    "            continue\n",
    "        #region  ----------------------------just to find detector number---\n",
    "        if anepoch.visitn not in visit_box.keys():\n",
    "            visitf = visitab[visitab.obsHistID==anepoch.visitn]\n",
    "            if len(visitf)==0: \n",
    "                print('visit not in table')\n",
    "                continue\n",
    "            bsight = geom.SpherePoint(visitf.descDitheredRA.values[0]*geom.degrees, \n",
    "                                      visitf.descDitheredDec.values[0]*geom.degrees)\n",
    "            orient = (90-visitf.descDitheredRotTelPos.values[0])*geom.degrees\n",
    "            print(orient)\n",
    "            orient = (90-visitf.descDitheredRotSkyPos.values[0])*geom.degrees\n",
    "            print(orient)\n",
    "            wcs_list = [makeSkyWcs(t, orient, flipX=False, boresight=bsight,\n",
    "                                    projection='TAN') for t in trans]\n",
    "            visit_box[anepoch.visitn] = [bsight, orient, wcs_list]\n",
    "        else:\n",
    "            bsight, orient, wcs_list = visit_box[anepoch.visitn]\n",
    "\n",
    "        det_c = [(det, detn) for det, detn, box, wcs in zip(det_n, names, boxes, wcs_list) if \\\n",
    "                    box.contains(afwGeom.Point2I(wcs.skyToPixel(sn_skyp)))]\n",
    "        #[(det_n[i], detn[i]) for i in range(len(det_n)) if boxes[i].contains(afwGeom.Point2I(wcs_list[i].skyToPixel(sn_skyp)))]\n",
    "        #[boxes[i].contains(afwGeom.Point2I(wcs_list[i].skyToPixel(sn_skyp))) for i in range(len(det_n))]\n",
    "        if len(det_c) > 1:\n",
    "            print('more than 1 detector')\n",
    "            continue\n",
    "        elif len(det_c)==0:\n",
    "            print('no detector overlapping sn cats!') \n",
    "            continue\n",
    "        else:\n",
    "            detector, detname = det_c[0]\n",
    "            print('detector that contains: ', detector, detname)\n",
    "        break\n",
    "    break"
   ]
  },
  {
   "cell_type": "code",
   "execution_count": 124,
   "metadata": {},
   "outputs": [
    {
     "data": {
      "text/html": [
       "<div>\n",
       "<style scoped>\n",
       "    .dataframe tbody tr th:only-of-type {\n",
       "        vertical-align: middle;\n",
       "    }\n",
       "\n",
       "    .dataframe tbody tr th {\n",
       "        vertical-align: top;\n",
       "    }\n",
       "\n",
       "    .dataframe thead th {\n",
       "        text-align: right;\n",
       "    }\n",
       "</style>\n",
       "<table border=\"1\" class=\"dataframe\">\n",
       "  <thead>\n",
       "    <tr style=\"text-align: right;\">\n",
       "      <th></th>\n",
       "      <th>Unnamed: 0</th>\n",
       "      <th>obsHistID</th>\n",
       "      <th>filter</th>\n",
       "      <th>FWHMeff</th>\n",
       "      <th>descDitheredRA</th>\n",
       "      <th>descDitheredDec</th>\n",
       "      <th>descDitheredRotTelPos</th>\n",
       "      <th>airmass</th>\n",
       "      <th>fiveSigmaDepth</th>\n",
       "      <th>expMJD</th>\n",
       "      <th>descDitheredRotSkyPos</th>\n",
       "      <th>fieldRA</th>\n",
       "      <th>fieldDec</th>\n",
       "      <th>rotSkyPos</th>\n",
       "      <th>rotTelPos</th>\n",
       "      <th>d1</th>\n",
       "      <th>d2</th>\n",
       "      <th>d3</th>\n",
       "      <th>d4</th>\n",
       "    </tr>\n",
       "  </thead>\n",
       "  <tbody>\n",
       "    <tr>\n",
       "      <th>21</th>\n",
       "      <td>74</td>\n",
       "      <td>159481</td>\n",
       "      <td>g</td>\n",
       "      <td>1.132741</td>\n",
       "      <td>58.518011</td>\n",
       "      <td>-31.096941</td>\n",
       "      <td>-100.851229</td>\n",
       "      <td>1.40303</td>\n",
       "      <td>24.424993</td>\n",
       "      <td>59791.353361</td>\n",
       "      <td>2.640608</td>\n",
       "      <td>57.239515</td>\n",
       "      <td>-30.864148</td>\n",
       "      <td>59.075272</td>\n",
       "      <td>-44.065038</td>\n",
       "      <td>2.159389</td>\n",
       "      <td>2.328037</td>\n",
       "      <td>0.45426</td>\n",
       "      <td>1.005179</td>\n",
       "    </tr>\n",
       "  </tbody>\n",
       "</table>\n",
       "</div>"
      ],
      "text/plain": [
       "    Unnamed: 0  obsHistID filter   FWHMeff  descDitheredRA  descDitheredDec  \\\n",
       "21          74     159481      g  1.132741       58.518011       -31.096941   \n",
       "\n",
       "    descDitheredRotTelPos  airmass  fiveSigmaDepth        expMJD  \\\n",
       "21            -100.851229  1.40303       24.424993  59791.353361   \n",
       "\n",
       "    descDitheredRotSkyPos    fieldRA   fieldDec  rotSkyPos  rotTelPos  \\\n",
       "21               2.640608  57.239515 -30.864148  59.075272 -44.065038   \n",
       "\n",
       "          d1        d2       d3        d4  \n",
       "21  2.159389  2.328037  0.45426  1.005179  "
      ]
     },
     "execution_count": 124,
     "metadata": {},
     "output_type": "execute_result"
    }
   ],
   "source": [
    "visitf"
   ]
  },
  {
   "cell_type": "code",
   "execution_count": 125,
   "metadata": {},
   "outputs": [
    {
     "data": {
      "text/plain": [
       "[(49, 'R12_S11')]"
      ]
     },
     "execution_count": 125,
     "metadata": {},
     "output_type": "execute_result"
    }
   ],
   "source": [
    "[(det_n[i], names[i]) for i in range(len(det_n)) if boxes[i].contains(afwGeom.Point2I(wcs_list[i].skyToPixel(sn_skyp)))]"
   ]
  },
  {
   "cell_type": "code",
   "execution_count": 126,
   "metadata": {},
   "outputs": [],
   "source": [
    "cwcs = calexp.getWcs()\n",
    "det_name = calexp.getDetector().getId()"
   ]
  },
  {
   "cell_type": "code",
   "execution_count": 127,
   "metadata": {},
   "outputs": [
    {
     "data": {
      "text/plain": [
       "49"
      ]
     },
     "execution_count": 127,
     "metadata": {},
     "output_type": "execute_result"
    }
   ],
   "source": [
    "det_name"
   ]
  },
  {
   "cell_type": "code",
   "execution_count": 128,
   "metadata": {},
   "outputs": [],
   "source": [
    "dd = calexp.getDetector()"
   ]
  },
  {
   "cell_type": "code",
   "execution_count": 129,
   "metadata": {},
   "outputs": [],
   "source": [
    "orie = dd.getOrientation()"
   ]
  },
  {
   "cell_type": "code",
   "execution_count": 130,
   "metadata": {},
   "outputs": [],
   "source": [
    "info = calexp.getInfo().getVisitInfo()"
   ]
  },
  {
   "cell_type": "code",
   "execution_count": 131,
   "metadata": {},
   "outputs": [
    {
     "name": "stdout",
     "output_type": "stream",
     "text": [
      "VisitInfo(exposureId=159481049, exposureTime=30, darkTime=30, date=2022-07-31T08:29:20.390199924, UT1=nan, ERA=1.32365 rad, boresightRaDec=(58.518011, -31.096941), boresightAzAlt=(17.209515, +49.640551), boresightAirmass=1.31234, boresightRotAngle=0.046086 rad, rotType=1, observatory=-70.7494W, -30.2446N  2663, weather=Weather(nan, nan, 40))\n"
     ]
    }
   ],
   "source": [
    "print(info)"
   ]
  },
  {
   "cell_type": "code",
   "execution_count": 132,
   "metadata": {},
   "outputs": [
    {
     "data": {
      "text/plain": [
       "2.640533294639912"
      ]
     },
     "execution_count": 132,
     "metadata": {},
     "output_type": "execute_result"
    }
   ],
   "source": [
    "np.rad2deg(0.046086)"
   ]
  },
  {
   "cell_type": "code",
   "execution_count": 133,
   "metadata": {},
   "outputs": [
    {
     "data": {
      "text/plain": [
       "21    2.640608\n",
       "Name: descDitheredRotSkyPos, dtype: float64"
      ]
     },
     "execution_count": 133,
     "metadata": {},
     "output_type": "execute_result"
    }
   ],
   "source": [
    "visitf.descDitheredRotSkyPos"
   ]
  },
  {
   "cell_type": "code",
   "execution_count": 134,
   "metadata": {},
   "outputs": [
    {
     "data": {
      "text/plain": [
       "Point2D(1830.736719, 58.63713573)"
      ]
     },
     "execution_count": 134,
     "metadata": {},
     "output_type": "execute_result"
    }
   ],
   "source": [
    "cwcs.skyToPixel(sn_skyp)"
   ]
  },
  {
   "cell_type": "code",
   "execution_count": 135,
   "metadata": {},
   "outputs": [
    {
     "data": {
      "text/plain": [
       "Point2D(14500.78828, -16896.614)"
      ]
     },
     "execution_count": 135,
     "metadata": {},
     "output_type": "execute_result"
    }
   ],
   "source": [
    "wcs_list[88].skyToPixel(sn_skyp)"
   ]
  },
  {
   "cell_type": "code",
   "execution_count": 136,
   "metadata": {},
   "outputs": [
    {
     "data": {
      "text/plain": [
       "Point2D(1820.788278, 51.38600322)"
      ]
     },
     "execution_count": 136,
     "metadata": {},
     "output_type": "execute_result"
    }
   ],
   "source": [
    "wcs_list[49].skyToPixel(sn_skyp)"
   ]
  },
  {
   "cell_type": "code",
   "execution_count": null,
   "metadata": {},
   "outputs": [],
   "source": []
  },
  {
   "cell_type": "code",
   "execution_count": null,
   "metadata": {},
   "outputs": [],
   "source": []
  },
  {
   "cell_type": "code",
   "execution_count": null,
   "metadata": {},
   "outputs": [
    {
     "name": "stdout",
     "output_type": "stream",
     "text": [
      "sn is in dataref:  {'visit': 159481, 'filter': 'g', 'raftName': 'R12', 'detectorName': 'S11', 'detector': 49}\n"
     ]
    }
   ],
   "source": [
    "        #import ipdb; ipdb.set_trace()\n",
    "        #endregion ---------------------------------------------------------\n",
    "\n",
    "        #epochdir = os.path.join(fpath, f'{anepoch.visitn}')\n",
    "        #if not os.path.exists(epochdir):\n",
    "        #    os.makedirs(epochdir)\n",
    "        #head = f'mag={anepoch.mag}_id={asn.snid_in}_z={asn.z_in}_mB={asn.mB}.epochhead'\n",
    "\n",
    "        #open(os.path.join(epochdir, head), 'w')                \n",
    "        #diff_id = {}\n",
    "        #diff_id['filter'] = afilter\n",
    "        #diff_id['visit'] = int(anepoch.visitn)\n",
    "        #diff_id['detector'] = int(detector)  # int(diff_visit['detector'])\n",
    "        #diff_id['tract'] = coadd_id['tract']\n",
    "        #diff_id['patch'] = coadd_id['patch']\n",
    "\n",
    "        #stamp_title = f\"SN id={asn.snid_in} visit={anepoch.visitn} \"\n",
    "        #stamp_title +=f\"MJD = {anepoch.mjd} \\n\"\n",
    "        #stamp_title +=f\"filter={anepoch.filter} det={detector} \" \n",
    "        #stamp_title +=f\"matched: {anepoch.epoch_DIAmatch} \" \n",
    "\n",
    "        #scienstamp_p = os.path.join(epochdir, f'snid_{asn.snid_in}_mjd_{anepoch.mjd}_scien')\n",
    "        #diffstamp_p = os.path.join(epochdir, f'snid_{asn.snid_in}_mjd_{anepoch.mjd}_diff')\n",
    "        #try:\n",
    "        #    science_cutout = dmu.make_display_cutout_image(b, diff_id, \n",
    "        #        float(ra), float(dec), dataset_type='calexp', warp_to_exposure=coadd_cutout, \n",
    "        #        title='science '+stamp_title, savefits=scienstamp_p+'.fits', \n",
    "        #        saveplot=scienstamp_p+'.png')\n",
    "\n",
    "        #    cutout_diff = dmu.make_display_cutout_image(diabutler, diff_id, \n",
    "        #        float(ra), float(dec), \n",
    "        #        dataset_type='deepDiff_differenceExp', warp_to_exposure=coadd_cutout, \n",
    "        #        title='Diff '+stamp_title, savefits=diffstamp_p+'.fits', \n",
    "        #        saveplot=diffstamp_p+'.png')\n",
    "\n",
    "        #except:\n",
    "        #    print('failed the try, dataId: ', diff_id)\n",
    "        #    continue\n",
    "\n",
    "#endregion ---------------------------------------------------------------------"
   ]
  },
  {
   "cell_type": "code",
   "execution_count": null,
   "metadata": {},
   "outputs": [],
   "source": []
  }
 ],
 "metadata": {
  "kernelspec": {
   "display_name": "desc-dia",
   "language": "python",
   "name": "desc-dia"
  },
  "language_info": {
   "codemirror_mode": {
    "name": "ipython",
    "version": 3
   },
   "file_extension": ".py",
   "mimetype": "text/x-python",
   "name": "python",
   "nbconvert_exporter": "python",
   "pygments_lexer": "ipython3",
   "version": "3.7.5"
  }
 },
 "nbformat": 4,
 "nbformat_minor": 4
}
