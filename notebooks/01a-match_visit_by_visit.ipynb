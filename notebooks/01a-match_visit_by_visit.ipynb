{
 "cells": [
  {
   "cell_type": "markdown",
   "metadata": {},
   "source": [
    "# Matching detections with SN Truth Catalog\n",
    "\n",
    "## Summary\n",
    "* Loading the data\n",
    "* Defining convenient functions to unfold LightCurves\n",
    "* Initialize tables and matching distance tolerance\n",
    "* Producing the actual matching\n",
    "* Producing the plots"
   ]
  },
  {
   "cell_type": "code",
   "execution_count": 1,
   "metadata": {},
   "outputs": [],
   "source": [
    "import os\n",
    "import sqlite3"
   ]
  },
  {
   "cell_type": "code",
   "execution_count": 2,
   "metadata": {},
   "outputs": [],
   "source": [
    "os.environ['SCRATCH']='/global/cscratch1/sd/bos0109'\n",
    "SCRATCH = %env SCRATCH"
   ]
  },
  {
   "cell_type": "code",
   "execution_count": 3,
   "metadata": {},
   "outputs": [],
   "source": [
    "import numpy as np"
   ]
  },
  {
   "cell_type": "code",
   "execution_count": 4,
   "metadata": {},
   "outputs": [],
   "source": [
    "import matplotlib.pyplot as plt\n",
    "import pandas as pd"
   ]
  },
  {
   "cell_type": "code",
   "execution_count": 5,
   "metadata": {},
   "outputs": [],
   "source": [
    "%matplotlib inline"
   ]
  },
  {
   "cell_type": "code",
   "execution_count": 6,
   "metadata": {},
   "outputs": [],
   "source": [
    "from glob import glob"
   ]
  },
  {
   "cell_type": "code",
   "execution_count": 7,
   "metadata": {},
   "outputs": [],
   "source": [
    "from astropy import time\n",
    "from astropy import units as u\n",
    "from astropy.coordinates import SkyCoord\n",
    "from astropy.table import vstack"
   ]
  },
  {
   "cell_type": "markdown",
   "metadata": {},
   "source": [
    "### Loading the data\n",
    " We are loading the data from a set of files already produced and stored.\n",
    " The files contain the truth catalog for SN Ia and their parameters, as well\n",
    " a HDF5 storage container with the `diaSrc` catalogs stacked as a single table."
   ]
  },
  {
   "cell_type": "code",
   "execution_count": 8,
   "metadata": {},
   "outputs": [],
   "source": [
    "truth_lightc = pd.read_csv('../lightcurves/lightcurves_cat_rect_58.0_56.0_-31.0_-32.0.csv')\n",
    "sntab = pd.read_csv('../catalogs+tables/supernovae_cat_rect_58.0_56.0_-31.0_-32.0.csv')\n",
    "#truth_lightc = pd.read_csv('./lightcurves/lightcurves_cat_rect_58_56_-31_-32.csv')\n",
    "#sntab = pd.read_csv('./catalogs+tables/supernovae_cat_rect_58_56_-31_-32.csv')"
   ]
  },
  {
   "cell_type": "code",
   "execution_count": 9,
   "metadata": {},
   "outputs": [],
   "source": [
    "#diaSrc_store = pd.HDFStore('/global/cscratch1/sd/bos0109/diaSrc_forced_fulltables_v4.h5')\n",
    "diaSrc_store = pd.HDFStore(f'{SCRATCH}/results/diaSrc_secrun_fulltables_v4.h5')\n",
    "diaSrc_store.open()\n",
    "metacols = ['id', 'visit', 'filter', 'raftName', 'detectorName', 'detector']"
   ]
  },
  {
   "cell_type": "markdown",
   "metadata": {},
   "source": [
    "### Defining convenient functions \n",
    "\n",
    "* Dealing with the truth catalog table and the SN parameters table is best achieved if encapsulated as single functions"
   ]
  },
  {
   "cell_type": "code",
   "execution_count": 10,
   "metadata": {},
   "outputs": [],
   "source": [
    "def get_truth_LC(truth_tab, snid):\n",
    "    sffx = ('_observable', '_observed', '_flux', '_fluxErr', '_mag', '_magErr')\n",
    "    snid = str(snid)\n",
    "    colset = ['mjd', 'filter', 'visitn'] + [snid+acol for acol in sffx]\n",
    "    tab = truth_tab[colset].copy()\n",
    "    transl = {snid+acol: acol[1:] for acol in sffx}\n",
    "    tab.rename(columns=transl, inplace=True)\n",
    "    tab['snid_in'] = snid\n",
    "    return tab[tab.observable]"
   ]
  },
  {
   "cell_type": "markdown",
   "metadata": {},
   "source": [
    "* Unfold the lightcurves from the table using the above function"
   ]
  },
  {
   "cell_type": "code",
   "execution_count": 11,
   "metadata": {},
   "outputs": [],
   "source": [
    "snids = [acol.strip('_observed') for acol in truth_lightc.columns \n",
    "        if '_observed' in acol]\n",
    "lcs = []\n",
    "for asnid in snids:\n",
    "    lcs.append(get_truth_LC(truth_lightc, asnid))\n",
    "lcs = pd.concat(lcs)"
   ]
  },
  {
   "cell_type": "markdown",
   "metadata": {},
   "source": [
    "### Defining the tolerance and table lists"
   ]
  },
  {
   "cell_type": "code",
   "execution_count": 12,
   "metadata": {},
   "outputs": [],
   "source": [
    "diasrc_tab = diaSrc_store['full_table']\n",
    "\n",
    "d_tol = 2.5*u.arcsec\n",
    "lc_list = []\n",
    "visits_used = []\n",
    "diasrc_list = []\n",
    "N_matches = 0"
   ]
  },
  {
   "cell_type": "code",
   "execution_count": 13,
   "metadata": {},
   "outputs": [],
   "source": [
    "diaSrc_store.close()"
   ]
  },
  {
   "cell_type": "markdown",
   "metadata": {},
   "source": [
    "### Matching \n",
    "* Using the visit number as the grouping column in the `diaSrc` table \n",
    "* Comparing sky positions with the SN and `diaSrc` instances"
   ]
  },
  {
   "cell_type": "code",
   "execution_count": 14,
   "metadata": {},
   "outputs": [],
   "source": [
    "lcs['visit_used'] = False"
   ]
  },
  {
   "cell_type": "code",
   "execution_count": 15,
   "metadata": {},
   "outputs": [
    {
     "name": "stdout",
     "output_type": "stream",
     "text": [
      "1432\n"
     ]
    }
   ],
   "source": [
    "for avisit, atab in diasrc_tab.groupby('visit_n'):\n",
    "    # light curve row:\n",
    "    lc = lcs.loc[lcs['visitn']==avisit].copy()\n",
    "    snlist = sntab[sntab.snid_in.isin(lc.snid_in)]\n",
    "    \n",
    "    if lc.empty or snlist.empty:\n",
    "        continue\n",
    "    \n",
    "    lcs.loc[lcs['visitn']==avisit, 'visit_used'] = True\n",
    "    visits_used.append(avisit)\n",
    "    #print(avisit)\n",
    "    sncoords = SkyCoord(ra=snlist.snra_in*u.deg, dec=snlist.sndec_in*u.deg)\n",
    "\n",
    "    #srctab = atab[~atab.base_PixelFlags_flag_saturated].copy()\n",
    "    #srctab = srctab[~srctab.base_PixelFlags_flag_edge].copy()\n",
    "    #srctab = srctab[~srctab.ip_diffim_DipoleFit_flag_classification].copy()\n",
    "    srctab = atab.copy()\n",
    "    diacoords = SkyCoord(ra=srctab.coord_ra*u.rad, dec=srctab.coord_dec*u.rad)\n",
    "    \n",
    "    idx, d2d, d3d = sncoords.match_to_catalog_sky(diacoords)\n",
    "    idx_, d2d_, d3d_ = diacoords.match_to_catalog_sky(sncoords)\n",
    "\n",
    "    match = np.repeat(False, len(idx))\n",
    "    matchO = np.repeat(False, len(idx_))\n",
    "    not_matched = []\n",
    "    for i in range(len(idx)):\n",
    "        if i==idx_[idx[i]] and d2d[i]<d_tol and d2d_[idx[i]]<d_tol:\n",
    "            match[i] = True\n",
    "            matchO[idx[i]] = True\n",
    "        else:\n",
    "            not_matched.append([i, idx[i], idx_[idx[i]]])\n",
    "    not_matched = np.array(not_matched)\n",
    "    lc['matched'] = match\n",
    "    lc['match_ang_dist'] = d2d.to(u.arcsec)\n",
    "    lc['dia_row'] = idx\n",
    "    lc['dia_id'] = srctab.iloc[idx]['id'].values\n",
    "\n",
    "    srctab['cxmatch'] = matchO\n",
    "    srctab['sn_row'] = idx_\n",
    "    srctab['match_ang_dist'] = d2d_.to(u.arcsec)\n",
    "    srctab['sn_id'] = lc.iloc[idx_]['snid_in'].values\n",
    "\n",
    "    N_matches += np.sum(match)\n",
    "\n",
    "    lc_list.append(lc)\n",
    "    diasrc_list.append(srctab)\n",
    "print(N_matches)"
   ]
  },
  {
   "cell_type": "code",
   "execution_count": 16,
   "metadata": {},
   "outputs": [],
   "source": [
    "matched_lcs = pd.concat(lc_list)\n",
    "matched_diasrc = pd.concat(diasrc_list)"
   ]
  },
  {
   "cell_type": "code",
   "execution_count": 17,
   "metadata": {},
   "outputs": [
    {
     "data": {
      "text/plain": [
       "10971"
      ]
     },
     "execution_count": 17,
     "metadata": {},
     "output_type": "execute_result"
    }
   ],
   "source": [
    "len(matched_lcs)"
   ]
  },
  {
   "cell_type": "code",
   "execution_count": 18,
   "metadata": {},
   "outputs": [
    {
     "data": {
      "text/plain": [
       "1432"
      ]
     },
     "execution_count": 18,
     "metadata": {},
     "output_type": "execute_result"
    }
   ],
   "source": [
    "np.sum(matched_lcs['matched'])"
   ]
  },
  {
   "cell_type": "code",
   "execution_count": 19,
   "metadata": {},
   "outputs": [
    {
     "data": {
      "text/plain": [
       "636408"
      ]
     },
     "execution_count": 19,
     "metadata": {},
     "output_type": "execute_result"
    }
   ],
   "source": [
    "len(matched_diasrc)"
   ]
  },
  {
   "cell_type": "markdown",
   "metadata": {},
   "source": [
    "### Producing interesting plots \n",
    "* Checking the matching fraction of the `diaSrc` to truth SN lightcurves\n",
    "* Checking different parameters as proxy to the matching fraction\n",
    "    * Magnitude\n",
    "    * Signal to Noise\n",
    "    * MJDs\n",
    "    * Flux errors\n",
    "* Analyzing the matching stats \n",
    "    * angular distance\n",
    "    * Matches per filter bandpass"
   ]
  },
  {
   "cell_type": "code",
   "execution_count": 20,
   "metadata": {},
   "outputs": [
    {
     "data": {
      "image/png": "[encoded data removed]",
      "text/plain": [
       "<Figure size 432x360 with 4 Axes>"
      ]
     },
     "metadata": {
      "needs_background": "light"
     },
     "output_type": "display_data"
    }
   ],
   "source": [
    "bandpasses = ('g', 'r', 'i', 'z')\n",
    "bins=np.arange(17, 28, 0.5)\n",
    "fig, axes = plt.subplots(figsize=(6,5), nrows=2, ncols=2)\n",
    "\n",
    "for ax, band in zip(axes.flatten(), bandpasses):\n",
    "    subtab = matched_lcs.loc[matched_lcs['filter']==band]\n",
    "\n",
    "    ax.hist(subtab.mag, histtype='step', lw=1.5, color='k', bins=bins, \n",
    "            label=f'T {band}')\n",
    "\n",
    "    ax.hist(subtab[subtab.matched].mag, histtype='stepfilled', lw=1.5, \n",
    "            bins=bins, color='red', label=f'M {band}')\n",
    "    ax.set_xlabel('true magnitude')\n",
    "    ax.legend(loc='upper left')\n",
    "plt.tight_layout()\n",
    "\n",
    "#plt.savefig('matched_lcs.png')\n",
    "#plt.clf()"
   ]
  },
  {
   "cell_type": "code",
   "execution_count": 21,
   "metadata": {},
   "outputs": [
    {
     "data": {
      "image/png": "[encoded data removed]",
      "text/plain": [
       "<Figure size 432x360 with 4 Axes>"
      ]
     },
     "metadata": {
      "needs_background": "light"
     },
     "output_type": "display_data"
    }
   ],
   "source": [
    "bandpasses = ('g', 'r', 'i', 'z')\n",
    "bins=np.arange(17, 28, 0.5)\n",
    "fig, axes = plt.subplots(figsize=(6,5), nrows=2, ncols=2)\n",
    "\n",
    "for ax, band in zip(axes.flatten(), bandpasses):\n",
    "    subtab = matched_lcs.loc[matched_lcs['filter']==band]\n",
    "\n",
    "    ax.hist(subtab.mag, histtype='step', lw=1.5, color='k', bins=bins, \n",
    "            label=f'T {band}', cumulative=True)\n",
    "\n",
    "    ax.hist(subtab[subtab.matched].mag, histtype='stepfilled', lw=1.5, \n",
    "            bins=bins, color='red', label=f'M {band}', cumulative=True)\n",
    "    ax.legend(loc='upper left')\n",
    "    ax.set_xlabel('true magnitude')\n",
    "plt.tight_layout()\n",
    "#plt.savefig('matched_lcs.png')\n",
    "#plt.clf()"
   ]
  },
  {
   "cell_type": "code",
   "execution_count": 22,
   "metadata": {},
   "outputs": [
    {
     "data": {
      "text/plain": [
       "Index(['id', 'coord_ra', 'coord_dec', 'parent', 'flags_negative',\n",
       "       'base_NaiveCentroid_x', 'base_NaiveCentroid_y',\n",
       "       'base_NaiveCentroid_flag', 'base_NaiveCentroid_flag_noCounts',\n",
       "       'base_NaiveCentroid_flag_edge',\n",
       "       ...\n",
       "       'slot_Shape_psf_moments_ratio_qs', 'slot_Shape_psf_moments_quad',\n",
       "       'slot_Shape_psf_moments_diag_xx', 'slot_Shape_psf_moments_diag_yy',\n",
       "       'slot_Shape_psf_moments_diag_ratio', 'slot_Shape_psf_moments_diag_quad',\n",
       "       'cxmatch', 'sn_row', 'match_ang_dist', 'sn_id'],\n",
       "      dtype='object', length=311)"
      ]
     },
     "execution_count": 22,
     "metadata": {},
     "output_type": "execute_result"
    }
   ],
   "source": [
    "matched_diasrc.columns"
   ]
  },
  {
   "cell_type": "code",
   "execution_count": 23,
   "metadata": {},
   "outputs": [],
   "source": [
    "reals = matched_diasrc.loc[matched_diasrc['cxmatch']]"
   ]
  },
  {
   "cell_type": "code",
   "execution_count": 24,
   "metadata": {},
   "outputs": [],
   "source": [
    "SNcols = [acol for acol in reals.columns if '_SN' in acol]"
   ]
  },
  {
   "cell_type": "code",
   "execution_count": 25,
   "metadata": {},
   "outputs": [
    {
     "data": {
      "text/plain": [
       "['base_SdssShape_instFlux_SN',\n",
       " 'slot_Shape_instFlux_SN',\n",
       " 'base_CircularApertureFlux_3_0_instFlux_SN',\n",
       " 'base_CircularApertureFlux_4_5_instFlux_SN',\n",
       " 'base_CircularApertureFlux_6_0_instFlux_SN',\n",
       " 'base_CircularApertureFlux_9_0_instFlux_SN',\n",
       " 'base_CircularApertureFlux_12_0_instFlux_SN',\n",
       " 'slot_ApFlux_instFlux_SN',\n",
       " 'base_CircularApertureFlux_17_0_instFlux_SN',\n",
       " 'base_CircularApertureFlux_25_0_instFlux_SN',\n",
       " 'base_CircularApertureFlux_35_0_instFlux_SN',\n",
       " 'base_CircularApertureFlux_50_0_instFlux_SN',\n",
       " 'base_CircularApertureFlux_70_0_instFlux_SN',\n",
       " 'base_GaussianFlux_instFlux_SN',\n",
       " 'base_PeakLikelihoodFlux_instFlux_SN',\n",
       " 'base_PsfFlux_instFlux_SN',\n",
       " 'slot_PsfFlux_instFlux_SN',\n",
       " 'ip_diffim_NaiveDipoleFlux_pos_instFlux_SN',\n",
       " 'ip_diffim_NaiveDipoleFlux_neg_instFlux_SN',\n",
       " 'ip_diffim_PsfDipoleFlux_pos_instFlux_SN',\n",
       " 'ip_diffim_PsfDipoleFlux_neg_instFlux_SN',\n",
       " 'ip_diffim_DipoleFit_pos_instFlux_SN',\n",
       " 'ip_diffim_DipoleFit_neg_instFlux_SN',\n",
       " 'ip_diffim_forced_PsfFlux_instFlux_SN']"
      ]
     },
     "execution_count": 25,
     "metadata": {},
     "output_type": "execute_result"
    }
   ],
   "source": [
    "SNcols"
   ]
  },
  {
   "cell_type": "code",
   "execution_count": 38,
   "metadata": {},
   "outputs": [
    {
     "data": {
      "image/png": "[encoded data removed]",
      "text/plain": [
       "<Figure size 576x432 with 4 Axes>"
      ]
     },
     "metadata": {
      "needs_background": "light"
     },
     "output_type": "display_data"
    }
   ],
   "source": [
    "bandpasses = ('g', 'r', 'i', 'z')\n",
    "#bins=np.arange(17, 28, 0.5)\n",
    "fig, axes = plt.subplots(figsize=(8,6), nrows=2, ncols=2)\n",
    "\n",
    "for ax, band in zip(axes.flatten(), bandpasses):\n",
    "    subtab = reals.loc[reals['filter']==band]\n",
    "\n",
    "    ax.hist(subtab.base_PsfFlux_instFlux_SN, histtype='stepfilled', lw=1.5, color='red', bins=45, \n",
    "            label=f'T {band}', cumulative=False, log=False)\n",
    "    ax.hist(subtab.base_PsfFlux_instFlux_SN, histtype='step', lw=1.5, color='k', bins=45, \n",
    "            label=f'T {band}', cumulative=False, log=False)\n",
    "    ax.set_xscale('symlog')\n",
    "    #ax.hist(subtab[subtab.matched].base_PsfFlux_instFlux_SN, histtype='stepfilled', lw=1.5, \n",
    "    #        bins=bins, color='red', label=f'M {band}', cumulative=True)\n",
    "    ax.legend(loc='upper left')\n",
    "    ax.set_xlabel('S/N')\n",
    "plt.tight_layout()\n",
    "#plt.savefig('matched_lcs.png')\n",
    "#plt.clf()"
   ]
  },
  {
   "cell_type": "code",
   "execution_count": 39,
   "metadata": {},
   "outputs": [
    {
     "data": {
      "image/png": "[encoded data removed]",
      "text/plain": [
       "<Figure size 432x360 with 4 Axes>"
      ]
     },
     "metadata": {
      "needs_background": "light"
     },
     "output_type": "display_data"
    }
   ],
   "source": [
    "bandpasses = ('g', 'r', 'i', 'z')\n",
    "bins = np.logspace(0, 3, num=12)\n",
    "fig, axes = plt.subplots(figsize=(6,5), nrows=2, ncols=2)\n",
    "\n",
    "for ax, band in zip(axes.flatten(), bandpasses):\n",
    "    subtab = matched_lcs.loc[matched_lcs['filter']==band]\n",
    "\n",
    "    ax.hist(subtab.match_ang_dist, histtype='step', lw=1.5, color='k', bins=bins, \n",
    "            label=f'T ({band})')\n",
    "\n",
    "    ax.hist(subtab[subtab.matched].match_ang_dist, histtype='stepfilled', lw=1.5, \n",
    "            bins=bins, color='red', label=f'M ({band})')\n",
    "    ax.legend(loc='upper left')\n",
    "    ax.set_xscale('log')\n",
    "    ax.set_xlabel('match angular distance')\n",
    "plt.tight_layout()"
   ]
  },
  {
   "cell_type": "code",
   "execution_count": 40,
   "metadata": {},
   "outputs": [
    {
     "data": {
      "image/png": "[encoded data removed]",
      "text/plain": [
       "<Figure size 432x360 with 4 Axes>"
      ]
     },
     "metadata": {
      "needs_background": "light"
     },
     "output_type": "display_data"
    }
   ],
   "source": [
    "bandpasses = ('g', 'r', 'i', 'z')\n",
    "bins = np.linspace(59580, 60700, num=15)\n",
    "fig, axes = plt.subplots(figsize=(6,5), nrows=2, ncols=2)\n",
    "\n",
    "for ax, band in zip(axes.flatten(), bandpasses):\n",
    "    subtab = matched_lcs.loc[matched_lcs['filter']==band]\n",
    "\n",
    "    ax.hist(subtab.mjd, histtype='step', lw=1.5, color='k', bins=bins, \n",
    "            label=f'T ({band})')\n",
    "\n",
    "    ax.hist(subtab[subtab.matched].mjd, histtype='stepfilled', lw=1.5, \n",
    "            bins=bins, color='red', label=f'M ({band})')\n",
    "    ax.legend(loc='upper left')\n",
    "    ax.set_xscale('log')\n",
    "plt.tight_layout()"
   ]
  },
  {
   "cell_type": "code",
   "execution_count": 41,
   "metadata": {},
   "outputs": [
    {
     "data": {
      "text/plain": [
       "Index(['mjd', 'filter', 'visitn', 'observable', 'observed', 'flux', 'fluxErr',\n",
       "       'mag', 'magErr', 'snid_in', 'visit_used', 'matched', 'match_ang_dist',\n",
       "       'dia_row', 'dia_id'],\n",
       "      dtype='object')"
      ]
     },
     "execution_count": 41,
     "metadata": {},
     "output_type": "execute_result"
    }
   ],
   "source": [
    "matched_lcs.columns"
   ]
  },
  {
   "cell_type": "code",
   "execution_count": 42,
   "metadata": {},
   "outputs": [
    {
     "data": {
      "image/png": "[encoded data removed]",
      "text/plain": [
       "<Figure size 432x360 with 4 Axes>"
      ]
     },
     "metadata": {
      "needs_background": "light"
     },
     "output_type": "display_data"
    }
   ],
   "source": [
    "bandpasses = ('g', 'r', 'i', 'z')\n",
    "bins = np.logspace(-21, -7.5, num=18)\n",
    "fig, axes = plt.subplots(figsize=(6,5), nrows=2, ncols=2)\n",
    "\n",
    "for ax, band in zip(axes.flatten(), bandpasses):\n",
    "    subtab = matched_lcs.loc[matched_lcs['filter']==band]\n",
    "\n",
    "    ax.hist(subtab.flux, histtype='step', lw=1.5, color='k', bins=bins, \n",
    "            label=f'T ({band})')\n",
    "\n",
    "    ax.hist(subtab[subtab.matched].flux, histtype='stepfilled', lw=1.5, \n",
    "            bins=bins, color='red', label=f'M ({band})')\n",
    "    ax.legend(loc='upper left')\n",
    "    ax.set_xlabel('Flux')\n",
    "    ax.set_xscale('log')\n",
    "plt.tight_layout()"
   ]
  },
  {
   "cell_type": "code",
   "execution_count": 43,
   "metadata": {},
   "outputs": [
    {
     "data": {
      "image/png": "[encoded data removed]",
      "text/plain": [
       "<Figure size 432x360 with 4 Axes>"
      ]
     },
     "metadata": {
      "needs_background": "light"
     },
     "output_type": "display_data"
    }
   ],
   "source": [
    "bandpasses = ('g', 'r', 'i', 'z')\n",
    "bins = np.logspace(-11, -9.5, num=18)\n",
    "fig, axes = plt.subplots(figsize=(6,5), nrows=2, ncols=2)\n",
    "\n",
    "for ax, band in zip(axes.flatten(), bandpasses):\n",
    "    subtab = matched_lcs.loc[matched_lcs['filter']==band]\n",
    "\n",
    "    ax.hist(subtab.fluxErr, histtype='step', lw=1.5, color='k', bins=bins, \n",
    "            label=f'T ({band})')\n",
    "\n",
    "    ax.hist(subtab[subtab.matched].fluxErr, histtype='stepfilled', lw=1.5, \n",
    "            bins=bins, color='red', label=f'M ({band})')\n",
    "    ax.legend(loc='best')\n",
    "    ax.set_xlabel('FluxErr')\n",
    "    ax.set_xscale('log')\n",
    "plt.tight_layout()"
   ]
  },
  {
   "cell_type": "code",
   "execution_count": 44,
   "metadata": {},
   "outputs": [
    {
     "data": {
      "image/png": "[encoded data removed]",
      "text/plain": [
       "<Figure size 432x360 with 4 Axes>"
      ]
     },
     "metadata": {
      "needs_background": "light"
     },
     "output_type": "display_data"
    }
   ],
   "source": [
    "bandpasses = ('g', 'r', 'i', 'z')\n",
    "bins = np.linspace(1500, 750000, num=10)\n",
    "fig, axes = plt.subplots(figsize=(6,5), nrows=2, ncols=2)\n",
    "\n",
    "for ax, band in zip(axes.flatten(), bandpasses):\n",
    "    subtab = matched_lcs.loc[matched_lcs['filter']==band]\n",
    "\n",
    "    ax.hist(subtab.visitn, histtype='step', lw=1.5, color='k', bins=bins, \n",
    "            label=f'T ({band})')\n",
    "\n",
    "    ax.hist(subtab[subtab.matched].visitn, histtype='stepfilled', lw=1.5, \n",
    "            bins=bins, color='red', label=f'M ({band})')\n",
    "    ax.legend(loc='best')\n",
    "    ax.set_xlabel('visit N')\n",
    "    ax.set_xscale('linear')\n",
    "plt.tight_layout()"
   ]
  },
  {
   "cell_type": "code",
   "execution_count": 45,
   "metadata": {},
   "outputs": [
    {
     "data": {
      "text/html": [
       "<div>\n",
       "<style scoped>\n",
       "    .dataframe tbody tr th:only-of-type {\n",
       "        vertical-align: middle;\n",
       "    }\n",
       "\n",
       "    .dataframe tbody tr th {\n",
       "        vertical-align: top;\n",
       "    }\n",
       "\n",
       "    .dataframe thead th {\n",
       "        text-align: right;\n",
       "    }\n",
       "</style>\n",
       "<table border=\"1\" class=\"dataframe\">\n",
       "  <thead>\n",
       "    <tr style=\"text-align: right;\">\n",
       "      <th></th>\n",
       "      <th>mjd</th>\n",
       "      <th>visitn</th>\n",
       "      <th>flux</th>\n",
       "      <th>fluxErr</th>\n",
       "      <th>mag</th>\n",
       "      <th>magErr</th>\n",
       "      <th>match_ang_dist</th>\n",
       "      <th>dia_row</th>\n",
       "      <th>dia_id</th>\n",
       "    </tr>\n",
       "  </thead>\n",
       "  <tbody>\n",
       "    <tr>\n",
       "      <th>count</th>\n",
       "      <td>10971.000000</td>\n",
       "      <td>10971.000000</td>\n",
       "      <td>1.097100e+04</td>\n",
       "      <td>1.097100e+04</td>\n",
       "      <td>10971.000000</td>\n",
       "      <td>10971.000000</td>\n",
       "      <td>10971.000000</td>\n",
       "      <td>10971.000000</td>\n",
       "      <td>1.097100e+04</td>\n",
       "    </tr>\n",
       "    <tr>\n",
       "      <th>mean</th>\n",
       "      <td>60194.367468</td>\n",
       "      <td>425989.469511</td>\n",
       "      <td>1.850996e-10</td>\n",
       "      <td>7.890560e-11</td>\n",
       "      <td>26.297250</td>\n",
       "      <td>1.667140</td>\n",
       "      <td>47.452533</td>\n",
       "      <td>1271.720992</td>\n",
       "      <td>2.858768e+16</td>\n",
       "    </tr>\n",
       "    <tr>\n",
       "      <th>std</th>\n",
       "      <td>284.902091</td>\n",
       "      <td>185803.977292</td>\n",
       "      <td>4.793894e-10</td>\n",
       "      <td>5.473531e-11</td>\n",
       "      <td>2.780347</td>\n",
       "      <td>1.989267</td>\n",
       "      <td>40.210840</td>\n",
       "      <td>1245.735706</td>\n",
       "      <td>1.246909e+16</td>\n",
       "    </tr>\n",
       "    <tr>\n",
       "      <th>min</th>\n",
       "      <td>59589.200927</td>\n",
       "      <td>6826.000000</td>\n",
       "      <td>6.638158e-21</td>\n",
       "      <td>1.434397e-11</td>\n",
       "      <td>19.855938</td>\n",
       "      <td>0.007867</td>\n",
       "      <td>0.001487</td>\n",
       "      <td>0.000000</td>\n",
       "      <td>4.580965e+14</td>\n",
       "    </tr>\n",
       "    <tr>\n",
       "      <th>25%</th>\n",
       "      <td>59887.187640</td>\n",
       "      <td>227918.000000</td>\n",
       "      <td>8.764920e-12</td>\n",
       "      <td>3.744822e-11</td>\n",
       "      <td>24.375799</td>\n",
       "      <td>0.391296</td>\n",
       "      <td>18.050716</td>\n",
       "      <td>405.000000</td>\n",
       "      <td>1.529533e+16</td>\n",
       "    </tr>\n",
       "    <tr>\n",
       "      <th>50%</th>\n",
       "      <td>60201.256555</td>\n",
       "      <td>433989.000000</td>\n",
       "      <td>4.414218e-11</td>\n",
       "      <td>5.918186e-11</td>\n",
       "      <td>25.887866</td>\n",
       "      <td>1.030063</td>\n",
       "      <td>39.625730</td>\n",
       "      <td>884.000000</td>\n",
       "      <td>2.912452e+16</td>\n",
       "    </tr>\n",
       "    <tr>\n",
       "      <th>75%</th>\n",
       "      <td>60530.342606</td>\n",
       "      <td>637849.000000</td>\n",
       "      <td>1.776972e-10</td>\n",
       "      <td>1.005742e-10</td>\n",
       "      <td>27.643130</td>\n",
       "      <td>2.278055</td>\n",
       "      <td>68.002891</td>\n",
       "      <td>1693.000000</td>\n",
       "      <td>4.280533e+16</td>\n",
       "    </tr>\n",
       "    <tr>\n",
       "      <th>max</th>\n",
       "      <td>60661.175194</td>\n",
       "      <td>731791.000000</td>\n",
       "      <td>1.141892e-08</td>\n",
       "      <td>2.775778e-10</td>\n",
       "      <td>50.444881</td>\n",
       "      <td>24.221286</td>\n",
       "      <td>338.390830</td>\n",
       "      <td>9731.000000</td>\n",
       "      <td>4.910966e+16</td>\n",
       "    </tr>\n",
       "  </tbody>\n",
       "</table>\n",
       "</div>"
      ],
      "text/plain": [
       "                mjd         visitn          flux       fluxErr           mag  \\\n",
       "count  10971.000000   10971.000000  1.097100e+04  1.097100e+04  10971.000000   \n",
       "mean   60194.367468  425989.469511  1.850996e-10  7.890560e-11     26.297250   \n",
       "std      284.902091  185803.977292  4.793894e-10  5.473531e-11      2.780347   \n",
       "min    59589.200927    6826.000000  6.638158e-21  1.434397e-11     19.855938   \n",
       "25%    59887.187640  227918.000000  8.764920e-12  3.744822e-11     24.375799   \n",
       "50%    60201.256555  433989.000000  4.414218e-11  5.918186e-11     25.887866   \n",
       "75%    60530.342606  637849.000000  1.776972e-10  1.005742e-10     27.643130   \n",
       "max    60661.175194  731791.000000  1.141892e-08  2.775778e-10     50.444881   \n",
       "\n",
       "             magErr  match_ang_dist       dia_row        dia_id  \n",
       "count  10971.000000    10971.000000  10971.000000  1.097100e+04  \n",
       "mean       1.667140       47.452533   1271.720992  2.858768e+16  \n",
       "std        1.989267       40.210840   1245.735706  1.246909e+16  \n",
       "min        0.007867        0.001487      0.000000  4.580965e+14  \n",
       "25%        0.391296       18.050716    405.000000  1.529533e+16  \n",
       "50%        1.030063       39.625730    884.000000  2.912452e+16  \n",
       "75%        2.278055       68.002891   1693.000000  4.280533e+16  \n",
       "max       24.221286      338.390830   9731.000000  4.910966e+16  "
      ]
     },
     "execution_count": 45,
     "metadata": {},
     "output_type": "execute_result"
    }
   ],
   "source": [
    "matched_lcs.describe()"
   ]
  },
  {
   "cell_type": "code",
   "execution_count": 46,
   "metadata": {},
   "outputs": [],
   "source": [
    "rows = []\n",
    "for ivisit, subset in matched_lcs.groupby('visitn'):\n",
    "    #print(str(ivisit).zfill(6), np.sum(subset.matched), str(len(subset)).zfill(2), f'{np.sum(subset.matched)/len(subset):.3}')\n",
    "    rows.append([ivisit, np.sum(subset.matched), len(subset), np.sum(subset.matched)/len(subset), subset['filter'].values[0]])\n",
    "summ = pd.DataFrame(data=rows, columns=['visitn', 'n_matches', 'total', 'fraction', 'bandpass'])"
   ]
  },
  {
   "cell_type": "code",
   "execution_count": 47,
   "metadata": {},
   "outputs": [
    {
     "data": {
      "text/plain": [
       "331"
      ]
     },
     "execution_count": 47,
     "metadata": {},
     "output_type": "execute_result"
    }
   ],
   "source": [
    "len(summ)"
   ]
  },
  {
   "cell_type": "code",
   "execution_count": 48,
   "metadata": {},
   "outputs": [
    {
     "name": "stdout",
     "output_type": "stream",
     "text": [
      "Bandpass g \n",
      "              visitn  n_matches      total   fraction\n",
      "count      43.00000  43.000000  43.000000  43.000000\n",
      "mean   408819.44186   5.232558  34.093023   0.140606\n",
      "std    201107.07931   5.340043  19.575025   0.127322\n",
      "min    159479.00000   0.000000   1.000000   0.000000\n",
      "25%    193825.00000   1.500000  20.000000   0.053660\n",
      "50%    400390.00000   4.000000  34.000000   0.115385\n",
      "75%    635788.50000   7.000000  48.000000   0.188345\n",
      "max    697990.00000  19.000000  69.000000   0.447368 \n",
      "\n",
      "\n",
      "Bandpass i \n",
      "               visitn   n_matches       total    fraction\n",
      "count     108.000000  108.000000  108.000000  108.000000\n",
      "mean   440555.046296    4.675926   36.712963    0.134834\n",
      "std    192843.116402    4.423448   23.292954    0.131006\n",
      "min      6826.000000    0.000000    1.000000    0.000000\n",
      "25%    239998.250000    2.000000   16.750000    0.063497\n",
      "50%    435658.500000    3.000000   35.000000    0.096332\n",
      "75%    654465.250000    7.000000   55.000000    0.169727\n",
      "max    731791.000000   20.000000   84.000000    1.000000 \n",
      "\n",
      "\n",
      "Bandpass r \n",
      "               visitn   n_matches       total    fraction\n",
      "count     102.000000  102.000000  102.000000  102.000000\n",
      "mean   426081.578431    6.176471   33.264706    0.167735\n",
      "std    191500.480898    5.138501   21.250941    0.101200\n",
      "min    181868.000000    0.000000    1.000000    0.000000\n",
      "25%    219947.500000    2.000000   13.250000    0.111111\n",
      "50%    440978.500000    5.000000   31.000000    0.166667\n",
      "75%    638920.500000   10.000000   50.750000    0.233140\n",
      "max    722481.000000   21.000000   72.000000    0.461538 \n",
      "\n",
      "\n",
      "Bandpass z \n",
      "               visitn  n_matches      total   fraction\n",
      "count      78.000000  78.000000  78.000000  78.000000\n",
      "mean   401414.371795   0.923077  27.525641   0.041543\n",
      "std    219741.228188   1.125492  22.438212   0.075760\n",
      "min      8004.000000   0.000000   1.000000   0.000000\n",
      "25%    226985.250000   0.000000   6.250000   0.000000\n",
      "50%    427084.500000   1.000000  18.500000   0.016391\n",
      "75%    538447.500000   1.000000  48.750000   0.052294\n",
      "max    729437.000000   4.000000  74.000000   0.400000 \n",
      "\n",
      "\n"
     ]
    }
   ],
   "source": [
    "for band, subtab in summ.groupby('bandpass'):\n",
    "    print(f'Bandpass {band} \\n', subtab.describe(), '\\n\\n')"
   ]
  },
  {
   "cell_type": "markdown",
   "metadata": {},
   "source": [
    "------"
   ]
  },
  {
   "cell_type": "code",
   "execution_count": 49,
   "metadata": {},
   "outputs": [
    {
     "data": {
      "text/plain": [
       "Index(['id', 'coord_ra', 'coord_dec', 'parent', 'flags_negative',\n",
       "       'base_NaiveCentroid_x', 'base_NaiveCentroid_y',\n",
       "       'base_NaiveCentroid_flag', 'base_NaiveCentroid_flag_noCounts',\n",
       "       'base_NaiveCentroid_flag_edge',\n",
       "       ...\n",
       "       'slot_Shape_psf_moments_ratio_qs', 'slot_Shape_psf_moments_quad',\n",
       "       'slot_Shape_psf_moments_diag_xx', 'slot_Shape_psf_moments_diag_yy',\n",
       "       'slot_Shape_psf_moments_diag_ratio', 'slot_Shape_psf_moments_diag_quad',\n",
       "       'cxmatch', 'sn_row', 'match_ang_dist', 'sn_id'],\n",
       "      dtype='object', length=311)"
      ]
     },
     "execution_count": 49,
     "metadata": {},
     "output_type": "execute_result"
    }
   ],
   "source": [
    "matched_diasrc.columns"
   ]
  },
  {
   "cell_type": "code",
   "execution_count": 50,
   "metadata": {},
   "outputs": [
    {
     "data": {
      "text/html": [
       "<div>\n",
       "<style scoped>\n",
       "    .dataframe tbody tr th:only-of-type {\n",
       "        vertical-align: middle;\n",
       "    }\n",
       "\n",
       "    .dataframe tbody tr th {\n",
       "        vertical-align: top;\n",
       "    }\n",
       "\n",
       "    .dataframe thead th {\n",
       "        text-align: right;\n",
       "    }\n",
       "</style>\n",
       "<table border=\"1\" class=\"dataframe\">\n",
       "  <thead>\n",
       "    <tr style=\"text-align: right;\">\n",
       "      <th></th>\n",
       "      <th>id</th>\n",
       "      <th>coord_ra</th>\n",
       "      <th>coord_dec</th>\n",
       "      <th>parent</th>\n",
       "      <th>base_NaiveCentroid_x</th>\n",
       "      <th>base_NaiveCentroid_y</th>\n",
       "      <th>base_PeakCentroid_x</th>\n",
       "      <th>base_PeakCentroid_y</th>\n",
       "      <th>base_SdssCentroid_x</th>\n",
       "      <th>base_SdssCentroid_y</th>\n",
       "      <th>...</th>\n",
       "      <th>slot_PsfShape_moments_diag_ratio</th>\n",
       "      <th>slot_PsfShape_moments_diag_quad</th>\n",
       "      <th>slot_Shape_psf_moments_ratio_qs</th>\n",
       "      <th>slot_Shape_psf_moments_quad</th>\n",
       "      <th>slot_Shape_psf_moments_diag_xx</th>\n",
       "      <th>slot_Shape_psf_moments_diag_yy</th>\n",
       "      <th>slot_Shape_psf_moments_diag_ratio</th>\n",
       "      <th>slot_Shape_psf_moments_diag_quad</th>\n",
       "      <th>sn_row</th>\n",
       "      <th>match_ang_dist</th>\n",
       "    </tr>\n",
       "  </thead>\n",
       "  <tbody>\n",
       "    <tr>\n",
       "      <th>count</th>\n",
       "      <td>6.364080e+05</td>\n",
       "      <td>636408.000000</td>\n",
       "      <td>636408.000000</td>\n",
       "      <td>636408.0</td>\n",
       "      <td>636408.000000</td>\n",
       "      <td>636408.000000</td>\n",
       "      <td>636408.000000</td>\n",
       "      <td>636408.000000</td>\n",
       "      <td>636408.000000</td>\n",
       "      <td>636408.000000</td>\n",
       "      <td>...</td>\n",
       "      <td>636407.000000</td>\n",
       "      <td>636407.000000</td>\n",
       "      <td>636407.000000</td>\n",
       "      <td>636407.000000</td>\n",
       "      <td>636407.000000</td>\n",
       "      <td>636407.000000</td>\n",
       "      <td>636407.000000</td>\n",
       "      <td>636407.000000</td>\n",
       "      <td>636408.000000</td>\n",
       "      <td>636408.000000</td>\n",
       "    </tr>\n",
       "    <tr>\n",
       "      <th>mean</th>\n",
       "      <td>3.261327e+16</td>\n",
       "      <td>0.993370</td>\n",
       "      <td>-0.549664</td>\n",
       "      <td>0.0</td>\n",
       "      <td>2037.343905</td>\n",
       "      <td>1984.234818</td>\n",
       "      <td>2037.708787</td>\n",
       "      <td>1984.524520</td>\n",
       "      <td>2037.664048</td>\n",
       "      <td>1984.371608</td>\n",
       "      <td>...</td>\n",
       "      <td>1.064917</td>\n",
       "      <td>123.577704</td>\n",
       "      <td>0.986902</td>\n",
       "      <td>30.875175</td>\n",
       "      <td>7.536123</td>\n",
       "      <td>7.098830</td>\n",
       "      <td>1.064917</td>\n",
       "      <td>123.577704</td>\n",
       "      <td>22.203965</td>\n",
       "      <td>411.149886</td>\n",
       "    </tr>\n",
       "    <tr>\n",
       "      <th>std</th>\n",
       "      <td>1.257564e+16</td>\n",
       "      <td>0.011213</td>\n",
       "      <td>0.006187</td>\n",
       "      <td>0.0</td>\n",
       "      <td>1168.559480</td>\n",
       "      <td>1148.065988</td>\n",
       "      <td>1168.537137</td>\n",
       "      <td>1148.061364</td>\n",
       "      <td>1168.410183</td>\n",
       "      <td>1148.073253</td>\n",
       "      <td>...</td>\n",
       "      <td>0.082933</td>\n",
       "      <td>105.793711</td>\n",
       "      <td>0.066412</td>\n",
       "      <td>26.442259</td>\n",
       "      <td>2.931956</td>\n",
       "      <td>2.791923</td>\n",
       "      <td>0.082933</td>\n",
       "      <td>105.793711</td>\n",
       "      <td>16.772552</td>\n",
       "      <td>285.401477</td>\n",
       "    </tr>\n",
       "    <tr>\n",
       "      <th>min</th>\n",
       "      <td>4.580950e+14</td>\n",
       "      <td>0.973496</td>\n",
       "      <td>-0.560234</td>\n",
       "      <td>0.0</td>\n",
       "      <td>10.197740</td>\n",
       "      <td>-88.828377</td>\n",
       "      <td>14.000000</td>\n",
       "      <td>14.000000</td>\n",
       "      <td>8.179040</td>\n",
       "      <td>-88.828377</td>\n",
       "      <td>...</td>\n",
       "      <td>1.000119</td>\n",
       "      <td>20.162035</td>\n",
       "      <td>0.545226</td>\n",
       "      <td>5.039769</td>\n",
       "      <td>3.211911</td>\n",
       "      <td>1.364317</td>\n",
       "      <td>1.000119</td>\n",
       "      <td>20.162035</td>\n",
       "      <td>0.000000</td>\n",
       "      <td>0.001487</td>\n",
       "    </tr>\n",
       "    <tr>\n",
       "      <th>25%</th>\n",
       "      <td>2.686751e+16</td>\n",
       "      <td>0.983799</td>\n",
       "      <td>-0.554871</td>\n",
       "      <td>0.0</td>\n",
       "      <td>1028.879630</td>\n",
       "      <td>990.775023</td>\n",
       "      <td>1029.000000</td>\n",
       "      <td>991.000000</td>\n",
       "      <td>1029.178881</td>\n",
       "      <td>990.903931</td>\n",
       "      <td>...</td>\n",
       "      <td>1.022428</td>\n",
       "      <td>53.220617</td>\n",
       "      <td>0.973608</td>\n",
       "      <td>13.260716</td>\n",
       "      <td>5.367239</td>\n",
       "      <td>4.819740</td>\n",
       "      <td>1.022428</td>\n",
       "      <td>53.220617</td>\n",
       "      <td>8.000000</td>\n",
       "      <td>212.883276</td>\n",
       "    </tr>\n",
       "    <tr>\n",
       "      <th>50%</th>\n",
       "      <td>3.115101e+16</td>\n",
       "      <td>0.993067</td>\n",
       "      <td>-0.549764</td>\n",
       "      <td>0.0</td>\n",
       "      <td>2039.188865</td>\n",
       "      <td>1974.237061</td>\n",
       "      <td>2040.000000</td>\n",
       "      <td>1975.000000</td>\n",
       "      <td>2039.613106</td>\n",
       "      <td>1974.583742</td>\n",
       "      <td>...</td>\n",
       "      <td>1.039096</td>\n",
       "      <td>93.443679</td>\n",
       "      <td>0.997107</td>\n",
       "      <td>23.348531</td>\n",
       "      <td>6.986657</td>\n",
       "      <td>6.648051</td>\n",
       "      <td>1.039096</td>\n",
       "      <td>93.443679</td>\n",
       "      <td>19.000000</td>\n",
       "      <td>349.775478</td>\n",
       "    </tr>\n",
       "    <tr>\n",
       "      <th>75%</th>\n",
       "      <td>4.541908e+16</td>\n",
       "      <td>1.002745</td>\n",
       "      <td>-0.544489</td>\n",
       "      <td>0.0</td>\n",
       "      <td>3046.045653</td>\n",
       "      <td>2975.269302</td>\n",
       "      <td>3046.000000</td>\n",
       "      <td>2976.000000</td>\n",
       "      <td>3046.061076</td>\n",
       "      <td>2975.675864</td>\n",
       "      <td>...</td>\n",
       "      <td>1.065424</td>\n",
       "      <td>137.253979</td>\n",
       "      <td>1.019773</td>\n",
       "      <td>34.231849</td>\n",
       "      <td>8.600358</td>\n",
       "      <td>8.017268</td>\n",
       "      <td>1.065424</td>\n",
       "      <td>137.253979</td>\n",
       "      <td>34.000000</td>\n",
       "      <td>539.452034</td>\n",
       "    </tr>\n",
       "    <tr>\n",
       "      <th>max</th>\n",
       "      <td>4.910967e+16</td>\n",
       "      <td>1.014813</td>\n",
       "      <td>-0.537942</td>\n",
       "      <td>0.0</td>\n",
       "      <td>4060.368754</td>\n",
       "      <td>4032.468262</td>\n",
       "      <td>4057.000000</td>\n",
       "      <td>3985.000000</td>\n",
       "      <td>4067.090576</td>\n",
       "      <td>4032.468262</td>\n",
       "      <td>...</td>\n",
       "      <td>10.061156</td>\n",
       "      <td>874.010915</td>\n",
       "      <td>1.344573</td>\n",
       "      <td>218.104779</td>\n",
       "      <td>21.799305</td>\n",
       "      <td>19.996379</td>\n",
       "      <td>10.061156</td>\n",
       "      <td>874.010915</td>\n",
       "      <td>83.000000</td>\n",
       "      <td>3539.139321</td>\n",
       "    </tr>\n",
       "  </tbody>\n",
       "</table>\n",
       "<p>8 rows × 203 columns</p>\n",
       "</div>"
      ],
      "text/plain": [
       "                 id       coord_ra      coord_dec    parent  \\\n",
       "count  6.364080e+05  636408.000000  636408.000000  636408.0   \n",
       "mean   3.261327e+16       0.993370      -0.549664       0.0   \n",
       "std    1.257564e+16       0.011213       0.006187       0.0   \n",
       "min    4.580950e+14       0.973496      -0.560234       0.0   \n",
       "25%    2.686751e+16       0.983799      -0.554871       0.0   \n",
       "50%    3.115101e+16       0.993067      -0.549764       0.0   \n",
       "75%    4.541908e+16       1.002745      -0.544489       0.0   \n",
       "max    4.910967e+16       1.014813      -0.537942       0.0   \n",
       "\n",
       "       base_NaiveCentroid_x  base_NaiveCentroid_y  base_PeakCentroid_x  \\\n",
       "count         636408.000000         636408.000000        636408.000000   \n",
       "mean            2037.343905           1984.234818          2037.708787   \n",
       "std             1168.559480           1148.065988          1168.537137   \n",
       "min               10.197740            -88.828377            14.000000   \n",
       "25%             1028.879630            990.775023          1029.000000   \n",
       "50%             2039.188865           1974.237061          2040.000000   \n",
       "75%             3046.045653           2975.269302          3046.000000   \n",
       "max             4060.368754           4032.468262          4057.000000   \n",
       "\n",
       "       base_PeakCentroid_y  base_SdssCentroid_x  base_SdssCentroid_y  ...  \\\n",
       "count        636408.000000        636408.000000        636408.000000  ...   \n",
       "mean           1984.524520          2037.664048          1984.371608  ...   \n",
       "std            1148.061364          1168.410183          1148.073253  ...   \n",
       "min              14.000000             8.179040           -88.828377  ...   \n",
       "25%             991.000000          1029.178881           990.903931  ...   \n",
       "50%            1975.000000          2039.613106          1974.583742  ...   \n",
       "75%            2976.000000          3046.061076          2975.675864  ...   \n",
       "max            3985.000000          4067.090576          4032.468262  ...   \n",
       "\n",
       "       slot_PsfShape_moments_diag_ratio  slot_PsfShape_moments_diag_quad  \\\n",
       "count                     636407.000000                    636407.000000   \n",
       "mean                           1.064917                       123.577704   \n",
       "std                            0.082933                       105.793711   \n",
       "min                            1.000119                        20.162035   \n",
       "25%                            1.022428                        53.220617   \n",
       "50%                            1.039096                        93.443679   \n",
       "75%                            1.065424                       137.253979   \n",
       "max                           10.061156                       874.010915   \n",
       "\n",
       "       slot_Shape_psf_moments_ratio_qs  slot_Shape_psf_moments_quad  \\\n",
       "count                    636407.000000                636407.000000   \n",
       "mean                          0.986902                    30.875175   \n",
       "std                           0.066412                    26.442259   \n",
       "min                           0.545226                     5.039769   \n",
       "25%                           0.973608                    13.260716   \n",
       "50%                           0.997107                    23.348531   \n",
       "75%                           1.019773                    34.231849   \n",
       "max                           1.344573                   218.104779   \n",
       "\n",
       "       slot_Shape_psf_moments_diag_xx  slot_Shape_psf_moments_diag_yy  \\\n",
       "count                   636407.000000                   636407.000000   \n",
       "mean                         7.536123                        7.098830   \n",
       "std                          2.931956                        2.791923   \n",
       "min                          3.211911                        1.364317   \n",
       "25%                          5.367239                        4.819740   \n",
       "50%                          6.986657                        6.648051   \n",
       "75%                          8.600358                        8.017268   \n",
       "max                         21.799305                       19.996379   \n",
       "\n",
       "       slot_Shape_psf_moments_diag_ratio  slot_Shape_psf_moments_diag_quad  \\\n",
       "count                      636407.000000                     636407.000000   \n",
       "mean                            1.064917                        123.577704   \n",
       "std                             0.082933                        105.793711   \n",
       "min                             1.000119                         20.162035   \n",
       "25%                             1.022428                         53.220617   \n",
       "50%                             1.039096                         93.443679   \n",
       "75%                             1.065424                        137.253979   \n",
       "max                            10.061156                        874.010915   \n",
       "\n",
       "              sn_row  match_ang_dist  \n",
       "count  636408.000000   636408.000000  \n",
       "mean       22.203965      411.149886  \n",
       "std        16.772552      285.401477  \n",
       "min         0.000000        0.001487  \n",
       "25%         8.000000      212.883276  \n",
       "50%        19.000000      349.775478  \n",
       "75%        34.000000      539.452034  \n",
       "max        83.000000     3539.139321  \n",
       "\n",
       "[8 rows x 203 columns]"
      ]
     },
     "execution_count": 50,
     "metadata": {},
     "output_type": "execute_result"
    }
   ],
   "source": [
    "matched_diasrc.describe()"
   ]
  },
  {
   "cell_type": "markdown",
   "metadata": {},
   "source": [
    "-----\n",
    "### Storing datasets\n",
    "\n",
    "* Storing the datasets as three tables:\n",
    "    * Reals table (`diaSrc` instances that have been matched to a SN lightcurve epoch)\n",
    "    * Bogus table (`diaSrc` instances that have **NOT** been matched to a SN lightcurve epoch)\n",
    "    * Matched LCs table (truth lightcurve table with the matching result information attached.)"
   ]
  },
  {
   "cell_type": "code",
   "execution_count": 51,
   "metadata": {},
   "outputs": [],
   "source": [
    "reals = matched_diasrc.loc[matched_diasrc['cxmatch']]\n",
    "bogus = matched_diasrc.loc[~matched_diasrc['cxmatch']]"
   ]
  },
  {
   "cell_type": "code",
   "execution_count": 52,
   "metadata": {},
   "outputs": [
    {
     "data": {
      "text/plain": [
       "1432"
      ]
     },
     "execution_count": 52,
     "metadata": {},
     "output_type": "execute_result"
    }
   ],
   "source": [
    "len(reals)"
   ]
  },
  {
   "cell_type": "code",
   "execution_count": 53,
   "metadata": {},
   "outputs": [
    {
     "data": {
      "text/plain": [
       "634976"
      ]
     },
     "execution_count": 53,
     "metadata": {},
     "output_type": "execute_result"
    }
   ],
   "source": [
    "len(bogus)"
   ]
  },
  {
   "cell_type": "markdown",
   "metadata": {},
   "source": [
    "The following quantity reflects the actual portion of the truth lightcurve instances that were possible to be used because of image processing failing"
   ]
  },
  {
   "cell_type": "code",
   "execution_count": 54,
   "metadata": {},
   "outputs": [
    {
     "data": {
      "text/plain": [
       "0.4040288723576637"
      ]
     },
     "execution_count": 54,
     "metadata": {},
     "output_type": "execute_result"
    }
   ],
   "source": [
    "np.sum(lcs['visit_used'])/len(lcs)"
   ]
  },
  {
   "cell_type": "code",
   "execution_count": 55,
   "metadata": {},
   "outputs": [
    {
     "data": {
      "text/plain": [
       "0.4040288723576637"
      ]
     },
     "execution_count": 55,
     "metadata": {},
     "output_type": "execute_result"
    }
   ],
   "source": [
    "len(matched_lcs)/len(lcs)"
   ]
  },
  {
   "cell_type": "code",
   "execution_count": 56,
   "metadata": {},
   "outputs": [
    {
     "data": {
      "text/plain": [
       "0.9848879479643996"
      ]
     },
     "execution_count": 56,
     "metadata": {},
     "output_type": "execute_result"
    }
   ],
   "source": [
    "(len(reals) + len(bogus))/len(diasrc_tab)"
   ]
  },
  {
   "cell_type": "code",
   "execution_count": 57,
   "metadata": {},
   "outputs": [],
   "source": [
    "reals.to_csv(f'{SCRATCH}/results/reals_table.csv')\n",
    "bogus.to_csv(f'{SCRATCH}/results/bogus_table.csv')\n",
    "matched_lcs.to_csv(f'{SCRATCH}/results/matched_lcs_visit_by_visit.csv')"
   ]
  },
  {
   "cell_type": "markdown",
   "metadata": {},
   "source": [
    "----------\n",
    "## Analyzing combined detection samples"
   ]
  },
  {
   "cell_type": "code",
   "execution_count": 41,
   "metadata": {},
   "outputs": [
    {
     "data": {
      "text/plain": [
       "['base_SdssShape_instFlux_SN',\n",
       " 'slot_Shape_instFlux_SN',\n",
       " 'base_CircularApertureFlux_3_0_instFlux_SN',\n",
       " 'base_CircularApertureFlux_4_5_instFlux_SN',\n",
       " 'base_CircularApertureFlux_6_0_instFlux_SN',\n",
       " 'base_CircularApertureFlux_9_0_instFlux_SN',\n",
       " 'base_CircularApertureFlux_12_0_instFlux_SN',\n",
       " 'slot_ApFlux_instFlux_SN',\n",
       " 'base_CircularApertureFlux_17_0_instFlux_SN',\n",
       " 'base_CircularApertureFlux_25_0_instFlux_SN',\n",
       " 'base_CircularApertureFlux_35_0_instFlux_SN',\n",
       " 'base_CircularApertureFlux_50_0_instFlux_SN',\n",
       " 'base_CircularApertureFlux_70_0_instFlux_SN',\n",
       " 'base_GaussianFlux_instFlux_SN',\n",
       " 'base_PeakLikelihoodFlux_instFlux_SN',\n",
       " 'base_PsfFlux_instFlux_SN',\n",
       " 'slot_PsfFlux_instFlux_SN',\n",
       " 'ip_diffim_NaiveDipoleFlux_pos_instFlux_SN',\n",
       " 'ip_diffim_NaiveDipoleFlux_neg_instFlux_SN',\n",
       " 'ip_diffim_PsfDipoleFlux_pos_instFlux_SN',\n",
       " 'ip_diffim_PsfDipoleFlux_neg_instFlux_SN',\n",
       " 'ip_diffim_DipoleFit_pos_instFlux_SN',\n",
       " 'ip_diffim_DipoleFit_neg_instFlux_SN',\n",
       " 'ip_diffim_forced_PsfFlux_instFlux_SN']"
      ]
     },
     "execution_count": 41,
     "metadata": {},
     "output_type": "execute_result"
    }
   ],
   "source": [
    "[acol for acol in reals.columns if 'instFlux_SN' in acol]"
   ]
  },
  {
   "cell_type": "code",
   "execution_count": 42,
   "metadata": {},
   "outputs": [
    {
     "name": "stderr",
     "output_type": "stream",
     "text": [
      "/global/common/software/lsst/common/miniconda/py3-4.5.12/envs/stack/lib/python3.7/site-packages/numpy/lib/histograms.py:824: RuntimeWarning: invalid value encountered in greater_equal\n",
      "  keep = (tmp_a >= first_edge)\n",
      "/global/common/software/lsst/common/miniconda/py3-4.5.12/envs/stack/lib/python3.7/site-packages/numpy/lib/histograms.py:825: RuntimeWarning: invalid value encountered in less_equal\n",
      "  keep &= (tmp_a <= last_edge)\n"
     ]
    },
    {
     "data": {
      "text/plain": [
       "([array([1.000e+00, 0.000e+00, 1.000e+00, 1.322e+03, 7.500e+01, 0.000e+00,\n",
       "         8.000e+00, 1.000e+00, 0.000e+00, 1.000e+00]),\n",
       "  array([0.000e+00, 0.000e+00, 0.000e+00, 1.063e+03, 7.700e+01, 3.000e+00,\n",
       "         5.000e+00, 1.000e+00, 0.000e+00, 1.000e+00])],\n",
       " array([-530.1332  , -390.12384 , -250.11453 , -110.1052  ,   29.904125,\n",
       "         169.91345 ,  309.9228  ,  449.9321  ,  589.9414  ,  729.95074 ,\n",
       "         869.9601  ], dtype=float32),\n",
       " <a list of 2 Lists of Patches objects>)"
      ]
     },
     "execution_count": 42,
     "metadata": {},
     "output_type": "execute_result"
    },
    {
     "data": {
      "image/png": "[encoded data removed]",
      "text/plain": [
       "<Figure size 432x288 with 1 Axes>"
      ]
     },
     "metadata": {
      "needs_background": "light"
     },
     "output_type": "display_data"
    }
   ],
   "source": [
    "plt.hist(reals[['base_PsfFlux_instFlux_SN',\n",
    "                'base_GaussianFlux_instFlux_SN']].values, log=True)"
   ]
  },
  {
   "cell_type": "code",
   "execution_count": 43,
   "metadata": {},
   "outputs": [
    {
     "name": "stderr",
     "output_type": "stream",
     "text": [
      "/global/common/software/lsst/common/miniconda/py3-4.5.12/envs/stack/lib/python3.7/site-packages/matplotlib/axes/_axes.py:6575: RuntimeWarning: All-NaN slice encountered\n",
      "  xmin = min(xmin, np.nanmin(xi))\n",
      "/global/common/software/lsst/common/miniconda/py3-4.5.12/envs/stack/lib/python3.7/site-packages/matplotlib/axes/_axes.py:6576: RuntimeWarning: All-NaN slice encountered\n",
      "  xmax = max(xmax, np.nanmax(xi))\n"
     ]
    },
    {
     "data": {
      "image/png": "[encoded data removed]",
      "text/plain": [
       "<Figure size 864x432 with 1 Axes>"
      ]
     },
     "metadata": {
      "needs_background": "light"
     },
     "output_type": "display_data"
    }
   ],
   "source": [
    "plt.figure(figsize=(12, 6))\n",
    "plt.hist(reals[[acol for acol in reals.columns if 'instFlux_SN' in acol and 'Circular' not in acol]].values, log=True)\n",
    "plt.tight_layout()"
   ]
  },
  {
   "cell_type": "markdown",
   "metadata": {},
   "source": [
    "-----------\n",
    "\n",
    "_Moved to the visit_check.ipynb Notebook_\n",
    "### Analyzing visits used"
   ]
  },
  {
   "cell_type": "raw",
   "metadata": {},
   "source": [
    "visitab_minion = pd.read_csv('../catalogs+tables/full_t_visits_from_minion.csv')\n",
    "visitab_tractm = pd.read_csv('../catalogs+tables/full_visits_from_tractmapping_db.csv')"
   ]
  },
  {
   "cell_type": "raw",
   "metadata": {},
   "source": [
    "len(np.unique(visitab_minion['obsHistID'])), len(np.unique(diasrc_tab['visit_n'])), len(np.unique(visitab_tractm['visit']))"
   ]
  },
  {
   "cell_type": "raw",
   "metadata": {},
   "source": [
    "plt.figure(figsize=(16,4))\n",
    "plt.vlines(x=np.unique(visitab_tractm['visit']), ymin=0, ymax=1, colors='blue', lw=0.5)\n",
    "plt.vlines(x=np.unique(visitab_minion['obsHistID']), ymin=0, ymax=1, colors='black', lw=0.5)\n",
    "plt.vlines(x=np.unique(diasrc_tab['visit_n']), ymin=0, ymax=1, colors='red', lw=0.5)\n",
    "plt.xlim(-10, 750_000)\n",
    "plt.yticks([-1, 2])\n",
    "plt.ylim(-0.1, 1.1)\n",
    "plt.xlabel('Visit N')"
   ]
  },
  {
   "cell_type": "raw",
   "metadata": {},
   "source": [
    "plt.figure(figsize=(16,4))\n",
    "plt.vlines(x=np.unique(visitab_tractm['visit']), ymin=0, ymax=1, colors='blue', lw=0.5)\n",
    "plt.vlines(x=np.unique(visitab_minion['obsHistID']), ymin=0, ymax=1, colors='black', lw=0.5)\n",
    "plt.vlines(x=np.unique(diasrc_tab['visit_n']), ymin=0, ymax=1, colors='red', lw=0.5)\n",
    "plt.xlim(150_000, 300_000)\n",
    "plt.yticks([-1, 2])\n",
    "plt.ylim(-0.1, 1.1)\n",
    "plt.xlabel('Visit N')"
   ]
  },
  {
   "cell_type": "raw",
   "metadata": {},
   "source": [
    "np.sum(visitab_minion['obsHistID'].isin(visitab_tractm['visit']))"
   ]
  },
  {
   "cell_type": "raw",
   "metadata": {},
   "source": [
    "np.sum(visitab_tractm['visit'].isin(visitab_minion['obsHistID']))"
   ]
  },
  {
   "cell_type": "raw",
   "metadata": {},
   "source": [
    "plt.figure(figsize=(24,4))\n",
    "plt.vlines(x=np.unique(visitab_tractm['visit']), ymin=0, ymax=1, colors='blue')\n",
    "plt.vlines(x=np.unique(visitab_minion['obsHistID']), ymin=0, ymax=1, colors='black')\n",
    "plt.vlines(x=np.unique(diasrc_tab['visit_n']), ymin=0, ymax=1, colors='red')"
   ]
  },
  {
   "cell_type": "raw",
   "metadata": {},
   "source": [
    "visitab_minion"
   ]
  },
  {
   "cell_type": "code",
   "execution_count": null,
   "metadata": {},
   "outputs": [],
   "source": []
  }
 ],
 "metadata": {
  "kernelspec": {
   "display_name": "desc-python",
   "language": "python",
   "name": "desc-python"
  },
  "language_info": {
   "codemirror_mode": {
    "name": "ipython",
    "version": 3
   },
   "file_extension": ".py",
   "mimetype": "text/x-python",
   "name": "python",
   "nbconvert_exporter": "python",
   "pygments_lexer": "ipython3",
   "version": "3.7.2"
  }
 },
 "nbformat": 4,
 "nbformat_minor": 4
}
