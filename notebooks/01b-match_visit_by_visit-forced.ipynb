{
 "cells": [
  {
   "cell_type": "markdown",
   "metadata": {},
   "source": [
    "# Matching detections with SN Truth Catalog\n",
    "\n",
    "## Summary\n",
    "* Loading the data\n",
    "* Defining convenient functions to unfold LightCurves\n",
    "* Initialize tables and matching distance tolerance\n",
    "* Producing the actual matching\n",
    "* Producing the plots"
   ]
  },
  {
   "cell_type": "code",
   "execution_count": 1,
   "metadata": {},
   "outputs": [],
   "source": [
    "import os\n",
    "import sqlite3"
   ]
  },
  {
   "cell_type": "code",
   "execution_count": 2,
   "metadata": {},
   "outputs": [],
   "source": [
    "os.environ['SCRATCH']='/global/cscratch1/sd/bos0109'\n",
    "SCRATCH = %env SCRATCH"
   ]
  },
  {
   "cell_type": "code",
   "execution_count": 3,
   "metadata": {},
   "outputs": [],
   "source": [
    "import numpy as np"
   ]
  },
  {
   "cell_type": "code",
   "execution_count": 4,
   "metadata": {},
   "outputs": [],
   "source": [
    "import matplotlib.pyplot as plt\n",
    "import pandas as pd"
   ]
  },
  {
   "cell_type": "code",
   "execution_count": 5,
   "metadata": {},
   "outputs": [],
   "source": [
    "%matplotlib inline"
   ]
  },
  {
   "cell_type": "code",
   "execution_count": 6,
   "metadata": {},
   "outputs": [],
   "source": [
    "from glob import glob"
   ]
  },
  {
   "cell_type": "code",
   "execution_count": 7,
   "metadata": {},
   "outputs": [],
   "source": [
    "from astropy import time\n",
    "from astropy import units as u\n",
    "from astropy.coordinates import SkyCoord\n",
    "from astropy.table import vstack"
   ]
  },
  {
   "cell_type": "markdown",
   "metadata": {},
   "source": [
    "### Loading the data\n",
    " We are loading the data from a set of files already produced and stored.\n",
    " The files contain the truth catalog for SN Ia and their parameters, as well\n",
    " a HDF5 storage container with the `diaSrc` catalogs stacked as a single table."
   ]
  },
  {
   "cell_type": "code",
   "execution_count": 8,
   "metadata": {},
   "outputs": [],
   "source": [
    "truth_lightc = pd.read_csv('../lightcurves/lightcurves_cat_rect_58.0_56.0_-31.0_-32.0.csv')\n",
    "sntab = pd.read_csv('../catalogs+tables/supernovae_cat_rect_58.0_56.0_-31.0_-32.0.csv')\n",
    "#truth_lightc = pd.read_csv('./lightcurves/lightcurves_cat_rect_58_56_-31_-32.csv')\n",
    "#sntab = pd.read_csv('./catalogs+tables/supernovae_cat_rect_58_56_-31_-32.csv')"
   ]
  },
  {
   "cell_type": "code",
   "execution_count": 9,
   "metadata": {},
   "outputs": [],
   "source": [
    "#diaSrc_store = pd.HDFStore('/global/cscratch1/sd/bos0109/diaSrc_forced_fulltables_v4.h5')\n",
    "diaSrc_store = pd.HDFStore(f'{SCRATCH}/results/diaSrc_secrun_fulltables_v4.h5')\n",
    "diaSrc_store.open()\n",
    "metacols = ['id', 'visit', 'filter', 'raftName', 'detectorName', 'detector']"
   ]
  },
  {
   "cell_type": "markdown",
   "metadata": {},
   "source": [
    "### Defining convenient functions \n",
    "\n",
    "* Dealing with the truth catalog table and the SN parameters table is best achieved if encapsulated as single functions"
   ]
  },
  {
   "cell_type": "code",
   "execution_count": 10,
   "metadata": {},
   "outputs": [],
   "source": [
    "def get_truth_LC(truth_tab, snid):\n",
    "    sffx = ('_observable', '_observed', '_flux', '_fluxErr', '_mag', '_magErr')\n",
    "    snid = str(snid)\n",
    "    colset = ['mjd', 'filter', 'visitn'] + [snid+acol for acol in sffx]\n",
    "    tab = truth_tab[colset].copy()\n",
    "    transl = {snid+acol: acol[1:] for acol in sffx}\n",
    "    tab.rename(columns=transl, inplace=True)\n",
    "    tab['snid_in'] = snid\n",
    "    return tab[tab.observable]"
   ]
  },
  {
   "cell_type": "markdown",
   "metadata": {},
   "source": [
    "* Unfold the lightcurves from the table using the above function"
   ]
  },
  {
   "cell_type": "code",
   "execution_count": 11,
   "metadata": {},
   "outputs": [],
   "source": [
    "snids = [acol.strip('_observed') for acol in truth_lightc.columns \n",
    "        if '_observed' in acol]\n",
    "lcs = []\n",
    "for asnid in snids:\n",
    "    lcs.append(get_truth_LC(truth_lightc, asnid))\n",
    "lcs = pd.concat(lcs)"
   ]
  },
  {
   "cell_type": "markdown",
   "metadata": {},
   "source": [
    "### Defining the tolerance and table lists"
   ]
  },
  {
   "cell_type": "code",
   "execution_count": 12,
   "metadata": {},
   "outputs": [],
   "source": [
    "diasrc_tab = diaSrc_store['full_table_forced']\n",
    "\n",
    "d_tol = 2.5*u.arcsec\n",
    "lc_list = []\n",
    "visits_used = []\n",
    "diasrc_list = []\n",
    "N_matches = 0"
   ]
  },
  {
   "cell_type": "code",
   "execution_count": 13,
   "metadata": {},
   "outputs": [],
   "source": [
    "diaSrc_store.close()"
   ]
  },
  {
   "cell_type": "markdown",
   "metadata": {},
   "source": [
    "### Matching \n",
    "* Using the visit number as the grouping column in the `diaSrc` table \n",
    "* Comparing sky positions with the SN and `diaSrc` instances"
   ]
  },
  {
   "cell_type": "code",
   "execution_count": 14,
   "metadata": {},
   "outputs": [],
   "source": [
    "lcs['visit_used'] = False"
   ]
  },
  {
   "cell_type": "code",
   "execution_count": 15,
   "metadata": {},
   "outputs": [
    {
     "name": "stdout",
     "output_type": "stream",
     "text": [
      "1660\n"
     ]
    }
   ],
   "source": [
    "for avisit, atab in diasrc_tab.groupby('visit_n'):\n",
    "    # light curve row:\n",
    "    lc = lcs.loc[lcs['visitn']==avisit].copy()\n",
    "    snlist = sntab[sntab.snid_in.isin(lc.snid_in)]\n",
    "    \n",
    "    if lc.empty or snlist.empty:\n",
    "        continue\n",
    "    \n",
    "    lcs.loc[lcs['visitn']==avisit, 'visit_used'] = True\n",
    "    visits_used.append(avisit)\n",
    "    #print(avisit)\n",
    "    sncoords = SkyCoord(ra=snlist.snra_in*u.deg, dec=snlist.sndec_in*u.deg)\n",
    "\n",
    "    #srctab = atab[~atab.base_PixelFlags_flag_saturated].copy()\n",
    "    #srctab = srctab[~srctab.base_PixelFlags_flag_edge].copy()\n",
    "    #srctab = srctab[~srctab.ip_diffim_DipoleFit_flag_classification].copy()\n",
    "    srctab = atab.copy()\n",
    "    diacoords = SkyCoord(ra=srctab.coord_ra*u.rad, dec=srctab.coord_dec*u.rad)\n",
    "    \n",
    "    idx, d2d, d3d = sncoords.match_to_catalog_sky(diacoords)\n",
    "    idx_, d2d_, d3d_ = diacoords.match_to_catalog_sky(sncoords)\n",
    "\n",
    "    match = np.repeat(False, len(idx))\n",
    "    matchO = np.repeat(False, len(idx_))\n",
    "    not_matched = []\n",
    "    for i in range(len(idx)):\n",
    "        if i==idx_[idx[i]] and d2d[i]<d_tol and d2d_[idx[i]]<d_tol:\n",
    "            match[i] = True\n",
    "            matchO[idx[i]] = True\n",
    "        else:\n",
    "            not_matched.append([i, idx[i], idx_[idx[i]]])\n",
    "    not_matched = np.array(not_matched)\n",
    "    lc['matched'] = match\n",
    "    lc['match_ang_dist'] = d2d.to(u.arcsec)\n",
    "    lc['dia_row'] = idx\n",
    "    lc['dia_id'] = srctab.iloc[idx]['id'].values\n",
    "\n",
    "    srctab['cxmatch'] = matchO\n",
    "    srctab['sn_row'] = idx_\n",
    "    srctab['match_ang_dist'] = d2d_.to(u.arcsec)\n",
    "    srctab['sn_id'] = lc.iloc[idx_]['snid_in'].values\n",
    "\n",
    "    N_matches += np.sum(match)\n",
    "\n",
    "    lc_list.append(lc)\n",
    "    diasrc_list.append(srctab)\n",
    "print(N_matches)"
   ]
  },
  {
   "cell_type": "code",
   "execution_count": 16,
   "metadata": {},
   "outputs": [],
   "source": [
    "matched_lcs = pd.concat(lc_list)\n",
    "matched_diasrc = pd.concat(diasrc_list)"
   ]
  },
  {
   "cell_type": "code",
   "execution_count": 17,
   "metadata": {},
   "outputs": [
    {
     "data": {
      "text/plain": [
       "10508"
      ]
     },
     "execution_count": 17,
     "metadata": {},
     "output_type": "execute_result"
    }
   ],
   "source": [
    "len(matched_lcs)"
   ]
  },
  {
   "cell_type": "code",
   "execution_count": 18,
   "metadata": {},
   "outputs": [
    {
     "data": {
      "text/plain": [
       "1660"
      ]
     },
     "execution_count": 18,
     "metadata": {},
     "output_type": "execute_result"
    }
   ],
   "source": [
    "np.sum(matched_lcs['matched'])"
   ]
  },
  {
   "cell_type": "code",
   "execution_count": 19,
   "metadata": {},
   "outputs": [
    {
     "data": {
      "text/plain": [
       "17271966"
      ]
     },
     "execution_count": 19,
     "metadata": {},
     "output_type": "execute_result"
    }
   ],
   "source": [
    "len(matched_diasrc)"
   ]
  },
  {
   "cell_type": "markdown",
   "metadata": {},
   "source": [
    "### Producing interesting plots \n",
    "* Checking the matching fraction of the `diaSrc` to truth SN lightcurves\n",
    "* Checking different parameters as proxy to the matching fraction\n",
    "    * Magnitude\n",
    "    * Signal to Noise\n",
    "    * MJDs\n",
    "    * Flux errors\n",
    "* Analyzing the matching stats \n",
    "    * angular distance\n",
    "    * Matches per filter bandpass"
   ]
  },
  {
   "cell_type": "code",
   "execution_count": 20,
   "metadata": {},
   "outputs": [
    {
     "data": {
      "image/png": "[encoded data removed]",
      "text/plain": [
       "<Figure size 432x360 with 4 Axes>"
      ]
     },
     "metadata": {
      "needs_background": "light"
     },
     "output_type": "display_data"
    }
   ],
   "source": [
    "bandpasses = ('g', 'r', 'i', 'z')\n",
    "bins=np.arange(17, 28, 0.5)\n",
    "fig, axes = plt.subplots(figsize=(6,5), nrows=2, ncols=2)\n",
    "\n",
    "for ax, band in zip(axes.flatten(), bandpasses):\n",
    "    subtab = matched_lcs.loc[matched_lcs['filter']==band]\n",
    "\n",
    "    ax.hist(subtab.mag, histtype='step', lw=1.5, color='k', bins=bins, \n",
    "            label=f'T {band}')\n",
    "\n",
    "    ax.hist(subtab[subtab.matched].mag, histtype='stepfilled', lw=1.5, \n",
    "            bins=bins, color='red', label=f'M {band}')\n",
    "    ax.legend(loc='upper left')\n",
    "plt.tight_layout()\n",
    "#plt.savefig('matched_lcs.png')\n",
    "#plt.clf()"
   ]
  },
  {
   "cell_type": "code",
   "execution_count": 21,
   "metadata": {},
   "outputs": [
    {
     "data": {
      "image/png": "[encoded data removed]",
      "text/plain": [
       "<Figure size 432x360 with 4 Axes>"
      ]
     },
     "metadata": {
      "needs_background": "light"
     },
     "output_type": "display_data"
    }
   ],
   "source": [
    "bandpasses = ('g', 'r', 'i', 'z')\n",
    "bins=np.arange(17, 28, 0.5)\n",
    "fig, axes = plt.subplots(figsize=(6,5), nrows=2, ncols=2)\n",
    "\n",
    "for ax, band in zip(axes.flatten(), bandpasses):\n",
    "    subtab = matched_lcs.loc[matched_lcs['filter']==band]\n",
    "\n",
    "    ax.hist(subtab.mag, histtype='step', lw=1.5, color='k', bins=bins, \n",
    "            label=f'T {band}', cumulative=True)\n",
    "\n",
    "    ax.hist(subtab[subtab.matched].mag, histtype='stepfilled', lw=1.5, \n",
    "            bins=bins, color='red', label=f'M {band}', cumulative=True)\n",
    "    ax.legend(loc='upper left')\n",
    "plt.tight_layout()\n",
    "#plt.savefig('matched_lcs.png')\n",
    "#plt.clf()"
   ]
  },
  {
   "cell_type": "code",
   "execution_count": 22,
   "metadata": {},
   "outputs": [
    {
     "data": {
      "image/png": "[encoded data removed]",
      "text/plain": [
       "<Figure size 432x360 with 4 Axes>"
      ]
     },
     "metadata": {
      "needs_background": "light"
     },
     "output_type": "display_data"
    }
   ],
   "source": [
    "bandpasses = ('g', 'r', 'i', 'z')\n",
    "bins = np.logspace(0, 3, num=12)\n",
    "fig, axes = plt.subplots(figsize=(6,5), nrows=2, ncols=2)\n",
    "\n",
    "for ax, band in zip(axes.flatten(), bandpasses):\n",
    "    subtab = matched_lcs.loc[matched_lcs['filter']==band]\n",
    "\n",
    "    ax.hist(subtab.match_ang_dist, histtype='step', lw=1.5, color='k', bins=bins, \n",
    "            label=f'T ({band})')\n",
    "\n",
    "    ax.hist(subtab[subtab.matched].match_ang_dist, histtype='stepfilled', lw=1.5, \n",
    "            bins=bins, color='red', label=f'M ({band})')\n",
    "    ax.legend(loc='upper left')\n",
    "    ax.set_xscale('log')\n",
    "plt.tight_layout()"
   ]
  },
  {
   "cell_type": "code",
   "execution_count": 23,
   "metadata": {},
   "outputs": [
    {
     "data": {
      "image/png": "[encoded data removed]",
      "text/plain": [
       "<Figure size 432x360 with 4 Axes>"
      ]
     },
     "metadata": {
      "needs_background": "light"
     },
     "output_type": "display_data"
    }
   ],
   "source": [
    "bandpasses = ('g', 'r', 'i', 'z')\n",
    "bins = np.linspace(59580, 60700, num=15)\n",
    "fig, axes = plt.subplots(figsize=(6,5), nrows=2, ncols=2)\n",
    "\n",
    "for ax, band in zip(axes.flatten(), bandpasses):\n",
    "    subtab = matched_lcs.loc[matched_lcs['filter']==band]\n",
    "\n",
    "    ax.hist(subtab.mjd, histtype='step', lw=1.5, color='k', bins=bins, \n",
    "            label=f'T ({band})')\n",
    "\n",
    "    ax.hist(subtab[subtab.matched].mjd, histtype='stepfilled', lw=1.5, \n",
    "            bins=bins, color='red', label=f'M ({band})')\n",
    "    ax.legend(loc='upper left')\n",
    "    ax.set_xscale('log')\n",
    "plt.tight_layout()"
   ]
  },
  {
   "cell_type": "code",
   "execution_count": 24,
   "metadata": {},
   "outputs": [
    {
     "data": {
      "text/plain": [
       "Index(['mjd', 'filter', 'visitn', 'observable', 'observed', 'flux', 'fluxErr',\n",
       "       'mag', 'magErr', 'snid_in', 'visit_used', 'matched', 'match_ang_dist',\n",
       "       'dia_row', 'dia_id'],\n",
       "      dtype='object')"
      ]
     },
     "execution_count": 24,
     "metadata": {},
     "output_type": "execute_result"
    }
   ],
   "source": [
    "matched_lcs.columns"
   ]
  },
  {
   "cell_type": "code",
   "execution_count": 25,
   "metadata": {},
   "outputs": [
    {
     "data": {
      "image/png": "[encoded data removed]",
      "text/plain": [
       "<Figure size 432x360 with 4 Axes>"
      ]
     },
     "metadata": {
      "needs_background": "light"
     },
     "output_type": "display_data"
    }
   ],
   "source": [
    "bandpasses = ('g', 'r', 'i', 'z')\n",
    "bins = np.logspace(-21, -7.5, num=18)\n",
    "fig, axes = plt.subplots(figsize=(6,5), nrows=2, ncols=2)\n",
    "\n",
    "for ax, band in zip(axes.flatten(), bandpasses):\n",
    "    subtab = matched_lcs.loc[matched_lcs['filter']==band]\n",
    "\n",
    "    ax.hist(subtab.flux, histtype='step', lw=1.5, color='k', bins=bins, \n",
    "            label=f'T ({band})')\n",
    "\n",
    "    ax.hist(subtab[subtab.matched].flux, histtype='stepfilled', lw=1.5, \n",
    "            bins=bins, color='red', label=f'M ({band})')\n",
    "    ax.legend(loc='upper left')\n",
    "    ax.set_xscale('log')\n",
    "plt.tight_layout()"
   ]
  },
  {
   "cell_type": "code",
   "execution_count": 26,
   "metadata": {},
   "outputs": [
    {
     "data": {
      "image/png": "[encoded data removed]",
      "text/plain": [
       "<Figure size 432x360 with 4 Axes>"
      ]
     },
     "metadata": {
      "needs_background": "light"
     },
     "output_type": "display_data"
    }
   ],
   "source": [
    "bandpasses = ('g', 'r', 'i', 'z')\n",
    "bins = np.logspace(-11, -9.5, num=18)\n",
    "fig, axes = plt.subplots(figsize=(6,5), nrows=2, ncols=2)\n",
    "\n",
    "for ax, band in zip(axes.flatten(), bandpasses):\n",
    "    subtab = matched_lcs.loc[matched_lcs['filter']==band]\n",
    "\n",
    "    ax.hist(subtab.fluxErr, histtype='step', lw=1.5, color='k', bins=bins, \n",
    "            label=f'T ({band})')\n",
    "\n",
    "    ax.hist(subtab[subtab.matched].fluxErr, histtype='stepfilled', lw=1.5, \n",
    "            bins=bins, color='red', label=f'M ({band})')\n",
    "    ax.legend(loc='best')\n",
    "    ax.set_xscale('log')\n",
    "plt.tight_layout()"
   ]
  },
  {
   "cell_type": "code",
   "execution_count": 27,
   "metadata": {},
   "outputs": [
    {
     "data": {
      "image/png": "[encoded data removed]",
      "text/plain": [
       "<Figure size 432x360 with 4 Axes>"
      ]
     },
     "metadata": {
      "needs_background": "light"
     },
     "output_type": "display_data"
    }
   ],
   "source": [
    "bandpasses = ('g', 'r', 'i', 'z')\n",
    "bins = np.linspace(1500, 750000, num=10)\n",
    "fig, axes = plt.subplots(figsize=(6,5), nrows=2, ncols=2)\n",
    "\n",
    "for ax, band in zip(axes.flatten(), bandpasses):\n",
    "    subtab = matched_lcs.loc[matched_lcs['filter']==band]\n",
    "\n",
    "    ax.hist(subtab.visitn, histtype='step', lw=1.5, color='k', bins=bins, \n",
    "            label=f'T ({band})')\n",
    "\n",
    "    ax.hist(subtab[subtab.matched].visitn, histtype='stepfilled', lw=1.5, \n",
    "            bins=bins, color='red', label=f'M ({band})')\n",
    "    ax.legend(loc='best')\n",
    "    ax.set_xscale('linear')\n",
    "plt.tight_layout()"
   ]
  },
  {
   "cell_type": "code",
   "execution_count": 28,
   "metadata": {},
   "outputs": [
    {
     "data": {
      "text/html": [
       "<div>\n",
       "<style scoped>\n",
       "    .dataframe tbody tr th:only-of-type {\n",
       "        vertical-align: middle;\n",
       "    }\n",
       "\n",
       "    .dataframe tbody tr th {\n",
       "        vertical-align: top;\n",
       "    }\n",
       "\n",
       "    .dataframe thead th {\n",
       "        text-align: right;\n",
       "    }\n",
       "</style>\n",
       "<table border=\"1\" class=\"dataframe\">\n",
       "  <thead>\n",
       "    <tr style=\"text-align: right;\">\n",
       "      <th></th>\n",
       "      <th>mjd</th>\n",
       "      <th>visitn</th>\n",
       "      <th>flux</th>\n",
       "      <th>fluxErr</th>\n",
       "      <th>mag</th>\n",
       "      <th>magErr</th>\n",
       "      <th>match_ang_dist</th>\n",
       "      <th>dia_row</th>\n",
       "      <th>dia_id</th>\n",
       "    </tr>\n",
       "  </thead>\n",
       "  <tbody>\n",
       "    <tr>\n",
       "      <th>count</th>\n",
       "      <td>10508.000000</td>\n",
       "      <td>10508.000000</td>\n",
       "      <td>1.050800e+04</td>\n",
       "      <td>1.050800e+04</td>\n",
       "      <td>10508.000000</td>\n",
       "      <td>10508.000000</td>\n",
       "      <td>10508.000000</td>\n",
       "      <td>10508.000000</td>\n",
       "      <td>1.050800e+04</td>\n",
       "    </tr>\n",
       "    <tr>\n",
       "      <th>mean</th>\n",
       "      <td>60197.876687</td>\n",
       "      <td>428274.050438</td>\n",
       "      <td>1.861305e-10</td>\n",
       "      <td>7.975249e-11</td>\n",
       "      <td>26.274926</td>\n",
       "      <td>1.659476</td>\n",
       "      <td>969.297609</td>\n",
       "      <td>35732.524743</td>\n",
       "      <td>2.874099e+16</td>\n",
       "    </tr>\n",
       "    <tr>\n",
       "      <th>std</th>\n",
       "      <td>285.805450</td>\n",
       "      <td>186359.335872</td>\n",
       "      <td>4.799253e-10</td>\n",
       "      <td>5.497606e-11</td>\n",
       "      <td>2.772788</td>\n",
       "      <td>1.984169</td>\n",
       "      <td>883.033533</td>\n",
       "      <td>28063.864067</td>\n",
       "      <td>1.250636e+16</td>\n",
       "    </tr>\n",
       "    <tr>\n",
       "      <th>min</th>\n",
       "      <td>59589.200927</td>\n",
       "      <td>6826.000000</td>\n",
       "      <td>6.638158e-21</td>\n",
       "      <td>1.441364e-11</td>\n",
       "      <td>19.855938</td>\n",
       "      <td>0.007867</td>\n",
       "      <td>0.012540</td>\n",
       "      <td>0.000000</td>\n",
       "      <td>4.580965e+14</td>\n",
       "    </tr>\n",
       "    <tr>\n",
       "      <th>25%</th>\n",
       "      <td>59887.190461</td>\n",
       "      <td>227924.000000</td>\n",
       "      <td>8.938471e-12</td>\n",
       "      <td>3.788820e-11</td>\n",
       "      <td>24.363451</td>\n",
       "      <td>0.389594</td>\n",
       "      <td>10.814826</td>\n",
       "      <td>11085.250000</td>\n",
       "      <td>1.529572e+16</td>\n",
       "    </tr>\n",
       "    <tr>\n",
       "      <th>50%</th>\n",
       "      <td>60201.259722</td>\n",
       "      <td>433996.000000</td>\n",
       "      <td>4.525452e-11</td>\n",
       "      <td>5.954960e-11</td>\n",
       "      <td>25.860845</td>\n",
       "      <td>1.026405</td>\n",
       "      <td>812.511146</td>\n",
       "      <td>29976.000000</td>\n",
       "      <td>2.912498e+16</td>\n",
       "    </tr>\n",
       "    <tr>\n",
       "      <th>75%</th>\n",
       "      <td>60531.374627</td>\n",
       "      <td>638919.000000</td>\n",
       "      <td>1.797296e-10</td>\n",
       "      <td>1.035304e-10</td>\n",
       "      <td>27.621842</td>\n",
       "      <td>2.273626</td>\n",
       "      <td>1697.598901</td>\n",
       "      <td>56305.750000</td>\n",
       "      <td>4.287714e+16</td>\n",
       "    </tr>\n",
       "    <tr>\n",
       "      <th>max</th>\n",
       "      <td>60661.174745</td>\n",
       "      <td>731790.000000</td>\n",
       "      <td>1.141892e-08</td>\n",
       "      <td>2.775778e-10</td>\n",
       "      <td>50.444881</td>\n",
       "      <td>24.221286</td>\n",
       "      <td>4747.711882</td>\n",
       "      <td>101877.000000</td>\n",
       "      <td>4.910960e+16</td>\n",
       "    </tr>\n",
       "  </tbody>\n",
       "</table>\n",
       "</div>"
      ],
      "text/plain": [
       "                mjd         visitn          flux       fluxErr           mag  \\\n",
       "count  10508.000000   10508.000000  1.050800e+04  1.050800e+04  10508.000000   \n",
       "mean   60197.876687  428274.050438  1.861305e-10  7.975249e-11     26.274926   \n",
       "std      285.805450  186359.335872  4.799253e-10  5.497606e-11      2.772788   \n",
       "min    59589.200927    6826.000000  6.638158e-21  1.441364e-11     19.855938   \n",
       "25%    59887.190461  227924.000000  8.938471e-12  3.788820e-11     24.363451   \n",
       "50%    60201.259722  433996.000000  4.525452e-11  5.954960e-11     25.860845   \n",
       "75%    60531.374627  638919.000000  1.797296e-10  1.035304e-10     27.621842   \n",
       "max    60661.174745  731790.000000  1.141892e-08  2.775778e-10     50.444881   \n",
       "\n",
       "             magErr  match_ang_dist        dia_row        dia_id  \n",
       "count  10508.000000    10508.000000   10508.000000  1.050800e+04  \n",
       "mean       1.659476      969.297609   35732.524743  2.874099e+16  \n",
       "std        1.984169      883.033533   28063.864067  1.250636e+16  \n",
       "min        0.007867        0.012540       0.000000  4.580965e+14  \n",
       "25%        0.389594       10.814826   11085.250000  1.529572e+16  \n",
       "50%        1.026405      812.511146   29976.000000  2.912498e+16  \n",
       "75%        2.273626     1697.598901   56305.750000  4.287714e+16  \n",
       "max       24.221286     4747.711882  101877.000000  4.910960e+16  "
      ]
     },
     "execution_count": 28,
     "metadata": {},
     "output_type": "execute_result"
    }
   ],
   "source": [
    "matched_lcs.describe()"
   ]
  },
  {
   "cell_type": "code",
   "execution_count": 29,
   "metadata": {},
   "outputs": [],
   "source": [
    "rows = []\n",
    "for ivisit, subset in matched_lcs.groupby('visitn'):\n",
    "    #print(str(ivisit).zfill(6), np.sum(subset.matched), str(len(subset)).zfill(2), f'{np.sum(subset.matched)/len(subset):.3}')\n",
    "    rows.append([ivisit, np.sum(subset.matched), len(subset), np.sum(subset.matched)/len(subset), subset['filter'].values[0]])\n",
    "summ = pd.DataFrame(data=rows, columns=['visitn', 'n_matches', 'total', 'fraction', 'bandpass'])"
   ]
  },
  {
   "cell_type": "code",
   "execution_count": 30,
   "metadata": {},
   "outputs": [
    {
     "data": {
      "text/plain": [
       "288"
      ]
     },
     "execution_count": 30,
     "metadata": {},
     "output_type": "execute_result"
    }
   ],
   "source": [
    "len(summ)"
   ]
  },
  {
   "cell_type": "code",
   "execution_count": 31,
   "metadata": {},
   "outputs": [
    {
     "name": "stdout",
     "output_type": "stream",
     "text": [
      "Bandpass g \n",
      "               visitn  n_matches      total   fraction\n",
      "count      37.000000  37.000000  37.000000  37.000000\n",
      "mean   403235.891892   5.486486  37.135135   0.153992\n",
      "std    203319.268987   4.011245  19.167626   0.163329\n",
      "min    159479.000000   0.000000   1.000000   0.000000\n",
      "25%    193823.000000   2.000000  25.000000   0.090909\n",
      "50%    400390.000000   5.000000  39.000000   0.144928\n",
      "75%    637849.000000   8.000000  50.000000   0.166667\n",
      "max    697958.000000  13.000000  69.000000   1.000000 \n",
      "\n",
      "\n",
      "Bandpass i \n",
      "               visitn  n_matches      total   fraction\n",
      "count      95.000000  95.000000  95.000000  95.000000\n",
      "mean   441366.421053   5.842105  40.242105   0.159442\n",
      "std    188060.032421   3.650461  22.339125   0.136406\n",
      "min      6826.000000   0.000000   4.000000   0.000000\n",
      "25%    250185.500000   3.000000  23.500000   0.096915\n",
      "50%    433989.000000   6.000000  40.000000   0.133333\n",
      "75%    654465.500000   9.000000  56.000000   0.200000\n",
      "max    731790.000000  13.000000  84.000000   1.000000 \n",
      "\n",
      "\n",
      "Bandpass r \n",
      "               visitn  n_matches      total   fraction\n",
      "count      87.000000  87.000000  87.000000  87.000000\n",
      "mean   438821.126437   6.459770  36.862069   0.187925\n",
      "std    195846.385064   3.756559  20.688820   0.130037\n",
      "min    181868.000000   0.000000   1.000000   0.000000\n",
      "25%    219996.000000   4.000000  18.000000   0.114030\n",
      "50%    448299.000000   6.000000  41.000000   0.166667\n",
      "75%    671795.000000   9.000000  51.500000   0.235294\n",
      "max    722481.000000  13.000000  72.000000   0.666667 \n",
      "\n",
      "\n",
      "Bandpass z \n",
      "               visitn  n_matches      total   fraction\n",
      "count      69.000000  69.000000  69.000000  69.000000\n",
      "mean   406620.855072   4.927536  30.492754   0.191884\n",
      "std    219172.236819   3.953103  22.151632   0.183657\n",
      "min      8004.000000   0.000000   1.000000   0.000000\n",
      "25%    226985.000000   2.000000  10.000000   0.081633\n",
      "50%    443858.000000   5.000000  28.000000   0.162162\n",
      "75%    627970.000000   8.000000  49.000000   0.218182\n",
      "max    729437.000000  13.000000  74.000000   1.000000 \n",
      "\n",
      "\n"
     ]
    }
   ],
   "source": [
    "for band, subtab in summ.groupby('bandpass'):\n",
    "    print(f'Bandpass {band} \\n', subtab.describe(), '\\n\\n')"
   ]
  },
  {
   "cell_type": "markdown",
   "metadata": {},
   "source": [
    "------"
   ]
  },
  {
   "cell_type": "code",
   "execution_count": 32,
   "metadata": {},
   "outputs": [
    {
     "data": {
      "text/plain": [
       "Index(['id', 'coord_ra', 'coord_dec', 'parent', 'dia_object_id',\n",
       "       'base_DiaTransformedCentroid_x', 'slot_Centroid_x',\n",
       "       'base_DiaTransformedCentroid_y', 'slot_Centroid_y', 'base_SdssShape_xx',\n",
       "       ...\n",
       "       'slot_PsfShape_moments_yy_diag', 'slot_PsfShape_moments_ratio_diag',\n",
       "       'slot_Shape_psf_moments_ratio_qs', 'slot_Shape_psf_moments_xx_diag',\n",
       "       'slot_Shape_psf_moments_yy_diag', 'slot_Shape_psf_moments_ratio_diag',\n",
       "       'cxmatch', 'sn_row', 'match_ang_dist', 'sn_id'],\n",
       "      dtype='object', length=115)"
      ]
     },
     "execution_count": 32,
     "metadata": {},
     "output_type": "execute_result"
    }
   ],
   "source": [
    "matched_diasrc.columns"
   ]
  },
  {
   "cell_type": "code",
   "execution_count": 33,
   "metadata": {},
   "outputs": [
    {
     "data": {
      "text/html": [
       "<div>\n",
       "<style scoped>\n",
       "    .dataframe tbody tr th:only-of-type {\n",
       "        vertical-align: middle;\n",
       "    }\n",
       "\n",
       "    .dataframe tbody tr th {\n",
       "        vertical-align: top;\n",
       "    }\n",
       "\n",
       "    .dataframe thead th {\n",
       "        text-align: right;\n",
       "    }\n",
       "</style>\n",
       "<table border=\"1\" class=\"dataframe\">\n",
       "  <thead>\n",
       "    <tr style=\"text-align: right;\">\n",
       "      <th></th>\n",
       "      <th>id</th>\n",
       "      <th>coord_ra</th>\n",
       "      <th>coord_dec</th>\n",
       "      <th>parent</th>\n",
       "      <th>dia_object_id</th>\n",
       "      <th>base_DiaTransformedCentroid_x</th>\n",
       "      <th>slot_Centroid_x</th>\n",
       "      <th>base_DiaTransformedCentroid_y</th>\n",
       "      <th>slot_Centroid_y</th>\n",
       "      <th>base_SdssShape_xx</th>\n",
       "      <th>...</th>\n",
       "      <th>slot_PsfShape_moments_ratio_qs</th>\n",
       "      <th>slot_PsfShape_moments_xx_diag</th>\n",
       "      <th>slot_PsfShape_moments_yy_diag</th>\n",
       "      <th>slot_PsfShape_moments_ratio_diag</th>\n",
       "      <th>slot_Shape_psf_moments_ratio_qs</th>\n",
       "      <th>slot_Shape_psf_moments_xx_diag</th>\n",
       "      <th>slot_Shape_psf_moments_yy_diag</th>\n",
       "      <th>slot_Shape_psf_moments_ratio_diag</th>\n",
       "      <th>sn_row</th>\n",
       "      <th>match_ang_dist</th>\n",
       "    </tr>\n",
       "  </thead>\n",
       "  <tbody>\n",
       "    <tr>\n",
       "      <th>count</th>\n",
       "      <td>1.727197e+07</td>\n",
       "      <td>1.727197e+07</td>\n",
       "      <td>1.727197e+07</td>\n",
       "      <td>17271966.0</td>\n",
       "      <td>1.727197e+07</td>\n",
       "      <td>1.727197e+07</td>\n",
       "      <td>1.727197e+07</td>\n",
       "      <td>1.727197e+07</td>\n",
       "      <td>1.727197e+07</td>\n",
       "      <td>1.034817e+07</td>\n",
       "      <td>...</td>\n",
       "      <td>1.727192e+07</td>\n",
       "      <td>1.727192e+07</td>\n",
       "      <td>1.727192e+07</td>\n",
       "      <td>1.727192e+07</td>\n",
       "      <td>1.727192e+07</td>\n",
       "      <td>1.727192e+07</td>\n",
       "      <td>1.727192e+07</td>\n",
       "      <td>1.727192e+07</td>\n",
       "      <td>1.727197e+07</td>\n",
       "      <td>1.727197e+07</td>\n",
       "    </tr>\n",
       "    <tr>\n",
       "      <th>mean</th>\n",
       "      <td>2.904649e+16</td>\n",
       "      <td>9.933197e-01</td>\n",
       "      <td>-5.423818e-01</td>\n",
       "      <td>0.0</td>\n",
       "      <td>2.040442e+16</td>\n",
       "      <td>2.039066e+03</td>\n",
       "      <td>2.039066e+03</td>\n",
       "      <td>1.989884e+03</td>\n",
       "      <td>1.989884e+03</td>\n",
       "      <td>1.063951e+02</td>\n",
       "      <td>...</td>\n",
       "      <td>9.970742e-01</td>\n",
       "      <td>7.709553e+00</td>\n",
       "      <td>7.369678e+00</td>\n",
       "      <td>1.047542e+00</td>\n",
       "      <td>9.970742e-01</td>\n",
       "      <td>7.709553e+00</td>\n",
       "      <td>7.369678e+00</td>\n",
       "      <td>1.047542e+00</td>\n",
       "      <td>2.235014e+01</td>\n",
       "      <td>4.325719e+02</td>\n",
       "    </tr>\n",
       "    <tr>\n",
       "      <th>std</th>\n",
       "      <td>1.312860e+16</td>\n",
       "      <td>1.004072e-02</td>\n",
       "      <td>2.156698e-03</td>\n",
       "      <td>0.0</td>\n",
       "      <td>2.255589e+12</td>\n",
       "      <td>1.172928e+03</td>\n",
       "      <td>1.172928e+03</td>\n",
       "      <td>1.156731e+03</td>\n",
       "      <td>1.156731e+03</td>\n",
       "      <td>5.106858e+03</td>\n",
       "      <td>...</td>\n",
       "      <td>4.803785e-02</td>\n",
       "      <td>3.042236e+00</td>\n",
       "      <td>2.917186e+00</td>\n",
       "      <td>6.309727e-02</td>\n",
       "      <td>4.803785e-02</td>\n",
       "      <td>3.042236e+00</td>\n",
       "      <td>2.917186e+00</td>\n",
       "      <td>6.309727e-02</td>\n",
       "      <td>1.764144e+01</td>\n",
       "      <td>2.900172e+02</td>\n",
       "    </tr>\n",
       "    <tr>\n",
       "      <th>min</th>\n",
       "      <td>4.580950e+14</td>\n",
       "      <td>9.758740e-01</td>\n",
       "      <td>-5.458256e-01</td>\n",
       "      <td>0.0</td>\n",
       "      <td>2.040254e+16</td>\n",
       "      <td>-4.997028e-01</td>\n",
       "      <td>-4.997028e-01</td>\n",
       "      <td>-4.998956e-01</td>\n",
       "      <td>-4.998956e-01</td>\n",
       "      <td>1.010927e-05</td>\n",
       "      <td>...</td>\n",
       "      <td>1.735708e-02</td>\n",
       "      <td>1.666667e-01</td>\n",
       "      <td>-3.106254e+02</td>\n",
       "      <td>-1.292034e+01</td>\n",
       "      <td>1.735708e-02</td>\n",
       "      <td>1.666667e-01</td>\n",
       "      <td>-3.106254e+02</td>\n",
       "      <td>-1.292034e+01</td>\n",
       "      <td>0.000000e+00</td>\n",
       "      <td>1.254046e-02</td>\n",
       "    </tr>\n",
       "    <tr>\n",
       "      <th>25%</th>\n",
       "      <td>1.529533e+16</td>\n",
       "      <td>9.840738e-01</td>\n",
       "      <td>-5.441365e-01</td>\n",
       "      <td>0.0</td>\n",
       "      <td>2.040268e+16</td>\n",
       "      <td>1.024845e+03</td>\n",
       "      <td>1.024845e+03</td>\n",
       "      <td>9.841972e+02</td>\n",
       "      <td>9.841972e+02</td>\n",
       "      <td>5.426672e-01</td>\n",
       "      <td>...</td>\n",
       "      <td>9.811409e-01</td>\n",
       "      <td>5.511863e+00</td>\n",
       "      <td>5.294596e+00</td>\n",
       "      <td>1.019693e+00</td>\n",
       "      <td>9.811409e-01</td>\n",
       "      <td>5.511863e+00</td>\n",
       "      <td>5.294596e+00</td>\n",
       "      <td>1.019693e+00</td>\n",
       "      <td>6.000000e+00</td>\n",
       "      <td>2.279163e+02</td>\n",
       "    </tr>\n",
       "    <tr>\n",
       "      <th>50%</th>\n",
       "      <td>2.959092e+16</td>\n",
       "      <td>9.925290e-01</td>\n",
       "      <td>-5.426464e-01</td>\n",
       "      <td>0.0</td>\n",
       "      <td>2.040295e+16</td>\n",
       "      <td>2.041084e+03</td>\n",
       "      <td>2.041084e+03</td>\n",
       "      <td>1.985855e+03</td>\n",
       "      <td>1.985855e+03</td>\n",
       "      <td>7.381622e+00</td>\n",
       "      <td>...</td>\n",
       "      <td>1.000415e+00</td>\n",
       "      <td>7.153632e+00</td>\n",
       "      <td>6.838700e+00</td>\n",
       "      <td>1.032921e+00</td>\n",
       "      <td>1.000415e+00</td>\n",
       "      <td>7.153632e+00</td>\n",
       "      <td>6.838700e+00</td>\n",
       "      <td>1.032921e+00</td>\n",
       "      <td>2.100000e+01</td>\n",
       "      <td>3.723838e+02</td>\n",
       "    </tr>\n",
       "    <tr>\n",
       "      <th>75%</th>\n",
       "      <td>4.352339e+16</td>\n",
       "      <td>1.002073e+00</td>\n",
       "      <td>-5.406726e-01</td>\n",
       "      <td>0.0</td>\n",
       "      <td>2.040749e+16</td>\n",
       "      <td>3.054339e+03</td>\n",
       "      <td>3.054339e+03</td>\n",
       "      <td>2.991718e+03</td>\n",
       "      <td>2.991718e+03</td>\n",
       "      <td>1.348687e+01</td>\n",
       "      <td>...</td>\n",
       "      <td>1.020281e+00</td>\n",
       "      <td>8.725614e+00</td>\n",
       "      <td>8.349802e+00</td>\n",
       "      <td>1.054493e+00</td>\n",
       "      <td>1.020281e+00</td>\n",
       "      <td>8.725614e+00</td>\n",
       "      <td>8.349802e+00</td>\n",
       "      <td>1.054493e+00</td>\n",
       "      <td>3.400000e+01</td>\n",
       "      <td>5.745655e+02</td>\n",
       "    </tr>\n",
       "    <tr>\n",
       "      <th>max</th>\n",
       "      <td>4.910960e+16</td>\n",
       "      <td>1.014723e+00</td>\n",
       "      <td>-5.380219e-01</td>\n",
       "      <td>0.0</td>\n",
       "      <td>2.040776e+16</td>\n",
       "      <td>4.071500e+03</td>\n",
       "      <td>4.071500e+03</td>\n",
       "      <td>3.999500e+03</td>\n",
       "      <td>3.999500e+03</td>\n",
       "      <td>7.904485e+06</td>\n",
       "      <td>...</td>\n",
       "      <td>1.952653e+01</td>\n",
       "      <td>9.320594e+02</td>\n",
       "      <td>9.202869e+01</td>\n",
       "      <td>1.182135e+02</td>\n",
       "      <td>1.952653e+01</td>\n",
       "      <td>9.320594e+02</td>\n",
       "      <td>9.202869e+01</td>\n",
       "      <td>1.182135e+02</td>\n",
       "      <td>8.300000e+01</td>\n",
       "      <td>3.300657e+03</td>\n",
       "    </tr>\n",
       "  </tbody>\n",
       "</table>\n",
       "<p>8 rows × 79 columns</p>\n",
       "</div>"
      ],
      "text/plain": [
       "                 id      coord_ra     coord_dec      parent  dia_object_id  \\\n",
       "count  1.727197e+07  1.727197e+07  1.727197e+07  17271966.0   1.727197e+07   \n",
       "mean   2.904649e+16  9.933197e-01 -5.423818e-01         0.0   2.040442e+16   \n",
       "std    1.312860e+16  1.004072e-02  2.156698e-03         0.0   2.255589e+12   \n",
       "min    4.580950e+14  9.758740e-01 -5.458256e-01         0.0   2.040254e+16   \n",
       "25%    1.529533e+16  9.840738e-01 -5.441365e-01         0.0   2.040268e+16   \n",
       "50%    2.959092e+16  9.925290e-01 -5.426464e-01         0.0   2.040295e+16   \n",
       "75%    4.352339e+16  1.002073e+00 -5.406726e-01         0.0   2.040749e+16   \n",
       "max    4.910960e+16  1.014723e+00 -5.380219e-01         0.0   2.040776e+16   \n",
       "\n",
       "       base_DiaTransformedCentroid_x  slot_Centroid_x  \\\n",
       "count                   1.727197e+07     1.727197e+07   \n",
       "mean                    2.039066e+03     2.039066e+03   \n",
       "std                     1.172928e+03     1.172928e+03   \n",
       "min                    -4.997028e-01    -4.997028e-01   \n",
       "25%                     1.024845e+03     1.024845e+03   \n",
       "50%                     2.041084e+03     2.041084e+03   \n",
       "75%                     3.054339e+03     3.054339e+03   \n",
       "max                     4.071500e+03     4.071500e+03   \n",
       "\n",
       "       base_DiaTransformedCentroid_y  slot_Centroid_y  base_SdssShape_xx  ...  \\\n",
       "count                   1.727197e+07     1.727197e+07       1.034817e+07  ...   \n",
       "mean                    1.989884e+03     1.989884e+03       1.063951e+02  ...   \n",
       "std                     1.156731e+03     1.156731e+03       5.106858e+03  ...   \n",
       "min                    -4.998956e-01    -4.998956e-01       1.010927e-05  ...   \n",
       "25%                     9.841972e+02     9.841972e+02       5.426672e-01  ...   \n",
       "50%                     1.985855e+03     1.985855e+03       7.381622e+00  ...   \n",
       "75%                     2.991718e+03     2.991718e+03       1.348687e+01  ...   \n",
       "max                     3.999500e+03     3.999500e+03       7.904485e+06  ...   \n",
       "\n",
       "       slot_PsfShape_moments_ratio_qs  slot_PsfShape_moments_xx_diag  \\\n",
       "count                    1.727192e+07                   1.727192e+07   \n",
       "mean                     9.970742e-01                   7.709553e+00   \n",
       "std                      4.803785e-02                   3.042236e+00   \n",
       "min                      1.735708e-02                   1.666667e-01   \n",
       "25%                      9.811409e-01                   5.511863e+00   \n",
       "50%                      1.000415e+00                   7.153632e+00   \n",
       "75%                      1.020281e+00                   8.725614e+00   \n",
       "max                      1.952653e+01                   9.320594e+02   \n",
       "\n",
       "       slot_PsfShape_moments_yy_diag  slot_PsfShape_moments_ratio_diag  \\\n",
       "count                   1.727192e+07                      1.727192e+07   \n",
       "mean                    7.369678e+00                      1.047542e+00   \n",
       "std                     2.917186e+00                      6.309727e-02   \n",
       "min                    -3.106254e+02                     -1.292034e+01   \n",
       "25%                     5.294596e+00                      1.019693e+00   \n",
       "50%                     6.838700e+00                      1.032921e+00   \n",
       "75%                     8.349802e+00                      1.054493e+00   \n",
       "max                     9.202869e+01                      1.182135e+02   \n",
       "\n",
       "       slot_Shape_psf_moments_ratio_qs  slot_Shape_psf_moments_xx_diag  \\\n",
       "count                     1.727192e+07                    1.727192e+07   \n",
       "mean                      9.970742e-01                    7.709553e+00   \n",
       "std                       4.803785e-02                    3.042236e+00   \n",
       "min                       1.735708e-02                    1.666667e-01   \n",
       "25%                       9.811409e-01                    5.511863e+00   \n",
       "50%                       1.000415e+00                    7.153632e+00   \n",
       "75%                       1.020281e+00                    8.725614e+00   \n",
       "max                       1.952653e+01                    9.320594e+02   \n",
       "\n",
       "       slot_Shape_psf_moments_yy_diag  slot_Shape_psf_moments_ratio_diag  \\\n",
       "count                    1.727192e+07                       1.727192e+07   \n",
       "mean                     7.369678e+00                       1.047542e+00   \n",
       "std                      2.917186e+00                       6.309727e-02   \n",
       "min                     -3.106254e+02                      -1.292034e+01   \n",
       "25%                      5.294596e+00                       1.019693e+00   \n",
       "50%                      6.838700e+00                       1.032921e+00   \n",
       "75%                      8.349802e+00                       1.054493e+00   \n",
       "max                      9.202869e+01                       1.182135e+02   \n",
       "\n",
       "             sn_row  match_ang_dist  \n",
       "count  1.727197e+07    1.727197e+07  \n",
       "mean   2.235014e+01    4.325719e+02  \n",
       "std    1.764144e+01    2.900172e+02  \n",
       "min    0.000000e+00    1.254046e-02  \n",
       "25%    6.000000e+00    2.279163e+02  \n",
       "50%    2.100000e+01    3.723838e+02  \n",
       "75%    3.400000e+01    5.745655e+02  \n",
       "max    8.300000e+01    3.300657e+03  \n",
       "\n",
       "[8 rows x 79 columns]"
      ]
     },
     "execution_count": 33,
     "metadata": {},
     "output_type": "execute_result"
    }
   ],
   "source": [
    "matched_diasrc.describe()"
   ]
  },
  {
   "cell_type": "markdown",
   "metadata": {},
   "source": [
    "### Storing datasets\n",
    "\n",
    "* Storing the datasets as three tables:\n",
    "    * Reals table (`diaSrc` instances that have been matched to a SN lightcurve epoch)\n",
    "    * Bogus table (`diaSrc` instances that have **NOT** been matched to a SN lightcurve epoch)\n",
    "    * Matched LCs table (truth lightcurve table with the matching result information attached.)"
   ]
  },
  {
   "cell_type": "code",
   "execution_count": 34,
   "metadata": {},
   "outputs": [],
   "source": [
    "reals = matched_diasrc.loc[matched_diasrc['cxmatch']]\n",
    "bogus = matched_diasrc.loc[~matched_diasrc['cxmatch']]"
   ]
  },
  {
   "cell_type": "code",
   "execution_count": 35,
   "metadata": {},
   "outputs": [
    {
     "data": {
      "text/plain": [
       "1660"
      ]
     },
     "execution_count": 35,
     "metadata": {},
     "output_type": "execute_result"
    }
   ],
   "source": [
    "len(reals)"
   ]
  },
  {
   "cell_type": "code",
   "execution_count": 36,
   "metadata": {},
   "outputs": [
    {
     "data": {
      "text/plain": [
       "17270306"
      ]
     },
     "execution_count": 36,
     "metadata": {},
     "output_type": "execute_result"
    }
   ],
   "source": [
    "len(bogus)"
   ]
  },
  {
   "cell_type": "markdown",
   "metadata": {},
   "source": [
    "The following quantity reflects the actual portion of the truth lightcurve instances that were possible to be used because of image processing failing"
   ]
  },
  {
   "cell_type": "code",
   "execution_count": 37,
   "metadata": {},
   "outputs": [
    {
     "data": {
      "text/plain": [
       "0.38697797746188406"
      ]
     },
     "execution_count": 37,
     "metadata": {},
     "output_type": "execute_result"
    }
   ],
   "source": [
    "np.sum(lcs['visit_used'])/len(lcs)"
   ]
  },
  {
   "cell_type": "code",
   "execution_count": 38,
   "metadata": {},
   "outputs": [
    {
     "data": {
      "text/plain": [
       "0.38697797746188406"
      ]
     },
     "execution_count": 38,
     "metadata": {},
     "output_type": "execute_result"
    }
   ],
   "source": [
    "len(matched_lcs)/len(lcs)"
   ]
  },
  {
   "cell_type": "code",
   "execution_count": 39,
   "metadata": {},
   "outputs": [
    {
     "data": {
      "text/plain": [
       "0.9740888582615017"
      ]
     },
     "execution_count": 39,
     "metadata": {},
     "output_type": "execute_result"
    }
   ],
   "source": [
    "(len(reals) + len(bogus))/len(diasrc_tab)"
   ]
  },
  {
   "cell_type": "code",
   "execution_count": 40,
   "metadata": {},
   "outputs": [],
   "source": [
    "reals.to_csv(f'{SCRATCH}/results/forced_reals_table.csv')\n",
    "bogus.to_csv(f'{SCRATCH}/results/forced_bogus_table.csv')\n",
    "matched_lcs.to_csv(f'{SCRATCH}/results/forced_matched_lcs_visit_by_visit.csv')"
   ]
  },
  {
   "cell_type": "markdown",
   "metadata": {},
   "source": [
    "-----------\n",
    "\n",
    "_Moved to the visit_check.ipynb Notebook_\n",
    "### Analyzing visits used"
   ]
  },
  {
   "cell_type": "raw",
   "metadata": {},
   "source": [
    "visitab_minion = pd.read_csv('../catalogs+tables/full_t_visits_from_minion.csv')\n",
    "visitab_tractm = pd.read_csv('../catalogs+tables/full_visits_from_tractmapping_db.csv')"
   ]
  },
  {
   "cell_type": "raw",
   "metadata": {},
   "source": [
    "len(np.unique(visitab_minion['obsHistID'])), len(np.unique(diasrc_tab['visit_n'])), len(np.unique(visitab_tractm['visit']))"
   ]
  },
  {
   "cell_type": "raw",
   "metadata": {},
   "source": [
    "plt.figure(figsize=(16,4))\n",
    "plt.vlines(x=np.unique(visitab_tractm['visit']), ymin=0, ymax=1, colors='blue', lw=0.5)\n",
    "plt.vlines(x=np.unique(visitab_minion['obsHistID']), ymin=0, ymax=1, colors='black', lw=0.5)\n",
    "plt.vlines(x=np.unique(diasrc_tab['visit_n']), ymin=0, ymax=1, colors='red', lw=0.5)\n",
    "plt.xlim(-10, 750_000)\n",
    "plt.yticks([-1, 2])\n",
    "plt.ylim(-0.1, 1.1)\n",
    "plt.xlabel('Visit N')"
   ]
  },
  {
   "cell_type": "raw",
   "metadata": {},
   "source": [
    "plt.figure(figsize=(16,4))\n",
    "plt.vlines(x=np.unique(visitab_tractm['visit']), ymin=0, ymax=1, colors='blue', lw=0.5)\n",
    "plt.vlines(x=np.unique(visitab_minion['obsHistID']), ymin=0, ymax=1, colors='black', lw=0.5)\n",
    "plt.vlines(x=np.unique(diasrc_tab['visit_n']), ymin=0, ymax=1, colors='red', lw=0.5)\n",
    "plt.xlim(150_000, 300_000)\n",
    "plt.yticks([-1, 2])\n",
    "plt.ylim(-0.1, 1.1)\n",
    "plt.xlabel('Visit N')"
   ]
  },
  {
   "cell_type": "raw",
   "metadata": {},
   "source": [
    "np.sum(visitab_minion['obsHistID'].isin(visitab_tractm['visit']))"
   ]
  },
  {
   "cell_type": "raw",
   "metadata": {},
   "source": [
    "np.sum(visitab_tractm['visit'].isin(visitab_minion['obsHistID']))"
   ]
  },
  {
   "cell_type": "raw",
   "metadata": {},
   "source": [
    "plt.figure(figsize=(24,4))\n",
    "plt.vlines(x=np.unique(visitab_tractm['visit']), ymin=0, ymax=1, colors='blue')\n",
    "plt.vlines(x=np.unique(visitab_minion['obsHistID']), ymin=0, ymax=1, colors='black')\n",
    "plt.vlines(x=np.unique(diasrc_tab['visit_n']), ymin=0, ymax=1, colors='red')"
   ]
  },
  {
   "cell_type": "raw",
   "metadata": {},
   "source": [
    "visitab_minion"
   ]
  },
  {
   "cell_type": "code",
   "execution_count": null,
   "metadata": {},
   "outputs": [],
   "source": []
  }
 ],
 "metadata": {
  "kernelspec": {
   "display_name": "desc-python",
   "language": "python",
   "name": "desc-python"
  },
  "language_info": {
   "codemirror_mode": {
    "name": "ipython",
    "version": 3
   },
   "file_extension": ".py",
   "mimetype": "text/x-python",
   "name": "python",
   "nbconvert_exporter": "python",
   "pygments_lexer": "ipython3",
   "version": "3.7.2"
  }
 },
 "nbformat": 4,
 "nbformat_minor": 4
}
