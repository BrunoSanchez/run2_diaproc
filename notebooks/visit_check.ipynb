{
 "cells": [
  {
   "cell_type": "code",
   "execution_count": 1,
   "metadata": {},
   "outputs": [],
   "source": [
    "import os\n",
    "import glob\n",
    "import warnings\n",
    "import sqlite3\n",
    "import re"
   ]
  },
  {
   "cell_type": "code",
   "execution_count": 2,
   "metadata": {},
   "outputs": [],
   "source": [
    "import numpy as np\n",
    "import pandas as pd"
   ]
  },
  {
   "cell_type": "code",
   "execution_count": 3,
   "metadata": {},
   "outputs": [],
   "source": [
    "from astropy.table import Table"
   ]
  },
  {
   "cell_type": "code",
   "execution_count": 4,
   "metadata": {},
   "outputs": [],
   "source": [
    "import lsst.daf.persistence as dafPersist\n",
    "import lsst.afw.geom as afwGeom\n",
    "import lsst.afw.coord as afwCoord\n",
    "import lsst.afw.image as afwImage\n",
    "import lsst.afw.display as afwDisplay\n",
    "import lsst.afw.cameraGeom as cameraGeom"
   ]
  },
  {
   "cell_type": "code",
   "execution_count": 5,
   "metadata": {},
   "outputs": [],
   "source": [
    "from lsst.daf.persistence import Butler"
   ]
  },
  {
   "cell_type": "code",
   "execution_count": 6,
   "metadata": {},
   "outputs": [],
   "source": [
    "from astropy.visualization import ZScaleInterval\n",
    "zscale = ZScaleInterval()"
   ]
  },
  {
   "cell_type": "code",
   "execution_count": 13,
   "metadata": {},
   "outputs": [],
   "source": [
    "import matplotlib.pyplot as plt\n",
    "import matplotlib.patches as patches\n",
    "%matplotlib inline"
   ]
  },
  {
   "cell_type": "markdown",
   "metadata": {},
   "source": [
    "## With the tract mapping DB"
   ]
  },
  {
   "cell_type": "code",
   "execution_count": 10,
   "metadata": {},
   "outputs": [],
   "source": [
    "repo = '/global/cscratch1/sd/desc/DC2/data/Run2.1i/rerun/calexp-v1' \n",
    "b = Butler(repo)\n",
    "skymap = b.get('deepCoadd_skyMap')"
   ]
  },
  {
   "cell_type": "code",
   "execution_count": 27,
   "metadata": {},
   "outputs": [],
   "source": [
    "ramin = 56\n",
    "ramax = 58\n",
    "decmin = -32\n",
    "decmax = -31"
   ]
  },
  {
   "cell_type": "code",
   "execution_count": 28,
   "metadata": {},
   "outputs": [],
   "source": [
    "# creating a rectangle of 2 sq. degree for tract/patch search\n",
    "radec_NE = afwGeom.SpherePoint(ramax, decmax, afwGeom.degrees)\n",
    "radec_SE = afwGeom.SpherePoint(ramax, decmin, afwGeom.degrees)\n",
    "radec_SW = afwGeom.SpherePoint(ramin, decmin, afwGeom.degrees)\n",
    "radec_NW = afwGeom.SpherePoint(ramin, decmax, afwGeom.degrees)\n",
    "rect = [radec_NE, radec_NW, radec_SW, radec_SE]"
   ]
  },
  {
   "cell_type": "code",
   "execution_count": 29,
   "metadata": {},
   "outputs": [],
   "source": [
    "tpatches = skymap.findTractPatchList(rect)"
   ]
  },
  {
   "cell_type": "code",
   "execution_count": 30,
   "metadata": {},
   "outputs": [],
   "source": [
    "# to figure the visits on this patches we need the DB  \n",
    "# this will help us dtermine seeing and time cuts for coadds\n",
    "database = repo+'/tracts_mapping.sqlite3'\n",
    "query_tmpl = \"select DISTINCT(visit), filter from overlaps WHERE tract={} and patch={} order by visit\"\n",
    "conn = sqlite3.connect(database)\n",
    "c = conn.cursor()"
   ]
  },
  {
   "cell_type": "code",
   "execution_count": 31,
   "metadata": {},
   "outputs": [
    {
     "name": "stdout",
     "output_type": "stream",
     "text": [
      "TractInfo(id=4640)\n",
      "PatchInfo(index=(3, 0))\n",
      "PatchInfo(index=(3, 1))\n",
      "PatchInfo(index=(4, 0))\n",
      "PatchInfo(index=(4, 1))\n",
      "PatchInfo(index=(5, 0))\n",
      "PatchInfo(index=(5, 1))\n",
      "PatchInfo(index=(6, 0))\n",
      "PatchInfo(index=(6, 1))\n",
      "TractInfo(id=4639)\n",
      "PatchInfo(index=(0, 0))\n",
      "PatchInfo(index=(0, 1))\n",
      "PatchInfo(index=(1, 0))\n",
      "PatchInfo(index=(1, 1))\n",
      "PatchInfo(index=(2, 0))\n",
      "PatchInfo(index=(2, 1))\n",
      "PatchInfo(index=(3, 0))\n",
      "PatchInfo(index=(3, 1))\n",
      "PatchInfo(index=(4, 0))\n",
      "PatchInfo(index=(4, 1))\n",
      "TractInfo(id=4431)\n",
      "PatchInfo(index=(0, 3))\n",
      "PatchInfo(index=(0, 4))\n",
      "PatchInfo(index=(0, 5))\n",
      "PatchInfo(index=(0, 6))\n",
      "PatchInfo(index=(1, 3))\n",
      "PatchInfo(index=(1, 4))\n",
      "PatchInfo(index=(1, 5))\n",
      "PatchInfo(index=(1, 6))\n",
      "PatchInfo(index=(2, 3))\n",
      "PatchInfo(index=(2, 4))\n",
      "PatchInfo(index=(2, 5))\n",
      "PatchInfo(index=(2, 6))\n",
      "TractInfo(id=4432)\n",
      "PatchInfo(index=(1, 3))\n",
      "PatchInfo(index=(1, 4))\n",
      "PatchInfo(index=(1, 5))\n",
      "PatchInfo(index=(1, 6))\n",
      "PatchInfo(index=(2, 3))\n",
      "PatchInfo(index=(2, 4))\n",
      "PatchInfo(index=(2, 5))\n",
      "PatchInfo(index=(2, 6))\n",
      "PatchInfo(index=(3, 3))\n",
      "PatchInfo(index=(3, 4))\n",
      "PatchInfo(index=(3, 5))\n",
      "PatchInfo(index=(3, 6))\n",
      "PatchInfo(index=(4, 3))\n",
      "PatchInfo(index=(4, 4))\n",
      "PatchInfo(index=(4, 5))\n",
      "PatchInfo(index=(4, 6))\n",
      "PatchInfo(index=(5, 3))\n",
      "PatchInfo(index=(5, 4))\n",
      "PatchInfo(index=(5, 5))\n",
      "PatchInfo(index=(5, 6))\n",
      "PatchInfo(index=(6, 3))\n",
      "PatchInfo(index=(6, 4))\n",
      "PatchInfo(index=(6, 5))\n",
      "PatchInfo(index=(6, 6))\n"
     ]
    }
   ],
   "source": [
    "full_visits = []\n",
    "# check the tracts+patch, print their names\n",
    "for atract in tpatches:\n",
    "    print(atract[0])  # prints the number of the tract\n",
    "    thepatches = atract[1]  # next things on list are the patches\n",
    "    tract_visits = []\n",
    "    for apatch in thepatches:\n",
    "        print(apatch)\n",
    "        # Now we have the list of tract+patch \n",
    "        # let's find the visit list\n",
    "        patchx, patchy = apatch.getIndex()\n",
    "        strpatch = \"'\"+str((int(patchx), int(patchy)))+\"'\"\n",
    "        query = query_tmpl.format(atract[0].getId(), strpatch)\n",
    "        visitab = pd.read_sql_query(query, conn)\n",
    "        full_visits.append(visitab)\n",
    "        tract_visits.append(visitab)"
   ]
  },
  {
   "cell_type": "code",
   "execution_count": 32,
   "metadata": {},
   "outputs": [
    {
     "name": "stdout",
     "output_type": "stream",
     "text": [
      "563\n"
     ]
    }
   ],
   "source": [
    "visitab_tractmapping = pd.concat(full_visits).drop_duplicates('visit').reset_index(drop=True)\n",
    "print(len(visitab_tractmapping))"
   ]
  },
  {
   "cell_type": "markdown",
   "metadata": {},
   "source": [
    "## With the minion DB"
   ]
  },
  {
   "cell_type": "code",
   "execution_count": 39,
   "metadata": {},
   "outputs": [],
   "source": [
    "from collections import OrderedDict as Odict\n",
    "from astropy import time\n",
    "\n",
    "from lsst.sims.utils import angularSeparation\n",
    "from lsst.sims.utils import getRotSkyPos\n",
    "from lsst.sims.catUtils.utils import ObservationMetaDataGenerator"
   ]
  },
  {
   "cell_type": "code",
   "execution_count": 34,
   "metadata": {},
   "outputs": [],
   "source": [
    "# visits database\n",
    "dbname = '/global/projecta/projectdirs/lsst/groups/SSim/DC2/minion_1016_desc_dithered_v4.db'\n",
    "ObsMetaData = ObservationMetaDataGenerator(database=dbname)"
   ]
  },
  {
   "cell_type": "code",
   "execution_count": 54,
   "metadata": {},
   "outputs": [],
   "source": [
    "t0=59215; tm=61406"
   ]
  },
  {
   "cell_type": "code",
   "execution_count": 37,
   "metadata": {},
   "outputs": [],
   "source": [
    "res = ObsMetaData.getObservationMetaData(boundLength=2, boundType='circle', \n",
    "                                    fieldRA=(ramin-3, ramax+3), \n",
    "                                    fieldDec=(decmin-3, decmax+3), \n",
    "                                    expMJD=(t0, tm))"
   ]
  },
  {
   "cell_type": "code",
   "execution_count": 40,
   "metadata": {},
   "outputs": [
    {
     "name": "stderr",
     "output_type": "stream",
     "text": [
      "WARNING: ErfaWarning: ERFA function \"utcut1\" yielded 1 of \"dubious year (Note 3)\" [astropy._erfa.core]\n",
      "WARNING:astropy:ErfaWarning: ERFA function \"utcut1\" yielded 1 of \"dubious year (Note 3)\"\n"
     ]
    }
   ],
   "source": [
    "parsed = [Odict(obsmd.summary['OpsimMetaData']) for obsmd in res]\n",
    "for obsmd, summ in zip(res, parsed):\n",
    "    ditherRa = np.rad2deg(summ['descDitheredRA'])\n",
    "    ditherDec = np.rad2deg(summ['descDitheredDec'])\n",
    "    ditherRot = np.rad2deg(summ['descDitheredRotTelPos'])\n",
    "    summ['descDitheredRotSkyPos'] =  getRotSkyPos(ditherRa, ditherDec, \n",
    "                                                    obsmd, ditherRot)"
   ]
  },
  {
   "cell_type": "code",
   "execution_count": 41,
   "metadata": {},
   "outputs": [],
   "source": [
    "df = pd.DataFrame(parsed)"
   ]
  },
  {
   "cell_type": "code",
   "execution_count": 42,
   "metadata": {},
   "outputs": [
    {
     "data": {
      "text/plain": [
       "2481"
      ]
     },
     "execution_count": 42,
     "metadata": {},
     "output_type": "execute_result"
    }
   ],
   "source": [
    "len(df)"
   ]
  },
  {
   "cell_type": "code",
   "execution_count": 43,
   "metadata": {},
   "outputs": [],
   "source": [
    "df = df[df['filter'].isin(('g', 'r', 'i', 'z'))]"
   ]
  },
  {
   "cell_type": "code",
   "execution_count": 44,
   "metadata": {},
   "outputs": [
    {
     "data": {
      "text/plain": [
       "1812"
      ]
     },
     "execution_count": 44,
     "metadata": {},
     "output_type": "execute_result"
    }
   ],
   "source": [
    "len(df)"
   ]
  },
  {
   "cell_type": "code",
   "execution_count": 45,
   "metadata": {},
   "outputs": [],
   "source": [
    "X = df[['obsHistID', 'filter', 'FWHMeff', 'descDitheredRA', \n",
    "        'descDitheredDec', 'descDitheredRotTelPos', 'airmass', \n",
    "        'fiveSigmaDepth', 'expMJD', 'descDitheredRotSkyPos',\n",
    "        'fieldRA', 'fieldDec', 'rotSkyPos', 'rotTelPos']].copy()\n",
    "X.descDitheredRA = np.rad2deg(X.descDitheredRA)\n",
    "X.descDitheredDec = np.rad2deg(X.descDitheredDec)\n",
    "X.descDitheredRotTelPos = np.rad2deg(X.descDitheredRotTelPos)\n",
    "#X.descDitheredRotSkyPos = np.rad2deg(X.descDitheredRotSkyPos) already in deg"
   ]
  },
  {
   "cell_type": "code",
   "execution_count": 46,
   "metadata": {},
   "outputs": [],
   "source": [
    "X.fieldRA = np.rad2deg(X.fieldRA)\n",
    "X.fieldDec = np.rad2deg(X.fieldDec)\n",
    "X.rotTelPos = np.rad2deg(X.rotTelPos)\n",
    "X.rotSkyPos = np.rad2deg(X.rotSkyPos)"
   ]
  },
  {
   "cell_type": "code",
   "execution_count": 51,
   "metadata": {},
   "outputs": [],
   "source": [
    "X['d1'] = angularSeparation(ramin, decmax, \n",
    "    X.descDitheredRA.values, X.descDitheredDec.values)\n",
    "X['d2'] = angularSeparation(ramin, decmin, \n",
    "    X.descDitheredRA.values, X.descDitheredDec.values)\n",
    "X['d3'] = angularSeparation(ramax, decmax, \n",
    "    X.descDitheredRA.values, X.descDitheredDec.values)\n",
    "X['d4'] = angularSeparation(ramax, decmin, \n",
    "    X.descDitheredRA.values, X.descDitheredDec.values)\n",
    "visitab_minion = X.query('d1 < 1.75 | d2 < 1.75 | d3 < 1.75 |d4 < 1.75')"
   ]
  },
  {
   "cell_type": "code",
   "execution_count": 52,
   "metadata": {},
   "outputs": [
    {
     "data": {
      "text/plain": [
       "811"
      ]
     },
     "execution_count": 52,
     "metadata": {},
     "output_type": "execute_result"
    }
   ],
   "source": [
    "len(visitab_minion)"
   ]
  },
  {
   "cell_type": "code",
   "execution_count": 57,
   "metadata": {},
   "outputs": [
    {
     "data": {
      "text/plain": [
       "446"
      ]
     },
     "execution_count": 57,
     "metadata": {},
     "output_type": "execute_result"
    }
   ],
   "source": [
    "visitab = visitab_minion[visitab_minion['obsHistID']<np.max(visitab_tractmapping['visit'])]\n",
    "len(visitab)"
   ]
  },
  {
   "cell_type": "code",
   "execution_count": 60,
   "metadata": {},
   "outputs": [],
   "source": [
    "diaSrc_store = pd.HDFStore('/global/homes/b/bos0109/run2_diaproc/results/diaSrc_secrun_fulltables_v4.h5')\n",
    "diaSrc_store.open()\n",
    "diasrc_tab = diaSrc_store['full_table']\n",
    "diaSrc_store.close()"
   ]
  },
  {
   "cell_type": "code",
   "execution_count": 62,
   "metadata": {},
   "outputs": [
    {
     "data": {
      "text/plain": [
       "413"
      ]
     },
     "execution_count": 62,
     "metadata": {},
     "output_type": "execute_result"
    }
   ],
   "source": [
    "len(np.unique(diasrc_tab['visit_n']))"
   ]
  },
  {
   "cell_type": "code",
   "execution_count": 61,
   "metadata": {},
   "outputs": [
    {
     "data": {
      "text/plain": [
       "Text(0.5, 0, 'Visit N')"
      ]
     },
     "execution_count": 61,
     "metadata": {},
     "output_type": "execute_result"
    },
    {
     "data": {
      "image/png": "[encoded data removed]",
      "text/plain": [
       "<Figure size 1152x288 with 1 Axes>"
      ]
     },
     "metadata": {
      "needs_background": "light"
     },
     "output_type": "display_data"
    }
   ],
   "source": [
    "plt.figure(figsize=(16,4))\n",
    "plt.vlines(x=np.unique(visitab_tractmapping['visit']), ymin=0, ymax=1, colors='blue', lw=0.5)\n",
    "plt.vlines(x=np.unique(visitab['obsHistID']), ymin=0, ymax=1, colors='black', lw=0.5)\n",
    "plt.vlines(x=np.unique(diasrc_tab['visit_n']), ymin=0, ymax=1, colors='red', lw=0.5)\n",
    "plt.xlim(-10, 750_000)\n",
    "plt.yticks([-1, 2])\n",
    "plt.ylim(-0.1, 1.1)\n",
    "plt.xlabel('Visit N')"
   ]
  },
  {
   "cell_type": "code",
   "execution_count": null,
   "metadata": {},
   "outputs": [],
   "source": []
  }
 ],
 "metadata": {
  "kernelspec": {
   "display_name": "desc-stack",
   "language": "python",
   "name": "desc-stack"
  },
  "language_info": {
   "codemirror_mode": {
    "name": "ipython",
    "version": 3
   },
   "file_extension": ".py",
   "mimetype": "text/x-python",
   "name": "python",
   "nbconvert_exporter": "python",
   "pygments_lexer": "ipython3",
   "version": "3.7.5"
  }
 },
 "nbformat": 4,
 "nbformat_minor": 4
}
