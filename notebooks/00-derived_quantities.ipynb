{
 "cells": [
  {
   "cell_type": "markdown",
   "metadata": {},
   "source": [
    "# Inspecting diaSrc Tables\n",
    "\n",
    "## Summary\n",
    "* Loading the data\n",
    "* Defining quantities such as signal/noise\n",
    "* Producing the plots for each quantity"
   ]
  },
  {
   "cell_type": "code",
   "execution_count": 1,
   "metadata": {},
   "outputs": [],
   "source": [
    "import os\n",
    "import sqlite3"
   ]
  },
  {
   "cell_type": "code",
   "execution_count": 2,
   "metadata": {},
   "outputs": [],
   "source": [
    "os.environ['SCRATCH']='/global/cscratch1/sd/bos0109'\n",
    "SCRATCH = %env SCRATCH"
   ]
  },
  {
   "cell_type": "code",
   "execution_count": 3,
   "metadata": {},
   "outputs": [],
   "source": [
    "from scipy import linalg"
   ]
  },
  {
   "cell_type": "code",
   "execution_count": 4,
   "metadata": {},
   "outputs": [],
   "source": [
    "import numpy as np"
   ]
  },
  {
   "cell_type": "code",
   "execution_count": 5,
   "metadata": {},
   "outputs": [],
   "source": [
    "import matplotlib.pyplot as plt\n",
    "import pandas as pd"
   ]
  },
  {
   "cell_type": "code",
   "execution_count": 6,
   "metadata": {},
   "outputs": [],
   "source": [
    "%matplotlib inline"
   ]
  },
  {
   "cell_type": "code",
   "execution_count": 7,
   "metadata": {},
   "outputs": [],
   "source": [
    "from glob import glob"
   ]
  },
  {
   "cell_type": "code",
   "execution_count": 8,
   "metadata": {},
   "outputs": [],
   "source": [
    "from astropy import time\n",
    "from astropy import units as u\n",
    "from astropy.coordinates import SkyCoord\n",
    "from astropy.table import vstack"
   ]
  },
  {
   "cell_type": "markdown",
   "metadata": {},
   "source": [
    "### Loading the data\n",
    " We are loading the data from a set of files already produced and stored.\n",
    " The files contain the truth catalog for SN Ia and their parameters, as well\n",
    " a HDF5 storage container with the `diaSrc` catalogs stacked as a single table."
   ]
  },
  {
   "cell_type": "code",
   "execution_count": 9,
   "metadata": {},
   "outputs": [],
   "source": [
    "truth_lightc = pd.read_csv('../lightcurves/lightcurves_cat_rect_58.0_56.0_-31.0_-32.0.csv')\n",
    "sntab = pd.read_csv('../catalogs+tables/supernovae_cat_rect_58.0_56.0_-31.0_-32.0.csv')"
   ]
  },
  {
   "cell_type": "code",
   "execution_count": 10,
   "metadata": {},
   "outputs": [],
   "source": [
    "diaSrc_store = pd.HDFStore(f'{SCRATCH}/results/diaSrc_secrun_fulltables_v5.h5')\n",
    "diaSrc_store.open()"
   ]
  },
  {
   "cell_type": "markdown",
   "metadata": {},
   "source": [
    "## diaSrc"
   ]
  },
  {
   "cell_type": "code",
   "execution_count": 11,
   "metadata": {},
   "outputs": [],
   "source": [
    "dets = diaSrc_store['full_table']"
   ]
  },
  {
   "cell_type": "code",
   "execution_count": 12,
   "metadata": {},
   "outputs": [],
   "source": [
    "colnames = dets.columns"
   ]
  },
  {
   "cell_type": "code",
   "execution_count": 13,
   "metadata": {},
   "outputs": [],
   "source": [
    "fluxes = [acol for acol in colnames if acol.endswith('_instFlux')]"
   ]
  },
  {
   "cell_type": "code",
   "execution_count": 14,
   "metadata": {},
   "outputs": [
    {
     "name": "stdout",
     "output_type": "stream",
     "text": [
      "['base_SdssShape_instFlux', 'slot_Shape_instFlux', 'base_CircularApertureFlux_3_0_instFlux', 'base_CircularApertureFlux_4_5_instFlux', 'base_CircularApertureFlux_6_0_instFlux', 'base_CircularApertureFlux_9_0_instFlux', 'base_CircularApertureFlux_12_0_instFlux', 'slot_ApFlux_instFlux', 'base_CircularApertureFlux_17_0_instFlux', 'base_CircularApertureFlux_25_0_instFlux', 'base_CircularApertureFlux_35_0_instFlux', 'base_CircularApertureFlux_50_0_instFlux', 'base_CircularApertureFlux_70_0_instFlux', 'base_GaussianFlux_instFlux', 'base_PeakLikelihoodFlux_instFlux', 'base_PsfFlux_instFlux', 'slot_PsfFlux_instFlux', 'ip_diffim_NaiveDipoleFlux_pos_instFlux', 'ip_diffim_NaiveDipoleFlux_neg_instFlux', 'ip_diffim_PsfDipoleFlux_pos_instFlux', 'ip_diffim_PsfDipoleFlux_neg_instFlux', 'ip_diffim_DipoleFit_pos_instFlux', 'ip_diffim_DipoleFit_neg_instFlux', 'ip_diffim_DipoleFit_instFlux', 'ip_diffim_forced_PsfFlux_instFlux']\n"
     ]
    }
   ],
   "source": [
    "print(fluxes)"
   ]
  },
  {
   "cell_type": "code",
   "execution_count": 15,
   "metadata": {},
   "outputs": [
    {
     "name": "stdout",
     "output_type": "stream",
     "text": [
      "ip_diffim_DipoleFit_instFlux\n"
     ]
    }
   ],
   "source": [
    "for aflux in fluxes:\n",
    "    try:\n",
    "        dets[aflux+'_SN'] = dets[aflux]/dets[aflux+'Err']\n",
    "    except:\n",
    "        print(aflux)"
   ]
  },
  {
   "cell_type": "code",
   "execution_count": 16,
   "metadata": {},
   "outputs": [],
   "source": [
    "def eigenvals_inertia(Ixx, Iyy, Ixy):\n",
    "    delta = (Iyy - Ixx)**2 + 4*Ixy*Ixy\n",
    "    \n",
    "    Ixx_P = Ixx + Iyy + np.sqrt(delta)\n",
    "    Iyy_P = Ixx + Iyy - np.sqrt(delta)\n",
    "    return(Ixx_P, Iyy_P)"
   ]
  },
  {
   "cell_type": "code",
   "execution_count": 17,
   "metadata": {},
   "outputs": [],
   "source": [
    "secmoments = [acol for acol in colnames if acol.endswith('_xx')]"
   ]
  },
  {
   "cell_type": "code",
   "execution_count": 18,
   "metadata": {},
   "outputs": [
    {
     "name": "stdout",
     "output_type": "stream",
     "text": [
      "trying: base_SdssShape\n",
      "trying: slot_Shape\n",
      "trying: base_SdssShape_psf\n",
      "trying: slot_PsfShape\n",
      "trying: slot_Shape_psf\n"
     ]
    }
   ],
   "source": [
    "for mom in secmoments:\n",
    "    generic_name = mom.strip('_xx')\n",
    "    print('trying:', generic_name)\n",
    "    Ixx = dets[mom].values\n",
    "    Iyy = dets[generic_name+'_yy'].values\n",
    "    try:\n",
    "        Ixy = dets[generic_name+'_xy'].values\n",
    "        dets[generic_name+'_moments_ratio_qs'] = Ixx/Iyy\n",
    "        dets[generic_name+'_moments_quad'] = Ixx**2 + Iyy**2\n",
    "        try:\n",
    "            Ixxp, Iyyp = eigenvals_inertia(Ixx, Iyy, Ixy)\n",
    "        \n",
    "            dets[generic_name+'_moments_diag_xx'] = Ixxp\n",
    "            dets[generic_name+'_moments_diag_yy'] = Iyyp\n",
    "            dets[generic_name+'_moments_diag_ratio'] = Ixxp/Iyyp\n",
    "            dets[generic_name+'_moments_diag_quad'] = Ixxp**2 + Iyyp**2\n",
    "        except:\n",
    "            print('failed diag:', generic_name)\n",
    "    except:\n",
    "        print('failed complete:', generic_name)\n",
    "        \n"
   ]
  },
  {
   "cell_type": "code",
   "execution_count": 19,
   "metadata": {},
   "outputs": [],
   "source": [
    "diaSrc_store['full_table'] = dets\n",
    "diaSrc_store.flush()"
   ]
  },
  {
   "cell_type": "markdown",
   "metadata": {},
   "source": [
    "## Forced"
   ]
  },
  {
   "cell_type": "code",
   "execution_count": null,
   "metadata": {},
   "outputs": [],
   "source": []
  },
  {
   "cell_type": "code",
   "execution_count": 20,
   "metadata": {},
   "outputs": [],
   "source": [
    "dets = diaSrc_store['full_table_forced']"
   ]
  },
  {
   "cell_type": "code",
   "execution_count": 21,
   "metadata": {},
   "outputs": [],
   "source": [
    "colnames = dets.columns"
   ]
  },
  {
   "cell_type": "code",
   "execution_count": 22,
   "metadata": {},
   "outputs": [],
   "source": [
    "fluxes = [acol for acol in colnames if acol.endswith('_instFlux')]"
   ]
  },
  {
   "cell_type": "code",
   "execution_count": 23,
   "metadata": {},
   "outputs": [
    {
     "name": "stdout",
     "output_type": "stream",
     "text": [
      "['base_SdssShape_instFlux', 'slot_Shape_instFlux', 'base_LocalBackground_instFlux', 'base_PsfFlux_instFlux']\n"
     ]
    }
   ],
   "source": [
    "print(fluxes)"
   ]
  },
  {
   "cell_type": "code",
   "execution_count": 24,
   "metadata": {},
   "outputs": [],
   "source": [
    "for aflux in fluxes:\n",
    "    try:\n",
    "        dets[aflux+'_SN'] = dets[aflux]/dets[aflux+'Err']\n",
    "    except:\n",
    "        print(aflux)"
   ]
  },
  {
   "cell_type": "code",
   "execution_count": 25,
   "metadata": {},
   "outputs": [],
   "source": [
    "secmoments = [acol for acol in colnames if acol.endswith('_xx')]"
   ]
  },
  {
   "cell_type": "code",
   "execution_count": 26,
   "metadata": {},
   "outputs": [
    {
     "name": "stdout",
     "output_type": "stream",
     "text": [
      "trying: base_SdssShape\n",
      "trying: slot_Shape\n",
      "trying: base_SdssShape_psf\n",
      "trying: slot_PsfShape\n",
      "trying: slot_Shape_psf\n"
     ]
    }
   ],
   "source": [
    "for mom in secmoments:\n",
    "    generic_name = mom.strip('_xx')\n",
    "    print('trying:', generic_name)\n",
    "    Ixx = dets[mom].values\n",
    "    Iyy = dets[generic_name+'_yy'].values\n",
    "    Ixy = dets[generic_name+'_xy'].values\n",
    "    try:\n",
    "        dets[generic_name+'_moments_ratio_qs'] = Ixx/Iyy\n",
    "        try:\n",
    "            Ixxp, Iyyp = eigenvals_inertia(Ixx, Iyy, Ixy)\n",
    "        \n",
    "            dets[generic_name+'_moments_xx_diag'] = Ixxp\n",
    "            dets[generic_name+'_moments_yy_diag'] = Iyyp\n",
    "            dets[generic_name+'_moments_ratio_diag'] = Ixxp/Iyyp\n",
    "        except:\n",
    "            print('failed diag:', generic_name)\n",
    "    except:\n",
    "        print('failed complete:', generic_name)\n",
    "        \n"
   ]
  },
  {
   "cell_type": "code",
   "execution_count": 27,
   "metadata": {},
   "outputs": [],
   "source": [
    "diaSrc_store['full_table_forced'] = dets\n",
    "diaSrc_store.flush()"
   ]
  },
  {
   "cell_type": "code",
   "execution_count": 28,
   "metadata": {},
   "outputs": [],
   "source": [
    "diaSrc_store.close()"
   ]
  }
 ],
 "metadata": {
  "kernelspec": {
   "display_name": "desc-python",
   "language": "python",
   "name": "desc-python"
  },
  "language_info": {
   "codemirror_mode": {
    "name": "ipython",
    "version": 3
   },
   "file_extension": ".py",
   "mimetype": "text/x-python",
   "name": "python",
   "nbconvert_exporter": "python",
   "pygments_lexer": "ipython3",
   "version": "3.7.2"
  }
 },
 "nbformat": 4,
 "nbformat_minor": 4
}
