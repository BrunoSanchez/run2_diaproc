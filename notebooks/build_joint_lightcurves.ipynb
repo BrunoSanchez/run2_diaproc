{
 "cells": [
  {
   "cell_type": "markdown",
   "metadata": {},
   "source": [
    "## Building matched lightcurves"
   ]
  },
  {
   "cell_type": "markdown",
   "metadata": {},
   "source": [
    "### Importing the packages"
   ]
  },
  {
   "cell_type": "code",
   "execution_count": 1,
   "metadata": {},
   "outputs": [],
   "source": [
    "import os\n",
    "os.environ['SCRATCH']='/global/cscratch1/sd/bos0109'\n",
    "SCRATCH = %env SCRATCH"
   ]
  },
  {
   "cell_type": "code",
   "execution_count": 2,
   "metadata": {},
   "outputs": [],
   "source": [
    "import sqlite3"
   ]
  },
  {
   "cell_type": "code",
   "execution_count": 3,
   "metadata": {},
   "outputs": [],
   "source": [
    "from glob import glob"
   ]
  },
  {
   "cell_type": "code",
   "execution_count": 4,
   "metadata": {},
   "outputs": [],
   "source": [
    "import numpy as np"
   ]
  },
  {
   "cell_type": "code",
   "execution_count": 5,
   "metadata": {},
   "outputs": [],
   "source": [
    "import lsst.afw.cameraGeom\n",
    "import lsst.afw.geom as afwGeom\n",
    "import lsst.geom as geom"
   ]
  },
  {
   "cell_type": "code",
   "execution_count": 6,
   "metadata": {},
   "outputs": [],
   "source": [
    "import matplotlib.pyplot as plt\n",
    "import pandas as pd\n",
    "import seaborn as sns"
   ]
  },
  {
   "cell_type": "code",
   "execution_count": 60,
   "metadata": {},
   "outputs": [],
   "source": [
    "sns.set_context('notebook')"
   ]
  },
  {
   "cell_type": "code",
   "execution_count": 8,
   "metadata": {},
   "outputs": [],
   "source": [
    "from astropy import time\n",
    "from astropy import units as u\n",
    "from astropy.coordinates import SkyCoord\n",
    "from astropy.table import vstack"
   ]
  },
  {
   "cell_type": "code",
   "execution_count": 9,
   "metadata": {},
   "outputs": [],
   "source": [
    "from lsst.afw.geom import makeSkyWcs\n",
    "from lsst.daf.persistence import Butler\n",
    "from lsst.obs.lsst.imsim import ImsimMapper"
   ]
  },
  {
   "cell_type": "code",
   "execution_count": 31,
   "metadata": {},
   "outputs": [],
   "source": [
    "template_repo = '/global/cscratch1/sd/bos0109/templates_rect'\n",
    "tmprepo = template_repo + '/rerun/multiband'\n",
    "\n",
    "diarepo = template_repo + '/rerun/diff_rect'\n",
    "assocrepo = diarepo + '/rerun/assoc_thirrun'\n",
    "forcerepo = assocrepo + '/rerun/forcedPhot' \n",
    "\n",
    "diabutler = Butler(diarepo)"
   ]
  },
  {
   "cell_type": "markdown",
   "metadata": {},
   "source": [
    "### Loading the stored tables"
   ]
  },
  {
   "cell_type": "code",
   "execution_count": 10,
   "metadata": {},
   "outputs": [],
   "source": [
    "sntab = pd.read_csv(f'{SCRATCH}/results/sntab_matched.csv')"
   ]
  },
  {
   "cell_type": "code",
   "execution_count": 11,
   "metadata": {},
   "outputs": [
    {
     "data": {
      "text/plain": [
       "Index(['Unnamed: 0', 'Unnamed: 0.1', 'htmid_level_6', 'galaxy_id', 'c_in',\n",
       "       'mB', 't0_in', 'x0_in', 'x1_in', 'z_in', 'snid_in', 'snra_in',\n",
       "       'sndec_in', 'Nobserv', 'N_trueobserv', 'matched', 'match_ang_dist',\n",
       "       'dia_row', 'dia_id', 'tract', 'patch', 'n_dia_detections'],\n",
       "      dtype='object')"
      ]
     },
     "execution_count": 11,
     "metadata": {},
     "output_type": "execute_result"
    }
   ],
   "source": [
    "sntab.columns"
   ]
  },
  {
   "cell_type": "code",
   "execution_count": 12,
   "metadata": {},
   "outputs": [],
   "source": [
    "snlcs = pd.read_csv('/global/u2/b/bos0109/run2_diaproc/lightcurves/sn_matched_lcs.csv')"
   ]
  },
  {
   "cell_type": "code",
   "execution_count": 13,
   "metadata": {},
   "outputs": [
    {
     "data": {
      "text/plain": [
       "Index(['Unnamed: 0', 'observable', 'observed', 'flux', 'fluxErr', 'mag',\n",
       "       'magErr', 'mjd', 'filter', 'visitn', 'epoch_DIAmatch', 'SN_id'],\n",
       "      dtype='object')"
      ]
     },
     "execution_count": 13,
     "metadata": {},
     "output_type": "execute_result"
    }
   ],
   "source": [
    "snlcs.columns"
   ]
  },
  {
   "cell_type": "code",
   "execution_count": 14,
   "metadata": {},
   "outputs": [],
   "source": [
    "diaO = pd.read_csv(f'{SCRATCH}/results/diaObject_table.csv')"
   ]
  },
  {
   "cell_type": "code",
   "execution_count": 15,
   "metadata": {},
   "outputs": [
    {
     "data": {
      "text/plain": [
       "Index(['id', 'coord_ra', 'coord_dec', 'parent', 'nobs',\n",
       "       'base_PsfFlux_instFlux_Mean_u', 'base_PsfFlux_instFlux_Ndata_u',\n",
       "       'base_PsfFlux_instFlux_Sigma_u', 'base_PsfFlux_instFlux_MeanErr_u',\n",
       "       'base_PsfFlux_instFlux_Mean_g', 'base_PsfFlux_instFlux_Ndata_g',\n",
       "       'base_PsfFlux_instFlux_Sigma_g', 'base_PsfFlux_instFlux_MeanErr_g',\n",
       "       'base_PsfFlux_instFlux_Mean_r', 'base_PsfFlux_instFlux_Ndata_r',\n",
       "       'base_PsfFlux_instFlux_Sigma_r', 'base_PsfFlux_instFlux_MeanErr_r',\n",
       "       'base_PsfFlux_instFlux_Mean_i', 'base_PsfFlux_instFlux_Ndata_i',\n",
       "       'base_PsfFlux_instFlux_Sigma_i', 'base_PsfFlux_instFlux_MeanErr_i',\n",
       "       'base_PsfFlux_instFlux_Mean_z', 'base_PsfFlux_instFlux_Ndata_z',\n",
       "       'base_PsfFlux_instFlux_Sigma_z', 'base_PsfFlux_instFlux_MeanErr_z',\n",
       "       'base_PsfFlux_instFlux_Mean_y', 'base_PsfFlux_instFlux_Ndata_y',\n",
       "       'base_PsfFlux_instFlux_Sigma_y', 'base_PsfFlux_instFlux_MeanErr_y',\n",
       "       'tract', 'patch', 'match', 'sn_row', 'match_ang_dist', 'sn_id'],\n",
       "      dtype='object')"
      ]
     },
     "execution_count": 15,
     "metadata": {},
     "output_type": "execute_result"
    }
   ],
   "source": [
    "diaO.columns"
   ]
  },
  {
   "cell_type": "code",
   "execution_count": 16,
   "metadata": {},
   "outputs": [],
   "source": [
    "diaSrc_store = pd.HDFStore(f'{SCRATCH}/results/diaSrc_secrun_fulltables_v5.h5', mode='r+')\n",
    "diaSrc_store.open()"
   ]
  },
  {
   "cell_type": "code",
   "execution_count": 17,
   "metadata": {},
   "outputs": [],
   "source": [
    "lcs = diaSrc_store['lightcurves']"
   ]
  },
  {
   "cell_type": "code",
   "execution_count": 18,
   "metadata": {},
   "outputs": [
    {
     "data": {
      "text/plain": [
       "Index(['id', 'coord_ra', 'coord_dec', 'parent', 'flags_negative',\n",
       "       'base_NaiveCentroid_x', 'base_NaiveCentroid_y',\n",
       "       'base_NaiveCentroid_flag', 'base_NaiveCentroid_flag_noCounts',\n",
       "       'base_NaiveCentroid_flag_edge',\n",
       "       ...\n",
       "       'ip_diffim_forced_PsfFlux_flag',\n",
       "       'ip_diffim_forced_PsfFlux_flag_noGoodPixels',\n",
       "       'ip_diffim_forced_PsfFlux_flag_edge', 'visit_n', 'filter', 'raft',\n",
       "       'sensor', 'detector', 'epoch_matched', 'diaObjectId'],\n",
       "      dtype='object', length=255)"
      ]
     },
     "execution_count": 18,
     "metadata": {},
     "output_type": "execute_result"
    }
   ],
   "source": [
    "lcs.columns"
   ]
  },
  {
   "cell_type": "code",
   "execution_count": 19,
   "metadata": {},
   "outputs": [],
   "source": [
    "diasrcs = diaSrc_store['matched_tab']"
   ]
  },
  {
   "cell_type": "code",
   "execution_count": 20,
   "metadata": {},
   "outputs": [],
   "source": [
    "diaSrc_store.close()"
   ]
  },
  {
   "cell_type": "markdown",
   "metadata": {},
   "source": [
    "Add the MJD to the table if doesn't exist"
   ]
  },
  {
   "cell_type": "code",
   "execution_count": 40,
   "metadata": {},
   "outputs": [],
   "source": [
    "for vname, group in lcs.groupby('visit_n'):\n",
    "    mjd = diabutler.get('calexp', visit=vname, detector=10).getInfo().getVisitInfo().getDate().get()\n",
    "    lcs.loc[group.index, 'mjd'] = mjd"
   ]
  },
  {
   "cell_type": "code",
   "execution_count": 186,
   "metadata": {},
   "outputs": [],
   "source": [
    "#for vname, group in lcs.groupby('visit_n'):\n",
    "#    mjd = diabutler.get('calexp', visit=vname, detector=10).getInfo().getVisitInfo().getDate().get()\n",
    "#    lcs.loc[group.index, 'mjd'] = mjd"
   ]
  },
  {
   "cell_type": "code",
   "execution_count": 41,
   "metadata": {},
   "outputs": [],
   "source": [
    "fluxes_to_calibrate = ['base_PsfFlux_instFlux',\n",
    "                       'ip_diffim_forced_PsfFlux_instFlux',\n",
    "                       'base_CircularApertureFlux_3_0_instFlux',\n",
    "                       'base_CircularApertureFlux_4_5_instFlux',\n",
    "                       'base_CircularApertureFlux_6_0_instFlux',\n",
    "                       'base_CircularApertureFlux_9_0_instFlux',\n",
    "                       'base_CircularApertureFlux_12_0_instFlux', \n",
    "                       'base_CircularApertureFlux_17_0_instFlux', \n",
    "                       'base_CircularApertureFlux_25_0_instFlux']"
   ]
  },
  {
   "cell_type": "code",
   "execution_count": 42,
   "metadata": {},
   "outputs": [],
   "source": [
    "for aflux in fluxes_to_calibrate:\n",
    "    lcs[aflux+'_nJy'] = np.nan \n",
    "    lcs[aflux+'_nJyErr'] = np.nan \n",
    "    lcs[aflux+'_calMag'] = np.nan \n",
    "    lcs[aflux+'_calMagErr'] = np.nan "
   ]
  },
  {
   "cell_type": "code",
   "execution_count": 43,
   "metadata": {},
   "outputs": [],
   "source": [
    "for name, srccat in lcs.groupby(\n",
    "    ['visit_n', 'detector']):\n",
    "    vn, det = name\n",
    "    vn = int(vn)\n",
    "    det= int(det)\n",
    "    \n",
    "    #mjd = diabutler.get('calexp', visit=vn, detector=det).getInfo().getVisitInfo().getDate().get()\n",
    "    #lcs.loc[srccat.index, 'mjd'] = mjd\n",
    "\n",
    "    photcal = diabutler.get('deepDiff_differenceExp_photoCalib', \n",
    "                    visit=vn, detector=det)\n",
    "    for id_src, asrc in srccat.iterrows():\n",
    "        for aflux in fluxes_to_calibrate:\n",
    "            flux, err = asrc[aflux], asrc[aflux+'Err'] \n",
    "            #print(flux, err)\n",
    "            cal = photcal.instFluxToMagnitude(flux, err)\n",
    "            lcs.loc[id_src, aflux+'_calMag'] = cal.value\n",
    "            lcs.loc[id_src, aflux+'_calMagErr'] = cal.error\n",
    "            cal = photcal.instFluxToNanojansky(flux, err)\n",
    "            lcs.loc[id_src, aflux+'_nJy'] = cal.value\n",
    "            lcs.loc[id_src, aflux+'_nJyErr'] = cal.error"
   ]
  },
  {
   "cell_type": "markdown",
   "metadata": {},
   "source": [
    "### Go for one supernova"
   ]
  },
  {
   "cell_type": "markdown",
   "metadata": {},
   "source": [
    "Pick a matched supernova"
   ]
  },
  {
   "cell_type": "code",
   "execution_count": 44,
   "metadata": {},
   "outputs": [],
   "source": [
    "asn = sntab[sntab.matched].iloc[0]"
   ]
  },
  {
   "cell_type": "code",
   "execution_count": 45,
   "metadata": {},
   "outputs": [
    {
     "data": {
      "text/plain": [
       "Unnamed: 0                          4\n",
       "Unnamed: 0.1                        4\n",
       "htmid_level_6                    9197\n",
       "galaxy_id                  3375026039\n",
       "c_in                        0.0123852\n",
       "mB                            21.3205\n",
       "t0_in                         59805.8\n",
       "x0_in                     4.71029e-05\n",
       "x1_in                        -1.02478\n",
       "z_in                         0.208735\n",
       "snid_in                    MS_9172_56\n",
       "snra_in                       57.5688\n",
       "sndec_in                     -31.1437\n",
       "Nobserv                           367\n",
       "N_trueobserv                       23\n",
       "matched                          True\n",
       "match_ang_dist              0.0274345\n",
       "dia_row                         15492\n",
       "dia_id              20407623006290377\n",
       "tract                            4432\n",
       "patch                             6,6\n",
       "n_dia_detections                   65\n",
       "Name: 1, dtype: object"
      ]
     },
     "execution_count": 45,
     "metadata": {},
     "output_type": "execute_result"
    }
   ],
   "source": [
    "asn"
   ]
  },
  {
   "cell_type": "markdown",
   "metadata": {},
   "source": [
    "Then we get the TRUTH lightcurve"
   ]
  },
  {
   "cell_type": "code",
   "execution_count": 46,
   "metadata": {},
   "outputs": [],
   "source": [
    "asn_lc = snlcs[snlcs['SN_id'] == asn.snid_in]"
   ]
  },
  {
   "cell_type": "code",
   "execution_count": 61,
   "metadata": {},
   "outputs": [
    {
     "data": {
      "text/plain": [
       "(array([ 0.,  0.,  7.,  4.,  4.,  5., 22.,  6.,  5.,  0.,  0.]),\n",
       " array([20. , 20.5, 21. , 21.5, 22. , 22.5, 23. , 23.5, 24. , 24.5, 25. ,\n",
       "        25.5]),\n",
       " <a list of 11 Patch objects>)"
      ]
     },
     "execution_count": 61,
     "metadata": {},
     "output_type": "execute_result"
    },
    {
     "data": {
      "image/png": "[encoded data removed]",
      "text/plain": [
       "<Figure size 432x288 with 1 Axes>"
      ]
     },
     "metadata": {
      "needs_background": "light"
     },
     "output_type": "display_data"
    }
   ],
   "source": [
    "bins = np.arange(20, 26, 0.5)\n",
    "plt.hist(asn_lc.mag, bins=bins)"
   ]
  },
  {
   "cell_type": "code",
   "execution_count": 62,
   "metadata": {},
   "outputs": [],
   "source": [
    "bandpass_colors = {}\n",
    "bandpass_colors['u'] = 'violet'\n",
    "bandpass_colors['g'] = 'green'\n",
    "bandpass_colors['r'] = 'red'\n",
    "bandpass_colors['i'] = 'darkred'\n",
    "bandpass_colors['z'] = 'violet'\n",
    "bandpass_colors['y'] = 'blue'"
   ]
  },
  {
   "cell_type": "code",
   "execution_count": 63,
   "metadata": {},
   "outputs": [],
   "source": [
    "plot_colors = [bandpass_colors[flt] for flt in asn_lc['filter']]"
   ]
  },
  {
   "cell_type": "code",
   "execution_count": 64,
   "metadata": {},
   "outputs": [],
   "source": [
    "def plot_multifilterLC(lc, ax):\n",
    "    for aflt, group in lc.groupby('filter'):\n",
    "        #ax.plot(group.mjd, group.mag, 'o', color=bandpass_colors[aflt], label=aflt)\n",
    "        ax.errorbar(group.mjd, group.mag, group.magErr, fmt='.',\n",
    "                    color=bandpass_colors[aflt], label=aflt)\n",
    "    return ax"
   ]
  },
  {
   "cell_type": "code",
   "execution_count": 65,
   "metadata": {},
   "outputs": [
    {
     "data": {
      "text/plain": [
       "Text(0.5, 0, 'MJD')"
      ]
     },
     "execution_count": 65,
     "metadata": {},
     "output_type": "execute_result"
    },
    {
     "data": {
      "image/png": "[encoded data removed]",
      "text/plain": [
       "<Figure size 432x288 with 1 Axes>"
      ]
     },
     "metadata": {
      "needs_background": "light"
     },
     "output_type": "display_data"
    }
   ],
   "source": [
    "fig, ax = plt.subplots(1, 1)\n",
    "#ax.title('Truth LC SN={} @z={}'.format(asn.snid_in, asn.z_in))\n",
    "plot_multifilterLC(asn_lc, ax)\n",
    "ax.vlines(asn.t0_in, ymin=asn_lc.mag.min(), ymax=25., linestyles='--', label='t0')\n",
    "ax.invert_yaxis()\n",
    "ax.legend()\n",
    "ax.grid()\n",
    "ax.set_xlabel('MJD')"
   ]
  },
  {
   "cell_type": "markdown",
   "metadata": {},
   "source": [
    "Get the matched observed light curve"
   ]
  },
  {
   "cell_type": "code",
   "execution_count": 66,
   "metadata": {},
   "outputs": [],
   "source": [
    "#this way of associating sources is corrupted in this version, because of galaxyId\n",
    "adiao = diaO[diaO['sn_id'] == asn.galaxy_id]"
   ]
  },
  {
   "cell_type": "code",
   "execution_count": 67,
   "metadata": {},
   "outputs": [],
   "source": [
    "#thisone seem much more reliable\n",
    "adiao = diaO[diaO['id'] == asn.dia_id]"
   ]
  },
  {
   "cell_type": "code",
   "execution_count": 68,
   "metadata": {},
   "outputs": [
    {
     "data": {
      "text/html": [
       "<div>\n",
       "<style scoped>\n",
       "    .dataframe tbody tr th:only-of-type {\n",
       "        vertical-align: middle;\n",
       "    }\n",
       "\n",
       "    .dataframe tbody tr th {\n",
       "        vertical-align: top;\n",
       "    }\n",
       "\n",
       "    .dataframe thead th {\n",
       "        text-align: right;\n",
       "    }\n",
       "</style>\n",
       "<table border=\"1\" class=\"dataframe\">\n",
       "  <thead>\n",
       "    <tr style=\"text-align: right;\">\n",
       "      <th></th>\n",
       "      <th>id</th>\n",
       "      <th>coord_ra</th>\n",
       "      <th>coord_dec</th>\n",
       "      <th>parent</th>\n",
       "      <th>nobs</th>\n",
       "      <th>base_PsfFlux_instFlux_Mean_u</th>\n",
       "      <th>base_PsfFlux_instFlux_Ndata_u</th>\n",
       "      <th>base_PsfFlux_instFlux_Sigma_u</th>\n",
       "      <th>base_PsfFlux_instFlux_MeanErr_u</th>\n",
       "      <th>base_PsfFlux_instFlux_Mean_g</th>\n",
       "      <th>...</th>\n",
       "      <th>base_PsfFlux_instFlux_Mean_y</th>\n",
       "      <th>base_PsfFlux_instFlux_Ndata_y</th>\n",
       "      <th>base_PsfFlux_instFlux_Sigma_y</th>\n",
       "      <th>base_PsfFlux_instFlux_MeanErr_y</th>\n",
       "      <th>tract</th>\n",
       "      <th>patch</th>\n",
       "      <th>match</th>\n",
       "      <th>sn_row</th>\n",
       "      <th>match_ang_dist</th>\n",
       "      <th>sn_id</th>\n",
       "    </tr>\n",
       "  </thead>\n",
       "  <tbody>\n",
       "    <tr>\n",
       "      <th>15492</th>\n",
       "      <td>20407623006290377</td>\n",
       "      <td>1.004766</td>\n",
       "      <td>-0.54356</td>\n",
       "      <td>0</td>\n",
       "      <td>66</td>\n",
       "      <td>NaN</td>\n",
       "      <td>0</td>\n",
       "      <td>NaN</td>\n",
       "      <td>NaN</td>\n",
       "      <td>33.01306</td>\n",
       "      <td>...</td>\n",
       "      <td>NaN</td>\n",
       "      <td>0</td>\n",
       "      <td>NaN</td>\n",
       "      <td>NaN</td>\n",
       "      <td>4640</td>\n",
       "      <td>5,0</td>\n",
       "      <td>True</td>\n",
       "      <td>1</td>\n",
       "      <td>0.027435</td>\n",
       "      <td>3375026039</td>\n",
       "    </tr>\n",
       "  </tbody>\n",
       "</table>\n",
       "<p>1 rows × 35 columns</p>\n",
       "</div>"
      ],
      "text/plain": [
       "                      id  coord_ra  coord_dec  parent  nobs  \\\n",
       "15492  20407623006290377  1.004766   -0.54356       0    66   \n",
       "\n",
       "       base_PsfFlux_instFlux_Mean_u  base_PsfFlux_instFlux_Ndata_u  \\\n",
       "15492                           NaN                              0   \n",
       "\n",
       "       base_PsfFlux_instFlux_Sigma_u  base_PsfFlux_instFlux_MeanErr_u  \\\n",
       "15492                            NaN                              NaN   \n",
       "\n",
       "       base_PsfFlux_instFlux_Mean_g  ...  base_PsfFlux_instFlux_Mean_y  \\\n",
       "15492                      33.01306  ...                           NaN   \n",
       "\n",
       "       base_PsfFlux_instFlux_Ndata_y  base_PsfFlux_instFlux_Sigma_y  \\\n",
       "15492                              0                            NaN   \n",
       "\n",
       "       base_PsfFlux_instFlux_MeanErr_y  tract  patch  match  sn_row  \\\n",
       "15492                              NaN   4640    5,0   True       1   \n",
       "\n",
       "       match_ang_dist       sn_id  \n",
       "15492        0.027435  3375026039  \n",
       "\n",
       "[1 rows x 35 columns]"
      ]
     },
     "execution_count": 68,
     "metadata": {},
     "output_type": "execute_result"
    }
   ],
   "source": [
    "adiao"
   ]
  },
  {
   "cell_type": "code",
   "execution_count": 69,
   "metadata": {},
   "outputs": [
    {
     "data": {
      "text/plain": [
       "20407623006290377"
      ]
     },
     "execution_count": 69,
     "metadata": {},
     "output_type": "execute_result"
    }
   ],
   "source": [
    "adiao['id'].values[0]"
   ]
  },
  {
   "cell_type": "code",
   "execution_count": 70,
   "metadata": {},
   "outputs": [],
   "source": [
    "adialc = lcs[lcs['diaObjectId']==adiao['id'].values[0]]"
   ]
  },
  {
   "cell_type": "code",
   "execution_count": 71,
   "metadata": {},
   "outputs": [
    {
     "data": {
      "text/html": [
       "<div>\n",
       "<style scoped>\n",
       "    .dataframe tbody tr th:only-of-type {\n",
       "        vertical-align: middle;\n",
       "    }\n",
       "\n",
       "    .dataframe tbody tr th {\n",
       "        vertical-align: top;\n",
       "    }\n",
       "\n",
       "    .dataframe thead th {\n",
       "        text-align: right;\n",
       "    }\n",
       "</style>\n",
       "<table border=\"1\" class=\"dataframe\">\n",
       "  <thead>\n",
       "    <tr style=\"text-align: right;\">\n",
       "      <th></th>\n",
       "      <th>id</th>\n",
       "      <th>coord_ra</th>\n",
       "      <th>coord_dec</th>\n",
       "      <th>parent</th>\n",
       "      <th>flags_negative</th>\n",
       "      <th>base_NaiveCentroid_x</th>\n",
       "      <th>base_NaiveCentroid_y</th>\n",
       "      <th>base_NaiveCentroid_flag</th>\n",
       "      <th>base_NaiveCentroid_flag_noCounts</th>\n",
       "      <th>base_NaiveCentroid_flag_edge</th>\n",
       "      <th>...</th>\n",
       "      <th>base_CircularApertureFlux_12_0_instFlux_calMagErr</th>\n",
       "      <th>base_CircularApertureFlux_17_0_instFlux_nJy</th>\n",
       "      <th>base_CircularApertureFlux_17_0_instFlux_nJyErr</th>\n",
       "      <th>base_CircularApertureFlux_17_0_instFlux_calMag</th>\n",
       "      <th>base_CircularApertureFlux_17_0_instFlux_calMagErr</th>\n",
       "      <th>base_CircularApertureFlux_25_0_instFlux_nJy</th>\n",
       "      <th>base_CircularApertureFlux_25_0_instFlux_nJyErr</th>\n",
       "      <th>base_CircularApertureFlux_25_0_instFlux_calMag</th>\n",
       "      <th>base_CircularApertureFlux_25_0_instFlux_calMagErr</th>\n",
       "      <th>mjd</th>\n",
       "    </tr>\n",
       "  </thead>\n",
       "  <tbody>\n",
       "    <tr>\n",
       "      <th>313101</th>\n",
       "      <td>10702592027918474</td>\n",
       "      <td>1.004767</td>\n",
       "      <td>-0.543560</td>\n",
       "      <td>0</td>\n",
       "      <td>False</td>\n",
       "      <td>1836.035298</td>\n",
       "      <td>58.080751</td>\n",
       "      <td>False</td>\n",
       "      <td>False</td>\n",
       "      <td>False</td>\n",
       "      <td>...</td>\n",
       "      <td>0.236548</td>\n",
       "      <td>1303.985371</td>\n",
       "      <td>375.880447</td>\n",
       "      <td>23.611818</td>\n",
       "      <td>0.312969</td>\n",
       "      <td>1192.274477</td>\n",
       "      <td>540.626800</td>\n",
       "      <td>23.709059</td>\n",
       "      <td>0.492318</td>\n",
       "      <td>59791.353708</td>\n",
       "    </tr>\n",
       "    <tr>\n",
       "      <th>318652</th>\n",
       "      <td>10703470415839413</td>\n",
       "      <td>1.004765</td>\n",
       "      <td>-0.543560</td>\n",
       "      <td>0</td>\n",
       "      <td>False</td>\n",
       "      <td>1428.307483</td>\n",
       "      <td>2518.372851</td>\n",
       "      <td>False</td>\n",
       "      <td>False</td>\n",
       "      <td>False</td>\n",
       "      <td>...</td>\n",
       "      <td>0.197259</td>\n",
       "      <td>1170.594270</td>\n",
       "      <td>374.845761</td>\n",
       "      <td>23.728984</td>\n",
       "      <td>0.347673</td>\n",
       "      <td>1560.956076</td>\n",
       "      <td>540.262193</td>\n",
       "      <td>23.416523</td>\n",
       "      <td>0.375784</td>\n",
       "      <td>59791.360480</td>\n",
       "    </tr>\n",
       "    <tr>\n",
       "      <th>343701</th>\n",
       "      <td>11717346838184040</td>\n",
       "      <td>1.004766</td>\n",
       "      <td>-0.543560</td>\n",
       "      <td>0</td>\n",
       "      <td>False</td>\n",
       "      <td>3023.264735</td>\n",
       "      <td>3056.077090</td>\n",
       "      <td>False</td>\n",
       "      <td>False</td>\n",
       "      <td>False</td>\n",
       "      <td>...</td>\n",
       "      <td>0.104907</td>\n",
       "      <td>8825.768849</td>\n",
       "      <td>1199.972990</td>\n",
       "      <td>21.535619</td>\n",
       "      <td>0.147619</td>\n",
       "      <td>9434.821267</td>\n",
       "      <td>1737.234782</td>\n",
       "      <td>21.463166</td>\n",
       "      <td>0.199917</td>\n",
       "      <td>59810.381776</td>\n",
       "    </tr>\n",
       "    <tr>\n",
       "      <th>346790</th>\n",
       "      <td>11910491450376313</td>\n",
       "      <td>1.004766</td>\n",
       "      <td>-0.543560</td>\n",
       "      <td>0</td>\n",
       "      <td>False</td>\n",
       "      <td>3587.016334</td>\n",
       "      <td>2598.171160</td>\n",
       "      <td>False</td>\n",
       "      <td>False</td>\n",
       "      <td>False</td>\n",
       "      <td>...</td>\n",
       "      <td>0.117898</td>\n",
       "      <td>7182.609663</td>\n",
       "      <td>1021.842962</td>\n",
       "      <td>21.759294</td>\n",
       "      <td>0.154464</td>\n",
       "      <td>5330.266704</td>\n",
       "      <td>1470.345113</td>\n",
       "      <td>22.083128</td>\n",
       "      <td>0.299499</td>\n",
       "      <td>59813.399230</td>\n",
       "    </tr>\n",
       "    <tr>\n",
       "      <th>204176</th>\n",
       "      <td>12204958166286451</td>\n",
       "      <td>1.004766</td>\n",
       "      <td>-0.543560</td>\n",
       "      <td>0</td>\n",
       "      <td>False</td>\n",
       "      <td>3230.177845</td>\n",
       "      <td>1307.352390</td>\n",
       "      <td>False</td>\n",
       "      <td>False</td>\n",
       "      <td>False</td>\n",
       "      <td>...</td>\n",
       "      <td>0.091042</td>\n",
       "      <td>5693.638466</td>\n",
       "      <td>628.578816</td>\n",
       "      <td>22.011525</td>\n",
       "      <td>0.119865</td>\n",
       "      <td>5733.567462</td>\n",
       "      <td>899.089970</td>\n",
       "      <td>22.003938</td>\n",
       "      <td>0.170256</td>\n",
       "      <td>59821.276024</td>\n",
       "    </tr>\n",
       "    <tr>\n",
       "      <th>210423</th>\n",
       "      <td>12211470209122368</td>\n",
       "      <td>1.004766</td>\n",
       "      <td>-0.543560</td>\n",
       "      <td>0</td>\n",
       "      <td>False</td>\n",
       "      <td>2988.027804</td>\n",
       "      <td>3049.039935</td>\n",
       "      <td>False</td>\n",
       "      <td>False</td>\n",
       "      <td>False</td>\n",
       "      <td>...</td>\n",
       "      <td>0.091641</td>\n",
       "      <td>5569.030443</td>\n",
       "      <td>606.770356</td>\n",
       "      <td>22.035551</td>\n",
       "      <td>0.118296</td>\n",
       "      <td>4115.464775</td>\n",
       "      <td>865.823445</td>\n",
       "      <td>22.363953</td>\n",
       "      <td>0.228420</td>\n",
       "      <td>59821.320604</td>\n",
       "    </tr>\n",
       "    <tr>\n",
       "      <th>199502</th>\n",
       "      <td>12340793956106335</td>\n",
       "      <td>1.004766</td>\n",
       "      <td>-0.543559</td>\n",
       "      <td>0</td>\n",
       "      <td>False</td>\n",
       "      <td>1806.256267</td>\n",
       "      <td>677.097005</td>\n",
       "      <td>False</td>\n",
       "      <td>False</td>\n",
       "      <td>False</td>\n",
       "      <td>...</td>\n",
       "      <td>0.138824</td>\n",
       "      <td>1490.308903</td>\n",
       "      <td>349.694609</td>\n",
       "      <td>23.466809</td>\n",
       "      <td>0.254763</td>\n",
       "      <td>1874.288590</td>\n",
       "      <td>502.674624</td>\n",
       "      <td>23.217909</td>\n",
       "      <td>0.291189</td>\n",
       "      <td>59823.345649</td>\n",
       "    </tr>\n",
       "    <tr>\n",
       "      <th>189892</th>\n",
       "      <td>12843101789880355</td>\n",
       "      <td>1.004765</td>\n",
       "      <td>-0.543560</td>\n",
       "      <td>0</td>\n",
       "      <td>False</td>\n",
       "      <td>1684.811380</td>\n",
       "      <td>1238.620584</td>\n",
       "      <td>False</td>\n",
       "      <td>False</td>\n",
       "      <td>False</td>\n",
       "      <td>...</td>\n",
       "      <td>0.334815</td>\n",
       "      <td>4984.874340</td>\n",
       "      <td>2319.617571</td>\n",
       "      <td>22.155864</td>\n",
       "      <td>0.505227</td>\n",
       "      <td>7464.782048</td>\n",
       "      <td>3386.301969</td>\n",
       "      <td>21.717457</td>\n",
       "      <td>0.492530</td>\n",
       "      <td>59836.337963</td>\n",
       "    </tr>\n",
       "    <tr>\n",
       "      <th>117674</th>\n",
       "      <td>14758726795788404</td>\n",
       "      <td>1.004767</td>\n",
       "      <td>-0.543560</td>\n",
       "      <td>0</td>\n",
       "      <td>False</td>\n",
       "      <td>1700.054141</td>\n",
       "      <td>3838.058763</td>\n",
       "      <td>False</td>\n",
       "      <td>False</td>\n",
       "      <td>False</td>\n",
       "      <td>...</td>\n",
       "      <td>0.454282</td>\n",
       "      <td>-1129.033973</td>\n",
       "      <td>643.860951</td>\n",
       "      <td>NaN</td>\n",
       "      <td>0.619169</td>\n",
       "      <td>-659.402775</td>\n",
       "      <td>924.811547</td>\n",
       "      <td>NaN</td>\n",
       "      <td>1.522744</td>\n",
       "      <td>59877.126785</td>\n",
       "    </tr>\n",
       "    <tr>\n",
       "      <th>136329</th>\n",
       "      <td>15293515588173866</td>\n",
       "      <td>1.004766</td>\n",
       "      <td>-0.543560</td>\n",
       "      <td>0</td>\n",
       "      <td>False</td>\n",
       "      <td>2548.024121</td>\n",
       "      <td>241.087217</td>\n",
       "      <td>False</td>\n",
       "      <td>False</td>\n",
       "      <td>False</td>\n",
       "      <td>...</td>\n",
       "      <td>0.270090</td>\n",
       "      <td>-2668.132711</td>\n",
       "      <td>1516.870029</td>\n",
       "      <td>NaN</td>\n",
       "      <td>0.617256</td>\n",
       "      <td>-2709.214368</td>\n",
       "      <td>2215.585037</td>\n",
       "      <td>NaN</td>\n",
       "      <td>0.887911</td>\n",
       "      <td>59887.175849</td>\n",
       "    </tr>\n",
       "    <tr>\n",
       "      <th>138229</th>\n",
       "      <td>15295329406550045</td>\n",
       "      <td>1.004766</td>\n",
       "      <td>-0.543560</td>\n",
       "      <td>0</td>\n",
       "      <td>False</td>\n",
       "      <td>749.072233</td>\n",
       "      <td>254.047320</td>\n",
       "      <td>False</td>\n",
       "      <td>False</td>\n",
       "      <td>False</td>\n",
       "      <td>...</td>\n",
       "      <td>0.540277</td>\n",
       "      <td>-1180.048207</td>\n",
       "      <td>1525.385687</td>\n",
       "      <td>NaN</td>\n",
       "      <td>1.403474</td>\n",
       "      <td>3.272724</td>\n",
       "      <td>2219.743388</td>\n",
       "      <td>30.112726</td>\n",
       "      <td>736.406573</td>\n",
       "      <td>59887.187987</td>\n",
       "    </tr>\n",
       "    <tr>\n",
       "      <th>59268</th>\n",
       "      <td>16803730645057670</td>\n",
       "      <td>1.004766</td>\n",
       "      <td>-0.543560</td>\n",
       "      <td>0</td>\n",
       "      <td>False</td>\n",
       "      <td>3005.055495</td>\n",
       "      <td>1747.347890</td>\n",
       "      <td>False</td>\n",
       "      <td>False</td>\n",
       "      <td>False</td>\n",
       "      <td>...</td>\n",
       "      <td>0.428985</td>\n",
       "      <td>-2332.905638</td>\n",
       "      <td>878.126750</td>\n",
       "      <td>NaN</td>\n",
       "      <td>0.408681</td>\n",
       "      <td>-1396.267586</td>\n",
       "      <td>1274.546084</td>\n",
       "      <td>NaN</td>\n",
       "      <td>0.991086</td>\n",
       "      <td>59926.165487</td>\n",
       "    </tr>\n",
       "    <tr>\n",
       "      <th>55588</th>\n",
       "      <td>17206252966772875</td>\n",
       "      <td>1.004766</td>\n",
       "      <td>-0.543560</td>\n",
       "      <td>0</td>\n",
       "      <td>False</td>\n",
       "      <td>2152.062670</td>\n",
       "      <td>2537.241152</td>\n",
       "      <td>False</td>\n",
       "      <td>False</td>\n",
       "      <td>False</td>\n",
       "      <td>...</td>\n",
       "      <td>0.287321</td>\n",
       "      <td>-1340.982185</td>\n",
       "      <td>1039.960254</td>\n",
       "      <td>NaN</td>\n",
       "      <td>0.842012</td>\n",
       "      <td>-1161.374943</td>\n",
       "      <td>1498.185350</td>\n",
       "      <td>NaN</td>\n",
       "      <td>1.400611</td>\n",
       "      <td>59935.115796</td>\n",
       "    </tr>\n",
       "    <tr>\n",
       "      <th>198199</th>\n",
       "      <td>17581998046445630</td>\n",
       "      <td>1.004766</td>\n",
       "      <td>-0.543560</td>\n",
       "      <td>0</td>\n",
       "      <td>False</td>\n",
       "      <td>2420.175281</td>\n",
       "      <td>3585.036575</td>\n",
       "      <td>False</td>\n",
       "      <td>False</td>\n",
       "      <td>False</td>\n",
       "      <td>...</td>\n",
       "      <td>0.913820</td>\n",
       "      <td>-1694.108367</td>\n",
       "      <td>1531.143376</td>\n",
       "      <td>NaN</td>\n",
       "      <td>0.981294</td>\n",
       "      <td>1899.925802</td>\n",
       "      <td>2222.589227</td>\n",
       "      <td>23.203158</td>\n",
       "      <td>1.270126</td>\n",
       "      <td>59944.150860</td>\n",
       "    </tr>\n",
       "    <tr>\n",
       "      <th>69880</th>\n",
       "      <td>17680376218517575</td>\n",
       "      <td>1.004766</td>\n",
       "      <td>-0.543559</td>\n",
       "      <td>0</td>\n",
       "      <td>False</td>\n",
       "      <td>738.372982</td>\n",
       "      <td>1460.073914</td>\n",
       "      <td>False</td>\n",
       "      <td>False</td>\n",
       "      <td>False</td>\n",
       "      <td>...</td>\n",
       "      <td>0.395101</td>\n",
       "      <td>-2428.115253</td>\n",
       "      <td>1712.529931</td>\n",
       "      <td>NaN</td>\n",
       "      <td>0.765761</td>\n",
       "      <td>-3118.453738</td>\n",
       "      <td>2503.025713</td>\n",
       "      <td>NaN</td>\n",
       "      <td>0.871466</td>\n",
       "      <td>59946.188281</td>\n",
       "    </tr>\n",
       "    <tr>\n",
       "      <th>71330</th>\n",
       "      <td>17683665962139760</td>\n",
       "      <td>1.004766</td>\n",
       "      <td>-0.543560</td>\n",
       "      <td>0</td>\n",
       "      <td>False</td>\n",
       "      <td>1392.126833</td>\n",
       "      <td>2740.205400</td>\n",
       "      <td>False</td>\n",
       "      <td>False</td>\n",
       "      <td>False</td>\n",
       "      <td>...</td>\n",
       "      <td>0.314815</td>\n",
       "      <td>-5769.454622</td>\n",
       "      <td>1730.160949</td>\n",
       "      <td>NaN</td>\n",
       "      <td>0.325594</td>\n",
       "      <td>-7286.785748</td>\n",
       "      <td>2526.012925</td>\n",
       "      <td>NaN</td>\n",
       "      <td>0.376378</td>\n",
       "      <td>59946.212522</td>\n",
       "    </tr>\n",
       "    <tr>\n",
       "      <th>72052</th>\n",
       "      <td>17686948659331183</td>\n",
       "      <td>1.004765</td>\n",
       "      <td>-0.543561</td>\n",
       "      <td>0</td>\n",
       "      <td>False</td>\n",
       "      <td>354.023227</td>\n",
       "      <td>2575.124140</td>\n",
       "      <td>False</td>\n",
       "      <td>False</td>\n",
       "      <td>False</td>\n",
       "      <td>...</td>\n",
       "      <td>0.520933</td>\n",
       "      <td>-2982.480275</td>\n",
       "      <td>1648.815667</td>\n",
       "      <td>NaN</td>\n",
       "      <td>0.600232</td>\n",
       "      <td>1244.264859</td>\n",
       "      <td>2409.240660</td>\n",
       "      <td>23.662718</td>\n",
       "      <td>2.102285</td>\n",
       "      <td>59946.236665</td>\n",
       "    </tr>\n",
       "    <tr>\n",
       "      <th>6219</th>\n",
       "      <td>18445083737063524</td>\n",
       "      <td>1.004767</td>\n",
       "      <td>-0.543561</td>\n",
       "      <td>0</td>\n",
       "      <td>False</td>\n",
       "      <td>3953.134982</td>\n",
       "      <td>2034.035852</td>\n",
       "      <td>False</td>\n",
       "      <td>False</td>\n",
       "      <td>False</td>\n",
       "      <td>...</td>\n",
       "      <td>0.266071</td>\n",
       "      <td>-1936.201095</td>\n",
       "      <td>586.040961</td>\n",
       "      <td>NaN</td>\n",
       "      <td>0.328626</td>\n",
       "      <td>-1409.500297</td>\n",
       "      <td>838.306998</td>\n",
       "      <td>NaN</td>\n",
       "      <td>0.645747</td>\n",
       "      <td>59965.098487</td>\n",
       "    </tr>\n",
       "    <tr>\n",
       "      <th>12848</th>\n",
       "      <td>18448102897746063</td>\n",
       "      <td>1.004767</td>\n",
       "      <td>-0.543559</td>\n",
       "      <td>0</td>\n",
       "      <td>False</td>\n",
       "      <td>1626.951561</td>\n",
       "      <td>1367.919946</td>\n",
       "      <td>False</td>\n",
       "      <td>False</td>\n",
       "      <td>False</td>\n",
       "      <td>...</td>\n",
       "      <td>0.511405</td>\n",
       "      <td>-657.279507</td>\n",
       "      <td>608.210404</td>\n",
       "      <td>NaN</td>\n",
       "      <td>1.004681</td>\n",
       "      <td>-1524.850923</td>\n",
       "      <td>868.569417</td>\n",
       "      <td>NaN</td>\n",
       "      <td>0.618446</td>\n",
       "      <td>59965.121705</td>\n",
       "    </tr>\n",
       "    <tr>\n",
       "      <th>352651</th>\n",
       "      <td>27984870881886381</td>\n",
       "      <td>1.004766</td>\n",
       "      <td>-0.543561</td>\n",
       "      <td>0</td>\n",
       "      <td>False</td>\n",
       "      <td>1544.197374</td>\n",
       "      <td>843.046270</td>\n",
       "      <td>False</td>\n",
       "      <td>False</td>\n",
       "      <td>False</td>\n",
       "      <td>...</td>\n",
       "      <td>0.279420</td>\n",
       "      <td>-2074.108455</td>\n",
       "      <td>617.832535</td>\n",
       "      <td>NaN</td>\n",
       "      <td>0.323418</td>\n",
       "      <td>-3126.864524</td>\n",
       "      <td>886.166780</td>\n",
       "      <td>NaN</td>\n",
       "      <td>0.307702</td>\n",
       "      <td>60175.315904</td>\n",
       "    </tr>\n",
       "    <tr>\n",
       "      <th>359383</th>\n",
       "      <td>27987754281337037</td>\n",
       "      <td>1.004766</td>\n",
       "      <td>-0.543560</td>\n",
       "      <td>0</td>\n",
       "      <td>False</td>\n",
       "      <td>1043.175234</td>\n",
       "      <td>920.113802</td>\n",
       "      <td>False</td>\n",
       "      <td>False</td>\n",
       "      <td>False</td>\n",
       "      <td>...</td>\n",
       "      <td>0.910519</td>\n",
       "      <td>-687.334005</td>\n",
       "      <td>607.783754</td>\n",
       "      <td>NaN</td>\n",
       "      <td>0.960076</td>\n",
       "      <td>-951.404173</td>\n",
       "      <td>868.880311</td>\n",
       "      <td>NaN</td>\n",
       "      <td>0.991561</td>\n",
       "      <td>60175.336555</td>\n",
       "    </tr>\n",
       "    <tr>\n",
       "      <th>22401</th>\n",
       "      <td>28238075578548434</td>\n",
       "      <td>1.004765</td>\n",
       "      <td>-0.543560</td>\n",
       "      <td>0</td>\n",
       "      <td>False</td>\n",
       "      <td>2334.018746</td>\n",
       "      <td>2423.055151</td>\n",
       "      <td>False</td>\n",
       "      <td>False</td>\n",
       "      <td>False</td>\n",
       "      <td>...</td>\n",
       "      <td>0.272881</td>\n",
       "      <td>-2840.535372</td>\n",
       "      <td>1031.819523</td>\n",
       "      <td>NaN</td>\n",
       "      <td>0.394392</td>\n",
       "      <td>-2604.563883</td>\n",
       "      <td>1490.849455</td>\n",
       "      <td>NaN</td>\n",
       "      <td>0.621474</td>\n",
       "      <td>60179.352792</td>\n",
       "    </tr>\n",
       "    <tr>\n",
       "      <th>24734</th>\n",
       "      <td>28238143828263066</td>\n",
       "      <td>1.004766</td>\n",
       "      <td>-0.543561</td>\n",
       "      <td>0</td>\n",
       "      <td>False</td>\n",
       "      <td>1136.345139</td>\n",
       "      <td>1601.325835</td>\n",
       "      <td>False</td>\n",
       "      <td>False</td>\n",
       "      <td>False</td>\n",
       "      <td>...</td>\n",
       "      <td>0.248725</td>\n",
       "      <td>-3872.717184</td>\n",
       "      <td>1032.823710</td>\n",
       "      <td>NaN</td>\n",
       "      <td>0.289557</td>\n",
       "      <td>-6407.716169</td>\n",
       "      <td>1490.260043</td>\n",
       "      <td>NaN</td>\n",
       "      <td>0.252513</td>\n",
       "      <td>60179.353241</td>\n",
       "    </tr>\n",
       "    <tr>\n",
       "      <th>34794</th>\n",
       "      <td>28239951002861743</td>\n",
       "      <td>1.004766</td>\n",
       "      <td>-0.543560</td>\n",
       "      <td>0</td>\n",
       "      <td>False</td>\n",
       "      <td>4051.949832</td>\n",
       "      <td>1790.080914</td>\n",
       "      <td>False</td>\n",
       "      <td>False</td>\n",
       "      <td>False</td>\n",
       "      <td>...</td>\n",
       "      <td>NaN</td>\n",
       "      <td>NaN</td>\n",
       "      <td>NaN</td>\n",
       "      <td>NaN</td>\n",
       "      <td>NaN</td>\n",
       "      <td>NaN</td>\n",
       "      <td>NaN</td>\n",
       "      <td>NaN</td>\n",
       "      <td>NaN</td>\n",
       "      <td>60179.365495</td>\n",
       "    </tr>\n",
       "    <tr>\n",
       "      <th>246997</th>\n",
       "      <td>28244649361539260</td>\n",
       "      <td>1.004767</td>\n",
       "      <td>-0.543561</td>\n",
       "      <td>0</td>\n",
       "      <td>False</td>\n",
       "      <td>3494.267952</td>\n",
       "      <td>1467.568141</td>\n",
       "      <td>False</td>\n",
       "      <td>False</td>\n",
       "      <td>False</td>\n",
       "      <td>...</td>\n",
       "      <td>0.222215</td>\n",
       "      <td>-4601.315172</td>\n",
       "      <td>1000.916001</td>\n",
       "      <td>NaN</td>\n",
       "      <td>0.236178</td>\n",
       "      <td>-5422.739023</td>\n",
       "      <td>1439.636535</td>\n",
       "      <td>NaN</td>\n",
       "      <td>0.288243</td>\n",
       "      <td>60179.400216</td>\n",
       "    </tr>\n",
       "    <tr>\n",
       "      <th>280221</th>\n",
       "      <td>28299344092332223</td>\n",
       "      <td>1.004766</td>\n",
       "      <td>-0.543561</td>\n",
       "      <td>0</td>\n",
       "      <td>False</td>\n",
       "      <td>466.077287</td>\n",
       "      <td>3926.302544</td>\n",
       "      <td>False</td>\n",
       "      <td>False</td>\n",
       "      <td>False</td>\n",
       "      <td>...</td>\n",
       "      <td>0.405095</td>\n",
       "      <td>-2157.626876</td>\n",
       "      <td>1058.863402</td>\n",
       "      <td>NaN</td>\n",
       "      <td>0.532829</td>\n",
       "      <td>-1338.021776</td>\n",
       "      <td>1529.014277</td>\n",
       "      <td>NaN</td>\n",
       "      <td>1.240717</td>\n",
       "      <td>60180.329679</td>\n",
       "    </tr>\n",
       "    <tr>\n",
       "      <th>287652</th>\n",
       "      <td>28301625592381586</td>\n",
       "      <td>1.004765</td>\n",
       "      <td>-0.543561</td>\n",
       "      <td>0</td>\n",
       "      <td>False</td>\n",
       "      <td>703.010426</td>\n",
       "      <td>1566.147478</td>\n",
       "      <td>False</td>\n",
       "      <td>False</td>\n",
       "      <td>False</td>\n",
       "      <td>...</td>\n",
       "      <td>0.375207</td>\n",
       "      <td>-1447.773038</td>\n",
       "      <td>1038.790378</td>\n",
       "      <td>NaN</td>\n",
       "      <td>0.779026</td>\n",
       "      <td>-2163.672456</td>\n",
       "      <td>1498.133948</td>\n",
       "      <td>NaN</td>\n",
       "      <td>0.751767</td>\n",
       "      <td>60180.345197</td>\n",
       "    </tr>\n",
       "    <tr>\n",
       "      <th>240226</th>\n",
       "      <td>28757903791882324</td>\n",
       "      <td>1.004766</td>\n",
       "      <td>-0.543560</td>\n",
       "      <td>0</td>\n",
       "      <td>False</td>\n",
       "      <td>2584.064199</td>\n",
       "      <td>614.056199</td>\n",
       "      <td>False</td>\n",
       "      <td>False</td>\n",
       "      <td>False</td>\n",
       "      <td>...</td>\n",
       "      <td>0.570249</td>\n",
       "      <td>-1595.136532</td>\n",
       "      <td>1225.397626</td>\n",
       "      <td>NaN</td>\n",
       "      <td>0.834072</td>\n",
       "      <td>-3687.805996</td>\n",
       "      <td>1779.790110</td>\n",
       "      <td>NaN</td>\n",
       "      <td>0.523992</td>\n",
       "      <td>60193.339494</td>\n",
       "    </tr>\n",
       "    <tr>\n",
       "      <th>337961</th>\n",
       "      <td>29348183494623326</td>\n",
       "      <td>1.004766</td>\n",
       "      <td>-0.543561</td>\n",
       "      <td>0</td>\n",
       "      <td>False</td>\n",
       "      <td>1751.500346</td>\n",
       "      <td>1287.074704</td>\n",
       "      <td>False</td>\n",
       "      <td>False</td>\n",
       "      <td>False</td>\n",
       "      <td>...</td>\n",
       "      <td>0.278722</td>\n",
       "      <td>-3672.304663</td>\n",
       "      <td>1084.395861</td>\n",
       "      <td>NaN</td>\n",
       "      <td>0.320607</td>\n",
       "      <td>-6105.419052</td>\n",
       "      <td>1567.861071</td>\n",
       "      <td>NaN</td>\n",
       "      <td>0.278815</td>\n",
       "      <td>60207.235483</td>\n",
       "    </tr>\n",
       "    <tr>\n",
       "      <th>338561</th>\n",
       "      <td>29348251073249390</td>\n",
       "      <td>1.004766</td>\n",
       "      <td>-0.543560</td>\n",
       "      <td>0</td>\n",
       "      <td>False</td>\n",
       "      <td>2522.150987</td>\n",
       "      <td>915.019614</td>\n",
       "      <td>False</td>\n",
       "      <td>False</td>\n",
       "      <td>False</td>\n",
       "      <td>...</td>\n",
       "      <td>0.407164</td>\n",
       "      <td>-3108.806958</td>\n",
       "      <td>1085.356467</td>\n",
       "      <td>NaN</td>\n",
       "      <td>0.379056</td>\n",
       "      <td>-3350.376543</td>\n",
       "      <td>1569.050125</td>\n",
       "      <td>NaN</td>\n",
       "      <td>0.508473</td>\n",
       "      <td>60207.235930</td>\n",
       "    </tr>\n",
       "    <tr>\n",
       "      <th>...</th>\n",
       "      <td>...</td>\n",
       "      <td>...</td>\n",
       "      <td>...</td>\n",
       "      <td>...</td>\n",
       "      <td>...</td>\n",
       "      <td>...</td>\n",
       "      <td>...</td>\n",
       "      <td>...</td>\n",
       "      <td>...</td>\n",
       "      <td>...</td>\n",
       "      <td>...</td>\n",
       "      <td>...</td>\n",
       "      <td>...</td>\n",
       "      <td>...</td>\n",
       "      <td>...</td>\n",
       "      <td>...</td>\n",
       "      <td>...</td>\n",
       "      <td>...</td>\n",
       "      <td>...</td>\n",
       "      <td>...</td>\n",
       "      <td>...</td>\n",
       "    </tr>\n",
       "    <tr>\n",
       "      <th>201685</th>\n",
       "      <td>33351703906484331</td>\n",
       "      <td>1.004766</td>\n",
       "      <td>-0.543560</td>\n",
       "      <td>0</td>\n",
       "      <td>False</td>\n",
       "      <td>1347.200386</td>\n",
       "      <td>869.992783</td>\n",
       "      <td>False</td>\n",
       "      <td>False</td>\n",
       "      <td>False</td>\n",
       "      <td>...</td>\n",
       "      <td>0.305304</td>\n",
       "      <td>-6196.120142</td>\n",
       "      <td>1571.417170</td>\n",
       "      <td>NaN</td>\n",
       "      <td>0.275357</td>\n",
       "      <td>-9655.018583</td>\n",
       "      <td>2295.285695</td>\n",
       "      <td>NaN</td>\n",
       "      <td>0.258112</td>\n",
       "      <td>60309.224492</td>\n",
       "    </tr>\n",
       "    <tr>\n",
       "      <th>467718</th>\n",
       "      <td>34360014789410897</td>\n",
       "      <td>1.004767</td>\n",
       "      <td>-0.543561</td>\n",
       "      <td>0</td>\n",
       "      <td>False</td>\n",
       "      <td>3270.178924</td>\n",
       "      <td>424.215045</td>\n",
       "      <td>False</td>\n",
       "      <td>False</td>\n",
       "      <td>False</td>\n",
       "      <td>...</td>\n",
       "      <td>0.236775</td>\n",
       "      <td>-6204.005840</td>\n",
       "      <td>1597.504627</td>\n",
       "      <td>NaN</td>\n",
       "      <td>0.279572</td>\n",
       "      <td>-11057.572776</td>\n",
       "      <td>2327.613103</td>\n",
       "      <td>NaN</td>\n",
       "      <td>0.228547</td>\n",
       "      <td>60330.110857</td>\n",
       "    </tr>\n",
       "    <tr>\n",
       "      <th>416382</th>\n",
       "      <td>42672252700852291</td>\n",
       "      <td>1.004766</td>\n",
       "      <td>-0.543561</td>\n",
       "      <td>0</td>\n",
       "      <td>False</td>\n",
       "      <td>3483.349230</td>\n",
       "      <td>1418.422230</td>\n",
       "      <td>False</td>\n",
       "      <td>False</td>\n",
       "      <td>False</td>\n",
       "      <td>...</td>\n",
       "      <td>0.195818</td>\n",
       "      <td>-3190.150407</td>\n",
       "      <td>1106.015545</td>\n",
       "      <td>NaN</td>\n",
       "      <td>0.376421</td>\n",
       "      <td>-2908.134078</td>\n",
       "      <td>1594.624370</td>\n",
       "      <td>NaN</td>\n",
       "      <td>0.595344</td>\n",
       "      <td>60528.351278</td>\n",
       "    </tr>\n",
       "    <tr>\n",
       "      <th>584362</th>\n",
       "      <td>43021690233422027</td>\n",
       "      <td>1.004766</td>\n",
       "      <td>-0.543561</td>\n",
       "      <td>0</td>\n",
       "      <td>False</td>\n",
       "      <td>2245.000425</td>\n",
       "      <td>2432.063505</td>\n",
       "      <td>False</td>\n",
       "      <td>False</td>\n",
       "      <td>False</td>\n",
       "      <td>...</td>\n",
       "      <td>0.221604</td>\n",
       "      <td>-5194.391699</td>\n",
       "      <td>1130.260442</td>\n",
       "      <td>NaN</td>\n",
       "      <td>0.236248</td>\n",
       "      <td>-5924.068411</td>\n",
       "      <td>1637.565363</td>\n",
       "      <td>NaN</td>\n",
       "      <td>0.300126</td>\n",
       "      <td>60534.317112</td>\n",
       "    </tr>\n",
       "    <tr>\n",
       "      <th>570587</th>\n",
       "      <td>43024907231035449</td>\n",
       "      <td>1.004766</td>\n",
       "      <td>-0.543560</td>\n",
       "      <td>0</td>\n",
       "      <td>False</td>\n",
       "      <td>2926.121970</td>\n",
       "      <td>246.221666</td>\n",
       "      <td>False</td>\n",
       "      <td>False</td>\n",
       "      <td>False</td>\n",
       "      <td>...</td>\n",
       "      <td>0.236611</td>\n",
       "      <td>-3981.898955</td>\n",
       "      <td>1094.166479</td>\n",
       "      <td>NaN</td>\n",
       "      <td>0.298344</td>\n",
       "      <td>-2899.582766</td>\n",
       "      <td>1582.191082</td>\n",
       "      <td>NaN</td>\n",
       "      <td>0.592445</td>\n",
       "      <td>60534.339292</td>\n",
       "    </tr>\n",
       "    <tr>\n",
       "      <th>546277</th>\n",
       "      <td>43920408314904663</td>\n",
       "      <td>1.004766</td>\n",
       "      <td>-0.543560</td>\n",
       "      <td>0</td>\n",
       "      <td>False</td>\n",
       "      <td>3659.065969</td>\n",
       "      <td>3506.150313</td>\n",
       "      <td>False</td>\n",
       "      <td>False</td>\n",
       "      <td>False</td>\n",
       "      <td>...</td>\n",
       "      <td>0.205935</td>\n",
       "      <td>-3571.213893</td>\n",
       "      <td>1182.413420</td>\n",
       "      <td>NaN</td>\n",
       "      <td>0.359483</td>\n",
       "      <td>-5320.950790</td>\n",
       "      <td>1709.747043</td>\n",
       "      <td>NaN</td>\n",
       "      <td>0.348873</td>\n",
       "      <td>60549.273034</td>\n",
       "    </tr>\n",
       "    <tr>\n",
       "      <th>389365</th>\n",
       "      <td>45086159277129846</td>\n",
       "      <td>1.004766</td>\n",
       "      <td>-0.543560</td>\n",
       "      <td>0</td>\n",
       "      <td>False</td>\n",
       "      <td>3013.144080</td>\n",
       "      <td>87.717243</td>\n",
       "      <td>False</td>\n",
       "      <td>False</td>\n",
       "      <td>False</td>\n",
       "      <td>...</td>\n",
       "      <td>0.544030</td>\n",
       "      <td>-1989.610809</td>\n",
       "      <td>690.663119</td>\n",
       "      <td>NaN</td>\n",
       "      <td>0.376897</td>\n",
       "      <td>-2835.800260</td>\n",
       "      <td>993.141184</td>\n",
       "      <td>NaN</td>\n",
       "      <td>0.380242</td>\n",
       "      <td>60578.358546</td>\n",
       "    </tr>\n",
       "    <tr>\n",
       "      <th>543903</th>\n",
       "      <td>45421228667699445</td>\n",
       "      <td>1.004765</td>\n",
       "      <td>-0.543561</td>\n",
       "      <td>0</td>\n",
       "      <td>False</td>\n",
       "      <td>2191.226144</td>\n",
       "      <td>3933.012819</td>\n",
       "      <td>False</td>\n",
       "      <td>False</td>\n",
       "      <td>False</td>\n",
       "      <td>...</td>\n",
       "      <td>0.246888</td>\n",
       "      <td>-2397.696658</td>\n",
       "      <td>599.581527</td>\n",
       "      <td>NaN</td>\n",
       "      <td>0.271505</td>\n",
       "      <td>-3871.008762</td>\n",
       "      <td>857.678855</td>\n",
       "      <td>NaN</td>\n",
       "      <td>0.240561</td>\n",
       "      <td>60584.219011</td>\n",
       "    </tr>\n",
       "    <tr>\n",
       "      <th>506500</th>\n",
       "      <td>45592763286159569</td>\n",
       "      <td>1.004765</td>\n",
       "      <td>-0.543560</td>\n",
       "      <td>0</td>\n",
       "      <td>False</td>\n",
       "      <td>1856.102456</td>\n",
       "      <td>3027.133540</td>\n",
       "      <td>False</td>\n",
       "      <td>False</td>\n",
       "      <td>False</td>\n",
       "      <td>...</td>\n",
       "      <td>0.515184</td>\n",
       "      <td>-2933.695011</td>\n",
       "      <td>1082.074536</td>\n",
       "      <td>NaN</td>\n",
       "      <td>0.400467</td>\n",
       "      <td>-5451.395905</td>\n",
       "      <td>1559.183503</td>\n",
       "      <td>NaN</td>\n",
       "      <td>0.310537</td>\n",
       "      <td>60587.198568</td>\n",
       "    </tr>\n",
       "    <tr>\n",
       "      <th>525118</th>\n",
       "      <td>45819927663214714</td>\n",
       "      <td>1.004766</td>\n",
       "      <td>-0.543560</td>\n",
       "      <td>0</td>\n",
       "      <td>False</td>\n",
       "      <td>3880.182632</td>\n",
       "      <td>2158.411274</td>\n",
       "      <td>False</td>\n",
       "      <td>False</td>\n",
       "      <td>False</td>\n",
       "      <td>...</td>\n",
       "      <td>0.313604</td>\n",
       "      <td>-1946.821009</td>\n",
       "      <td>1131.308512</td>\n",
       "      <td>NaN</td>\n",
       "      <td>0.630927</td>\n",
       "      <td>-707.341493</td>\n",
       "      <td>1636.340673</td>\n",
       "      <td>NaN</td>\n",
       "      <td>2.511707</td>\n",
       "      <td>60591.167170</td>\n",
       "    </tr>\n",
       "    <tr>\n",
       "      <th>618180</th>\n",
       "      <td>45822608259678437</td>\n",
       "      <td>1.004766</td>\n",
       "      <td>-0.543561</td>\n",
       "      <td>0</td>\n",
       "      <td>False</td>\n",
       "      <td>2202.106250</td>\n",
       "      <td>3370.250152</td>\n",
       "      <td>False</td>\n",
       "      <td>False</td>\n",
       "      <td>False</td>\n",
       "      <td>...</td>\n",
       "      <td>0.234672</td>\n",
       "      <td>-3459.325239</td>\n",
       "      <td>1098.368611</td>\n",
       "      <td>NaN</td>\n",
       "      <td>0.344732</td>\n",
       "      <td>-3312.991190</td>\n",
       "      <td>1588.401028</td>\n",
       "      <td>NaN</td>\n",
       "      <td>0.520552</td>\n",
       "      <td>60591.185394</td>\n",
       "    </tr>\n",
       "    <tr>\n",
       "      <th>586923</th>\n",
       "      <td>46130566340280360</td>\n",
       "      <td>1.004766</td>\n",
       "      <td>-0.543561</td>\n",
       "      <td>0</td>\n",
       "      <td>False</td>\n",
       "      <td>690.024191</td>\n",
       "      <td>1172.416195</td>\n",
       "      <td>False</td>\n",
       "      <td>False</td>\n",
       "      <td>False</td>\n",
       "      <td>...</td>\n",
       "      <td>0.327358</td>\n",
       "      <td>-3202.593914</td>\n",
       "      <td>1546.290922</td>\n",
       "      <td>NaN</td>\n",
       "      <td>0.524220</td>\n",
       "      <td>-3764.146446</td>\n",
       "      <td>2254.373714</td>\n",
       "      <td>NaN</td>\n",
       "      <td>0.650255</td>\n",
       "      <td>60597.220265</td>\n",
       "    </tr>\n",
       "    <tr>\n",
       "      <th>629935</th>\n",
       "      <td>46132381702160459</td>\n",
       "      <td>1.004767</td>\n",
       "      <td>-0.543560</td>\n",
       "      <td>0</td>\n",
       "      <td>False</td>\n",
       "      <td>446.025938</td>\n",
       "      <td>2324.065054</td>\n",
       "      <td>False</td>\n",
       "      <td>False</td>\n",
       "      <td>False</td>\n",
       "      <td>...</td>\n",
       "      <td>0.213784</td>\n",
       "      <td>-4784.711416</td>\n",
       "      <td>1525.739304</td>\n",
       "      <td>NaN</td>\n",
       "      <td>0.346217</td>\n",
       "      <td>-4259.868834</td>\n",
       "      <td>2230.206760</td>\n",
       "      <td>NaN</td>\n",
       "      <td>0.568425</td>\n",
       "      <td>60597.232470</td>\n",
       "    </tr>\n",
       "    <tr>\n",
       "      <th>460279</th>\n",
       "      <td>46132453642862691</td>\n",
       "      <td>1.004766</td>\n",
       "      <td>-0.543560</td>\n",
       "      <td>0</td>\n",
       "      <td>False</td>\n",
       "      <td>2963.161752</td>\n",
       "      <td>3519.167445</td>\n",
       "      <td>False</td>\n",
       "      <td>False</td>\n",
       "      <td>False</td>\n",
       "      <td>...</td>\n",
       "      <td>0.311531</td>\n",
       "      <td>-3482.024662</td>\n",
       "      <td>1531.099376</td>\n",
       "      <td>NaN</td>\n",
       "      <td>0.477415</td>\n",
       "      <td>-782.814749</td>\n",
       "      <td>2230.501255</td>\n",
       "      <td>NaN</td>\n",
       "      <td>3.093626</td>\n",
       "      <td>60597.232919</td>\n",
       "    </tr>\n",
       "    <tr>\n",
       "      <th>597425</th>\n",
       "      <td>46571270921257141</td>\n",
       "      <td>1.004766</td>\n",
       "      <td>-0.543561</td>\n",
       "      <td>0</td>\n",
       "      <td>False</td>\n",
       "      <td>2278.126896</td>\n",
       "      <td>662.198777</td>\n",
       "      <td>False</td>\n",
       "      <td>False</td>\n",
       "      <td>False</td>\n",
       "      <td>...</td>\n",
       "      <td>0.355109</td>\n",
       "      <td>-2674.996212</td>\n",
       "      <td>792.080539</td>\n",
       "      <td>NaN</td>\n",
       "      <td>0.321492</td>\n",
       "      <td>-1233.496568</td>\n",
       "      <td>1148.572959</td>\n",
       "      <td>NaN</td>\n",
       "      <td>1.010986</td>\n",
       "      <td>60605.181221</td>\n",
       "    </tr>\n",
       "    <tr>\n",
       "      <th>623230</th>\n",
       "      <td>46587520594477290</td>\n",
       "      <td>1.004767</td>\n",
       "      <td>-0.543561</td>\n",
       "      <td>0</td>\n",
       "      <td>False</td>\n",
       "      <td>796.016325</td>\n",
       "      <td>3476.190929</td>\n",
       "      <td>False</td>\n",
       "      <td>False</td>\n",
       "      <td>False</td>\n",
       "      <td>...</td>\n",
       "      <td>0.324799</td>\n",
       "      <td>-2116.953973</td>\n",
       "      <td>1005.127673</td>\n",
       "      <td>NaN</td>\n",
       "      <td>0.515506</td>\n",
       "      <td>-2168.807779</td>\n",
       "      <td>1465.807695</td>\n",
       "      <td>NaN</td>\n",
       "      <td>0.733804</td>\n",
       "      <td>60605.296562</td>\n",
       "    </tr>\n",
       "    <tr>\n",
       "      <th>453334</th>\n",
       "      <td>47998742963421322</td>\n",
       "      <td>1.004765</td>\n",
       "      <td>-0.543561</td>\n",
       "      <td>0</td>\n",
       "      <td>False</td>\n",
       "      <td>1316.121484</td>\n",
       "      <td>1174.174330</td>\n",
       "      <td>False</td>\n",
       "      <td>False</td>\n",
       "      <td>False</td>\n",
       "      <td>...</td>\n",
       "      <td>0.457827</td>\n",
       "      <td>-1186.766779</td>\n",
       "      <td>596.881488</td>\n",
       "      <td>NaN</td>\n",
       "      <td>0.546068</td>\n",
       "      <td>-1894.322575</td>\n",
       "      <td>851.251001</td>\n",
       "      <td>NaN</td>\n",
       "      <td>0.487897</td>\n",
       "      <td>60635.101358</td>\n",
       "    </tr>\n",
       "    <tr>\n",
       "      <th>515170</th>\n",
       "      <td>48000761128288397</td>\n",
       "      <td>1.004766</td>\n",
       "      <td>-0.543561</td>\n",
       "      <td>0</td>\n",
       "      <td>False</td>\n",
       "      <td>1647.177536</td>\n",
       "      <td>582.048032</td>\n",
       "      <td>False</td>\n",
       "      <td>False</td>\n",
       "      <td>False</td>\n",
       "      <td>...</td>\n",
       "      <td>0.361364</td>\n",
       "      <td>-1121.587881</td>\n",
       "      <td>588.452836</td>\n",
       "      <td>NaN</td>\n",
       "      <td>0.569643</td>\n",
       "      <td>-2150.096645</td>\n",
       "      <td>840.849279</td>\n",
       "      <td>NaN</td>\n",
       "      <td>0.424604</td>\n",
       "      <td>60635.114953</td>\n",
       "    </tr>\n",
       "    <tr>\n",
       "      <th>617638</th>\n",
       "      <td>48436500525744251</td>\n",
       "      <td>1.004767</td>\n",
       "      <td>-0.543559</td>\n",
       "      <td>0</td>\n",
       "      <td>False</td>\n",
       "      <td>3601.173586</td>\n",
       "      <td>1137.044880</td>\n",
       "      <td>False</td>\n",
       "      <td>False</td>\n",
       "      <td>False</td>\n",
       "      <td>...</td>\n",
       "      <td>0.514445</td>\n",
       "      <td>-769.803471</td>\n",
       "      <td>583.133597</td>\n",
       "      <td>NaN</td>\n",
       "      <td>0.822456</td>\n",
       "      <td>-730.763024</td>\n",
       "      <td>833.640603</td>\n",
       "      <td>NaN</td>\n",
       "      <td>1.238587</td>\n",
       "      <td>60647.094585</td>\n",
       "    </tr>\n",
       "    <tr>\n",
       "      <th>483944</th>\n",
       "      <td>48438443998445808</td>\n",
       "      <td>1.004766</td>\n",
       "      <td>-0.543560</td>\n",
       "      <td>0</td>\n",
       "      <td>False</td>\n",
       "      <td>291.213466</td>\n",
       "      <td>1206.294694</td>\n",
       "      <td>False</td>\n",
       "      <td>False</td>\n",
       "      <td>False</td>\n",
       "      <td>...</td>\n",
       "      <td>0.326110</td>\n",
       "      <td>-1662.076362</td>\n",
       "      <td>578.623067</td>\n",
       "      <td>NaN</td>\n",
       "      <td>0.377980</td>\n",
       "      <td>-3092.492753</td>\n",
       "      <td>824.304187</td>\n",
       "      <td>NaN</td>\n",
       "      <td>0.289403</td>\n",
       "      <td>60647.108331</td>\n",
       "    </tr>\n",
       "    <tr>\n",
       "      <th>395328</th>\n",
       "      <td>48481796123263320</td>\n",
       "      <td>1.004767</td>\n",
       "      <td>-0.543561</td>\n",
       "      <td>0</td>\n",
       "      <td>False</td>\n",
       "      <td>2259.206467</td>\n",
       "      <td>1980.166063</td>\n",
       "      <td>False</td>\n",
       "      <td>False</td>\n",
       "      <td>False</td>\n",
       "      <td>...</td>\n",
       "      <td>0.414193</td>\n",
       "      <td>-904.757253</td>\n",
       "      <td>603.281019</td>\n",
       "      <td>NaN</td>\n",
       "      <td>0.723956</td>\n",
       "      <td>-380.286462</td>\n",
       "      <td>862.505643</td>\n",
       "      <td>NaN</td>\n",
       "      <td>2.462495</td>\n",
       "      <td>60648.078024</td>\n",
       "    </tr>\n",
       "    <tr>\n",
       "      <th>430802</th>\n",
       "      <td>48484879708455270</td>\n",
       "      <td>1.004765</td>\n",
       "      <td>-0.543561</td>\n",
       "      <td>0</td>\n",
       "      <td>False</td>\n",
       "      <td>777.046853</td>\n",
       "      <td>2385.200220</td>\n",
       "      <td>False</td>\n",
       "      <td>False</td>\n",
       "      <td>False</td>\n",
       "      <td>...</td>\n",
       "      <td>0.309779</td>\n",
       "      <td>-1525.037936</td>\n",
       "      <td>617.930251</td>\n",
       "      <td>NaN</td>\n",
       "      <td>0.439930</td>\n",
       "      <td>-2546.486051</td>\n",
       "      <td>883.061234</td>\n",
       "      <td>NaN</td>\n",
       "      <td>0.376508</td>\n",
       "      <td>60648.099838</td>\n",
       "    </tr>\n",
       "    <tr>\n",
       "      <th>61479</th>\n",
       "      <td>14760394518167693</td>\n",
       "      <td>1.004766</td>\n",
       "      <td>-0.543560</td>\n",
       "      <td>0</td>\n",
       "      <td>False</td>\n",
       "      <td>1701.408893</td>\n",
       "      <td>1035.927687</td>\n",
       "      <td>False</td>\n",
       "      <td>False</td>\n",
       "      <td>False</td>\n",
       "      <td>...</td>\n",
       "      <td>0.219462</td>\n",
       "      <td>-2377.365586</td>\n",
       "      <td>633.578762</td>\n",
       "      <td>NaN</td>\n",
       "      <td>0.289354</td>\n",
       "      <td>-1015.450803</td>\n",
       "      <td>909.624617</td>\n",
       "      <td>NaN</td>\n",
       "      <td>0.972585</td>\n",
       "      <td>59877.138163</td>\n",
       "    </tr>\n",
       "    <tr>\n",
       "      <th>145568</th>\n",
       "      <td>32143411427410046</td>\n",
       "      <td>1.004765</td>\n",
       "      <td>-0.543560</td>\n",
       "      <td>0</td>\n",
       "      <td>False</td>\n",
       "      <td>1120.127059</td>\n",
       "      <td>1628.883777</td>\n",
       "      <td>False</td>\n",
       "      <td>False</td>\n",
       "      <td>False</td>\n",
       "      <td>...</td>\n",
       "      <td>0.618754</td>\n",
       "      <td>-655.323177</td>\n",
       "      <td>1651.791992</td>\n",
       "      <td>NaN</td>\n",
       "      <td>2.736681</td>\n",
       "      <td>-6876.690850</td>\n",
       "      <td>2407.759626</td>\n",
       "      <td>NaN</td>\n",
       "      <td>0.380153</td>\n",
       "      <td>60278.254784</td>\n",
       "    </tr>\n",
       "    <tr>\n",
       "      <th>398006</th>\n",
       "      <td>46536718513340491</td>\n",
       "      <td>1.004765</td>\n",
       "      <td>-0.543560</td>\n",
       "      <td>0</td>\n",
       "      <td>False</td>\n",
       "      <td>2006.036195</td>\n",
       "      <td>3483.052519</td>\n",
       "      <td>False</td>\n",
       "      <td>False</td>\n",
       "      <td>False</td>\n",
       "      <td>...</td>\n",
       "      <td>0.253467</td>\n",
       "      <td>-4142.341678</td>\n",
       "      <td>1489.498579</td>\n",
       "      <td>NaN</td>\n",
       "      <td>0.390408</td>\n",
       "      <td>-4124.499225</td>\n",
       "      <td>2174.087377</td>\n",
       "      <td>NaN</td>\n",
       "      <td>0.572308</td>\n",
       "      <td>60604.319315</td>\n",
       "    </tr>\n",
       "    <tr>\n",
       "      <th>56529</th>\n",
       "      <td>16801513972170891</td>\n",
       "      <td>1.004766</td>\n",
       "      <td>-0.543561</td>\n",
       "      <td>0</td>\n",
       "      <td>False</td>\n",
       "      <td>1821.332608</td>\n",
       "      <td>655.532220</td>\n",
       "      <td>False</td>\n",
       "      <td>False</td>\n",
       "      <td>False</td>\n",
       "      <td>...</td>\n",
       "      <td>0.324280</td>\n",
       "      <td>-2142.324423</td>\n",
       "      <td>831.892814</td>\n",
       "      <td>NaN</td>\n",
       "      <td>0.421606</td>\n",
       "      <td>-659.957392</td>\n",
       "      <td>1202.802913</td>\n",
       "      <td>NaN</td>\n",
       "      <td>1.978805</td>\n",
       "      <td>59926.150450</td>\n",
       "    </tr>\n",
       "    <tr>\n",
       "      <th>347628</th>\n",
       "      <td>27984799008292992</td>\n",
       "      <td>1.004765</td>\n",
       "      <td>-0.543560</td>\n",
       "      <td>0</td>\n",
       "      <td>False</td>\n",
       "      <td>3173.852599</td>\n",
       "      <td>1255.275490</td>\n",
       "      <td>False</td>\n",
       "      <td>False</td>\n",
       "      <td>False</td>\n",
       "      <td>...</td>\n",
       "      <td>0.710959</td>\n",
       "      <td>-1069.107869</td>\n",
       "      <td>618.772087</td>\n",
       "      <td>NaN</td>\n",
       "      <td>0.628396</td>\n",
       "      <td>-1851.243021</td>\n",
       "      <td>886.325956</td>\n",
       "      <td>NaN</td>\n",
       "      <td>0.519822</td>\n",
       "      <td>60175.315458</td>\n",
       "    </tr>\n",
       "    <tr>\n",
       "      <th>27515</th>\n",
       "      <td>28238207044813024</td>\n",
       "      <td>1.004765</td>\n",
       "      <td>-0.543560</td>\n",
       "      <td>0</td>\n",
       "      <td>False</td>\n",
       "      <td>1500.081219</td>\n",
       "      <td>3203.175782</td>\n",
       "      <td>False</td>\n",
       "      <td>False</td>\n",
       "      <td>False</td>\n",
       "      <td>...</td>\n",
       "      <td>0.237686</td>\n",
       "      <td>-1477.743076</td>\n",
       "      <td>1028.475206</td>\n",
       "      <td>NaN</td>\n",
       "      <td>0.755647</td>\n",
       "      <td>430.820147</td>\n",
       "      <td>1484.856714</td>\n",
       "      <td>24.814260</td>\n",
       "      <td>3.742078</td>\n",
       "      <td>60179.353690</td>\n",
       "    </tr>\n",
       "    <tr>\n",
       "      <th>31254</th>\n",
       "      <td>28239747327459403</td>\n",
       "      <td>1.004766</td>\n",
       "      <td>-0.543561</td>\n",
       "      <td>0</td>\n",
       "      <td>False</td>\n",
       "      <td>2325.882404</td>\n",
       "      <td>600.218808</td>\n",
       "      <td>False</td>\n",
       "      <td>False</td>\n",
       "      <td>False</td>\n",
       "      <td>...</td>\n",
       "      <td>0.223001</td>\n",
       "      <td>-3912.233597</td>\n",
       "      <td>1021.286354</td>\n",
       "      <td>NaN</td>\n",
       "      <td>0.283431</td>\n",
       "      <td>-4736.726196</td>\n",
       "      <td>1473.791901</td>\n",
       "      <td>NaN</td>\n",
       "      <td>0.337818</td>\n",
       "      <td>60179.364116</td>\n",
       "    </tr>\n",
       "    <tr>\n",
       "      <th>165021</th>\n",
       "      <td>29124983775035566</td>\n",
       "      <td>1.004766</td>\n",
       "      <td>-0.543560</td>\n",
       "      <td>0</td>\n",
       "      <td>False</td>\n",
       "      <td>55.068963</td>\n",
       "      <td>788.013473</td>\n",
       "      <td>False</td>\n",
       "      <td>False</td>\n",
       "      <td>False</td>\n",
       "      <td>...</td>\n",
       "      <td>0.318594</td>\n",
       "      <td>-2565.617272</td>\n",
       "      <td>1066.761844</td>\n",
       "      <td>NaN</td>\n",
       "      <td>0.451440</td>\n",
       "      <td>299.132384</td>\n",
       "      <td>1542.657667</td>\n",
       "      <td>25.210341</td>\n",
       "      <td>5.599258</td>\n",
       "      <td>60201.260069</td>\n",
       "    </tr>\n",
       "  </tbody>\n",
       "</table>\n",
       "<p>66 rows × 292 columns</p>\n",
       "</div>"
      ],
      "text/plain": [
       "                       id  coord_ra  coord_dec  parent  flags_negative  \\\n",
       "313101  10702592027918474  1.004767  -0.543560       0           False   \n",
       "318652  10703470415839413  1.004765  -0.543560       0           False   \n",
       "343701  11717346838184040  1.004766  -0.543560       0           False   \n",
       "346790  11910491450376313  1.004766  -0.543560       0           False   \n",
       "204176  12204958166286451  1.004766  -0.543560       0           False   \n",
       "210423  12211470209122368  1.004766  -0.543560       0           False   \n",
       "199502  12340793956106335  1.004766  -0.543559       0           False   \n",
       "189892  12843101789880355  1.004765  -0.543560       0           False   \n",
       "117674  14758726795788404  1.004767  -0.543560       0           False   \n",
       "136329  15293515588173866  1.004766  -0.543560       0           False   \n",
       "138229  15295329406550045  1.004766  -0.543560       0           False   \n",
       "59268   16803730645057670  1.004766  -0.543560       0           False   \n",
       "55588   17206252966772875  1.004766  -0.543560       0           False   \n",
       "198199  17581998046445630  1.004766  -0.543560       0           False   \n",
       "69880   17680376218517575  1.004766  -0.543559       0           False   \n",
       "71330   17683665962139760  1.004766  -0.543560       0           False   \n",
       "72052   17686948659331183  1.004765  -0.543561       0           False   \n",
       "6219    18445083737063524  1.004767  -0.543561       0           False   \n",
       "12848   18448102897746063  1.004767  -0.543559       0           False   \n",
       "352651  27984870881886381  1.004766  -0.543561       0           False   \n",
       "359383  27987754281337037  1.004766  -0.543560       0           False   \n",
       "22401   28238075578548434  1.004765  -0.543560       0           False   \n",
       "24734   28238143828263066  1.004766  -0.543561       0           False   \n",
       "34794   28239951002861743  1.004766  -0.543560       0           False   \n",
       "246997  28244649361539260  1.004767  -0.543561       0           False   \n",
       "280221  28299344092332223  1.004766  -0.543561       0           False   \n",
       "287652  28301625592381586  1.004765  -0.543561       0           False   \n",
       "240226  28757903791882324  1.004766  -0.543560       0           False   \n",
       "337961  29348183494623326  1.004766  -0.543561       0           False   \n",
       "338561  29348251073249390  1.004766  -0.543560       0           False   \n",
       "...                   ...       ...        ...     ...             ...   \n",
       "201685  33351703906484331  1.004766  -0.543560       0           False   \n",
       "467718  34360014789410897  1.004767  -0.543561       0           False   \n",
       "416382  42672252700852291  1.004766  -0.543561       0           False   \n",
       "584362  43021690233422027  1.004766  -0.543561       0           False   \n",
       "570587  43024907231035449  1.004766  -0.543560       0           False   \n",
       "546277  43920408314904663  1.004766  -0.543560       0           False   \n",
       "389365  45086159277129846  1.004766  -0.543560       0           False   \n",
       "543903  45421228667699445  1.004765  -0.543561       0           False   \n",
       "506500  45592763286159569  1.004765  -0.543560       0           False   \n",
       "525118  45819927663214714  1.004766  -0.543560       0           False   \n",
       "618180  45822608259678437  1.004766  -0.543561       0           False   \n",
       "586923  46130566340280360  1.004766  -0.543561       0           False   \n",
       "629935  46132381702160459  1.004767  -0.543560       0           False   \n",
       "460279  46132453642862691  1.004766  -0.543560       0           False   \n",
       "597425  46571270921257141  1.004766  -0.543561       0           False   \n",
       "623230  46587520594477290  1.004767  -0.543561       0           False   \n",
       "453334  47998742963421322  1.004765  -0.543561       0           False   \n",
       "515170  48000761128288397  1.004766  -0.543561       0           False   \n",
       "617638  48436500525744251  1.004767  -0.543559       0           False   \n",
       "483944  48438443998445808  1.004766  -0.543560       0           False   \n",
       "395328  48481796123263320  1.004767  -0.543561       0           False   \n",
       "430802  48484879708455270  1.004765  -0.543561       0           False   \n",
       "61479   14760394518167693  1.004766  -0.543560       0           False   \n",
       "145568  32143411427410046  1.004765  -0.543560       0           False   \n",
       "398006  46536718513340491  1.004765  -0.543560       0           False   \n",
       "56529   16801513972170891  1.004766  -0.543561       0           False   \n",
       "347628  27984799008292992  1.004765  -0.543560       0           False   \n",
       "27515   28238207044813024  1.004765  -0.543560       0           False   \n",
       "31254   28239747327459403  1.004766  -0.543561       0           False   \n",
       "165021  29124983775035566  1.004766  -0.543560       0           False   \n",
       "\n",
       "        base_NaiveCentroid_x  base_NaiveCentroid_y  base_NaiveCentroid_flag  \\\n",
       "313101           1836.035298             58.080751                    False   \n",
       "318652           1428.307483           2518.372851                    False   \n",
       "343701           3023.264735           3056.077090                    False   \n",
       "346790           3587.016334           2598.171160                    False   \n",
       "204176           3230.177845           1307.352390                    False   \n",
       "210423           2988.027804           3049.039935                    False   \n",
       "199502           1806.256267            677.097005                    False   \n",
       "189892           1684.811380           1238.620584                    False   \n",
       "117674           1700.054141           3838.058763                    False   \n",
       "136329           2548.024121            241.087217                    False   \n",
       "138229            749.072233            254.047320                    False   \n",
       "59268            3005.055495           1747.347890                    False   \n",
       "55588            2152.062670           2537.241152                    False   \n",
       "198199           2420.175281           3585.036575                    False   \n",
       "69880             738.372982           1460.073914                    False   \n",
       "71330            1392.126833           2740.205400                    False   \n",
       "72052             354.023227           2575.124140                    False   \n",
       "6219             3953.134982           2034.035852                    False   \n",
       "12848            1626.951561           1367.919946                    False   \n",
       "352651           1544.197374            843.046270                    False   \n",
       "359383           1043.175234            920.113802                    False   \n",
       "22401            2334.018746           2423.055151                    False   \n",
       "24734            1136.345139           1601.325835                    False   \n",
       "34794            4051.949832           1790.080914                    False   \n",
       "246997           3494.267952           1467.568141                    False   \n",
       "280221            466.077287           3926.302544                    False   \n",
       "287652            703.010426           1566.147478                    False   \n",
       "240226           2584.064199            614.056199                    False   \n",
       "337961           1751.500346           1287.074704                    False   \n",
       "338561           2522.150987            915.019614                    False   \n",
       "...                      ...                   ...                      ...   \n",
       "201685           1347.200386            869.992783                    False   \n",
       "467718           3270.178924            424.215045                    False   \n",
       "416382           3483.349230           1418.422230                    False   \n",
       "584362           2245.000425           2432.063505                    False   \n",
       "570587           2926.121970            246.221666                    False   \n",
       "546277           3659.065969           3506.150313                    False   \n",
       "389365           3013.144080             87.717243                    False   \n",
       "543903           2191.226144           3933.012819                    False   \n",
       "506500           1856.102456           3027.133540                    False   \n",
       "525118           3880.182632           2158.411274                    False   \n",
       "618180           2202.106250           3370.250152                    False   \n",
       "586923            690.024191           1172.416195                    False   \n",
       "629935            446.025938           2324.065054                    False   \n",
       "460279           2963.161752           3519.167445                    False   \n",
       "597425           2278.126896            662.198777                    False   \n",
       "623230            796.016325           3476.190929                    False   \n",
       "453334           1316.121484           1174.174330                    False   \n",
       "515170           1647.177536            582.048032                    False   \n",
       "617638           3601.173586           1137.044880                    False   \n",
       "483944            291.213466           1206.294694                    False   \n",
       "395328           2259.206467           1980.166063                    False   \n",
       "430802            777.046853           2385.200220                    False   \n",
       "61479            1701.408893           1035.927687                    False   \n",
       "145568           1120.127059           1628.883777                    False   \n",
       "398006           2006.036195           3483.052519                    False   \n",
       "56529            1821.332608            655.532220                    False   \n",
       "347628           3173.852599           1255.275490                    False   \n",
       "27515            1500.081219           3203.175782                    False   \n",
       "31254            2325.882404            600.218808                    False   \n",
       "165021             55.068963            788.013473                    False   \n",
       "\n",
       "        base_NaiveCentroid_flag_noCounts  base_NaiveCentroid_flag_edge  ...  \\\n",
       "313101                             False                         False  ...   \n",
       "318652                             False                         False  ...   \n",
       "343701                             False                         False  ...   \n",
       "346790                             False                         False  ...   \n",
       "204176                             False                         False  ...   \n",
       "210423                             False                         False  ...   \n",
       "199502                             False                         False  ...   \n",
       "189892                             False                         False  ...   \n",
       "117674                             False                         False  ...   \n",
       "136329                             False                         False  ...   \n",
       "138229                             False                         False  ...   \n",
       "59268                              False                         False  ...   \n",
       "55588                              False                         False  ...   \n",
       "198199                             False                         False  ...   \n",
       "69880                              False                         False  ...   \n",
       "71330                              False                         False  ...   \n",
       "72052                              False                         False  ...   \n",
       "6219                               False                         False  ...   \n",
       "12848                              False                         False  ...   \n",
       "352651                             False                         False  ...   \n",
       "359383                             False                         False  ...   \n",
       "22401                              False                         False  ...   \n",
       "24734                              False                         False  ...   \n",
       "34794                              False                         False  ...   \n",
       "246997                             False                         False  ...   \n",
       "280221                             False                         False  ...   \n",
       "287652                             False                         False  ...   \n",
       "240226                             False                         False  ...   \n",
       "337961                             False                         False  ...   \n",
       "338561                             False                         False  ...   \n",
       "...                                  ...                           ...  ...   \n",
       "201685                             False                         False  ...   \n",
       "467718                             False                         False  ...   \n",
       "416382                             False                         False  ...   \n",
       "584362                             False                         False  ...   \n",
       "570587                             False                         False  ...   \n",
       "546277                             False                         False  ...   \n",
       "389365                             False                         False  ...   \n",
       "543903                             False                         False  ...   \n",
       "506500                             False                         False  ...   \n",
       "525118                             False                         False  ...   \n",
       "618180                             False                         False  ...   \n",
       "586923                             False                         False  ...   \n",
       "629935                             False                         False  ...   \n",
       "460279                             False                         False  ...   \n",
       "597425                             False                         False  ...   \n",
       "623230                             False                         False  ...   \n",
       "453334                             False                         False  ...   \n",
       "515170                             False                         False  ...   \n",
       "617638                             False                         False  ...   \n",
       "483944                             False                         False  ...   \n",
       "395328                             False                         False  ...   \n",
       "430802                             False                         False  ...   \n",
       "61479                              False                         False  ...   \n",
       "145568                             False                         False  ...   \n",
       "398006                             False                         False  ...   \n",
       "56529                              False                         False  ...   \n",
       "347628                             False                         False  ...   \n",
       "27515                              False                         False  ...   \n",
       "31254                              False                         False  ...   \n",
       "165021                             False                         False  ...   \n",
       "\n",
       "        base_CircularApertureFlux_12_0_instFlux_calMagErr  \\\n",
       "313101                                           0.236548   \n",
       "318652                                           0.197259   \n",
       "343701                                           0.104907   \n",
       "346790                                           0.117898   \n",
       "204176                                           0.091042   \n",
       "210423                                           0.091641   \n",
       "199502                                           0.138824   \n",
       "189892                                           0.334815   \n",
       "117674                                           0.454282   \n",
       "136329                                           0.270090   \n",
       "138229                                           0.540277   \n",
       "59268                                            0.428985   \n",
       "55588                                            0.287321   \n",
       "198199                                           0.913820   \n",
       "69880                                            0.395101   \n",
       "71330                                            0.314815   \n",
       "72052                                            0.520933   \n",
       "6219                                             0.266071   \n",
       "12848                                            0.511405   \n",
       "352651                                           0.279420   \n",
       "359383                                           0.910519   \n",
       "22401                                            0.272881   \n",
       "24734                                            0.248725   \n",
       "34794                                                 NaN   \n",
       "246997                                           0.222215   \n",
       "280221                                           0.405095   \n",
       "287652                                           0.375207   \n",
       "240226                                           0.570249   \n",
       "337961                                           0.278722   \n",
       "338561                                           0.407164   \n",
       "...                                                   ...   \n",
       "201685                                           0.305304   \n",
       "467718                                           0.236775   \n",
       "416382                                           0.195818   \n",
       "584362                                           0.221604   \n",
       "570587                                           0.236611   \n",
       "546277                                           0.205935   \n",
       "389365                                           0.544030   \n",
       "543903                                           0.246888   \n",
       "506500                                           0.515184   \n",
       "525118                                           0.313604   \n",
       "618180                                           0.234672   \n",
       "586923                                           0.327358   \n",
       "629935                                           0.213784   \n",
       "460279                                           0.311531   \n",
       "597425                                           0.355109   \n",
       "623230                                           0.324799   \n",
       "453334                                           0.457827   \n",
       "515170                                           0.361364   \n",
       "617638                                           0.514445   \n",
       "483944                                           0.326110   \n",
       "395328                                           0.414193   \n",
       "430802                                           0.309779   \n",
       "61479                                            0.219462   \n",
       "145568                                           0.618754   \n",
       "398006                                           0.253467   \n",
       "56529                                            0.324280   \n",
       "347628                                           0.710959   \n",
       "27515                                            0.237686   \n",
       "31254                                            0.223001   \n",
       "165021                                           0.318594   \n",
       "\n",
       "        base_CircularApertureFlux_17_0_instFlux_nJy  \\\n",
       "313101                                  1303.985371   \n",
       "318652                                  1170.594270   \n",
       "343701                                  8825.768849   \n",
       "346790                                  7182.609663   \n",
       "204176                                  5693.638466   \n",
       "210423                                  5569.030443   \n",
       "199502                                  1490.308903   \n",
       "189892                                  4984.874340   \n",
       "117674                                 -1129.033973   \n",
       "136329                                 -2668.132711   \n",
       "138229                                 -1180.048207   \n",
       "59268                                  -2332.905638   \n",
       "55588                                  -1340.982185   \n",
       "198199                                 -1694.108367   \n",
       "69880                                  -2428.115253   \n",
       "71330                                  -5769.454622   \n",
       "72052                                  -2982.480275   \n",
       "6219                                   -1936.201095   \n",
       "12848                                   -657.279507   \n",
       "352651                                 -2074.108455   \n",
       "359383                                  -687.334005   \n",
       "22401                                  -2840.535372   \n",
       "24734                                  -3872.717184   \n",
       "34794                                           NaN   \n",
       "246997                                 -4601.315172   \n",
       "280221                                 -2157.626876   \n",
       "287652                                 -1447.773038   \n",
       "240226                                 -1595.136532   \n",
       "337961                                 -3672.304663   \n",
       "338561                                 -3108.806958   \n",
       "...                                             ...   \n",
       "201685                                 -6196.120142   \n",
       "467718                                 -6204.005840   \n",
       "416382                                 -3190.150407   \n",
       "584362                                 -5194.391699   \n",
       "570587                                 -3981.898955   \n",
       "546277                                 -3571.213893   \n",
       "389365                                 -1989.610809   \n",
       "543903                                 -2397.696658   \n",
       "506500                                 -2933.695011   \n",
       "525118                                 -1946.821009   \n",
       "618180                                 -3459.325239   \n",
       "586923                                 -3202.593914   \n",
       "629935                                 -4784.711416   \n",
       "460279                                 -3482.024662   \n",
       "597425                                 -2674.996212   \n",
       "623230                                 -2116.953973   \n",
       "453334                                 -1186.766779   \n",
       "515170                                 -1121.587881   \n",
       "617638                                  -769.803471   \n",
       "483944                                 -1662.076362   \n",
       "395328                                  -904.757253   \n",
       "430802                                 -1525.037936   \n",
       "61479                                  -2377.365586   \n",
       "145568                                  -655.323177   \n",
       "398006                                 -4142.341678   \n",
       "56529                                  -2142.324423   \n",
       "347628                                 -1069.107869   \n",
       "27515                                  -1477.743076   \n",
       "31254                                  -3912.233597   \n",
       "165021                                 -2565.617272   \n",
       "\n",
       "        base_CircularApertureFlux_17_0_instFlux_nJyErr  \\\n",
       "313101                                      375.880447   \n",
       "318652                                      374.845761   \n",
       "343701                                     1199.972990   \n",
       "346790                                     1021.842962   \n",
       "204176                                      628.578816   \n",
       "210423                                      606.770356   \n",
       "199502                                      349.694609   \n",
       "189892                                     2319.617571   \n",
       "117674                                      643.860951   \n",
       "136329                                     1516.870029   \n",
       "138229                                     1525.385687   \n",
       "59268                                       878.126750   \n",
       "55588                                      1039.960254   \n",
       "198199                                     1531.143376   \n",
       "69880                                      1712.529931   \n",
       "71330                                      1730.160949   \n",
       "72052                                      1648.815667   \n",
       "6219                                        586.040961   \n",
       "12848                                       608.210404   \n",
       "352651                                      617.832535   \n",
       "359383                                      607.783754   \n",
       "22401                                      1031.819523   \n",
       "24734                                      1032.823710   \n",
       "34794                                              NaN   \n",
       "246997                                     1000.916001   \n",
       "280221                                     1058.863402   \n",
       "287652                                     1038.790378   \n",
       "240226                                     1225.397626   \n",
       "337961                                     1084.395861   \n",
       "338561                                     1085.356467   \n",
       "...                                                ...   \n",
       "201685                                     1571.417170   \n",
       "467718                                     1597.504627   \n",
       "416382                                     1106.015545   \n",
       "584362                                     1130.260442   \n",
       "570587                                     1094.166479   \n",
       "546277                                     1182.413420   \n",
       "389365                                      690.663119   \n",
       "543903                                      599.581527   \n",
       "506500                                     1082.074536   \n",
       "525118                                     1131.308512   \n",
       "618180                                     1098.368611   \n",
       "586923                                     1546.290922   \n",
       "629935                                     1525.739304   \n",
       "460279                                     1531.099376   \n",
       "597425                                      792.080539   \n",
       "623230                                     1005.127673   \n",
       "453334                                      596.881488   \n",
       "515170                                      588.452836   \n",
       "617638                                      583.133597   \n",
       "483944                                      578.623067   \n",
       "395328                                      603.281019   \n",
       "430802                                      617.930251   \n",
       "61479                                       633.578762   \n",
       "145568                                     1651.791992   \n",
       "398006                                     1489.498579   \n",
       "56529                                       831.892814   \n",
       "347628                                      618.772087   \n",
       "27515                                      1028.475206   \n",
       "31254                                      1021.286354   \n",
       "165021                                     1066.761844   \n",
       "\n",
       "        base_CircularApertureFlux_17_0_instFlux_calMag  \\\n",
       "313101                                       23.611818   \n",
       "318652                                       23.728984   \n",
       "343701                                       21.535619   \n",
       "346790                                       21.759294   \n",
       "204176                                       22.011525   \n",
       "210423                                       22.035551   \n",
       "199502                                       23.466809   \n",
       "189892                                       22.155864   \n",
       "117674                                             NaN   \n",
       "136329                                             NaN   \n",
       "138229                                             NaN   \n",
       "59268                                              NaN   \n",
       "55588                                              NaN   \n",
       "198199                                             NaN   \n",
       "69880                                              NaN   \n",
       "71330                                              NaN   \n",
       "72052                                              NaN   \n",
       "6219                                               NaN   \n",
       "12848                                              NaN   \n",
       "352651                                             NaN   \n",
       "359383                                             NaN   \n",
       "22401                                              NaN   \n",
       "24734                                              NaN   \n",
       "34794                                              NaN   \n",
       "246997                                             NaN   \n",
       "280221                                             NaN   \n",
       "287652                                             NaN   \n",
       "240226                                             NaN   \n",
       "337961                                             NaN   \n",
       "338561                                             NaN   \n",
       "...                                                ...   \n",
       "201685                                             NaN   \n",
       "467718                                             NaN   \n",
       "416382                                             NaN   \n",
       "584362                                             NaN   \n",
       "570587                                             NaN   \n",
       "546277                                             NaN   \n",
       "389365                                             NaN   \n",
       "543903                                             NaN   \n",
       "506500                                             NaN   \n",
       "525118                                             NaN   \n",
       "618180                                             NaN   \n",
       "586923                                             NaN   \n",
       "629935                                             NaN   \n",
       "460279                                             NaN   \n",
       "597425                                             NaN   \n",
       "623230                                             NaN   \n",
       "453334                                             NaN   \n",
       "515170                                             NaN   \n",
       "617638                                             NaN   \n",
       "483944                                             NaN   \n",
       "395328                                             NaN   \n",
       "430802                                             NaN   \n",
       "61479                                              NaN   \n",
       "145568                                             NaN   \n",
       "398006                                             NaN   \n",
       "56529                                              NaN   \n",
       "347628                                             NaN   \n",
       "27515                                              NaN   \n",
       "31254                                              NaN   \n",
       "165021                                             NaN   \n",
       "\n",
       "        base_CircularApertureFlux_17_0_instFlux_calMagErr  \\\n",
       "313101                                           0.312969   \n",
       "318652                                           0.347673   \n",
       "343701                                           0.147619   \n",
       "346790                                           0.154464   \n",
       "204176                                           0.119865   \n",
       "210423                                           0.118296   \n",
       "199502                                           0.254763   \n",
       "189892                                           0.505227   \n",
       "117674                                           0.619169   \n",
       "136329                                           0.617256   \n",
       "138229                                           1.403474   \n",
       "59268                                            0.408681   \n",
       "55588                                            0.842012   \n",
       "198199                                           0.981294   \n",
       "69880                                            0.765761   \n",
       "71330                                            0.325594   \n",
       "72052                                            0.600232   \n",
       "6219                                             0.328626   \n",
       "12848                                            1.004681   \n",
       "352651                                           0.323418   \n",
       "359383                                           0.960076   \n",
       "22401                                            0.394392   \n",
       "24734                                            0.289557   \n",
       "34794                                                 NaN   \n",
       "246997                                           0.236178   \n",
       "280221                                           0.532829   \n",
       "287652                                           0.779026   \n",
       "240226                                           0.834072   \n",
       "337961                                           0.320607   \n",
       "338561                                           0.379056   \n",
       "...                                                   ...   \n",
       "201685                                           0.275357   \n",
       "467718                                           0.279572   \n",
       "416382                                           0.376421   \n",
       "584362                                           0.236248   \n",
       "570587                                           0.298344   \n",
       "546277                                           0.359483   \n",
       "389365                                           0.376897   \n",
       "543903                                           0.271505   \n",
       "506500                                           0.400467   \n",
       "525118                                           0.630927   \n",
       "618180                                           0.344732   \n",
       "586923                                           0.524220   \n",
       "629935                                           0.346217   \n",
       "460279                                           0.477415   \n",
       "597425                                           0.321492   \n",
       "623230                                           0.515506   \n",
       "453334                                           0.546068   \n",
       "515170                                           0.569643   \n",
       "617638                                           0.822456   \n",
       "483944                                           0.377980   \n",
       "395328                                           0.723956   \n",
       "430802                                           0.439930   \n",
       "61479                                            0.289354   \n",
       "145568                                           2.736681   \n",
       "398006                                           0.390408   \n",
       "56529                                            0.421606   \n",
       "347628                                           0.628396   \n",
       "27515                                            0.755647   \n",
       "31254                                            0.283431   \n",
       "165021                                           0.451440   \n",
       "\n",
       "        base_CircularApertureFlux_25_0_instFlux_nJy  \\\n",
       "313101                                  1192.274477   \n",
       "318652                                  1560.956076   \n",
       "343701                                  9434.821267   \n",
       "346790                                  5330.266704   \n",
       "204176                                  5733.567462   \n",
       "210423                                  4115.464775   \n",
       "199502                                  1874.288590   \n",
       "189892                                  7464.782048   \n",
       "117674                                  -659.402775   \n",
       "136329                                 -2709.214368   \n",
       "138229                                     3.272724   \n",
       "59268                                  -1396.267586   \n",
       "55588                                  -1161.374943   \n",
       "198199                                  1899.925802   \n",
       "69880                                  -3118.453738   \n",
       "71330                                  -7286.785748   \n",
       "72052                                   1244.264859   \n",
       "6219                                   -1409.500297   \n",
       "12848                                  -1524.850923   \n",
       "352651                                 -3126.864524   \n",
       "359383                                  -951.404173   \n",
       "22401                                  -2604.563883   \n",
       "24734                                  -6407.716169   \n",
       "34794                                           NaN   \n",
       "246997                                 -5422.739023   \n",
       "280221                                 -1338.021776   \n",
       "287652                                 -2163.672456   \n",
       "240226                                 -3687.805996   \n",
       "337961                                 -6105.419052   \n",
       "338561                                 -3350.376543   \n",
       "...                                             ...   \n",
       "201685                                 -9655.018583   \n",
       "467718                                -11057.572776   \n",
       "416382                                 -2908.134078   \n",
       "584362                                 -5924.068411   \n",
       "570587                                 -2899.582766   \n",
       "546277                                 -5320.950790   \n",
       "389365                                 -2835.800260   \n",
       "543903                                 -3871.008762   \n",
       "506500                                 -5451.395905   \n",
       "525118                                  -707.341493   \n",
       "618180                                 -3312.991190   \n",
       "586923                                 -3764.146446   \n",
       "629935                                 -4259.868834   \n",
       "460279                                  -782.814749   \n",
       "597425                                 -1233.496568   \n",
       "623230                                 -2168.807779   \n",
       "453334                                 -1894.322575   \n",
       "515170                                 -2150.096645   \n",
       "617638                                  -730.763024   \n",
       "483944                                 -3092.492753   \n",
       "395328                                  -380.286462   \n",
       "430802                                 -2546.486051   \n",
       "61479                                  -1015.450803   \n",
       "145568                                 -6876.690850   \n",
       "398006                                 -4124.499225   \n",
       "56529                                   -659.957392   \n",
       "347628                                 -1851.243021   \n",
       "27515                                    430.820147   \n",
       "31254                                  -4736.726196   \n",
       "165021                                   299.132384   \n",
       "\n",
       "        base_CircularApertureFlux_25_0_instFlux_nJyErr  \\\n",
       "313101                                      540.626800   \n",
       "318652                                      540.262193   \n",
       "343701                                     1737.234782   \n",
       "346790                                     1470.345113   \n",
       "204176                                      899.089970   \n",
       "210423                                      865.823445   \n",
       "199502                                      502.674624   \n",
       "189892                                     3386.301969   \n",
       "117674                                      924.811547   \n",
       "136329                                     2215.585037   \n",
       "138229                                     2219.743388   \n",
       "59268                                      1274.546084   \n",
       "55588                                      1498.185350   \n",
       "198199                                     2222.589227   \n",
       "69880                                      2503.025713   \n",
       "71330                                      2526.012925   \n",
       "72052                                      2409.240660   \n",
       "6219                                        838.306998   \n",
       "12848                                       868.569417   \n",
       "352651                                      886.166780   \n",
       "359383                                      868.880311   \n",
       "22401                                      1490.849455   \n",
       "24734                                      1490.260043   \n",
       "34794                                              NaN   \n",
       "246997                                     1439.636535   \n",
       "280221                                     1529.014277   \n",
       "287652                                     1498.133948   \n",
       "240226                                     1779.790110   \n",
       "337961                                     1567.861071   \n",
       "338561                                     1569.050125   \n",
       "...                                                ...   \n",
       "201685                                     2295.285695   \n",
       "467718                                     2327.613103   \n",
       "416382                                     1594.624370   \n",
       "584362                                     1637.565363   \n",
       "570587                                     1582.191082   \n",
       "546277                                     1709.747043   \n",
       "389365                                      993.141184   \n",
       "543903                                      857.678855   \n",
       "506500                                     1559.183503   \n",
       "525118                                     1636.340673   \n",
       "618180                                     1588.401028   \n",
       "586923                                     2254.373714   \n",
       "629935                                     2230.206760   \n",
       "460279                                     2230.501255   \n",
       "597425                                     1148.572959   \n",
       "623230                                     1465.807695   \n",
       "453334                                      851.251001   \n",
       "515170                                      840.849279   \n",
       "617638                                      833.640603   \n",
       "483944                                      824.304187   \n",
       "395328                                      862.505643   \n",
       "430802                                      883.061234   \n",
       "61479                                       909.624617   \n",
       "145568                                     2407.759626   \n",
       "398006                                     2174.087377   \n",
       "56529                                      1202.802913   \n",
       "347628                                      886.325956   \n",
       "27515                                      1484.856714   \n",
       "31254                                      1473.791901   \n",
       "165021                                     1542.657667   \n",
       "\n",
       "        base_CircularApertureFlux_25_0_instFlux_calMag  \\\n",
       "313101                                       23.709059   \n",
       "318652                                       23.416523   \n",
       "343701                                       21.463166   \n",
       "346790                                       22.083128   \n",
       "204176                                       22.003938   \n",
       "210423                                       22.363953   \n",
       "199502                                       23.217909   \n",
       "189892                                       21.717457   \n",
       "117674                                             NaN   \n",
       "136329                                             NaN   \n",
       "138229                                       30.112726   \n",
       "59268                                              NaN   \n",
       "55588                                              NaN   \n",
       "198199                                       23.203158   \n",
       "69880                                              NaN   \n",
       "71330                                              NaN   \n",
       "72052                                        23.662718   \n",
       "6219                                               NaN   \n",
       "12848                                              NaN   \n",
       "352651                                             NaN   \n",
       "359383                                             NaN   \n",
       "22401                                              NaN   \n",
       "24734                                              NaN   \n",
       "34794                                              NaN   \n",
       "246997                                             NaN   \n",
       "280221                                             NaN   \n",
       "287652                                             NaN   \n",
       "240226                                             NaN   \n",
       "337961                                             NaN   \n",
       "338561                                             NaN   \n",
       "...                                                ...   \n",
       "201685                                             NaN   \n",
       "467718                                             NaN   \n",
       "416382                                             NaN   \n",
       "584362                                             NaN   \n",
       "570587                                             NaN   \n",
       "546277                                             NaN   \n",
       "389365                                             NaN   \n",
       "543903                                             NaN   \n",
       "506500                                             NaN   \n",
       "525118                                             NaN   \n",
       "618180                                             NaN   \n",
       "586923                                             NaN   \n",
       "629935                                             NaN   \n",
       "460279                                             NaN   \n",
       "597425                                             NaN   \n",
       "623230                                             NaN   \n",
       "453334                                             NaN   \n",
       "515170                                             NaN   \n",
       "617638                                             NaN   \n",
       "483944                                             NaN   \n",
       "395328                                             NaN   \n",
       "430802                                             NaN   \n",
       "61479                                              NaN   \n",
       "145568                                             NaN   \n",
       "398006                                             NaN   \n",
       "56529                                              NaN   \n",
       "347628                                             NaN   \n",
       "27515                                        24.814260   \n",
       "31254                                              NaN   \n",
       "165021                                       25.210341   \n",
       "\n",
       "        base_CircularApertureFlux_25_0_instFlux_calMagErr           mjd  \n",
       "313101                                           0.492318  59791.353708  \n",
       "318652                                           0.375784  59791.360480  \n",
       "343701                                           0.199917  59810.381776  \n",
       "346790                                           0.299499  59813.399230  \n",
       "204176                                           0.170256  59821.276024  \n",
       "210423                                           0.228420  59821.320604  \n",
       "199502                                           0.291189  59823.345649  \n",
       "189892                                           0.492530  59836.337963  \n",
       "117674                                           1.522744  59877.126785  \n",
       "136329                                           0.887911  59887.175849  \n",
       "138229                                         736.406573  59887.187987  \n",
       "59268                                            0.991086  59926.165487  \n",
       "55588                                            1.400611  59935.115796  \n",
       "198199                                           1.270126  59944.150860  \n",
       "69880                                            0.871466  59946.188281  \n",
       "71330                                            0.376378  59946.212522  \n",
       "72052                                            2.102285  59946.236665  \n",
       "6219                                             0.645747  59965.098487  \n",
       "12848                                            0.618446  59965.121705  \n",
       "352651                                           0.307702  60175.315904  \n",
       "359383                                           0.991561  60175.336555  \n",
       "22401                                            0.621474  60179.352792  \n",
       "24734                                            0.252513  60179.353241  \n",
       "34794                                                 NaN  60179.365495  \n",
       "246997                                           0.288243  60179.400216  \n",
       "280221                                           1.240717  60180.329679  \n",
       "287652                                           0.751767  60180.345197  \n",
       "240226                                           0.523992  60193.339494  \n",
       "337961                                           0.278815  60207.235483  \n",
       "338561                                           0.508473  60207.235930  \n",
       "...                                                   ...           ...  \n",
       "201685                                           0.258112  60309.224492  \n",
       "467718                                           0.228547  60330.110857  \n",
       "416382                                           0.595344  60528.351278  \n",
       "584362                                           0.300126  60534.317112  \n",
       "570587                                           0.592445  60534.339292  \n",
       "546277                                           0.348873  60549.273034  \n",
       "389365                                           0.380242  60578.358546  \n",
       "543903                                           0.240561  60584.219011  \n",
       "506500                                           0.310537  60587.198568  \n",
       "525118                                           2.511707  60591.167170  \n",
       "618180                                           0.520552  60591.185394  \n",
       "586923                                           0.650255  60597.220265  \n",
       "629935                                           0.568425  60597.232470  \n",
       "460279                                           3.093626  60597.232919  \n",
       "597425                                           1.010986  60605.181221  \n",
       "623230                                           0.733804  60605.296562  \n",
       "453334                                           0.487897  60635.101358  \n",
       "515170                                           0.424604  60635.114953  \n",
       "617638                                           1.238587  60647.094585  \n",
       "483944                                           0.289403  60647.108331  \n",
       "395328                                           2.462495  60648.078024  \n",
       "430802                                           0.376508  60648.099838  \n",
       "61479                                            0.972585  59877.138163  \n",
       "145568                                           0.380153  60278.254784  \n",
       "398006                                           0.572308  60604.319315  \n",
       "56529                                            1.978805  59926.150450  \n",
       "347628                                           0.519822  60175.315458  \n",
       "27515                                            3.742078  60179.353690  \n",
       "31254                                            0.337818  60179.364116  \n",
       "165021                                           5.599258  60201.260069  \n",
       "\n",
       "[66 rows x 292 columns]"
      ]
     },
     "execution_count": 71,
     "metadata": {},
     "output_type": "execute_result"
    }
   ],
   "source": [
    "adialc"
   ]
  },
  {
   "cell_type": "code",
   "execution_count": 72,
   "metadata": {},
   "outputs": [],
   "source": [
    "def plot_dia_multifilterLC(lc, ax):\n",
    "    for aflt, group in lc.groupby('filter'):\n",
    "        ax.errorbar(group.mjd, group.base_PsfFlux_instFlux_calMag, \n",
    "                    group.base_PsfFlux_instFlux_calMagErr, fmt='x',\n",
    "                    color=bandpass_colors[aflt], lw=1.5,\n",
    "                    label='DIA '+aflt)\n",
    "    return ax"
   ]
  },
  {
   "cell_type": "code",
   "execution_count": 73,
   "metadata": {},
   "outputs": [
    {
     "data": {
      "text/plain": [
       "Text(0.5, 0, 'MJD')"
      ]
     },
     "execution_count": 73,
     "metadata": {},
     "output_type": "execute_result"
    },
    {
     "data": {
      "image/png": "[encoded data removed]",
      "text/plain": [
       "<Figure size 432x288 with 1 Axes>"
      ]
     },
     "metadata": {
      "needs_background": "light"
     },
     "output_type": "display_data"
    }
   ],
   "source": [
    "fig, ax = plt.subplots(1, 1)\n",
    "#ax.title('Truth LC SN={} @z={}'.format(asn.snid_in, asn.z_in))\n",
    "plot_dia_multifilterLC(adialc, ax)\n",
    "#ax.vlines(asn.t0_in, ymin=adialc.mag.min(), ymax=25., linestyles='--', label='t0')\n",
    "ax.invert_yaxis()\n",
    "ax.legend()\n",
    "ax.grid()\n",
    "ax.set_xlabel('MJD')"
   ]
  },
  {
   "cell_type": "code",
   "execution_count": 74,
   "metadata": {},
   "outputs": [
    {
     "data": {
      "text/plain": [
       "Text(0, 0.5, 'mag')"
      ]
     },
     "execution_count": 74,
     "metadata": {},
     "output_type": "execute_result"
    },
    {
     "data": {
      "image/png": "[encoded data removed]",
      "text/plain": [
       "<Figure size 864x432 with 1 Axes>"
      ]
     },
     "metadata": {
      "needs_background": "light"
     },
     "output_type": "display_data"
    }
   ],
   "source": [
    "fig, ax = plt.subplots(1, 1, figsize=(12, 6))\n",
    "#ax.title('Truth LC SN={} @z={}'.format(asn.snid_in, asn.z_in))\n",
    "plot_multifilterLC(asn_lc, ax)\n",
    "plot_dia_multifilterLC(adialc, ax)\n",
    "ax.vlines(asn.t0_in, ymin=asn_lc.mag.min(), ymax=24., linestyles='--', label='t0')\n",
    "ax.invert_yaxis()\n",
    "ax.legend(loc='best')\n",
    "ax.grid()\n",
    "ax.set_xlabel('MJD')\n",
    "ax.set_ylabel('mag')"
   ]
  },
  {
   "cell_type": "markdown",
   "metadata": {},
   "source": [
    "### For more lightcurves"
   ]
  },
  {
   "cell_type": "code",
   "execution_count": 75,
   "metadata": {},
   "outputs": [],
   "source": [
    "asn = sntab[sntab.matched].iloc[1]\n",
    "asn_lc = snlcs[snlcs['SN_id'] == asn.snid_in]\n",
    "#adiao = diaO[diaO['sn_id'] == asn.galaxy_id]\n",
    "adiao = diaO[diaO['id'] == asn.dia_id]\n",
    "adialc = lcs[lcs['diaObjectId']==adiao['id'].values[0]]"
   ]
  },
  {
   "cell_type": "code",
   "execution_count": 76,
   "metadata": {},
   "outputs": [
    {
     "data": {
      "text/plain": [
       "Text(0, 0.5, 'mag')"
      ]
     },
     "execution_count": 76,
     "metadata": {},
     "output_type": "execute_result"
    },
    {
     "data": {
      "image/png": "[encoded data removed]",
      "text/plain": [
       "<Figure size 864x432 with 1 Axes>"
      ]
     },
     "metadata": {
      "needs_background": "light"
     },
     "output_type": "display_data"
    }
   ],
   "source": [
    "fig, ax = plt.subplots(1, 1, figsize=(12, 6))\n",
    "#ax.title('Truth LC SN={} @z={}'.format(asn.snid_in, asn.z_in))\n",
    "plot_multifilterLC(asn_lc, ax)\n",
    "plot_dia_multifilterLC(adialc, ax)\n",
    "ax.vlines(asn.t0_in, ymin=asn_lc.mag.min(), ymax=24., linestyles='--', label='t0')\n",
    "ax.invert_yaxis()\n",
    "ax.legend(loc='best')\n",
    "ax.grid()\n",
    "ax.set_xlabel('MJD')\n",
    "ax.set_ylabel('mag')"
   ]
  },
  {
   "cell_type": "code",
   "execution_count": 84,
   "metadata": {
    "collapsed": true,
    "jupyter": {
     "outputs_hidden": true
    }
   },
   "outputs": [
    {
     "data": {
      "text/plain": [
       "<Figure size 864x432 with 0 Axes>"
      ]
     },
     "metadata": {},
     "output_type": "display_data"
    },
    {
     "data": {
      "text/plain": [
       "<Figure size 864x432 with 0 Axes>"
      ]
     },
     "metadata": {},
     "output_type": "display_data"
    },
    {
     "data": {
      "text/plain": [
       "<Figure size 864x432 with 0 Axes>"
      ]
     },
     "metadata": {},
     "output_type": "display_data"
    },
    {
     "data": {
      "text/plain": [
       "<Figure size 864x432 with 0 Axes>"
      ]
     },
     "metadata": {},
     "output_type": "display_data"
    },
    {
     "data": {
      "text/plain": [
       "<Figure size 864x432 with 0 Axes>"
      ]
     },
     "metadata": {},
     "output_type": "display_data"
    },
    {
     "data": {
      "text/plain": [
       "<Figure size 864x432 with 0 Axes>"
      ]
     },
     "metadata": {},
     "output_type": "display_data"
    },
    {
     "data": {
      "text/plain": [
       "<Figure size 864x432 with 0 Axes>"
      ]
     },
     "metadata": {},
     "output_type": "display_data"
    },
    {
     "data": {
      "text/plain": [
       "<Figure size 864x432 with 0 Axes>"
      ]
     },
     "metadata": {},
     "output_type": "display_data"
    },
    {
     "data": {
      "text/plain": [
       "<Figure size 864x432 with 0 Axes>"
      ]
     },
     "metadata": {},
     "output_type": "display_data"
    },
    {
     "data": {
      "text/plain": [
       "<Figure size 864x432 with 0 Axes>"
      ]
     },
     "metadata": {},
     "output_type": "display_data"
    },
    {
     "data": {
      "text/plain": [
       "<Figure size 864x432 with 0 Axes>"
      ]
     },
     "metadata": {},
     "output_type": "display_data"
    },
    {
     "data": {
      "text/plain": [
       "<Figure size 864x432 with 0 Axes>"
      ]
     },
     "metadata": {},
     "output_type": "display_data"
    },
    {
     "data": {
      "text/plain": [
       "<Figure size 864x432 with 0 Axes>"
      ]
     },
     "metadata": {},
     "output_type": "display_data"
    },
    {
     "data": {
      "text/plain": [
       "<Figure size 864x432 with 0 Axes>"
      ]
     },
     "metadata": {},
     "output_type": "display_data"
    },
    {
     "data": {
      "text/plain": [
       "<Figure size 864x432 with 0 Axes>"
      ]
     },
     "metadata": {},
     "output_type": "display_data"
    },
    {
     "data": {
      "text/plain": [
       "<Figure size 864x432 with 0 Axes>"
      ]
     },
     "metadata": {},
     "output_type": "display_data"
    },
    {
     "data": {
      "text/plain": [
       "<Figure size 864x432 with 0 Axes>"
      ]
     },
     "metadata": {},
     "output_type": "display_data"
    },
    {
     "data": {
      "text/plain": [
       "<Figure size 864x432 with 0 Axes>"
      ]
     },
     "metadata": {},
     "output_type": "display_data"
    },
    {
     "data": {
      "text/plain": [
       "<Figure size 864x432 with 0 Axes>"
      ]
     },
     "metadata": {},
     "output_type": "display_data"
    },
    {
     "data": {
      "text/plain": [
       "<Figure size 864x432 with 0 Axes>"
      ]
     },
     "metadata": {},
     "output_type": "display_data"
    },
    {
     "data": {
      "text/plain": [
       "<Figure size 864x432 with 0 Axes>"
      ]
     },
     "metadata": {},
     "output_type": "display_data"
    },
    {
     "data": {
      "text/plain": [
       "<Figure size 864x432 with 0 Axes>"
      ]
     },
     "metadata": {},
     "output_type": "display_data"
    },
    {
     "data": {
      "text/plain": [
       "<Figure size 864x432 with 0 Axes>"
      ]
     },
     "metadata": {},
     "output_type": "display_data"
    },
    {
     "data": {
      "text/plain": [
       "<Figure size 864x432 with 0 Axes>"
      ]
     },
     "metadata": {},
     "output_type": "display_data"
    },
    {
     "data": {
      "text/plain": [
       "<Figure size 864x432 with 0 Axes>"
      ]
     },
     "metadata": {},
     "output_type": "display_data"
    },
    {
     "data": {
      "text/plain": [
       "<Figure size 864x432 with 0 Axes>"
      ]
     },
     "metadata": {},
     "output_type": "display_data"
    },
    {
     "data": {
      "text/plain": [
       "<Figure size 864x432 with 0 Axes>"
      ]
     },
     "metadata": {},
     "output_type": "display_data"
    },
    {
     "data": {
      "text/plain": [
       "<Figure size 864x432 with 0 Axes>"
      ]
     },
     "metadata": {},
     "output_type": "display_data"
    },
    {
     "data": {
      "text/plain": [
       "<Figure size 864x432 with 0 Axes>"
      ]
     },
     "metadata": {},
     "output_type": "display_data"
    },
    {
     "data": {
      "text/plain": [
       "<Figure size 864x432 with 0 Axes>"
      ]
     },
     "metadata": {},
     "output_type": "display_data"
    },
    {
     "data": {
      "text/plain": [
       "<Figure size 864x432 with 0 Axes>"
      ]
     },
     "metadata": {},
     "output_type": "display_data"
    },
    {
     "data": {
      "text/plain": [
       "<Figure size 864x432 with 0 Axes>"
      ]
     },
     "metadata": {},
     "output_type": "display_data"
    },
    {
     "data": {
      "text/plain": [
       "<Figure size 864x432 with 0 Axes>"
      ]
     },
     "metadata": {},
     "output_type": "display_data"
    },
    {
     "data": {
      "text/plain": [
       "<Figure size 864x432 with 0 Axes>"
      ]
     },
     "metadata": {},
     "output_type": "display_data"
    },
    {
     "data": {
      "text/plain": [
       "<Figure size 864x432 with 0 Axes>"
      ]
     },
     "metadata": {},
     "output_type": "display_data"
    },
    {
     "data": {
      "text/plain": [
       "<Figure size 864x432 with 0 Axes>"
      ]
     },
     "metadata": {},
     "output_type": "display_data"
    },
    {
     "data": {
      "text/plain": [
       "<Figure size 864x432 with 0 Axes>"
      ]
     },
     "metadata": {},
     "output_type": "display_data"
    },
    {
     "data": {
      "text/plain": [
       "<Figure size 864x432 with 0 Axes>"
      ]
     },
     "metadata": {},
     "output_type": "display_data"
    },
    {
     "data": {
      "text/plain": [
       "<Figure size 864x432 with 0 Axes>"
      ]
     },
     "metadata": {},
     "output_type": "display_data"
    },
    {
     "data": {
      "text/plain": [
       "<Figure size 864x432 with 0 Axes>"
      ]
     },
     "metadata": {},
     "output_type": "display_data"
    },
    {
     "data": {
      "text/plain": [
       "<Figure size 864x432 with 0 Axes>"
      ]
     },
     "metadata": {},
     "output_type": "display_data"
    },
    {
     "data": {
      "text/plain": [
       "<Figure size 864x432 with 0 Axes>"
      ]
     },
     "metadata": {},
     "output_type": "display_data"
    },
    {
     "data": {
      "text/plain": [
       "<Figure size 864x432 with 0 Axes>"
      ]
     },
     "metadata": {},
     "output_type": "display_data"
    },
    {
     "data": {
      "text/plain": [
       "<Figure size 864x432 with 0 Axes>"
      ]
     },
     "metadata": {},
     "output_type": "display_data"
    },
    {
     "data": {
      "text/plain": [
       "<Figure size 864x432 with 0 Axes>"
      ]
     },
     "metadata": {},
     "output_type": "display_data"
    },
    {
     "data": {
      "text/plain": [
       "<Figure size 864x432 with 0 Axes>"
      ]
     },
     "metadata": {},
     "output_type": "display_data"
    },
    {
     "data": {
      "text/plain": [
       "<Figure size 864x432 with 0 Axes>"
      ]
     },
     "metadata": {},
     "output_type": "display_data"
    },
    {
     "data": {
      "text/plain": [
       "<Figure size 864x432 with 0 Axes>"
      ]
     },
     "metadata": {},
     "output_type": "display_data"
    },
    {
     "data": {
      "text/plain": [
       "<Figure size 864x432 with 0 Axes>"
      ]
     },
     "metadata": {},
     "output_type": "display_data"
    },
    {
     "data": {
      "text/plain": [
       "<Figure size 864x432 with 0 Axes>"
      ]
     },
     "metadata": {},
     "output_type": "display_data"
    },
    {
     "data": {
      "text/plain": [
       "<Figure size 864x432 with 0 Axes>"
      ]
     },
     "metadata": {},
     "output_type": "display_data"
    },
    {
     "data": {
      "text/plain": [
       "<Figure size 864x432 with 0 Axes>"
      ]
     },
     "metadata": {},
     "output_type": "display_data"
    },
    {
     "data": {
      "text/plain": [
       "<Figure size 864x432 with 0 Axes>"
      ]
     },
     "metadata": {},
     "output_type": "display_data"
    },
    {
     "data": {
      "text/plain": [
       "<Figure size 864x432 with 0 Axes>"
      ]
     },
     "metadata": {},
     "output_type": "display_data"
    },
    {
     "data": {
      "text/plain": [
       "<Figure size 864x432 with 0 Axes>"
      ]
     },
     "metadata": {},
     "output_type": "display_data"
    },
    {
     "data": {
      "text/plain": [
       "<Figure size 864x432 with 0 Axes>"
      ]
     },
     "metadata": {},
     "output_type": "display_data"
    },
    {
     "data": {
      "text/plain": [
       "<Figure size 864x432 with 0 Axes>"
      ]
     },
     "metadata": {},
     "output_type": "display_data"
    },
    {
     "data": {
      "text/plain": [
       "<Figure size 864x432 with 0 Axes>"
      ]
     },
     "metadata": {},
     "output_type": "display_data"
    },
    {
     "data": {
      "text/plain": [
       "<Figure size 864x432 with 0 Axes>"
      ]
     },
     "metadata": {},
     "output_type": "display_data"
    },
    {
     "data": {
      "text/plain": [
       "<Figure size 864x432 with 0 Axes>"
      ]
     },
     "metadata": {},
     "output_type": "display_data"
    },
    {
     "data": {
      "text/plain": [
       "<Figure size 864x432 with 0 Axes>"
      ]
     },
     "metadata": {},
     "output_type": "display_data"
    },
    {
     "data": {
      "text/plain": [
       "<Figure size 864x432 with 0 Axes>"
      ]
     },
     "metadata": {},
     "output_type": "display_data"
    },
    {
     "data": {
      "text/plain": [
       "<Figure size 864x432 with 0 Axes>"
      ]
     },
     "metadata": {},
     "output_type": "display_data"
    },
    {
     "data": {
      "text/plain": [
       "<Figure size 864x432 with 0 Axes>"
      ]
     },
     "metadata": {},
     "output_type": "display_data"
    },
    {
     "data": {
      "text/plain": [
       "<Figure size 864x432 with 0 Axes>"
      ]
     },
     "metadata": {},
     "output_type": "display_data"
    },
    {
     "data": {
      "text/plain": [
       "<Figure size 864x432 with 0 Axes>"
      ]
     },
     "metadata": {},
     "output_type": "display_data"
    },
    {
     "data": {
      "text/plain": [
       "<Figure size 864x432 with 0 Axes>"
      ]
     },
     "metadata": {},
     "output_type": "display_data"
    },
    {
     "data": {
      "text/plain": [
       "<Figure size 864x432 with 0 Axes>"
      ]
     },
     "metadata": {},
     "output_type": "display_data"
    },
    {
     "data": {
      "text/plain": [
       "<Figure size 864x432 with 0 Axes>"
      ]
     },
     "metadata": {},
     "output_type": "display_data"
    },
    {
     "data": {
      "text/plain": [
       "<Figure size 864x432 with 0 Axes>"
      ]
     },
     "metadata": {},
     "output_type": "display_data"
    },
    {
     "data": {
      "text/plain": [
       "<Figure size 864x432 with 0 Axes>"
      ]
     },
     "metadata": {},
     "output_type": "display_data"
    },
    {
     "data": {
      "text/plain": [
       "<Figure size 864x432 with 0 Axes>"
      ]
     },
     "metadata": {},
     "output_type": "display_data"
    },
    {
     "data": {
      "text/plain": [
       "<Figure size 864x432 with 0 Axes>"
      ]
     },
     "metadata": {},
     "output_type": "display_data"
    },
    {
     "data": {
      "text/plain": [
       "<Figure size 864x432 with 0 Axes>"
      ]
     },
     "metadata": {},
     "output_type": "display_data"
    },
    {
     "data": {
      "text/plain": [
       "<Figure size 864x432 with 0 Axes>"
      ]
     },
     "metadata": {},
     "output_type": "display_data"
    },
    {
     "data": {
      "text/plain": [
       "<Figure size 864x432 with 0 Axes>"
      ]
     },
     "metadata": {},
     "output_type": "display_data"
    },
    {
     "data": {
      "text/plain": [
       "<Figure size 864x432 with 0 Axes>"
      ]
     },
     "metadata": {},
     "output_type": "display_data"
    },
    {
     "data": {
      "text/plain": [
       "<Figure size 864x432 with 0 Axes>"
      ]
     },
     "metadata": {},
     "output_type": "display_data"
    },
    {
     "data": {
      "text/plain": [
       "<Figure size 864x432 with 0 Axes>"
      ]
     },
     "metadata": {},
     "output_type": "display_data"
    },
    {
     "data": {
      "text/plain": [
       "<Figure size 864x432 with 0 Axes>"
      ]
     },
     "metadata": {},
     "output_type": "display_data"
    },
    {
     "data": {
      "text/plain": [
       "<Figure size 864x432 with 0 Axes>"
      ]
     },
     "metadata": {},
     "output_type": "display_data"
    },
    {
     "data": {
      "text/plain": [
       "<Figure size 864x432 with 0 Axes>"
      ]
     },
     "metadata": {},
     "output_type": "display_data"
    },
    {
     "data": {
      "text/plain": [
       "<Figure size 864x432 with 0 Axes>"
      ]
     },
     "metadata": {},
     "output_type": "display_data"
    },
    {
     "data": {
      "text/plain": [
       "<Figure size 864x432 with 0 Axes>"
      ]
     },
     "metadata": {},
     "output_type": "display_data"
    },
    {
     "data": {
      "text/plain": [
       "<Figure size 864x432 with 0 Axes>"
      ]
     },
     "metadata": {},
     "output_type": "display_data"
    },
    {
     "data": {
      "text/plain": [
       "<Figure size 864x432 with 0 Axes>"
      ]
     },
     "metadata": {},
     "output_type": "display_data"
    },
    {
     "data": {
      "text/plain": [
       "<Figure size 864x432 with 0 Axes>"
      ]
     },
     "metadata": {},
     "output_type": "display_data"
    },
    {
     "data": {
      "text/plain": [
       "<Figure size 864x432 with 0 Axes>"
      ]
     },
     "metadata": {},
     "output_type": "display_data"
    },
    {
     "data": {
      "text/plain": [
       "<Figure size 864x432 with 0 Axes>"
      ]
     },
     "metadata": {},
     "output_type": "display_data"
    },
    {
     "data": {
      "text/plain": [
       "<Figure size 864x432 with 0 Axes>"
      ]
     },
     "metadata": {},
     "output_type": "display_data"
    },
    {
     "data": {
      "text/plain": [
       "<Figure size 864x432 with 0 Axes>"
      ]
     },
     "metadata": {},
     "output_type": "display_data"
    },
    {
     "data": {
      "text/plain": [
       "<Figure size 864x432 with 0 Axes>"
      ]
     },
     "metadata": {},
     "output_type": "display_data"
    },
    {
     "data": {
      "text/plain": [
       "<Figure size 864x432 with 0 Axes>"
      ]
     },
     "metadata": {},
     "output_type": "display_data"
    },
    {
     "data": {
      "text/plain": [
       "<Figure size 864x432 with 0 Axes>"
      ]
     },
     "metadata": {},
     "output_type": "display_data"
    },
    {
     "data": {
      "text/plain": [
       "<Figure size 864x432 with 0 Axes>"
      ]
     },
     "metadata": {},
     "output_type": "display_data"
    },
    {
     "data": {
      "text/plain": [
       "<Figure size 864x432 with 0 Axes>"
      ]
     },
     "metadata": {},
     "output_type": "display_data"
    },
    {
     "data": {
      "text/plain": [
       "<Figure size 864x432 with 0 Axes>"
      ]
     },
     "metadata": {},
     "output_type": "display_data"
    },
    {
     "data": {
      "text/plain": [
       "<Figure size 864x432 with 0 Axes>"
      ]
     },
     "metadata": {},
     "output_type": "display_data"
    },
    {
     "data": {
      "text/plain": [
       "<Figure size 864x432 with 0 Axes>"
      ]
     },
     "metadata": {},
     "output_type": "display_data"
    },
    {
     "data": {
      "text/plain": [
       "<Figure size 864x432 with 0 Axes>"
      ]
     },
     "metadata": {},
     "output_type": "display_data"
    },
    {
     "data": {
      "text/plain": [
       "<Figure size 864x432 with 0 Axes>"
      ]
     },
     "metadata": {},
     "output_type": "display_data"
    },
    {
     "data": {
      "text/plain": [
       "<Figure size 864x432 with 0 Axes>"
      ]
     },
     "metadata": {},
     "output_type": "display_data"
    },
    {
     "data": {
      "text/plain": [
       "<Figure size 864x432 with 0 Axes>"
      ]
     },
     "metadata": {},
     "output_type": "display_data"
    },
    {
     "data": {
      "text/plain": [
       "<Figure size 864x432 with 0 Axes>"
      ]
     },
     "metadata": {},
     "output_type": "display_data"
    },
    {
     "data": {
      "text/plain": [
       "<Figure size 864x432 with 0 Axes>"
      ]
     },
     "metadata": {},
     "output_type": "display_data"
    },
    {
     "data": {
      "text/plain": [
       "<Figure size 864x432 with 0 Axes>"
      ]
     },
     "metadata": {},
     "output_type": "display_data"
    },
    {
     "data": {
      "text/plain": [
       "<Figure size 864x432 with 0 Axes>"
      ]
     },
     "metadata": {},
     "output_type": "display_data"
    },
    {
     "data": {
      "text/plain": [
       "<Figure size 864x432 with 0 Axes>"
      ]
     },
     "metadata": {},
     "output_type": "display_data"
    },
    {
     "data": {
      "text/plain": [
       "<Figure size 864x432 with 0 Axes>"
      ]
     },
     "metadata": {},
     "output_type": "display_data"
    },
    {
     "data": {
      "text/plain": [
       "<Figure size 864x432 with 0 Axes>"
      ]
     },
     "metadata": {},
     "output_type": "display_data"
    },
    {
     "data": {
      "text/plain": [
       "<Figure size 864x432 with 0 Axes>"
      ]
     },
     "metadata": {},
     "output_type": "display_data"
    },
    {
     "data": {
      "text/plain": [
       "<Figure size 864x432 with 0 Axes>"
      ]
     },
     "metadata": {},
     "output_type": "display_data"
    },
    {
     "data": {
      "text/plain": [
       "<Figure size 864x432 with 0 Axes>"
      ]
     },
     "metadata": {},
     "output_type": "display_data"
    },
    {
     "data": {
      "text/plain": [
       "<Figure size 864x432 with 0 Axes>"
      ]
     },
     "metadata": {},
     "output_type": "display_data"
    },
    {
     "data": {
      "text/plain": [
       "<Figure size 864x432 with 0 Axes>"
      ]
     },
     "metadata": {},
     "output_type": "display_data"
    },
    {
     "data": {
      "text/plain": [
       "<Figure size 864x432 with 0 Axes>"
      ]
     },
     "metadata": {},
     "output_type": "display_data"
    },
    {
     "data": {
      "text/plain": [
       "<Figure size 864x432 with 0 Axes>"
      ]
     },
     "metadata": {},
     "output_type": "display_data"
    },
    {
     "data": {
      "text/plain": [
       "<Figure size 864x432 with 0 Axes>"
      ]
     },
     "metadata": {},
     "output_type": "display_data"
    },
    {
     "data": {
      "text/plain": [
       "<Figure size 864x432 with 0 Axes>"
      ]
     },
     "metadata": {},
     "output_type": "display_data"
    },
    {
     "data": {
      "text/plain": [
       "<Figure size 864x432 with 0 Axes>"
      ]
     },
     "metadata": {},
     "output_type": "display_data"
    },
    {
     "data": {
      "text/plain": [
       "<Figure size 864x432 with 0 Axes>"
      ]
     },
     "metadata": {},
     "output_type": "display_data"
    },
    {
     "data": {
      "text/plain": [
       "<Figure size 864x432 with 0 Axes>"
      ]
     },
     "metadata": {},
     "output_type": "display_data"
    },
    {
     "data": {
      "text/plain": [
       "<Figure size 864x432 with 0 Axes>"
      ]
     },
     "metadata": {},
     "output_type": "display_data"
    },
    {
     "data": {
      "text/plain": [
       "<Figure size 864x432 with 0 Axes>"
      ]
     },
     "metadata": {},
     "output_type": "display_data"
    },
    {
     "data": {
      "text/plain": [
       "<Figure size 864x432 with 0 Axes>"
      ]
     },
     "metadata": {},
     "output_type": "display_data"
    },
    {
     "data": {
      "text/plain": [
       "<Figure size 864x432 with 0 Axes>"
      ]
     },
     "metadata": {},
     "output_type": "display_data"
    },
    {
     "data": {
      "text/plain": [
       "<Figure size 864x432 with 0 Axes>"
      ]
     },
     "metadata": {},
     "output_type": "display_data"
    },
    {
     "data": {
      "text/plain": [
       "<Figure size 864x432 with 0 Axes>"
      ]
     },
     "metadata": {},
     "output_type": "display_data"
    },
    {
     "data": {
      "text/plain": [
       "<Figure size 864x432 with 0 Axes>"
      ]
     },
     "metadata": {},
     "output_type": "display_data"
    },
    {
     "data": {
      "text/plain": [
       "<Figure size 864x432 with 0 Axes>"
      ]
     },
     "metadata": {},
     "output_type": "display_data"
    },
    {
     "data": {
      "text/plain": [
       "<Figure size 864x432 with 0 Axes>"
      ]
     },
     "metadata": {},
     "output_type": "display_data"
    },
    {
     "data": {
      "text/plain": [
       "<Figure size 864x432 with 0 Axes>"
      ]
     },
     "metadata": {},
     "output_type": "display_data"
    },
    {
     "data": {
      "text/plain": [
       "<Figure size 864x432 with 0 Axes>"
      ]
     },
     "metadata": {},
     "output_type": "display_data"
    },
    {
     "data": {
      "text/plain": [
       "<Figure size 864x432 with 0 Axes>"
      ]
     },
     "metadata": {},
     "output_type": "display_data"
    },
    {
     "data": {
      "text/plain": [
       "<Figure size 864x432 with 0 Axes>"
      ]
     },
     "metadata": {},
     "output_type": "display_data"
    },
    {
     "data": {
      "text/plain": [
       "<Figure size 864x432 with 0 Axes>"
      ]
     },
     "metadata": {},
     "output_type": "display_data"
    },
    {
     "data": {
      "text/plain": [
       "<Figure size 864x432 with 0 Axes>"
      ]
     },
     "metadata": {},
     "output_type": "display_data"
    },
    {
     "data": {
      "text/plain": [
       "<Figure size 864x432 with 0 Axes>"
      ]
     },
     "metadata": {},
     "output_type": "display_data"
    },
    {
     "data": {
      "text/plain": [
       "<Figure size 864x432 with 0 Axes>"
      ]
     },
     "metadata": {},
     "output_type": "display_data"
    },
    {
     "data": {
      "text/plain": [
       "<Figure size 864x432 with 0 Axes>"
      ]
     },
     "metadata": {},
     "output_type": "display_data"
    },
    {
     "data": {
      "text/plain": [
       "<Figure size 864x432 with 0 Axes>"
      ]
     },
     "metadata": {},
     "output_type": "display_data"
    },
    {
     "data": {
      "text/plain": [
       "<Figure size 864x432 with 0 Axes>"
      ]
     },
     "metadata": {},
     "output_type": "display_data"
    },
    {
     "data": {
      "text/plain": [
       "<Figure size 864x432 with 0 Axes>"
      ]
     },
     "metadata": {},
     "output_type": "display_data"
    },
    {
     "data": {
      "text/plain": [
       "<Figure size 864x432 with 0 Axes>"
      ]
     },
     "metadata": {},
     "output_type": "display_data"
    },
    {
     "data": {
      "text/plain": [
       "<Figure size 864x432 with 0 Axes>"
      ]
     },
     "metadata": {},
     "output_type": "display_data"
    },
    {
     "data": {
      "text/plain": [
       "<Figure size 864x432 with 0 Axes>"
      ]
     },
     "metadata": {},
     "output_type": "display_data"
    },
    {
     "data": {
      "text/plain": [
       "<Figure size 864x432 with 0 Axes>"
      ]
     },
     "metadata": {},
     "output_type": "display_data"
    },
    {
     "data": {
      "text/plain": [
       "<Figure size 864x432 with 0 Axes>"
      ]
     },
     "metadata": {},
     "output_type": "display_data"
    },
    {
     "data": {
      "text/plain": [
       "<Figure size 864x432 with 0 Axes>"
      ]
     },
     "metadata": {},
     "output_type": "display_data"
    },
    {
     "data": {
      "text/plain": [
       "<Figure size 864x432 with 0 Axes>"
      ]
     },
     "metadata": {},
     "output_type": "display_data"
    },
    {
     "data": {
      "text/plain": [
       "<Figure size 864x432 with 0 Axes>"
      ]
     },
     "metadata": {},
     "output_type": "display_data"
    },
    {
     "data": {
      "text/plain": [
       "<Figure size 864x432 with 0 Axes>"
      ]
     },
     "metadata": {},
     "output_type": "display_data"
    },
    {
     "data": {
      "text/plain": [
       "<Figure size 864x432 with 0 Axes>"
      ]
     },
     "metadata": {},
     "output_type": "display_data"
    },
    {
     "data": {
      "text/plain": [
       "<Figure size 864x432 with 0 Axes>"
      ]
     },
     "metadata": {},
     "output_type": "display_data"
    },
    {
     "data": {
      "text/plain": [
       "<Figure size 864x432 with 0 Axes>"
      ]
     },
     "metadata": {},
     "output_type": "display_data"
    },
    {
     "data": {
      "text/plain": [
       "<Figure size 864x432 with 0 Axes>"
      ]
     },
     "metadata": {},
     "output_type": "display_data"
    },
    {
     "data": {
      "text/plain": [
       "<Figure size 864x432 with 0 Axes>"
      ]
     },
     "metadata": {},
     "output_type": "display_data"
    },
    {
     "data": {
      "text/plain": [
       "<Figure size 864x432 with 0 Axes>"
      ]
     },
     "metadata": {},
     "output_type": "display_data"
    },
    {
     "data": {
      "text/plain": [
       "<Figure size 864x432 with 0 Axes>"
      ]
     },
     "metadata": {},
     "output_type": "display_data"
    },
    {
     "data": {
      "text/plain": [
       "<Figure size 864x432 with 0 Axes>"
      ]
     },
     "metadata": {},
     "output_type": "display_data"
    },
    {
     "data": {
      "text/plain": [
       "<Figure size 864x432 with 0 Axes>"
      ]
     },
     "metadata": {},
     "output_type": "display_data"
    },
    {
     "data": {
      "text/plain": [
       "<Figure size 864x432 with 0 Axes>"
      ]
     },
     "metadata": {},
     "output_type": "display_data"
    },
    {
     "data": {
      "text/plain": [
       "<Figure size 864x432 with 0 Axes>"
      ]
     },
     "metadata": {},
     "output_type": "display_data"
    },
    {
     "data": {
      "text/plain": [
       "<Figure size 864x432 with 0 Axes>"
      ]
     },
     "metadata": {},
     "output_type": "display_data"
    },
    {
     "data": {
      "text/plain": [
       "<Figure size 864x432 with 0 Axes>"
      ]
     },
     "metadata": {},
     "output_type": "display_data"
    },
    {
     "data": {
      "text/plain": [
       "<Figure size 864x432 with 0 Axes>"
      ]
     },
     "metadata": {},
     "output_type": "display_data"
    },
    {
     "data": {
      "text/plain": [
       "<Figure size 864x432 with 0 Axes>"
      ]
     },
     "metadata": {},
     "output_type": "display_data"
    },
    {
     "data": {
      "text/plain": [
       "<Figure size 864x432 with 0 Axes>"
      ]
     },
     "metadata": {},
     "output_type": "display_data"
    },
    {
     "data": {
      "text/plain": [
       "<Figure size 864x432 with 0 Axes>"
      ]
     },
     "metadata": {},
     "output_type": "display_data"
    },
    {
     "data": {
      "text/plain": [
       "<Figure size 864x432 with 0 Axes>"
      ]
     },
     "metadata": {},
     "output_type": "display_data"
    },
    {
     "data": {
      "text/plain": [
       "<Figure size 864x432 with 0 Axes>"
      ]
     },
     "metadata": {},
     "output_type": "display_data"
    },
    {
     "data": {
      "text/plain": [
       "<Figure size 864x432 with 0 Axes>"
      ]
     },
     "metadata": {},
     "output_type": "display_data"
    },
    {
     "data": {
      "text/plain": [
       "<Figure size 864x432 with 0 Axes>"
      ]
     },
     "metadata": {},
     "output_type": "display_data"
    },
    {
     "data": {
      "text/plain": [
       "<Figure size 864x432 with 0 Axes>"
      ]
     },
     "metadata": {},
     "output_type": "display_data"
    },
    {
     "data": {
      "text/plain": [
       "<Figure size 864x432 with 0 Axes>"
      ]
     },
     "metadata": {},
     "output_type": "display_data"
    },
    {
     "data": {
      "text/plain": [
       "<Figure size 864x432 with 0 Axes>"
      ]
     },
     "metadata": {},
     "output_type": "display_data"
    },
    {
     "data": {
      "text/plain": [
       "<Figure size 864x432 with 0 Axes>"
      ]
     },
     "metadata": {},
     "output_type": "display_data"
    },
    {
     "data": {
      "text/plain": [
       "<Figure size 864x432 with 0 Axes>"
      ]
     },
     "metadata": {},
     "output_type": "display_data"
    },
    {
     "data": {
      "text/plain": [
       "<Figure size 864x432 with 0 Axes>"
      ]
     },
     "metadata": {},
     "output_type": "display_data"
    },
    {
     "data": {
      "text/plain": [
       "<Figure size 864x432 with 0 Axes>"
      ]
     },
     "metadata": {},
     "output_type": "display_data"
    },
    {
     "data": {
      "text/plain": [
       "<Figure size 864x432 with 0 Axes>"
      ]
     },
     "metadata": {},
     "output_type": "display_data"
    },
    {
     "data": {
      "text/plain": [
       "<Figure size 864x432 with 0 Axes>"
      ]
     },
     "metadata": {},
     "output_type": "display_data"
    },
    {
     "data": {
      "text/plain": [
       "<Figure size 864x432 with 0 Axes>"
      ]
     },
     "metadata": {},
     "output_type": "display_data"
    },
    {
     "data": {
      "text/plain": [
       "<Figure size 864x432 with 0 Axes>"
      ]
     },
     "metadata": {},
     "output_type": "display_data"
    },
    {
     "data": {
      "text/plain": [
       "<Figure size 864x432 with 0 Axes>"
      ]
     },
     "metadata": {},
     "output_type": "display_data"
    },
    {
     "data": {
      "text/plain": [
       "<Figure size 864x432 with 0 Axes>"
      ]
     },
     "metadata": {},
     "output_type": "display_data"
    },
    {
     "data": {
      "text/plain": [
       "<Figure size 864x432 with 0 Axes>"
      ]
     },
     "metadata": {},
     "output_type": "display_data"
    },
    {
     "data": {
      "text/plain": [
       "<Figure size 864x432 with 0 Axes>"
      ]
     },
     "metadata": {},
     "output_type": "display_data"
    },
    {
     "data": {
      "text/plain": [
       "<Figure size 864x432 with 0 Axes>"
      ]
     },
     "metadata": {},
     "output_type": "display_data"
    },
    {
     "data": {
      "text/plain": [
       "<Figure size 864x432 with 0 Axes>"
      ]
     },
     "metadata": {},
     "output_type": "display_data"
    },
    {
     "data": {
      "text/plain": [
       "<Figure size 864x432 with 0 Axes>"
      ]
     },
     "metadata": {},
     "output_type": "display_data"
    },
    {
     "data": {
      "text/plain": [
       "<Figure size 864x432 with 0 Axes>"
      ]
     },
     "metadata": {},
     "output_type": "display_data"
    },
    {
     "data": {
      "text/plain": [
       "<Figure size 864x432 with 0 Axes>"
      ]
     },
     "metadata": {},
     "output_type": "display_data"
    },
    {
     "data": {
      "text/plain": [
       "<Figure size 864x432 with 0 Axes>"
      ]
     },
     "metadata": {},
     "output_type": "display_data"
    },
    {
     "data": {
      "text/plain": [
       "<Figure size 864x432 with 0 Axes>"
      ]
     },
     "metadata": {},
     "output_type": "display_data"
    },
    {
     "data": {
      "text/plain": [
       "<Figure size 864x432 with 0 Axes>"
      ]
     },
     "metadata": {},
     "output_type": "display_data"
    },
    {
     "data": {
      "text/plain": [
       "<Figure size 864x432 with 0 Axes>"
      ]
     },
     "metadata": {},
     "output_type": "display_data"
    },
    {
     "data": {
      "text/plain": [
       "<Figure size 864x432 with 0 Axes>"
      ]
     },
     "metadata": {},
     "output_type": "display_data"
    },
    {
     "data": {
      "text/plain": [
       "<Figure size 864x432 with 0 Axes>"
      ]
     },
     "metadata": {},
     "output_type": "display_data"
    },
    {
     "data": {
      "text/plain": [
       "<Figure size 864x432 with 0 Axes>"
      ]
     },
     "metadata": {},
     "output_type": "display_data"
    },
    {
     "data": {
      "text/plain": [
       "<Figure size 864x432 with 0 Axes>"
      ]
     },
     "metadata": {},
     "output_type": "display_data"
    },
    {
     "data": {
      "text/plain": [
       "<Figure size 864x432 with 0 Axes>"
      ]
     },
     "metadata": {},
     "output_type": "display_data"
    },
    {
     "data": {
      "text/plain": [
       "<Figure size 864x432 with 0 Axes>"
      ]
     },
     "metadata": {},
     "output_type": "display_data"
    },
    {
     "data": {
      "text/plain": [
       "<Figure size 864x432 with 0 Axes>"
      ]
     },
     "metadata": {},
     "output_type": "display_data"
    },
    {
     "data": {
      "text/plain": [
       "<Figure size 864x432 with 0 Axes>"
      ]
     },
     "metadata": {},
     "output_type": "display_data"
    },
    {
     "data": {
      "text/plain": [
       "<Figure size 864x432 with 0 Axes>"
      ]
     },
     "metadata": {},
     "output_type": "display_data"
    },
    {
     "data": {
      "text/plain": [
       "<Figure size 864x432 with 0 Axes>"
      ]
     },
     "metadata": {},
     "output_type": "display_data"
    },
    {
     "data": {
      "text/plain": [
       "<Figure size 864x432 with 0 Axes>"
      ]
     },
     "metadata": {},
     "output_type": "display_data"
    },
    {
     "data": {
      "text/plain": [
       "<Figure size 864x432 with 0 Axes>"
      ]
     },
     "metadata": {},
     "output_type": "display_data"
    },
    {
     "data": {
      "text/plain": [
       "<Figure size 864x432 with 0 Axes>"
      ]
     },
     "metadata": {},
     "output_type": "display_data"
    },
    {
     "data": {
      "text/plain": [
       "<Figure size 864x432 with 0 Axes>"
      ]
     },
     "metadata": {},
     "output_type": "display_data"
    },
    {
     "data": {
      "text/plain": [
       "<Figure size 864x432 with 0 Axes>"
      ]
     },
     "metadata": {},
     "output_type": "display_data"
    },
    {
     "data": {
      "text/plain": [
       "<Figure size 864x432 with 0 Axes>"
      ]
     },
     "metadata": {},
     "output_type": "display_data"
    },
    {
     "data": {
      "text/plain": [
       "<Figure size 864x432 with 0 Axes>"
      ]
     },
     "metadata": {},
     "output_type": "display_data"
    },
    {
     "data": {
      "text/plain": [
       "<Figure size 864x432 with 0 Axes>"
      ]
     },
     "metadata": {},
     "output_type": "display_data"
    },
    {
     "data": {
      "text/plain": [
       "<Figure size 864x432 with 0 Axes>"
      ]
     },
     "metadata": {},
     "output_type": "display_data"
    },
    {
     "data": {
      "text/plain": [
       "<Figure size 864x432 with 0 Axes>"
      ]
     },
     "metadata": {},
     "output_type": "display_data"
    },
    {
     "data": {
      "text/plain": [
       "<Figure size 864x432 with 0 Axes>"
      ]
     },
     "metadata": {},
     "output_type": "display_data"
    },
    {
     "data": {
      "text/plain": [
       "<Figure size 864x432 with 0 Axes>"
      ]
     },
     "metadata": {},
     "output_type": "display_data"
    },
    {
     "data": {
      "text/plain": [
       "<Figure size 864x432 with 0 Axes>"
      ]
     },
     "metadata": {},
     "output_type": "display_data"
    },
    {
     "data": {
      "text/plain": [
       "<Figure size 864x432 with 0 Axes>"
      ]
     },
     "metadata": {},
     "output_type": "display_data"
    },
    {
     "data": {
      "text/plain": [
       "<Figure size 864x432 with 0 Axes>"
      ]
     },
     "metadata": {},
     "output_type": "display_data"
    },
    {
     "data": {
      "text/plain": [
       "<Figure size 864x432 with 0 Axes>"
      ]
     },
     "metadata": {},
     "output_type": "display_data"
    },
    {
     "data": {
      "text/plain": [
       "<Figure size 864x432 with 0 Axes>"
      ]
     },
     "metadata": {},
     "output_type": "display_data"
    },
    {
     "data": {
      "text/plain": [
       "<Figure size 864x432 with 0 Axes>"
      ]
     },
     "metadata": {},
     "output_type": "display_data"
    },
    {
     "data": {
      "text/plain": [
       "<Figure size 864x432 with 0 Axes>"
      ]
     },
     "metadata": {},
     "output_type": "display_data"
    },
    {
     "data": {
      "text/plain": [
       "<Figure size 864x432 with 0 Axes>"
      ]
     },
     "metadata": {},
     "output_type": "display_data"
    },
    {
     "data": {
      "text/plain": [
       "<Figure size 864x432 with 0 Axes>"
      ]
     },
     "metadata": {},
     "output_type": "display_data"
    },
    {
     "data": {
      "text/plain": [
       "<Figure size 864x432 with 0 Axes>"
      ]
     },
     "metadata": {},
     "output_type": "display_data"
    },
    {
     "data": {
      "text/plain": [
       "<Figure size 864x432 with 0 Axes>"
      ]
     },
     "metadata": {},
     "output_type": "display_data"
    },
    {
     "data": {
      "text/plain": [
       "<Figure size 864x432 with 0 Axes>"
      ]
     },
     "metadata": {},
     "output_type": "display_data"
    },
    {
     "data": {
      "text/plain": [
       "<Figure size 864x432 with 0 Axes>"
      ]
     },
     "metadata": {},
     "output_type": "display_data"
    },
    {
     "data": {
      "text/plain": [
       "<Figure size 864x432 with 0 Axes>"
      ]
     },
     "metadata": {},
     "output_type": "display_data"
    },
    {
     "data": {
      "text/plain": [
       "<Figure size 864x432 with 0 Axes>"
      ]
     },
     "metadata": {},
     "output_type": "display_data"
    },
    {
     "data": {
      "text/plain": [
       "<Figure size 864x432 with 0 Axes>"
      ]
     },
     "metadata": {},
     "output_type": "display_data"
    },
    {
     "data": {
      "text/plain": [
       "<Figure size 864x432 with 0 Axes>"
      ]
     },
     "metadata": {},
     "output_type": "display_data"
    },
    {
     "data": {
      "text/plain": [
       "<Figure size 864x432 with 0 Axes>"
      ]
     },
     "metadata": {},
     "output_type": "display_data"
    },
    {
     "data": {
      "text/plain": [
       "<Figure size 864x432 with 0 Axes>"
      ]
     },
     "metadata": {},
     "output_type": "display_data"
    },
    {
     "data": {
      "text/plain": [
       "<Figure size 864x432 with 0 Axes>"
      ]
     },
     "metadata": {},
     "output_type": "display_data"
    },
    {
     "data": {
      "text/plain": [
       "<Figure size 864x432 with 0 Axes>"
      ]
     },
     "metadata": {},
     "output_type": "display_data"
    },
    {
     "data": {
      "text/plain": [
       "<Figure size 864x432 with 0 Axes>"
      ]
     },
     "metadata": {},
     "output_type": "display_data"
    },
    {
     "data": {
      "text/plain": [
       "<Figure size 864x432 with 0 Axes>"
      ]
     },
     "metadata": {},
     "output_type": "display_data"
    },
    {
     "data": {
      "text/plain": [
       "<Figure size 864x432 with 0 Axes>"
      ]
     },
     "metadata": {},
     "output_type": "display_data"
    },
    {
     "data": {
      "text/plain": [
       "<Figure size 864x432 with 0 Axes>"
      ]
     },
     "metadata": {},
     "output_type": "display_data"
    },
    {
     "data": {
      "text/plain": [
       "<Figure size 864x432 with 0 Axes>"
      ]
     },
     "metadata": {},
     "output_type": "display_data"
    },
    {
     "data": {
      "text/plain": [
       "<Figure size 864x432 with 0 Axes>"
      ]
     },
     "metadata": {},
     "output_type": "display_data"
    },
    {
     "data": {
      "text/plain": [
       "<Figure size 864x432 with 0 Axes>"
      ]
     },
     "metadata": {},
     "output_type": "display_data"
    },
    {
     "data": {
      "text/plain": [
       "<Figure size 864x432 with 0 Axes>"
      ]
     },
     "metadata": {},
     "output_type": "display_data"
    },
    {
     "data": {
      "text/plain": [
       "<Figure size 864x432 with 0 Axes>"
      ]
     },
     "metadata": {},
     "output_type": "display_data"
    },
    {
     "data": {
      "text/plain": [
       "<Figure size 864x432 with 0 Axes>"
      ]
     },
     "metadata": {},
     "output_type": "display_data"
    },
    {
     "data": {
      "text/plain": [
       "<Figure size 864x432 with 0 Axes>"
      ]
     },
     "metadata": {},
     "output_type": "display_data"
    },
    {
     "data": {
      "text/plain": [
       "<Figure size 864x432 with 0 Axes>"
      ]
     },
     "metadata": {},
     "output_type": "display_data"
    },
    {
     "data": {
      "text/plain": [
       "<Figure size 864x432 with 0 Axes>"
      ]
     },
     "metadata": {},
     "output_type": "display_data"
    },
    {
     "data": {
      "text/plain": [
       "<Figure size 864x432 with 0 Axes>"
      ]
     },
     "metadata": {},
     "output_type": "display_data"
    },
    {
     "data": {
      "text/plain": [
       "<Figure size 864x432 with 0 Axes>"
      ]
     },
     "metadata": {},
     "output_type": "display_data"
    },
    {
     "data": {
      "text/plain": [
       "<Figure size 864x432 with 0 Axes>"
      ]
     },
     "metadata": {},
     "output_type": "display_data"
    },
    {
     "data": {
      "text/plain": [
       "<Figure size 864x432 with 0 Axes>"
      ]
     },
     "metadata": {},
     "output_type": "display_data"
    },
    {
     "data": {
      "text/plain": [
       "<Figure size 864x432 with 0 Axes>"
      ]
     },
     "metadata": {},
     "output_type": "display_data"
    },
    {
     "data": {
      "text/plain": [
       "<Figure size 864x432 with 0 Axes>"
      ]
     },
     "metadata": {},
     "output_type": "display_data"
    },
    {
     "data": {
      "text/plain": [
       "<Figure size 864x432 with 0 Axes>"
      ]
     },
     "metadata": {},
     "output_type": "display_data"
    },
    {
     "data": {
      "text/plain": [
       "<Figure size 864x432 with 0 Axes>"
      ]
     },
     "metadata": {},
     "output_type": "display_data"
    },
    {
     "data": {
      "text/plain": [
       "<Figure size 864x432 with 0 Axes>"
      ]
     },
     "metadata": {},
     "output_type": "display_data"
    },
    {
     "data": {
      "text/plain": [
       "<Figure size 864x432 with 0 Axes>"
      ]
     },
     "metadata": {},
     "output_type": "display_data"
    },
    {
     "data": {
      "text/plain": [
       "<Figure size 864x432 with 0 Axes>"
      ]
     },
     "metadata": {},
     "output_type": "display_data"
    },
    {
     "data": {
      "text/plain": [
       "<Figure size 864x432 with 0 Axes>"
      ]
     },
     "metadata": {},
     "output_type": "display_data"
    },
    {
     "data": {
      "text/plain": [
       "<Figure size 864x432 with 0 Axes>"
      ]
     },
     "metadata": {},
     "output_type": "display_data"
    },
    {
     "data": {
      "text/plain": [
       "<Figure size 864x432 with 0 Axes>"
      ]
     },
     "metadata": {},
     "output_type": "display_data"
    },
    {
     "data": {
      "text/plain": [
       "<Figure size 864x432 with 0 Axes>"
      ]
     },
     "metadata": {},
     "output_type": "display_data"
    },
    {
     "data": {
      "text/plain": [
       "<Figure size 864x432 with 0 Axes>"
      ]
     },
     "metadata": {},
     "output_type": "display_data"
    },
    {
     "data": {
      "text/plain": [
       "<Figure size 864x432 with 0 Axes>"
      ]
     },
     "metadata": {},
     "output_type": "display_data"
    },
    {
     "data": {
      "text/plain": [
       "<Figure size 864x432 with 0 Axes>"
      ]
     },
     "metadata": {},
     "output_type": "display_data"
    },
    {
     "data": {
      "text/plain": [
       "<Figure size 864x432 with 0 Axes>"
      ]
     },
     "metadata": {},
     "output_type": "display_data"
    },
    {
     "data": {
      "text/plain": [
       "<Figure size 864x432 with 0 Axes>"
      ]
     },
     "metadata": {},
     "output_type": "display_data"
    },
    {
     "data": {
      "text/plain": [
       "<Figure size 864x432 with 0 Axes>"
      ]
     },
     "metadata": {},
     "output_type": "display_data"
    },
    {
     "data": {
      "text/plain": [
       "<Figure size 864x432 with 0 Axes>"
      ]
     },
     "metadata": {},
     "output_type": "display_data"
    },
    {
     "data": {
      "text/plain": [
       "<Figure size 864x432 with 0 Axes>"
      ]
     },
     "metadata": {},
     "output_type": "display_data"
    },
    {
     "data": {
      "text/plain": [
       "<Figure size 864x432 with 0 Axes>"
      ]
     },
     "metadata": {},
     "output_type": "display_data"
    },
    {
     "data": {
      "text/plain": [
       "<Figure size 864x432 with 0 Axes>"
      ]
     },
     "metadata": {},
     "output_type": "display_data"
    },
    {
     "data": {
      "text/plain": [
       "<Figure size 864x432 with 0 Axes>"
      ]
     },
     "metadata": {},
     "output_type": "display_data"
    },
    {
     "data": {
      "text/plain": [
       "<Figure size 864x432 with 0 Axes>"
      ]
     },
     "metadata": {},
     "output_type": "display_data"
    },
    {
     "data": {
      "text/plain": [
       "<Figure size 864x432 with 0 Axes>"
      ]
     },
     "metadata": {},
     "output_type": "display_data"
    },
    {
     "data": {
      "text/plain": [
       "<Figure size 864x432 with 0 Axes>"
      ]
     },
     "metadata": {},
     "output_type": "display_data"
    },
    {
     "data": {
      "text/plain": [
       "<Figure size 864x432 with 0 Axes>"
      ]
     },
     "metadata": {},
     "output_type": "display_data"
    },
    {
     "data": {
      "text/plain": [
       "<Figure size 864x432 with 0 Axes>"
      ]
     },
     "metadata": {},
     "output_type": "display_data"
    },
    {
     "data": {
      "text/plain": [
       "<Figure size 864x432 with 0 Axes>"
      ]
     },
     "metadata": {},
     "output_type": "display_data"
    },
    {
     "data": {
      "text/plain": [
       "<Figure size 864x432 with 0 Axes>"
      ]
     },
     "metadata": {},
     "output_type": "display_data"
    },
    {
     "data": {
      "text/plain": [
       "<Figure size 864x432 with 0 Axes>"
      ]
     },
     "metadata": {},
     "output_type": "display_data"
    },
    {
     "data": {
      "text/plain": [
       "<Figure size 864x432 with 0 Axes>"
      ]
     },
     "metadata": {},
     "output_type": "display_data"
    },
    {
     "data": {
      "text/plain": [
       "<Figure size 864x432 with 0 Axes>"
      ]
     },
     "metadata": {},
     "output_type": "display_data"
    },
    {
     "data": {
      "text/plain": [
       "<Figure size 864x432 with 0 Axes>"
      ]
     },
     "metadata": {},
     "output_type": "display_data"
    },
    {
     "data": {
      "text/plain": [
       "<Figure size 864x432 with 0 Axes>"
      ]
     },
     "metadata": {},
     "output_type": "display_data"
    },
    {
     "data": {
      "text/plain": [
       "<Figure size 864x432 with 0 Axes>"
      ]
     },
     "metadata": {},
     "output_type": "display_data"
    },
    {
     "data": {
      "text/plain": [
       "<Figure size 864x432 with 0 Axes>"
      ]
     },
     "metadata": {},
     "output_type": "display_data"
    },
    {
     "data": {
      "text/plain": [
       "<Figure size 864x432 with 0 Axes>"
      ]
     },
     "metadata": {},
     "output_type": "display_data"
    },
    {
     "data": {
      "text/plain": [
       "<Figure size 864x432 with 0 Axes>"
      ]
     },
     "metadata": {},
     "output_type": "display_data"
    },
    {
     "data": {
      "text/plain": [
       "<Figure size 864x432 with 0 Axes>"
      ]
     },
     "metadata": {},
     "output_type": "display_data"
    },
    {
     "data": {
      "text/plain": [
       "<Figure size 864x432 with 0 Axes>"
      ]
     },
     "metadata": {},
     "output_type": "display_data"
    },
    {
     "data": {
      "text/plain": [
       "<Figure size 864x432 with 0 Axes>"
      ]
     },
     "metadata": {},
     "output_type": "display_data"
    },
    {
     "data": {
      "text/plain": [
       "<Figure size 864x432 with 0 Axes>"
      ]
     },
     "metadata": {},
     "output_type": "display_data"
    },
    {
     "data": {
      "text/plain": [
       "<Figure size 864x432 with 0 Axes>"
      ]
     },
     "metadata": {},
     "output_type": "display_data"
    },
    {
     "data": {
      "text/plain": [
       "<Figure size 864x432 with 0 Axes>"
      ]
     },
     "metadata": {},
     "output_type": "display_data"
    },
    {
     "data": {
      "text/plain": [
       "<Figure size 864x432 with 0 Axes>"
      ]
     },
     "metadata": {},
     "output_type": "display_data"
    },
    {
     "data": {
      "text/plain": [
       "<Figure size 864x432 with 0 Axes>"
      ]
     },
     "metadata": {},
     "output_type": "display_data"
    },
    {
     "data": {
      "text/plain": [
       "<Figure size 864x432 with 0 Axes>"
      ]
     },
     "metadata": {},
     "output_type": "display_data"
    },
    {
     "data": {
      "text/plain": [
       "<Figure size 864x432 with 0 Axes>"
      ]
     },
     "metadata": {},
     "output_type": "display_data"
    },
    {
     "data": {
      "text/plain": [
       "<Figure size 864x432 with 0 Axes>"
      ]
     },
     "metadata": {},
     "output_type": "display_data"
    },
    {
     "data": {
      "text/plain": [
       "<Figure size 864x432 with 0 Axes>"
      ]
     },
     "metadata": {},
     "output_type": "display_data"
    },
    {
     "data": {
      "text/plain": [
       "<Figure size 864x432 with 0 Axes>"
      ]
     },
     "metadata": {},
     "output_type": "display_data"
    },
    {
     "data": {
      "text/plain": [
       "<Figure size 864x432 with 0 Axes>"
      ]
     },
     "metadata": {},
     "output_type": "display_data"
    },
    {
     "data": {
      "text/plain": [
       "<Figure size 864x432 with 0 Axes>"
      ]
     },
     "metadata": {},
     "output_type": "display_data"
    },
    {
     "data": {
      "text/plain": [
       "<Figure size 864x432 with 0 Axes>"
      ]
     },
     "metadata": {},
     "output_type": "display_data"
    },
    {
     "data": {
      "text/plain": [
       "<Figure size 864x432 with 0 Axes>"
      ]
     },
     "metadata": {},
     "output_type": "display_data"
    },
    {
     "data": {
      "text/plain": [
       "<Figure size 864x432 with 0 Axes>"
      ]
     },
     "metadata": {},
     "output_type": "display_data"
    },
    {
     "data": {
      "text/plain": [
       "<Figure size 864x432 with 0 Axes>"
      ]
     },
     "metadata": {},
     "output_type": "display_data"
    },
    {
     "data": {
      "text/plain": [
       "<Figure size 864x432 with 0 Axes>"
      ]
     },
     "metadata": {},
     "output_type": "display_data"
    },
    {
     "data": {
      "text/plain": [
       "<Figure size 864x432 with 0 Axes>"
      ]
     },
     "metadata": {},
     "output_type": "display_data"
    },
    {
     "data": {
      "text/plain": [
       "<Figure size 864x432 with 0 Axes>"
      ]
     },
     "metadata": {},
     "output_type": "display_data"
    },
    {
     "data": {
      "text/plain": [
       "<Figure size 864x432 with 0 Axes>"
      ]
     },
     "metadata": {},
     "output_type": "display_data"
    },
    {
     "data": {
      "text/plain": [
       "<Figure size 864x432 with 0 Axes>"
      ]
     },
     "metadata": {},
     "output_type": "display_data"
    },
    {
     "data": {
      "text/plain": [
       "<Figure size 864x432 with 0 Axes>"
      ]
     },
     "metadata": {},
     "output_type": "display_data"
    },
    {
     "data": {
      "text/plain": [
       "<Figure size 864x432 with 0 Axes>"
      ]
     },
     "metadata": {},
     "output_type": "display_data"
    },
    {
     "data": {
      "text/plain": [
       "<Figure size 864x432 with 0 Axes>"
      ]
     },
     "metadata": {},
     "output_type": "display_data"
    },
    {
     "data": {
      "text/plain": [
       "<Figure size 864x432 with 0 Axes>"
      ]
     },
     "metadata": {},
     "output_type": "display_data"
    },
    {
     "data": {
      "text/plain": [
       "<Figure size 864x432 with 0 Axes>"
      ]
     },
     "metadata": {},
     "output_type": "display_data"
    },
    {
     "data": {
      "text/plain": [
       "<Figure size 864x432 with 0 Axes>"
      ]
     },
     "metadata": {},
     "output_type": "display_data"
    },
    {
     "data": {
      "text/plain": [
       "<Figure size 864x432 with 0 Axes>"
      ]
     },
     "metadata": {},
     "output_type": "display_data"
    },
    {
     "data": {
      "text/plain": [
       "<Figure size 864x432 with 0 Axes>"
      ]
     },
     "metadata": {},
     "output_type": "display_data"
    },
    {
     "data": {
      "text/plain": [
       "<Figure size 864x432 with 0 Axes>"
      ]
     },
     "metadata": {},
     "output_type": "display_data"
    },
    {
     "data": {
      "text/plain": [
       "<Figure size 864x432 with 0 Axes>"
      ]
     },
     "metadata": {},
     "output_type": "display_data"
    },
    {
     "data": {
      "text/plain": [
       "<Figure size 864x432 with 0 Axes>"
      ]
     },
     "metadata": {},
     "output_type": "display_data"
    },
    {
     "data": {
      "text/plain": [
       "<Figure size 864x432 with 0 Axes>"
      ]
     },
     "metadata": {},
     "output_type": "display_data"
    },
    {
     "data": {
      "text/plain": [
       "<Figure size 864x432 with 0 Axes>"
      ]
     },
     "metadata": {},
     "output_type": "display_data"
    },
    {
     "data": {
      "text/plain": [
       "<Figure size 864x432 with 0 Axes>"
      ]
     },
     "metadata": {},
     "output_type": "display_data"
    },
    {
     "data": {
      "text/plain": [
       "<Figure size 864x432 with 0 Axes>"
      ]
     },
     "metadata": {},
     "output_type": "display_data"
    },
    {
     "data": {
      "text/plain": [
       "<Figure size 864x432 with 0 Axes>"
      ]
     },
     "metadata": {},
     "output_type": "display_data"
    },
    {
     "data": {
      "text/plain": [
       "<Figure size 864x432 with 0 Axes>"
      ]
     },
     "metadata": {},
     "output_type": "display_data"
    },
    {
     "data": {
      "text/plain": [
       "<Figure size 864x432 with 0 Axes>"
      ]
     },
     "metadata": {},
     "output_type": "display_data"
    },
    {
     "data": {
      "text/plain": [
       "<Figure size 864x432 with 0 Axes>"
      ]
     },
     "metadata": {},
     "output_type": "display_data"
    },
    {
     "data": {
      "text/plain": [
       "<Figure size 864x432 with 0 Axes>"
      ]
     },
     "metadata": {},
     "output_type": "display_data"
    },
    {
     "data": {
      "text/plain": [
       "<Figure size 864x432 with 0 Axes>"
      ]
     },
     "metadata": {},
     "output_type": "display_data"
    },
    {
     "data": {
      "text/plain": [
       "<Figure size 864x432 with 0 Axes>"
      ]
     },
     "metadata": {},
     "output_type": "display_data"
    },
    {
     "data": {
      "text/plain": [
       "<Figure size 864x432 with 0 Axes>"
      ]
     },
     "metadata": {},
     "output_type": "display_data"
    },
    {
     "data": {
      "text/plain": [
       "<Figure size 864x432 with 0 Axes>"
      ]
     },
     "metadata": {},
     "output_type": "display_data"
    },
    {
     "data": {
      "text/plain": [
       "<Figure size 864x432 with 0 Axes>"
      ]
     },
     "metadata": {},
     "output_type": "display_data"
    },
    {
     "data": {
      "text/plain": [
       "<Figure size 864x432 with 0 Axes>"
      ]
     },
     "metadata": {},
     "output_type": "display_data"
    },
    {
     "data": {
      "text/plain": [
       "<Figure size 864x432 with 0 Axes>"
      ]
     },
     "metadata": {},
     "output_type": "display_data"
    },
    {
     "data": {
      "text/plain": [
       "<Figure size 864x432 with 0 Axes>"
      ]
     },
     "metadata": {},
     "output_type": "display_data"
    },
    {
     "data": {
      "text/plain": [
       "<Figure size 864x432 with 0 Axes>"
      ]
     },
     "metadata": {},
     "output_type": "display_data"
    },
    {
     "data": {
      "text/plain": [
       "<Figure size 864x432 with 0 Axes>"
      ]
     },
     "metadata": {},
     "output_type": "display_data"
    },
    {
     "data": {
      "text/plain": [
       "<Figure size 864x432 with 0 Axes>"
      ]
     },
     "metadata": {},
     "output_type": "display_data"
    },
    {
     "data": {
      "text/plain": [
       "<Figure size 864x432 with 0 Axes>"
      ]
     },
     "metadata": {},
     "output_type": "display_data"
    },
    {
     "data": {
      "text/plain": [
       "<Figure size 864x432 with 0 Axes>"
      ]
     },
     "metadata": {},
     "output_type": "display_data"
    },
    {
     "data": {
      "text/plain": [
       "<Figure size 864x432 with 0 Axes>"
      ]
     },
     "metadata": {},
     "output_type": "display_data"
    },
    {
     "data": {
      "text/plain": [
       "<Figure size 864x432 with 0 Axes>"
      ]
     },
     "metadata": {},
     "output_type": "display_data"
    },
    {
     "data": {
      "text/plain": [
       "<Figure size 864x432 with 0 Axes>"
      ]
     },
     "metadata": {},
     "output_type": "display_data"
    },
    {
     "data": {
      "text/plain": [
       "<Figure size 864x432 with 0 Axes>"
      ]
     },
     "metadata": {},
     "output_type": "display_data"
    },
    {
     "data": {
      "text/plain": [
       "<Figure size 864x432 with 0 Axes>"
      ]
     },
     "metadata": {},
     "output_type": "display_data"
    },
    {
     "data": {
      "text/plain": [
       "<Figure size 864x432 with 0 Axes>"
      ]
     },
     "metadata": {},
     "output_type": "display_data"
    },
    {
     "data": {
      "text/plain": [
       "<Figure size 864x432 with 0 Axes>"
      ]
     },
     "metadata": {},
     "output_type": "display_data"
    },
    {
     "data": {
      "text/plain": [
       "<Figure size 864x432 with 0 Axes>"
      ]
     },
     "metadata": {},
     "output_type": "display_data"
    },
    {
     "data": {
      "text/plain": [
       "<Figure size 864x432 with 0 Axes>"
      ]
     },
     "metadata": {},
     "output_type": "display_data"
    },
    {
     "data": {
      "text/plain": [
       "<Figure size 864x432 with 0 Axes>"
      ]
     },
     "metadata": {},
     "output_type": "display_data"
    },
    {
     "data": {
      "text/plain": [
       "<Figure size 864x432 with 0 Axes>"
      ]
     },
     "metadata": {},
     "output_type": "display_data"
    },
    {
     "data": {
      "text/plain": [
       "<Figure size 864x432 with 0 Axes>"
      ]
     },
     "metadata": {},
     "output_type": "display_data"
    },
    {
     "data": {
      "text/plain": [
       "<Figure size 864x432 with 0 Axes>"
      ]
     },
     "metadata": {},
     "output_type": "display_data"
    },
    {
     "data": {
      "text/plain": [
       "<Figure size 864x432 with 0 Axes>"
      ]
     },
     "metadata": {},
     "output_type": "display_data"
    },
    {
     "data": {
      "text/plain": [
       "<Figure size 864x432 with 0 Axes>"
      ]
     },
     "metadata": {},
     "output_type": "display_data"
    },
    {
     "data": {
      "text/plain": [
       "<Figure size 864x432 with 0 Axes>"
      ]
     },
     "metadata": {},
     "output_type": "display_data"
    },
    {
     "data": {
      "text/plain": [
       "<Figure size 864x432 with 0 Axes>"
      ]
     },
     "metadata": {},
     "output_type": "display_data"
    },
    {
     "data": {
      "text/plain": [
       "<Figure size 864x432 with 0 Axes>"
      ]
     },
     "metadata": {},
     "output_type": "display_data"
    },
    {
     "data": {
      "text/plain": [
       "<Figure size 864x432 with 0 Axes>"
      ]
     },
     "metadata": {},
     "output_type": "display_data"
    },
    {
     "data": {
      "text/plain": [
       "<Figure size 864x432 with 0 Axes>"
      ]
     },
     "metadata": {},
     "output_type": "display_data"
    },
    {
     "data": {
      "text/plain": [
       "<Figure size 864x432 with 0 Axes>"
      ]
     },
     "metadata": {},
     "output_type": "display_data"
    },
    {
     "data": {
      "text/plain": [
       "<Figure size 864x432 with 0 Axes>"
      ]
     },
     "metadata": {},
     "output_type": "display_data"
    },
    {
     "data": {
      "text/plain": [
       "<Figure size 864x432 with 0 Axes>"
      ]
     },
     "metadata": {},
     "output_type": "display_data"
    },
    {
     "data": {
      "text/plain": [
       "<Figure size 864x432 with 0 Axes>"
      ]
     },
     "metadata": {},
     "output_type": "display_data"
    },
    {
     "data": {
      "text/plain": [
       "<Figure size 864x432 with 0 Axes>"
      ]
     },
     "metadata": {},
     "output_type": "display_data"
    },
    {
     "data": {
      "text/plain": [
       "<Figure size 864x432 with 0 Axes>"
      ]
     },
     "metadata": {},
     "output_type": "display_data"
    },
    {
     "data": {
      "text/plain": [
       "<Figure size 864x432 with 0 Axes>"
      ]
     },
     "metadata": {},
     "output_type": "display_data"
    },
    {
     "data": {
      "text/plain": [
       "<Figure size 864x432 with 0 Axes>"
      ]
     },
     "metadata": {},
     "output_type": "display_data"
    },
    {
     "data": {
      "text/plain": [
       "<Figure size 864x432 with 0 Axes>"
      ]
     },
     "metadata": {},
     "output_type": "display_data"
    },
    {
     "data": {
      "text/plain": [
       "<Figure size 864x432 with 0 Axes>"
      ]
     },
     "metadata": {},
     "output_type": "display_data"
    },
    {
     "data": {
      "text/plain": [
       "<Figure size 864x432 with 0 Axes>"
      ]
     },
     "metadata": {},
     "output_type": "display_data"
    },
    {
     "data": {
      "text/plain": [
       "<Figure size 864x432 with 0 Axes>"
      ]
     },
     "metadata": {},
     "output_type": "display_data"
    },
    {
     "data": {
      "text/plain": [
       "<Figure size 864x432 with 0 Axes>"
      ]
     },
     "metadata": {},
     "output_type": "display_data"
    },
    {
     "data": {
      "text/plain": [
       "<Figure size 864x432 with 0 Axes>"
      ]
     },
     "metadata": {},
     "output_type": "display_data"
    },
    {
     "data": {
      "text/plain": [
       "<Figure size 864x432 with 0 Axes>"
      ]
     },
     "metadata": {},
     "output_type": "display_data"
    },
    {
     "data": {
      "text/plain": [
       "<Figure size 864x432 with 0 Axes>"
      ]
     },
     "metadata": {},
     "output_type": "display_data"
    },
    {
     "data": {
      "text/plain": [
       "<Figure size 864x432 with 0 Axes>"
      ]
     },
     "metadata": {},
     "output_type": "display_data"
    },
    {
     "data": {
      "text/plain": [
       "<Figure size 864x432 with 0 Axes>"
      ]
     },
     "metadata": {},
     "output_type": "display_data"
    },
    {
     "data": {
      "text/plain": [
       "<Figure size 864x432 with 0 Axes>"
      ]
     },
     "metadata": {},
     "output_type": "display_data"
    },
    {
     "data": {
      "text/plain": [
       "<Figure size 864x432 with 0 Axes>"
      ]
     },
     "metadata": {},
     "output_type": "display_data"
    },
    {
     "data": {
      "text/plain": [
       "<Figure size 864x432 with 0 Axes>"
      ]
     },
     "metadata": {},
     "output_type": "display_data"
    },
    {
     "data": {
      "text/plain": [
       "<Figure size 864x432 with 0 Axes>"
      ]
     },
     "metadata": {},
     "output_type": "display_data"
    },
    {
     "data": {
      "text/plain": [
       "<Figure size 864x432 with 0 Axes>"
      ]
     },
     "metadata": {},
     "output_type": "display_data"
    },
    {
     "data": {
      "text/plain": [
       "<Figure size 864x432 with 0 Axes>"
      ]
     },
     "metadata": {},
     "output_type": "display_data"
    },
    {
     "data": {
      "text/plain": [
       "<Figure size 864x432 with 0 Axes>"
      ]
     },
     "metadata": {},
     "output_type": "display_data"
    },
    {
     "data": {
      "text/plain": [
       "<Figure size 864x432 with 0 Axes>"
      ]
     },
     "metadata": {},
     "output_type": "display_data"
    },
    {
     "data": {
      "text/plain": [
       "<Figure size 864x432 with 0 Axes>"
      ]
     },
     "metadata": {},
     "output_type": "display_data"
    },
    {
     "data": {
      "text/plain": [
       "<Figure size 864x432 with 0 Axes>"
      ]
     },
     "metadata": {},
     "output_type": "display_data"
    },
    {
     "data": {
      "text/plain": [
       "<Figure size 864x432 with 0 Axes>"
      ]
     },
     "metadata": {},
     "output_type": "display_data"
    },
    {
     "data": {
      "text/plain": [
       "<Figure size 864x432 with 0 Axes>"
      ]
     },
     "metadata": {},
     "output_type": "display_data"
    },
    {
     "data": {
      "text/plain": [
       "<Figure size 864x432 with 0 Axes>"
      ]
     },
     "metadata": {},
     "output_type": "display_data"
    },
    {
     "data": {
      "text/plain": [
       "<Figure size 864x432 with 0 Axes>"
      ]
     },
     "metadata": {},
     "output_type": "display_data"
    },
    {
     "data": {
      "text/plain": [
       "<Figure size 864x432 with 0 Axes>"
      ]
     },
     "metadata": {},
     "output_type": "display_data"
    },
    {
     "data": {
      "text/plain": [
       "<Figure size 864x432 with 0 Axes>"
      ]
     },
     "metadata": {},
     "output_type": "display_data"
    },
    {
     "data": {
      "text/plain": [
       "<Figure size 864x432 with 0 Axes>"
      ]
     },
     "metadata": {},
     "output_type": "display_data"
    },
    {
     "data": {
      "text/plain": [
       "<Figure size 864x432 with 0 Axes>"
      ]
     },
     "metadata": {},
     "output_type": "display_data"
    },
    {
     "data": {
      "text/plain": [
       "<Figure size 864x432 with 0 Axes>"
      ]
     },
     "metadata": {},
     "output_type": "display_data"
    },
    {
     "data": {
      "text/plain": [
       "<Figure size 864x432 with 0 Axes>"
      ]
     },
     "metadata": {},
     "output_type": "display_data"
    },
    {
     "data": {
      "text/plain": [
       "<Figure size 864x432 with 0 Axes>"
      ]
     },
     "metadata": {},
     "output_type": "display_data"
    },
    {
     "data": {
      "text/plain": [
       "<Figure size 864x432 with 0 Axes>"
      ]
     },
     "metadata": {},
     "output_type": "display_data"
    },
    {
     "data": {
      "text/plain": [
       "<Figure size 864x432 with 0 Axes>"
      ]
     },
     "metadata": {},
     "output_type": "display_data"
    },
    {
     "data": {
      "text/plain": [
       "<Figure size 864x432 with 0 Axes>"
      ]
     },
     "metadata": {},
     "output_type": "display_data"
    },
    {
     "data": {
      "text/plain": [
       "<Figure size 864x432 with 0 Axes>"
      ]
     },
     "metadata": {},
     "output_type": "display_data"
    },
    {
     "data": {
      "text/plain": [
       "<Figure size 864x432 with 0 Axes>"
      ]
     },
     "metadata": {},
     "output_type": "display_data"
    },
    {
     "data": {
      "text/plain": [
       "<Figure size 864x432 with 0 Axes>"
      ]
     },
     "metadata": {},
     "output_type": "display_data"
    },
    {
     "data": {
      "text/plain": [
       "<Figure size 864x432 with 0 Axes>"
      ]
     },
     "metadata": {},
     "output_type": "display_data"
    },
    {
     "data": {
      "text/plain": [
       "<Figure size 864x432 with 0 Axes>"
      ]
     },
     "metadata": {},
     "output_type": "display_data"
    },
    {
     "data": {
      "text/plain": [
       "<Figure size 864x432 with 0 Axes>"
      ]
     },
     "metadata": {},
     "output_type": "display_data"
    },
    {
     "data": {
      "text/plain": [
       "<Figure size 864x432 with 0 Axes>"
      ]
     },
     "metadata": {},
     "output_type": "display_data"
    },
    {
     "data": {
      "text/plain": [
       "<Figure size 864x432 with 0 Axes>"
      ]
     },
     "metadata": {},
     "output_type": "display_data"
    },
    {
     "data": {
      "text/plain": [
       "<Figure size 864x432 with 0 Axes>"
      ]
     },
     "metadata": {},
     "output_type": "display_data"
    },
    {
     "data": {
      "text/plain": [
       "<Figure size 864x432 with 0 Axes>"
      ]
     },
     "metadata": {},
     "output_type": "display_data"
    },
    {
     "data": {
      "text/plain": [
       "<Figure size 864x432 with 0 Axes>"
      ]
     },
     "metadata": {},
     "output_type": "display_data"
    },
    {
     "data": {
      "text/plain": [
       "<Figure size 864x432 with 0 Axes>"
      ]
     },
     "metadata": {},
     "output_type": "display_data"
    },
    {
     "data": {
      "text/plain": [
       "<Figure size 864x432 with 0 Axes>"
      ]
     },
     "metadata": {},
     "output_type": "display_data"
    },
    {
     "data": {
      "text/plain": [
       "<Figure size 864x432 with 0 Axes>"
      ]
     },
     "metadata": {},
     "output_type": "display_data"
    },
    {
     "data": {
      "text/plain": [
       "<Figure size 864x432 with 0 Axes>"
      ]
     },
     "metadata": {},
     "output_type": "display_data"
    },
    {
     "data": {
      "text/plain": [
       "<Figure size 864x432 with 0 Axes>"
      ]
     },
     "metadata": {},
     "output_type": "display_data"
    },
    {
     "data": {
      "text/plain": [
       "<Figure size 864x432 with 0 Axes>"
      ]
     },
     "metadata": {},
     "output_type": "display_data"
    },
    {
     "data": {
      "text/plain": [
       "<Figure size 864x432 with 0 Axes>"
      ]
     },
     "metadata": {},
     "output_type": "display_data"
    },
    {
     "data": {
      "text/plain": [
       "<Figure size 864x432 with 0 Axes>"
      ]
     },
     "metadata": {},
     "output_type": "display_data"
    },
    {
     "data": {
      "text/plain": [
       "<Figure size 864x432 with 0 Axes>"
      ]
     },
     "metadata": {},
     "output_type": "display_data"
    },
    {
     "data": {
      "text/plain": [
       "<Figure size 864x432 with 0 Axes>"
      ]
     },
     "metadata": {},
     "output_type": "display_data"
    },
    {
     "data": {
      "text/plain": [
       "<Figure size 864x432 with 0 Axes>"
      ]
     },
     "metadata": {},
     "output_type": "display_data"
    },
    {
     "data": {
      "text/plain": [
       "<Figure size 864x432 with 0 Axes>"
      ]
     },
     "metadata": {},
     "output_type": "display_data"
    },
    {
     "data": {
      "text/plain": [
       "<Figure size 864x432 with 0 Axes>"
      ]
     },
     "metadata": {},
     "output_type": "display_data"
    },
    {
     "data": {
      "text/plain": [
       "<Figure size 864x432 with 0 Axes>"
      ]
     },
     "metadata": {},
     "output_type": "display_data"
    },
    {
     "data": {
      "text/plain": [
       "<Figure size 864x432 with 0 Axes>"
      ]
     },
     "metadata": {},
     "output_type": "display_data"
    },
    {
     "data": {
      "text/plain": [
       "<Figure size 864x432 with 0 Axes>"
      ]
     },
     "metadata": {},
     "output_type": "display_data"
    },
    {
     "data": {
      "text/plain": [
       "<Figure size 864x432 with 0 Axes>"
      ]
     },
     "metadata": {},
     "output_type": "display_data"
    },
    {
     "data": {
      "text/plain": [
       "<Figure size 864x432 with 0 Axes>"
      ]
     },
     "metadata": {},
     "output_type": "display_data"
    },
    {
     "data": {
      "text/plain": [
       "<Figure size 864x432 with 0 Axes>"
      ]
     },
     "metadata": {},
     "output_type": "display_data"
    },
    {
     "data": {
      "text/plain": [
       "<Figure size 864x432 with 0 Axes>"
      ]
     },
     "metadata": {},
     "output_type": "display_data"
    },
    {
     "data": {
      "text/plain": [
       "<Figure size 864x432 with 0 Axes>"
      ]
     },
     "metadata": {},
     "output_type": "display_data"
    },
    {
     "data": {
      "text/plain": [
       "<Figure size 864x432 with 0 Axes>"
      ]
     },
     "metadata": {},
     "output_type": "display_data"
    },
    {
     "data": {
      "text/plain": [
       "<Figure size 864x432 with 0 Axes>"
      ]
     },
     "metadata": {},
     "output_type": "display_data"
    },
    {
     "data": {
      "text/plain": [
       "<Figure size 864x432 with 0 Axes>"
      ]
     },
     "metadata": {},
     "output_type": "display_data"
    },
    {
     "data": {
      "text/plain": [
       "<Figure size 864x432 with 0 Axes>"
      ]
     },
     "metadata": {},
     "output_type": "display_data"
    },
    {
     "data": {
      "text/plain": [
       "<Figure size 864x432 with 0 Axes>"
      ]
     },
     "metadata": {},
     "output_type": "display_data"
    },
    {
     "data": {
      "text/plain": [
       "<Figure size 864x432 with 0 Axes>"
      ]
     },
     "metadata": {},
     "output_type": "display_data"
    },
    {
     "data": {
      "text/plain": [
       "<Figure size 864x432 with 0 Axes>"
      ]
     },
     "metadata": {},
     "output_type": "display_data"
    },
    {
     "data": {
      "text/plain": [
       "<Figure size 864x432 with 0 Axes>"
      ]
     },
     "metadata": {},
     "output_type": "display_data"
    },
    {
     "data": {
      "text/plain": [
       "<Figure size 864x432 with 0 Axes>"
      ]
     },
     "metadata": {},
     "output_type": "display_data"
    },
    {
     "data": {
      "text/plain": [
       "<Figure size 864x432 with 0 Axes>"
      ]
     },
     "metadata": {},
     "output_type": "display_data"
    },
    {
     "data": {
      "text/plain": [
       "<Figure size 864x432 with 0 Axes>"
      ]
     },
     "metadata": {},
     "output_type": "display_data"
    },
    {
     "data": {
      "text/plain": [
       "<Figure size 864x432 with 0 Axes>"
      ]
     },
     "metadata": {},
     "output_type": "display_data"
    },
    {
     "data": {
      "text/plain": [
       "<Figure size 864x432 with 0 Axes>"
      ]
     },
     "metadata": {},
     "output_type": "display_data"
    },
    {
     "data": {
      "text/plain": [
       "<Figure size 864x432 with 0 Axes>"
      ]
     },
     "metadata": {},
     "output_type": "display_data"
    },
    {
     "data": {
      "text/plain": [
       "<Figure size 864x432 with 0 Axes>"
      ]
     },
     "metadata": {},
     "output_type": "display_data"
    },
    {
     "data": {
      "text/plain": [
       "<Figure size 864x432 with 0 Axes>"
      ]
     },
     "metadata": {},
     "output_type": "display_data"
    },
    {
     "data": {
      "text/plain": [
       "<Figure size 864x432 with 0 Axes>"
      ]
     },
     "metadata": {},
     "output_type": "display_data"
    },
    {
     "data": {
      "text/plain": [
       "<Figure size 864x432 with 0 Axes>"
      ]
     },
     "metadata": {},
     "output_type": "display_data"
    },
    {
     "data": {
      "text/plain": [
       "<Figure size 864x432 with 0 Axes>"
      ]
     },
     "metadata": {},
     "output_type": "display_data"
    },
    {
     "data": {
      "text/plain": [
       "<Figure size 864x432 with 0 Axes>"
      ]
     },
     "metadata": {},
     "output_type": "display_data"
    },
    {
     "data": {
      "text/plain": [
       "<Figure size 864x432 with 0 Axes>"
      ]
     },
     "metadata": {},
     "output_type": "display_data"
    },
    {
     "data": {
      "text/plain": [
       "<Figure size 864x432 with 0 Axes>"
      ]
     },
     "metadata": {},
     "output_type": "display_data"
    },
    {
     "data": {
      "text/plain": [
       "<Figure size 864x432 with 0 Axes>"
      ]
     },
     "metadata": {},
     "output_type": "display_data"
    },
    {
     "data": {
      "text/plain": [
       "<Figure size 864x432 with 0 Axes>"
      ]
     },
     "metadata": {},
     "output_type": "display_data"
    },
    {
     "data": {
      "text/plain": [
       "<Figure size 864x432 with 0 Axes>"
      ]
     },
     "metadata": {},
     "output_type": "display_data"
    },
    {
     "data": {
      "text/plain": [
       "<Figure size 864x432 with 0 Axes>"
      ]
     },
     "metadata": {},
     "output_type": "display_data"
    },
    {
     "data": {
      "text/plain": [
       "<Figure size 864x432 with 0 Axes>"
      ]
     },
     "metadata": {},
     "output_type": "display_data"
    },
    {
     "data": {
      "text/plain": [
       "<Figure size 864x432 with 0 Axes>"
      ]
     },
     "metadata": {},
     "output_type": "display_data"
    },
    {
     "data": {
      "text/plain": [
       "<Figure size 864x432 with 0 Axes>"
      ]
     },
     "metadata": {},
     "output_type": "display_data"
    },
    {
     "data": {
      "text/plain": [
       "<Figure size 864x432 with 0 Axes>"
      ]
     },
     "metadata": {},
     "output_type": "display_data"
    },
    {
     "data": {
      "text/plain": [
       "<Figure size 864x432 with 0 Axes>"
      ]
     },
     "metadata": {},
     "output_type": "display_data"
    },
    {
     "data": {
      "text/plain": [
       "<Figure size 864x432 with 0 Axes>"
      ]
     },
     "metadata": {},
     "output_type": "display_data"
    },
    {
     "data": {
      "text/plain": [
       "<Figure size 864x432 with 0 Axes>"
      ]
     },
     "metadata": {},
     "output_type": "display_data"
    },
    {
     "data": {
      "text/plain": [
       "<Figure size 864x432 with 0 Axes>"
      ]
     },
     "metadata": {},
     "output_type": "display_data"
    },
    {
     "data": {
      "text/plain": [
       "<Figure size 864x432 with 0 Axes>"
      ]
     },
     "metadata": {},
     "output_type": "display_data"
    },
    {
     "data": {
      "text/plain": [
       "<Figure size 864x432 with 0 Axes>"
      ]
     },
     "metadata": {},
     "output_type": "display_data"
    },
    {
     "data": {
      "text/plain": [
       "<Figure size 864x432 with 0 Axes>"
      ]
     },
     "metadata": {},
     "output_type": "display_data"
    },
    {
     "data": {
      "text/plain": [
       "<Figure size 864x432 with 0 Axes>"
      ]
     },
     "metadata": {},
     "output_type": "display_data"
    },
    {
     "data": {
      "text/plain": [
       "<Figure size 864x432 with 0 Axes>"
      ]
     },
     "metadata": {},
     "output_type": "display_data"
    },
    {
     "data": {
      "text/plain": [
       "<Figure size 864x432 with 0 Axes>"
      ]
     },
     "metadata": {},
     "output_type": "display_data"
    },
    {
     "data": {
      "text/plain": [
       "<Figure size 864x432 with 0 Axes>"
      ]
     },
     "metadata": {},
     "output_type": "display_data"
    },
    {
     "data": {
      "text/plain": [
       "<Figure size 864x432 with 0 Axes>"
      ]
     },
     "metadata": {},
     "output_type": "display_data"
    },
    {
     "data": {
      "text/plain": [
       "<Figure size 864x432 with 0 Axes>"
      ]
     },
     "metadata": {},
     "output_type": "display_data"
    },
    {
     "data": {
      "text/plain": [
       "<Figure size 864x432 with 0 Axes>"
      ]
     },
     "metadata": {},
     "output_type": "display_data"
    },
    {
     "data": {
      "text/plain": [
       "<Figure size 864x432 with 0 Axes>"
      ]
     },
     "metadata": {},
     "output_type": "display_data"
    },
    {
     "data": {
      "text/plain": [
       "<Figure size 864x432 with 0 Axes>"
      ]
     },
     "metadata": {},
     "output_type": "display_data"
    }
   ],
   "source": [
    "for asn in sntab[sntab.matched].itertuples():\n",
    "    asn_lc = snlcs[snlcs['SN_id'] == asn.snid_in]\n",
    "    #adiao = diaO[diaO['sn_id'] == asn.galaxy_id]\n",
    "    adiao = diaO[diaO['id'] == asn.dia_id]\n",
    "    adialc = lcs[lcs['diaObjectId']==adiao['id'].values[0]]\n",
    "    \n",
    "    fig, ax = plt.subplots(1, 1, figsize=(12, 6))\n",
    "    ax.set_title('Truth LC SN={} at z={}'.format(asn.snid_in, asn.z_in))\n",
    "    \n",
    "    plot_multifilterLC(asn_lc, ax)\n",
    "    plot_dia_multifilterLC(adialc, ax)\n",
    "    ax.vlines(asn.t0_in, ymin=asn_lc.mag.min(), \n",
    "              ymax=np.min([asn_lc.mag.max(), 28.]), \n",
    "              linestyles='--', label='t0')\n",
    "    ax.invert_yaxis()\n",
    "    ax.legend(loc='best')\n",
    "    ax.grid()\n",
    "    ax.set_xlabel('MJD')\n",
    "    ax.set_ylabel('mag')\n",
    "    plt.savefig('graphs/lightcurve_asn_id_{}.png'.format(asn.snid_in))\n",
    "    plt.clf()"
   ]
  },
  {
   "cell_type": "code",
   "execution_count": null,
   "metadata": {},
   "outputs": [],
   "source": [
    "for asn in sntab[sntab.matched].itertuples():\n",
    "    asn_lc = snlcs[snlcs['SN_id'] == asn.snid_in]\n",
    "    #adiao = diaO[diaO['sn_id'] == asn.galaxy_id]\n",
    "    adiao = diaO[diaO['id'] == asn.dia_id]\n",
    "    adialc = lcs[lcs['diaObjectId']==adiao['id'].values[0]]\n"
   ]
  },
  {
   "cell_type": "code",
   "execution_count": null,
   "metadata": {},
   "outputs": [],
   "source": []
  }
 ],
 "metadata": {
  "kernelspec": {
   "display_name": "desc-dia",
   "language": "python",
   "name": "desc-dia"
  },
  "language_info": {
   "codemirror_mode": {
    "name": "ipython",
    "version": 3
   },
   "file_extension": ".py",
   "mimetype": "text/x-python",
   "name": "python",
   "nbconvert_exporter": "python",
   "pygments_lexer": "ipython3",
   "version": "3.7.2"
  }
 },
 "nbformat": 4,
 "nbformat_minor": 4
}
