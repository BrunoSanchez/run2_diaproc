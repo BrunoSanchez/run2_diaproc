{
 "cells": [
  {
   "cell_type": "markdown",
   "metadata": {},
   "source": [
    "# Analyze template coadds for Run2.1i"
   ]
  },
  {
   "cell_type": "code",
   "execution_count": 2,
   "metadata": {},
   "outputs": [],
   "source": [
    "import os\n",
    "import sys\n",
    "import numpy as np"
   ]
  },
  {
   "cell_type": "code",
   "execution_count": 1,
   "metadata": {},
   "outputs": [],
   "source": [
    "import pandas as pd"
   ]
  },
  {
   "cell_type": "code",
   "execution_count": 3,
   "metadata": {},
   "outputs": [],
   "source": [
    "from astropy.coordinates import SkyCoord\n",
    "import astropy.units as u"
   ]
  },
  {
   "cell_type": "code",
   "execution_count": 4,
   "metadata": {},
   "outputs": [],
   "source": [
    "import lsst.afw.display as afwDisplay\n",
    "import lsst.afw.geom as afwGeom\n",
    "import lsst.afw.display.ds9 as ds9\n",
    "import lsst.afw.image as afwImage\n",
    "from lsst.daf.persistence import Butler\n",
    "from lsst.geom import SpherePoint\n",
    "import lsst.geom"
   ]
  },
  {
   "cell_type": "code",
   "execution_count": 5,
   "metadata": {},
   "outputs": [],
   "source": [
    "# Requires issues/337 to fix obshistid query.\n",
    "sys.path.insert(0, '/global/homes/b/bos0109/desc/gcr-catalogs')"
   ]
  },
  {
   "cell_type": "code",
   "execution_count": 6,
   "metadata": {},
   "outputs": [],
   "source": [
    "import GCRCatalogs"
   ]
  },
  {
   "cell_type": "code",
   "execution_count": 7,
   "metadata": {},
   "outputs": [],
   "source": [
    "%matplotlib inline\n",
    "\n",
    "import matplotlib.pyplot as plt\n",
    "plt.rcParams['figure.figsize'] = (6, 6)\n",
    "plt.rcParams['font.size'] = 14\n",
    "#from matplotlib.patches import Polygon"
   ]
  },
  {
   "cell_type": "code",
   "execution_count": 8,
   "metadata": {},
   "outputs": [
    {
     "data": {
      "text/plain": [
       "<module 'dm_utilities' from '/global/homes/b/bos0109/run2_diaproc/dm_utilities.py'>"
      ]
     },
     "execution_count": 8,
     "metadata": {},
     "output_type": "execute_result"
    }
   ],
   "source": [
    "sys.path.insert(0, '/global/homes/b/bos0109/run2_diaproc/')\n",
    "import dm_utilities as dmu\n",
    "\n",
    "import importlib\n",
    "importlib.reload(dmu)"
   ]
  },
  {
   "cell_type": "markdown",
   "metadata": {},
   "source": [
    "### Load all catalogs for t+p 4431 (1, 5)"
   ]
  },
  {
   "cell_type": "code",
   "execution_count": 10,
   "metadata": {},
   "outputs": [],
   "source": [
    "diarepo = '/global/cscratch1/sd/bos0109/templates_rect/rerun/diff_rect/rerun/assoc_sha/rerun/forcedPhot'\n",
    "tmprepo = '/global/cscratch1/sd/bos0109/templates_rect/rerun/multiband'\n",
    "#repo = '/global/cscratch1/sd/bos0109/templates_004/rerun/multiband'"
   ]
  },
  {
   "cell_type": "code",
   "execution_count": 11,
   "metadata": {},
   "outputs": [],
   "source": [
    "butler = Butler(tmprepo)"
   ]
  },
  {
   "cell_type": "code",
   "execution_count": 16,
   "metadata": {},
   "outputs": [],
   "source": [
    "tract = 4431\n",
    "patch = (1, 5)"
   ]
  },
  {
   "cell_type": "code",
   "execution_count": 17,
   "metadata": {},
   "outputs": [],
   "source": [
    "skymap = butler.get('deepCoadd_skyMap')\n",
    "tract_info = skymap[tract]"
   ]
  },
  {
   "cell_type": "code",
   "execution_count": 18,
   "metadata": {},
   "outputs": [
    {
     "data": {
      "text/plain": [
       "TractInfo(id=4431, ctrCoord=[0.47856804252908186, 0.7002981175366394, -0.5296745937313986])"
      ]
     },
     "execution_count": 18,
     "metadata": {},
     "output_type": "execute_result"
    }
   ],
   "source": [
    "tract_info"
   ]
  },
  {
   "cell_type": "code",
   "execution_count": 19,
   "metadata": {},
   "outputs": [],
   "source": [
    "tract_patch_box = tract_info.getPatchInfo(patch).getOuterBBox()\n",
    "tract_patch_pos_list = tract_patch_box.getCorners()\n",
    "# Cast to Point2D, because pixelToSky below will refuse to work with a Point2I object.\n",
    "tract_patch_pos_list = [afwGeom.Point2D(tp) for tp in tract_patch_pos_list]\n",
    "\n",
    "wcs = tract_info.getWcs()\n",
    "corners = wcs.pixelToSky(tract_patch_pos_list)\n",
    "corners = np.array([[c.getRa().asDegrees(), c.getDec().asDegrees()] for c in corners])"
   ]
  },
  {
   "cell_type": "code",
   "execution_count": 22,
   "metadata": {},
   "outputs": [],
   "source": [
    "ra = corners[:, 0]\n",
    "dec = corners[:, 1]\n",
    "min_ra, max_ra = np.min(ra), np.max(ra)\n",
    "min_dec, max_dec = np.min(dec), np.max(dec)"
   ]
  },
  {
   "cell_type": "code",
   "execution_count": 21,
   "metadata": {},
   "outputs": [],
   "source": [
    "max_ra = 58\n",
    "min_ra = 56\n",
    "max_dec = -31\n",
    "min_dec = -32"
   ]
  },
  {
   "cell_type": "code",
   "execution_count": 23,
   "metadata": {},
   "outputs": [
    {
     "name": "stdout",
     "output_type": "stream",
     "text": [
      "56.03625806405012 56.31125518002204 -31.655063297161828 -31.420699946420697\n"
     ]
    }
   ],
   "source": [
    "print(min_ra, max_ra, min_dec, max_dec)"
   ]
  },
  {
   "cell_type": "markdown",
   "metadata": {},
   "source": [
    "What is the approximated area of this polygon?"
   ]
  },
  {
   "cell_type": "code",
   "execution_count": 24,
   "metadata": {},
   "outputs": [],
   "source": [
    "delta_ra, delta_dec = max_ra-min_ra, max_dec-min_dec"
   ]
  },
  {
   "cell_type": "code",
   "execution_count": 25,
   "metadata": {},
   "outputs": [],
   "source": [
    "area = np.cos(np.deg2rad(min_dec+delta_dec*0.5))*np.deg2rad(delta_ra)*np.deg2rad(delta_dec)*180.*180./(np.pi**2.)*u.deg*u.deg"
   ]
  },
  {
   "cell_type": "code",
   "execution_count": 26,
   "metadata": {},
   "outputs": [
    {
     "name": "stdout",
     "output_type": "stream",
     "text": [
      "0.054929739012495066 deg2 , 197.74706044498225 arcmin2\n"
     ]
    }
   ],
   "source": [
    "print(area, ',', area.to(u.arcmin**2))"
   ]
  },
  {
   "cell_type": "code",
   "execution_count": 27,
   "metadata": {},
   "outputs": [
    {
     "name": "stdout",
     "output_type": "stream",
     "text": [
      "16.499826958314827 arcmin 14.061801044467828 arcmin\n"
     ]
    }
   ],
   "source": [
    "print((delta_ra*u.deg).to(u.arcmin), (delta_dec*u.deg).to(u.arcmin))"
   ]
  },
  {
   "cell_type": "markdown",
   "metadata": {},
   "source": [
    "Now we have done exactly the same stuff as in other notebooks but for our templates"
   ]
  },
  {
   "cell_type": "markdown",
   "metadata": {},
   "source": [
    "### Exploring corners and t+p positions"
   ]
  },
  {
   "cell_type": "markdown",
   "metadata": {},
   "source": [
    "Center"
   ]
  },
  {
   "cell_type": "code",
   "execution_count": 28,
   "metadata": {},
   "outputs": [
    {
     "data": {
      "text/plain": [
       "{'tract': 4431, 'patch': '1,5'}"
      ]
     },
     "execution_count": 28,
     "metadata": {},
     "output_type": "execute_result"
    }
   ],
   "source": [
    "dmu.get_coadd_id_for_ra_dec(skymap, min_ra+delta_ra/2., min_dec+delta_dec/2.)"
   ]
  },
  {
   "cell_type": "markdown",
   "metadata": {},
   "source": [
    "Corners"
   ]
  },
  {
   "cell_type": "code",
   "execution_count": 29,
   "metadata": {},
   "outputs": [
    {
     "data": {
      "text/plain": [
       "{'tract': 4431, 'patch': '2,4'}"
      ]
     },
     "execution_count": 29,
     "metadata": {},
     "output_type": "execute_result"
    }
   ],
   "source": [
    "dmu.get_coadd_id_for_ra_dec(skymap, min_ra, min_dec)"
   ]
  },
  {
   "cell_type": "code",
   "execution_count": 30,
   "metadata": {},
   "outputs": [
    {
     "data": {
      "text/plain": [
       "{'tract': 4431, 'patch': '2,6'}"
      ]
     },
     "execution_count": 30,
     "metadata": {},
     "output_type": "execute_result"
    }
   ],
   "source": [
    "dmu.get_coadd_id_for_ra_dec(skymap, min_ra, max_dec)"
   ]
  },
  {
   "cell_type": "code",
   "execution_count": 31,
   "metadata": {},
   "outputs": [
    {
     "data": {
      "text/plain": [
       "{'tract': 4431, 'patch': '0,4'}"
      ]
     },
     "execution_count": 31,
     "metadata": {},
     "output_type": "execute_result"
    }
   ],
   "source": [
    "dmu.get_coadd_id_for_ra_dec(skymap, max_ra, min_dec)"
   ]
  },
  {
   "cell_type": "code",
   "execution_count": 32,
   "metadata": {},
   "outputs": [
    {
     "data": {
      "text/plain": [
       "{'tract': 4431, 'patch': '0,6'}"
      ]
     },
     "execution_count": 32,
     "metadata": {},
     "output_type": "execute_result"
    }
   ],
   "source": [
    "dmu.get_coadd_id_for_ra_dec(skymap, max_ra, max_dec)"
   ]
  },
  {
   "cell_type": "markdown",
   "metadata": {},
   "source": [
    "Questions for this set of templates:\n",
    "* Which visits were coadded in each filter?\n",
    "* Which is the limiting magnitude for each template?\n",
    "* Which is the seeing for each template?"
   ]
  },
  {
   "cell_type": "code",
   "execution_count": 34,
   "metadata": {},
   "outputs": [],
   "source": [
    "#tpId = {'tract': 4640, 'patch': '6,0'}\n",
    "tpId = {'tract': 4431, 'patch': '1,5'}"
   ]
  },
  {
   "cell_type": "code",
   "execution_count": 35,
   "metadata": {},
   "outputs": [],
   "source": [
    "coaddMapper = butler._getDefaultMapper()"
   ]
  },
  {
   "cell_type": "code",
   "execution_count": 36,
   "metadata": {},
   "outputs": [],
   "source": [
    "mapper = coaddMapper(root=tmprepo)\n",
    "all_dataset_types = mapper.getDatasetTypes()\n",
    "\n",
    "remove = ['_config', '_filename', '_md', '_sub', '_len', '_schema', '_metadata']\n",
    "\n",
    "shortlist = []\n",
    "for dataset_type in all_dataset_types:\n",
    "    keep = True\n",
    "    for word in remove:\n",
    "        if word in dataset_type:\n",
    "            keep = False\n",
    "    if keep:\n",
    "        shortlist.append(dataset_type)\n",
    "\n",
    "#print(shortlist)"
   ]
  },
  {
   "cell_type": "code",
   "execution_count": 37,
   "metadata": {},
   "outputs": [
    {
     "name": "stdout",
     "output_type": "stream",
     "text": [
      "\u001b[0m\u001b[1;34mg\u001b[0m/  \u001b[1;34mi\u001b[0m/  \u001b[1;34mmerged\u001b[0m/  \u001b[1;34mr\u001b[0m/  \u001b[1;34mu\u001b[0m/  \u001b[1;34my\u001b[0m/  \u001b[1;34mz\u001b[0m/\n"
     ]
    }
   ],
   "source": [
    "ls /global/cscratch1/sd/bos0109/templates_004/rerun/multiband/deepCoadd-results/"
   ]
  },
  {
   "cell_type": "code",
   "execution_count": 38,
   "metadata": {},
   "outputs": [
    {
     "name": "stdout",
     "output_type": "stream",
     "text": [
      "!RepositoryCfg_v1\n",
      "_mapper: !!python/name:lsst.obs.lsst.imsim.ImsimMapper ''\n",
      "_mapperArgs: {}\n",
      "_parents:\n",
      "- ../..\n",
      "_policy: null\n",
      "_root: null\n",
      "dirty: true\n"
     ]
    }
   ],
   "source": [
    "cat /global/cscratch1/sd/bos0109/templates_004/rerun/multiband/repositoryCfg.yaml"
   ]
  },
  {
   "cell_type": "code",
   "execution_count": 39,
   "metadata": {},
   "outputs": [
    {
     "data": {
      "text/plain": [
       "{'filter': str, 'tract': int, 'patch': str}"
      ]
     },
     "execution_count": 39,
     "metadata": {},
     "output_type": "execute_result"
    }
   ],
   "source": [
    "butler.getKeys('deepCoadd_calexp')"
   ]
  },
  {
   "cell_type": "code",
   "execution_count": 40,
   "metadata": {},
   "outputs": [
    {
     "data": {
      "text/plain": [
       "{'tract': 4431, 'patch': '1,5'}"
      ]
     },
     "execution_count": 40,
     "metadata": {},
     "output_type": "execute_result"
    }
   ],
   "source": [
    "tpId"
   ]
  },
  {
   "cell_type": "code",
   "execution_count": 41,
   "metadata": {},
   "outputs": [],
   "source": [
    "#tpId = {'tract': 4432, 'patch': '(0, 0)'}"
   ]
  },
  {
   "cell_type": "code",
   "execution_count": 42,
   "metadata": {},
   "outputs": [],
   "source": [
    "cvi = butler.queryMetadata('calexp', ['id', 'visit', 'filter'], dataId=tpId)"
   ]
  },
  {
   "cell_type": "code",
   "execution_count": null,
   "metadata": {},
   "outputs": [],
   "source": []
  },
  {
   "cell_type": "code",
   "execution_count": 43,
   "metadata": {},
   "outputs": [
    {
     "data": {
      "text/plain": [
       "False"
      ]
     },
     "execution_count": 43,
     "metadata": {},
     "output_type": "execute_result"
    }
   ],
   "source": [
    "butler.datasetExists('calexp', dataId=tpId)"
   ]
  },
  {
   "cell_type": "code",
   "execution_count": 44,
   "metadata": {},
   "outputs": [],
   "source": [
    "merged_sources = butler.get('deepCoadd_mergeDet', dataId=tpId).asAstropy()"
   ]
  },
  {
   "cell_type": "code",
   "execution_count": 45,
   "metadata": {},
   "outputs": [
    {
     "data": {
      "text/plain": [
       "['id',\n",
       " 'coord_ra',\n",
       " 'coord_dec',\n",
       " 'parent',\n",
       " 'merge_footprint_i',\n",
       " 'merge_footprint_r',\n",
       " 'merge_footprint_z',\n",
       " 'merge_footprint_y',\n",
       " 'merge_footprint_g',\n",
       " 'merge_footprint_u',\n",
       " 'merge_footprint_sky']"
      ]
     },
     "execution_count": 45,
     "metadata": {},
     "output_type": "execute_result"
    }
   ],
   "source": [
    "merged_sources.colnames"
   ]
  },
  {
   "cell_type": "markdown",
   "metadata": {},
   "source": [
    "## Inspecting the SNe that fall in this Patch"
   ]
  },
  {
   "cell_type": "raw",
   "metadata": {},
   "source": [
    "import sqlite3"
   ]
  },
  {
   "cell_type": "raw",
   "metadata": {},
   "source": [
    "database = '/global/cscratch1/sd/bos0109/sne_params_cosmoDC2_v1.1_181121.db'\n",
    "\n",
    "conn = sqlite3.connect(database)\n",
    "c = conn.cursor()"
   ]
  },
  {
   "cell_type": "raw",
   "metadata": {},
   "source": [
    "query = \"SELECT * FROM sne_params WHERE snra_in > {} AND snra_in < {} AND sndec_in > {} AND sndec_in < {}\".format(min_ra, max_ra, min_dec, max_dec)"
   ]
  },
  {
   "cell_type": "raw",
   "metadata": {},
   "source": [
    "print(query)"
   ]
  },
  {
   "cell_type": "raw",
   "metadata": {},
   "source": [
    "sntab = pd.read_sql_query(query, conn)"
   ]
  },
  {
   "cell_type": "code",
   "execution_count": 71,
   "metadata": {},
   "outputs": [],
   "source": [
    "sntab = pd.read_csv('../catalogs+tables/supernovae_cat_2_sq_deg.csv')"
   ]
  },
  {
   "cell_type": "code",
   "execution_count": 72,
   "metadata": {},
   "outputs": [
    {
     "data": {
      "text/plain": [
       "2138"
      ]
     },
     "execution_count": 72,
     "metadata": {},
     "output_type": "execute_result"
    }
   ],
   "source": [
    "len(sntab)"
   ]
  },
  {
   "cell_type": "code",
   "execution_count": 73,
   "metadata": {},
   "outputs": [
    {
     "data": {
      "text/plain": [
       "Index(['Unnamed: 0', 'htmid_level_6', 'galaxy_id', 'c_in', 'mB', 't0_in',\n",
       "       'x0_in', 'x1_in', 'z_in', 'snid_in', 'snra_in', 'sndec_in'],\n",
       "      dtype='object')"
      ]
     },
     "execution_count": 73,
     "metadata": {},
     "output_type": "execute_result"
    }
   ],
   "source": [
    "sntab.columns"
   ]
  },
  {
   "cell_type": "code",
   "execution_count": 74,
   "metadata": {},
   "outputs": [],
   "source": [
    "sntab = sntab.query(\"snra_in > {} and snra_in < {} and sndec_in > {} and sndec_in < {}\".format(min_ra, max_ra, min_dec, max_dec))"
   ]
  },
  {
   "cell_type": "code",
   "execution_count": 75,
   "metadata": {},
   "outputs": [
    {
     "data": {
      "text/plain": [
       "65"
      ]
     },
     "execution_count": 75,
     "metadata": {},
     "output_type": "execute_result"
    }
   ],
   "source": [
    "len(sntab)"
   ]
  },
  {
   "cell_type": "code",
   "execution_count": 76,
   "metadata": {},
   "outputs": [
    {
     "data": {
      "text/plain": [
       "Text(0, 0.5, '$\\\\delta$')"
      ]
     },
     "execution_count": 76,
     "metadata": {},
     "output_type": "execute_result"
    },
    {
     "data": {
      "image/png": "[encoded data removed]",
      "text/plain": [
       "<Figure size 432x288 with 2 Axes>"
      ]
     },
     "metadata": {
      "needs_background": "light"
     },
     "output_type": "display_data"
    }
   ],
   "source": [
    "plt.scatter(sntab.snra_in, sntab.sndec_in, s=20/sntab.z_in, c=sntab.z_in, cmap='RdBu_r')\n",
    "\n",
    "clb = plt.colorbar()\n",
    "clb.set_label(r'$z$', labelpad=-30, y=-0.05, rotation=0)\n",
    "plt.xlabel(r'$\\alpha$')\n",
    "plt.ylabel(r'$\\delta$')"
   ]
  },
  {
   "cell_type": "code",
   "execution_count": 77,
   "metadata": {},
   "outputs": [],
   "source": [
    "from astropy import time"
   ]
  },
  {
   "cell_type": "code",
   "execution_count": 78,
   "metadata": {},
   "outputs": [],
   "source": [
    "t0 = time.Time(sntab.t0_in, format='mjd', scale='utc')"
   ]
  },
  {
   "cell_type": "code",
   "execution_count": 79,
   "metadata": {},
   "outputs": [
    {
     "name": "stderr",
     "output_type": "stream",
     "text": [
      "WARNING: ErfaWarning: ERFA function \"d2dtf\" yielded 65 of \"dubious year (Note 5)\" [astropy._erfa.core]\n"
     ]
    },
    {
     "data": {
      "image/png": "[encoded data removed]",
      "text/plain": [
       "<Figure size 864x288 with 2 Axes>"
      ]
     },
     "metadata": {
      "needs_background": "light"
     },
     "output_type": "display_data"
    }
   ],
   "source": [
    "plt.figure(figsize=(12,4))\n",
    "plt.subplot(121)\n",
    "plt.hist(t0.datetime64, cumulative=False)\n",
    "plt.xlabel('Year')\n",
    "plt.ylabel('SNe peaked')\n",
    "\n",
    "plt.subplot(122)\n",
    "plt.hist(sntab.z_in, cumulative=False)\n",
    "plt.xlabel(r'Redshift $z$')\n",
    "plt.show()"
   ]
  },
  {
   "cell_type": "code",
   "execution_count": 80,
   "metadata": {},
   "outputs": [
    {
     "data": {
      "image/png": "[encoded data removed]",
      "text/plain": [
       "<Figure size 864x288 with 2 Axes>"
      ]
     },
     "metadata": {
      "needs_background": "light"
     },
     "output_type": "display_data"
    }
   ],
   "source": [
    "plt.figure(figsize=(12,4))\n",
    "plt.subplot(121)\n",
    "plt.hist(sntab.x1_in, cumulative=False)\n",
    "plt.ylabel('N')\n",
    "plt.xlabel('SNe stretch')\n",
    "\n",
    "plt.subplot(122)\n",
    "plt.hist(sntab.c_in, cumulative=False)\n",
    "plt.xlabel(r'Color')\n",
    "plt.show()"
   ]
  },
  {
   "cell_type": "markdown",
   "metadata": {},
   "source": [
    "## Using the SN coordinates to look into the templates"
   ]
  },
  {
   "cell_type": "code",
   "execution_count": 92,
   "metadata": {},
   "outputs": [],
   "source": [
    "import importlib"
   ]
  },
  {
   "cell_type": "code",
   "execution_count": 93,
   "metadata": {},
   "outputs": [
    {
     "data": {
      "text/plain": [
       "<module 'dm_utilities' from '/global/homes/b/bos0109/run2_diaproc/dm_utilities.py'>"
      ]
     },
     "execution_count": 93,
     "metadata": {},
     "output_type": "execute_result"
    }
   ],
   "source": [
    "importlib.reload(dmu)"
   ]
  },
  {
   "cell_type": "code",
   "execution_count": 99,
   "metadata": {},
   "outputs": [
    {
     "name": "stdout",
     "output_type": "stream",
     "text": [
      "48\n"
     ]
    }
   ],
   "source": [
    "i = np.random.randint(len(sntab))\n",
    "print(i)\n",
    "snra, sndec = sntab.snra_in.values[i], sntab.sndec_in.values[i]"
   ]
  },
  {
   "cell_type": "code",
   "execution_count": 100,
   "metadata": {
    "collapsed": false,
    "jupyter": {
     "outputs_hidden": false
    }
   },
   "outputs": [],
   "source": [
    "im = butler.get('deepCoadd', {'patch': '1,5', 'tract':4431, 'filter':'g' })"
   ]
  },
  {
   "cell_type": "code",
   "execution_count": 101,
   "metadata": {},
   "outputs": [
    {
     "data": {
      "text/plain": [
       "<lsst.afw.image.exposure.exposure.ExposureF at 0x2aab325932f0>"
      ]
     },
     "execution_count": 101,
     "metadata": {},
     "output_type": "execute_result"
    }
   ],
   "source": [
    "im"
   ]
  },
  {
   "cell_type": "code",
   "execution_count": 103,
   "metadata": {},
   "outputs": [
    {
     "data": {
      "text/plain": [
       "(56.11797390625811, -31.566066919686858)"
      ]
     },
     "execution_count": 103,
     "metadata": {},
     "output_type": "execute_result"
    }
   ],
   "source": [
    "snra, sndec"
   ]
  },
  {
   "cell_type": "code",
   "execution_count": 104,
   "metadata": {},
   "outputs": [
    {
     "data": {
      "image/png": "[encoded data removed]",
      "text/plain": [
       "<Figure size 432x288 with 2 Axes>"
      ]
     },
     "metadata": {
      "needs_background": "light"
     },
     "output_type": "display_data"
    },
    {
     "data": {
      "image/png": "[encoded data removed]",
      "text/plain": [
       "<Figure size 432x288 with 2 Axes>"
      ]
     },
     "metadata": {
      "needs_background": "light"
     },
     "output_type": "display_data"
    },
    {
     "data": {
      "image/png": "[encoded data removed]",
      "text/plain": [
       "<Figure size 432x288 with 2 Axes>"
      ]
     },
     "metadata": {
      "needs_background": "light"
     },
     "output_type": "display_data"
    },
    {
     "data": {
      "image/png": "[encoded data removed]",
      "text/plain": [
       "<Figure size 432x288 with 2 Axes>"
      ]
     },
     "metadata": {
      "needs_background": "light"
     },
     "output_type": "display_data"
    }
   ],
   "source": [
    "frame = 0\n",
    "plt.figure(frame)\n",
    "\n",
    "plt.subplot(221)\n",
    "cutout = dmu.make_cutout_image(butler, snra, sndec, filter='g')\n",
    "\n",
    "plt.subplot(222)\n",
    "cutout = dmu.make_cutout_image(butler, snra, sndec, filter='r')\n",
    "\n",
    "plt.subplot(223)\n",
    "cutout = dmu.make_cutout_image(butler, snra, sndec, filter='i')\n",
    "\n",
    "plt.subplot(224)\n",
    "cutout = dmu.make_cutout_image(butler, snra, sndec, filter='z')"
   ]
  },
  {
   "cell_type": "code",
   "execution_count": 106,
   "metadata": {},
   "outputs": [
    {
     "data": {
      "text/plain": [
       "<Figure size 432x288 with 0 Axes>"
      ]
     },
     "metadata": {},
     "output_type": "display_data"
    },
    {
     "data": {
      "image/png": "[encoded data removed]",
      "text/plain": [
       "<Figure size 432x288 with 2 Axes>"
      ]
     },
     "metadata": {
      "needs_background": "light"
     },
     "output_type": "display_data"
    }
   ],
   "source": [
    "frame = 1\n",
    "plt.figure(frame)\n",
    "cutout = dmu.display_cutout_image(butler, snra, sndec)"
   ]
  },
  {
   "cell_type": "markdown",
   "metadata": {},
   "source": [
    "## The DIA sources inspection"
   ]
  },
  {
   "cell_type": "code",
   "execution_count": 168,
   "metadata": {},
   "outputs": [],
   "source": [
    "diarepo2 = '/global/cscratch1/sd/bos0109/templates_rect/rerun/diff_rect/rerun/assoc_sha'"
   ]
  },
  {
   "cell_type": "code",
   "execution_count": 107,
   "metadata": {},
   "outputs": [
    {
     "name": "stdout",
     "output_type": "stream",
     "text": [
      "/global/cscratch1/sd/bos0109/templates_rect/rerun/diff_rect/rerun/assoc_sha/rerun/forcedPhot\n"
     ]
    }
   ],
   "source": [
    "print(diarepo)"
   ]
  },
  {
   "cell_type": "code",
   "execution_count": 169,
   "metadata": {},
   "outputs": [],
   "source": [
    "butlerdia = Butler(diarepo2)"
   ]
  },
  {
   "cell_type": "code",
   "execution_count": 170,
   "metadata": {},
   "outputs": [
    {
     "data": {
      "text/plain": [
       "<Figure size 432x288 with 0 Axes>"
      ]
     },
     "metadata": {},
     "output_type": "display_data"
    },
    {
     "data": {
      "image/png": "[encoded data removed]",
      "text/plain": [
       "<Figure size 432x288 with 2 Axes>"
      ]
     },
     "metadata": {
      "needs_background": "light"
     },
     "output_type": "display_data"
    }
   ],
   "source": [
    "frame = 1\n",
    "plt.figure(frame)\n",
    "cutout = dmu.display_cutout_image(butlerdia, sntab.snra_in.values[3], sntab.sndec_in.values[3])"
   ]
  },
  {
   "cell_type": "code",
   "execution_count": 171,
   "metadata": {},
   "outputs": [],
   "source": [
    "diaMapper = butlerdia._getDefaultMapper()"
   ]
  },
  {
   "cell_type": "code",
   "execution_count": 172,
   "metadata": {},
   "outputs": [],
   "source": [
    "diamapper = diaMapper(diarepo)"
   ]
  },
  {
   "cell_type": "code",
   "execution_count": 173,
   "metadata": {},
   "outputs": [],
   "source": [
    "all_diadataset_types = diamapper.getDatasetTypes()\n",
    "\n",
    "remove = ['_config', '_filename', '_md', '_sub', '_len', '_schema', '_metadata']\n",
    "\n",
    "shortlist = []\n",
    "for dataset_type in all_diadataset_types:\n",
    "    keep = True\n",
    "    for word in remove:\n",
    "        if word in dataset_type:\n",
    "            keep = False\n",
    "    if keep:\n",
    "        shortlist.append(dataset_type)\n",
    "\n",
    "#print(shortlist)"
   ]
  },
  {
   "cell_type": "code",
   "execution_count": 174,
   "metadata": {},
   "outputs": [
    {
     "name": "stdout",
     "output_type": "stream",
     "text": [
      "['dcrDiff_diaSrc', 'deepDiff_diaObject', 'deepDiff_diaSrc', 'deepDiff_forced_diaObject', 'deepDiff_forced_diaSrc']\n"
     ]
    }
   ],
   "source": [
    "print([dtst for dtst in shortlist if 'dia' in dtst] )"
   ]
  },
  {
   "cell_type": "code",
   "execution_count": 175,
   "metadata": {},
   "outputs": [
    {
     "data": {
      "text/plain": [
       "False"
      ]
     },
     "execution_count": 175,
     "metadata": {},
     "output_type": "execute_result"
    }
   ],
   "source": [
    "butlerdia.datasetExists('deepDiff_diaSrc')"
   ]
  },
  {
   "cell_type": "code",
   "execution_count": 176,
   "metadata": {},
   "outputs": [
    {
     "data": {
      "text/plain": [
       "{'visit': int,\n",
       " 'filter': str,\n",
       " 'raftName': str,\n",
       " 'detectorName': str,\n",
       " 'detector': int}"
      ]
     },
     "execution_count": 176,
     "metadata": {},
     "output_type": "execute_result"
    }
   ],
   "source": [
    "butlerdia.getKeys('deepDiff_diaSrc')"
   ]
  },
  {
   "cell_type": "code",
   "execution_count": 177,
   "metadata": {},
   "outputs": [],
   "source": [
    "#tpId = {'tract':4639, 'patch': '0,0'}"
   ]
  },
  {
   "cell_type": "code",
   "execution_count": 178,
   "metadata": {},
   "outputs": [],
   "source": [
    "metadata = butlerdia.queryMetadata('deepDiff_diaSrc', ['id', 'visit', 'filter', 'raftName', 'detectorName', 'detector'],\n",
    "                                   dataId=tpId)"
   ]
  },
  {
   "cell_type": "code",
   "execution_count": 117,
   "metadata": {},
   "outputs": [],
   "source": [
    "meta = pd.DataFrame(metadata, columns=['id', 'visit', 'filter', 'raftName', 'detectorName', 'detector'])"
   ]
  },
  {
   "cell_type": "code",
   "execution_count": 118,
   "metadata": {},
   "outputs": [
    {
     "data": {
      "text/html": [
       "<div>\n",
       "<style scoped>\n",
       "    .dataframe tbody tr th:only-of-type {\n",
       "        vertical-align: middle;\n",
       "    }\n",
       "\n",
       "    .dataframe tbody tr th {\n",
       "        vertical-align: top;\n",
       "    }\n",
       "\n",
       "    .dataframe thead th {\n",
       "        text-align: right;\n",
       "    }\n",
       "</style>\n",
       "<table border=\"1\" class=\"dataframe\">\n",
       "  <thead>\n",
       "    <tr style=\"text-align: right;\">\n",
       "      <th></th>\n",
       "      <th>id</th>\n",
       "      <th>visit</th>\n",
       "      <th>filter</th>\n",
       "      <th>raftName</th>\n",
       "      <th>detectorName</th>\n",
       "      <th>detector</th>\n",
       "    </tr>\n",
       "  </thead>\n",
       "  <tbody>\n",
       "    <tr>\n",
       "      <th>0</th>\n",
       "      <td>1</td>\n",
       "      <td>12469</td>\n",
       "      <td>y</td>\n",
       "      <td>R24</td>\n",
       "      <td>S01</td>\n",
       "      <td>109</td>\n",
       "    </tr>\n",
       "    <tr>\n",
       "      <th>1</th>\n",
       "      <td>2</td>\n",
       "      <td>12469</td>\n",
       "      <td>y</td>\n",
       "      <td>R24</td>\n",
       "      <td>S02</td>\n",
       "      <td>110</td>\n",
       "    </tr>\n",
       "    <tr>\n",
       "      <th>2</th>\n",
       "      <td>3</td>\n",
       "      <td>12469</td>\n",
       "      <td>y</td>\n",
       "      <td>R24</td>\n",
       "      <td>S10</td>\n",
       "      <td>111</td>\n",
       "    </tr>\n",
       "    <tr>\n",
       "      <th>3</th>\n",
       "      <td>4</td>\n",
       "      <td>12469</td>\n",
       "      <td>y</td>\n",
       "      <td>R24</td>\n",
       "      <td>S11</td>\n",
       "      <td>112</td>\n",
       "    </tr>\n",
       "    <tr>\n",
       "      <th>4</th>\n",
       "      <td>5</td>\n",
       "      <td>12469</td>\n",
       "      <td>y</td>\n",
       "      <td>R24</td>\n",
       "      <td>S12</td>\n",
       "      <td>113</td>\n",
       "    </tr>\n",
       "  </tbody>\n",
       "</table>\n",
       "</div>"
      ],
      "text/plain": [
       "   id  visit filter raftName detectorName  detector\n",
       "0   1  12469      y      R24          S01       109\n",
       "1   2  12469      y      R24          S02       110\n",
       "2   3  12469      y      R24          S10       111\n",
       "3   4  12469      y      R24          S11       112\n",
       "4   5  12469      y      R24          S12       113"
      ]
     },
     "execution_count": 118,
     "metadata": {},
     "output_type": "execute_result"
    }
   ],
   "source": [
    "meta.head()"
   ]
  },
  {
   "cell_type": "code",
   "execution_count": 119,
   "metadata": {},
   "outputs": [],
   "source": [
    "meta = meta[meta['filter']!='u']\n",
    "meta = meta[meta['filter']!='y']"
   ]
  },
  {
   "cell_type": "code",
   "execution_count": 123,
   "metadata": {},
   "outputs": [],
   "source": [
    "path = '/global/cscratch1/sd/bos0109/templates_rect/rerun/diff_rect/deepDiff/'\n",
    "diffpath = 'v{}-f{}/{}/diaSrc_{}-{}-{}-{}-det{}.fits'\n",
    "\n",
    "cats = []\n",
    "for idx, vn, fna, raf, detN, det in metadata:\n",
    "    if fna=='y' or fna=='u': continue\n",
    "    \n",
    "    dpath = os.path.join(path, diffpath.format(str(vn).zfill(8), fna, raf, \n",
    "                                               str(vn).zfill(8), fna,raf, detN, \n",
    "                                               str(det).zfill(3)))\n",
    "    if os.path.exists(dpath):\n",
    "        catalog = butlerdia.get('deepDiff_diaSrc', visit=vn, detector=det).asAstropy()\n",
    "        if len(catalog) is not 0:\n",
    "            catalog['visit_n'] = vn\n",
    "            catalog['filter'] = fna\n",
    "            catalog['raft'] = raf\n",
    "            catalog['sensor'] = detN\n",
    "            catalog['detector'] = det\n",
    "\n",
    "            cats.append(catalog)"
   ]
  },
  {
   "cell_type": "code",
   "execution_count": 141,
   "metadata": {},
   "outputs": [
    {
     "data": {
      "text/plain": [
       "9587"
      ]
     },
     "execution_count": 141,
     "metadata": {},
     "output_type": "execute_result"
    }
   ],
   "source": [
    "len(cats)"
   ]
  },
  {
   "cell_type": "code",
   "execution_count": 124,
   "metadata": {},
   "outputs": [
    {
     "name": "stdout",
     "output_type": "stream",
     "text": [
      "diaSrc_00159481-g-R02-S00-det009.fits  diffexp_00159481-g-R02-S00-det009.fits\n",
      "diaSrc_00159481-g-R02-S01-det010.fits  diffexp_00159481-g-R02-S01-det010.fits\n",
      "diaSrc_00159481-g-R02-S02-det011.fits  diffexp_00159481-g-R02-S02-det011.fits\n",
      "diaSrc_00159481-g-R02-S10-det012.fits  diffexp_00159481-g-R02-S10-det012.fits\n",
      "diaSrc_00159481-g-R02-S11-det013.fits  diffexp_00159481-g-R02-S11-det013.fits\n",
      "diaSrc_00159481-g-R02-S12-det014.fits  diffexp_00159481-g-R02-S12-det014.fits\n",
      "diaSrc_00159481-g-R02-S20-det015.fits  diffexp_00159481-g-R02-S20-det015.fits\n",
      "diaSrc_00159481-g-R02-S21-det016.fits  diffexp_00159481-g-R02-S21-det016.fits\n",
      "diaSrc_00159481-g-R02-S22-det017.fits  diffexp_00159481-g-R02-S22-det017.fits\n"
     ]
    }
   ],
   "source": [
    "ls /global/cscratch1/sd/bos0109/templates_rect/rerun/diff_rect/deepDiff/v00159481-fg/R02/"
   ]
  },
  {
   "cell_type": "code",
   "execution_count": 125,
   "metadata": {},
   "outputs": [],
   "source": [
    "from astropy.table import vstack"
   ]
  },
  {
   "cell_type": "code",
   "execution_count": 126,
   "metadata": {},
   "outputs": [],
   "source": [
    "mastercat = vstack(cats)"
   ]
  },
  {
   "cell_type": "code",
   "execution_count": 134,
   "metadata": {},
   "outputs": [],
   "source": [
    "mastercat.write('./mastercatalog_dia_srcs_rect.fits', format='fits')"
   ]
  },
  {
   "cell_type": "code",
   "execution_count": 151,
   "metadata": {},
   "outputs": [],
   "source": [
    "#mastercat.write('./mastercatalog_dia_srcs_rect.csv', format='csv')"
   ]
  },
  {
   "cell_type": "code",
   "execution_count": null,
   "metadata": {},
   "outputs": [],
   "source": [
    "#mastercat.write('./mastercatalog_dia_srcs_rect.h5', path='diaSrc_mastercat',format='hdf5')"
   ]
  },
  {
   "cell_type": "code",
   "execution_count": 135,
   "metadata": {},
   "outputs": [
    {
     "data": {
      "text/plain": [
       "{'tract': int, 'patch': str}"
      ]
     },
     "execution_count": 135,
     "metadata": {},
     "output_type": "execute_result"
    }
   ],
   "source": [
    "butlerdia.getKeys('deepDiff_diaObject')"
   ]
  },
  {
   "cell_type": "code",
   "execution_count": 184,
   "metadata": {},
   "outputs": [
    {
     "data": {
      "text/plain": [
       "{'tract': 4431, 'patch': '1,5'}"
      ]
     },
     "execution_count": 184,
     "metadata": {},
     "output_type": "execute_result"
    }
   ],
   "source": [
    "tpId"
   ]
  },
  {
   "cell_type": "code",
   "execution_count": 186,
   "metadata": {},
   "outputs": [],
   "source": [
    "objs = butlerdia.get('deepDiff_diaObject', dataId=tpId).asAstropy()"
   ]
  },
  {
   "cell_type": "code",
   "execution_count": 137,
   "metadata": {},
   "outputs": [
    {
     "data": {
      "text/plain": [
       "518"
      ]
     },
     "execution_count": 137,
     "metadata": {},
     "output_type": "execute_result"
    }
   ],
   "source": [
    "len(objs)"
   ]
  },
  {
   "cell_type": "code",
   "execution_count": 138,
   "metadata": {
    "collapsed": true,
    "jupyter": {
     "outputs_hidden": true
    }
   },
   "outputs": [
    {
     "data": {
      "text/plain": [
       "['id',\n",
       " 'coord_ra',\n",
       " 'coord_dec',\n",
       " 'parent',\n",
       " 'nobs',\n",
       " 'base_PsfFlux_instFlux_Ndata_u',\n",
       " 'base_PsfFlux_instFlux_Sigma_u',\n",
       " 'base_PsfFlux_instFlux_MeanErr_u',\n",
       " 'base_PsfFlux_instFlux_Mean_u',\n",
       " 'base_PsfFlux_instFlux_Ndata_g',\n",
       " 'base_PsfFlux_instFlux_Sigma_g',\n",
       " 'base_PsfFlux_instFlux_MeanErr_g',\n",
       " 'base_PsfFlux_instFlux_Mean_g',\n",
       " 'base_PsfFlux_instFlux_Ndata_r',\n",
       " 'base_PsfFlux_instFlux_Sigma_r',\n",
       " 'base_PsfFlux_instFlux_MeanErr_r',\n",
       " 'base_PsfFlux_instFlux_Mean_r',\n",
       " 'base_PsfFlux_instFlux_Ndata_i',\n",
       " 'base_PsfFlux_instFlux_Sigma_i',\n",
       " 'base_PsfFlux_instFlux_MeanErr_i',\n",
       " 'base_PsfFlux_instFlux_Mean_i',\n",
       " 'base_PsfFlux_instFlux_Ndata_z',\n",
       " 'base_PsfFlux_instFlux_Sigma_z',\n",
       " 'base_PsfFlux_instFlux_MeanErr_z',\n",
       " 'base_PsfFlux_instFlux_Mean_z',\n",
       " 'base_PsfFlux_instFlux_Ndata_y',\n",
       " 'base_PsfFlux_instFlux_Sigma_y',\n",
       " 'base_PsfFlux_instFlux_MeanErr_y',\n",
       " 'base_PsfFlux_instFlux_Mean_y']"
      ]
     },
     "execution_count": 138,
     "metadata": {},
     "output_type": "execute_result"
    }
   ],
   "source": [
    "objs.colnames"
   ]
  },
  {
   "cell_type": "code",
   "execution_count": 157,
   "metadata": {
    "collapsed": true,
    "jupyter": {
     "outputs_hidden": true
    }
   },
   "outputs": [
    {
     "data": {
      "text/plain": [
       "['id',\n",
       " 'coord_ra',\n",
       " 'coord_dec',\n",
       " 'parent',\n",
       " 'flags_negative',\n",
       " 'base_NaiveCentroid_x',\n",
       " 'base_NaiveCentroid_y',\n",
       " 'base_NaiveCentroid_flag',\n",
       " 'base_NaiveCentroid_flag_noCounts',\n",
       " 'base_NaiveCentroid_flag_edge',\n",
       " 'base_NaiveCentroid_flag_resetToPeak',\n",
       " 'base_PeakCentroid_x',\n",
       " 'base_PeakCentroid_y',\n",
       " 'base_PeakCentroid_flag',\n",
       " 'base_SdssCentroid_x',\n",
       " 'base_SdssCentroid_y',\n",
       " 'base_SdssCentroid_xErr',\n",
       " 'base_SdssCentroid_yErr',\n",
       " 'base_SdssCentroid_flag',\n",
       " 'base_SdssCentroid_flag_edge',\n",
       " 'base_SdssCentroid_flag_noSecondDerivative',\n",
       " 'base_SdssCentroid_flag_almostNoSecondDerivative',\n",
       " 'base_SdssCentroid_flag_notAtMaximum',\n",
       " 'base_SdssCentroid_flag_resetToPeak',\n",
       " 'ip_diffim_NaiveDipoleCentroid_flag',\n",
       " 'base_CircularApertureFlux_flag_badCentroid',\n",
       " 'base_GaussianFlux_flag_badCentroid',\n",
       " 'base_NaiveCentroid_flag_badInitialCentroid',\n",
       " 'base_PeakLikelihoodFlux_flag_badCentroid',\n",
       " 'base_PsfFlux_flag_badCentroid',\n",
       " 'base_SdssCentroid_flag_badInitialCentroid',\n",
       " 'base_SdssShape_flag_badCentroid',\n",
       " 'slot_Centroid_flag',\n",
       " 'ip_diffim_NaiveDipoleCentroid_pos_flag',\n",
       " 'slot_Centroid_pos_flag',\n",
       " 'ip_diffim_NaiveDipoleCentroid_neg_flag',\n",
       " 'slot_Centroid_neg_flag',\n",
       " 'ip_diffim_NaiveDipoleCentroid_x',\n",
       " 'slot_Centroid_x',\n",
       " 'ip_diffim_NaiveDipoleCentroid_y',\n",
       " 'slot_Centroid_y',\n",
       " 'ip_diffim_NaiveDipoleCentroid_xErr',\n",
       " 'slot_Centroid_xErr',\n",
       " 'ip_diffim_NaiveDipoleCentroid_yErr',\n",
       " 'slot_Centroid_yErr',\n",
       " 'ip_diffim_NaiveDipoleCentroid_pos_x',\n",
       " 'slot_Centroid_pos_x',\n",
       " 'ip_diffim_NaiveDipoleCentroid_pos_y',\n",
       " 'slot_Centroid_pos_y',\n",
       " 'ip_diffim_NaiveDipoleCentroid_pos_xErr',\n",
       " 'slot_Centroid_pos_xErr',\n",
       " 'ip_diffim_NaiveDipoleCentroid_pos_yErr',\n",
       " 'slot_Centroid_pos_yErr',\n",
       " 'ip_diffim_NaiveDipoleCentroid_neg_x',\n",
       " 'slot_Centroid_neg_x',\n",
       " 'ip_diffim_NaiveDipoleCentroid_neg_y',\n",
       " 'slot_Centroid_neg_y',\n",
       " 'ip_diffim_NaiveDipoleCentroid_neg_xErr',\n",
       " 'slot_Centroid_neg_xErr',\n",
       " 'ip_diffim_NaiveDipoleCentroid_neg_yErr',\n",
       " 'slot_Centroid_neg_yErr',\n",
       " 'base_SdssShape_xx',\n",
       " 'slot_Shape_xx',\n",
       " 'base_SdssShape_yy',\n",
       " 'slot_Shape_yy',\n",
       " 'base_SdssShape_xy',\n",
       " 'slot_Shape_xy',\n",
       " 'base_SdssShape_xxErr',\n",
       " 'slot_Shape_xxErr',\n",
       " 'base_SdssShape_yyErr',\n",
       " 'slot_Shape_yyErr',\n",
       " 'base_SdssShape_xyErr',\n",
       " 'slot_Shape_xyErr',\n",
       " 'base_SdssShape_x',\n",
       " 'slot_Shape_x',\n",
       " 'base_SdssShape_y',\n",
       " 'slot_Shape_y',\n",
       " 'base_SdssShape_instFlux',\n",
       " 'slot_Shape_instFlux',\n",
       " 'base_SdssShape_instFluxErr',\n",
       " 'slot_Shape_instFluxErr',\n",
       " 'base_SdssShape_psf_xx',\n",
       " 'slot_PsfShape_xx',\n",
       " 'slot_Shape_psf_xx',\n",
       " 'base_SdssShape_psf_yy',\n",
       " 'slot_PsfShape_yy',\n",
       " 'slot_Shape_psf_yy',\n",
       " 'base_SdssShape_psf_xy',\n",
       " 'slot_PsfShape_xy',\n",
       " 'slot_Shape_psf_xy',\n",
       " 'base_SdssShape_instFlux_xx_Cov',\n",
       " 'slot_Shape_instFlux_xx_Cov',\n",
       " 'base_SdssShape_instFlux_yy_Cov',\n",
       " 'slot_Shape_instFlux_yy_Cov',\n",
       " 'base_SdssShape_instFlux_xy_Cov',\n",
       " 'slot_Shape_instFlux_xy_Cov',\n",
       " 'base_SdssShape_flag',\n",
       " 'base_GaussianFlux_flag_badShape',\n",
       " 'slot_Shape_flag',\n",
       " 'base_SdssShape_flag_unweightedBad',\n",
       " 'base_GaussianFlux_flag_badShape_unweightedBad',\n",
       " 'slot_Shape_flag_unweightedBad',\n",
       " 'base_SdssShape_flag_unweighted',\n",
       " 'base_GaussianFlux_flag_badShape_unweighted',\n",
       " 'slot_Shape_flag_unweighted',\n",
       " 'base_SdssShape_flag_shift',\n",
       " 'base_GaussianFlux_flag_badShape_shift',\n",
       " 'slot_Shape_flag_shift',\n",
       " 'base_SdssShape_flag_maxIter',\n",
       " 'base_GaussianFlux_flag_badShape_maxIter',\n",
       " 'slot_Shape_flag_maxIter',\n",
       " 'base_SdssShape_flag_psf',\n",
       " 'base_GaussianFlux_flag_badShape_psf',\n",
       " 'slot_Shape_flag_psf',\n",
       " 'base_CircularApertureFlux_3_0_instFlux',\n",
       " 'base_CircularApertureFlux_3_0_instFluxErr',\n",
       " 'base_CircularApertureFlux_3_0_flag',\n",
       " 'base_CircularApertureFlux_3_0_flag_apertureTruncated',\n",
       " 'base_CircularApertureFlux_3_0_flag_sincCoeffsTruncated',\n",
       " 'base_CircularApertureFlux_4_5_instFlux',\n",
       " 'base_CircularApertureFlux_4_5_instFluxErr',\n",
       " 'base_CircularApertureFlux_4_5_flag',\n",
       " 'base_CircularApertureFlux_4_5_flag_apertureTruncated',\n",
       " 'base_CircularApertureFlux_4_5_flag_sincCoeffsTruncated',\n",
       " 'base_CircularApertureFlux_6_0_instFlux',\n",
       " 'base_CircularApertureFlux_6_0_instFluxErr',\n",
       " 'base_CircularApertureFlux_6_0_flag',\n",
       " 'base_CircularApertureFlux_6_0_flag_apertureTruncated',\n",
       " 'base_CircularApertureFlux_6_0_flag_sincCoeffsTruncated',\n",
       " 'base_CircularApertureFlux_9_0_instFlux',\n",
       " 'base_CircularApertureFlux_9_0_instFluxErr',\n",
       " 'base_CircularApertureFlux_9_0_flag',\n",
       " 'base_CircularApertureFlux_9_0_flag_apertureTruncated',\n",
       " 'base_CircularApertureFlux_9_0_flag_sincCoeffsTruncated',\n",
       " 'base_CircularApertureFlux_12_0_instFlux',\n",
       " 'slot_ApFlux_instFlux',\n",
       " 'base_CircularApertureFlux_12_0_instFluxErr',\n",
       " 'slot_ApFlux_instFluxErr',\n",
       " 'base_CircularApertureFlux_12_0_flag',\n",
       " 'slot_ApFlux_flag',\n",
       " 'base_CircularApertureFlux_12_0_flag_apertureTruncated',\n",
       " 'slot_ApFlux_flag_apertureTruncated',\n",
       " 'base_CircularApertureFlux_17_0_instFlux',\n",
       " 'base_CircularApertureFlux_17_0_instFluxErr',\n",
       " 'base_CircularApertureFlux_17_0_flag',\n",
       " 'base_CircularApertureFlux_17_0_flag_apertureTruncated',\n",
       " 'base_CircularApertureFlux_25_0_instFlux',\n",
       " 'base_CircularApertureFlux_25_0_instFluxErr',\n",
       " 'base_CircularApertureFlux_25_0_flag',\n",
       " 'base_CircularApertureFlux_25_0_flag_apertureTruncated',\n",
       " 'base_CircularApertureFlux_35_0_instFlux',\n",
       " 'base_CircularApertureFlux_35_0_instFluxErr',\n",
       " 'base_CircularApertureFlux_35_0_flag',\n",
       " 'base_CircularApertureFlux_35_0_flag_apertureTruncated',\n",
       " 'base_CircularApertureFlux_50_0_instFlux',\n",
       " 'base_CircularApertureFlux_50_0_instFluxErr',\n",
       " 'base_CircularApertureFlux_50_0_flag',\n",
       " 'base_CircularApertureFlux_50_0_flag_apertureTruncated',\n",
       " 'base_CircularApertureFlux_70_0_instFlux',\n",
       " 'base_CircularApertureFlux_70_0_instFluxErr',\n",
       " 'base_CircularApertureFlux_70_0_flag',\n",
       " 'base_CircularApertureFlux_70_0_flag_apertureTruncated',\n",
       " 'base_GaussianFlux_instFlux',\n",
       " 'base_GaussianFlux_instFluxErr',\n",
       " 'base_GaussianFlux_flag',\n",
       " 'base_PeakLikelihoodFlux_instFlux',\n",
       " 'base_PeakLikelihoodFlux_instFluxErr',\n",
       " 'base_PeakLikelihoodFlux_flag',\n",
       " 'base_PixelFlags_flag',\n",
       " 'base_PixelFlags_flag_offimage',\n",
       " 'base_PixelFlags_flag_edge',\n",
       " 'base_PixelFlags_flag_interpolated',\n",
       " 'base_PixelFlags_flag_saturated',\n",
       " 'base_PixelFlags_flag_cr',\n",
       " 'base_PixelFlags_flag_bad',\n",
       " 'base_PixelFlags_flag_suspect',\n",
       " 'base_PixelFlags_flag_interpolatedCenter',\n",
       " 'base_PixelFlags_flag_saturatedCenter',\n",
       " 'base_PixelFlags_flag_crCenter',\n",
       " 'base_PixelFlags_flag_suspectCenter',\n",
       " 'base_PsfFlux_instFlux',\n",
       " 'slot_PsfFlux_instFlux',\n",
       " 'base_PsfFlux_instFluxErr',\n",
       " 'slot_PsfFlux_instFluxErr',\n",
       " 'base_PsfFlux_area',\n",
       " 'slot_PsfFlux_area',\n",
       " 'base_PsfFlux_flag',\n",
       " 'slot_PsfFlux_flag',\n",
       " 'base_PsfFlux_flag_noGoodPixels',\n",
       " 'slot_PsfFlux_flag_noGoodPixels',\n",
       " 'base_PsfFlux_flag_edge',\n",
       " 'slot_PsfFlux_flag_edge',\n",
       " 'ip_diffim_NaiveDipoleFlux_flag',\n",
       " 'ip_diffim_NaiveDipoleFlux_pos_flag',\n",
       " 'ip_diffim_NaiveDipoleFlux_neg_flag',\n",
       " 'ip_diffim_NaiveDipoleFlux_pos_instFlux',\n",
       " 'ip_diffim_NaiveDipoleFlux_pos_instFluxErr',\n",
       " 'ip_diffim_NaiveDipoleFlux_neg_instFlux',\n",
       " 'ip_diffim_NaiveDipoleFlux_neg_instFluxErr',\n",
       " 'ip_diffim_NaiveDipoleFlux_npos',\n",
       " 'ip_diffim_NaiveDipoleFlux_nneg',\n",
       " 'ip_diffim_PsfDipoleFlux_flag',\n",
       " 'ip_diffim_PsfDipoleFlux_pos_flag',\n",
       " 'ip_diffim_PsfDipoleFlux_neg_flag',\n",
       " 'ip_diffim_PsfDipoleFlux_pos_instFlux',\n",
       " 'ip_diffim_PsfDipoleFlux_pos_instFluxErr',\n",
       " 'ip_diffim_PsfDipoleFlux_neg_instFlux',\n",
       " 'ip_diffim_PsfDipoleFlux_neg_instFluxErr',\n",
       " 'ip_diffim_PsfDipoleFlux_chi2dof',\n",
       " 'ip_diffim_PsfDipoleFlux_pos_centroid_x',\n",
       " 'ip_diffim_PsfDipoleFlux_pos_centroid_y',\n",
       " 'ip_diffim_PsfDipoleFlux_pos_centroid_xErr',\n",
       " 'ip_diffim_PsfDipoleFlux_pos_centroid_yErr',\n",
       " 'ip_diffim_PsfDipoleFlux_neg_centroid_x',\n",
       " 'ip_diffim_PsfDipoleFlux_neg_centroid_y',\n",
       " 'ip_diffim_PsfDipoleFlux_neg_centroid_xErr',\n",
       " 'ip_diffim_PsfDipoleFlux_neg_centroid_yErr',\n",
       " 'ip_diffim_PsfDipoleFlux_centroid_x',\n",
       " 'ip_diffim_PsfDipoleFlux_centroid_y',\n",
       " 'ip_diffim_PsfDipoleFlux_centroid_xErr',\n",
       " 'ip_diffim_PsfDipoleFlux_centroid_yErr',\n",
       " 'ip_diffim_ClassificationDipole_value',\n",
       " 'ip_diffim_ClassificationDipole_flag',\n",
       " 'ip_diffim_DipoleFit_pos_instFlux',\n",
       " 'ip_diffim_DipoleFit_pos_instFluxErr',\n",
       " 'ip_diffim_DipoleFit_pos_centroid_x',\n",
       " 'ip_diffim_DipoleFit_pos_centroid_y',\n",
       " 'ip_diffim_DipoleFit_neg_instFlux',\n",
       " 'ip_diffim_DipoleFit_neg_instFluxErr',\n",
       " 'ip_diffim_DipoleFit_neg_centroid_x',\n",
       " 'ip_diffim_DipoleFit_neg_centroid_y',\n",
       " 'ip_diffim_DipoleFit_centroid_x',\n",
       " 'ip_diffim_DipoleFit_centroid_y',\n",
       " 'ip_diffim_DipoleFit_instFlux',\n",
       " 'ip_diffim_DipoleFit_orientation',\n",
       " 'ip_diffim_DipoleFit_separation',\n",
       " 'ip_diffim_DipoleFit_chi2dof',\n",
       " 'ip_diffim_DipoleFit_signalToNoise',\n",
       " 'ip_diffim_DipoleFit_flag_classification',\n",
       " 'ip_diffim_DipoleFit_flag_classificationAttempted',\n",
       " 'ip_diffim_DipoleFit_flag',\n",
       " 'ip_diffim_DipoleFit_flag_edge',\n",
       " 'ip_diffim_forced_PsfFlux_instFlux',\n",
       " 'ip_diffim_forced_PsfFlux_instFluxErr',\n",
       " 'ip_diffim_forced_PsfFlux_area',\n",
       " 'ip_diffim_forced_PsfFlux_flag',\n",
       " 'ip_diffim_forced_PsfFlux_flag_noGoodPixels',\n",
       " 'ip_diffim_forced_PsfFlux_flag_edge',\n",
       " 'visit_n',\n",
       " 'filter',\n",
       " 'raft',\n",
       " 'sensor',\n",
       " 'detector']"
      ]
     },
     "execution_count": 157,
     "metadata": {},
     "output_type": "execute_result"
    }
   ],
   "source": [
    "mastercat.colnames"
   ]
  },
  {
   "cell_type": "code",
   "execution_count": 156,
   "metadata": {},
   "outputs": [
    {
     "data": {
      "text/html": [
       "<i>Table length=10</i>\n",
       "<table id=\"table46928023843600\" class=\"table-striped table-bordered table-condensed\">\n",
       "<thead><tr><th>id</th><th>coord_ra</th><th>coord_dec</th><th>parent</th><th>flags_negative</th><th>base_NaiveCentroid_x</th><th>base_NaiveCentroid_y</th><th>base_NaiveCentroid_flag</th><th>base_NaiveCentroid_flag_noCounts</th><th>base_NaiveCentroid_flag_edge</th><th>base_NaiveCentroid_flag_resetToPeak</th><th>base_PeakCentroid_x</th><th>base_PeakCentroid_y</th><th>base_PeakCentroid_flag</th><th>base_SdssCentroid_x</th><th>base_SdssCentroid_y</th><th>base_SdssCentroid_xErr</th><th>base_SdssCentroid_yErr</th><th>base_SdssCentroid_flag</th><th>base_SdssCentroid_flag_edge</th><th>base_SdssCentroid_flag_noSecondDerivative</th><th>base_SdssCentroid_flag_almostNoSecondDerivative</th><th>base_SdssCentroid_flag_notAtMaximum</th><th>base_SdssCentroid_flag_resetToPeak</th><th>ip_diffim_NaiveDipoleCentroid_flag</th><th>base_CircularApertureFlux_flag_badCentroid</th><th>base_GaussianFlux_flag_badCentroid</th><th>base_NaiveCentroid_flag_badInitialCentroid</th><th>base_PeakLikelihoodFlux_flag_badCentroid</th><th>base_PsfFlux_flag_badCentroid</th><th>base_SdssCentroid_flag_badInitialCentroid</th><th>base_SdssShape_flag_badCentroid</th><th>slot_Centroid_flag</th><th>ip_diffim_NaiveDipoleCentroid_pos_flag</th><th>slot_Centroid_pos_flag</th><th>ip_diffim_NaiveDipoleCentroid_neg_flag</th><th>slot_Centroid_neg_flag</th><th>ip_diffim_NaiveDipoleCentroid_x</th><th>slot_Centroid_x</th><th>ip_diffim_NaiveDipoleCentroid_y</th><th>slot_Centroid_y</th><th>ip_diffim_NaiveDipoleCentroid_xErr</th><th>slot_Centroid_xErr</th><th>ip_diffim_NaiveDipoleCentroid_yErr</th><th>slot_Centroid_yErr</th><th>ip_diffim_NaiveDipoleCentroid_pos_x</th><th>slot_Centroid_pos_x</th><th>ip_diffim_NaiveDipoleCentroid_pos_y</th><th>slot_Centroid_pos_y</th><th>ip_diffim_NaiveDipoleCentroid_pos_xErr</th><th>slot_Centroid_pos_xErr</th><th>ip_diffim_NaiveDipoleCentroid_pos_yErr</th><th>slot_Centroid_pos_yErr</th><th>ip_diffim_NaiveDipoleCentroid_neg_x</th><th>slot_Centroid_neg_x</th><th>ip_diffim_NaiveDipoleCentroid_neg_y</th><th>slot_Centroid_neg_y</th><th>ip_diffim_NaiveDipoleCentroid_neg_xErr</th><th>slot_Centroid_neg_xErr</th><th>ip_diffim_NaiveDipoleCentroid_neg_yErr</th><th>slot_Centroid_neg_yErr</th><th>base_SdssShape_xx</th><th>slot_Shape_xx</th><th>base_SdssShape_yy</th><th>slot_Shape_yy</th><th>base_SdssShape_xy</th><th>slot_Shape_xy</th><th>base_SdssShape_xxErr</th><th>slot_Shape_xxErr</th><th>base_SdssShape_yyErr</th><th>slot_Shape_yyErr</th><th>base_SdssShape_xyErr</th><th>slot_Shape_xyErr</th><th>base_SdssShape_x</th><th>slot_Shape_x</th><th>base_SdssShape_y</th><th>slot_Shape_y</th><th>base_SdssShape_instFlux</th><th>slot_Shape_instFlux</th><th>base_SdssShape_instFluxErr</th><th>slot_Shape_instFluxErr</th><th>base_SdssShape_psf_xx</th><th>slot_PsfShape_xx</th><th>slot_Shape_psf_xx</th><th>base_SdssShape_psf_yy</th><th>slot_PsfShape_yy</th><th>slot_Shape_psf_yy</th><th>base_SdssShape_psf_xy</th><th>slot_PsfShape_xy</th><th>slot_Shape_psf_xy</th><th>base_SdssShape_instFlux_xx_Cov</th><th>slot_Shape_instFlux_xx_Cov</th><th>base_SdssShape_instFlux_yy_Cov</th><th>slot_Shape_instFlux_yy_Cov</th><th>base_SdssShape_instFlux_xy_Cov</th><th>slot_Shape_instFlux_xy_Cov</th><th>base_SdssShape_flag</th><th>base_GaussianFlux_flag_badShape</th><th>slot_Shape_flag</th><th>base_SdssShape_flag_unweightedBad</th><th>base_GaussianFlux_flag_badShape_unweightedBad</th><th>slot_Shape_flag_unweightedBad</th><th>base_SdssShape_flag_unweighted</th><th>base_GaussianFlux_flag_badShape_unweighted</th><th>slot_Shape_flag_unweighted</th><th>base_SdssShape_flag_shift</th><th>base_GaussianFlux_flag_badShape_shift</th><th>slot_Shape_flag_shift</th><th>base_SdssShape_flag_maxIter</th><th>base_GaussianFlux_flag_badShape_maxIter</th><th>slot_Shape_flag_maxIter</th><th>base_SdssShape_flag_psf</th><th>base_GaussianFlux_flag_badShape_psf</th><th>slot_Shape_flag_psf</th><th>base_CircularApertureFlux_3_0_instFlux</th><th>base_CircularApertureFlux_3_0_instFluxErr</th><th>base_CircularApertureFlux_3_0_flag</th><th>base_CircularApertureFlux_3_0_flag_apertureTruncated</th><th>base_CircularApertureFlux_3_0_flag_sincCoeffsTruncated</th><th>base_CircularApertureFlux_4_5_instFlux</th><th>base_CircularApertureFlux_4_5_instFluxErr</th><th>base_CircularApertureFlux_4_5_flag</th><th>base_CircularApertureFlux_4_5_flag_apertureTruncated</th><th>base_CircularApertureFlux_4_5_flag_sincCoeffsTruncated</th><th>base_CircularApertureFlux_6_0_instFlux</th><th>base_CircularApertureFlux_6_0_instFluxErr</th><th>base_CircularApertureFlux_6_0_flag</th><th>base_CircularApertureFlux_6_0_flag_apertureTruncated</th><th>base_CircularApertureFlux_6_0_flag_sincCoeffsTruncated</th><th>base_CircularApertureFlux_9_0_instFlux</th><th>base_CircularApertureFlux_9_0_instFluxErr</th><th>base_CircularApertureFlux_9_0_flag</th><th>base_CircularApertureFlux_9_0_flag_apertureTruncated</th><th>base_CircularApertureFlux_9_0_flag_sincCoeffsTruncated</th><th>base_CircularApertureFlux_12_0_instFlux</th><th>slot_ApFlux_instFlux</th><th>base_CircularApertureFlux_12_0_instFluxErr</th><th>slot_ApFlux_instFluxErr</th><th>base_CircularApertureFlux_12_0_flag</th><th>slot_ApFlux_flag</th><th>base_CircularApertureFlux_12_0_flag_apertureTruncated</th><th>slot_ApFlux_flag_apertureTruncated</th><th>base_CircularApertureFlux_17_0_instFlux</th><th>base_CircularApertureFlux_17_0_instFluxErr</th><th>base_CircularApertureFlux_17_0_flag</th><th>base_CircularApertureFlux_17_0_flag_apertureTruncated</th><th>base_CircularApertureFlux_25_0_instFlux</th><th>base_CircularApertureFlux_25_0_instFluxErr</th><th>base_CircularApertureFlux_25_0_flag</th><th>base_CircularApertureFlux_25_0_flag_apertureTruncated</th><th>base_CircularApertureFlux_35_0_instFlux</th><th>base_CircularApertureFlux_35_0_instFluxErr</th><th>base_CircularApertureFlux_35_0_flag</th><th>base_CircularApertureFlux_35_0_flag_apertureTruncated</th><th>base_CircularApertureFlux_50_0_instFlux</th><th>base_CircularApertureFlux_50_0_instFluxErr</th><th>base_CircularApertureFlux_50_0_flag</th><th>base_CircularApertureFlux_50_0_flag_apertureTruncated</th><th>base_CircularApertureFlux_70_0_instFlux</th><th>base_CircularApertureFlux_70_0_instFluxErr</th><th>base_CircularApertureFlux_70_0_flag</th><th>base_CircularApertureFlux_70_0_flag_apertureTruncated</th><th>base_GaussianFlux_instFlux</th><th>base_GaussianFlux_instFluxErr</th><th>base_GaussianFlux_flag</th><th>base_PeakLikelihoodFlux_instFlux</th><th>base_PeakLikelihoodFlux_instFluxErr</th><th>base_PeakLikelihoodFlux_flag</th><th>base_PixelFlags_flag</th><th>base_PixelFlags_flag_offimage</th><th>base_PixelFlags_flag_edge</th><th>base_PixelFlags_flag_interpolated</th><th>base_PixelFlags_flag_saturated</th><th>base_PixelFlags_flag_cr</th><th>base_PixelFlags_flag_bad</th><th>base_PixelFlags_flag_suspect</th><th>base_PixelFlags_flag_interpolatedCenter</th><th>base_PixelFlags_flag_saturatedCenter</th><th>base_PixelFlags_flag_crCenter</th><th>base_PixelFlags_flag_suspectCenter</th><th>base_PsfFlux_instFlux</th><th>slot_PsfFlux_instFlux</th><th>base_PsfFlux_instFluxErr</th><th>slot_PsfFlux_instFluxErr</th><th>base_PsfFlux_area</th><th>slot_PsfFlux_area</th><th>base_PsfFlux_flag</th><th>slot_PsfFlux_flag</th><th>base_PsfFlux_flag_noGoodPixels</th><th>slot_PsfFlux_flag_noGoodPixels</th><th>base_PsfFlux_flag_edge</th><th>slot_PsfFlux_flag_edge</th><th>ip_diffim_NaiveDipoleFlux_flag</th><th>ip_diffim_NaiveDipoleFlux_pos_flag</th><th>ip_diffim_NaiveDipoleFlux_neg_flag</th><th>ip_diffim_NaiveDipoleFlux_pos_instFlux</th><th>ip_diffim_NaiveDipoleFlux_pos_instFluxErr</th><th>ip_diffim_NaiveDipoleFlux_neg_instFlux</th><th>ip_diffim_NaiveDipoleFlux_neg_instFluxErr</th><th>ip_diffim_NaiveDipoleFlux_npos</th><th>ip_diffim_NaiveDipoleFlux_nneg</th><th>ip_diffim_PsfDipoleFlux_flag</th><th>ip_diffim_PsfDipoleFlux_pos_flag</th><th>ip_diffim_PsfDipoleFlux_neg_flag</th><th>ip_diffim_PsfDipoleFlux_pos_instFlux</th><th>ip_diffim_PsfDipoleFlux_pos_instFluxErr</th><th>ip_diffim_PsfDipoleFlux_neg_instFlux</th><th>ip_diffim_PsfDipoleFlux_neg_instFluxErr</th><th>ip_diffim_PsfDipoleFlux_chi2dof</th><th>ip_diffim_PsfDipoleFlux_pos_centroid_x</th><th>ip_diffim_PsfDipoleFlux_pos_centroid_y</th><th>ip_diffim_PsfDipoleFlux_pos_centroid_xErr</th><th>ip_diffim_PsfDipoleFlux_pos_centroid_yErr</th><th>ip_diffim_PsfDipoleFlux_neg_centroid_x</th><th>ip_diffim_PsfDipoleFlux_neg_centroid_y</th><th>ip_diffim_PsfDipoleFlux_neg_centroid_xErr</th><th>ip_diffim_PsfDipoleFlux_neg_centroid_yErr</th><th>ip_diffim_PsfDipoleFlux_centroid_x</th><th>ip_diffim_PsfDipoleFlux_centroid_y</th><th>ip_diffim_PsfDipoleFlux_centroid_xErr</th><th>ip_diffim_PsfDipoleFlux_centroid_yErr</th><th>ip_diffim_ClassificationDipole_value</th><th>ip_diffim_ClassificationDipole_flag</th><th>ip_diffim_DipoleFit_pos_instFlux</th><th>ip_diffim_DipoleFit_pos_instFluxErr</th><th>ip_diffim_DipoleFit_pos_centroid_x</th><th>ip_diffim_DipoleFit_pos_centroid_y</th><th>ip_diffim_DipoleFit_neg_instFlux</th><th>ip_diffim_DipoleFit_neg_instFluxErr</th><th>ip_diffim_DipoleFit_neg_centroid_x</th><th>ip_diffim_DipoleFit_neg_centroid_y</th><th>ip_diffim_DipoleFit_centroid_x</th><th>ip_diffim_DipoleFit_centroid_y</th><th>ip_diffim_DipoleFit_instFlux</th><th>ip_diffim_DipoleFit_orientation</th><th>ip_diffim_DipoleFit_separation</th><th>ip_diffim_DipoleFit_chi2dof</th><th>ip_diffim_DipoleFit_signalToNoise</th><th>ip_diffim_DipoleFit_flag_classification</th><th>ip_diffim_DipoleFit_flag_classificationAttempted</th><th>ip_diffim_DipoleFit_flag</th><th>ip_diffim_DipoleFit_flag_edge</th><th>ip_diffim_forced_PsfFlux_instFlux</th><th>ip_diffim_forced_PsfFlux_instFluxErr</th><th>ip_diffim_forced_PsfFlux_area</th><th>ip_diffim_forced_PsfFlux_flag</th><th>ip_diffim_forced_PsfFlux_flag_noGoodPixels</th><th>ip_diffim_forced_PsfFlux_flag_edge</th><th>visit_n</th><th>filter</th><th>raft</th><th>sensor</th><th>detector</th></tr></thead>\n",
       "<thead><tr><th></th><th>rad</th><th>rad</th><th></th><th></th><th>pix</th><th>pix</th><th></th><th></th><th></th><th></th><th>pix</th><th>pix</th><th></th><th>pix</th><th>pix</th><th>pix</th><th>pix</th><th></th><th></th><th></th><th></th><th></th><th></th><th></th><th></th><th></th><th></th><th></th><th></th><th></th><th></th><th></th><th></th><th></th><th></th><th></th><th>pix</th><th>pix</th><th>pix</th><th>pix</th><th>pix</th><th>pix</th><th>pix</th><th>pix</th><th>pix</th><th>pix</th><th>pix</th><th>pix</th><th>pix</th><th>pix</th><th>pix</th><th>pix</th><th>pix</th><th>pix</th><th>pix</th><th>pix</th><th>pix</th><th>pix</th><th>pix</th><th>pix</th><th>pix2</th><th>pix2</th><th>pix2</th><th>pix2</th><th>pix2</th><th>pix2</th><th>pix2</th><th>pix2</th><th>pix2</th><th>pix2</th><th>pix2</th><th>pix2</th><th>pix</th><th>pix</th><th>pix</th><th>pix</th><th>ct</th><th>ct</th><th>ct</th><th>ct</th><th>pix2</th><th>pix2</th><th>pix2</th><th>pix2</th><th>pix2</th><th>pix2</th><th>pix2</th><th>pix2</th><th>pix2</th><th>ct pix2</th><th>ct pix2</th><th>ct pix2</th><th>ct pix2</th><th>ct pix2</th><th>ct pix2</th><th></th><th></th><th></th><th></th><th></th><th></th><th></th><th></th><th></th><th></th><th></th><th></th><th></th><th></th><th></th><th></th><th></th><th></th><th>ct</th><th>ct</th><th></th><th></th><th></th><th>ct</th><th>ct</th><th></th><th></th><th></th><th>ct</th><th>ct</th><th></th><th></th><th></th><th>ct</th><th>ct</th><th></th><th></th><th></th><th>ct</th><th>ct</th><th>ct</th><th>ct</th><th></th><th></th><th></th><th></th><th>ct</th><th>ct</th><th></th><th></th><th>ct</th><th>ct</th><th></th><th></th><th>ct</th><th>ct</th><th></th><th></th><th>ct</th><th>ct</th><th></th><th></th><th>ct</th><th>ct</th><th></th><th></th><th>ct</th><th>ct</th><th></th><th>ct</th><th>ct</th><th></th><th></th><th></th><th></th><th></th><th></th><th></th><th></th><th></th><th></th><th></th><th></th><th></th><th>ct</th><th>ct</th><th>ct</th><th>ct</th><th>pix</th><th>pix</th><th></th><th></th><th></th><th></th><th></th><th></th><th></th><th></th><th></th><th>ct</th><th>ct</th><th>ct</th><th>ct</th><th>ct</th><th>ct</th><th></th><th></th><th></th><th>ct</th><th>ct</th><th>ct</th><th>ct</th><th></th><th>pix</th><th>pix</th><th>pix</th><th>pix</th><th>pix</th><th>pix</th><th>pix</th><th>pix</th><th>pix</th><th>pix</th><th>pix</th><th>pix</th><th></th><th></th><th>ct</th><th>pix</th><th>pix</th><th>pix</th><th>ct</th><th>pix</th><th>pix</th><th>pix</th><th>pix</th><th>pix</th><th>ct</th><th>deg</th><th>pix</th><th></th><th></th><th></th><th></th><th></th><th></th><th></th><th></th><th>pix</th><th></th><th></th><th></th><th></th><th></th><th></th><th></th><th></th></tr></thead>\n",
       "<thead><tr><th>int64</th><th>float64</th><th>float64</th><th>int64</th><th>bool</th><th>float64</th><th>float64</th><th>bool</th><th>bool</th><th>bool</th><th>bool</th><th>float64</th><th>float64</th><th>bool</th><th>float64</th><th>float64</th><th>float32</th><th>float32</th><th>bool</th><th>bool</th><th>bool</th><th>bool</th><th>bool</th><th>bool</th><th>bool</th><th>bool</th><th>bool</th><th>bool</th><th>bool</th><th>bool</th><th>bool</th><th>bool</th><th>bool</th><th>bool</th><th>bool</th><th>bool</th><th>bool</th><th>float64</th><th>float64</th><th>float64</th><th>float64</th><th>float32</th><th>float32</th><th>float32</th><th>float32</th><th>float64</th><th>float64</th><th>float64</th><th>float64</th><th>float32</th><th>float32</th><th>float32</th><th>float32</th><th>float64</th><th>float64</th><th>float64</th><th>float64</th><th>float32</th><th>float32</th><th>float32</th><th>float32</th><th>float64</th><th>float64</th><th>float64</th><th>float64</th><th>float64</th><th>float64</th><th>float32</th><th>float32</th><th>float32</th><th>float32</th><th>float32</th><th>float32</th><th>float64</th><th>float64</th><th>float64</th><th>float64</th><th>float64</th><th>float64</th><th>float64</th><th>float64</th><th>float64</th><th>float64</th><th>float64</th><th>float64</th><th>float64</th><th>float64</th><th>float64</th><th>float64</th><th>float64</th><th>float32</th><th>float32</th><th>float32</th><th>float32</th><th>float32</th><th>float32</th><th>bool</th><th>bool</th><th>bool</th><th>bool</th><th>bool</th><th>bool</th><th>bool</th><th>bool</th><th>bool</th><th>bool</th><th>bool</th><th>bool</th><th>bool</th><th>bool</th><th>bool</th><th>bool</th><th>bool</th><th>bool</th><th>float64</th><th>float64</th><th>bool</th><th>bool</th><th>bool</th><th>float64</th><th>float64</th><th>bool</th><th>bool</th><th>bool</th><th>float64</th><th>float64</th><th>bool</th><th>bool</th><th>bool</th><th>float64</th><th>float64</th><th>bool</th><th>bool</th><th>bool</th><th>float64</th><th>float64</th><th>float64</th><th>float64</th><th>bool</th><th>bool</th><th>bool</th><th>bool</th><th>float64</th><th>float64</th><th>bool</th><th>bool</th><th>float64</th><th>float64</th><th>bool</th><th>bool</th><th>float64</th><th>float64</th><th>bool</th><th>bool</th><th>float64</th><th>float64</th><th>bool</th><th>bool</th><th>float64</th><th>float64</th><th>bool</th><th>bool</th><th>float64</th><th>float64</th><th>bool</th><th>float64</th><th>float64</th><th>bool</th><th>bool</th><th>bool</th><th>bool</th><th>bool</th><th>bool</th><th>bool</th><th>bool</th><th>bool</th><th>bool</th><th>bool</th><th>bool</th><th>bool</th><th>float64</th><th>float64</th><th>float64</th><th>float64</th><th>float32</th><th>float32</th><th>bool</th><th>bool</th><th>bool</th><th>bool</th><th>bool</th><th>bool</th><th>bool</th><th>bool</th><th>bool</th><th>float64</th><th>float64</th><th>float64</th><th>float64</th><th>int32</th><th>int32</th><th>bool</th><th>bool</th><th>bool</th><th>float64</th><th>float64</th><th>float64</th><th>float64</th><th>float32</th><th>float64</th><th>float64</th><th>float32</th><th>float32</th><th>float64</th><th>float64</th><th>float32</th><th>float32</th><th>float64</th><th>float64</th><th>float32</th><th>float32</th><th>float64</th><th>bool</th><th>float64</th><th>float64</th><th>float64</th><th>float64</th><th>float64</th><th>float64</th><th>float64</th><th>float64</th><th>float64</th><th>float64</th><th>float64</th><th>float64</th><th>float64</th><th>float64</th><th>float64</th><th>bool</th><th>bool</th><th>bool</th><th>bool</th><th>float64</th><th>float64</th><th>float32</th><th>bool</th><th>bool</th><th>bool</th><th>int64</th><th>str1</th><th>str3</th><th>str3</th><th>int64</th></tr></thead>\n",
       "<tr><td>890679915970564</td><td>1.0147966141822933</td><td>-0.5403264646029813</td><td>0</td><td>False</td><td>463.0769792947652</td><td>2265.6874500949207</td><td>False</td><td>False</td><td>False</td><td>False</td><td>463.0</td><td>2267.0</td><td>False</td><td>463.0</td><td>2267.0</td><td>nan</td><td>nan</td><td>True</td><td>False</td><td>False</td><td>False</td><td>False</td><td>True</td><td>False</td><td>False</td><td>False</td><td>False</td><td>False</td><td>False</td><td>False</td><td>False</td><td>False</td><td>False</td><td>False</td><td>False</td><td>False</td><td>463.4324645996094</td><td>463.4324645996094</td><td>2266.365966796875</td><td>2266.365966796875</td><td>nan</td><td>nan</td><td>nan</td><td>nan</td><td>463.4324645996094</td><td>463.4324645996094</td><td>2266.365966796875</td><td>2266.365966796875</td><td>nan</td><td>nan</td><td>nan</td><td>nan</td><td>nan</td><td>nan</td><td>nan</td><td>nan</td><td>nan</td><td>nan</td><td>nan</td><td>nan</td><td>8.362243190438052</td><td>8.362243190438052</td><td>8.347327644110964</td><td>8.347327644110964</td><td>-0.39455618681558896</td><td>-0.39455618681558896</td><td>nan</td><td>nan</td><td>nan</td><td>nan</td><td>nan</td><td>nan</td><td>464.1278715984877</td><td>464.1278715984877</td><td>2266.0161683172128</td><td>2266.0161683172128</td><td>nan</td><td>nan</td><td>nan</td><td>nan</td><td>7.101871968583608</td><td>7.101871968583608</td><td>7.101871968583608</td><td>7.093130188700605</td><td>7.093130188700605</td><td>7.093130188700605</td><td>-0.030081353552100936</td><td>-0.030081353552100936</td><td>-0.030081353552100936</td><td>nan</td><td>nan</td><td>nan</td><td>nan</td><td>nan</td><td>nan</td><td>True</td><td>True</td><td>True</td><td>False</td><td>False</td><td>False</td><td>True</td><td>True</td><td>True</td><td>False</td><td>False</td><td>False</td><td>False</td><td>False</td><td>False</td><td>False</td><td>False</td><td>False</td><td>2673.814453125</td><td>448.71649169921875</td><td>False</td><td>False</td><td>False</td><td>nan</td><td>nan</td><td>False</td><td>False</td><td>False</td><td>nan</td><td>nan</td><td>False</td><td>False</td><td>False</td><td>nan</td><td>nan</td><td>False</td><td>False</td><td>False</td><td>nan</td><td>nan</td><td>nan</td><td>nan</td><td>False</td><td>False</td><td>False</td><td>False</td><td>nan</td><td>nan</td><td>False</td><td>False</td><td>nan</td><td>nan</td><td>False</td><td>False</td><td>nan</td><td>nan</td><td>False</td><td>False</td><td>nan</td><td>nan</td><td>False</td><td>False</td><td>nan</td><td>nan</td><td>False</td><td>False</td><td>8284.829948262544</td><td>888.5290838529932</td><td>False</td><td>13401.295235220448</td><td>7549.143874795857</td><td>False</td><td>False</td><td>False</td><td>False</td><td>False</td><td>False</td><td>False</td><td>False</td><td>False</td><td>False</td><td>False</td><td>False</td><td>False</td><td>nan</td><td>nan</td><td>nan</td><td>nan</td><td>102.88659</td><td>102.88659</td><td>True</td><td>True</td><td>False</td><td>False</td><td>False</td><td>False</td><td>False</td><td>False</td><td>False</td><td>20229.11771583557</td><td>142.22910291440206</td><td>-5753.074146896601</td><td>nan</td><td>179</td><td>86</td><td>False</td><td>False</td><td>False</td><td>79.29264831542969</td><td>1.4142135623730951</td><td>70.4001235961914</td><td>1.4142135623730951</td><td>2.0436523</td><td>463.0</td><td>2267.0</td><td>nan</td><td>nan</td><td>464.0</td><td>2270.0</td><td>nan</td><td>nan</td><td>463.5</td><td>2268.5</td><td>nan</td><td>nan</td><td>0.0</td><td>False</td><td>nan</td><td>nan</td><td>nan</td><td>nan</td><td>nan</td><td>nan</td><td>nan</td><td>nan</td><td>nan</td><td>nan</td><td>nan</td><td>nan</td><td>nan</td><td>nan</td><td>nan</td><td>False</td><td>False</td><td>True</td><td>False</td><td>544062.7442200622</td><td>876.8193233080431</td><td>102.88659</td><td>False</td><td>False</td><td>False</td><td>13272</td><td>z</td><td>R41</td><td>S10</td><td>165</td></tr>\n",
       "<tr><td>890679915970565</td><td>1.0143546744003584</td><td>-0.541870080491886</td><td>0</td><td>False</td><td>790.6936499012803</td><td>3876.119673351306</td><td>False</td><td>False</td><td>False</td><td>False</td><td>798.0</td><td>3878.0</td><td>False</td><td>791.8170873351063</td><td>3876.098646403827</td><td>nan</td><td>nan</td><td>True</td><td>False</td><td>False</td><td>False</td><td>True</td><td>False</td><td>False</td><td>False</td><td>False</td><td>False</td><td>False</td><td>False</td><td>False</td><td>False</td><td>False</td><td>False</td><td>False</td><td>False</td><td>False</td><td>791.8170873351063</td><td>791.8170873351063</td><td>3876.098646403827</td><td>3876.098646403827</td><td>nan</td><td>nan</td><td>nan</td><td>nan</td><td>797.8270263671875</td><td>797.8270263671875</td><td>3877.904296875</td><td>3877.904296875</td><td>nan</td><td>nan</td><td>nan</td><td>nan</td><td>787.9994506835938</td><td>787.9994506835938</td><td>3874.95166015625</td><td>3874.95166015625</td><td>nan</td><td>nan</td><td>nan</td><td>nan</td><td>nan</td><td>nan</td><td>nan</td><td>nan</td><td>nan</td><td>nan</td><td>nan</td><td>nan</td><td>nan</td><td>nan</td><td>nan</td><td>nan</td><td>nan</td><td>nan</td><td>nan</td><td>nan</td><td>nan</td><td>nan</td><td>nan</td><td>nan</td><td>7.117390134796115</td><td>7.117390134796115</td><td>7.117390134796115</td><td>7.223681581292612</td><td>7.223681581292612</td><td>7.223681581292612</td><td>-0.17940794546049493</td><td>-0.17940794546049493</td><td>-0.17940794546049493</td><td>nan</td><td>nan</td><td>nan</td><td>nan</td><td>nan</td><td>nan</td><td>True</td><td>True</td><td>True</td><td>True</td><td>True</td><td>True</td><td>False</td><td>False</td><td>False</td><td>False</td><td>False</td><td>False</td><td>False</td><td>False</td><td>False</td><td>False</td><td>False</td><td>False</td><td>-11704.5419921875</td><td>615.042236328125</td><td>False</td><td>False</td><td>False</td><td>-19800.35546875</td><td>973.3704833984375</td><td>False</td><td>False</td><td>False</td><td>-18184.828125</td><td>1359.240966796875</td><td>False</td><td>False</td><td>False</td><td>-25552.51171875</td><td>2004.62939453125</td><td>False</td><td>False</td><td>False</td><td>-28502.45380795002</td><td>-28502.45380795002</td><td>2443.1427090685884</td><td>2443.1427090685884</td><td>False</td><td>False</td><td>False</td><td>False</td><td>-6669.504133164883</td><td>3067.940304728713</td><td>False</td><td>False</td><td>15449.562716841698</td><td>4134.248880351484</td><td>False</td><td>False</td><td>23894.575873943977</td><td>5542.907530978003</td><td>False</td><td>False</td><td>19836.380222122185</td><td>7725.145490008384</td><td>False</td><td>False</td><td>16552.240305209067</td><td>10686.889576797364</td><td>False</td><td>False</td><td>nan</td><td>nan</td><td>True</td><td>-40253.31477753904</td><td>11250.27833400024</td><td>False</td><td>False</td><td>False</td><td>False</td><td>False</td><td>False</td><td>False</td><td>False</td><td>False</td><td>False</td><td>False</td><td>False</td><td>False</td><td>-24524.62098880879</td><td>-24524.62098880879</td><td>1212.8066636341812</td><td>1212.8066636341812</td><td>102.29855</td><td>102.29855</td><td>False</td><td>False</td><td>False</td><td>False</td><td>False</td><td>False</td><td>False</td><td>False</td><td>False</td><td>151068.55761635303</td><td>388.6753884880712</td><td>-135830.24069324136</td><td>nan</td><td>965</td><td>696</td><td>False</td><td>False</td><td>False</td><td>33859.749156536156</td><td>1105.6196555713864</td><td>-57785.26629305001</td><td>961.0863978830016</td><td>3.5108454</td><td>797.290288667452</td><td>3877.376525233532</td><td>nan</td><td>nan</td><td>787.911870682489</td><td>3874.270615326859</td><td>nan</td><td>nan</td><td>792.6010796749706</td><td>3875.823570280196</td><td>nan</td><td>nan</td><td>1.0</td><td>False</td><td>1831760.3912195326</td><td>7920.509373492444</td><td>795.5529407582641</td><td>3871.2733851925886</td><td>-1831760.3912195326</td><td>7920.509373492444</td><td>795.5454565798783</td><td>3871.271017158644</td><td>795.5491986690712</td><td>3871.2722011756164</td><td>1831760.3912195326</td><td>17.557649017482078</td><td>0.007849873302959106</td><td>137265.8275786463</td><td>7920.509373492444</td><td>True</td><td>True</td><td>False</td><td>False</td><td>1065644.71000718</td><td>1210.7584337865678</td><td>102.29855</td><td>False</td><td>False</td><td>False</td><td>13272</td><td>z</td><td>R41</td><td>S10</td><td>165</td></tr>\n",
       "<tr><td>890680117297174</td><td>1.0141793956656395</td><td>-0.5432059315761111</td><td>0</td><td>False</td><td>1234.0271041173978</td><td>965.0526794485938</td><td>False</td><td>False</td><td>False</td><td>False</td><td>1234.0</td><td>965.0</td><td>False</td><td>1234.1941464279055</td><td>965.4291216693516</td><td>0.0033620202</td><td>0.0032603047</td><td>False</td><td>False</td><td>False</td><td>False</td><td>False</td><td>False</td><td>False</td><td>False</td><td>False</td><td>False</td><td>False</td><td>False</td><td>False</td><td>False</td><td>False</td><td>False</td><td>False</td><td>False</td><td>False</td><td>1234.027099609375</td><td>1234.027099609375</td><td>965.0526733398438</td><td>965.0526733398438</td><td>nan</td><td>nan</td><td>nan</td><td>nan</td><td>1234.027099609375</td><td>1234.027099609375</td><td>965.0526733398438</td><td>965.0526733398438</td><td>nan</td><td>nan</td><td>nan</td><td>nan</td><td>nan</td><td>nan</td><td>nan</td><td>nan</td><td>nan</td><td>nan</td><td>nan</td><td>nan</td><td>5.350488529440656</td><td>5.350488529440656</td><td>5.2350343746497945</td><td>5.2350343746497945</td><td>-0.06862899376779308</td><td>-0.06862899376779308</td><td>0.016495006</td><td>0.016495006</td><td>0.011538172</td><td>0.011538172</td><td>0.016139071</td><td>0.016139071</td><td>1234.1130208700758</td><td>1234.1130208700758</td><td>965.2400063738667</td><td>965.2400063738667</td><td>3720863.687366128</td><td>3720863.687366128</td><td>5735.51953684446</td><td>5735.51953684446</td><td>7.055669425870874</td><td>7.055669425870874</td><td>7.055669425870874</td><td>7.125924833954821</td><td>7.125924833954821</td><td>7.125924833954821</td><td>-0.058973458865489624</td><td>-0.058973458865489624</td><td>-0.058973458865489624</td><td>-47.303715</td><td>-47.303715</td><td>0.6067495</td><td>0.6067495</td><td>-46.28298</td><td>-46.28298</td><td>False</td><td>False</td><td>False</td><td>False</td><td>False</td><td>False</td><td>False</td><td>False</td><td>False</td><td>False</td><td>False</td><td>False</td><td>False</td><td>False</td><td>False</td><td>False</td><td>False</td><td>False</td><td>2138896.75</td><td>2167.568603515625</td><td>False</td><td>False</td><td>False</td><td>3153707.0</td><td>2755.711669921875</td><td>False</td><td>False</td><td>False</td><td>3601264.75</td><td>3084.006591796875</td><td>False</td><td>False</td><td>False</td><td>3845197.5</td><td>3414.211181640625</td><td>False</td><td>False</td><td>False</td><td>3913403.387302637</td><td>3913403.387302637</td><td>3655.585304630928</td><td>3655.585304630928</td><td>False</td><td>False</td><td>False</td><td>False</td><td>3979013.3698091507</td><td>4103.91695482137</td><td>False</td><td>False</td><td>4016238.2539289743</td><td>4953.213112879514</td><td>False</td><td>False</td><td>4002670.3940062374</td><td>6179.2112981423315</td><td>False</td><td>False</td><td>3980265.3158635776</td><td>8185.10008606769</td><td>False</td><td>False</td><td>3940466.5249080015</td><td>11017.59767241441</td><td>False</td><td>False</td><td>3720863.687366128</td><td>4055.6248410282674</td><td>False</td><td>12018420.663612096</td><td>52219.09684252129</td><td>False</td><td>False</td><td>False</td><td>True</td><td>True</td><td>True</td><td>False</td><td>False</td><td>False</td><td>True</td><td>True</td><td>False</td><td>False</td><td>4631361.960580949</td><td>4631361.960580949</td><td>4055.2289269739376</td><td>4055.2289269739376</td><td>105.35641</td><td>105.35641</td><td>False</td><td>False</td><td>False</td><td>False</td><td>False</td><td>False</td><td>False</td><td>False</td><td>False</td><td>4049936.9633758366</td><td>2012.4455181136798</td><td>-33590.37727609277</td><td>nan</td><td>1724</td><td>542</td><td>False</td><td>False</td><td>False</td><td>nan</td><td>nan</td><td>nan</td><td>nan</td><td>nan</td><td>nan</td><td>nan</td><td>nan</td><td>nan</td><td>nan</td><td>nan</td><td>nan</td><td>nan</td><td>nan</td><td>nan</td><td>nan</td><td>nan</td><td>0.0</td><td>False</td><td>nan</td><td>nan</td><td>nan</td><td>nan</td><td>nan</td><td>nan</td><td>nan</td><td>nan</td><td>nan</td><td>nan</td><td>nan</td><td>nan</td><td>nan</td><td>nan</td><td>nan</td><td>False</td><td>False</td><td>True</td><td>False</td><td>6969380.714799718</td><td>4049.251440609302</td><td>105.35641</td><td>False</td><td>False</td><td>False</td><td>13272</td><td>z</td><td>R41</td><td>S20</td><td>168</td></tr>\n",
       "<tr><td>890680117297175</td><td>1.013170642430559</td><td>-0.5430375745990038</td><td>0</td><td>False</td><td>351.8780688429839</td><td>1190.5332901639626</td><td>False</td><td>False</td><td>False</td><td>False</td><td>353.0</td><td>1192.0</td><td>False</td><td>353.35285194554206</td><td>1191.970275887943</td><td>0.010501024</td><td>0.009262563</td><td>False</td><td>False</td><td>False</td><td>False</td><td>False</td><td>False</td><td>False</td><td>False</td><td>False</td><td>False</td><td>False</td><td>False</td><td>False</td><td>False</td><td>False</td><td>False</td><td>False</td><td>False</td><td>False</td><td>352.9593811035156</td><td>352.9593811035156</td><td>1191.984130859375</td><td>1191.984130859375</td><td>nan</td><td>nan</td><td>nan</td><td>nan</td><td>352.9593811035156</td><td>352.9593811035156</td><td>1191.984130859375</td><td>1191.984130859375</td><td>nan</td><td>nan</td><td>nan</td><td>nan</td><td>nan</td><td>nan</td><td>nan</td><td>nan</td><td>nan</td><td>nan</td><td>nan</td><td>nan</td><td>8.54306893186491</td><td>8.54306893186491</td><td>7.4549732010405325</td><td>7.4549732010405325</td><td>-0.4371252520795026</td><td>-0.4371252520795026</td><td>nan</td><td>nan</td><td>nan</td><td>nan</td><td>nan</td><td>nan</td><td>352.85657525692346</td><td>352.85657525692346</td><td>1191.9464887619124</td><td>1191.9464887619124</td><td>nan</td><td>nan</td><td>nan</td><td>nan</td><td>7.129128294685496</td><td>7.129128294685496</td><td>7.129128294685496</td><td>7.003630050501782</td><td>7.003630050501782</td><td>7.003630050501782</td><td>-0.060109751558050935</td><td>-0.060109751558050935</td><td>-0.060109751558050935</td><td>nan</td><td>nan</td><td>nan</td><td>nan</td><td>nan</td><td>nan</td><td>True</td><td>True</td><td>True</td><td>False</td><td>False</td><td>False</td><td>True</td><td>True</td><td>True</td><td>False</td><td>False</td><td>False</td><td>False</td><td>False</td><td>False</td><td>False</td><td>False</td><td>False</td><td>1029762.1875</td><td>1478.8973388671875</td><td>False</td><td>False</td><td>False</td><td>2458006.0</td><td>2323.89013671875</td><td>False</td><td>False</td><td>False</td><td>3539592.75</td><td>2874.482177734375</td><td>False</td><td>False</td><td>False</td><td>4222232.5</td><td>3346.98876953125</td><td>False</td><td>False</td><td>False</td><td>4390049.428588867</td><td>4390049.428588867</td><td>3619.856046564775</td><td>3619.856046564775</td><td>False</td><td>False</td><td>False</td><td>False</td><td>4521856.532932758</td><td>4090.3605687664667</td><td>False</td><td>False</td><td>4580869.919939421</td><td>4945.66900102259</td><td>False</td><td>False</td><td>4573888.042002533</td><td>6175.286338763787</td><td>False</td><td>False</td><td>4571504.917059698</td><td>8181.228506316065</td><td>False</td><td>False</td><td>4535120.459417895</td><td>11013.033217462198</td><td>False</td><td>False</td><td>3181408.318233729</td><td>2749.479023469957</td><td>False</td><td>1167474.4747351806</td><td>21066.27443238471</td><td>False</td><td>False</td><td>False</td><td>True</td><td>True</td><td>True</td><td>False</td><td>False</td><td>False</td><td>True</td><td>True</td><td>False</td><td>False</td><td>3123638.692143462</td><td>3123638.692143462</td><td>2872.6031432443465</td><td>2872.6031432443465</td><td>105.57897</td><td>105.57897</td><td>False</td><td>False</td><td>False</td><td>False</td><td>False</td><td>False</td><td>False</td><td>False</td><td>False</td><td>4617781.060996946</td><td>2148.9022921010032</td><td>-39867.802175953984</td><td>nan</td><td>1922</td><td>635</td><td>False</td><td>False</td><td>False</td><td>nan</td><td>nan</td><td>nan</td><td>nan</td><td>nan</td><td>nan</td><td>nan</td><td>nan</td><td>nan</td><td>nan</td><td>nan</td><td>nan</td><td>nan</td><td>nan</td><td>nan</td><td>nan</td><td>nan</td><td>0.0</td><td>False</td><td>nan</td><td>nan</td><td>nan</td><td>nan</td><td>nan</td><td>nan</td><td>nan</td><td>nan</td><td>nan</td><td>nan</td><td>nan</td><td>nan</td><td>nan</td><td>nan</td><td>nan</td><td>False</td><td>False</td><td>True</td><td>False</td><td>4792646.952262419</td><td>2867.6468404667758</td><td>105.57897</td><td>False</td><td>False</td><td>False</td><td>13272</td><td>z</td><td>R41</td><td>S20</td><td>168</td></tr>\n",
       "<tr><td>890680117297176</td><td>1.0141814053476395</td><td>-0.5434892636952947</td><td>0</td><td>False</td><td>1359.8338851359233</td><td>1228.0828448377392</td><td>False</td><td>False</td><td>False</td><td>False</td><td>1361.0</td><td>1229.0</td><td>False</td><td>1361.492319156123</td><td>1228.5437497632677</td><td>0.0071732695</td><td>0.0054354337</td><td>False</td><td>False</td><td>False</td><td>False</td><td>False</td><td>False</td><td>False</td><td>False</td><td>False</td><td>False</td><td>False</td><td>False</td><td>False</td><td>False</td><td>False</td><td>False</td><td>False</td><td>False</td><td>False</td><td>1360.8699951171875</td><td>1360.8699951171875</td><td>1228.9571533203125</td><td>1228.9571533203125</td><td>nan</td><td>nan</td><td>nan</td><td>nan</td><td>1360.8699951171875</td><td>1360.8699951171875</td><td>1228.9571533203125</td><td>1228.9571533203125</td><td>nan</td><td>nan</td><td>nan</td><td>nan</td><td>nan</td><td>nan</td><td>nan</td><td>nan</td><td>nan</td><td>nan</td><td>nan</td><td>nan</td><td>8.678475671092603</td><td>8.678475671092603</td><td>6.518557515601695</td><td>6.518557515601695</td><td>-0.46348448558941624</td><td>-0.46348448558941624</td><td>nan</td><td>nan</td><td>nan</td><td>nan</td><td>nan</td><td>nan</td><td>1360.6569668810039</td><td>1360.6569668810039</td><td>1228.8892080529317</td><td>1228.8892080529317</td><td>nan</td><td>nan</td><td>nan</td><td>nan</td><td>7.02043964675917</td><td>7.02043964675917</td><td>7.02043964675917</td><td>7.135868143612364</td><td>7.135868143612364</td><td>7.135868143612364</td><td>-0.051719314021549306</td><td>-0.051719314021549306</td><td>-0.051719314021549306</td><td>nan</td><td>nan</td><td>nan</td><td>nan</td><td>nan</td><td>nan</td><td>True</td><td>True</td><td>True</td><td>False</td><td>False</td><td>False</td><td>True</td><td>True</td><td>True</td><td>False</td><td>False</td><td>False</td><td>False</td><td>False</td><td>False</td><td>False</td><td>False</td><td>False</td><td>1442063.625</td><td>1738.4735107421875</td><td>False</td><td>False</td><td>False</td><td>2813203.75</td><td>2488.937744140625</td><td>False</td><td>False</td><td>False</td><td>3998042.0</td><td>3036.7802734375</td><td>False</td><td>False</td><td>False</td><td>4787520.5</td><td>3514.686279296875</td><td>False</td><td>False</td><td>False</td><td>4977455.715667725</td><td>4977455.715667725</td><td>3793.09394682667</td><td>3793.09394682667</td><td>False</td><td>False</td><td>False</td><td>False</td><td>5103414.987022658</td><td>4243.256899854646</td><td>False</td><td>False</td><td>5168182.195950401</td><td>5076.7586249722835</td><td>False</td><td>False</td><td>5158889.38724297</td><td>6272.790450013866</td><td>False</td><td>False</td><td>5142549.55175283</td><td>8259.66037070854</td><td>False</td><td>False</td><td>5112145.473906679</td><td>11072.398343125471</td><td>False</td><td>False</td><td>3774025.864685058</td><td>3640.0078096088896</td><td>False</td><td>5480894.727526307</td><td>34847.5628847276</td><td>False</td><td>False</td><td>False</td><td>True</td><td>True</td><td>True</td><td>False</td><td>False</td><td>False</td><td>True</td><td>True</td><td>False</td><td>False</td><td>3882493.8317594174</td><td>3882493.8317594174</td><td>3341.2443393970134</td><td>3341.2443393970134</td><td>105.306496</td><td>105.306496</td><td>False</td><td>False</td><td>False</td><td>False</td><td>False</td><td>False</td><td>False</td><td>False</td><td>False</td><td>5204842.552086432</td><td>2281.412402895722</td><td>-39951.354029957205</td><td>nan</td><td>1946</td><td>633</td><td>False</td><td>False</td><td>False</td><td>nan</td><td>nan</td><td>nan</td><td>nan</td><td>nan</td><td>nan</td><td>nan</td><td>nan</td><td>nan</td><td>nan</td><td>nan</td><td>nan</td><td>nan</td><td>nan</td><td>nan</td><td>nan</td><td>nan</td><td>0.0</td><td>False</td><td>nan</td><td>nan</td><td>nan</td><td>nan</td><td>nan</td><td>nan</td><td>nan</td><td>nan</td><td>nan</td><td>nan</td><td>nan</td><td>nan</td><td>nan</td><td>nan</td><td>nan</td><td>False</td><td>False</td><td>True</td><td>False</td><td>5704605.474465632</td><td>3336.289699464198</td><td>105.306496</td><td>False</td><td>False</td><td>False</td><td>13272</td><td>z</td><td>R41</td><td>S20</td><td>168</td></tr>\n",
       "<tr><td>890680117297177</td><td>1.0130840925310702</td><td>-0.5433095337732811</td><td>0</td><td>False</td><td>404.0767103734995</td><td>1478.0063634465805</td><td>False</td><td>False</td><td>False</td><td>False</td><td>404.0</td><td>1479.0</td><td>False</td><td>395.04589324897245</td><td>1482.6938840559371</td><td>0.34249282</td><td>0.15776011</td><td>False</td><td>False</td><td>False</td><td>False</td><td>False</td><td>False</td><td>False</td><td>False</td><td>False</td><td>False</td><td>False</td><td>False</td><td>False</td><td>False</td><td>False</td><td>False</td><td>False</td><td>False</td><td>False</td><td>404.10040283203125</td><td>404.10040283203125</td><td>1478.963623046875</td><td>1478.963623046875</td><td>nan</td><td>nan</td><td>nan</td><td>nan</td><td>404.10040283203125</td><td>404.10040283203125</td><td>1478.963623046875</td><td>1478.963623046875</td><td>nan</td><td>nan</td><td>nan</td><td>nan</td><td>nan</td><td>nan</td><td>nan</td><td>nan</td><td>nan</td><td>nan</td><td>nan</td><td>nan</td><td>142.89522354146044</td><td>142.89522354146044</td><td>86.53150934318585</td><td>86.53150934318585</td><td>-36.69255690246462</td><td>-36.69255690246462</td><td>0.89386046</td><td>0.89386046</td><td>0.517936</td><td>0.517936</td><td>0.5412854</td><td>0.5412854</td><td>399.4588497983856</td><td>399.4588497983856</td><td>1481.517848626226</td><td>1481.517848626226</td><td>2257352.0879485137</td><td>2257352.0879485137</td><td>7060.270775741725</td><td>7060.270775741725</td><td>7.092802068594257</td><td>7.092802068594257</td><td>7.092802068594257</td><td>7.020467836666047</td><td>7.020467836666047</td><td>7.020467836666047</td><td>-0.05777434727646148</td><td>-0.05777434727646148</td><td>-0.05777434727646148</td><td>-3155.4485</td><td>-3155.4485</td><td>810.2544</td><td>810.2544</td><td>-1910.8107</td><td>-1910.8107</td><td>True</td><td>True</td><td>True</td><td>False</td><td>False</td><td>False</td><td>False</td><td>False</td><td>False</td><td>True</td><td>True</td><td>True</td><td>False</td><td>False</td><td>False</td><td>False</td><td>False</td><td>False</td><td>164269.515625</td><td>712.1965942382812</td><td>False</td><td>False</td><td>False</td><td>279985.59375</td><td>1015.5686645507812</td><td>False</td><td>False</td><td>False</td><td>426238.6875</td><td>1321.871337890625</td><td>False</td><td>False</td><td>False</td><td>718041.5625</td><td>1890.4512939453125</td><td>False</td><td>False</td><td>False</td><td>998887.7842330933</td><td>998887.7842330933</td><td>2423.2397797728227</td><td>2423.2397797728227</td><td>False</td><td>False</td><td>False</td><td>False</td><td>1626776.1602144241</td><td>3270.817340318849</td><td>False</td><td>False</td><td>2094279.0834980942</td><td>4399.705717586938</td><td>False</td><td>False</td><td>2210271.7067684904</td><td>5784.84926633181</td><td>False</td><td>False</td><td>2244661.4938988015</td><td>7911.224486264457</td><td>False</td><td>False</td><td>2235967.55924799</td><td>10818.253012870806</td><td>False</td><td>False</td><td>2257352.087948514</td><td>5451.437142937617</td><td>False</td><td>645296.1854102213</td><td>14370.277812040858</td><td>False</td><td>False</td><td>False</td><td>True</td><td>True</td><td>True</td><td>False</td><td>False</td><td>False</td><td>True</td><td>True</td><td>False</td><td>False</td><td>444436.8320247328</td><td>444436.8320247328</td><td>1382.4705448284694</td><td>1382.4705448284694</td><td>105.507</td><td>105.507</td><td>False</td><td>False</td><td>False</td><td>False</td><td>False</td><td>False</td><td>False</td><td>False</td><td>False</td><td>2263165.0236104913</td><td>1504.3819407352946</td><td>-47211.10058578104</td><td>nan</td><td>3302</td><td>822</td><td>False</td><td>False</td><td>False</td><td>4407.720703125</td><td>1.4142135623730951</td><td>4013.290771484375</td><td>1.4142135623730951</td><td>72.576004</td><td>404.0</td><td>1479.0</td><td>nan</td><td>nan</td><td>390.0</td><td>1486.0</td><td>nan</td><td>nan</td><td>397.0</td><td>1482.5</td><td>nan</td><td>nan</td><td>0.0</td><td>False</td><td>nan</td><td>nan</td><td>nan</td><td>nan</td><td>nan</td><td>nan</td><td>nan</td><td>nan</td><td>nan</td><td>nan</td><td>nan</td><td>nan</td><td>nan</td><td>nan</td><td>nan</td><td>False</td><td>False</td><td>True</td><td>False</td><td>1187271.9652070333</td><td>1379.7141225354912</td><td>105.507</td><td>False</td><td>False</td><td>False</td><td>13272</td><td>z</td><td>R41</td><td>S20</td><td>168</td></tr>\n",
       "<tr><td>890680117297178</td><td>1.0137745624721655</td><td>-0.5436735895731054</td><td>0</td><td>False</td><td>1117.1258839946172</td><td>1555.0169699063908</td><td>False</td><td>False</td><td>False</td><td>False</td><td>1117.0</td><td>1556.0</td><td>False</td><td>1100.078044357474</td><td>1555.8778955219543</td><td>0.43244207</td><td>0.105261534</td><td>False</td><td>False</td><td>False</td><td>False</td><td>False</td><td>False</td><td>False</td><td>False</td><td>False</td><td>False</td><td>False</td><td>False</td><td>False</td><td>False</td><td>False</td><td>False</td><td>False</td><td>False</td><td>False</td><td>1117.1246337890625</td><td>1117.1246337890625</td><td>1555.9959716796875</td><td>1555.9959716796875</td><td>nan</td><td>nan</td><td>nan</td><td>nan</td><td>1117.1246337890625</td><td>1117.1246337890625</td><td>1555.9959716796875</td><td>1555.9959716796875</td><td>nan</td><td>nan</td><td>nan</td><td>nan</td><td>nan</td><td>nan</td><td>nan</td><td>nan</td><td>nan</td><td>nan</td><td>nan</td><td>nan</td><td>292.7292037815804</td><td>292.7292037815804</td><td>51.02498222693026</td><td>51.02498222693026</td><td>-1.3317064765072193</td><td>-1.3317064765072193</td><td>1.3242917</td><td>1.3242917</td><td>0.39097846</td><td>0.39097846</td><td>0.23083435</td><td>0.23083435</td><td>1110.3220333252889</td><td>1110.3220333252889</td><td>1555.951978769417</td><td>1555.951978769417</td><td>3585457.937014752</td><td>3585457.937014752</td><td>8110.212694038304</td><td>8110.212694038304</td><td>7.01473405651799</td><td>7.01473405651799</td><td>7.01473405651799</td><td>7.119867777175457</td><td>7.119867777175457</td><td>7.119867777175457</td><td>-0.04461774458097639</td><td>-0.04461774458097639</td><td>-0.04461774458097639</td><td>-5370.1436</td><td>-5370.1436</td><td>24.430275</td><td>24.430275</td><td>-936.0579</td><td>-936.0579</td><td>True</td><td>True</td><td>True</td><td>False</td><td>False</td><td>False</td><td>False</td><td>False</td><td>False</td><td>True</td><td>True</td><td>True</td><td>False</td><td>False</td><td>False</td><td>False</td><td>False</td><td>False</td><td>196573.609375</td><td>740.1969604492188</td><td>False</td><td>False</td><td>False</td><td>380815.75</td><td>1076.9239501953125</td><td>False</td><td>False</td><td>False</td><td>592443.3125</td><td>1396.5740966796875</td><td>False</td><td>False</td><td>False</td><td>1056916.0</td><td>1996.091552734375</td><td>False</td><td>False</td><td>False</td><td>1465417.289855957</td><td>1465417.289855957</td><td>2542.170439786026</td><td>2542.170439786026</td><td>False</td><td>False</td><td>False</td><td>False</td><td>2065419.376083374</td><td>3388.678132595087</td><td>False</td><td>False</td><td>3150453.759130001</td><td>4666.749856866393</td><td>False</td><td>False</td><td>3737813.483542066</td><td>6055.762428854567</td><td>False</td><td>False</td><td>3973928.202519426</td><td>8128.464375303981</td><td>False</td><td>False</td><td>4065646.276572897</td><td>10989.497411258204</td><td>False</td><td>False</td><td>3585457.937014752</td><td>5703.039674783957</td><td>False</td><td>822960.3627274741</td><td>15229.917630702445</td><td>False</td><td>False</td><td>False</td><td>True</td><td>True</td><td>True</td><td>False</td><td>False</td><td>False</td><td>True</td><td>True</td><td>False</td><td>False</td><td>583295.5033533595</td><td>583295.5033533595</td><td>1444.5192698493343</td><td>1444.5192698493343</td><td>105.39118</td><td>105.39118</td><td>False</td><td>False</td><td>False</td><td>False</td><td>False</td><td>False</td><td>False</td><td>False</td><td>False</td><td>4043085.034468366</td><td>2010.7424087804898</td><td>-64156.61825072393</td><td>nan</td><td>6253</td><td>1172</td><td>False</td><td>False</td><td>False</td><td>5650.41845703125</td><td>1.4142135623730951</td><td>4647.39697265625</td><td>1.4142135623730951</td><td>76.26035</td><td>1117.0</td><td>1556.0</td><td>nan</td><td>nan</td><td>1108.0</td><td>1556.0</td><td>nan</td><td>nan</td><td>1112.5</td><td>1556.0</td><td>nan</td><td>nan</td><td>0.0</td><td>False</td><td>nan</td><td>nan</td><td>nan</td><td>nan</td><td>nan</td><td>nan</td><td>nan</td><td>nan</td><td>nan</td><td>nan</td><td>nan</td><td>nan</td><td>nan</td><td>nan</td><td>nan</td><td>False</td><td>False</td><td>True</td><td>False</td><td>1309760.5680174434</td><td>1442.2535425356525</td><td>105.39118</td><td>False</td><td>False</td><td>False</td><td>13272</td><td>z</td><td>R41</td><td>S20</td><td>168</td></tr>\n",
       "<tr><td>890680117297179</td><td>1.0128101744400126</td><td>-0.5433794818672328</td><td>0</td><td>False</td><td>216.0732879039327</td><td>1648.702787488394</td><td>False</td><td>False</td><td>False</td><td>False</td><td>216.0</td><td>1648.0</td><td>False</td><td>215.6332357967489</td><td>1648.8052854507516</td><td>0.5169574</td><td>0.38651073</td><td>False</td><td>False</td><td>False</td><td>False</td><td>False</td><td>False</td><td>False</td><td>False</td><td>False</td><td>False</td><td>False</td><td>False</td><td>False</td><td>False</td><td>False</td><td>False</td><td>False</td><td>False</td><td>False</td><td>216.0732879638672</td><td>216.0732879638672</td><td>1648.7027587890625</td><td>1648.7027587890625</td><td>nan</td><td>nan</td><td>nan</td><td>nan</td><td>216.0732879638672</td><td>216.0732879638672</td><td>1648.7027587890625</td><td>1648.7027587890625</td><td>nan</td><td>nan</td><td>nan</td><td>nan</td><td>nan</td><td>nan</td><td>nan</td><td>nan</td><td>nan</td><td>nan</td><td>nan</td><td>nan</td><td>0.08333333333333333</td><td>0.08333333333333333</td><td>0.08333333333333333</td><td>0.08333333333333333</td><td>0.0</td><td>0.0</td><td>nan</td><td>nan</td><td>nan</td><td>nan</td><td>nan</td><td>nan</td><td>215.90943292754758</td><td>215.90943292754758</td><td>1649.0414129442565</td><td>1649.0414129442565</td><td>nan</td><td>nan</td><td>nan</td><td>nan</td><td>7.099880328989214</td><td>7.099880328989214</td><td>7.099880328989214</td><td>6.990175871257073</td><td>6.990175871257073</td><td>6.990175871257073</td><td>-0.0625415247790727</td><td>-0.0625415247790727</td><td>-0.0625415247790727</td><td>nan</td><td>nan</td><td>nan</td><td>nan</td><td>nan</td><td>nan</td><td>True</td><td>True</td><td>True</td><td>True</td><td>True</td><td>True</td><td>False</td><td>False</td><td>False</td><td>False</td><td>False</td><td>False</td><td>False</td><td>False</td><td>False</td><td>False</td><td>False</td><td>False</td><td>3843.277099609375</td><td>644.2645874023438</td><td>False</td><td>False</td><td>False</td><td>4932.79833984375</td><td>1001.8248291015625</td><td>False</td><td>False</td><td>False</td><td>4997.71484375</td><td>1368.3890380859375</td><td>False</td><td>False</td><td>False</td><td>2806.61376953125</td><td>1948.3319091796875</td><td>False</td><td>False</td><td>False</td><td>6203.401346951723</td><td>6203.401346951723</td><td>2365.422185823812</td><td>2365.422185823812</td><td>False</td><td>False</td><td>False</td><td>False</td><td>14218.72853142023</td><td>2996.6681646233683</td><td>False</td><td>False</td><td>24355.44230376929</td><td>4074.5867617230333</td><td>False</td><td>False</td><td>17809.60105760023</td><td>5494.81348561525</td><td>False</td><td>False</td><td>6180.160915393382</td><td>7689.077952699876</td><td>False</td><td>False</td><td>-24155.043915028684</td><td>10654.450807309173</td><td>False</td><td>False</td><td>2034.7542338371277</td><td>111.1788487039134</td><td>False</td><td>23961.418247443205</td><td>11871.532931590898</td><td>False</td><td>False</td><td>False</td><td>False</td><td>False</td><td>False</td><td>False</td><td>False</td><td>False</td><td>False</td><td>False</td><td>False</td><td>False</td><td>6894.462546179218</td><td>6894.462546179218</td><td>1278.957890628634</td><td>1278.957890628634</td><td>105.287796</td><td>105.287796</td><td>False</td><td>False</td><td>False</td><td>False</td><td>False</td><td>False</td><td>False</td><td>False</td><td>False</td><td>10334.89300251007</td><td>101.66067579211773</td><td>-5199.288303822279</td><td>nan</td><td>88</td><td>57</td><td>False</td><td>False</td><td>False</td><td>nan</td><td>nan</td><td>nan</td><td>nan</td><td>nan</td><td>nan</td><td>nan</td><td>nan</td><td>nan</td><td>nan</td><td>nan</td><td>nan</td><td>nan</td><td>nan</td><td>nan</td><td>nan</td><td>nan</td><td>0.0</td><td>False</td><td>nan</td><td>nan</td><td>nan</td><td>nan</td><td>nan</td><td>nan</td><td>nan</td><td>nan</td><td>nan</td><td>nan</td><td>nan</td><td>nan</td><td>nan</td><td>nan</td><td>nan</td><td>False</td><td>False</td><td>True</td><td>False</td><td>1133045.403676756</td><td>1278.123886797312</td><td>105.287796</td><td>False</td><td>False</td><td>False</td><td>13272</td><td>z</td><td>R41</td><td>S20</td><td>168</td></tr>\n",
       "<tr><td>890680117297180</td><td>1.0138797383647524</td><td>-0.5438653060236559</td><td>0</td><td>False</td><td>1285.1444906339477</td><td>1695.0335650156585</td><td>False</td><td>False</td><td>False</td><td>False</td><td>1286.0</td><td>1695.0</td><td>False</td><td>1285.7481368754015</td><td>1695.2228472219626</td><td>0.035950765</td><td>0.03787702</td><td>False</td><td>False</td><td>False</td><td>False</td><td>False</td><td>False</td><td>False</td><td>False</td><td>False</td><td>False</td><td>False</td><td>False</td><td>False</td><td>False</td><td>False</td><td>False</td><td>False</td><td>False</td><td>False</td><td>1285.969482421875</td><td>1285.969482421875</td><td>1695.0487060546875</td><td>1695.0487060546875</td><td>nan</td><td>nan</td><td>nan</td><td>nan</td><td>1285.969482421875</td><td>1285.969482421875</td><td>1695.0487060546875</td><td>1695.0487060546875</td><td>nan</td><td>nan</td><td>nan</td><td>nan</td><td>nan</td><td>nan</td><td>nan</td><td>nan</td><td>nan</td><td>nan</td><td>nan</td><td>nan</td><td>3.895327996617107</td><td>3.895327996617107</td><td>4.18337953435386</td><td>4.18337953435386</td><td>0.24020122290927068</td><td>0.24020122290927068</td><td>0.1398709</td><td>0.1398709</td><td>0.10267659</td><td>0.10267659</td><td>0.15021406</td><td>0.15021406</td><td>1285.8650101945416</td><td>1285.8650101945416</td><td>1695.127880880947</td><td>1695.127880880947</td><td>194688.97927747387</td><td>194688.97927747387</td><td>3495.382681530541</td><td>3495.382681530541</td><td>6.99210297498208</td><td>6.99210297498208</td><td>6.99210297498208</td><td>7.134894301889642</td><td>7.134894301889642</td><td>7.134894301889642</td><td>-0.03992623202457316</td><td>-0.03992623202457316</td><td>-0.03992623202457316</td><td>-244.45116</td><td>-244.45116</td><td>-15.073821</td><td>-15.073821</td><td>-262.52783</td><td>-262.52783</td><td>False</td><td>False</td><td>False</td><td>False</td><td>False</td><td>False</td><td>False</td><td>False</td><td>False</td><td>False</td><td>False</td><td>False</td><td>False</td><td>False</td><td>False</td><td>False</td><td>False</td><td>False</td><td>130309.40625</td><td>1534.4588623046875</td><td>False</td><td>False</td><td>False</td><td>176888.90625</td><td>1969.2635498046875</td><td>False</td><td>False</td><td>False</td><td>198111.71875</td><td>2235.520263671875</td><td>False</td><td>False</td><td>False</td><td>215179.46875</td><td>2561.575439453125</td><td>False</td><td>False</td><td>False</td><td>223101.8535337448</td><td>223101.8535337448</td><td>2848.5123878492204</td><td>2848.5123878492204</td><td>False</td><td>False</td><td>False</td><td>False</td><td>244819.56545758247</td><td>3390.0380613817874</td><td>False</td><td>False</td><td>260758.65944928676</td><td>4375.822544830589</td><td>False</td><td>False</td><td>246245.87801608443</td><td>5727.078525479786</td><td>False</td><td>False</td><td>231649.2663406767</td><td>7849.264319440728</td><td>False</td><td>False</td><td>188708.76122315228</td><td>10771.839738392388</td><td>False</td><td>False</td><td>194688.97927747387</td><td>2519.6895044281414</td><td>False</td><td>855945.4979167172</td><td>36447.183405884534</td><td>False</td><td>False</td><td>False</td><td>False</td><td>True</td><td>True</td><td>True</td><td>False</td><td>False</td><td>False</td><td>True</td><td>False</td><td>False</td><td>271991.89981596894</td><td>271991.89981596894</td><td>2879.7552106510147</td><td>2879.7552106510147</td><td>105.2615</td><td>105.2615</td><td>False</td><td>False</td><td>False</td><td>False</td><td>False</td><td>False</td><td>False</td><td>False</td><td>False</td><td>277323.96975906193</td><td>526.6155806269521</td><td>-21650.82039064914</td><td>nan</td><td>946</td><td>387</td><td>False</td><td>False</td><td>False</td><td>2799.711181640625</td><td>1.4142135623730951</td><td>71.31637573242188</td><td>1.4142135623730951</td><td>5.5728564</td><td>1286.0</td><td>1695.0</td><td>nan</td><td>nan</td><td>1273.0</td><td>1701.0</td><td>nan</td><td>nan</td><td>1279.5</td><td>1698.0</td><td>nan</td><td>nan</td><td>0.0</td><td>False</td><td>nan</td><td>nan</td><td>nan</td><td>nan</td><td>nan</td><td>nan</td><td>nan</td><td>nan</td><td>nan</td><td>nan</td><td>nan</td><td>nan</td><td>nan</td><td>nan</td><td>nan</td><td>False</td><td>False</td><td>True</td><td>False</td><td>3802678.710986949</td><td>2871.377940341339</td><td>105.2615</td><td>False</td><td>False</td><td>False</td><td>13272</td><td>z</td><td>R41</td><td>S20</td><td>168</td></tr>\n",
       "<tr><td>890680117297181</td><td>1.0132067751331992</td><td>-0.5437586085727035</td><td>0</td><td>False</td><td>700.0875580883203</td><td>1851.0926206097308</td><td>False</td><td>False</td><td>False</td><td>False</td><td>701.0</td><td>1852.0</td><td>False</td><td>700.8881225585938</td><td>1851.65087890625</td><td>nan</td><td>nan</td><td>True</td><td>False</td><td>False</td><td>False</td><td>True</td><td>False</td><td>False</td><td>False</td><td>False</td><td>False</td><td>False</td><td>False</td><td>False</td><td>False</td><td>False</td><td>False</td><td>False</td><td>False</td><td>False</td><td>700.8881225585938</td><td>700.8881225585938</td><td>1851.65087890625</td><td>1851.65087890625</td><td>nan</td><td>nan</td><td>nan</td><td>nan</td><td>nan</td><td>nan</td><td>nan</td><td>nan</td><td>nan</td><td>nan</td><td>nan</td><td>nan</td><td>700.8881225585938</td><td>700.8881225585938</td><td>1851.65087890625</td><td>1851.65087890625</td><td>nan</td><td>nan</td><td>nan</td><td>nan</td><td>nan</td><td>nan</td><td>nan</td><td>nan</td><td>nan</td><td>nan</td><td>nan</td><td>nan</td><td>nan</td><td>nan</td><td>nan</td><td>nan</td><td>nan</td><td>nan</td><td>nan</td><td>nan</td><td>nan</td><td>nan</td><td>nan</td><td>nan</td><td>6.9617892342606025</td><td>6.9617892342606025</td><td>6.9617892342606025</td><td>7.1492881044585035</td><td>7.1492881044585035</td><td>7.1492881044585035</td><td>-0.0333122938949253</td><td>-0.0333122938949253</td><td>-0.0333122938949253</td><td>nan</td><td>nan</td><td>nan</td><td>nan</td><td>nan</td><td>nan</td><td>True</td><td>True</td><td>True</td><td>True</td><td>True</td><td>True</td><td>False</td><td>False</td><td>False</td><td>False</td><td>False</td><td>False</td><td>False</td><td>False</td><td>False</td><td>False</td><td>False</td><td>False</td><td>-2411.483154296875</td><td>485.9647521972656</td><td>False</td><td>False</td><td>False</td><td>-4073.27685546875</td><td>714.831787109375</td><td>False</td><td>False</td><td>False</td><td>-5405.70361328125</td><td>940.0050048828125</td><td>False</td><td>False</td><td>False</td><td>-4656.7265625</td><td>1383.4398193359375</td><td>False</td><td>False</td><td>False</td><td>-4257.532293081284</td><td>-4257.532293081284</td><td>1842.827431790447</td><td>1842.827431790447</td><td>False</td><td>False</td><td>False</td><td>False</td><td>-8012.767932355404</td><td>2587.3106859148593</td><td>False</td><td>False</td><td>-12010.143687859178</td><td>3781.222884652261</td><td>False</td><td>False</td><td>-16565.091168358922</td><td>5280.412193577508</td><td>False</td><td>False</td><td>-30887.960113614798</td><td>7534.689643341945</td><td>False</td><td>False</td><td>-65677.26941218879</td><td>10543.596134607349</td><td>False</td><td>False</td><td>nan</td><td>nan</td><td>True</td><td>-9034.89291092445</td><td>9260.824513886564</td><td>False</td><td>False</td><td>False</td><td>False</td><td>False</td><td>False</td><td>False</td><td>False</td><td>False</td><td>False</td><td>False</td><td>False</td><td>False</td><td>-5769.775989207207</td><td>-5769.775989207207</td><td>952.4727625936517</td><td>952.4727625936517</td><td>105.35123</td><td>105.35123</td><td>False</td><td>False</td><td>False</td><td>False</td><td>False</td><td>False</td><td>False</td><td>False</td><td>False</td><td>5800.423674106598</td><td>76.16051256462629</td><td>-11044.844413280487</td><td>nan</td><td>86</td><td>142</td><td>False</td><td>False</td><td>False</td><td>nan</td><td>nan</td><td>nan</td><td>nan</td><td>nan</td><td>nan</td><td>nan</td><td>nan</td><td>nan</td><td>nan</td><td>nan</td><td>nan</td><td>nan</td><td>nan</td><td>nan</td><td>nan</td><td>nan</td><td>0.0</td><td>False</td><td>nan</td><td>nan</td><td>nan</td><td>nan</td><td>nan</td><td>nan</td><td>nan</td><td>nan</td><td>nan</td><td>nan</td><td>nan</td><td>nan</td><td>nan</td><td>nan</td><td>nan</td><td>False</td><td>False</td><td>True</td><td>False</td><td>596122.7594267902</td><td>951.8667409006857</td><td>105.35123</td><td>False</td><td>False</td><td>False</td><td>13272</td><td>z</td><td>R41</td><td>S20</td><td>168</td></tr>\n",
       "</table>"
      ],
      "text/plain": [
       "<Table length=10>\n",
       "       id            coord_ra           coord_dec      ... raft sensor detector\n",
       "                       rad                 rad         ...                     \n",
       "     int64           float64             float64       ... str3  str3   int64  \n",
       "--------------- ------------------ ------------------- ... ---- ------ --------\n",
       "890679915970564 1.0147966141822933 -0.5403264646029813 ...  R41    S10      165\n",
       "890679915970565 1.0143546744003584  -0.541870080491886 ...  R41    S10      165\n",
       "890680117297174 1.0141793956656395 -0.5432059315761111 ...  R41    S20      168\n",
       "890680117297175  1.013170642430559 -0.5430375745990038 ...  R41    S20      168\n",
       "890680117297176 1.0141814053476395 -0.5434892636952947 ...  R41    S20      168\n",
       "890680117297177 1.0130840925310702 -0.5433095337732811 ...  R41    S20      168\n",
       "890680117297178 1.0137745624721655 -0.5436735895731054 ...  R41    S20      168\n",
       "890680117297179 1.0128101744400126 -0.5433794818672328 ...  R41    S20      168\n",
       "890680117297180 1.0138797383647524 -0.5438653060236559 ...  R41    S20      168\n",
       "890680117297181 1.0132067751331992 -0.5437586085727035 ...  R41    S20      168"
      ]
     },
     "execution_count": 156,
     "metadata": {},
     "output_type": "execute_result"
    }
   ],
   "source": [
    "mastercat[:10]"
   ]
  },
  {
   "cell_type": "code",
   "execution_count": 188,
   "metadata": {},
   "outputs": [
    {
     "data": {
      "text/plain": [
       "True"
      ]
     },
     "execution_count": 188,
     "metadata": {},
     "output_type": "execute_result"
    }
   ],
   "source": [
    "butlerdia.datasetExists('deepDiff_diaObject', dataId=tpId )"
   ]
  },
  {
   "cell_type": "code",
   "execution_count": 190,
   "metadata": {},
   "outputs": [
    {
     "data": {
      "text/plain": [
       "{'tract': int, 'patch': str}"
      ]
     },
     "execution_count": 190,
     "metadata": {},
     "output_type": "execute_result"
    }
   ],
   "source": [
    "butlerdia.getKeys('deepDiff_diaObject')"
   ]
  },
  {
   "cell_type": "raw",
   "metadata": {},
   "source": [
    "objs.write('./object_catalog_dia.fits')"
   ]
  },
  {
   "cell_type": "raw",
   "metadata": {},
   "source": [
    "objs.write('./object_catalog_dia.hd5', path='diaObj_cat', format='hdf5')"
   ]
  },
  {
   "cell_type": "code",
   "execution_count": null,
   "metadata": {},
   "outputs": [],
   "source": [
    "pwd"
   ]
  },
  {
   "cell_type": "code",
   "execution_count": 79,
   "metadata": {},
   "outputs": [],
   "source": [
    "sn_truth_t = pd.read_csv('catalogs+tables/SN_Truth_table.csv')"
   ]
  },
  {
   "cell_type": "code",
   "execution_count": 80,
   "metadata": {},
   "outputs": [],
   "source": [
    "sn_truth_t['snid_in'] = sn_truth_t.snid_in.astype(str)"
   ]
  },
  {
   "cell_type": "code",
   "execution_count": 81,
   "metadata": {},
   "outputs": [],
   "source": [
    "sn_truth_t['snid_in_cat'] = sn_truth_t.snid_in.astype('category')"
   ]
  },
  {
   "cell_type": "code",
   "execution_count": 82,
   "metadata": {},
   "outputs": [],
   "source": [
    "sn_truth_t = sn_truth_t.astype({'snid_in': 'str'})"
   ]
  },
  {
   "cell_type": "code",
   "execution_count": 83,
   "metadata": {},
   "outputs": [],
   "source": [
    "sntab['snid_in_cat'] = sntab.snid_in.astype('category')"
   ]
  },
  {
   "cell_type": "code",
   "execution_count": 84,
   "metadata": {},
   "outputs": [],
   "source": [
    "sntab = sntab.astype({'snid_in': 'str'})"
   ]
  },
  {
   "cell_type": "code",
   "execution_count": 85,
   "metadata": {},
   "outputs": [
    {
     "data": {
      "text/plain": [
       "index                  int64\n",
       "fieldID                int64\n",
       "descDitheredRA       float64\n",
       "descDitheredDec      float64\n",
       "expMJD               float64\n",
       "filter                object\n",
       "fiveSigmaDepth       float64\n",
       "fiveSigmaDepth.1     float64\n",
       "rotSkyPos            float64\n",
       "rotTelPos            float64\n",
       "FWHMeff              float64\n",
       "obsHistID              int64\n",
       "mag                  float64\n",
       "snid_in               object\n",
       "chip                  object\n",
       "xpixel               float64\n",
       "ypixel               float64\n",
       "snid_in_cat         category\n",
       "dtype: object"
      ]
     },
     "execution_count": 85,
     "metadata": {},
     "output_type": "execute_result"
    }
   ],
   "source": [
    "sn_truth_t.astype({'snid_in': 'str'}).dtypes"
   ]
  },
  {
   "cell_type": "code",
   "execution_count": 86,
   "metadata": {},
   "outputs": [
    {
     "data": {
      "text/plain": [
       "1809"
      ]
     },
     "execution_count": 86,
     "metadata": {},
     "output_type": "execute_result"
    }
   ],
   "source": [
    "len(sn_truth_t)"
   ]
  },
  {
   "cell_type": "code",
   "execution_count": 87,
   "metadata": {},
   "outputs": [
    {
     "data": {
      "text/plain": [
       "6127"
      ]
     },
     "execution_count": 87,
     "metadata": {},
     "output_type": "execute_result"
    }
   ],
   "source": [
    "len(mastercat)"
   ]
  },
  {
   "cell_type": "code",
   "execution_count": 88,
   "metadata": {},
   "outputs": [
    {
     "data": {
      "text/plain": [
       "Index(['index', 'fieldID', 'descDitheredRA', 'descDitheredDec', 'expMJD',\n",
       "       'filter', 'fiveSigmaDepth', 'fiveSigmaDepth.1', 'rotSkyPos',\n",
       "       'rotTelPos', 'FWHMeff', 'obsHistID', 'mag', 'snid_in', 'chip', 'xpixel',\n",
       "       'ypixel', 'snid_in_cat'],\n",
       "      dtype='object')"
      ]
     },
     "execution_count": 88,
     "metadata": {},
     "output_type": "execute_result"
    }
   ],
   "source": [
    "sn_truth_t.columns"
   ]
  },
  {
   "cell_type": "code",
   "execution_count": 89,
   "metadata": {},
   "outputs": [
    {
     "data": {
      "text/plain": [
       "Index(['htmid_level_6', 'galaxy_id', 'c_in', 'mB', 't0_in', 'x0_in', 'x1_in',\n",
       "       'z_in', 'snid_in', 'snra_in', 'sndec_in', 'snid_in_cat'],\n",
       "      dtype='object')"
      ]
     },
     "execution_count": 89,
     "metadata": {},
     "output_type": "execute_result"
    }
   ],
   "source": [
    "sntab.columns"
   ]
  },
  {
   "cell_type": "markdown",
   "metadata": {},
   "source": [
    "## Matching coordinates of Truth vs diaObject"
   ]
  },
  {
   "cell_type": "code",
   "execution_count": 90,
   "metadata": {},
   "outputs": [],
   "source": [
    "from astropy.coordinates import SkyCoord"
   ]
  },
  {
   "cell_type": "code",
   "execution_count": 91,
   "metadata": {},
   "outputs": [],
   "source": [
    "tru_c = SkyCoord(sntab.snra_in*u.deg, sntab.sndec_in*u.deg)"
   ]
  },
  {
   "cell_type": "code",
   "execution_count": 92,
   "metadata": {},
   "outputs": [],
   "source": [
    "#objs['coord_ra']"
   ]
  },
  {
   "cell_type": "code",
   "execution_count": 93,
   "metadata": {},
   "outputs": [],
   "source": [
    "dia_c = SkyCoord(objs['coord_ra'], objs['coord_dec'])"
   ]
  },
  {
   "cell_type": "code",
   "execution_count": 94,
   "metadata": {},
   "outputs": [
    {
     "data": {
      "text/html": [
       "<i>Table length=958</i>\n",
       "<table id=\"table46914465887952\" class=\"table-striped table-bordered table-condensed\">\n",
       "<thead><tr><th>id</th><th>coord_ra</th><th>coord_dec</th><th>parent</th><th>nobs</th><th>base_PsfFlux_instFlux_Sigma_u</th><th>base_PsfFlux_instFlux_Ndata_u</th><th>base_PsfFlux_instFlux_Mean_u</th><th>base_PsfFlux_instFlux_MeanErr_u</th><th>base_PsfFlux_instFlux_Sigma_g</th><th>base_PsfFlux_instFlux_Ndata_g</th><th>base_PsfFlux_instFlux_Mean_g</th><th>base_PsfFlux_instFlux_MeanErr_g</th><th>base_PsfFlux_instFlux_Sigma_r</th><th>base_PsfFlux_instFlux_Ndata_r</th><th>base_PsfFlux_instFlux_Mean_r</th><th>base_PsfFlux_instFlux_MeanErr_r</th><th>base_PsfFlux_instFlux_Sigma_i</th><th>base_PsfFlux_instFlux_Ndata_i</th><th>base_PsfFlux_instFlux_Mean_i</th><th>base_PsfFlux_instFlux_MeanErr_i</th><th>base_PsfFlux_instFlux_Sigma_z</th><th>base_PsfFlux_instFlux_Ndata_z</th><th>base_PsfFlux_instFlux_Mean_z</th><th>base_PsfFlux_instFlux_MeanErr_z</th><th>base_PsfFlux_instFlux_Sigma_y</th><th>base_PsfFlux_instFlux_Ndata_y</th><th>base_PsfFlux_instFlux_Mean_y</th><th>base_PsfFlux_instFlux_MeanErr_y</th></tr></thead>\n",
       "<thead><tr><th></th><th>rad</th><th>rad</th><th></th><th></th><th></th><th></th><th></th><th></th><th></th><th></th><th></th><th></th><th></th><th></th><th></th><th></th><th></th><th></th><th></th><th></th><th></th><th></th><th></th><th></th><th></th><th></th><th></th><th></th></tr></thead>\n",
       "<thead><tr><th>int64</th><th>float64</th><th>float64</th><th>int64</th><th>int32</th><th>float64</th><th>int32</th><th>float64</th><th>float64</th><th>float64</th><th>int32</th><th>float64</th><th>float64</th><th>float64</th><th>int32</th><th>float64</th><th>float64</th><th>float64</th><th>int32</th><th>float64</th><th>float64</th><th>float64</th><th>int32</th><th>float64</th><th>float64</th><th>float64</th><th>int32</th><th>float64</th><th>float64</th></tr></thead>\n",
       "<tr><td>20402537765011457</td><td>0.9978603682712568</td><td>-0.5429574734213227</td><td>0</td><td>12</td><td>nan</td><td>0</td><td>nan</td><td>nan</td><td>0.0</td><td>1</td><td>39.40258169766635</td><td>0.0</td><td>nan</td><td>8</td><td>nan</td><td>nan</td><td>nan</td><td>2</td><td>nan</td><td>nan</td><td>nan</td><td>0</td><td>nan</td><td>nan</td><td>nan</td><td>0</td><td>nan</td><td>nan</td></tr>\n",
       "<tr><td>20402537765011458</td><td>0.9983347428593629</td><td>-0.544236352279477</td><td>0</td><td>5</td><td>nan</td><td>0</td><td>nan</td><td>nan</td><td>nan</td><td>0</td><td>nan</td><td>nan</td><td>nan</td><td>4</td><td>nan</td><td>nan</td><td>nan</td><td>0</td><td>nan</td><td>nan</td><td>nan</td><td>0</td><td>nan</td><td>nan</td><td>nan</td><td>0</td><td>nan</td><td>nan</td></tr>\n",
       "<tr><td>20402537765011459</td><td>0.9975613828504386</td><td>-0.542439195416928</td><td>0</td><td>28</td><td>nan</td><td>0</td><td>nan</td><td>nan</td><td>nan</td><td>3</td><td>nan</td><td>nan</td><td>nan</td><td>9</td><td>nan</td><td>nan</td><td>nan</td><td>11</td><td>nan</td><td>nan</td><td>nan</td><td>5</td><td>nan</td><td>nan</td><td>nan</td><td>0</td><td>nan</td><td>nan</td></tr>\n",
       "<tr><td>20402537765011460</td><td>0.9980463913904404</td><td>-0.5437032405518898</td><td>0</td><td>2</td><td>nan</td><td>0</td><td>nan</td><td>nan</td><td>0.0</td><td>1</td><td>11.262422506240389</td><td>0.0</td><td>0.0</td><td>1</td><td>23.176506511667338</td><td>0.0</td><td>nan</td><td>0</td><td>nan</td><td>nan</td><td>nan</td><td>0</td><td>nan</td><td>nan</td><td>nan</td><td>0</td><td>nan</td><td>nan</td></tr>\n",
       "<tr><td>20402537765011461</td><td>0.9981642610697316</td><td>-0.5441223322631592</td><td>0</td><td>6</td><td>nan</td><td>0</td><td>nan</td><td>nan</td><td>0.0</td><td>1</td><td>8.139694700288107</td><td>0.0</td><td>nan</td><td>4</td><td>nan</td><td>nan</td><td>nan</td><td>0</td><td>nan</td><td>nan</td><td>nan</td><td>0</td><td>nan</td><td>nan</td><td>nan</td><td>0</td><td>nan</td><td>nan</td></tr>\n",
       "<tr><td>20402537765011462</td><td>0.9971780450457584</td><td>-0.5423322508701265</td><td>0</td><td>31</td><td>nan</td><td>0</td><td>nan</td><td>nan</td><td>nan</td><td>3</td><td>nan</td><td>nan</td><td>3.7156771820862553</td><td>8</td><td>41.07238034606523</td><td>1.3136902660766565</td><td>nan</td><td>17</td><td>nan</td><td>nan</td><td>nan</td><td>3</td><td>nan</td><td>nan</td><td>nan</td><td>0</td><td>nan</td><td>nan</td></tr>\n",
       "<tr><td>20402537765011463</td><td>0.9971037094908815</td><td>-0.5421563136492299</td><td>0</td><td>1</td><td>nan</td><td>0</td><td>nan</td><td>nan</td><td>0.0</td><td>1</td><td>11.371210226268358</td><td>0.0</td><td>nan</td><td>0</td><td>nan</td><td>nan</td><td>nan</td><td>0</td><td>nan</td><td>nan</td><td>nan</td><td>0</td><td>nan</td><td>nan</td><td>nan</td><td>0</td><td>nan</td><td>nan</td></tr>\n",
       "<tr><td>20402537765011464</td><td>0.9973773774265411</td><td>-0.5429106658671341</td><td>0</td><td>1</td><td>nan</td><td>0</td><td>nan</td><td>nan</td><td>0.0</td><td>1</td><td>16.248638204688554</td><td>0.0</td><td>nan</td><td>0</td><td>nan</td><td>nan</td><td>nan</td><td>0</td><td>nan</td><td>nan</td><td>nan</td><td>0</td><td>nan</td><td>nan</td><td>nan</td><td>0</td><td>nan</td><td>nan</td></tr>\n",
       "<tr><td>20402537765011465</td><td>0.9973824291224683</td><td>-0.5429944394213647</td><td>0</td><td>18</td><td>nan</td><td>0</td><td>nan</td><td>nan</td><td>3.290874789427258</td><td>2</td><td>27.52047370967856</td><td>2.3269998796398657</td><td>nan</td><td>5</td><td>nan</td><td>nan</td><td>nan</td><td>11</td><td>nan</td><td>nan</td><td>nan</td><td>0</td><td>nan</td><td>nan</td><td>nan</td><td>0</td><td>nan</td><td>nan</td></tr>\n",
       "<tr><td>...</td><td>...</td><td>...</td><td>...</td><td>...</td><td>...</td><td>...</td><td>...</td><td>...</td><td>...</td><td>...</td><td>...</td><td>...</td><td>...</td><td>...</td><td>...</td><td>...</td><td>...</td><td>...</td><td>...</td><td>...</td><td>...</td><td>...</td><td>...</td><td>...</td><td>...</td><td>...</td><td>...</td><td>...</td></tr>\n",
       "<tr><td>20402537765012405</td><td>0.9947833896689086</td><td>-0.5425885918015301</td><td>0</td><td>1</td><td>nan</td><td>0</td><td>nan</td><td>nan</td><td>nan</td><td>0</td><td>nan</td><td>nan</td><td>nan</td><td>0</td><td>nan</td><td>nan</td><td>nan</td><td>0</td><td>nan</td><td>nan</td><td>nan</td><td>0</td><td>nan</td><td>nan</td><td>nan</td><td>0</td><td>nan</td><td>nan</td></tr>\n",
       "<tr><td>20402537765012406</td><td>0.9947789483009208</td><td>-0.5425702390579219</td><td>0</td><td>1</td><td>nan</td><td>0</td><td>nan</td><td>nan</td><td>nan</td><td>0</td><td>nan</td><td>nan</td><td>nan</td><td>0</td><td>nan</td><td>nan</td><td>nan</td><td>0</td><td>nan</td><td>nan</td><td>nan</td><td>0</td><td>nan</td><td>nan</td><td>nan</td><td>0</td><td>nan</td><td>nan</td></tr>\n",
       "<tr><td>20402537765012407</td><td>0.9943720451072696</td><td>-0.5423583875347575</td><td>0</td><td>1</td><td>nan</td><td>0</td><td>nan</td><td>nan</td><td>nan</td><td>0</td><td>nan</td><td>nan</td><td>nan</td><td>0</td><td>nan</td><td>nan</td><td>nan</td><td>0</td><td>nan</td><td>nan</td><td>0.0</td><td>1</td><td>63.60901946231118</td><td>0.0</td><td>nan</td><td>0</td><td>nan</td><td>nan</td></tr>\n",
       "<tr><td>20402537765012408</td><td>0.9949668895753959</td><td>-0.5425415565660945</td><td>0</td><td>1</td><td>nan</td><td>0</td><td>nan</td><td>nan</td><td>nan</td><td>0</td><td>nan</td><td>nan</td><td>nan</td><td>0</td><td>nan</td><td>nan</td><td>nan</td><td>0</td><td>nan</td><td>nan</td><td>0.0</td><td>1</td><td>87.45482200963109</td><td>0.0</td><td>nan</td><td>0</td><td>nan</td><td>nan</td></tr>\n",
       "<tr><td>20402537765012409</td><td>0.9949652042515089</td><td>-0.5425606905422016</td><td>0</td><td>1</td><td>nan</td><td>0</td><td>nan</td><td>nan</td><td>nan</td><td>0</td><td>nan</td><td>nan</td><td>nan</td><td>0</td><td>nan</td><td>nan</td><td>nan</td><td>0</td><td>nan</td><td>nan</td><td>0.0</td><td>1</td><td>82.0063577310021</td><td>0.0</td><td>nan</td><td>0</td><td>nan</td><td>nan</td></tr>\n",
       "<tr><td>20402537765012410</td><td>0.9948458619155256</td><td>-0.5425761960650117</td><td>0</td><td>1</td><td>nan</td><td>0</td><td>nan</td><td>nan</td><td>nan</td><td>0</td><td>nan</td><td>nan</td><td>nan</td><td>0</td><td>nan</td><td>nan</td><td>nan</td><td>0</td><td>nan</td><td>nan</td><td>0.0</td><td>1</td><td>83.51993924232073</td><td>0.0</td><td>nan</td><td>0</td><td>nan</td><td>nan</td></tr>\n",
       "<tr><td>20402537765012411</td><td>0.9944331655543843</td><td>-0.5426830754608664</td><td>0</td><td>1</td><td>nan</td><td>0</td><td>nan</td><td>nan</td><td>nan</td><td>0</td><td>nan</td><td>nan</td><td>nan</td><td>0</td><td>nan</td><td>nan</td><td>nan</td><td>0</td><td>nan</td><td>nan</td><td>0.0</td><td>1</td><td>109.71872012675969</td><td>0.0</td><td>nan</td><td>0</td><td>nan</td><td>nan</td></tr>\n",
       "<tr><td>20402537765012412</td><td>0.9945911654164752</td><td>-0.5425787139728535</td><td>0</td><td>1</td><td>nan</td><td>0</td><td>nan</td><td>nan</td><td>nan</td><td>0</td><td>nan</td><td>nan</td><td>nan</td><td>0</td><td>nan</td><td>nan</td><td>nan</td><td>0</td><td>nan</td><td>nan</td><td>0.0</td><td>1</td><td>73.31675083851933</td><td>0.0</td><td>nan</td><td>0</td><td>nan</td><td>nan</td></tr>\n",
       "<tr><td>20402537765012413</td><td>0.9945142469744871</td><td>-0.5446542198791822</td><td>0</td><td>1</td><td>nan</td><td>0</td><td>nan</td><td>nan</td><td>nan</td><td>0</td><td>nan</td><td>nan</td><td>nan</td><td>0</td><td>nan</td><td>nan</td><td>nan</td><td>0</td><td>nan</td><td>nan</td><td>0.0</td><td>1</td><td>126.34066128134704</td><td>0.0</td><td>nan</td><td>0</td><td>nan</td><td>nan</td></tr>\n",
       "<tr><td>20402537765012414</td><td>0.9944543343746708</td><td>-0.5423558363646389</td><td>0</td><td>1</td><td>nan</td><td>0</td><td>nan</td><td>nan</td><td>nan</td><td>0</td><td>nan</td><td>nan</td><td>nan</td><td>0</td><td>nan</td><td>nan</td><td>nan</td><td>0</td><td>nan</td><td>nan</td><td>0.0</td><td>1</td><td>73.82881414908144</td><td>0.0</td><td>nan</td><td>0</td><td>nan</td><td>nan</td></tr>\n",
       "</table>"
      ],
      "text/plain": [
       "<Table length=958>\n",
       "        id             coord_ra      ... base_PsfFlux_instFlux_MeanErr_y\n",
       "                         rad         ...                                \n",
       "      int64            float64       ...             float64            \n",
       "----------------- ------------------ ... -------------------------------\n",
       "20402537765011457 0.9978603682712568 ...                             nan\n",
       "20402537765011458 0.9983347428593629 ...                             nan\n",
       "20402537765011459 0.9975613828504386 ...                             nan\n",
       "20402537765011460 0.9980463913904404 ...                             nan\n",
       "20402537765011461 0.9981642610697316 ...                             nan\n",
       "20402537765011462 0.9971780450457584 ...                             nan\n",
       "20402537765011463 0.9971037094908815 ...                             nan\n",
       "20402537765011464 0.9973773774265411 ...                             nan\n",
       "20402537765011465 0.9973824291224683 ...                             nan\n",
       "              ...                ... ...                             ...\n",
       "20402537765012405 0.9947833896689086 ...                             nan\n",
       "20402537765012406 0.9947789483009208 ...                             nan\n",
       "20402537765012407 0.9943720451072696 ...                             nan\n",
       "20402537765012408 0.9949668895753959 ...                             nan\n",
       "20402537765012409 0.9949652042515089 ...                             nan\n",
       "20402537765012410 0.9948458619155256 ...                             nan\n",
       "20402537765012411 0.9944331655543843 ...                             nan\n",
       "20402537765012412 0.9945911654164752 ...                             nan\n",
       "20402537765012413 0.9945142469744871 ...                             nan\n",
       "20402537765012414 0.9944543343746708 ...                             nan"
      ]
     },
     "execution_count": 94,
     "metadata": {},
     "output_type": "execute_result"
    }
   ],
   "source": [
    "objs"
   ]
  },
  {
   "cell_type": "code",
   "execution_count": null,
   "metadata": {},
   "outputs": [],
   "source": []
  },
  {
   "cell_type": "code",
   "execution_count": null,
   "metadata": {},
   "outputs": [],
   "source": []
  },
  {
   "cell_type": "code",
   "execution_count": 95,
   "metadata": {},
   "outputs": [],
   "source": [
    "merged = pd.merge(left=sn_truth_t, right=sntab, how='left', on='snid_in_cat', suffixes=('_tab', '_par'))"
   ]
  },
  {
   "cell_type": "code",
   "execution_count": 96,
   "metadata": {},
   "outputs": [
    {
     "data": {
      "text/html": [
       "<div>\n",
       "<style scoped>\n",
       "    .dataframe tbody tr th:only-of-type {\n",
       "        vertical-align: middle;\n",
       "    }\n",
       "\n",
       "    .dataframe tbody tr th {\n",
       "        vertical-align: top;\n",
       "    }\n",
       "\n",
       "    .dataframe thead th {\n",
       "        text-align: right;\n",
       "    }\n",
       "</style>\n",
       "<table border=\"1\" class=\"dataframe\">\n",
       "  <thead>\n",
       "    <tr style=\"text-align: right;\">\n",
       "      <th></th>\n",
       "      <th>index</th>\n",
       "      <th>fieldID</th>\n",
       "      <th>descDitheredRA</th>\n",
       "      <th>descDitheredDec</th>\n",
       "      <th>expMJD</th>\n",
       "      <th>filter</th>\n",
       "      <th>fiveSigmaDepth</th>\n",
       "      <th>fiveSigmaDepth.1</th>\n",
       "      <th>rotSkyPos</th>\n",
       "      <th>rotTelPos</th>\n",
       "      <th>...</th>\n",
       "      <th>galaxy_id</th>\n",
       "      <th>c_in</th>\n",
       "      <th>mB</th>\n",
       "      <th>t0_in</th>\n",
       "      <th>x0_in</th>\n",
       "      <th>x1_in</th>\n",
       "      <th>z_in</th>\n",
       "      <th>snid_in_par</th>\n",
       "      <th>snra_in</th>\n",
       "      <th>sndec_in</th>\n",
       "    </tr>\n",
       "  </thead>\n",
       "  <tbody>\n",
       "    <tr>\n",
       "      <th>0</th>\n",
       "      <td>107</td>\n",
       "      <td>1297</td>\n",
       "      <td>57.951252</td>\n",
       "      <td>-31.295413</td>\n",
       "      <td>60132.418248</td>\n",
       "      <td>lssty</td>\n",
       "      <td>22.135284</td>\n",
       "      <td>22.135284</td>\n",
       "      <td>2.065568</td>\n",
       "      <td>0.262857</td>\n",
       "      <td>...</td>\n",
       "      <td>NaN</td>\n",
       "      <td>NaN</td>\n",
       "      <td>NaN</td>\n",
       "      <td>NaN</td>\n",
       "      <td>NaN</td>\n",
       "      <td>NaN</td>\n",
       "      <td>NaN</td>\n",
       "      <td>NaN</td>\n",
       "      <td>NaN</td>\n",
       "      <td>NaN</td>\n",
       "    </tr>\n",
       "    <tr>\n",
       "      <th>1</th>\n",
       "      <td>107</td>\n",
       "      <td>1297</td>\n",
       "      <td>57.951252</td>\n",
       "      <td>-31.295413</td>\n",
       "      <td>60132.418248</td>\n",
       "      <td>lssty</td>\n",
       "      <td>22.135284</td>\n",
       "      <td>22.135284</td>\n",
       "      <td>2.065568</td>\n",
       "      <td>0.262857</td>\n",
       "      <td>...</td>\n",
       "      <td>NaN</td>\n",
       "      <td>NaN</td>\n",
       "      <td>NaN</td>\n",
       "      <td>NaN</td>\n",
       "      <td>NaN</td>\n",
       "      <td>NaN</td>\n",
       "      <td>NaN</td>\n",
       "      <td>NaN</td>\n",
       "      <td>NaN</td>\n",
       "      <td>NaN</td>\n",
       "    </tr>\n",
       "    <tr>\n",
       "      <th>2</th>\n",
       "      <td>107</td>\n",
       "      <td>1297</td>\n",
       "      <td>57.951252</td>\n",
       "      <td>-31.295413</td>\n",
       "      <td>60132.418248</td>\n",
       "      <td>lssty</td>\n",
       "      <td>22.135284</td>\n",
       "      <td>22.135284</td>\n",
       "      <td>2.065568</td>\n",
       "      <td>0.262857</td>\n",
       "      <td>...</td>\n",
       "      <td>NaN</td>\n",
       "      <td>NaN</td>\n",
       "      <td>NaN</td>\n",
       "      <td>NaN</td>\n",
       "      <td>NaN</td>\n",
       "      <td>NaN</td>\n",
       "      <td>NaN</td>\n",
       "      <td>NaN</td>\n",
       "      <td>NaN</td>\n",
       "      <td>NaN</td>\n",
       "    </tr>\n",
       "    <tr>\n",
       "      <th>3</th>\n",
       "      <td>107</td>\n",
       "      <td>1297</td>\n",
       "      <td>57.951252</td>\n",
       "      <td>-31.295413</td>\n",
       "      <td>60132.418248</td>\n",
       "      <td>lssty</td>\n",
       "      <td>22.135284</td>\n",
       "      <td>22.135284</td>\n",
       "      <td>2.065568</td>\n",
       "      <td>0.262857</td>\n",
       "      <td>...</td>\n",
       "      <td>NaN</td>\n",
       "      <td>NaN</td>\n",
       "      <td>NaN</td>\n",
       "      <td>NaN</td>\n",
       "      <td>NaN</td>\n",
       "      <td>NaN</td>\n",
       "      <td>NaN</td>\n",
       "      <td>NaN</td>\n",
       "      <td>NaN</td>\n",
       "      <td>NaN</td>\n",
       "    </tr>\n",
       "    <tr>\n",
       "      <th>4</th>\n",
       "      <td>107</td>\n",
       "      <td>1297</td>\n",
       "      <td>57.951252</td>\n",
       "      <td>-31.295413</td>\n",
       "      <td>60132.418248</td>\n",
       "      <td>lssty</td>\n",
       "      <td>22.135284</td>\n",
       "      <td>22.135284</td>\n",
       "      <td>2.065568</td>\n",
       "      <td>0.262857</td>\n",
       "      <td>...</td>\n",
       "      <td>NaN</td>\n",
       "      <td>NaN</td>\n",
       "      <td>NaN</td>\n",
       "      <td>NaN</td>\n",
       "      <td>NaN</td>\n",
       "      <td>NaN</td>\n",
       "      <td>NaN</td>\n",
       "      <td>NaN</td>\n",
       "      <td>NaN</td>\n",
       "      <td>NaN</td>\n",
       "    </tr>\n",
       "    <tr>\n",
       "      <th>5</th>\n",
       "      <td>107</td>\n",
       "      <td>1297</td>\n",
       "      <td>57.951252</td>\n",
       "      <td>-31.295413</td>\n",
       "      <td>60132.418248</td>\n",
       "      <td>lssty</td>\n",
       "      <td>22.135284</td>\n",
       "      <td>22.135284</td>\n",
       "      <td>2.065568</td>\n",
       "      <td>0.262857</td>\n",
       "      <td>...</td>\n",
       "      <td>NaN</td>\n",
       "      <td>NaN</td>\n",
       "      <td>NaN</td>\n",
       "      <td>NaN</td>\n",
       "      <td>NaN</td>\n",
       "      <td>NaN</td>\n",
       "      <td>NaN</td>\n",
       "      <td>NaN</td>\n",
       "      <td>NaN</td>\n",
       "      <td>NaN</td>\n",
       "    </tr>\n",
       "    <tr>\n",
       "      <th>6</th>\n",
       "      <td>108</td>\n",
       "      <td>1297</td>\n",
       "      <td>58.944666</td>\n",
       "      <td>-30.814988</td>\n",
       "      <td>60145.374232</td>\n",
       "      <td>lsstg</td>\n",
       "      <td>24.418622</td>\n",
       "      <td>24.418622</td>\n",
       "      <td>2.866696</td>\n",
       "      <td>1.047071</td>\n",
       "      <td>...</td>\n",
       "      <td>NaN</td>\n",
       "      <td>NaN</td>\n",
       "      <td>NaN</td>\n",
       "      <td>NaN</td>\n",
       "      <td>NaN</td>\n",
       "      <td>NaN</td>\n",
       "      <td>NaN</td>\n",
       "      <td>NaN</td>\n",
       "      <td>NaN</td>\n",
       "      <td>NaN</td>\n",
       "    </tr>\n",
       "    <tr>\n",
       "      <th>7</th>\n",
       "      <td>108</td>\n",
       "      <td>1297</td>\n",
       "      <td>58.944666</td>\n",
       "      <td>-30.814988</td>\n",
       "      <td>60145.374232</td>\n",
       "      <td>lsstg</td>\n",
       "      <td>24.418622</td>\n",
       "      <td>24.418622</td>\n",
       "      <td>2.866696</td>\n",
       "      <td>1.047071</td>\n",
       "      <td>...</td>\n",
       "      <td>NaN</td>\n",
       "      <td>NaN</td>\n",
       "      <td>NaN</td>\n",
       "      <td>NaN</td>\n",
       "      <td>NaN</td>\n",
       "      <td>NaN</td>\n",
       "      <td>NaN</td>\n",
       "      <td>NaN</td>\n",
       "      <td>NaN</td>\n",
       "      <td>NaN</td>\n",
       "    </tr>\n",
       "    <tr>\n",
       "      <th>8</th>\n",
       "      <td>108</td>\n",
       "      <td>1297</td>\n",
       "      <td>58.944666</td>\n",
       "      <td>-30.814988</td>\n",
       "      <td>60145.374232</td>\n",
       "      <td>lsstg</td>\n",
       "      <td>24.418622</td>\n",
       "      <td>24.418622</td>\n",
       "      <td>2.866696</td>\n",
       "      <td>1.047071</td>\n",
       "      <td>...</td>\n",
       "      <td>NaN</td>\n",
       "      <td>NaN</td>\n",
       "      <td>NaN</td>\n",
       "      <td>NaN</td>\n",
       "      <td>NaN</td>\n",
       "      <td>NaN</td>\n",
       "      <td>NaN</td>\n",
       "      <td>NaN</td>\n",
       "      <td>NaN</td>\n",
       "      <td>NaN</td>\n",
       "    </tr>\n",
       "    <tr>\n",
       "      <th>9</th>\n",
       "      <td>108</td>\n",
       "      <td>1297</td>\n",
       "      <td>58.944666</td>\n",
       "      <td>-30.814988</td>\n",
       "      <td>60145.374232</td>\n",
       "      <td>lsstg</td>\n",
       "      <td>24.418622</td>\n",
       "      <td>24.418622</td>\n",
       "      <td>2.866696</td>\n",
       "      <td>1.047071</td>\n",
       "      <td>...</td>\n",
       "      <td>NaN</td>\n",
       "      <td>NaN</td>\n",
       "      <td>NaN</td>\n",
       "      <td>NaN</td>\n",
       "      <td>NaN</td>\n",
       "      <td>NaN</td>\n",
       "      <td>NaN</td>\n",
       "      <td>NaN</td>\n",
       "      <td>NaN</td>\n",
       "      <td>NaN</td>\n",
       "    </tr>\n",
       "    <tr>\n",
       "      <th>10</th>\n",
       "      <td>108</td>\n",
       "      <td>1297</td>\n",
       "      <td>58.944666</td>\n",
       "      <td>-30.814988</td>\n",
       "      <td>60145.374232</td>\n",
       "      <td>lsstg</td>\n",
       "      <td>24.418622</td>\n",
       "      <td>24.418622</td>\n",
       "      <td>2.866696</td>\n",
       "      <td>1.047071</td>\n",
       "      <td>...</td>\n",
       "      <td>NaN</td>\n",
       "      <td>NaN</td>\n",
       "      <td>NaN</td>\n",
       "      <td>NaN</td>\n",
       "      <td>NaN</td>\n",
       "      <td>NaN</td>\n",
       "      <td>NaN</td>\n",
       "      <td>NaN</td>\n",
       "      <td>NaN</td>\n",
       "      <td>NaN</td>\n",
       "    </tr>\n",
       "    <tr>\n",
       "      <th>11</th>\n",
       "      <td>108</td>\n",
       "      <td>1297</td>\n",
       "      <td>58.944666</td>\n",
       "      <td>-30.814988</td>\n",
       "      <td>60145.374232</td>\n",
       "      <td>lsstg</td>\n",
       "      <td>24.418622</td>\n",
       "      <td>24.418622</td>\n",
       "      <td>2.866696</td>\n",
       "      <td>1.047071</td>\n",
       "      <td>...</td>\n",
       "      <td>NaN</td>\n",
       "      <td>NaN</td>\n",
       "      <td>NaN</td>\n",
       "      <td>NaN</td>\n",
       "      <td>NaN</td>\n",
       "      <td>NaN</td>\n",
       "      <td>NaN</td>\n",
       "      <td>NaN</td>\n",
       "      <td>NaN</td>\n",
       "      <td>NaN</td>\n",
       "    </tr>\n",
       "    <tr>\n",
       "      <th>12</th>\n",
       "      <td>109</td>\n",
       "      <td>1309</td>\n",
       "      <td>55.748583</td>\n",
       "      <td>-30.853548</td>\n",
       "      <td>60145.374680</td>\n",
       "      <td>lsstg</td>\n",
       "      <td>24.481660</td>\n",
       "      <td>24.481660</td>\n",
       "      <td>2.856264</td>\n",
       "      <td>1.047964</td>\n",
       "      <td>...</td>\n",
       "      <td>NaN</td>\n",
       "      <td>NaN</td>\n",
       "      <td>NaN</td>\n",
       "      <td>NaN</td>\n",
       "      <td>NaN</td>\n",
       "      <td>NaN</td>\n",
       "      <td>NaN</td>\n",
       "      <td>NaN</td>\n",
       "      <td>NaN</td>\n",
       "      <td>NaN</td>\n",
       "    </tr>\n",
       "    <tr>\n",
       "      <th>13</th>\n",
       "      <td>109</td>\n",
       "      <td>1309</td>\n",
       "      <td>55.748583</td>\n",
       "      <td>-30.853548</td>\n",
       "      <td>60145.374680</td>\n",
       "      <td>lsstg</td>\n",
       "      <td>24.481660</td>\n",
       "      <td>24.481660</td>\n",
       "      <td>2.856264</td>\n",
       "      <td>1.047964</td>\n",
       "      <td>...</td>\n",
       "      <td>NaN</td>\n",
       "      <td>NaN</td>\n",
       "      <td>NaN</td>\n",
       "      <td>NaN</td>\n",
       "      <td>NaN</td>\n",
       "      <td>NaN</td>\n",
       "      <td>NaN</td>\n",
       "      <td>NaN</td>\n",
       "      <td>NaN</td>\n",
       "      <td>NaN</td>\n",
       "    </tr>\n",
       "    <tr>\n",
       "      <th>14</th>\n",
       "      <td>109</td>\n",
       "      <td>1309</td>\n",
       "      <td>55.748583</td>\n",
       "      <td>-30.853548</td>\n",
       "      <td>60145.374680</td>\n",
       "      <td>lsstg</td>\n",
       "      <td>24.481660</td>\n",
       "      <td>24.481660</td>\n",
       "      <td>2.856264</td>\n",
       "      <td>1.047964</td>\n",
       "      <td>...</td>\n",
       "      <td>NaN</td>\n",
       "      <td>NaN</td>\n",
       "      <td>NaN</td>\n",
       "      <td>NaN</td>\n",
       "      <td>NaN</td>\n",
       "      <td>NaN</td>\n",
       "      <td>NaN</td>\n",
       "      <td>NaN</td>\n",
       "      <td>NaN</td>\n",
       "      <td>NaN</td>\n",
       "    </tr>\n",
       "    <tr>\n",
       "      <th>15</th>\n",
       "      <td>109</td>\n",
       "      <td>1309</td>\n",
       "      <td>55.748583</td>\n",
       "      <td>-30.853548</td>\n",
       "      <td>60145.374680</td>\n",
       "      <td>lsstg</td>\n",
       "      <td>24.481660</td>\n",
       "      <td>24.481660</td>\n",
       "      <td>2.856264</td>\n",
       "      <td>1.047964</td>\n",
       "      <td>...</td>\n",
       "      <td>NaN</td>\n",
       "      <td>NaN</td>\n",
       "      <td>NaN</td>\n",
       "      <td>NaN</td>\n",
       "      <td>NaN</td>\n",
       "      <td>NaN</td>\n",
       "      <td>NaN</td>\n",
       "      <td>NaN</td>\n",
       "      <td>NaN</td>\n",
       "      <td>NaN</td>\n",
       "    </tr>\n",
       "    <tr>\n",
       "      <th>16</th>\n",
       "      <td>109</td>\n",
       "      <td>1309</td>\n",
       "      <td>55.748583</td>\n",
       "      <td>-30.853548</td>\n",
       "      <td>60145.374680</td>\n",
       "      <td>lsstg</td>\n",
       "      <td>24.481660</td>\n",
       "      <td>24.481660</td>\n",
       "      <td>2.856264</td>\n",
       "      <td>1.047964</td>\n",
       "      <td>...</td>\n",
       "      <td>NaN</td>\n",
       "      <td>NaN</td>\n",
       "      <td>NaN</td>\n",
       "      <td>NaN</td>\n",
       "      <td>NaN</td>\n",
       "      <td>NaN</td>\n",
       "      <td>NaN</td>\n",
       "      <td>NaN</td>\n",
       "      <td>NaN</td>\n",
       "      <td>NaN</td>\n",
       "    </tr>\n",
       "    <tr>\n",
       "      <th>17</th>\n",
       "      <td>110</td>\n",
       "      <td>1297</td>\n",
       "      <td>57.343375</td>\n",
       "      <td>-29.619168</td>\n",
       "      <td>60145.390190</td>\n",
       "      <td>lsstg</td>\n",
       "      <td>24.601762</td>\n",
       "      <td>24.601762</td>\n",
       "      <td>2.959792</td>\n",
       "      <td>1.171684</td>\n",
       "      <td>...</td>\n",
       "      <td>NaN</td>\n",
       "      <td>NaN</td>\n",
       "      <td>NaN</td>\n",
       "      <td>NaN</td>\n",
       "      <td>NaN</td>\n",
       "      <td>NaN</td>\n",
       "      <td>NaN</td>\n",
       "      <td>NaN</td>\n",
       "      <td>NaN</td>\n",
       "      <td>NaN</td>\n",
       "    </tr>\n",
       "    <tr>\n",
       "      <th>18</th>\n",
       "      <td>110</td>\n",
       "      <td>1297</td>\n",
       "      <td>57.343375</td>\n",
       "      <td>-29.619168</td>\n",
       "      <td>60145.390190</td>\n",
       "      <td>lsstg</td>\n",
       "      <td>24.601762</td>\n",
       "      <td>24.601762</td>\n",
       "      <td>2.959792</td>\n",
       "      <td>1.171684</td>\n",
       "      <td>...</td>\n",
       "      <td>NaN</td>\n",
       "      <td>NaN</td>\n",
       "      <td>NaN</td>\n",
       "      <td>NaN</td>\n",
       "      <td>NaN</td>\n",
       "      <td>NaN</td>\n",
       "      <td>NaN</td>\n",
       "      <td>NaN</td>\n",
       "      <td>NaN</td>\n",
       "      <td>NaN</td>\n",
       "    </tr>\n",
       "    <tr>\n",
       "      <th>19</th>\n",
       "      <td>110</td>\n",
       "      <td>1297</td>\n",
       "      <td>57.343375</td>\n",
       "      <td>-29.619168</td>\n",
       "      <td>60145.390190</td>\n",
       "      <td>lsstg</td>\n",
       "      <td>24.601762</td>\n",
       "      <td>24.601762</td>\n",
       "      <td>2.959792</td>\n",
       "      <td>1.171684</td>\n",
       "      <td>...</td>\n",
       "      <td>NaN</td>\n",
       "      <td>NaN</td>\n",
       "      <td>NaN</td>\n",
       "      <td>NaN</td>\n",
       "      <td>NaN</td>\n",
       "      <td>NaN</td>\n",
       "      <td>NaN</td>\n",
       "      <td>NaN</td>\n",
       "      <td>NaN</td>\n",
       "      <td>NaN</td>\n",
       "    </tr>\n",
       "    <tr>\n",
       "      <th>20</th>\n",
       "      <td>110</td>\n",
       "      <td>1297</td>\n",
       "      <td>57.343375</td>\n",
       "      <td>-29.619168</td>\n",
       "      <td>60145.390190</td>\n",
       "      <td>lsstg</td>\n",
       "      <td>24.601762</td>\n",
       "      <td>24.601762</td>\n",
       "      <td>2.959792</td>\n",
       "      <td>1.171684</td>\n",
       "      <td>...</td>\n",
       "      <td>NaN</td>\n",
       "      <td>NaN</td>\n",
       "      <td>NaN</td>\n",
       "      <td>NaN</td>\n",
       "      <td>NaN</td>\n",
       "      <td>NaN</td>\n",
       "      <td>NaN</td>\n",
       "      <td>NaN</td>\n",
       "      <td>NaN</td>\n",
       "      <td>NaN</td>\n",
       "    </tr>\n",
       "    <tr>\n",
       "      <th>21</th>\n",
       "      <td>110</td>\n",
       "      <td>1297</td>\n",
       "      <td>57.343375</td>\n",
       "      <td>-29.619168</td>\n",
       "      <td>60145.390190</td>\n",
       "      <td>lsstg</td>\n",
       "      <td>24.601762</td>\n",
       "      <td>24.601762</td>\n",
       "      <td>2.959792</td>\n",
       "      <td>1.171684</td>\n",
       "      <td>...</td>\n",
       "      <td>NaN</td>\n",
       "      <td>NaN</td>\n",
       "      <td>NaN</td>\n",
       "      <td>NaN</td>\n",
       "      <td>NaN</td>\n",
       "      <td>NaN</td>\n",
       "      <td>NaN</td>\n",
       "      <td>NaN</td>\n",
       "      <td>NaN</td>\n",
       "      <td>NaN</td>\n",
       "    </tr>\n",
       "    <tr>\n",
       "      <th>22</th>\n",
       "      <td>110</td>\n",
       "      <td>1297</td>\n",
       "      <td>57.343375</td>\n",
       "      <td>-29.619168</td>\n",
       "      <td>60145.390190</td>\n",
       "      <td>lsstg</td>\n",
       "      <td>24.601762</td>\n",
       "      <td>24.601762</td>\n",
       "      <td>2.959792</td>\n",
       "      <td>1.171684</td>\n",
       "      <td>...</td>\n",
       "      <td>NaN</td>\n",
       "      <td>NaN</td>\n",
       "      <td>NaN</td>\n",
       "      <td>NaN</td>\n",
       "      <td>NaN</td>\n",
       "      <td>NaN</td>\n",
       "      <td>NaN</td>\n",
       "      <td>NaN</td>\n",
       "      <td>NaN</td>\n",
       "      <td>NaN</td>\n",
       "    </tr>\n",
       "    <tr>\n",
       "      <th>23</th>\n",
       "      <td>110</td>\n",
       "      <td>1297</td>\n",
       "      <td>57.343375</td>\n",
       "      <td>-29.619168</td>\n",
       "      <td>60145.390190</td>\n",
       "      <td>lsstg</td>\n",
       "      <td>24.601762</td>\n",
       "      <td>24.601762</td>\n",
       "      <td>2.959792</td>\n",
       "      <td>1.171684</td>\n",
       "      <td>...</td>\n",
       "      <td>NaN</td>\n",
       "      <td>NaN</td>\n",
       "      <td>NaN</td>\n",
       "      <td>NaN</td>\n",
       "      <td>NaN</td>\n",
       "      <td>NaN</td>\n",
       "      <td>NaN</td>\n",
       "      <td>NaN</td>\n",
       "      <td>NaN</td>\n",
       "      <td>NaN</td>\n",
       "    </tr>\n",
       "    <tr>\n",
       "      <th>24</th>\n",
       "      <td>13</td>\n",
       "      <td>1297</td>\n",
       "      <td>57.824230</td>\n",
       "      <td>-30.181010</td>\n",
       "      <td>59803.357884</td>\n",
       "      <td>lssty</td>\n",
       "      <td>22.194237</td>\n",
       "      <td>22.194237</td>\n",
       "      <td>2.047766</td>\n",
       "      <td>0.319852</td>\n",
       "      <td>...</td>\n",
       "      <td>NaN</td>\n",
       "      <td>NaN</td>\n",
       "      <td>NaN</td>\n",
       "      <td>NaN</td>\n",
       "      <td>NaN</td>\n",
       "      <td>NaN</td>\n",
       "      <td>NaN</td>\n",
       "      <td>NaN</td>\n",
       "      <td>NaN</td>\n",
       "      <td>NaN</td>\n",
       "    </tr>\n",
       "    <tr>\n",
       "      <th>25</th>\n",
       "      <td>13</td>\n",
       "      <td>1297</td>\n",
       "      <td>57.824230</td>\n",
       "      <td>-30.181010</td>\n",
       "      <td>59803.357884</td>\n",
       "      <td>lssty</td>\n",
       "      <td>22.194237</td>\n",
       "      <td>22.194237</td>\n",
       "      <td>2.047766</td>\n",
       "      <td>0.319852</td>\n",
       "      <td>...</td>\n",
       "      <td>NaN</td>\n",
       "      <td>NaN</td>\n",
       "      <td>NaN</td>\n",
       "      <td>NaN</td>\n",
       "      <td>NaN</td>\n",
       "      <td>NaN</td>\n",
       "      <td>NaN</td>\n",
       "      <td>NaN</td>\n",
       "      <td>NaN</td>\n",
       "      <td>NaN</td>\n",
       "    </tr>\n",
       "    <tr>\n",
       "      <th>26</th>\n",
       "      <td>13</td>\n",
       "      <td>1297</td>\n",
       "      <td>57.824230</td>\n",
       "      <td>-30.181010</td>\n",
       "      <td>59803.357884</td>\n",
       "      <td>lssty</td>\n",
       "      <td>22.194237</td>\n",
       "      <td>22.194237</td>\n",
       "      <td>2.047766</td>\n",
       "      <td>0.319852</td>\n",
       "      <td>...</td>\n",
       "      <td>NaN</td>\n",
       "      <td>NaN</td>\n",
       "      <td>NaN</td>\n",
       "      <td>NaN</td>\n",
       "      <td>NaN</td>\n",
       "      <td>NaN</td>\n",
       "      <td>NaN</td>\n",
       "      <td>NaN</td>\n",
       "      <td>NaN</td>\n",
       "      <td>NaN</td>\n",
       "    </tr>\n",
       "    <tr>\n",
       "      <th>27</th>\n",
       "      <td>13</td>\n",
       "      <td>1297</td>\n",
       "      <td>57.824230</td>\n",
       "      <td>-30.181010</td>\n",
       "      <td>59803.357884</td>\n",
       "      <td>lssty</td>\n",
       "      <td>22.194237</td>\n",
       "      <td>22.194237</td>\n",
       "      <td>2.047766</td>\n",
       "      <td>0.319852</td>\n",
       "      <td>...</td>\n",
       "      <td>NaN</td>\n",
       "      <td>NaN</td>\n",
       "      <td>NaN</td>\n",
       "      <td>NaN</td>\n",
       "      <td>NaN</td>\n",
       "      <td>NaN</td>\n",
       "      <td>NaN</td>\n",
       "      <td>NaN</td>\n",
       "      <td>NaN</td>\n",
       "      <td>NaN</td>\n",
       "    </tr>\n",
       "    <tr>\n",
       "      <th>28</th>\n",
       "      <td>13</td>\n",
       "      <td>1297</td>\n",
       "      <td>57.824230</td>\n",
       "      <td>-30.181010</td>\n",
       "      <td>59803.357884</td>\n",
       "      <td>lssty</td>\n",
       "      <td>22.194237</td>\n",
       "      <td>22.194237</td>\n",
       "      <td>2.047766</td>\n",
       "      <td>0.319852</td>\n",
       "      <td>...</td>\n",
       "      <td>NaN</td>\n",
       "      <td>NaN</td>\n",
       "      <td>NaN</td>\n",
       "      <td>NaN</td>\n",
       "      <td>NaN</td>\n",
       "      <td>NaN</td>\n",
       "      <td>NaN</td>\n",
       "      <td>NaN</td>\n",
       "      <td>NaN</td>\n",
       "      <td>NaN</td>\n",
       "    </tr>\n",
       "    <tr>\n",
       "      <th>29</th>\n",
       "      <td>13</td>\n",
       "      <td>1297</td>\n",
       "      <td>57.824230</td>\n",
       "      <td>-30.181010</td>\n",
       "      <td>59803.357884</td>\n",
       "      <td>lssty</td>\n",
       "      <td>22.194237</td>\n",
       "      <td>22.194237</td>\n",
       "      <td>2.047766</td>\n",
       "      <td>0.319852</td>\n",
       "      <td>...</td>\n",
       "      <td>NaN</td>\n",
       "      <td>NaN</td>\n",
       "      <td>NaN</td>\n",
       "      <td>NaN</td>\n",
       "      <td>NaN</td>\n",
       "      <td>NaN</td>\n",
       "      <td>NaN</td>\n",
       "      <td>NaN</td>\n",
       "      <td>NaN</td>\n",
       "      <td>NaN</td>\n",
       "    </tr>\n",
       "    <tr>\n",
       "      <th>...</th>\n",
       "      <td>...</td>\n",
       "      <td>...</td>\n",
       "      <td>...</td>\n",
       "      <td>...</td>\n",
       "      <td>...</td>\n",
       "      <td>...</td>\n",
       "      <td>...</td>\n",
       "      <td>...</td>\n",
       "      <td>...</td>\n",
       "      <td>...</td>\n",
       "      <td>...</td>\n",
       "      <td>...</td>\n",
       "      <td>...</td>\n",
       "      <td>...</td>\n",
       "      <td>...</td>\n",
       "      <td>...</td>\n",
       "      <td>...</td>\n",
       "      <td>...</td>\n",
       "      <td>...</td>\n",
       "      <td>...</td>\n",
       "      <td>...</td>\n",
       "    </tr>\n",
       "    <tr>\n",
       "      <th>1779</th>\n",
       "      <td>163</td>\n",
       "      <td>1178</td>\n",
       "      <td>58.522096</td>\n",
       "      <td>-32.514037</td>\n",
       "      <td>60224.167399</td>\n",
       "      <td>lsstr</td>\n",
       "      <td>24.137118</td>\n",
       "      <td>24.137118</td>\n",
       "      <td>3.067222</td>\n",
       "      <td>1.308774</td>\n",
       "      <td>...</td>\n",
       "      <td>NaN</td>\n",
       "      <td>NaN</td>\n",
       "      <td>NaN</td>\n",
       "      <td>NaN</td>\n",
       "      <td>NaN</td>\n",
       "      <td>NaN</td>\n",
       "      <td>NaN</td>\n",
       "      <td>NaN</td>\n",
       "      <td>NaN</td>\n",
       "      <td>NaN</td>\n",
       "    </tr>\n",
       "    <tr>\n",
       "      <th>1780</th>\n",
       "      <td>164</td>\n",
       "      <td>1309</td>\n",
       "      <td>55.003314</td>\n",
       "      <td>-31.464894</td>\n",
       "      <td>60232.149020</td>\n",
       "      <td>lsstr</td>\n",
       "      <td>24.272844</td>\n",
       "      <td>24.272844</td>\n",
       "      <td>2.015027</td>\n",
       "      <td>0.228986</td>\n",
       "      <td>...</td>\n",
       "      <td>NaN</td>\n",
       "      <td>NaN</td>\n",
       "      <td>NaN</td>\n",
       "      <td>NaN</td>\n",
       "      <td>NaN</td>\n",
       "      <td>NaN</td>\n",
       "      <td>NaN</td>\n",
       "      <td>NaN</td>\n",
       "      <td>NaN</td>\n",
       "      <td>NaN</td>\n",
       "    </tr>\n",
       "    <tr>\n",
       "      <th>1781</th>\n",
       "      <td>164</td>\n",
       "      <td>1309</td>\n",
       "      <td>55.003314</td>\n",
       "      <td>-31.464894</td>\n",
       "      <td>60232.149020</td>\n",
       "      <td>lsstr</td>\n",
       "      <td>24.272844</td>\n",
       "      <td>24.272844</td>\n",
       "      <td>2.015027</td>\n",
       "      <td>0.228986</td>\n",
       "      <td>...</td>\n",
       "      <td>NaN</td>\n",
       "      <td>NaN</td>\n",
       "      <td>NaN</td>\n",
       "      <td>NaN</td>\n",
       "      <td>NaN</td>\n",
       "      <td>NaN</td>\n",
       "      <td>NaN</td>\n",
       "      <td>NaN</td>\n",
       "      <td>NaN</td>\n",
       "      <td>NaN</td>\n",
       "    </tr>\n",
       "    <tr>\n",
       "      <th>1782</th>\n",
       "      <td>165</td>\n",
       "      <td>1297</td>\n",
       "      <td>58.683547</td>\n",
       "      <td>-30.177572</td>\n",
       "      <td>60232.154899</td>\n",
       "      <td>lsstr</td>\n",
       "      <td>24.309231</td>\n",
       "      <td>24.309231</td>\n",
       "      <td>2.031281</td>\n",
       "      <td>0.247580</td>\n",
       "      <td>...</td>\n",
       "      <td>NaN</td>\n",
       "      <td>NaN</td>\n",
       "      <td>NaN</td>\n",
       "      <td>NaN</td>\n",
       "      <td>NaN</td>\n",
       "      <td>NaN</td>\n",
       "      <td>NaN</td>\n",
       "      <td>NaN</td>\n",
       "      <td>NaN</td>\n",
       "      <td>NaN</td>\n",
       "    </tr>\n",
       "    <tr>\n",
       "      <th>1783</th>\n",
       "      <td>165</td>\n",
       "      <td>1297</td>\n",
       "      <td>58.683547</td>\n",
       "      <td>-30.177572</td>\n",
       "      <td>60232.154899</td>\n",
       "      <td>lsstr</td>\n",
       "      <td>24.309231</td>\n",
       "      <td>24.309231</td>\n",
       "      <td>2.031281</td>\n",
       "      <td>0.247580</td>\n",
       "      <td>...</td>\n",
       "      <td>NaN</td>\n",
       "      <td>NaN</td>\n",
       "      <td>NaN</td>\n",
       "      <td>NaN</td>\n",
       "      <td>NaN</td>\n",
       "      <td>NaN</td>\n",
       "      <td>NaN</td>\n",
       "      <td>NaN</td>\n",
       "      <td>NaN</td>\n",
       "      <td>NaN</td>\n",
       "    </tr>\n",
       "    <tr>\n",
       "      <th>1784</th>\n",
       "      <td>165</td>\n",
       "      <td>1297</td>\n",
       "      <td>58.683547</td>\n",
       "      <td>-30.177572</td>\n",
       "      <td>60232.154899</td>\n",
       "      <td>lsstr</td>\n",
       "      <td>24.309231</td>\n",
       "      <td>24.309231</td>\n",
       "      <td>2.031281</td>\n",
       "      <td>0.247580</td>\n",
       "      <td>...</td>\n",
       "      <td>NaN</td>\n",
       "      <td>NaN</td>\n",
       "      <td>NaN</td>\n",
       "      <td>NaN</td>\n",
       "      <td>NaN</td>\n",
       "      <td>NaN</td>\n",
       "      <td>NaN</td>\n",
       "      <td>NaN</td>\n",
       "      <td>NaN</td>\n",
       "      <td>NaN</td>\n",
       "    </tr>\n",
       "    <tr>\n",
       "      <th>1785</th>\n",
       "      <td>165</td>\n",
       "      <td>1297</td>\n",
       "      <td>58.683547</td>\n",
       "      <td>-30.177572</td>\n",
       "      <td>60232.154899</td>\n",
       "      <td>lsstr</td>\n",
       "      <td>24.309231</td>\n",
       "      <td>24.309231</td>\n",
       "      <td>2.031281</td>\n",
       "      <td>0.247580</td>\n",
       "      <td>...</td>\n",
       "      <td>NaN</td>\n",
       "      <td>NaN</td>\n",
       "      <td>NaN</td>\n",
       "      <td>NaN</td>\n",
       "      <td>NaN</td>\n",
       "      <td>NaN</td>\n",
       "      <td>NaN</td>\n",
       "      <td>NaN</td>\n",
       "      <td>NaN</td>\n",
       "      <td>NaN</td>\n",
       "    </tr>\n",
       "    <tr>\n",
       "      <th>1786</th>\n",
       "      <td>166</td>\n",
       "      <td>1297</td>\n",
       "      <td>55.925442</td>\n",
       "      <td>-30.549250</td>\n",
       "      <td>60232.172106</td>\n",
       "      <td>lsstr</td>\n",
       "      <td>24.462647</td>\n",
       "      <td>24.462647</td>\n",
       "      <td>2.053374</td>\n",
       "      <td>0.302973</td>\n",
       "      <td>...</td>\n",
       "      <td>NaN</td>\n",
       "      <td>NaN</td>\n",
       "      <td>NaN</td>\n",
       "      <td>NaN</td>\n",
       "      <td>NaN</td>\n",
       "      <td>NaN</td>\n",
       "      <td>NaN</td>\n",
       "      <td>NaN</td>\n",
       "      <td>NaN</td>\n",
       "      <td>NaN</td>\n",
       "    </tr>\n",
       "    <tr>\n",
       "      <th>1787</th>\n",
       "      <td>166</td>\n",
       "      <td>1297</td>\n",
       "      <td>55.925442</td>\n",
       "      <td>-30.549250</td>\n",
       "      <td>60232.172106</td>\n",
       "      <td>lsstr</td>\n",
       "      <td>24.462647</td>\n",
       "      <td>24.462647</td>\n",
       "      <td>2.053374</td>\n",
       "      <td>0.302973</td>\n",
       "      <td>...</td>\n",
       "      <td>NaN</td>\n",
       "      <td>NaN</td>\n",
       "      <td>NaN</td>\n",
       "      <td>NaN</td>\n",
       "      <td>NaN</td>\n",
       "      <td>NaN</td>\n",
       "      <td>NaN</td>\n",
       "      <td>NaN</td>\n",
       "      <td>NaN</td>\n",
       "      <td>NaN</td>\n",
       "    </tr>\n",
       "    <tr>\n",
       "      <th>1788</th>\n",
       "      <td>166</td>\n",
       "      <td>1297</td>\n",
       "      <td>55.925442</td>\n",
       "      <td>-30.549250</td>\n",
       "      <td>60232.172106</td>\n",
       "      <td>lsstr</td>\n",
       "      <td>24.462647</td>\n",
       "      <td>24.462647</td>\n",
       "      <td>2.053374</td>\n",
       "      <td>0.302973</td>\n",
       "      <td>...</td>\n",
       "      <td>NaN</td>\n",
       "      <td>NaN</td>\n",
       "      <td>NaN</td>\n",
       "      <td>NaN</td>\n",
       "      <td>NaN</td>\n",
       "      <td>NaN</td>\n",
       "      <td>NaN</td>\n",
       "      <td>NaN</td>\n",
       "      <td>NaN</td>\n",
       "      <td>NaN</td>\n",
       "    </tr>\n",
       "    <tr>\n",
       "      <th>1789</th>\n",
       "      <td>166</td>\n",
       "      <td>1297</td>\n",
       "      <td>55.925442</td>\n",
       "      <td>-30.549250</td>\n",
       "      <td>60232.172106</td>\n",
       "      <td>lsstr</td>\n",
       "      <td>24.462647</td>\n",
       "      <td>24.462647</td>\n",
       "      <td>2.053374</td>\n",
       "      <td>0.302973</td>\n",
       "      <td>...</td>\n",
       "      <td>NaN</td>\n",
       "      <td>NaN</td>\n",
       "      <td>NaN</td>\n",
       "      <td>NaN</td>\n",
       "      <td>NaN</td>\n",
       "      <td>NaN</td>\n",
       "      <td>NaN</td>\n",
       "      <td>NaN</td>\n",
       "      <td>NaN</td>\n",
       "      <td>NaN</td>\n",
       "    </tr>\n",
       "    <tr>\n",
       "      <th>1790</th>\n",
       "      <td>166</td>\n",
       "      <td>1297</td>\n",
       "      <td>55.925442</td>\n",
       "      <td>-30.549250</td>\n",
       "      <td>60232.172106</td>\n",
       "      <td>lsstr</td>\n",
       "      <td>24.462647</td>\n",
       "      <td>24.462647</td>\n",
       "      <td>2.053374</td>\n",
       "      <td>0.302973</td>\n",
       "      <td>...</td>\n",
       "      <td>NaN</td>\n",
       "      <td>NaN</td>\n",
       "      <td>NaN</td>\n",
       "      <td>NaN</td>\n",
       "      <td>NaN</td>\n",
       "      <td>NaN</td>\n",
       "      <td>NaN</td>\n",
       "      <td>NaN</td>\n",
       "      <td>NaN</td>\n",
       "      <td>NaN</td>\n",
       "    </tr>\n",
       "    <tr>\n",
       "      <th>1791</th>\n",
       "      <td>167</td>\n",
       "      <td>1297</td>\n",
       "      <td>55.380376</td>\n",
       "      <td>-30.643387</td>\n",
       "      <td>60234.141543</td>\n",
       "      <td>lsstr</td>\n",
       "      <td>24.270725</td>\n",
       "      <td>24.270725</td>\n",
       "      <td>2.640207</td>\n",
       "      <td>0.841041</td>\n",
       "      <td>...</td>\n",
       "      <td>NaN</td>\n",
       "      <td>NaN</td>\n",
       "      <td>NaN</td>\n",
       "      <td>NaN</td>\n",
       "      <td>NaN</td>\n",
       "      <td>NaN</td>\n",
       "      <td>NaN</td>\n",
       "      <td>NaN</td>\n",
       "      <td>NaN</td>\n",
       "      <td>NaN</td>\n",
       "    </tr>\n",
       "    <tr>\n",
       "      <th>1792</th>\n",
       "      <td>167</td>\n",
       "      <td>1297</td>\n",
       "      <td>55.380376</td>\n",
       "      <td>-30.643387</td>\n",
       "      <td>60234.141543</td>\n",
       "      <td>lsstr</td>\n",
       "      <td>24.270725</td>\n",
       "      <td>24.270725</td>\n",
       "      <td>2.640207</td>\n",
       "      <td>0.841041</td>\n",
       "      <td>...</td>\n",
       "      <td>NaN</td>\n",
       "      <td>NaN</td>\n",
       "      <td>NaN</td>\n",
       "      <td>NaN</td>\n",
       "      <td>NaN</td>\n",
       "      <td>NaN</td>\n",
       "      <td>NaN</td>\n",
       "      <td>NaN</td>\n",
       "      <td>NaN</td>\n",
       "      <td>NaN</td>\n",
       "    </tr>\n",
       "    <tr>\n",
       "      <th>1793</th>\n",
       "      <td>167</td>\n",
       "      <td>1297</td>\n",
       "      <td>55.380376</td>\n",
       "      <td>-30.643387</td>\n",
       "      <td>60234.141543</td>\n",
       "      <td>lsstr</td>\n",
       "      <td>24.270725</td>\n",
       "      <td>24.270725</td>\n",
       "      <td>2.640207</td>\n",
       "      <td>0.841041</td>\n",
       "      <td>...</td>\n",
       "      <td>NaN</td>\n",
       "      <td>NaN</td>\n",
       "      <td>NaN</td>\n",
       "      <td>NaN</td>\n",
       "      <td>NaN</td>\n",
       "      <td>NaN</td>\n",
       "      <td>NaN</td>\n",
       "      <td>NaN</td>\n",
       "      <td>NaN</td>\n",
       "      <td>NaN</td>\n",
       "    </tr>\n",
       "    <tr>\n",
       "      <th>1794</th>\n",
       "      <td>167</td>\n",
       "      <td>1297</td>\n",
       "      <td>55.380376</td>\n",
       "      <td>-30.643387</td>\n",
       "      <td>60234.141543</td>\n",
       "      <td>lsstr</td>\n",
       "      <td>24.270725</td>\n",
       "      <td>24.270725</td>\n",
       "      <td>2.640207</td>\n",
       "      <td>0.841041</td>\n",
       "      <td>...</td>\n",
       "      <td>NaN</td>\n",
       "      <td>NaN</td>\n",
       "      <td>NaN</td>\n",
       "      <td>NaN</td>\n",
       "      <td>NaN</td>\n",
       "      <td>NaN</td>\n",
       "      <td>NaN</td>\n",
       "      <td>NaN</td>\n",
       "      <td>NaN</td>\n",
       "      <td>NaN</td>\n",
       "    </tr>\n",
       "    <tr>\n",
       "      <th>1795</th>\n",
       "      <td>167</td>\n",
       "      <td>1297</td>\n",
       "      <td>55.380376</td>\n",
       "      <td>-30.643387</td>\n",
       "      <td>60234.141543</td>\n",
       "      <td>lsstr</td>\n",
       "      <td>24.270725</td>\n",
       "      <td>24.270725</td>\n",
       "      <td>2.640207</td>\n",
       "      <td>0.841041</td>\n",
       "      <td>...</td>\n",
       "      <td>NaN</td>\n",
       "      <td>NaN</td>\n",
       "      <td>NaN</td>\n",
       "      <td>NaN</td>\n",
       "      <td>NaN</td>\n",
       "      <td>NaN</td>\n",
       "      <td>NaN</td>\n",
       "      <td>NaN</td>\n",
       "      <td>NaN</td>\n",
       "      <td>NaN</td>\n",
       "    </tr>\n",
       "    <tr>\n",
       "      <th>1796</th>\n",
       "      <td>167</td>\n",
       "      <td>1297</td>\n",
       "      <td>55.380376</td>\n",
       "      <td>-30.643387</td>\n",
       "      <td>60234.141543</td>\n",
       "      <td>lsstr</td>\n",
       "      <td>24.270725</td>\n",
       "      <td>24.270725</td>\n",
       "      <td>2.640207</td>\n",
       "      <td>0.841041</td>\n",
       "      <td>...</td>\n",
       "      <td>NaN</td>\n",
       "      <td>NaN</td>\n",
       "      <td>NaN</td>\n",
       "      <td>NaN</td>\n",
       "      <td>NaN</td>\n",
       "      <td>NaN</td>\n",
       "      <td>NaN</td>\n",
       "      <td>NaN</td>\n",
       "      <td>NaN</td>\n",
       "      <td>NaN</td>\n",
       "    </tr>\n",
       "    <tr>\n",
       "      <th>1797</th>\n",
       "      <td>168</td>\n",
       "      <td>1309</td>\n",
       "      <td>55.941132</td>\n",
       "      <td>-30.420220</td>\n",
       "      <td>60234.142885</td>\n",
       "      <td>lsstr</td>\n",
       "      <td>24.355046</td>\n",
       "      <td>24.355046</td>\n",
       "      <td>2.631420</td>\n",
       "      <td>0.844130</td>\n",
       "      <td>...</td>\n",
       "      <td>NaN</td>\n",
       "      <td>NaN</td>\n",
       "      <td>NaN</td>\n",
       "      <td>NaN</td>\n",
       "      <td>NaN</td>\n",
       "      <td>NaN</td>\n",
       "      <td>NaN</td>\n",
       "      <td>NaN</td>\n",
       "      <td>NaN</td>\n",
       "      <td>NaN</td>\n",
       "    </tr>\n",
       "    <tr>\n",
       "      <th>1798</th>\n",
       "      <td>168</td>\n",
       "      <td>1309</td>\n",
       "      <td>55.941132</td>\n",
       "      <td>-30.420220</td>\n",
       "      <td>60234.142885</td>\n",
       "      <td>lsstr</td>\n",
       "      <td>24.355046</td>\n",
       "      <td>24.355046</td>\n",
       "      <td>2.631420</td>\n",
       "      <td>0.844130</td>\n",
       "      <td>...</td>\n",
       "      <td>NaN</td>\n",
       "      <td>NaN</td>\n",
       "      <td>NaN</td>\n",
       "      <td>NaN</td>\n",
       "      <td>NaN</td>\n",
       "      <td>NaN</td>\n",
       "      <td>NaN</td>\n",
       "      <td>NaN</td>\n",
       "      <td>NaN</td>\n",
       "      <td>NaN</td>\n",
       "    </tr>\n",
       "    <tr>\n",
       "      <th>1799</th>\n",
       "      <td>168</td>\n",
       "      <td>1309</td>\n",
       "      <td>55.941132</td>\n",
       "      <td>-30.420220</td>\n",
       "      <td>60234.142885</td>\n",
       "      <td>lsstr</td>\n",
       "      <td>24.355046</td>\n",
       "      <td>24.355046</td>\n",
       "      <td>2.631420</td>\n",
       "      <td>0.844130</td>\n",
       "      <td>...</td>\n",
       "      <td>NaN</td>\n",
       "      <td>NaN</td>\n",
       "      <td>NaN</td>\n",
       "      <td>NaN</td>\n",
       "      <td>NaN</td>\n",
       "      <td>NaN</td>\n",
       "      <td>NaN</td>\n",
       "      <td>NaN</td>\n",
       "      <td>NaN</td>\n",
       "      <td>NaN</td>\n",
       "    </tr>\n",
       "    <tr>\n",
       "      <th>1800</th>\n",
       "      <td>168</td>\n",
       "      <td>1309</td>\n",
       "      <td>55.941132</td>\n",
       "      <td>-30.420220</td>\n",
       "      <td>60234.142885</td>\n",
       "      <td>lsstr</td>\n",
       "      <td>24.355046</td>\n",
       "      <td>24.355046</td>\n",
       "      <td>2.631420</td>\n",
       "      <td>0.844130</td>\n",
       "      <td>...</td>\n",
       "      <td>NaN</td>\n",
       "      <td>NaN</td>\n",
       "      <td>NaN</td>\n",
       "      <td>NaN</td>\n",
       "      <td>NaN</td>\n",
       "      <td>NaN</td>\n",
       "      <td>NaN</td>\n",
       "      <td>NaN</td>\n",
       "      <td>NaN</td>\n",
       "      <td>NaN</td>\n",
       "    </tr>\n",
       "    <tr>\n",
       "      <th>1801</th>\n",
       "      <td>168</td>\n",
       "      <td>1309</td>\n",
       "      <td>55.941132</td>\n",
       "      <td>-30.420220</td>\n",
       "      <td>60234.142885</td>\n",
       "      <td>lsstr</td>\n",
       "      <td>24.355046</td>\n",
       "      <td>24.355046</td>\n",
       "      <td>2.631420</td>\n",
       "      <td>0.844130</td>\n",
       "      <td>...</td>\n",
       "      <td>NaN</td>\n",
       "      <td>NaN</td>\n",
       "      <td>NaN</td>\n",
       "      <td>NaN</td>\n",
       "      <td>NaN</td>\n",
       "      <td>NaN</td>\n",
       "      <td>NaN</td>\n",
       "      <td>NaN</td>\n",
       "      <td>NaN</td>\n",
       "      <td>NaN</td>\n",
       "    </tr>\n",
       "    <tr>\n",
       "      <th>1802</th>\n",
       "      <td>168</td>\n",
       "      <td>1309</td>\n",
       "      <td>55.941132</td>\n",
       "      <td>-30.420220</td>\n",
       "      <td>60234.142885</td>\n",
       "      <td>lsstr</td>\n",
       "      <td>24.355046</td>\n",
       "      <td>24.355046</td>\n",
       "      <td>2.631420</td>\n",
       "      <td>0.844130</td>\n",
       "      <td>...</td>\n",
       "      <td>NaN</td>\n",
       "      <td>NaN</td>\n",
       "      <td>NaN</td>\n",
       "      <td>NaN</td>\n",
       "      <td>NaN</td>\n",
       "      <td>NaN</td>\n",
       "      <td>NaN</td>\n",
       "      <td>NaN</td>\n",
       "      <td>NaN</td>\n",
       "      <td>NaN</td>\n",
       "    </tr>\n",
       "    <tr>\n",
       "      <th>1803</th>\n",
       "      <td>169</td>\n",
       "      <td>1297</td>\n",
       "      <td>56.951029</td>\n",
       "      <td>-30.781470</td>\n",
       "      <td>60234.155661</td>\n",
       "      <td>lsstr</td>\n",
       "      <td>24.364959</td>\n",
       "      <td>24.364959</td>\n",
       "      <td>2.593557</td>\n",
       "      <td>0.821506</td>\n",
       "      <td>...</td>\n",
       "      <td>NaN</td>\n",
       "      <td>NaN</td>\n",
       "      <td>NaN</td>\n",
       "      <td>NaN</td>\n",
       "      <td>NaN</td>\n",
       "      <td>NaN</td>\n",
       "      <td>NaN</td>\n",
       "      <td>NaN</td>\n",
       "      <td>NaN</td>\n",
       "      <td>NaN</td>\n",
       "    </tr>\n",
       "    <tr>\n",
       "      <th>1804</th>\n",
       "      <td>169</td>\n",
       "      <td>1297</td>\n",
       "      <td>56.951029</td>\n",
       "      <td>-30.781470</td>\n",
       "      <td>60234.155661</td>\n",
       "      <td>lsstr</td>\n",
       "      <td>24.364959</td>\n",
       "      <td>24.364959</td>\n",
       "      <td>2.593557</td>\n",
       "      <td>0.821506</td>\n",
       "      <td>...</td>\n",
       "      <td>NaN</td>\n",
       "      <td>NaN</td>\n",
       "      <td>NaN</td>\n",
       "      <td>NaN</td>\n",
       "      <td>NaN</td>\n",
       "      <td>NaN</td>\n",
       "      <td>NaN</td>\n",
       "      <td>NaN</td>\n",
       "      <td>NaN</td>\n",
       "      <td>NaN</td>\n",
       "    </tr>\n",
       "    <tr>\n",
       "      <th>1805</th>\n",
       "      <td>169</td>\n",
       "      <td>1297</td>\n",
       "      <td>56.951029</td>\n",
       "      <td>-30.781470</td>\n",
       "      <td>60234.155661</td>\n",
       "      <td>lsstr</td>\n",
       "      <td>24.364959</td>\n",
       "      <td>24.364959</td>\n",
       "      <td>2.593557</td>\n",
       "      <td>0.821506</td>\n",
       "      <td>...</td>\n",
       "      <td>NaN</td>\n",
       "      <td>NaN</td>\n",
       "      <td>NaN</td>\n",
       "      <td>NaN</td>\n",
       "      <td>NaN</td>\n",
       "      <td>NaN</td>\n",
       "      <td>NaN</td>\n",
       "      <td>NaN</td>\n",
       "      <td>NaN</td>\n",
       "      <td>NaN</td>\n",
       "    </tr>\n",
       "    <tr>\n",
       "      <th>1806</th>\n",
       "      <td>169</td>\n",
       "      <td>1297</td>\n",
       "      <td>56.951029</td>\n",
       "      <td>-30.781470</td>\n",
       "      <td>60234.155661</td>\n",
       "      <td>lsstr</td>\n",
       "      <td>24.364959</td>\n",
       "      <td>24.364959</td>\n",
       "      <td>2.593557</td>\n",
       "      <td>0.821506</td>\n",
       "      <td>...</td>\n",
       "      <td>NaN</td>\n",
       "      <td>NaN</td>\n",
       "      <td>NaN</td>\n",
       "      <td>NaN</td>\n",
       "      <td>NaN</td>\n",
       "      <td>NaN</td>\n",
       "      <td>NaN</td>\n",
       "      <td>NaN</td>\n",
       "      <td>NaN</td>\n",
       "      <td>NaN</td>\n",
       "    </tr>\n",
       "    <tr>\n",
       "      <th>1807</th>\n",
       "      <td>169</td>\n",
       "      <td>1297</td>\n",
       "      <td>56.951029</td>\n",
       "      <td>-30.781470</td>\n",
       "      <td>60234.155661</td>\n",
       "      <td>lsstr</td>\n",
       "      <td>24.364959</td>\n",
       "      <td>24.364959</td>\n",
       "      <td>2.593557</td>\n",
       "      <td>0.821506</td>\n",
       "      <td>...</td>\n",
       "      <td>NaN</td>\n",
       "      <td>NaN</td>\n",
       "      <td>NaN</td>\n",
       "      <td>NaN</td>\n",
       "      <td>NaN</td>\n",
       "      <td>NaN</td>\n",
       "      <td>NaN</td>\n",
       "      <td>NaN</td>\n",
       "      <td>NaN</td>\n",
       "      <td>NaN</td>\n",
       "    </tr>\n",
       "    <tr>\n",
       "      <th>1808</th>\n",
       "      <td>169</td>\n",
       "      <td>1297</td>\n",
       "      <td>56.951029</td>\n",
       "      <td>-30.781470</td>\n",
       "      <td>60234.155661</td>\n",
       "      <td>lsstr</td>\n",
       "      <td>24.364959</td>\n",
       "      <td>24.364959</td>\n",
       "      <td>2.593557</td>\n",
       "      <td>0.821506</td>\n",
       "      <td>...</td>\n",
       "      <td>NaN</td>\n",
       "      <td>NaN</td>\n",
       "      <td>NaN</td>\n",
       "      <td>NaN</td>\n",
       "      <td>NaN</td>\n",
       "      <td>NaN</td>\n",
       "      <td>NaN</td>\n",
       "      <td>NaN</td>\n",
       "      <td>NaN</td>\n",
       "      <td>NaN</td>\n",
       "    </tr>\n",
       "  </tbody>\n",
       "</table>\n",
       "<p>1809 rows × 29 columns</p>\n",
       "</div>"
      ],
      "text/plain": [
       "      index  fieldID  descDitheredRA  descDitheredDec        expMJD filter  \\\n",
       "0       107     1297       57.951252       -31.295413  60132.418248  lssty   \n",
       "1       107     1297       57.951252       -31.295413  60132.418248  lssty   \n",
       "2       107     1297       57.951252       -31.295413  60132.418248  lssty   \n",
       "3       107     1297       57.951252       -31.295413  60132.418248  lssty   \n",
       "4       107     1297       57.951252       -31.295413  60132.418248  lssty   \n",
       "5       107     1297       57.951252       -31.295413  60132.418248  lssty   \n",
       "6       108     1297       58.944666       -30.814988  60145.374232  lsstg   \n",
       "7       108     1297       58.944666       -30.814988  60145.374232  lsstg   \n",
       "8       108     1297       58.944666       -30.814988  60145.374232  lsstg   \n",
       "9       108     1297       58.944666       -30.814988  60145.374232  lsstg   \n",
       "10      108     1297       58.944666       -30.814988  60145.374232  lsstg   \n",
       "11      108     1297       58.944666       -30.814988  60145.374232  lsstg   \n",
       "12      109     1309       55.748583       -30.853548  60145.374680  lsstg   \n",
       "13      109     1309       55.748583       -30.853548  60145.374680  lsstg   \n",
       "14      109     1309       55.748583       -30.853548  60145.374680  lsstg   \n",
       "15      109     1309       55.748583       -30.853548  60145.374680  lsstg   \n",
       "16      109     1309       55.748583       -30.853548  60145.374680  lsstg   \n",
       "17      110     1297       57.343375       -29.619168  60145.390190  lsstg   \n",
       "18      110     1297       57.343375       -29.619168  60145.390190  lsstg   \n",
       "19      110     1297       57.343375       -29.619168  60145.390190  lsstg   \n",
       "20      110     1297       57.343375       -29.619168  60145.390190  lsstg   \n",
       "21      110     1297       57.343375       -29.619168  60145.390190  lsstg   \n",
       "22      110     1297       57.343375       -29.619168  60145.390190  lsstg   \n",
       "23      110     1297       57.343375       -29.619168  60145.390190  lsstg   \n",
       "24       13     1297       57.824230       -30.181010  59803.357884  lssty   \n",
       "25       13     1297       57.824230       -30.181010  59803.357884  lssty   \n",
       "26       13     1297       57.824230       -30.181010  59803.357884  lssty   \n",
       "27       13     1297       57.824230       -30.181010  59803.357884  lssty   \n",
       "28       13     1297       57.824230       -30.181010  59803.357884  lssty   \n",
       "29       13     1297       57.824230       -30.181010  59803.357884  lssty   \n",
       "...     ...      ...             ...              ...           ...    ...   \n",
       "1779    163     1178       58.522096       -32.514037  60224.167399  lsstr   \n",
       "1780    164     1309       55.003314       -31.464894  60232.149020  lsstr   \n",
       "1781    164     1309       55.003314       -31.464894  60232.149020  lsstr   \n",
       "1782    165     1297       58.683547       -30.177572  60232.154899  lsstr   \n",
       "1783    165     1297       58.683547       -30.177572  60232.154899  lsstr   \n",
       "1784    165     1297       58.683547       -30.177572  60232.154899  lsstr   \n",
       "1785    165     1297       58.683547       -30.177572  60232.154899  lsstr   \n",
       "1786    166     1297       55.925442       -30.549250  60232.172106  lsstr   \n",
       "1787    166     1297       55.925442       -30.549250  60232.172106  lsstr   \n",
       "1788    166     1297       55.925442       -30.549250  60232.172106  lsstr   \n",
       "1789    166     1297       55.925442       -30.549250  60232.172106  lsstr   \n",
       "1790    166     1297       55.925442       -30.549250  60232.172106  lsstr   \n",
       "1791    167     1297       55.380376       -30.643387  60234.141543  lsstr   \n",
       "1792    167     1297       55.380376       -30.643387  60234.141543  lsstr   \n",
       "1793    167     1297       55.380376       -30.643387  60234.141543  lsstr   \n",
       "1794    167     1297       55.380376       -30.643387  60234.141543  lsstr   \n",
       "1795    167     1297       55.380376       -30.643387  60234.141543  lsstr   \n",
       "1796    167     1297       55.380376       -30.643387  60234.141543  lsstr   \n",
       "1797    168     1309       55.941132       -30.420220  60234.142885  lsstr   \n",
       "1798    168     1309       55.941132       -30.420220  60234.142885  lsstr   \n",
       "1799    168     1309       55.941132       -30.420220  60234.142885  lsstr   \n",
       "1800    168     1309       55.941132       -30.420220  60234.142885  lsstr   \n",
       "1801    168     1309       55.941132       -30.420220  60234.142885  lsstr   \n",
       "1802    168     1309       55.941132       -30.420220  60234.142885  lsstr   \n",
       "1803    169     1297       56.951029       -30.781470  60234.155661  lsstr   \n",
       "1804    169     1297       56.951029       -30.781470  60234.155661  lsstr   \n",
       "1805    169     1297       56.951029       -30.781470  60234.155661  lsstr   \n",
       "1806    169     1297       56.951029       -30.781470  60234.155661  lsstr   \n",
       "1807    169     1297       56.951029       -30.781470  60234.155661  lsstr   \n",
       "1808    169     1297       56.951029       -30.781470  60234.155661  lsstr   \n",
       "\n",
       "      fiveSigmaDepth  fiveSigmaDepth.1  rotSkyPos  rotTelPos  ...  galaxy_id  \\\n",
       "0          22.135284         22.135284   2.065568   0.262857  ...        NaN   \n",
       "1          22.135284         22.135284   2.065568   0.262857  ...        NaN   \n",
       "2          22.135284         22.135284   2.065568   0.262857  ...        NaN   \n",
       "3          22.135284         22.135284   2.065568   0.262857  ...        NaN   \n",
       "4          22.135284         22.135284   2.065568   0.262857  ...        NaN   \n",
       "5          22.135284         22.135284   2.065568   0.262857  ...        NaN   \n",
       "6          24.418622         24.418622   2.866696   1.047071  ...        NaN   \n",
       "7          24.418622         24.418622   2.866696   1.047071  ...        NaN   \n",
       "8          24.418622         24.418622   2.866696   1.047071  ...        NaN   \n",
       "9          24.418622         24.418622   2.866696   1.047071  ...        NaN   \n",
       "10         24.418622         24.418622   2.866696   1.047071  ...        NaN   \n",
       "11         24.418622         24.418622   2.866696   1.047071  ...        NaN   \n",
       "12         24.481660         24.481660   2.856264   1.047964  ...        NaN   \n",
       "13         24.481660         24.481660   2.856264   1.047964  ...        NaN   \n",
       "14         24.481660         24.481660   2.856264   1.047964  ...        NaN   \n",
       "15         24.481660         24.481660   2.856264   1.047964  ...        NaN   \n",
       "16         24.481660         24.481660   2.856264   1.047964  ...        NaN   \n",
       "17         24.601762         24.601762   2.959792   1.171684  ...        NaN   \n",
       "18         24.601762         24.601762   2.959792   1.171684  ...        NaN   \n",
       "19         24.601762         24.601762   2.959792   1.171684  ...        NaN   \n",
       "20         24.601762         24.601762   2.959792   1.171684  ...        NaN   \n",
       "21         24.601762         24.601762   2.959792   1.171684  ...        NaN   \n",
       "22         24.601762         24.601762   2.959792   1.171684  ...        NaN   \n",
       "23         24.601762         24.601762   2.959792   1.171684  ...        NaN   \n",
       "24         22.194237         22.194237   2.047766   0.319852  ...        NaN   \n",
       "25         22.194237         22.194237   2.047766   0.319852  ...        NaN   \n",
       "26         22.194237         22.194237   2.047766   0.319852  ...        NaN   \n",
       "27         22.194237         22.194237   2.047766   0.319852  ...        NaN   \n",
       "28         22.194237         22.194237   2.047766   0.319852  ...        NaN   \n",
       "29         22.194237         22.194237   2.047766   0.319852  ...        NaN   \n",
       "...              ...               ...        ...        ...  ...        ...   \n",
       "1779       24.137118         24.137118   3.067222   1.308774  ...        NaN   \n",
       "1780       24.272844         24.272844   2.015027   0.228986  ...        NaN   \n",
       "1781       24.272844         24.272844   2.015027   0.228986  ...        NaN   \n",
       "1782       24.309231         24.309231   2.031281   0.247580  ...        NaN   \n",
       "1783       24.309231         24.309231   2.031281   0.247580  ...        NaN   \n",
       "1784       24.309231         24.309231   2.031281   0.247580  ...        NaN   \n",
       "1785       24.309231         24.309231   2.031281   0.247580  ...        NaN   \n",
       "1786       24.462647         24.462647   2.053374   0.302973  ...        NaN   \n",
       "1787       24.462647         24.462647   2.053374   0.302973  ...        NaN   \n",
       "1788       24.462647         24.462647   2.053374   0.302973  ...        NaN   \n",
       "1789       24.462647         24.462647   2.053374   0.302973  ...        NaN   \n",
       "1790       24.462647         24.462647   2.053374   0.302973  ...        NaN   \n",
       "1791       24.270725         24.270725   2.640207   0.841041  ...        NaN   \n",
       "1792       24.270725         24.270725   2.640207   0.841041  ...        NaN   \n",
       "1793       24.270725         24.270725   2.640207   0.841041  ...        NaN   \n",
       "1794       24.270725         24.270725   2.640207   0.841041  ...        NaN   \n",
       "1795       24.270725         24.270725   2.640207   0.841041  ...        NaN   \n",
       "1796       24.270725         24.270725   2.640207   0.841041  ...        NaN   \n",
       "1797       24.355046         24.355046   2.631420   0.844130  ...        NaN   \n",
       "1798       24.355046         24.355046   2.631420   0.844130  ...        NaN   \n",
       "1799       24.355046         24.355046   2.631420   0.844130  ...        NaN   \n",
       "1800       24.355046         24.355046   2.631420   0.844130  ...        NaN   \n",
       "1801       24.355046         24.355046   2.631420   0.844130  ...        NaN   \n",
       "1802       24.355046         24.355046   2.631420   0.844130  ...        NaN   \n",
       "1803       24.364959         24.364959   2.593557   0.821506  ...        NaN   \n",
       "1804       24.364959         24.364959   2.593557   0.821506  ...        NaN   \n",
       "1805       24.364959         24.364959   2.593557   0.821506  ...        NaN   \n",
       "1806       24.364959         24.364959   2.593557   0.821506  ...        NaN   \n",
       "1807       24.364959         24.364959   2.593557   0.821506  ...        NaN   \n",
       "1808       24.364959         24.364959   2.593557   0.821506  ...        NaN   \n",
       "\n",
       "      c_in  mB t0_in x0_in  x1_in  z_in snid_in_par  snra_in  sndec_in  \n",
       "0      NaN NaN   NaN   NaN    NaN   NaN         NaN      NaN       NaN  \n",
       "1      NaN NaN   NaN   NaN    NaN   NaN         NaN      NaN       NaN  \n",
       "2      NaN NaN   NaN   NaN    NaN   NaN         NaN      NaN       NaN  \n",
       "3      NaN NaN   NaN   NaN    NaN   NaN         NaN      NaN       NaN  \n",
       "4      NaN NaN   NaN   NaN    NaN   NaN         NaN      NaN       NaN  \n",
       "5      NaN NaN   NaN   NaN    NaN   NaN         NaN      NaN       NaN  \n",
       "6      NaN NaN   NaN   NaN    NaN   NaN         NaN      NaN       NaN  \n",
       "7      NaN NaN   NaN   NaN    NaN   NaN         NaN      NaN       NaN  \n",
       "8      NaN NaN   NaN   NaN    NaN   NaN         NaN      NaN       NaN  \n",
       "9      NaN NaN   NaN   NaN    NaN   NaN         NaN      NaN       NaN  \n",
       "10     NaN NaN   NaN   NaN    NaN   NaN         NaN      NaN       NaN  \n",
       "11     NaN NaN   NaN   NaN    NaN   NaN         NaN      NaN       NaN  \n",
       "12     NaN NaN   NaN   NaN    NaN   NaN         NaN      NaN       NaN  \n",
       "13     NaN NaN   NaN   NaN    NaN   NaN         NaN      NaN       NaN  \n",
       "14     NaN NaN   NaN   NaN    NaN   NaN         NaN      NaN       NaN  \n",
       "15     NaN NaN   NaN   NaN    NaN   NaN         NaN      NaN       NaN  \n",
       "16     NaN NaN   NaN   NaN    NaN   NaN         NaN      NaN       NaN  \n",
       "17     NaN NaN   NaN   NaN    NaN   NaN         NaN      NaN       NaN  \n",
       "18     NaN NaN   NaN   NaN    NaN   NaN         NaN      NaN       NaN  \n",
       "19     NaN NaN   NaN   NaN    NaN   NaN         NaN      NaN       NaN  \n",
       "20     NaN NaN   NaN   NaN    NaN   NaN         NaN      NaN       NaN  \n",
       "21     NaN NaN   NaN   NaN    NaN   NaN         NaN      NaN       NaN  \n",
       "22     NaN NaN   NaN   NaN    NaN   NaN         NaN      NaN       NaN  \n",
       "23     NaN NaN   NaN   NaN    NaN   NaN         NaN      NaN       NaN  \n",
       "24     NaN NaN   NaN   NaN    NaN   NaN         NaN      NaN       NaN  \n",
       "25     NaN NaN   NaN   NaN    NaN   NaN         NaN      NaN       NaN  \n",
       "26     NaN NaN   NaN   NaN    NaN   NaN         NaN      NaN       NaN  \n",
       "27     NaN NaN   NaN   NaN    NaN   NaN         NaN      NaN       NaN  \n",
       "28     NaN NaN   NaN   NaN    NaN   NaN         NaN      NaN       NaN  \n",
       "29     NaN NaN   NaN   NaN    NaN   NaN         NaN      NaN       NaN  \n",
       "...    ...  ..   ...   ...    ...   ...         ...      ...       ...  \n",
       "1779   NaN NaN   NaN   NaN    NaN   NaN         NaN      NaN       NaN  \n",
       "1780   NaN NaN   NaN   NaN    NaN   NaN         NaN      NaN       NaN  \n",
       "1781   NaN NaN   NaN   NaN    NaN   NaN         NaN      NaN       NaN  \n",
       "1782   NaN NaN   NaN   NaN    NaN   NaN         NaN      NaN       NaN  \n",
       "1783   NaN NaN   NaN   NaN    NaN   NaN         NaN      NaN       NaN  \n",
       "1784   NaN NaN   NaN   NaN    NaN   NaN         NaN      NaN       NaN  \n",
       "1785   NaN NaN   NaN   NaN    NaN   NaN         NaN      NaN       NaN  \n",
       "1786   NaN NaN   NaN   NaN    NaN   NaN         NaN      NaN       NaN  \n",
       "1787   NaN NaN   NaN   NaN    NaN   NaN         NaN      NaN       NaN  \n",
       "1788   NaN NaN   NaN   NaN    NaN   NaN         NaN      NaN       NaN  \n",
       "1789   NaN NaN   NaN   NaN    NaN   NaN         NaN      NaN       NaN  \n",
       "1790   NaN NaN   NaN   NaN    NaN   NaN         NaN      NaN       NaN  \n",
       "1791   NaN NaN   NaN   NaN    NaN   NaN         NaN      NaN       NaN  \n",
       "1792   NaN NaN   NaN   NaN    NaN   NaN         NaN      NaN       NaN  \n",
       "1793   NaN NaN   NaN   NaN    NaN   NaN         NaN      NaN       NaN  \n",
       "1794   NaN NaN   NaN   NaN    NaN   NaN         NaN      NaN       NaN  \n",
       "1795   NaN NaN   NaN   NaN    NaN   NaN         NaN      NaN       NaN  \n",
       "1796   NaN NaN   NaN   NaN    NaN   NaN         NaN      NaN       NaN  \n",
       "1797   NaN NaN   NaN   NaN    NaN   NaN         NaN      NaN       NaN  \n",
       "1798   NaN NaN   NaN   NaN    NaN   NaN         NaN      NaN       NaN  \n",
       "1799   NaN NaN   NaN   NaN    NaN   NaN         NaN      NaN       NaN  \n",
       "1800   NaN NaN   NaN   NaN    NaN   NaN         NaN      NaN       NaN  \n",
       "1801   NaN NaN   NaN   NaN    NaN   NaN         NaN      NaN       NaN  \n",
       "1802   NaN NaN   NaN   NaN    NaN   NaN         NaN      NaN       NaN  \n",
       "1803   NaN NaN   NaN   NaN    NaN   NaN         NaN      NaN       NaN  \n",
       "1804   NaN NaN   NaN   NaN    NaN   NaN         NaN      NaN       NaN  \n",
       "1805   NaN NaN   NaN   NaN    NaN   NaN         NaN      NaN       NaN  \n",
       "1806   NaN NaN   NaN   NaN    NaN   NaN         NaN      NaN       NaN  \n",
       "1807   NaN NaN   NaN   NaN    NaN   NaN         NaN      NaN       NaN  \n",
       "1808   NaN NaN   NaN   NaN    NaN   NaN         NaN      NaN       NaN  \n",
       "\n",
       "[1809 rows x 29 columns]"
      ]
     },
     "execution_count": 96,
     "metadata": {},
     "output_type": "execute_result"
    }
   ],
   "source": [
    "merged"
   ]
  },
  {
   "cell_type": "code",
   "execution_count": 97,
   "metadata": {},
   "outputs": [
    {
     "data": {
      "text/plain": [
       "0"
      ]
     },
     "execution_count": 97,
     "metadata": {},
     "output_type": "execute_result"
    }
   ],
   "source": [
    "np.sum(merged['x0_in'].notnull())"
   ]
  },
  {
   "cell_type": "code",
   "execution_count": 98,
   "metadata": {},
   "outputs": [
    {
     "data": {
      "text/plain": [
       "['id',\n",
       " 'coord_ra',\n",
       " 'coord_dec',\n",
       " 'parent',\n",
       " 'flags_negative',\n",
       " 'base_NaiveCentroid_x',\n",
       " 'base_NaiveCentroid_y',\n",
       " 'base_NaiveCentroid_flag',\n",
       " 'base_NaiveCentroid_flag_noCounts',\n",
       " 'base_NaiveCentroid_flag_edge',\n",
       " 'base_NaiveCentroid_flag_resetToPeak',\n",
       " 'base_PeakCentroid_x',\n",
       " 'base_PeakCentroid_y',\n",
       " 'base_PeakCentroid_flag',\n",
       " 'base_SdssCentroid_x',\n",
       " 'base_SdssCentroid_y',\n",
       " 'base_SdssCentroid_xErr',\n",
       " 'base_SdssCentroid_yErr',\n",
       " 'base_SdssCentroid_flag',\n",
       " 'base_SdssCentroid_flag_edge',\n",
       " 'base_SdssCentroid_flag_noSecondDerivative',\n",
       " 'base_SdssCentroid_flag_almostNoSecondDerivative',\n",
       " 'base_SdssCentroid_flag_notAtMaximum',\n",
       " 'base_SdssCentroid_flag_resetToPeak',\n",
       " 'ip_diffim_NaiveDipoleCentroid_flag',\n",
       " 'base_CircularApertureFlux_flag_badCentroid',\n",
       " 'base_GaussianFlux_flag_badCentroid',\n",
       " 'base_NaiveCentroid_flag_badInitialCentroid',\n",
       " 'base_PeakLikelihoodFlux_flag_badCentroid',\n",
       " 'base_PsfFlux_flag_badCentroid',\n",
       " 'base_SdssCentroid_flag_badInitialCentroid',\n",
       " 'base_SdssShape_flag_badCentroid',\n",
       " 'slot_Centroid_flag',\n",
       " 'ip_diffim_NaiveDipoleCentroid_pos_flag',\n",
       " 'slot_Centroid_pos_flag',\n",
       " 'ip_diffim_NaiveDipoleCentroid_neg_flag',\n",
       " 'slot_Centroid_neg_flag',\n",
       " 'ip_diffim_NaiveDipoleCentroid_x',\n",
       " 'slot_Centroid_x',\n",
       " 'ip_diffim_NaiveDipoleCentroid_y',\n",
       " 'slot_Centroid_y',\n",
       " 'ip_diffim_NaiveDipoleCentroid_xErr',\n",
       " 'slot_Centroid_xErr',\n",
       " 'ip_diffim_NaiveDipoleCentroid_yErr',\n",
       " 'slot_Centroid_yErr',\n",
       " 'ip_diffim_NaiveDipoleCentroid_pos_x',\n",
       " 'slot_Centroid_pos_x',\n",
       " 'ip_diffim_NaiveDipoleCentroid_pos_y',\n",
       " 'slot_Centroid_pos_y',\n",
       " 'ip_diffim_NaiveDipoleCentroid_pos_xErr',\n",
       " 'slot_Centroid_pos_xErr',\n",
       " 'ip_diffim_NaiveDipoleCentroid_pos_yErr',\n",
       " 'slot_Centroid_pos_yErr',\n",
       " 'ip_diffim_NaiveDipoleCentroid_neg_x',\n",
       " 'slot_Centroid_neg_x',\n",
       " 'ip_diffim_NaiveDipoleCentroid_neg_y',\n",
       " 'slot_Centroid_neg_y',\n",
       " 'ip_diffim_NaiveDipoleCentroid_neg_xErr',\n",
       " 'slot_Centroid_neg_xErr',\n",
       " 'ip_diffim_NaiveDipoleCentroid_neg_yErr',\n",
       " 'slot_Centroid_neg_yErr',\n",
       " 'base_SdssShape_xx',\n",
       " 'slot_Shape_xx',\n",
       " 'base_SdssShape_yy',\n",
       " 'slot_Shape_yy',\n",
       " 'base_SdssShape_xy',\n",
       " 'slot_Shape_xy',\n",
       " 'base_SdssShape_xxErr',\n",
       " 'slot_Shape_xxErr',\n",
       " 'base_SdssShape_yyErr',\n",
       " 'slot_Shape_yyErr',\n",
       " 'base_SdssShape_xyErr',\n",
       " 'slot_Shape_xyErr',\n",
       " 'base_SdssShape_x',\n",
       " 'slot_Shape_x',\n",
       " 'base_SdssShape_y',\n",
       " 'slot_Shape_y',\n",
       " 'base_SdssShape_instFlux',\n",
       " 'slot_Shape_instFlux',\n",
       " 'base_SdssShape_instFluxErr',\n",
       " 'slot_Shape_instFluxErr',\n",
       " 'base_SdssShape_psf_xx',\n",
       " 'slot_PsfShape_xx',\n",
       " 'slot_Shape_psf_xx',\n",
       " 'base_SdssShape_psf_yy',\n",
       " 'slot_PsfShape_yy',\n",
       " 'slot_Shape_psf_yy',\n",
       " 'base_SdssShape_psf_xy',\n",
       " 'slot_PsfShape_xy',\n",
       " 'slot_Shape_psf_xy',\n",
       " 'base_SdssShape_instFlux_xx_Cov',\n",
       " 'slot_Shape_instFlux_xx_Cov',\n",
       " 'base_SdssShape_instFlux_yy_Cov',\n",
       " 'slot_Shape_instFlux_yy_Cov',\n",
       " 'base_SdssShape_instFlux_xy_Cov',\n",
       " 'slot_Shape_instFlux_xy_Cov',\n",
       " 'base_SdssShape_flag',\n",
       " 'base_GaussianFlux_flag_badShape',\n",
       " 'slot_Shape_flag',\n",
       " 'base_SdssShape_flag_unweightedBad',\n",
       " 'base_GaussianFlux_flag_badShape_unweightedBad',\n",
       " 'slot_Shape_flag_unweightedBad',\n",
       " 'base_SdssShape_flag_unweighted',\n",
       " 'base_GaussianFlux_flag_badShape_unweighted',\n",
       " 'slot_Shape_flag_unweighted',\n",
       " 'base_SdssShape_flag_shift',\n",
       " 'base_GaussianFlux_flag_badShape_shift',\n",
       " 'slot_Shape_flag_shift',\n",
       " 'base_SdssShape_flag_maxIter',\n",
       " 'base_GaussianFlux_flag_badShape_maxIter',\n",
       " 'slot_Shape_flag_maxIter',\n",
       " 'base_SdssShape_flag_psf',\n",
       " 'base_GaussianFlux_flag_badShape_psf',\n",
       " 'slot_Shape_flag_psf',\n",
       " 'base_CircularApertureFlux_3_0_instFlux',\n",
       " 'base_CircularApertureFlux_3_0_instFluxErr',\n",
       " 'base_CircularApertureFlux_3_0_flag',\n",
       " 'base_CircularApertureFlux_3_0_flag_apertureTruncated',\n",
       " 'base_CircularApertureFlux_3_0_flag_sincCoeffsTruncated',\n",
       " 'base_CircularApertureFlux_4_5_instFlux',\n",
       " 'base_CircularApertureFlux_4_5_instFluxErr',\n",
       " 'base_CircularApertureFlux_4_5_flag',\n",
       " 'base_CircularApertureFlux_4_5_flag_apertureTruncated',\n",
       " 'base_CircularApertureFlux_4_5_flag_sincCoeffsTruncated',\n",
       " 'base_CircularApertureFlux_6_0_instFlux',\n",
       " 'base_CircularApertureFlux_6_0_instFluxErr',\n",
       " 'base_CircularApertureFlux_6_0_flag',\n",
       " 'base_CircularApertureFlux_6_0_flag_apertureTruncated',\n",
       " 'base_CircularApertureFlux_6_0_flag_sincCoeffsTruncated',\n",
       " 'base_CircularApertureFlux_9_0_instFlux',\n",
       " 'base_CircularApertureFlux_9_0_instFluxErr',\n",
       " 'base_CircularApertureFlux_9_0_flag',\n",
       " 'base_CircularApertureFlux_9_0_flag_apertureTruncated',\n",
       " 'base_CircularApertureFlux_9_0_flag_sincCoeffsTruncated',\n",
       " 'base_CircularApertureFlux_12_0_instFlux',\n",
       " 'slot_ApFlux_instFlux',\n",
       " 'base_CircularApertureFlux_12_0_instFluxErr',\n",
       " 'slot_ApFlux_instFluxErr',\n",
       " 'base_CircularApertureFlux_12_0_flag',\n",
       " 'slot_ApFlux_flag',\n",
       " 'base_CircularApertureFlux_12_0_flag_apertureTruncated',\n",
       " 'slot_ApFlux_flag_apertureTruncated',\n",
       " 'base_CircularApertureFlux_17_0_instFlux',\n",
       " 'base_CircularApertureFlux_17_0_instFluxErr',\n",
       " 'base_CircularApertureFlux_17_0_flag',\n",
       " 'base_CircularApertureFlux_17_0_flag_apertureTruncated',\n",
       " 'base_CircularApertureFlux_25_0_instFlux',\n",
       " 'base_CircularApertureFlux_25_0_instFluxErr',\n",
       " 'base_CircularApertureFlux_25_0_flag',\n",
       " 'base_CircularApertureFlux_25_0_flag_apertureTruncated',\n",
       " 'base_CircularApertureFlux_35_0_instFlux',\n",
       " 'base_CircularApertureFlux_35_0_instFluxErr',\n",
       " 'base_CircularApertureFlux_35_0_flag',\n",
       " 'base_CircularApertureFlux_35_0_flag_apertureTruncated',\n",
       " 'base_CircularApertureFlux_50_0_instFlux',\n",
       " 'base_CircularApertureFlux_50_0_instFluxErr',\n",
       " 'base_CircularApertureFlux_50_0_flag',\n",
       " 'base_CircularApertureFlux_50_0_flag_apertureTruncated',\n",
       " 'base_CircularApertureFlux_70_0_instFlux',\n",
       " 'base_CircularApertureFlux_70_0_instFluxErr',\n",
       " 'base_CircularApertureFlux_70_0_flag',\n",
       " 'base_CircularApertureFlux_70_0_flag_apertureTruncated',\n",
       " 'base_GaussianFlux_instFlux',\n",
       " 'base_GaussianFlux_instFluxErr',\n",
       " 'base_GaussianFlux_flag',\n",
       " 'base_PeakLikelihoodFlux_instFlux',\n",
       " 'base_PeakLikelihoodFlux_instFluxErr',\n",
       " 'base_PeakLikelihoodFlux_flag',\n",
       " 'base_PixelFlags_flag',\n",
       " 'base_PixelFlags_flag_offimage',\n",
       " 'base_PixelFlags_flag_edge',\n",
       " 'base_PixelFlags_flag_interpolated',\n",
       " 'base_PixelFlags_flag_saturated',\n",
       " 'base_PixelFlags_flag_cr',\n",
       " 'base_PixelFlags_flag_bad',\n",
       " 'base_PixelFlags_flag_suspect',\n",
       " 'base_PixelFlags_flag_interpolatedCenter',\n",
       " 'base_PixelFlags_flag_saturatedCenter',\n",
       " 'base_PixelFlags_flag_crCenter',\n",
       " 'base_PixelFlags_flag_suspectCenter',\n",
       " 'base_PsfFlux_instFlux',\n",
       " 'slot_PsfFlux_instFlux',\n",
       " 'base_PsfFlux_instFluxErr',\n",
       " 'slot_PsfFlux_instFluxErr',\n",
       " 'base_PsfFlux_area',\n",
       " 'slot_PsfFlux_area',\n",
       " 'base_PsfFlux_flag',\n",
       " 'slot_PsfFlux_flag',\n",
       " 'base_PsfFlux_flag_noGoodPixels',\n",
       " 'slot_PsfFlux_flag_noGoodPixels',\n",
       " 'base_PsfFlux_flag_edge',\n",
       " 'slot_PsfFlux_flag_edge',\n",
       " 'ip_diffim_NaiveDipoleFlux_flag',\n",
       " 'ip_diffim_NaiveDipoleFlux_pos_flag',\n",
       " 'ip_diffim_NaiveDipoleFlux_neg_flag',\n",
       " 'ip_diffim_NaiveDipoleFlux_pos_instFlux',\n",
       " 'ip_diffim_NaiveDipoleFlux_pos_instFluxErr',\n",
       " 'ip_diffim_NaiveDipoleFlux_neg_instFlux',\n",
       " 'ip_diffim_NaiveDipoleFlux_neg_instFluxErr',\n",
       " 'ip_diffim_NaiveDipoleFlux_npos',\n",
       " 'ip_diffim_NaiveDipoleFlux_nneg',\n",
       " 'ip_diffim_PsfDipoleFlux_flag',\n",
       " 'ip_diffim_PsfDipoleFlux_pos_flag',\n",
       " 'ip_diffim_PsfDipoleFlux_neg_flag',\n",
       " 'ip_diffim_PsfDipoleFlux_pos_instFlux',\n",
       " 'ip_diffim_PsfDipoleFlux_pos_instFluxErr',\n",
       " 'ip_diffim_PsfDipoleFlux_neg_instFlux',\n",
       " 'ip_diffim_PsfDipoleFlux_neg_instFluxErr',\n",
       " 'ip_diffim_PsfDipoleFlux_chi2dof',\n",
       " 'ip_diffim_PsfDipoleFlux_pos_centroid_x',\n",
       " 'ip_diffim_PsfDipoleFlux_pos_centroid_y',\n",
       " 'ip_diffim_PsfDipoleFlux_pos_centroid_xErr',\n",
       " 'ip_diffim_PsfDipoleFlux_pos_centroid_yErr',\n",
       " 'ip_diffim_PsfDipoleFlux_neg_centroid_x',\n",
       " 'ip_diffim_PsfDipoleFlux_neg_centroid_y',\n",
       " 'ip_diffim_PsfDipoleFlux_neg_centroid_xErr',\n",
       " 'ip_diffim_PsfDipoleFlux_neg_centroid_yErr',\n",
       " 'ip_diffim_PsfDipoleFlux_centroid_x',\n",
       " 'ip_diffim_PsfDipoleFlux_centroid_y',\n",
       " 'ip_diffim_PsfDipoleFlux_centroid_xErr',\n",
       " 'ip_diffim_PsfDipoleFlux_centroid_yErr',\n",
       " 'ip_diffim_ClassificationDipole_value',\n",
       " 'ip_diffim_ClassificationDipole_flag',\n",
       " 'ip_diffim_DipoleFit_pos_instFlux',\n",
       " 'ip_diffim_DipoleFit_pos_instFluxErr',\n",
       " 'ip_diffim_DipoleFit_pos_centroid_x',\n",
       " 'ip_diffim_DipoleFit_pos_centroid_y',\n",
       " 'ip_diffim_DipoleFit_neg_instFlux',\n",
       " 'ip_diffim_DipoleFit_neg_instFluxErr',\n",
       " 'ip_diffim_DipoleFit_neg_centroid_x',\n",
       " 'ip_diffim_DipoleFit_neg_centroid_y',\n",
       " 'ip_diffim_DipoleFit_centroid_x',\n",
       " 'ip_diffim_DipoleFit_centroid_y',\n",
       " 'ip_diffim_DipoleFit_instFlux',\n",
       " 'ip_diffim_DipoleFit_orientation',\n",
       " 'ip_diffim_DipoleFit_separation',\n",
       " 'ip_diffim_DipoleFit_chi2dof',\n",
       " 'ip_diffim_DipoleFit_signalToNoise',\n",
       " 'ip_diffim_DipoleFit_flag_classification',\n",
       " 'ip_diffim_DipoleFit_flag_classificationAttempted',\n",
       " 'ip_diffim_DipoleFit_flag',\n",
       " 'ip_diffim_DipoleFit_flag_edge',\n",
       " 'ip_diffim_forced_PsfFlux_instFlux',\n",
       " 'ip_diffim_forced_PsfFlux_instFluxErr',\n",
       " 'ip_diffim_forced_PsfFlux_area',\n",
       " 'ip_diffim_forced_PsfFlux_flag',\n",
       " 'ip_diffim_forced_PsfFlux_flag_noGoodPixels',\n",
       " 'ip_diffim_forced_PsfFlux_flag_edge',\n",
       " 'visit_n',\n",
       " 'filter',\n",
       " 'raft',\n",
       " 'sensor',\n",
       " 'detector']"
      ]
     },
     "execution_count": 98,
     "metadata": {},
     "output_type": "execute_result"
    }
   ],
   "source": [
    "mastercat.colnames"
   ]
  },
  {
   "cell_type": "code",
   "execution_count": null,
   "metadata": {},
   "outputs": [],
   "source": []
  },
  {
   "cell_type": "code",
   "execution_count": null,
   "metadata": {},
   "outputs": [],
   "source": []
  }
 ],
 "metadata": {
  "kernelspec": {
   "display_name": "desc-dia",
   "language": "python",
   "name": "desc-dia"
  },
  "language_info": {
   "codemirror_mode": {
    "name": "ipython",
    "version": 3
   },
   "file_extension": ".py",
   "mimetype": "text/x-python",
   "name": "python",
   "nbconvert_exporter": "python",
   "pygments_lexer": "ipython3",
   "version": "3.7.5"
  }
 },
 "nbformat": 4,
 "nbformat_minor": 4
}
