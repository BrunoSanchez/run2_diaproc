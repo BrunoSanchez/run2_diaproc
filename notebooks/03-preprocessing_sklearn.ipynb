{
 "cells": [
  {
   "cell_type": "code",
   "execution_count": 9,
   "metadata": {},
   "outputs": [],
   "source": [
    "import os\n",
    "os.environ['SCRATCH']='/global/cscratch1/sd/bos0109'\n",
    "SCRATCH = %env SCRATCH"
   ]
  },
  {
   "cell_type": "code",
   "execution_count": 1,
   "metadata": {},
   "outputs": [],
   "source": [
    "import numpy as np\n",
    "import pandas as pd\n",
    "from astropy.stats import sigma_clipped_stats "
   ]
  },
  {
   "cell_type": "code",
   "execution_count": 2,
   "metadata": {},
   "outputs": [],
   "source": [
    "import matplotlib.pyplot as plt\n",
    "%matplotlib inline"
   ]
  },
  {
   "cell_type": "code",
   "execution_count": 3,
   "metadata": {},
   "outputs": [],
   "source": [
    "reals = pd.read_csv(f'{SCRATCH}/results/reals_table_post.csv')\n",
    "bogus = pd.read_csv(f'{SCRATCH}/results/bogus_table_post.csv')#.sample(frac=0.01)\n",
    "matched_lcs = pd.read_csv(f'{SCRATCH}/results/matched_lcs_visit_by_visit.csv')"
   ]
  },
  {
   "cell_type": "code",
   "execution_count": 4,
   "metadata": {},
   "outputs": [],
   "source": [
    "reals['REAL'] = True\n",
    "bogus['REAL'] = False"
   ]
  },
  {
   "cell_type": "code",
   "execution_count": 5,
   "metadata": {},
   "outputs": [
    {
     "data": {
      "text/plain": [
       "(1432, 634976)"
      ]
     },
     "execution_count": 5,
     "metadata": {},
     "output_type": "execute_result"
    }
   ],
   "source": [
    "len(reals), len(bogus)"
   ]
  },
  {
   "cell_type": "code",
   "execution_count": 6,
   "metadata": {},
   "outputs": [],
   "source": [
    "from sklearn import preprocessing"
   ]
  },
  {
   "cell_type": "code",
   "execution_count": 7,
   "metadata": {},
   "outputs": [],
   "source": [
    "cols = list(reals.columns)\n",
    "for acol in ['id', 'Unnamed: 0', 'REAL', 'cxmatch', 'sn_row', 'match_ang_dist', \n",
    "             'sn_id', 'raft', 'sensor', 'filter', 'coord_ra', 'coord_dec']:\n",
    "    cols.remove(acol)"
   ]
  },
  {
   "cell_type": "code",
   "execution_count": 8,
   "metadata": {},
   "outputs": [],
   "source": [
    "for acol in ['ip_diffim_NaiveDipoleCentroid_pos_x', 'slot_Centroid_pos_x', 'ip_diffim_NaiveDipoleCentroid_pos_y', 'slot_Centroid_pos_y']:\n",
    "    cols.remove(acol)"
   ]
  },
  {
   "cell_type": "code",
   "execution_count": 9,
   "metadata": {},
   "outputs": [],
   "source": [
    "to_remove = [acol for acol in cols if '_x' in acol or '_y' in acol]"
   ]
  },
  {
   "cell_type": "code",
   "execution_count": 10,
   "metadata": {},
   "outputs": [],
   "source": [
    "for acol in to_remove:\n",
    "    cols.remove(acol)"
   ]
  },
  {
   "cell_type": "code",
   "execution_count": 11,
   "metadata": {},
   "outputs": [],
   "source": [
    "X = pd.concat([reals, bogus])[cols]\n",
    "Y = pd.concat([reals, bogus])['REAL']"
   ]
  },
  {
   "cell_type": "code",
   "execution_count": 12,
   "metadata": {},
   "outputs": [],
   "source": [
    "x_names = list(X.columns)\n",
    "X_data = X.values.astype(float)"
   ]
  },
  {
   "cell_type": "code",
   "execution_count": 13,
   "metadata": {},
   "outputs": [
    {
     "data": {
      "text/plain": [
       "array([[1.82432000e+05, 0.00000000e+00, 0.00000000e+00, ...,\n",
       "        5.44414864e+00, 5.22739647e+00, 5.09918130e-01],\n",
       "       [1.83031000e+05, 0.00000000e+00, 0.00000000e+00, ...,\n",
       "        4.87152714e+00, 5.21383765e+00, 1.32872084e+00],\n",
       "       [1.83144000e+05, 0.00000000e+00, 0.00000000e+00, ...,\n",
       "        5.20209479e+00, 4.72667356e+00, 5.49518789e-01],\n",
       "       ...,\n",
       "       [6.29601000e+05, 0.00000000e+00, 0.00000000e+00, ...,\n",
       "        4.08146246e+02, 3.19156180e+00,            nan],\n",
       "       [6.29602000e+05, 0.00000000e+00, 0.00000000e+00, ...,\n",
       "                   nan, 3.29763322e+00,            nan],\n",
       "       [6.29603000e+05, 0.00000000e+00, 0.00000000e+00, ...,\n",
       "        2.41309338e+00, 3.18519382e+00, 7.62940416e-01]])"
      ]
     },
     "execution_count": 13,
     "metadata": {},
     "output_type": "execute_result"
    }
   ],
   "source": [
    "X_data"
   ]
  },
  {
   "cell_type": "code",
   "execution_count": 14,
   "metadata": {},
   "outputs": [
    {
     "name": "stdout",
     "output_type": "stream",
     "text": [
      "ip_diffim_NaiveDipoleFlux_neg_instFluxErr  has no finite values\n",
      "ip_diffim_NaiveDipoleFlux_neg_instFlux_SN  has no finite values\n"
     ]
    }
   ],
   "source": [
    "columns_to_throw = []\n",
    "icolumns_to_throw = []\n",
    "for ii in range(X_data.shape[1]):\n",
    "    col = X_data[:, ii]\n",
    "    if np.sum(np.isfinite(col)) == 0:\n",
    "        print(x_names[ii], ' has no finite values')\n",
    "        columns_to_throw.append(x_names[ii])\n",
    "        icolumns_to_throw.append(ii)\n",
    "        \n",
    "        continue\n",
    "    infs = np.isposinf(col)\n",
    "    neginfs = np.isneginf(col)\n",
    "    X_data[infs, ii] = np.max(col[np.isfinite(col)])\n",
    "    X_data[neginfs, ii] = np.min(col[np.isfinite(col)])"
   ]
  },
  {
   "cell_type": "code",
   "execution_count": 15,
   "metadata": {},
   "outputs": [
    {
     "data": {
      "text/plain": [
       "['ip_diffim_NaiveDipoleFlux_neg_instFluxErr',\n",
       " 'ip_diffim_NaiveDipoleFlux_neg_instFlux_SN']"
      ]
     },
     "execution_count": 15,
     "metadata": {},
     "output_type": "execute_result"
    }
   ],
   "source": [
    "columns_to_throw"
   ]
  },
  {
   "cell_type": "code",
   "execution_count": 16,
   "metadata": {},
   "outputs": [],
   "source": [
    "X.drop(columns=columns_to_throw)\n",
    "for acolumn in columns_to_throw:\n",
    "    x_names.remove(acolumn)\n",
    "X_data = np.delete(X_data, icolumns_to_throw, axis=1)"
   ]
  },
  {
   "cell_type": "code",
   "execution_count": 17,
   "metadata": {},
   "outputs": [],
   "source": [
    "from sklearn.impute import SimpleImputer\n",
    "imp = SimpleImputer(missing_values=np.nan, strategy='mean')"
   ]
  },
  {
   "cell_type": "code",
   "execution_count": 18,
   "metadata": {},
   "outputs": [
    {
     "data": {
      "text/plain": [
       "['Unnamed: 0.1',\n",
       " 'parent',\n",
       " 'flags_negative',\n",
       " 'base_NaiveCentroid_flag',\n",
       " 'base_NaiveCentroid_flag_noCounts',\n",
       " 'base_NaiveCentroid_flag_edge',\n",
       " 'base_NaiveCentroid_flag_resetToPeak',\n",
       " 'base_PeakCentroid_flag',\n",
       " 'base_SdssCentroid_flag',\n",
       " 'base_SdssCentroid_flag_edge',\n",
       " 'base_SdssCentroid_flag_noSecondDerivative',\n",
       " 'base_SdssCentroid_flag_almostNoSecondDerivative',\n",
       " 'base_SdssCentroid_flag_notAtMaximum',\n",
       " 'base_SdssCentroid_flag_resetToPeak',\n",
       " 'ip_diffim_NaiveDipoleCentroid_flag',\n",
       " 'base_CircularApertureFlux_flag_badCentroid',\n",
       " 'base_GaussianFlux_flag_badCentroid',\n",
       " 'base_NaiveCentroid_flag_badInitialCentroid',\n",
       " 'base_PeakLikelihoodFlux_flag_badCentroid',\n",
       " 'base_PsfFlux_flag_badCentroid',\n",
       " 'base_SdssCentroid_flag_badInitialCentroid',\n",
       " 'base_SdssShape_flag_badCentroid',\n",
       " 'slot_Centroid_flag',\n",
       " 'ip_diffim_NaiveDipoleCentroid_pos_flag',\n",
       " 'slot_Centroid_pos_flag',\n",
       " 'ip_diffim_NaiveDipoleCentroid_neg_flag',\n",
       " 'slot_Centroid_neg_flag',\n",
       " 'base_SdssShape_instFlux',\n",
       " 'slot_Shape_instFlux',\n",
       " 'base_SdssShape_instFluxErr',\n",
       " 'slot_Shape_instFluxErr',\n",
       " 'base_SdssShape_flag',\n",
       " 'base_GaussianFlux_flag_badShape',\n",
       " 'slot_Shape_flag',\n",
       " 'base_SdssShape_flag_unweightedBad',\n",
       " 'base_GaussianFlux_flag_badShape_unweightedBad',\n",
       " 'slot_Shape_flag_unweightedBad',\n",
       " 'base_SdssShape_flag_unweighted',\n",
       " 'base_GaussianFlux_flag_badShape_unweighted',\n",
       " 'slot_Shape_flag_unweighted',\n",
       " 'base_SdssShape_flag_shift',\n",
       " 'base_GaussianFlux_flag_badShape_shift',\n",
       " 'slot_Shape_flag_shift',\n",
       " 'base_SdssShape_flag_maxIter',\n",
       " 'base_GaussianFlux_flag_badShape_maxIter',\n",
       " 'slot_Shape_flag_maxIter',\n",
       " 'base_SdssShape_flag_psf',\n",
       " 'base_GaussianFlux_flag_badShape_psf',\n",
       " 'slot_Shape_flag_psf',\n",
       " 'base_CircularApertureFlux_3_0_instFlux',\n",
       " 'base_CircularApertureFlux_3_0_instFluxErr',\n",
       " 'base_CircularApertureFlux_3_0_flag',\n",
       " 'base_CircularApertureFlux_3_0_flag_apertureTruncated',\n",
       " 'base_CircularApertureFlux_3_0_flag_sincCoeffsTruncated',\n",
       " 'base_CircularApertureFlux_4_5_instFlux',\n",
       " 'base_CircularApertureFlux_4_5_instFluxErr',\n",
       " 'base_CircularApertureFlux_4_5_flag',\n",
       " 'base_CircularApertureFlux_4_5_flag_apertureTruncated',\n",
       " 'base_CircularApertureFlux_4_5_flag_sincCoeffsTruncated',\n",
       " 'base_CircularApertureFlux_6_0_instFlux',\n",
       " 'base_CircularApertureFlux_6_0_instFluxErr',\n",
       " 'base_CircularApertureFlux_6_0_flag',\n",
       " 'base_CircularApertureFlux_6_0_flag_apertureTruncated',\n",
       " 'base_CircularApertureFlux_6_0_flag_sincCoeffsTruncated',\n",
       " 'base_CircularApertureFlux_9_0_instFlux',\n",
       " 'base_CircularApertureFlux_9_0_instFluxErr',\n",
       " 'base_CircularApertureFlux_9_0_flag',\n",
       " 'base_CircularApertureFlux_9_0_flag_apertureTruncated',\n",
       " 'base_CircularApertureFlux_9_0_flag_sincCoeffsTruncated',\n",
       " 'base_CircularApertureFlux_12_0_instFlux',\n",
       " 'slot_ApFlux_instFlux',\n",
       " 'base_CircularApertureFlux_12_0_instFluxErr',\n",
       " 'slot_ApFlux_instFluxErr',\n",
       " 'base_CircularApertureFlux_12_0_flag',\n",
       " 'slot_ApFlux_flag',\n",
       " 'base_CircularApertureFlux_12_0_flag_apertureTruncated',\n",
       " 'slot_ApFlux_flag_apertureTruncated',\n",
       " 'base_CircularApertureFlux_17_0_instFlux',\n",
       " 'base_CircularApertureFlux_17_0_instFluxErr',\n",
       " 'base_CircularApertureFlux_17_0_flag',\n",
       " 'base_CircularApertureFlux_17_0_flag_apertureTruncated',\n",
       " 'base_CircularApertureFlux_25_0_instFlux',\n",
       " 'base_CircularApertureFlux_25_0_instFluxErr',\n",
       " 'base_CircularApertureFlux_25_0_flag',\n",
       " 'base_CircularApertureFlux_25_0_flag_apertureTruncated',\n",
       " 'base_CircularApertureFlux_35_0_instFlux',\n",
       " 'base_CircularApertureFlux_35_0_instFluxErr',\n",
       " 'base_CircularApertureFlux_35_0_flag',\n",
       " 'base_CircularApertureFlux_35_0_flag_apertureTruncated',\n",
       " 'base_CircularApertureFlux_50_0_instFlux',\n",
       " 'base_CircularApertureFlux_50_0_instFluxErr',\n",
       " 'base_CircularApertureFlux_50_0_flag',\n",
       " 'base_CircularApertureFlux_50_0_flag_apertureTruncated',\n",
       " 'base_CircularApertureFlux_70_0_instFlux',\n",
       " 'base_CircularApertureFlux_70_0_instFluxErr',\n",
       " 'base_CircularApertureFlux_70_0_flag',\n",
       " 'base_CircularApertureFlux_70_0_flag_apertureTruncated',\n",
       " 'base_GaussianFlux_instFlux',\n",
       " 'base_GaussianFlux_instFluxErr',\n",
       " 'base_GaussianFlux_flag',\n",
       " 'base_PeakLikelihoodFlux_instFlux',\n",
       " 'base_PeakLikelihoodFlux_instFluxErr',\n",
       " 'base_PeakLikelihoodFlux_flag',\n",
       " 'base_PixelFlags_flag',\n",
       " 'base_PixelFlags_flag_offimage',\n",
       " 'base_PixelFlags_flag_edge',\n",
       " 'base_PixelFlags_flag_interpolated',\n",
       " 'base_PixelFlags_flag_saturated',\n",
       " 'base_PixelFlags_flag_cr',\n",
       " 'base_PixelFlags_flag_bad',\n",
       " 'base_PixelFlags_flag_suspect',\n",
       " 'base_PixelFlags_flag_interpolatedCenter',\n",
       " 'base_PixelFlags_flag_saturatedCenter',\n",
       " 'base_PixelFlags_flag_crCenter',\n",
       " 'base_PixelFlags_flag_suspectCenter',\n",
       " 'base_PsfFlux_instFlux',\n",
       " 'slot_PsfFlux_instFlux',\n",
       " 'base_PsfFlux_instFluxErr',\n",
       " 'slot_PsfFlux_instFluxErr',\n",
       " 'base_PsfFlux_area',\n",
       " 'slot_PsfFlux_area',\n",
       " 'base_PsfFlux_flag',\n",
       " 'slot_PsfFlux_flag',\n",
       " 'base_PsfFlux_flag_noGoodPixels',\n",
       " 'slot_PsfFlux_flag_noGoodPixels',\n",
       " 'base_PsfFlux_flag_edge',\n",
       " 'slot_PsfFlux_flag_edge',\n",
       " 'ip_diffim_NaiveDipoleFlux_flag',\n",
       " 'ip_diffim_NaiveDipoleFlux_pos_flag',\n",
       " 'ip_diffim_NaiveDipoleFlux_neg_flag',\n",
       " 'ip_diffim_NaiveDipoleFlux_pos_instFlux',\n",
       " 'ip_diffim_NaiveDipoleFlux_pos_instFluxErr',\n",
       " 'ip_diffim_NaiveDipoleFlux_neg_instFlux',\n",
       " 'ip_diffim_NaiveDipoleFlux_npos',\n",
       " 'ip_diffim_NaiveDipoleFlux_nneg',\n",
       " 'ip_diffim_PsfDipoleFlux_flag',\n",
       " 'ip_diffim_PsfDipoleFlux_pos_flag',\n",
       " 'ip_diffim_PsfDipoleFlux_neg_flag',\n",
       " 'ip_diffim_PsfDipoleFlux_pos_instFlux',\n",
       " 'ip_diffim_PsfDipoleFlux_pos_instFluxErr',\n",
       " 'ip_diffim_PsfDipoleFlux_neg_instFlux',\n",
       " 'ip_diffim_PsfDipoleFlux_neg_instFluxErr',\n",
       " 'ip_diffim_PsfDipoleFlux_chi2dof',\n",
       " 'ip_diffim_ClassificationDipole_value',\n",
       " 'ip_diffim_ClassificationDipole_flag',\n",
       " 'ip_diffim_DipoleFit_pos_instFlux',\n",
       " 'ip_diffim_DipoleFit_pos_instFluxErr',\n",
       " 'ip_diffim_DipoleFit_neg_instFlux',\n",
       " 'ip_diffim_DipoleFit_neg_instFluxErr',\n",
       " 'ip_diffim_DipoleFit_instFlux',\n",
       " 'ip_diffim_DipoleFit_orientation',\n",
       " 'ip_diffim_DipoleFit_separation',\n",
       " 'ip_diffim_DipoleFit_chi2dof',\n",
       " 'ip_diffim_DipoleFit_signalToNoise',\n",
       " 'ip_diffim_DipoleFit_flag_classification',\n",
       " 'ip_diffim_DipoleFit_flag_classificationAttempted',\n",
       " 'ip_diffim_DipoleFit_flag',\n",
       " 'ip_diffim_DipoleFit_flag_edge',\n",
       " 'ip_diffim_forced_PsfFlux_instFlux',\n",
       " 'ip_diffim_forced_PsfFlux_instFluxErr',\n",
       " 'ip_diffim_forced_PsfFlux_area',\n",
       " 'ip_diffim_forced_PsfFlux_flag',\n",
       " 'ip_diffim_forced_PsfFlux_flag_noGoodPixels',\n",
       " 'ip_diffim_forced_PsfFlux_flag_edge',\n",
       " 'visit_n',\n",
       " 'detector',\n",
       " 'base_SdssShape_instFlux_SN',\n",
       " 'slot_Shape_instFlux_SN',\n",
       " 'base_CircularApertureFlux_3_0_instFlux_SN',\n",
       " 'base_CircularApertureFlux_4_5_instFlux_SN',\n",
       " 'base_CircularApertureFlux_6_0_instFlux_SN',\n",
       " 'base_CircularApertureFlux_9_0_instFlux_SN',\n",
       " 'base_CircularApertureFlux_12_0_instFlux_SN',\n",
       " 'slot_ApFlux_instFlux_SN',\n",
       " 'base_CircularApertureFlux_17_0_instFlux_SN',\n",
       " 'base_CircularApertureFlux_25_0_instFlux_SN',\n",
       " 'base_CircularApertureFlux_35_0_instFlux_SN',\n",
       " 'base_CircularApertureFlux_50_0_instFlux_SN',\n",
       " 'base_CircularApertureFlux_70_0_instFlux_SN',\n",
       " 'base_GaussianFlux_instFlux_SN',\n",
       " 'base_PeakLikelihoodFlux_instFlux_SN',\n",
       " 'base_PsfFlux_instFlux_SN',\n",
       " 'slot_PsfFlux_instFlux_SN',\n",
       " 'ip_diffim_NaiveDipoleFlux_pos_instFlux_SN',\n",
       " 'ip_diffim_PsfDipoleFlux_pos_instFlux_SN',\n",
       " 'ip_diffim_PsfDipoleFlux_neg_instFlux_SN',\n",
       " 'ip_diffim_DipoleFit_pos_instFlux_SN',\n",
       " 'ip_diffim_DipoleFit_neg_instFlux_SN',\n",
       " 'ip_diffim_forced_PsfFlux_instFlux_SN',\n",
       " 'slot_Shape_quad',\n",
       " 'slot_PsfShape_quad',\n",
       " 'base_SdssShape_quad',\n",
       " 'base_SdssShape_psf_quad',\n",
       " 'slot_Shape_quadErr']"
      ]
     },
     "execution_count": 18,
     "metadata": {},
     "output_type": "execute_result"
    }
   ],
   "source": [
    "x_names"
   ]
  },
  {
   "cell_type": "code",
   "execution_count": 19,
   "metadata": {},
   "outputs": [
    {
     "data": {
      "text/plain": [
       "(194, (636408, 194))"
      ]
     },
     "execution_count": 19,
     "metadata": {},
     "output_type": "execute_result"
    }
   ],
   "source": [
    "len(x_names), X_data.shape"
   ]
  },
  {
   "cell_type": "code",
   "execution_count": 20,
   "metadata": {},
   "outputs": [
    {
     "data": {
      "text/plain": [
       "13226164"
      ]
     },
     "execution_count": 20,
     "metadata": {},
     "output_type": "execute_result"
    }
   ],
   "source": [
    "np.sum(np.isnan(X_data))"
   ]
  },
  {
   "cell_type": "code",
   "execution_count": 21,
   "metadata": {},
   "outputs": [
    {
     "data": {
      "text/plain": [
       "SimpleImputer(add_indicator=False, copy=True, fill_value=None,\n",
       "              missing_values=nan, strategy='mean', verbose=0)"
      ]
     },
     "execution_count": 21,
     "metadata": {},
     "output_type": "execute_result"
    }
   ],
   "source": [
    "imp.fit(X_data)"
   ]
  },
  {
   "cell_type": "code",
   "execution_count": 22,
   "metadata": {},
   "outputs": [],
   "source": [
    "X_trsf = imp.transform(X_data)"
   ]
  },
  {
   "cell_type": "code",
   "execution_count": 23,
   "metadata": {},
   "outputs": [
    {
     "name": "stderr",
     "output_type": "stream",
     "text": [
      "/global/homes/b/bos0109/.local/lib/python3.7/site-packages/sklearn/preprocessing/_data.py:173: UserWarning: Numerical issues were encountered when centering the data and might not be solved. Dataset may contain too large values. You may need to prescale your features.\n",
      "  warnings.warn(\"Numerical issues were encountered \"\n"
     ]
    }
   ],
   "source": [
    "X_scaled = preprocessing.scale(X_trsf)"
   ]
  },
  {
   "cell_type": "code",
   "execution_count": 32,
   "metadata": {},
   "outputs": [],
   "source": [
    "store = pd.HDFStore(f'{SCRATCH}/results/ML_dataset_store.hdf5')\n",
    "store.open()"
   ]
  },
  {
   "cell_type": "code",
   "execution_count": 33,
   "metadata": {},
   "outputs": [],
   "source": [
    "store['X'] = X"
   ]
  },
  {
   "cell_type": "code",
   "execution_count": 34,
   "metadata": {},
   "outputs": [],
   "source": [
    "store['X_cleaned'] = pd.DataFrame(data=X_trsf, columns=x_names)"
   ]
  },
  {
   "cell_type": "code",
   "execution_count": 35,
   "metadata": {},
   "outputs": [],
   "source": [
    "store['X_scaled'] = pd.DataFrame(data=X_scaled, columns=x_names)"
   ]
  },
  {
   "cell_type": "code",
   "execution_count": 36,
   "metadata": {},
   "outputs": [],
   "source": [
    "store['Y'] = Y"
   ]
  },
  {
   "cell_type": "code",
   "execution_count": 37,
   "metadata": {},
   "outputs": [],
   "source": [
    "store.close()"
   ]
  },
  {
   "cell_type": "markdown",
   "metadata": {},
   "source": [
    "-------"
   ]
  },
  {
   "cell_type": "markdown",
   "metadata": {},
   "source": [
    "Now that we have the sample scaled, let's select features"
   ]
  }
 ],
 "metadata": {
  "kernelspec": {
   "display_name": "Python 3",
   "language": "python",
   "name": "python3"
  },
  "language_info": {
   "codemirror_mode": {
    "name": "ipython",
    "version": 3
   },
   "file_extension": ".py",
   "mimetype": "text/x-python",
   "name": "python",
   "nbconvert_exporter": "python",
   "pygments_lexer": "ipython3",
   "version": "3.7.4"
  }
 },
 "nbformat": 4,
 "nbformat_minor": 4
}
