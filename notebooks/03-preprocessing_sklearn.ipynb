{
 "cells": [
  {
   "cell_type": "code",
   "execution_count": 1,
   "metadata": {},
   "outputs": [],
   "source": [
    "import numpy as np\n",
    "import pandas as pd\n",
    "from astropy.stats import sigma_clipped_stats "
   ]
  },
  {
   "cell_type": "code",
   "execution_count": 2,
   "metadata": {},
   "outputs": [],
   "source": [
    "import matplotlib.pyplot as plt\n",
    "%matplotlib inline"
   ]
  },
  {
   "cell_type": "code",
   "execution_count": 3,
   "metadata": {},
   "outputs": [],
   "source": [
    "reals = pd.read_csv('../results/reals_table.csv')\n",
    "bogus = pd.read_csv('../results/bogus_table.csv').sample(frac=0.01)\n",
    "matched_lcs = pd.read_csv('../results/matched_lcs_visit_by_visit.csv')"
   ]
  },
  {
   "cell_type": "code",
   "execution_count": 4,
   "metadata": {},
   "outputs": [],
   "source": [
    "reals['REAL'] = True\n",
    "bogus['REAL'] = False"
   ]
  },
  {
   "cell_type": "code",
   "execution_count": 5,
   "metadata": {},
   "outputs": [
    {
     "data": {
      "text/plain": [
       "(1432, 6350)"
      ]
     },
     "execution_count": 5,
     "metadata": {},
     "output_type": "execute_result"
    }
   ],
   "source": [
    "len(reals), len(bogus)"
   ]
  },
  {
   "cell_type": "code",
   "execution_count": 6,
   "metadata": {},
   "outputs": [],
   "source": [
    "from sklearn import preprocessing"
   ]
  },
  {
   "cell_type": "code",
   "execution_count": 7,
   "metadata": {},
   "outputs": [],
   "source": [
    "cols = list(reals.columns)\n",
    "for acol in ['id', 'Unnamed: 0', 'REAL', 'cxmatch', 'sn_row', 'match_ang_dist', \n",
    "             'sn_id', 'raft', 'sensor', 'filter', 'coord_ra', 'coord_dec']:\n",
    "    cols.remove(acol)"
   ]
  },
  {
   "cell_type": "code",
   "execution_count": 8,
   "metadata": {},
   "outputs": [],
   "source": [
    "for acol in ['ip_diffim_NaiveDipoleCentroid_pos_x', 'slot_Centroid_pos_x', 'ip_diffim_NaiveDipoleCentroid_pos_y', 'slot_Centroid_pos_y',\n",
    "             'ip_diffim_NaiveDipoleCentroid_pos_xErr', 'slot_Centroid_pos_xErr', 'ip_diffim_NaiveDipoleCentroid_pos_yErr', 'slot_Centroid_pos_yErr']:\n",
    "    cols.remove(acol)"
   ]
  },
  {
   "cell_type": "code",
   "execution_count": 9,
   "metadata": {},
   "outputs": [],
   "source": [
    "X = pd.concat([reals, bogus])[cols]\n",
    "Y = pd.concat([reals, bogus])['REAL']"
   ]
  },
  {
   "cell_type": "code",
   "execution_count": 10,
   "metadata": {},
   "outputs": [],
   "source": [
    "x_names = list(X.columns)\n",
    "X_data = X.values.astype(float)"
   ]
  },
  {
   "cell_type": "code",
   "execution_count": 11,
   "metadata": {},
   "outputs": [
    {
     "data": {
      "text/plain": [
       "array([[0.00000000e+00, 0.00000000e+00, 6.82028149e+02, ...,\n",
       "        0.00000000e+00, 6.82600000e+03, 1.79000000e+02],\n",
       "       [0.00000000e+00, 0.00000000e+00, 2.00595615e+03, ...,\n",
       "        0.00000000e+00, 6.82600000e+03, 1.88000000e+02],\n",
       "       [0.00000000e+00, 0.00000000e+00, 2.22912969e+03, ...,\n",
       "        0.00000000e+00, 6.85500000e+03, 7.20000000e+01],\n",
       "       ...,\n",
       "       [0.00000000e+00, 0.00000000e+00, 8.20958701e+02, ...,\n",
       "        0.00000000e+00, 5.15772000e+05, 1.74000000e+02],\n",
       "       [0.00000000e+00, 0.00000000e+00, 2.81428489e+03, ...,\n",
       "        0.00000000e+00, 2.19947000e+05, 2.10000000e+01],\n",
       "       [0.00000000e+00, 0.00000000e+00, 1.70305400e+03, ...,\n",
       "        0.00000000e+00, 6.94238000e+05, 8.80000000e+01]])"
      ]
     },
     "execution_count": 11,
     "metadata": {},
     "output_type": "execute_result"
    }
   ],
   "source": [
    "X_data"
   ]
  },
  {
   "cell_type": "code",
   "execution_count": 12,
   "metadata": {},
   "outputs": [
    {
     "name": "stdout",
     "output_type": "stream",
     "text": [
      "ip_diffim_NaiveDipoleCentroid_xErr  has no finite values\n",
      "slot_Centroid_xErr  has no finite values\n",
      "ip_diffim_NaiveDipoleCentroid_yErr  has no finite values\n",
      "slot_Centroid_yErr  has no finite values\n",
      "ip_diffim_NaiveDipoleCentroid_neg_xErr  has no finite values\n",
      "slot_Centroid_neg_xErr  has no finite values\n",
      "ip_diffim_NaiveDipoleCentroid_neg_yErr  has no finite values\n",
      "slot_Centroid_neg_yErr  has no finite values\n",
      "ip_diffim_NaiveDipoleFlux_neg_instFluxErr  has no finite values\n",
      "ip_diffim_PsfDipoleFlux_pos_centroid_xErr  has no finite values\n",
      "ip_diffim_PsfDipoleFlux_pos_centroid_yErr  has no finite values\n",
      "ip_diffim_PsfDipoleFlux_neg_centroid_xErr  has no finite values\n",
      "ip_diffim_PsfDipoleFlux_neg_centroid_yErr  has no finite values\n",
      "ip_diffim_PsfDipoleFlux_centroid_xErr  has no finite values\n",
      "ip_diffim_PsfDipoleFlux_centroid_yErr  has no finite values\n"
     ]
    }
   ],
   "source": [
    "columns_to_throw = []\n",
    "icolumns_to_throw = []\n",
    "for ii in range(X_data.shape[1]):\n",
    "    col = X_data[:, ii]\n",
    "    if np.sum(np.isfinite(col)) == 0:\n",
    "        print(x_names[ii], ' has no finite values')\n",
    "        columns_to_throw.append(x_names[ii])\n",
    "        icolumns_to_throw.append(ii)\n",
    "        \n",
    "        continue\n",
    "    infs = np.isposinf(col)\n",
    "    neginfs = np.isneginf(col)\n",
    "    X_data[infs, ii] = np.max(col[np.isfinite(col)])\n",
    "    X_data[neginfs, ii] = np.min(col[np.isfinite(col)])"
   ]
  },
  {
   "cell_type": "code",
   "execution_count": 13,
   "metadata": {},
   "outputs": [
    {
     "data": {
      "text/plain": [
       "['ip_diffim_NaiveDipoleCentroid_xErr',\n",
       " 'slot_Centroid_xErr',\n",
       " 'ip_diffim_NaiveDipoleCentroid_yErr',\n",
       " 'slot_Centroid_yErr',\n",
       " 'ip_diffim_NaiveDipoleCentroid_neg_xErr',\n",
       " 'slot_Centroid_neg_xErr',\n",
       " 'ip_diffim_NaiveDipoleCentroid_neg_yErr',\n",
       " 'slot_Centroid_neg_yErr',\n",
       " 'ip_diffim_NaiveDipoleFlux_neg_instFluxErr',\n",
       " 'ip_diffim_PsfDipoleFlux_pos_centroid_xErr',\n",
       " 'ip_diffim_PsfDipoleFlux_pos_centroid_yErr',\n",
       " 'ip_diffim_PsfDipoleFlux_neg_centroid_xErr',\n",
       " 'ip_diffim_PsfDipoleFlux_neg_centroid_yErr',\n",
       " 'ip_diffim_PsfDipoleFlux_centroid_xErr',\n",
       " 'ip_diffim_PsfDipoleFlux_centroid_yErr']"
      ]
     },
     "execution_count": 13,
     "metadata": {},
     "output_type": "execute_result"
    }
   ],
   "source": [
    "columns_to_throw"
   ]
  },
  {
   "cell_type": "code",
   "execution_count": 14,
   "metadata": {},
   "outputs": [],
   "source": [
    "X.drop(columns=columns_to_throw)\n",
    "for acolumn in columns_to_throw:\n",
    "    x_names.remove(acolumn)\n",
    "X_data = np.delete(X_data, icolumns_to_throw, axis=1)"
   ]
  },
  {
   "cell_type": "code",
   "execution_count": 15,
   "metadata": {},
   "outputs": [],
   "source": [
    "from sklearn.impute import SimpleImputer\n",
    "imp = SimpleImputer(missing_values=np.nan, strategy='mean')"
   ]
  },
  {
   "cell_type": "code",
   "execution_count": 16,
   "metadata": {},
   "outputs": [
    {
     "data": {
      "text/plain": [
       "(224, (7782, 224))"
      ]
     },
     "execution_count": 16,
     "metadata": {},
     "output_type": "execute_result"
    }
   ],
   "source": [
    "len(x_names), X_data.shape"
   ]
  },
  {
   "cell_type": "code",
   "execution_count": 17,
   "metadata": {},
   "outputs": [
    {
     "data": {
      "text/plain": [
       "287374"
      ]
     },
     "execution_count": 17,
     "metadata": {},
     "output_type": "execute_result"
    }
   ],
   "source": [
    "np.sum(np.isnan(X_data))"
   ]
  },
  {
   "cell_type": "code",
   "execution_count": 18,
   "metadata": {},
   "outputs": [
    {
     "data": {
      "text/plain": [
       "SimpleImputer(add_indicator=False, copy=True, fill_value=None,\n",
       "              missing_values=nan, strategy='mean', verbose=0)"
      ]
     },
     "execution_count": 18,
     "metadata": {},
     "output_type": "execute_result"
    }
   ],
   "source": [
    "imp.fit(X_data)"
   ]
  },
  {
   "cell_type": "code",
   "execution_count": 19,
   "metadata": {},
   "outputs": [],
   "source": [
    "X_trsf = imp.transform(X_data)"
   ]
  },
  {
   "cell_type": "code",
   "execution_count": 20,
   "metadata": {},
   "outputs": [],
   "source": [
    "X_scaled = preprocessing.scale(X_trsf)"
   ]
  },
  {
   "cell_type": "code",
   "execution_count": 21,
   "metadata": {},
   "outputs": [],
   "source": [
    "store = pd.HDFStore('ML_dataset_store.hdf5')\n",
    "store.open()"
   ]
  },
  {
   "cell_type": "code",
   "execution_count": 22,
   "metadata": {},
   "outputs": [],
   "source": [
    "store['X'] = X"
   ]
  },
  {
   "cell_type": "code",
   "execution_count": 23,
   "metadata": {},
   "outputs": [],
   "source": [
    "store['X_cleaned'] = pd.DataFrame(data=X_trsf, columns=x_names)"
   ]
  },
  {
   "cell_type": "code",
   "execution_count": 24,
   "metadata": {},
   "outputs": [],
   "source": [
    "store['X_scaled'] = pd.DataFrame(data=X_scaled, columns=x_names)"
   ]
  },
  {
   "cell_type": "code",
   "execution_count": 25,
   "metadata": {},
   "outputs": [],
   "source": [
    "store['Y'] = Y"
   ]
  },
  {
   "cell_type": "code",
   "execution_count": 26,
   "metadata": {},
   "outputs": [],
   "source": [
    "store.close()"
   ]
  },
  {
   "cell_type": "markdown",
   "metadata": {},
   "source": [
    "-------"
   ]
  },
  {
   "cell_type": "markdown",
   "metadata": {},
   "source": [
    "Now that we have the sample scaled, let's select features"
   ]
  }
 ],
 "metadata": {
  "kernelspec": {
   "display_name": "Python 3",
   "language": "python",
   "name": "python3"
  },
  "language_info": {
   "codemirror_mode": {
    "name": "ipython",
    "version": 3
   },
   "file_extension": ".py",
   "mimetype": "text/x-python",
   "name": "python",
   "nbconvert_exporter": "python",
   "pygments_lexer": "ipython3",
   "version": "3.7.4"
  }
 },
 "nbformat": 4,
 "nbformat_minor": 4
}
