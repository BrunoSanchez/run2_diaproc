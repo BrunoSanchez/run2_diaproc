{
 "cells": [
  {
   "cell_type": "markdown",
   "metadata": {},
   "source": [
    "# Analyze template coadds for Run2.1i"
   ]
  },
  {
   "cell_type": "code",
   "execution_count": 3,
   "metadata": {},
   "outputs": [],
   "source": [
    "import os\n",
    "import sys\n",
    "import numpy as np"
   ]
  },
  {
   "cell_type": "code",
   "execution_count": 4,
   "metadata": {},
   "outputs": [],
   "source": [
    "import pandas as pd"
   ]
  },
  {
   "cell_type": "code",
   "execution_count": 5,
   "metadata": {},
   "outputs": [],
   "source": [
    "from astropy.coordinates import SkyCoord\n",
    "import astropy.units as u"
   ]
  },
  {
   "cell_type": "code",
   "execution_count": 6,
   "metadata": {},
   "outputs": [],
   "source": [
    "import lsst.afw.display as afwDisplay\n",
    "import lsst.afw.geom as afwGeom\n",
    "import lsst.afw.display.ds9 as ds9\n",
    "import lsst.afw.image as afwImage\n",
    "from lsst.daf.persistence import Butler\n",
    "from lsst.geom import SpherePoint\n",
    "import lsst.geom"
   ]
  },
  {
   "cell_type": "code",
   "execution_count": 7,
   "metadata": {},
   "outputs": [],
   "source": [
    "# Requires issues/337 to fix obshistid query.\n",
    "sys.path.insert(0, '/global/homes/b/bos0109/desc/gcr-catalogs')"
   ]
  },
  {
   "cell_type": "code",
   "execution_count": 8,
   "metadata": {},
   "outputs": [],
   "source": [
    "import GCRCatalogs"
   ]
  },
  {
   "cell_type": "code",
   "execution_count": 9,
   "metadata": {},
   "outputs": [],
   "source": [
    "%matplotlib inline\n",
    "\n",
    "import matplotlib.pyplot as plt\n",
    "plt.rcParams['figure.figsize'] = (6, 6)\n",
    "plt.rcParams['font.size'] = 14\n",
    "#from matplotlib.patches import Polygon"
   ]
  },
  {
   "cell_type": "code",
   "execution_count": 10,
   "metadata": {},
   "outputs": [
    {
     "data": {
      "text/plain": [
       "<module 'dm_utilities' from '/global/u2/b/bos0109/run2_diaproc/dm_utilities.py'>"
      ]
     },
     "execution_count": 10,
     "metadata": {},
     "output_type": "execute_result"
    }
   ],
   "source": [
    "import dm_utilities as dmu\n",
    "\n",
    "import importlib\n",
    "importlib.reload(dmu)"
   ]
  },
  {
   "cell_type": "code",
   "execution_count": 11,
   "metadata": {},
   "outputs": [],
   "source": [
    "repo = '/global/cscratch1/sd/bos0109/templates_003/rerun/multiband/'\n",
    "#repo = '/global/cscratch1/sd/bos0109/templates_004/rerun/multiband'"
   ]
  },
  {
   "cell_type": "code",
   "execution_count": 12,
   "metadata": {},
   "outputs": [],
   "source": [
    "butler = Butler(repo)"
   ]
  },
  {
   "cell_type": "code",
   "execution_count": 13,
   "metadata": {},
   "outputs": [],
   "source": [
    "tract = 4640\n",
    "patch = (6, 0)"
   ]
  },
  {
   "cell_type": "code",
   "execution_count": 14,
   "metadata": {},
   "outputs": [],
   "source": [
    "tract = 4639\n",
    "patch = (0, 0)"
   ]
  },
  {
   "cell_type": "code",
   "execution_count": 15,
   "metadata": {},
   "outputs": [],
   "source": [
    "skymap = butler.get('deepCoadd_skyMap')\n",
    "tract_info = skymap[tract]"
   ]
  },
  {
   "cell_type": "code",
   "execution_count": 16,
   "metadata": {},
   "outputs": [
    {
     "data": {
      "text/plain": [
       "TractInfo(id=4639, ctrCoord=[0.4780489378485402, 0.7168940640771417, -0.5074762200466556])"
      ]
     },
     "execution_count": 16,
     "metadata": {},
     "output_type": "execute_result"
    }
   ],
   "source": [
    "tract_info"
   ]
  },
  {
   "cell_type": "code",
   "execution_count": 17,
   "metadata": {},
   "outputs": [],
   "source": [
    "tract_patch_box = tract_info.getPatchInfo(patch).getOuterBBox()\n",
    "tract_patch_pos_list = tract_patch_box.getCorners()\n",
    "# Cast to Point2D, because pixelToSky below will refuse to work with a Point2I object.\n",
    "tract_patch_pos_list = [afwGeom.Point2D(tp) for tp in tract_patch_pos_list]\n",
    "\n",
    "wcs = tract_info.getWcs()\n",
    "corners = wcs.pixelToSky(tract_patch_pos_list)\n",
    "corners = np.array([[c.getRa().asDegrees(), c.getDec().asDegrees()] for c in corners])"
   ]
  },
  {
   "cell_type": "code",
   "execution_count": 18,
   "metadata": {},
   "outputs": [],
   "source": [
    "ra = corners[:, 0]\n",
    "dec = corners[:, 1]\n",
    "min_ra, max_ra = np.min(ra), np.max(ra)\n",
    "min_dec, max_dec = np.min(dec), np.max(dec)"
   ]
  },
  {
   "cell_type": "code",
   "execution_count": 19,
   "metadata": {},
   "outputs": [
    {
     "name": "stdout",
     "output_type": "stream",
     "text": [
      "56.945218354752335 57.21309460920186 -31.271939290368756 -31.04267436934138\n"
     ]
    }
   ],
   "source": [
    "print(min_ra, max_ra, min_dec, max_dec)"
   ]
  },
  {
   "cell_type": "markdown",
   "metadata": {},
   "source": [
    "What is the approximated area of this polygon?"
   ]
  },
  {
   "cell_type": "code",
   "execution_count": 20,
   "metadata": {},
   "outputs": [],
   "source": [
    "delta_ra, delta_dec = max_ra-min_ra, max_dec-min_dec"
   ]
  },
  {
   "cell_type": "code",
   "execution_count": 21,
   "metadata": {},
   "outputs": [],
   "source": [
    "area = np.cos(np.deg2rad(min_dec+delta_dec*0.5))*np.deg2rad(delta_ra)*np.deg2rad(delta_dec)*180.*180./(np.pi**2.)*u.deg*u.deg"
   ]
  },
  {
   "cell_type": "code",
   "execution_count": 22,
   "metadata": {},
   "outputs": [
    {
     "name": "stdout",
     "output_type": "stream",
     "text": [
      "0.0525555696255307 deg2 , 189.20005065191054 arcmin2\n"
     ]
    }
   ],
   "source": [
    "print(area, ',', area.to(u.arcmin**2))"
   ]
  },
  {
   "cell_type": "code",
   "execution_count": 23,
   "metadata": {},
   "outputs": [
    {
     "name": "stdout",
     "output_type": "stream",
     "text": [
      "16.07257526697154 arcmin 13.75589526164255 arcmin\n"
     ]
    }
   ],
   "source": [
    "print((delta_ra*u.deg).to(u.arcmin), (delta_dec*u.deg).to(u.arcmin))"
   ]
  },
  {
   "cell_type": "markdown",
   "metadata": {},
   "source": [
    "Now we have done exactly the same stuff as in other notebooks but for our templates"
   ]
  },
  {
   "cell_type": "markdown",
   "metadata": {},
   "source": [
    "### Exploring corners and t+p positions"
   ]
  },
  {
   "cell_type": "markdown",
   "metadata": {},
   "source": [
    "Center"
   ]
  },
  {
   "cell_type": "code",
   "execution_count": 24,
   "metadata": {},
   "outputs": [
    {
     "data": {
      "text/plain": [
       "{'tract': 4639, 'patch': '0,0'}"
      ]
     },
     "execution_count": 24,
     "metadata": {},
     "output_type": "execute_result"
    }
   ],
   "source": [
    "dmu.get_coadd_id_for_ra_dec(skymap, min_ra+delta_ra/2., min_dec+delta_dec/2.)"
   ]
  },
  {
   "cell_type": "markdown",
   "metadata": {},
   "source": [
    "Corners"
   ]
  },
  {
   "cell_type": "code",
   "execution_count": 25,
   "metadata": {},
   "outputs": [
    {
     "data": {
      "text/plain": [
       "{'tract': 4432, 'patch': '5,6'}"
      ]
     },
     "execution_count": 25,
     "metadata": {},
     "output_type": "execute_result"
    }
   ],
   "source": [
    "dmu.get_coadd_id_for_ra_dec(skymap, min_ra, min_dec)"
   ]
  },
  {
   "cell_type": "code",
   "execution_count": 26,
   "metadata": {},
   "outputs": [
    {
     "data": {
      "text/plain": [
       "{'tract': 4639, 'patch': '1,1'}"
      ]
     },
     "execution_count": 26,
     "metadata": {},
     "output_type": "execute_result"
    }
   ],
   "source": [
    "dmu.get_coadd_id_for_ra_dec(skymap, min_ra, max_dec)"
   ]
  },
  {
   "cell_type": "code",
   "execution_count": 27,
   "metadata": {},
   "outputs": [
    {
     "data": {
      "text/plain": [
       "{'tract': 4432, 'patch': '4,6'}"
      ]
     },
     "execution_count": 27,
     "metadata": {},
     "output_type": "execute_result"
    }
   ],
   "source": [
    "dmu.get_coadd_id_for_ra_dec(skymap, max_ra, min_dec)"
   ]
  },
  {
   "cell_type": "code",
   "execution_count": 28,
   "metadata": {},
   "outputs": [
    {
     "data": {
      "text/plain": [
       "{'tract': 4640, 'patch': '6,1'}"
      ]
     },
     "execution_count": 28,
     "metadata": {},
     "output_type": "execute_result"
    }
   ],
   "source": [
    "dmu.get_coadd_id_for_ra_dec(skymap, max_ra, max_dec)"
   ]
  },
  {
   "cell_type": "markdown",
   "metadata": {},
   "source": [
    "Questions for this set of templates:\n",
    "* Which visits were coadded in each filter?\n",
    "* Which is the limiting magnitude for each template?\n",
    "* Which is the seeing for each template?"
   ]
  },
  {
   "cell_type": "code",
   "execution_count": 29,
   "metadata": {},
   "outputs": [],
   "source": [
    "#tpId = {'tract': 4640, 'patch': '6,0'}\n",
    "tpId = {'tract': 4639, 'patch': '0,0'}"
   ]
  },
  {
   "cell_type": "code",
   "execution_count": 30,
   "metadata": {},
   "outputs": [],
   "source": [
    "coaddMapper = butler._getDefaultMapper()"
   ]
  },
  {
   "cell_type": "code",
   "execution_count": 31,
   "metadata": {},
   "outputs": [],
   "source": [
    "mapper = coaddMapper(root=repo)\n",
    "all_dataset_types = mapper.getDatasetTypes()\n",
    "\n",
    "remove = ['_config', '_filename', '_md', '_sub', '_len', '_schema', '_metadata']\n",
    "\n",
    "shortlist = []\n",
    "for dataset_type in all_dataset_types:\n",
    "    keep = True\n",
    "    for word in remove:\n",
    "        if word in dataset_type:\n",
    "            keep = False\n",
    "    if keep:\n",
    "        shortlist.append(dataset_type)\n",
    "\n",
    "#print(shortlist)"
   ]
  },
  {
   "cell_type": "code",
   "execution_count": 32,
   "metadata": {},
   "outputs": [
    {
     "name": "stdout",
     "output_type": "stream",
     "text": [
      "\u001b[0m\u001b[01;34mg\u001b[0m/  \u001b[01;34mi\u001b[0m/  \u001b[01;34mmerged\u001b[0m/  \u001b[01;34mr\u001b[0m/  \u001b[01;34mu\u001b[0m/  \u001b[01;34my\u001b[0m/  \u001b[01;34mz\u001b[0m/\n"
     ]
    }
   ],
   "source": [
    "ls /global/cscratch1/sd/bos0109/templates_004/rerun/multiband/deepCoadd-results/"
   ]
  },
  {
   "cell_type": "code",
   "execution_count": 33,
   "metadata": {},
   "outputs": [
    {
     "name": "stdout",
     "output_type": "stream",
     "text": [
      "!RepositoryCfg_v1\n",
      "_mapper: !!python/name:lsst.obs.lsst.imsim.ImsimMapper ''\n",
      "_mapperArgs: {}\n",
      "_parents:\n",
      "- ../..\n",
      "_policy: null\n",
      "_root: null\n",
      "dirty: true\n"
     ]
    }
   ],
   "source": [
    "cat /global/cscratch1/sd/bos0109/templates_004/rerun/multiband/repositoryCfg.yaml"
   ]
  },
  {
   "cell_type": "code",
   "execution_count": 34,
   "metadata": {},
   "outputs": [
    {
     "data": {
      "text/plain": [
       "{'filter': str, 'tract': int, 'patch': str}"
      ]
     },
     "execution_count": 34,
     "metadata": {},
     "output_type": "execute_result"
    }
   ],
   "source": [
    "butler.getKeys('deepCoadd_calexp')"
   ]
  },
  {
   "cell_type": "code",
   "execution_count": 35,
   "metadata": {},
   "outputs": [],
   "source": [
    "cvi = butler.queryMetadata('calexp', ['id', 'visit', 'filter'], dataId=tpId)"
   ]
  },
  {
   "cell_type": "code",
   "execution_count": 36,
   "metadata": {},
   "outputs": [
    {
     "data": {
      "text/plain": [
       "False"
      ]
     },
     "execution_count": 36,
     "metadata": {},
     "output_type": "execute_result"
    }
   ],
   "source": [
    "butler.datasetExists('calexp', dataId=tpId)"
   ]
  },
  {
   "cell_type": "code",
   "execution_count": 37,
   "metadata": {},
   "outputs": [],
   "source": [
    "merged_sources = butler.get('deepCoadd_mergeDet', dataId=tpId).asAstropy()"
   ]
  },
  {
   "cell_type": "code",
   "execution_count": 38,
   "metadata": {},
   "outputs": [
    {
     "data": {
      "text/plain": [
       "['id',\n",
       " 'coord_ra',\n",
       " 'coord_dec',\n",
       " 'parent',\n",
       " 'merge_footprint_i',\n",
       " 'merge_footprint_r',\n",
       " 'merge_footprint_z',\n",
       " 'merge_footprint_y',\n",
       " 'merge_footprint_g',\n",
       " 'merge_footprint_u',\n",
       " 'merge_footprint_sky']"
      ]
     },
     "execution_count": 38,
     "metadata": {},
     "output_type": "execute_result"
    }
   ],
   "source": [
    "merged_sources.colnames"
   ]
  },
  {
   "cell_type": "markdown",
   "metadata": {},
   "source": [
    "## Inspecting the SNe that fall in this Patch"
   ]
  },
  {
   "cell_type": "code",
   "execution_count": 39,
   "metadata": {},
   "outputs": [],
   "source": [
    "import sqlite3"
   ]
  },
  {
   "cell_type": "code",
   "execution_count": 40,
   "metadata": {},
   "outputs": [],
   "source": [
    "database = '/global/cscratch1/sd/bos0109/sne_params_cosmoDC2_v1.1_181121.db'\n",
    "\n",
    "conn = sqlite3.connect(database)\n",
    "c = conn.cursor()"
   ]
  },
  {
   "cell_type": "code",
   "execution_count": 41,
   "metadata": {},
   "outputs": [],
   "source": [
    "query = \"SELECT * FROM sne_params WHERE snra_in > {} AND snra_in < {} AND sndec_in > {} AND sndec_in < {}\".format(min_ra, max_ra, min_dec, max_dec)"
   ]
  },
  {
   "cell_type": "code",
   "execution_count": 42,
   "metadata": {},
   "outputs": [
    {
     "name": "stdout",
     "output_type": "stream",
     "text": [
      "SELECT * FROM sne_params WHERE snra_in > 56.945218354752335 AND snra_in < 57.21309460920186 AND sndec_in > -31.271939290368756 AND sndec_in < -31.04267436934138\n"
     ]
    }
   ],
   "source": [
    "print(query)"
   ]
  },
  {
   "cell_type": "code",
   "execution_count": 43,
   "metadata": {},
   "outputs": [],
   "source": [
    "sntab = pd.read_sql_query(query, conn)"
   ]
  },
  {
   "cell_type": "code",
   "execution_count": 44,
   "metadata": {},
   "outputs": [
    {
     "data": {
      "text/plain": [
       "59"
      ]
     },
     "execution_count": 44,
     "metadata": {},
     "output_type": "execute_result"
    }
   ],
   "source": [
    "len(sntab)"
   ]
  },
  {
   "cell_type": "code",
   "execution_count": 45,
   "metadata": {},
   "outputs": [
    {
     "data": {
      "text/plain": [
       "Index(['htmid_level_6', 'galaxy_id', 'c_in', 'mB', 't0_in', 'x0_in', 'x1_in',\n",
       "       'z_in', 'snid_in', 'snra_in', 'sndec_in'],\n",
       "      dtype='object')"
      ]
     },
     "execution_count": 45,
     "metadata": {},
     "output_type": "execute_result"
    }
   ],
   "source": [
    "sntab.columns"
   ]
  },
  {
   "cell_type": "code",
   "execution_count": 46,
   "metadata": {},
   "outputs": [
    {
     "data": {
      "text/plain": [
       "Text(0, 0.5, '$\\\\delta$')"
      ]
     },
     "execution_count": 46,
     "metadata": {},
     "output_type": "execute_result"
    },
    {
     "data": {
      "image/png": "[encoded data removed]",
      "text/plain": [
       "<Figure size 432x288 with 2 Axes>"
      ]
     },
     "metadata": {
      "needs_background": "light"
     },
     "output_type": "display_data"
    }
   ],
   "source": [
    "plt.scatter(sntab.snra_in, sntab.sndec_in, s=20/sntab.z_in, c=sntab.z_in, cmap='RdBu_r')\n",
    "\n",
    "clb = plt.colorbar()\n",
    "clb.set_label(r'$z$', labelpad=-30, y=-0.05, rotation=0)\n",
    "plt.xlabel(r'$\\alpha$')\n",
    "plt.ylabel(r'$\\delta$')"
   ]
  },
  {
   "cell_type": "code",
   "execution_count": 47,
   "metadata": {},
   "outputs": [],
   "source": [
    "from astropy import time"
   ]
  },
  {
   "cell_type": "code",
   "execution_count": 48,
   "metadata": {},
   "outputs": [],
   "source": [
    "t0 = time.Time(sntab.t0_in, format='mjd', scale='utc')"
   ]
  },
  {
   "cell_type": "code",
   "execution_count": 49,
   "metadata": {},
   "outputs": [
    {
     "name": "stderr",
     "output_type": "stream",
     "text": [
      "WARNING: ErfaWarning: ERFA function \"d2dtf\" yielded 59 of \"dubious year (Note 5)\" [astropy._erfa.core]\n",
      "/opt/lsst/software/stack/python/miniconda3-4.5.12/envs/lsst-scipipe-1172c30/lib/python3.7/site-packages/pandas/plotting/_converter.py:129: FutureWarning: Using an implicitly registered datetime converter for a matplotlib plotting method. The converter was registered by pandas on import. Future versions of pandas will require you to explicitly register matplotlib converters.\n",
      "\n",
      "To register the converters:\n",
      "\t>>> from pandas.plotting import register_matplotlib_converters\n",
      "\t>>> register_matplotlib_converters()\n",
      "  warnings.warn(msg, FutureWarning)\n"
     ]
    },
    {
     "data": {
      "image/png": "[encoded data removed]",
      "text/plain": [
       "<Figure size 864x288 with 2 Axes>"
      ]
     },
     "metadata": {
      "needs_background": "light"
     },
     "output_type": "display_data"
    }
   ],
   "source": [
    "plt.figure(figsize=(12,4))\n",
    "plt.subplot(121)\n",
    "plt.hist(t0.datetime64, cumulative=False)\n",
    "plt.xlabel('Year')\n",
    "plt.ylabel('SNe peaked')\n",
    "\n",
    "plt.subplot(122)\n",
    "plt.hist(sntab.z_in, cumulative=False)\n",
    "plt.xlabel(r'Redshift $z$')\n",
    "plt.show()"
   ]
  },
  {
   "cell_type": "code",
   "execution_count": 50,
   "metadata": {},
   "outputs": [
    {
     "data": {
      "image/png": "[encoded data removed]",
      "text/plain": [
       "<Figure size 864x288 with 2 Axes>"
      ]
     },
     "metadata": {
      "needs_background": "light"
     },
     "output_type": "display_data"
    }
   ],
   "source": [
    "plt.figure(figsize=(12,4))\n",
    "plt.subplot(121)\n",
    "plt.hist(sntab.x1_in, cumulative=False)\n",
    "plt.ylabel('N')\n",
    "plt.xlabel('SNe stretch')\n",
    "\n",
    "plt.subplot(122)\n",
    "plt.hist(sntab.c_in, cumulative=False)\n",
    "plt.xlabel(r'Color')\n",
    "plt.show()"
   ]
  },
  {
   "cell_type": "code",
   "execution_count": 51,
   "metadata": {},
   "outputs": [],
   "source": [
    "sntab.to_csv('./supernovae_cat_t4639_p00.csv')"
   ]
  },
  {
   "cell_type": "markdown",
   "metadata": {},
   "source": [
    "## Using the SN coordinates to look into the templates"
   ]
  },
  {
   "cell_type": "code",
   "execution_count": 52,
   "metadata": {},
   "outputs": [],
   "source": [
    "import importlib"
   ]
  },
  {
   "cell_type": "code",
   "execution_count": 53,
   "metadata": {},
   "outputs": [
    {
     "data": {
      "text/plain": [
       "<module 'dm_utilities' from '/global/u2/b/bos0109/run2_diaproc/dm_utilities.py'>"
      ]
     },
     "execution_count": 53,
     "metadata": {},
     "output_type": "execute_result"
    }
   ],
   "source": [
    "importlib.reload(dmu)"
   ]
  },
  {
   "cell_type": "code",
   "execution_count": 54,
   "metadata": {},
   "outputs": [],
   "source": [
    "ra, dec = sntab.snra_in[1], sntab.sndec_in[1]"
   ]
  },
  {
   "cell_type": "code",
   "execution_count": 55,
   "metadata": {
    "collapsed": false,
    "jupyter": {
     "outputs_hidden": false
    }
   },
   "outputs": [],
   "source": [
    "im = butler.get('deepCoadd', {'patch': '0,0' , 'filter':'r' , 'tract':4639})"
   ]
  },
  {
   "cell_type": "code",
   "execution_count": 56,
   "metadata": {},
   "outputs": [
    {
     "data": {
      "image/png": "[encoded data removed]",
      "text/plain": [
       "<Figure size 432x288 with 2 Axes>"
      ]
     },
     "metadata": {
      "needs_background": "light"
     },
     "output_type": "display_data"
    },
    {
     "data": {
      "image/png": "[encoded data removed]",
      "text/plain": [
       "<Figure size 432x288 with 2 Axes>"
      ]
     },
     "metadata": {
      "needs_background": "light"
     },
     "output_type": "display_data"
    },
    {
     "data": {
      "image/png": "[encoded data removed]",
      "text/plain": [
       "<Figure size 432x288 with 2 Axes>"
      ]
     },
     "metadata": {
      "needs_background": "light"
     },
     "output_type": "display_data"
    },
    {
     "data": {
      "image/png": "[encoded data removed]",
      "text/plain": [
       "<Figure size 432x288 with 2 Axes>"
      ]
     },
     "metadata": {
      "needs_background": "light"
     },
     "output_type": "display_data"
    }
   ],
   "source": [
    "frame = 0\n",
    "plt.figure(frame)\n",
    "\n",
    "plt.subplot(221)\n",
    "cutout = dmu.make_cutout_image(butler, ra, dec, filter='g')\n",
    "\n",
    "plt.subplot(222)\n",
    "cutout = dmu.make_cutout_image(butler, ra, dec, filter='r')\n",
    "\n",
    "plt.subplot(223)\n",
    "cutout = dmu.make_cutout_image(butler, ra, dec, filter='i')\n",
    "\n",
    "plt.subplot(224)\n",
    "cutout = dmu.make_cutout_image(butler, ra, dec, filter='z')"
   ]
  },
  {
   "cell_type": "code",
   "execution_count": 57,
   "metadata": {},
   "outputs": [
    {
     "data": {
      "text/plain": [
       "<Figure size 432x288 with 0 Axes>"
      ]
     },
     "metadata": {},
     "output_type": "display_data"
    },
    {
     "data": {
      "image/png": "[encoded data removed]",
      "text/plain": [
       "<Figure size 432x288 with 2 Axes>"
      ]
     },
     "metadata": {
      "needs_background": "light"
     },
     "output_type": "display_data"
    }
   ],
   "source": [
    "frame = 1\n",
    "plt.figure(frame)\n",
    "cutout = dmu.display_cutout_image(butler, sntab.snra_in[1], sntab.sndec_in[1])"
   ]
  },
  {
   "cell_type": "markdown",
   "metadata": {},
   "source": [
    "## The DIA sources inspection"
   ]
  },
  {
   "cell_type": "code",
   "execution_count": 58,
   "metadata": {},
   "outputs": [],
   "source": [
    "diarepo = '/global/cscratch1/sd/bos0109/test_imdiff_run2/rerun/multiband/rerun/forcedPhot/'"
   ]
  },
  {
   "cell_type": "code",
   "execution_count": 59,
   "metadata": {},
   "outputs": [],
   "source": [
    "butlerdia = Butler(diarepo)"
   ]
  },
  {
   "cell_type": "code",
   "execution_count": 60,
   "metadata": {},
   "outputs": [
    {
     "data": {
      "text/plain": [
       "<Figure size 432x288 with 0 Axes>"
      ]
     },
     "metadata": {},
     "output_type": "display_data"
    },
    {
     "data": {
      "image/png": "[encoded data removed]",
      "text/plain": [
       "<Figure size 432x288 with 2 Axes>"
      ]
     },
     "metadata": {
      "needs_background": "light"
     },
     "output_type": "display_data"
    }
   ],
   "source": [
    "frame = 1\n",
    "plt.figure(frame)\n",
    "cutout = dmu.display_cutout_image(butlerdia, sntab.snra_in[3], sntab.sndec_in[3])"
   ]
  },
  {
   "cell_type": "code",
   "execution_count": 61,
   "metadata": {},
   "outputs": [],
   "source": [
    "diaMapper = butlerdia._getDefaultMapper()"
   ]
  },
  {
   "cell_type": "code",
   "execution_count": 62,
   "metadata": {},
   "outputs": [],
   "source": [
    "diamapper = diaMapper(diarepo)"
   ]
  },
  {
   "cell_type": "code",
   "execution_count": 63,
   "metadata": {},
   "outputs": [],
   "source": [
    "all_diadataset_types = diamapper.getDatasetTypes()\n",
    "\n",
    "remove = ['_config', '_filename', '_md', '_sub', '_len', '_schema', '_metadata']\n",
    "\n",
    "shortlist = []\n",
    "for dataset_type in all_diadataset_types:\n",
    "    keep = True\n",
    "    for word in remove:\n",
    "        if word in dataset_type:\n",
    "            keep = False\n",
    "    if keep:\n",
    "        shortlist.append(dataset_type)\n",
    "\n",
    "#print(shortlist)"
   ]
  },
  {
   "cell_type": "code",
   "execution_count": 64,
   "metadata": {},
   "outputs": [
    {
     "data": {
      "text/plain": [
       "False"
      ]
     },
     "execution_count": 64,
     "metadata": {},
     "output_type": "execute_result"
    }
   ],
   "source": [
    "butlerdia.datasetExists('deepDiff_diaSrc')"
   ]
  },
  {
   "cell_type": "code",
   "execution_count": 65,
   "metadata": {},
   "outputs": [
    {
     "data": {
      "text/plain": [
       "{'visit': int,\n",
       " 'filter': str,\n",
       " 'raftName': str,\n",
       " 'detectorName': str,\n",
       " 'detector': int}"
      ]
     },
     "execution_count": 65,
     "metadata": {},
     "output_type": "execute_result"
    }
   ],
   "source": [
    "butlerdia.getKeys('deepDiff_diaSrc')"
   ]
  },
  {
   "cell_type": "code",
   "execution_count": 66,
   "metadata": {},
   "outputs": [],
   "source": [
    "tpId = {'tract':4639, 'patch': '0,0'}"
   ]
  },
  {
   "cell_type": "code",
   "execution_count": 67,
   "metadata": {},
   "outputs": [],
   "source": [
    "metadata = butlerdia.queryMetadata('deepDiff_diaSrc', ['id', 'visit', 'filter', 'raftName', 'detectorName', 'detector'],\n",
    "                                   dataId=tpId)"
   ]
  },
  {
   "cell_type": "code",
   "execution_count": 73,
   "metadata": {},
   "outputs": [],
   "source": [
    "meta = pd.DataFrame(metadata, columns=['id', 'visit', 'filter', 'raftName', 'detectorName', 'detector'])"
   ]
  },
  {
   "cell_type": "code",
   "execution_count": 74,
   "metadata": {},
   "outputs": [
    {
     "data": {
      "text/html": [
       "<div>\n",
       "<style scoped>\n",
       "    .dataframe tbody tr th:only-of-type {\n",
       "        vertical-align: middle;\n",
       "    }\n",
       "\n",
       "    .dataframe tbody tr th {\n",
       "        vertical-align: top;\n",
       "    }\n",
       "\n",
       "    .dataframe thead th {\n",
       "        text-align: right;\n",
       "    }\n",
       "</style>\n",
       "<table border=\"1\" class=\"dataframe\">\n",
       "  <thead>\n",
       "    <tr style=\"text-align: right;\">\n",
       "      <th></th>\n",
       "      <th>id</th>\n",
       "      <th>visit</th>\n",
       "      <th>filter</th>\n",
       "      <th>raftName</th>\n",
       "      <th>detectorName</th>\n",
       "      <th>detector</th>\n",
       "    </tr>\n",
       "  </thead>\n",
       "  <tbody>\n",
       "    <tr>\n",
       "      <th>0</th>\n",
       "      <td>1</td>\n",
       "      <td>12469</td>\n",
       "      <td>y</td>\n",
       "      <td>R24</td>\n",
       "      <td>S01</td>\n",
       "      <td>109</td>\n",
       "    </tr>\n",
       "    <tr>\n",
       "      <th>1</th>\n",
       "      <td>2</td>\n",
       "      <td>12469</td>\n",
       "      <td>y</td>\n",
       "      <td>R24</td>\n",
       "      <td>S02</td>\n",
       "      <td>110</td>\n",
       "    </tr>\n",
       "    <tr>\n",
       "      <th>2</th>\n",
       "      <td>3</td>\n",
       "      <td>12469</td>\n",
       "      <td>y</td>\n",
       "      <td>R24</td>\n",
       "      <td>S10</td>\n",
       "      <td>111</td>\n",
       "    </tr>\n",
       "    <tr>\n",
       "      <th>3</th>\n",
       "      <td>4</td>\n",
       "      <td>12469</td>\n",
       "      <td>y</td>\n",
       "      <td>R24</td>\n",
       "      <td>S11</td>\n",
       "      <td>112</td>\n",
       "    </tr>\n",
       "    <tr>\n",
       "      <th>4</th>\n",
       "      <td>5</td>\n",
       "      <td>12469</td>\n",
       "      <td>y</td>\n",
       "      <td>R24</td>\n",
       "      <td>S12</td>\n",
       "      <td>113</td>\n",
       "    </tr>\n",
       "  </tbody>\n",
       "</table>\n",
       "</div>"
      ],
      "text/plain": [
       "   id  visit filter raftName detectorName  detector\n",
       "0   1  12469      y      R24          S01       109\n",
       "1   2  12469      y      R24          S02       110\n",
       "2   3  12469      y      R24          S10       111\n",
       "3   4  12469      y      R24          S11       112\n",
       "4   5  12469      y      R24          S12       113"
      ]
     },
     "execution_count": 74,
     "metadata": {},
     "output_type": "execute_result"
    }
   ],
   "source": [
    "meta.head()"
   ]
  },
  {
   "cell_type": "code",
   "execution_count": 76,
   "metadata": {},
   "outputs": [],
   "source": [
    "meta = meta[meta['filter']!='u']\n",
    "meta = meta[meta['filter']!='y']"
   ]
  },
  {
   "cell_type": "code",
   "execution_count": 78,
   "metadata": {},
   "outputs": [],
   "source": [
    "path = '/global/cscratch1/sd/bos0109/test_imdiff_run2/deepDiff'\n",
    "diffpath = 'v{}-f{}/{}/diaSrc_{}-{}-{}-{}-det{}.fits'\n",
    "\n",
    "cats = []\n",
    "for idx, vn, fna, raf, detN, det in metadata:\n",
    "    if fna=='y' or fna=='u': continue\n",
    "    \n",
    "    dpath = os.path.join(path, diffpath.format(str(vn).zfill(8), fna, raf, \n",
    "                                               str(vn).zfill(8), fna,raf, detN, \n",
    "                                               str(det).zfill(3)))\n",
    "    if os.path.exists(dpath):\n",
    "        catalog=butlerdia.get('deepDiff_diaSrc', visit=vn,detector=det).asAstropy()\n",
    "        if len(catalog) is not 0:\n",
    "            catalog['visit_n'] = vn\n",
    "            catalog['filter'] = fna\n",
    "            catalog['raft'] = raf\n",
    "            catalog['sensor'] = detN\n",
    "            catalog['detector'] = det\n",
    "\n",
    "            cats.append(catalog)"
   ]
  },
  {
   "cell_type": "code",
   "execution_count": 79,
   "metadata": {},
   "outputs": [
    {
     "name": "stdout",
     "output_type": "stream",
     "text": [
      "diaSrc_00159481-g-R02-S11-det013.fits  diffexp_00159481-g-R02-S11-det013.fits\n",
      "diaSrc_00159481-g-R02-S21-det016.fits  diffexp_00159481-g-R02-S21-det016.fits\n"
     ]
    }
   ],
   "source": [
    "ls /global/cscratch1/sd/bos0109/test_imdiff_run2/deepDiff/v00159481-fg/R02/"
   ]
  },
  {
   "cell_type": "code",
   "execution_count": 80,
   "metadata": {},
   "outputs": [],
   "source": [
    "from astropy.table import vstack"
   ]
  },
  {
   "cell_type": "code",
   "execution_count": 81,
   "metadata": {},
   "outputs": [],
   "source": [
    "mastercat = vstack(cats)"
   ]
  },
  {
   "cell_type": "raw",
   "metadata": {
    "jupyter": {
     "outputs_hidden": true
    }
   },
   "source": [
    "mastercat.write('./mastercatalog_dia_srcs.fits', format='fits')"
   ]
  },
  {
   "cell_type": "raw",
   "metadata": {},
   "source": [
    "mastercat.write('./mastercatalog_dia_srcs.hd5', path='diaSrc_mastercat',format='hdf5')"
   ]
  },
  {
   "cell_type": "code",
   "execution_count": 84,
   "metadata": {},
   "outputs": [
    {
     "data": {
      "text/plain": [
       "{'tract': int, 'patch': str}"
      ]
     },
     "execution_count": 84,
     "metadata": {},
     "output_type": "execute_result"
    }
   ],
   "source": [
    "butlerdia.getKeys('deepDiff_diaObject')"
   ]
  },
  {
   "cell_type": "code",
   "execution_count": 85,
   "metadata": {},
   "outputs": [],
   "source": [
    "objs = butlerdia.get('deepDiff_diaObject', dataId=tpId).asAstropy()"
   ]
  },
  {
   "cell_type": "code",
   "execution_count": 86,
   "metadata": {},
   "outputs": [
    {
     "data": {
      "text/plain": [
       "958"
      ]
     },
     "execution_count": 86,
     "metadata": {},
     "output_type": "execute_result"
    }
   ],
   "source": [
    "len(objs)"
   ]
  },
  {
   "cell_type": "raw",
   "metadata": {},
   "source": [
    "objs.write('./object_catalog_dia.fits')"
   ]
  },
  {
   "cell_type": "raw",
   "metadata": {},
   "source": [
    "objs.write('./object_catalog_dia.hd5', path='diaObj_cat', format='hdf5')"
   ]
  },
  {
   "cell_type": "code",
   "execution_count": 87,
   "metadata": {},
   "outputs": [],
   "source": [
    "sn_truth_t = pd.read_csv('SN_Truth_table.csv')"
   ]
  },
  {
   "cell_type": "code",
   "execution_count": 92,
   "metadata": {},
   "outputs": [],
   "source": [
    "sn_truth_t['snid_in'] = sn_truth_t.snid_in.astype(str)"
   ]
  },
  {
   "cell_type": "code",
   "execution_count": 131,
   "metadata": {},
   "outputs": [],
   "source": [
    "sn_truth_t['snid_in_cat'] = sn_truth_t.snid_in.astype('category')"
   ]
  },
  {
   "cell_type": "code",
   "execution_count": 108,
   "metadata": {},
   "outputs": [],
   "source": [
    "sn_truth_t = sn_truth_t.astype({'snid_in': 'str'})"
   ]
  },
  {
   "cell_type": "code",
   "execution_count": 132,
   "metadata": {},
   "outputs": [],
   "source": [
    "sntab['snid_in_cat'] = sntab.snid_in.astype('category')"
   ]
  },
  {
   "cell_type": "code",
   "execution_count": 116,
   "metadata": {},
   "outputs": [],
   "source": [
    "sntab = sntab.astype({'snid_in': 'str'})"
   ]
  },
  {
   "cell_type": "code",
   "execution_count": 127,
   "metadata": {},
   "outputs": [
    {
     "data": {
      "text/plain": [
       "index                 int64\n",
       "fieldID               int64\n",
       "descDitheredRA      float64\n",
       "descDitheredDec     float64\n",
       "expMJD              float64\n",
       "filter               object\n",
       "fiveSigmaDepth      float64\n",
       "fiveSigmaDepth.1    float64\n",
       "rotSkyPos           float64\n",
       "rotTelPos           float64\n",
       "FWHMeff             float64\n",
       "obsHistID             int64\n",
       "mag                 float64\n",
       "snid_in              object\n",
       "chip                 object\n",
       "xpixel              float64\n",
       "ypixel              float64\n",
       "dtype: object"
      ]
     },
     "execution_count": 127,
     "metadata": {},
     "output_type": "execute_result"
    }
   ],
   "source": [
    "sn_truth_t.astype({'snid_in': 'str'}).dtypes"
   ]
  },
  {
   "cell_type": "code",
   "execution_count": 95,
   "metadata": {},
   "outputs": [
    {
     "data": {
      "text/plain": [
       "1809"
      ]
     },
     "execution_count": 95,
     "metadata": {},
     "output_type": "execute_result"
    }
   ],
   "source": [
    "len(sn_truth_t)"
   ]
  },
  {
   "cell_type": "code",
   "execution_count": 96,
   "metadata": {},
   "outputs": [
    {
     "data": {
      "text/plain": [
       "6127"
      ]
     },
     "execution_count": 96,
     "metadata": {},
     "output_type": "execute_result"
    }
   ],
   "source": [
    "len(mastercat)"
   ]
  },
  {
   "cell_type": "code",
   "execution_count": 101,
   "metadata": {},
   "outputs": [
    {
     "data": {
      "text/plain": [
       "Index(['index', 'fieldID', 'descDitheredRA', 'descDitheredDec', 'expMJD',\n",
       "       'filter', 'fiveSigmaDepth', 'fiveSigmaDepth.1', 'rotSkyPos',\n",
       "       'rotTelPos', 'FWHMeff', 'obsHistID', 'mag', 'snid_in', 'chip', 'xpixel',\n",
       "       'ypixel'],\n",
       "      dtype='object')"
      ]
     },
     "execution_count": 101,
     "metadata": {},
     "output_type": "execute_result"
    }
   ],
   "source": [
    "sn_truth_t.columns"
   ]
  },
  {
   "cell_type": "code",
   "execution_count": 115,
   "metadata": {},
   "outputs": [
    {
     "data": {
      "text/plain": [
       "Index(['htmid_level_6', 'galaxy_id', 'c_in', 'mB', 't0_in', 'x0_in', 'x1_in',\n",
       "       'z_in', 'snid_in', 'snra_in', 'sndec_in'],\n",
       "      dtype='object')"
      ]
     },
     "execution_count": 115,
     "metadata": {},
     "output_type": "execute_result"
    }
   ],
   "source": [
    "sntab.columns"
   ]
  },
  {
   "cell_type": "code",
   "execution_count": 110,
   "metadata": {},
   "outputs": [],
   "source": [
    "merged = pd.merge(left=sn_truth_t, right=sntab, how='left', on='snid_in', suffixes=('_tab', '_par'))"
   ]
  },
  {
   "cell_type": "code",
   "execution_count": 129,
   "metadata": {},
   "outputs": [
    {
     "data": {
      "text/html": [
       "<div>\n",
       "<style scoped>\n",
       "    .dataframe tbody tr th:only-of-type {\n",
       "        vertical-align: middle;\n",
       "    }\n",
       "\n",
       "    .dataframe tbody tr th {\n",
       "        vertical-align: top;\n",
       "    }\n",
       "\n",
       "    .dataframe thead th {\n",
       "        text-align: right;\n",
       "    }\n",
       "</style>\n",
       "<table border=\"1\" class=\"dataframe\">\n",
       "  <thead>\n",
       "    <tr style=\"text-align: right;\">\n",
       "      <th></th>\n",
       "      <th>index</th>\n",
       "      <th>fieldID</th>\n",
       "      <th>descDitheredRA</th>\n",
       "      <th>descDitheredDec</th>\n",
       "      <th>expMJD</th>\n",
       "      <th>filter</th>\n",
       "      <th>fiveSigmaDepth</th>\n",
       "      <th>fiveSigmaDepth.1</th>\n",
       "      <th>rotSkyPos</th>\n",
       "      <th>rotTelPos</th>\n",
       "      <th>...</th>\n",
       "      <th>htmid_level_6</th>\n",
       "      <th>galaxy_id</th>\n",
       "      <th>c_in</th>\n",
       "      <th>mB</th>\n",
       "      <th>t0_in</th>\n",
       "      <th>x0_in</th>\n",
       "      <th>x1_in</th>\n",
       "      <th>z_in</th>\n",
       "      <th>snra_in</th>\n",
       "      <th>sndec_in</th>\n",
       "    </tr>\n",
       "  </thead>\n",
       "  <tbody>\n",
       "    <tr>\n",
       "      <th>0</th>\n",
       "      <td>107</td>\n",
       "      <td>1297</td>\n",
       "      <td>57.951252</td>\n",
       "      <td>-31.295413</td>\n",
       "      <td>60132.418248</td>\n",
       "      <td>lssty</td>\n",
       "      <td>22.135284</td>\n",
       "      <td>22.135284</td>\n",
       "      <td>2.065568</td>\n",
       "      <td>0.262857</td>\n",
       "      <td>...</td>\n",
       "      <td>NaN</td>\n",
       "      <td>NaN</td>\n",
       "      <td>NaN</td>\n",
       "      <td>NaN</td>\n",
       "      <td>NaN</td>\n",
       "      <td>NaN</td>\n",
       "      <td>NaN</td>\n",
       "      <td>NaN</td>\n",
       "      <td>NaN</td>\n",
       "      <td>NaN</td>\n",
       "    </tr>\n",
       "    <tr>\n",
       "      <th>1</th>\n",
       "      <td>107</td>\n",
       "      <td>1297</td>\n",
       "      <td>57.951252</td>\n",
       "      <td>-31.295413</td>\n",
       "      <td>60132.418248</td>\n",
       "      <td>lssty</td>\n",
       "      <td>22.135284</td>\n",
       "      <td>22.135284</td>\n",
       "      <td>2.065568</td>\n",
       "      <td>0.262857</td>\n",
       "      <td>...</td>\n",
       "      <td>NaN</td>\n",
       "      <td>NaN</td>\n",
       "      <td>NaN</td>\n",
       "      <td>NaN</td>\n",
       "      <td>NaN</td>\n",
       "      <td>NaN</td>\n",
       "      <td>NaN</td>\n",
       "      <td>NaN</td>\n",
       "      <td>NaN</td>\n",
       "      <td>NaN</td>\n",
       "    </tr>\n",
       "    <tr>\n",
       "      <th>2</th>\n",
       "      <td>107</td>\n",
       "      <td>1297</td>\n",
       "      <td>57.951252</td>\n",
       "      <td>-31.295413</td>\n",
       "      <td>60132.418248</td>\n",
       "      <td>lssty</td>\n",
       "      <td>22.135284</td>\n",
       "      <td>22.135284</td>\n",
       "      <td>2.065568</td>\n",
       "      <td>0.262857</td>\n",
       "      <td>...</td>\n",
       "      <td>NaN</td>\n",
       "      <td>NaN</td>\n",
       "      <td>NaN</td>\n",
       "      <td>NaN</td>\n",
       "      <td>NaN</td>\n",
       "      <td>NaN</td>\n",
       "      <td>NaN</td>\n",
       "      <td>NaN</td>\n",
       "      <td>NaN</td>\n",
       "      <td>NaN</td>\n",
       "    </tr>\n",
       "    <tr>\n",
       "      <th>3</th>\n",
       "      <td>107</td>\n",
       "      <td>1297</td>\n",
       "      <td>57.951252</td>\n",
       "      <td>-31.295413</td>\n",
       "      <td>60132.418248</td>\n",
       "      <td>lssty</td>\n",
       "      <td>22.135284</td>\n",
       "      <td>22.135284</td>\n",
       "      <td>2.065568</td>\n",
       "      <td>0.262857</td>\n",
       "      <td>...</td>\n",
       "      <td>NaN</td>\n",
       "      <td>NaN</td>\n",
       "      <td>NaN</td>\n",
       "      <td>NaN</td>\n",
       "      <td>NaN</td>\n",
       "      <td>NaN</td>\n",
       "      <td>NaN</td>\n",
       "      <td>NaN</td>\n",
       "      <td>NaN</td>\n",
       "      <td>NaN</td>\n",
       "    </tr>\n",
       "    <tr>\n",
       "      <th>4</th>\n",
       "      <td>107</td>\n",
       "      <td>1297</td>\n",
       "      <td>57.951252</td>\n",
       "      <td>-31.295413</td>\n",
       "      <td>60132.418248</td>\n",
       "      <td>lssty</td>\n",
       "      <td>22.135284</td>\n",
       "      <td>22.135284</td>\n",
       "      <td>2.065568</td>\n",
       "      <td>0.262857</td>\n",
       "      <td>...</td>\n",
       "      <td>NaN</td>\n",
       "      <td>NaN</td>\n",
       "      <td>NaN</td>\n",
       "      <td>NaN</td>\n",
       "      <td>NaN</td>\n",
       "      <td>NaN</td>\n",
       "      <td>NaN</td>\n",
       "      <td>NaN</td>\n",
       "      <td>NaN</td>\n",
       "      <td>NaN</td>\n",
       "    </tr>\n",
       "    <tr>\n",
       "      <th>5</th>\n",
       "      <td>107</td>\n",
       "      <td>1297</td>\n",
       "      <td>57.951252</td>\n",
       "      <td>-31.295413</td>\n",
       "      <td>60132.418248</td>\n",
       "      <td>lssty</td>\n",
       "      <td>22.135284</td>\n",
       "      <td>22.135284</td>\n",
       "      <td>2.065568</td>\n",
       "      <td>0.262857</td>\n",
       "      <td>...</td>\n",
       "      <td>NaN</td>\n",
       "      <td>NaN</td>\n",
       "      <td>NaN</td>\n",
       "      <td>NaN</td>\n",
       "      <td>NaN</td>\n",
       "      <td>NaN</td>\n",
       "      <td>NaN</td>\n",
       "      <td>NaN</td>\n",
       "      <td>NaN</td>\n",
       "      <td>NaN</td>\n",
       "    </tr>\n",
       "    <tr>\n",
       "      <th>6</th>\n",
       "      <td>108</td>\n",
       "      <td>1297</td>\n",
       "      <td>58.944666</td>\n",
       "      <td>-30.814988</td>\n",
       "      <td>60145.374232</td>\n",
       "      <td>lsstg</td>\n",
       "      <td>24.418622</td>\n",
       "      <td>24.418622</td>\n",
       "      <td>2.866696</td>\n",
       "      <td>1.047071</td>\n",
       "      <td>...</td>\n",
       "      <td>NaN</td>\n",
       "      <td>NaN</td>\n",
       "      <td>NaN</td>\n",
       "      <td>NaN</td>\n",
       "      <td>NaN</td>\n",
       "      <td>NaN</td>\n",
       "      <td>NaN</td>\n",
       "      <td>NaN</td>\n",
       "      <td>NaN</td>\n",
       "      <td>NaN</td>\n",
       "    </tr>\n",
       "    <tr>\n",
       "      <th>7</th>\n",
       "      <td>108</td>\n",
       "      <td>1297</td>\n",
       "      <td>58.944666</td>\n",
       "      <td>-30.814988</td>\n",
       "      <td>60145.374232</td>\n",
       "      <td>lsstg</td>\n",
       "      <td>24.418622</td>\n",
       "      <td>24.418622</td>\n",
       "      <td>2.866696</td>\n",
       "      <td>1.047071</td>\n",
       "      <td>...</td>\n",
       "      <td>NaN</td>\n",
       "      <td>NaN</td>\n",
       "      <td>NaN</td>\n",
       "      <td>NaN</td>\n",
       "      <td>NaN</td>\n",
       "      <td>NaN</td>\n",
       "      <td>NaN</td>\n",
       "      <td>NaN</td>\n",
       "      <td>NaN</td>\n",
       "      <td>NaN</td>\n",
       "    </tr>\n",
       "    <tr>\n",
       "      <th>8</th>\n",
       "      <td>108</td>\n",
       "      <td>1297</td>\n",
       "      <td>58.944666</td>\n",
       "      <td>-30.814988</td>\n",
       "      <td>60145.374232</td>\n",
       "      <td>lsstg</td>\n",
       "      <td>24.418622</td>\n",
       "      <td>24.418622</td>\n",
       "      <td>2.866696</td>\n",
       "      <td>1.047071</td>\n",
       "      <td>...</td>\n",
       "      <td>NaN</td>\n",
       "      <td>NaN</td>\n",
       "      <td>NaN</td>\n",
       "      <td>NaN</td>\n",
       "      <td>NaN</td>\n",
       "      <td>NaN</td>\n",
       "      <td>NaN</td>\n",
       "      <td>NaN</td>\n",
       "      <td>NaN</td>\n",
       "      <td>NaN</td>\n",
       "    </tr>\n",
       "    <tr>\n",
       "      <th>9</th>\n",
       "      <td>108</td>\n",
       "      <td>1297</td>\n",
       "      <td>58.944666</td>\n",
       "      <td>-30.814988</td>\n",
       "      <td>60145.374232</td>\n",
       "      <td>lsstg</td>\n",
       "      <td>24.418622</td>\n",
       "      <td>24.418622</td>\n",
       "      <td>2.866696</td>\n",
       "      <td>1.047071</td>\n",
       "      <td>...</td>\n",
       "      <td>NaN</td>\n",
       "      <td>NaN</td>\n",
       "      <td>NaN</td>\n",
       "      <td>NaN</td>\n",
       "      <td>NaN</td>\n",
       "      <td>NaN</td>\n",
       "      <td>NaN</td>\n",
       "      <td>NaN</td>\n",
       "      <td>NaN</td>\n",
       "      <td>NaN</td>\n",
       "    </tr>\n",
       "    <tr>\n",
       "      <th>10</th>\n",
       "      <td>108</td>\n",
       "      <td>1297</td>\n",
       "      <td>58.944666</td>\n",
       "      <td>-30.814988</td>\n",
       "      <td>60145.374232</td>\n",
       "      <td>lsstg</td>\n",
       "      <td>24.418622</td>\n",
       "      <td>24.418622</td>\n",
       "      <td>2.866696</td>\n",
       "      <td>1.047071</td>\n",
       "      <td>...</td>\n",
       "      <td>NaN</td>\n",
       "      <td>NaN</td>\n",
       "      <td>NaN</td>\n",
       "      <td>NaN</td>\n",
       "      <td>NaN</td>\n",
       "      <td>NaN</td>\n",
       "      <td>NaN</td>\n",
       "      <td>NaN</td>\n",
       "      <td>NaN</td>\n",
       "      <td>NaN</td>\n",
       "    </tr>\n",
       "    <tr>\n",
       "      <th>11</th>\n",
       "      <td>108</td>\n",
       "      <td>1297</td>\n",
       "      <td>58.944666</td>\n",
       "      <td>-30.814988</td>\n",
       "      <td>60145.374232</td>\n",
       "      <td>lsstg</td>\n",
       "      <td>24.418622</td>\n",
       "      <td>24.418622</td>\n",
       "      <td>2.866696</td>\n",
       "      <td>1.047071</td>\n",
       "      <td>...</td>\n",
       "      <td>NaN</td>\n",
       "      <td>NaN</td>\n",
       "      <td>NaN</td>\n",
       "      <td>NaN</td>\n",
       "      <td>NaN</td>\n",
       "      <td>NaN</td>\n",
       "      <td>NaN</td>\n",
       "      <td>NaN</td>\n",
       "      <td>NaN</td>\n",
       "      <td>NaN</td>\n",
       "    </tr>\n",
       "    <tr>\n",
       "      <th>12</th>\n",
       "      <td>109</td>\n",
       "      <td>1309</td>\n",
       "      <td>55.748583</td>\n",
       "      <td>-30.853548</td>\n",
       "      <td>60145.374680</td>\n",
       "      <td>lsstg</td>\n",
       "      <td>24.481660</td>\n",
       "      <td>24.481660</td>\n",
       "      <td>2.856264</td>\n",
       "      <td>1.047964</td>\n",
       "      <td>...</td>\n",
       "      <td>NaN</td>\n",
       "      <td>NaN</td>\n",
       "      <td>NaN</td>\n",
       "      <td>NaN</td>\n",
       "      <td>NaN</td>\n",
       "      <td>NaN</td>\n",
       "      <td>NaN</td>\n",
       "      <td>NaN</td>\n",
       "      <td>NaN</td>\n",
       "      <td>NaN</td>\n",
       "    </tr>\n",
       "    <tr>\n",
       "      <th>13</th>\n",
       "      <td>109</td>\n",
       "      <td>1309</td>\n",
       "      <td>55.748583</td>\n",
       "      <td>-30.853548</td>\n",
       "      <td>60145.374680</td>\n",
       "      <td>lsstg</td>\n",
       "      <td>24.481660</td>\n",
       "      <td>24.481660</td>\n",
       "      <td>2.856264</td>\n",
       "      <td>1.047964</td>\n",
       "      <td>...</td>\n",
       "      <td>NaN</td>\n",
       "      <td>NaN</td>\n",
       "      <td>NaN</td>\n",
       "      <td>NaN</td>\n",
       "      <td>NaN</td>\n",
       "      <td>NaN</td>\n",
       "      <td>NaN</td>\n",
       "      <td>NaN</td>\n",
       "      <td>NaN</td>\n",
       "      <td>NaN</td>\n",
       "    </tr>\n",
       "    <tr>\n",
       "      <th>14</th>\n",
       "      <td>109</td>\n",
       "      <td>1309</td>\n",
       "      <td>55.748583</td>\n",
       "      <td>-30.853548</td>\n",
       "      <td>60145.374680</td>\n",
       "      <td>lsstg</td>\n",
       "      <td>24.481660</td>\n",
       "      <td>24.481660</td>\n",
       "      <td>2.856264</td>\n",
       "      <td>1.047964</td>\n",
       "      <td>...</td>\n",
       "      <td>NaN</td>\n",
       "      <td>NaN</td>\n",
       "      <td>NaN</td>\n",
       "      <td>NaN</td>\n",
       "      <td>NaN</td>\n",
       "      <td>NaN</td>\n",
       "      <td>NaN</td>\n",
       "      <td>NaN</td>\n",
       "      <td>NaN</td>\n",
       "      <td>NaN</td>\n",
       "    </tr>\n",
       "    <tr>\n",
       "      <th>15</th>\n",
       "      <td>109</td>\n",
       "      <td>1309</td>\n",
       "      <td>55.748583</td>\n",
       "      <td>-30.853548</td>\n",
       "      <td>60145.374680</td>\n",
       "      <td>lsstg</td>\n",
       "      <td>24.481660</td>\n",
       "      <td>24.481660</td>\n",
       "      <td>2.856264</td>\n",
       "      <td>1.047964</td>\n",
       "      <td>...</td>\n",
       "      <td>NaN</td>\n",
       "      <td>NaN</td>\n",
       "      <td>NaN</td>\n",
       "      <td>NaN</td>\n",
       "      <td>NaN</td>\n",
       "      <td>NaN</td>\n",
       "      <td>NaN</td>\n",
       "      <td>NaN</td>\n",
       "      <td>NaN</td>\n",
       "      <td>NaN</td>\n",
       "    </tr>\n",
       "    <tr>\n",
       "      <th>16</th>\n",
       "      <td>109</td>\n",
       "      <td>1309</td>\n",
       "      <td>55.748583</td>\n",
       "      <td>-30.853548</td>\n",
       "      <td>60145.374680</td>\n",
       "      <td>lsstg</td>\n",
       "      <td>24.481660</td>\n",
       "      <td>24.481660</td>\n",
       "      <td>2.856264</td>\n",
       "      <td>1.047964</td>\n",
       "      <td>...</td>\n",
       "      <td>NaN</td>\n",
       "      <td>NaN</td>\n",
       "      <td>NaN</td>\n",
       "      <td>NaN</td>\n",
       "      <td>NaN</td>\n",
       "      <td>NaN</td>\n",
       "      <td>NaN</td>\n",
       "      <td>NaN</td>\n",
       "      <td>NaN</td>\n",
       "      <td>NaN</td>\n",
       "    </tr>\n",
       "    <tr>\n",
       "      <th>17</th>\n",
       "      <td>110</td>\n",
       "      <td>1297</td>\n",
       "      <td>57.343375</td>\n",
       "      <td>-29.619168</td>\n",
       "      <td>60145.390190</td>\n",
       "      <td>lsstg</td>\n",
       "      <td>24.601762</td>\n",
       "      <td>24.601762</td>\n",
       "      <td>2.959792</td>\n",
       "      <td>1.171684</td>\n",
       "      <td>...</td>\n",
       "      <td>NaN</td>\n",
       "      <td>NaN</td>\n",
       "      <td>NaN</td>\n",
       "      <td>NaN</td>\n",
       "      <td>NaN</td>\n",
       "      <td>NaN</td>\n",
       "      <td>NaN</td>\n",
       "      <td>NaN</td>\n",
       "      <td>NaN</td>\n",
       "      <td>NaN</td>\n",
       "    </tr>\n",
       "    <tr>\n",
       "      <th>18</th>\n",
       "      <td>110</td>\n",
       "      <td>1297</td>\n",
       "      <td>57.343375</td>\n",
       "      <td>-29.619168</td>\n",
       "      <td>60145.390190</td>\n",
       "      <td>lsstg</td>\n",
       "      <td>24.601762</td>\n",
       "      <td>24.601762</td>\n",
       "      <td>2.959792</td>\n",
       "      <td>1.171684</td>\n",
       "      <td>...</td>\n",
       "      <td>NaN</td>\n",
       "      <td>NaN</td>\n",
       "      <td>NaN</td>\n",
       "      <td>NaN</td>\n",
       "      <td>NaN</td>\n",
       "      <td>NaN</td>\n",
       "      <td>NaN</td>\n",
       "      <td>NaN</td>\n",
       "      <td>NaN</td>\n",
       "      <td>NaN</td>\n",
       "    </tr>\n",
       "    <tr>\n",
       "      <th>19</th>\n",
       "      <td>110</td>\n",
       "      <td>1297</td>\n",
       "      <td>57.343375</td>\n",
       "      <td>-29.619168</td>\n",
       "      <td>60145.390190</td>\n",
       "      <td>lsstg</td>\n",
       "      <td>24.601762</td>\n",
       "      <td>24.601762</td>\n",
       "      <td>2.959792</td>\n",
       "      <td>1.171684</td>\n",
       "      <td>...</td>\n",
       "      <td>NaN</td>\n",
       "      <td>NaN</td>\n",
       "      <td>NaN</td>\n",
       "      <td>NaN</td>\n",
       "      <td>NaN</td>\n",
       "      <td>NaN</td>\n",
       "      <td>NaN</td>\n",
       "      <td>NaN</td>\n",
       "      <td>NaN</td>\n",
       "      <td>NaN</td>\n",
       "    </tr>\n",
       "    <tr>\n",
       "      <th>20</th>\n",
       "      <td>110</td>\n",
       "      <td>1297</td>\n",
       "      <td>57.343375</td>\n",
       "      <td>-29.619168</td>\n",
       "      <td>60145.390190</td>\n",
       "      <td>lsstg</td>\n",
       "      <td>24.601762</td>\n",
       "      <td>24.601762</td>\n",
       "      <td>2.959792</td>\n",
       "      <td>1.171684</td>\n",
       "      <td>...</td>\n",
       "      <td>NaN</td>\n",
       "      <td>NaN</td>\n",
       "      <td>NaN</td>\n",
       "      <td>NaN</td>\n",
       "      <td>NaN</td>\n",
       "      <td>NaN</td>\n",
       "      <td>NaN</td>\n",
       "      <td>NaN</td>\n",
       "      <td>NaN</td>\n",
       "      <td>NaN</td>\n",
       "    </tr>\n",
       "    <tr>\n",
       "      <th>21</th>\n",
       "      <td>110</td>\n",
       "      <td>1297</td>\n",
       "      <td>57.343375</td>\n",
       "      <td>-29.619168</td>\n",
       "      <td>60145.390190</td>\n",
       "      <td>lsstg</td>\n",
       "      <td>24.601762</td>\n",
       "      <td>24.601762</td>\n",
       "      <td>2.959792</td>\n",
       "      <td>1.171684</td>\n",
       "      <td>...</td>\n",
       "      <td>NaN</td>\n",
       "      <td>NaN</td>\n",
       "      <td>NaN</td>\n",
       "      <td>NaN</td>\n",
       "      <td>NaN</td>\n",
       "      <td>NaN</td>\n",
       "      <td>NaN</td>\n",
       "      <td>NaN</td>\n",
       "      <td>NaN</td>\n",
       "      <td>NaN</td>\n",
       "    </tr>\n",
       "    <tr>\n",
       "      <th>22</th>\n",
       "      <td>110</td>\n",
       "      <td>1297</td>\n",
       "      <td>57.343375</td>\n",
       "      <td>-29.619168</td>\n",
       "      <td>60145.390190</td>\n",
       "      <td>lsstg</td>\n",
       "      <td>24.601762</td>\n",
       "      <td>24.601762</td>\n",
       "      <td>2.959792</td>\n",
       "      <td>1.171684</td>\n",
       "      <td>...</td>\n",
       "      <td>NaN</td>\n",
       "      <td>NaN</td>\n",
       "      <td>NaN</td>\n",
       "      <td>NaN</td>\n",
       "      <td>NaN</td>\n",
       "      <td>NaN</td>\n",
       "      <td>NaN</td>\n",
       "      <td>NaN</td>\n",
       "      <td>NaN</td>\n",
       "      <td>NaN</td>\n",
       "    </tr>\n",
       "    <tr>\n",
       "      <th>23</th>\n",
       "      <td>110</td>\n",
       "      <td>1297</td>\n",
       "      <td>57.343375</td>\n",
       "      <td>-29.619168</td>\n",
       "      <td>60145.390190</td>\n",
       "      <td>lsstg</td>\n",
       "      <td>24.601762</td>\n",
       "      <td>24.601762</td>\n",
       "      <td>2.959792</td>\n",
       "      <td>1.171684</td>\n",
       "      <td>...</td>\n",
       "      <td>NaN</td>\n",
       "      <td>NaN</td>\n",
       "      <td>NaN</td>\n",
       "      <td>NaN</td>\n",
       "      <td>NaN</td>\n",
       "      <td>NaN</td>\n",
       "      <td>NaN</td>\n",
       "      <td>NaN</td>\n",
       "      <td>NaN</td>\n",
       "      <td>NaN</td>\n",
       "    </tr>\n",
       "    <tr>\n",
       "      <th>24</th>\n",
       "      <td>13</td>\n",
       "      <td>1297</td>\n",
       "      <td>57.824230</td>\n",
       "      <td>-30.181010</td>\n",
       "      <td>59803.357884</td>\n",
       "      <td>lssty</td>\n",
       "      <td>22.194237</td>\n",
       "      <td>22.194237</td>\n",
       "      <td>2.047766</td>\n",
       "      <td>0.319852</td>\n",
       "      <td>...</td>\n",
       "      <td>NaN</td>\n",
       "      <td>NaN</td>\n",
       "      <td>NaN</td>\n",
       "      <td>NaN</td>\n",
       "      <td>NaN</td>\n",
       "      <td>NaN</td>\n",
       "      <td>NaN</td>\n",
       "      <td>NaN</td>\n",
       "      <td>NaN</td>\n",
       "      <td>NaN</td>\n",
       "    </tr>\n",
       "    <tr>\n",
       "      <th>25</th>\n",
       "      <td>13</td>\n",
       "      <td>1297</td>\n",
       "      <td>57.824230</td>\n",
       "      <td>-30.181010</td>\n",
       "      <td>59803.357884</td>\n",
       "      <td>lssty</td>\n",
       "      <td>22.194237</td>\n",
       "      <td>22.194237</td>\n",
       "      <td>2.047766</td>\n",
       "      <td>0.319852</td>\n",
       "      <td>...</td>\n",
       "      <td>NaN</td>\n",
       "      <td>NaN</td>\n",
       "      <td>NaN</td>\n",
       "      <td>NaN</td>\n",
       "      <td>NaN</td>\n",
       "      <td>NaN</td>\n",
       "      <td>NaN</td>\n",
       "      <td>NaN</td>\n",
       "      <td>NaN</td>\n",
       "      <td>NaN</td>\n",
       "    </tr>\n",
       "    <tr>\n",
       "      <th>26</th>\n",
       "      <td>13</td>\n",
       "      <td>1297</td>\n",
       "      <td>57.824230</td>\n",
       "      <td>-30.181010</td>\n",
       "      <td>59803.357884</td>\n",
       "      <td>lssty</td>\n",
       "      <td>22.194237</td>\n",
       "      <td>22.194237</td>\n",
       "      <td>2.047766</td>\n",
       "      <td>0.319852</td>\n",
       "      <td>...</td>\n",
       "      <td>NaN</td>\n",
       "      <td>NaN</td>\n",
       "      <td>NaN</td>\n",
       "      <td>NaN</td>\n",
       "      <td>NaN</td>\n",
       "      <td>NaN</td>\n",
       "      <td>NaN</td>\n",
       "      <td>NaN</td>\n",
       "      <td>NaN</td>\n",
       "      <td>NaN</td>\n",
       "    </tr>\n",
       "    <tr>\n",
       "      <th>27</th>\n",
       "      <td>13</td>\n",
       "      <td>1297</td>\n",
       "      <td>57.824230</td>\n",
       "      <td>-30.181010</td>\n",
       "      <td>59803.357884</td>\n",
       "      <td>lssty</td>\n",
       "      <td>22.194237</td>\n",
       "      <td>22.194237</td>\n",
       "      <td>2.047766</td>\n",
       "      <td>0.319852</td>\n",
       "      <td>...</td>\n",
       "      <td>NaN</td>\n",
       "      <td>NaN</td>\n",
       "      <td>NaN</td>\n",
       "      <td>NaN</td>\n",
       "      <td>NaN</td>\n",
       "      <td>NaN</td>\n",
       "      <td>NaN</td>\n",
       "      <td>NaN</td>\n",
       "      <td>NaN</td>\n",
       "      <td>NaN</td>\n",
       "    </tr>\n",
       "    <tr>\n",
       "      <th>28</th>\n",
       "      <td>13</td>\n",
       "      <td>1297</td>\n",
       "      <td>57.824230</td>\n",
       "      <td>-30.181010</td>\n",
       "      <td>59803.357884</td>\n",
       "      <td>lssty</td>\n",
       "      <td>22.194237</td>\n",
       "      <td>22.194237</td>\n",
       "      <td>2.047766</td>\n",
       "      <td>0.319852</td>\n",
       "      <td>...</td>\n",
       "      <td>NaN</td>\n",
       "      <td>NaN</td>\n",
       "      <td>NaN</td>\n",
       "      <td>NaN</td>\n",
       "      <td>NaN</td>\n",
       "      <td>NaN</td>\n",
       "      <td>NaN</td>\n",
       "      <td>NaN</td>\n",
       "      <td>NaN</td>\n",
       "      <td>NaN</td>\n",
       "    </tr>\n",
       "    <tr>\n",
       "      <th>29</th>\n",
       "      <td>13</td>\n",
       "      <td>1297</td>\n",
       "      <td>57.824230</td>\n",
       "      <td>-30.181010</td>\n",
       "      <td>59803.357884</td>\n",
       "      <td>lssty</td>\n",
       "      <td>22.194237</td>\n",
       "      <td>22.194237</td>\n",
       "      <td>2.047766</td>\n",
       "      <td>0.319852</td>\n",
       "      <td>...</td>\n",
       "      <td>NaN</td>\n",
       "      <td>NaN</td>\n",
       "      <td>NaN</td>\n",
       "      <td>NaN</td>\n",
       "      <td>NaN</td>\n",
       "      <td>NaN</td>\n",
       "      <td>NaN</td>\n",
       "      <td>NaN</td>\n",
       "      <td>NaN</td>\n",
       "      <td>NaN</td>\n",
       "    </tr>\n",
       "    <tr>\n",
       "      <th>...</th>\n",
       "      <td>...</td>\n",
       "      <td>...</td>\n",
       "      <td>...</td>\n",
       "      <td>...</td>\n",
       "      <td>...</td>\n",
       "      <td>...</td>\n",
       "      <td>...</td>\n",
       "      <td>...</td>\n",
       "      <td>...</td>\n",
       "      <td>...</td>\n",
       "      <td>...</td>\n",
       "      <td>...</td>\n",
       "      <td>...</td>\n",
       "      <td>...</td>\n",
       "      <td>...</td>\n",
       "      <td>...</td>\n",
       "      <td>...</td>\n",
       "      <td>...</td>\n",
       "      <td>...</td>\n",
       "      <td>...</td>\n",
       "      <td>...</td>\n",
       "    </tr>\n",
       "    <tr>\n",
       "      <th>1779</th>\n",
       "      <td>163</td>\n",
       "      <td>1178</td>\n",
       "      <td>58.522096</td>\n",
       "      <td>-32.514037</td>\n",
       "      <td>60224.167399</td>\n",
       "      <td>lsstr</td>\n",
       "      <td>24.137118</td>\n",
       "      <td>24.137118</td>\n",
       "      <td>3.067222</td>\n",
       "      <td>1.308774</td>\n",
       "      <td>...</td>\n",
       "      <td>NaN</td>\n",
       "      <td>NaN</td>\n",
       "      <td>NaN</td>\n",
       "      <td>NaN</td>\n",
       "      <td>NaN</td>\n",
       "      <td>NaN</td>\n",
       "      <td>NaN</td>\n",
       "      <td>NaN</td>\n",
       "      <td>NaN</td>\n",
       "      <td>NaN</td>\n",
       "    </tr>\n",
       "    <tr>\n",
       "      <th>1780</th>\n",
       "      <td>164</td>\n",
       "      <td>1309</td>\n",
       "      <td>55.003314</td>\n",
       "      <td>-31.464894</td>\n",
       "      <td>60232.149020</td>\n",
       "      <td>lsstr</td>\n",
       "      <td>24.272844</td>\n",
       "      <td>24.272844</td>\n",
       "      <td>2.015027</td>\n",
       "      <td>0.228986</td>\n",
       "      <td>...</td>\n",
       "      <td>NaN</td>\n",
       "      <td>NaN</td>\n",
       "      <td>NaN</td>\n",
       "      <td>NaN</td>\n",
       "      <td>NaN</td>\n",
       "      <td>NaN</td>\n",
       "      <td>NaN</td>\n",
       "      <td>NaN</td>\n",
       "      <td>NaN</td>\n",
       "      <td>NaN</td>\n",
       "    </tr>\n",
       "    <tr>\n",
       "      <th>1781</th>\n",
       "      <td>164</td>\n",
       "      <td>1309</td>\n",
       "      <td>55.003314</td>\n",
       "      <td>-31.464894</td>\n",
       "      <td>60232.149020</td>\n",
       "      <td>lsstr</td>\n",
       "      <td>24.272844</td>\n",
       "      <td>24.272844</td>\n",
       "      <td>2.015027</td>\n",
       "      <td>0.228986</td>\n",
       "      <td>...</td>\n",
       "      <td>NaN</td>\n",
       "      <td>NaN</td>\n",
       "      <td>NaN</td>\n",
       "      <td>NaN</td>\n",
       "      <td>NaN</td>\n",
       "      <td>NaN</td>\n",
       "      <td>NaN</td>\n",
       "      <td>NaN</td>\n",
       "      <td>NaN</td>\n",
       "      <td>NaN</td>\n",
       "    </tr>\n",
       "    <tr>\n",
       "      <th>1782</th>\n",
       "      <td>165</td>\n",
       "      <td>1297</td>\n",
       "      <td>58.683547</td>\n",
       "      <td>-30.177572</td>\n",
       "      <td>60232.154899</td>\n",
       "      <td>lsstr</td>\n",
       "      <td>24.309231</td>\n",
       "      <td>24.309231</td>\n",
       "      <td>2.031281</td>\n",
       "      <td>0.247580</td>\n",
       "      <td>...</td>\n",
       "      <td>NaN</td>\n",
       "      <td>NaN</td>\n",
       "      <td>NaN</td>\n",
       "      <td>NaN</td>\n",
       "      <td>NaN</td>\n",
       "      <td>NaN</td>\n",
       "      <td>NaN</td>\n",
       "      <td>NaN</td>\n",
       "      <td>NaN</td>\n",
       "      <td>NaN</td>\n",
       "    </tr>\n",
       "    <tr>\n",
       "      <th>1783</th>\n",
       "      <td>165</td>\n",
       "      <td>1297</td>\n",
       "      <td>58.683547</td>\n",
       "      <td>-30.177572</td>\n",
       "      <td>60232.154899</td>\n",
       "      <td>lsstr</td>\n",
       "      <td>24.309231</td>\n",
       "      <td>24.309231</td>\n",
       "      <td>2.031281</td>\n",
       "      <td>0.247580</td>\n",
       "      <td>...</td>\n",
       "      <td>NaN</td>\n",
       "      <td>NaN</td>\n",
       "      <td>NaN</td>\n",
       "      <td>NaN</td>\n",
       "      <td>NaN</td>\n",
       "      <td>NaN</td>\n",
       "      <td>NaN</td>\n",
       "      <td>NaN</td>\n",
       "      <td>NaN</td>\n",
       "      <td>NaN</td>\n",
       "    </tr>\n",
       "    <tr>\n",
       "      <th>1784</th>\n",
       "      <td>165</td>\n",
       "      <td>1297</td>\n",
       "      <td>58.683547</td>\n",
       "      <td>-30.177572</td>\n",
       "      <td>60232.154899</td>\n",
       "      <td>lsstr</td>\n",
       "      <td>24.309231</td>\n",
       "      <td>24.309231</td>\n",
       "      <td>2.031281</td>\n",
       "      <td>0.247580</td>\n",
       "      <td>...</td>\n",
       "      <td>NaN</td>\n",
       "      <td>NaN</td>\n",
       "      <td>NaN</td>\n",
       "      <td>NaN</td>\n",
       "      <td>NaN</td>\n",
       "      <td>NaN</td>\n",
       "      <td>NaN</td>\n",
       "      <td>NaN</td>\n",
       "      <td>NaN</td>\n",
       "      <td>NaN</td>\n",
       "    </tr>\n",
       "    <tr>\n",
       "      <th>1785</th>\n",
       "      <td>165</td>\n",
       "      <td>1297</td>\n",
       "      <td>58.683547</td>\n",
       "      <td>-30.177572</td>\n",
       "      <td>60232.154899</td>\n",
       "      <td>lsstr</td>\n",
       "      <td>24.309231</td>\n",
       "      <td>24.309231</td>\n",
       "      <td>2.031281</td>\n",
       "      <td>0.247580</td>\n",
       "      <td>...</td>\n",
       "      <td>NaN</td>\n",
       "      <td>NaN</td>\n",
       "      <td>NaN</td>\n",
       "      <td>NaN</td>\n",
       "      <td>NaN</td>\n",
       "      <td>NaN</td>\n",
       "      <td>NaN</td>\n",
       "      <td>NaN</td>\n",
       "      <td>NaN</td>\n",
       "      <td>NaN</td>\n",
       "    </tr>\n",
       "    <tr>\n",
       "      <th>1786</th>\n",
       "      <td>166</td>\n",
       "      <td>1297</td>\n",
       "      <td>55.925442</td>\n",
       "      <td>-30.549250</td>\n",
       "      <td>60232.172106</td>\n",
       "      <td>lsstr</td>\n",
       "      <td>24.462647</td>\n",
       "      <td>24.462647</td>\n",
       "      <td>2.053374</td>\n",
       "      <td>0.302973</td>\n",
       "      <td>...</td>\n",
       "      <td>NaN</td>\n",
       "      <td>NaN</td>\n",
       "      <td>NaN</td>\n",
       "      <td>NaN</td>\n",
       "      <td>NaN</td>\n",
       "      <td>NaN</td>\n",
       "      <td>NaN</td>\n",
       "      <td>NaN</td>\n",
       "      <td>NaN</td>\n",
       "      <td>NaN</td>\n",
       "    </tr>\n",
       "    <tr>\n",
       "      <th>1787</th>\n",
       "      <td>166</td>\n",
       "      <td>1297</td>\n",
       "      <td>55.925442</td>\n",
       "      <td>-30.549250</td>\n",
       "      <td>60232.172106</td>\n",
       "      <td>lsstr</td>\n",
       "      <td>24.462647</td>\n",
       "      <td>24.462647</td>\n",
       "      <td>2.053374</td>\n",
       "      <td>0.302973</td>\n",
       "      <td>...</td>\n",
       "      <td>NaN</td>\n",
       "      <td>NaN</td>\n",
       "      <td>NaN</td>\n",
       "      <td>NaN</td>\n",
       "      <td>NaN</td>\n",
       "      <td>NaN</td>\n",
       "      <td>NaN</td>\n",
       "      <td>NaN</td>\n",
       "      <td>NaN</td>\n",
       "      <td>NaN</td>\n",
       "    </tr>\n",
       "    <tr>\n",
       "      <th>1788</th>\n",
       "      <td>166</td>\n",
       "      <td>1297</td>\n",
       "      <td>55.925442</td>\n",
       "      <td>-30.549250</td>\n",
       "      <td>60232.172106</td>\n",
       "      <td>lsstr</td>\n",
       "      <td>24.462647</td>\n",
       "      <td>24.462647</td>\n",
       "      <td>2.053374</td>\n",
       "      <td>0.302973</td>\n",
       "      <td>...</td>\n",
       "      <td>NaN</td>\n",
       "      <td>NaN</td>\n",
       "      <td>NaN</td>\n",
       "      <td>NaN</td>\n",
       "      <td>NaN</td>\n",
       "      <td>NaN</td>\n",
       "      <td>NaN</td>\n",
       "      <td>NaN</td>\n",
       "      <td>NaN</td>\n",
       "      <td>NaN</td>\n",
       "    </tr>\n",
       "    <tr>\n",
       "      <th>1789</th>\n",
       "      <td>166</td>\n",
       "      <td>1297</td>\n",
       "      <td>55.925442</td>\n",
       "      <td>-30.549250</td>\n",
       "      <td>60232.172106</td>\n",
       "      <td>lsstr</td>\n",
       "      <td>24.462647</td>\n",
       "      <td>24.462647</td>\n",
       "      <td>2.053374</td>\n",
       "      <td>0.302973</td>\n",
       "      <td>...</td>\n",
       "      <td>NaN</td>\n",
       "      <td>NaN</td>\n",
       "      <td>NaN</td>\n",
       "      <td>NaN</td>\n",
       "      <td>NaN</td>\n",
       "      <td>NaN</td>\n",
       "      <td>NaN</td>\n",
       "      <td>NaN</td>\n",
       "      <td>NaN</td>\n",
       "      <td>NaN</td>\n",
       "    </tr>\n",
       "    <tr>\n",
       "      <th>1790</th>\n",
       "      <td>166</td>\n",
       "      <td>1297</td>\n",
       "      <td>55.925442</td>\n",
       "      <td>-30.549250</td>\n",
       "      <td>60232.172106</td>\n",
       "      <td>lsstr</td>\n",
       "      <td>24.462647</td>\n",
       "      <td>24.462647</td>\n",
       "      <td>2.053374</td>\n",
       "      <td>0.302973</td>\n",
       "      <td>...</td>\n",
       "      <td>NaN</td>\n",
       "      <td>NaN</td>\n",
       "      <td>NaN</td>\n",
       "      <td>NaN</td>\n",
       "      <td>NaN</td>\n",
       "      <td>NaN</td>\n",
       "      <td>NaN</td>\n",
       "      <td>NaN</td>\n",
       "      <td>NaN</td>\n",
       "      <td>NaN</td>\n",
       "    </tr>\n",
       "    <tr>\n",
       "      <th>1791</th>\n",
       "      <td>167</td>\n",
       "      <td>1297</td>\n",
       "      <td>55.380376</td>\n",
       "      <td>-30.643387</td>\n",
       "      <td>60234.141543</td>\n",
       "      <td>lsstr</td>\n",
       "      <td>24.270725</td>\n",
       "      <td>24.270725</td>\n",
       "      <td>2.640207</td>\n",
       "      <td>0.841041</td>\n",
       "      <td>...</td>\n",
       "      <td>NaN</td>\n",
       "      <td>NaN</td>\n",
       "      <td>NaN</td>\n",
       "      <td>NaN</td>\n",
       "      <td>NaN</td>\n",
       "      <td>NaN</td>\n",
       "      <td>NaN</td>\n",
       "      <td>NaN</td>\n",
       "      <td>NaN</td>\n",
       "      <td>NaN</td>\n",
       "    </tr>\n",
       "    <tr>\n",
       "      <th>1792</th>\n",
       "      <td>167</td>\n",
       "      <td>1297</td>\n",
       "      <td>55.380376</td>\n",
       "      <td>-30.643387</td>\n",
       "      <td>60234.141543</td>\n",
       "      <td>lsstr</td>\n",
       "      <td>24.270725</td>\n",
       "      <td>24.270725</td>\n",
       "      <td>2.640207</td>\n",
       "      <td>0.841041</td>\n",
       "      <td>...</td>\n",
       "      <td>NaN</td>\n",
       "      <td>NaN</td>\n",
       "      <td>NaN</td>\n",
       "      <td>NaN</td>\n",
       "      <td>NaN</td>\n",
       "      <td>NaN</td>\n",
       "      <td>NaN</td>\n",
       "      <td>NaN</td>\n",
       "      <td>NaN</td>\n",
       "      <td>NaN</td>\n",
       "    </tr>\n",
       "    <tr>\n",
       "      <th>1793</th>\n",
       "      <td>167</td>\n",
       "      <td>1297</td>\n",
       "      <td>55.380376</td>\n",
       "      <td>-30.643387</td>\n",
       "      <td>60234.141543</td>\n",
       "      <td>lsstr</td>\n",
       "      <td>24.270725</td>\n",
       "      <td>24.270725</td>\n",
       "      <td>2.640207</td>\n",
       "      <td>0.841041</td>\n",
       "      <td>...</td>\n",
       "      <td>NaN</td>\n",
       "      <td>NaN</td>\n",
       "      <td>NaN</td>\n",
       "      <td>NaN</td>\n",
       "      <td>NaN</td>\n",
       "      <td>NaN</td>\n",
       "      <td>NaN</td>\n",
       "      <td>NaN</td>\n",
       "      <td>NaN</td>\n",
       "      <td>NaN</td>\n",
       "    </tr>\n",
       "    <tr>\n",
       "      <th>1794</th>\n",
       "      <td>167</td>\n",
       "      <td>1297</td>\n",
       "      <td>55.380376</td>\n",
       "      <td>-30.643387</td>\n",
       "      <td>60234.141543</td>\n",
       "      <td>lsstr</td>\n",
       "      <td>24.270725</td>\n",
       "      <td>24.270725</td>\n",
       "      <td>2.640207</td>\n",
       "      <td>0.841041</td>\n",
       "      <td>...</td>\n",
       "      <td>NaN</td>\n",
       "      <td>NaN</td>\n",
       "      <td>NaN</td>\n",
       "      <td>NaN</td>\n",
       "      <td>NaN</td>\n",
       "      <td>NaN</td>\n",
       "      <td>NaN</td>\n",
       "      <td>NaN</td>\n",
       "      <td>NaN</td>\n",
       "      <td>NaN</td>\n",
       "    </tr>\n",
       "    <tr>\n",
       "      <th>1795</th>\n",
       "      <td>167</td>\n",
       "      <td>1297</td>\n",
       "      <td>55.380376</td>\n",
       "      <td>-30.643387</td>\n",
       "      <td>60234.141543</td>\n",
       "      <td>lsstr</td>\n",
       "      <td>24.270725</td>\n",
       "      <td>24.270725</td>\n",
       "      <td>2.640207</td>\n",
       "      <td>0.841041</td>\n",
       "      <td>...</td>\n",
       "      <td>NaN</td>\n",
       "      <td>NaN</td>\n",
       "      <td>NaN</td>\n",
       "      <td>NaN</td>\n",
       "      <td>NaN</td>\n",
       "      <td>NaN</td>\n",
       "      <td>NaN</td>\n",
       "      <td>NaN</td>\n",
       "      <td>NaN</td>\n",
       "      <td>NaN</td>\n",
       "    </tr>\n",
       "    <tr>\n",
       "      <th>1796</th>\n",
       "      <td>167</td>\n",
       "      <td>1297</td>\n",
       "      <td>55.380376</td>\n",
       "      <td>-30.643387</td>\n",
       "      <td>60234.141543</td>\n",
       "      <td>lsstr</td>\n",
       "      <td>24.270725</td>\n",
       "      <td>24.270725</td>\n",
       "      <td>2.640207</td>\n",
       "      <td>0.841041</td>\n",
       "      <td>...</td>\n",
       "      <td>NaN</td>\n",
       "      <td>NaN</td>\n",
       "      <td>NaN</td>\n",
       "      <td>NaN</td>\n",
       "      <td>NaN</td>\n",
       "      <td>NaN</td>\n",
       "      <td>NaN</td>\n",
       "      <td>NaN</td>\n",
       "      <td>NaN</td>\n",
       "      <td>NaN</td>\n",
       "    </tr>\n",
       "    <tr>\n",
       "      <th>1797</th>\n",
       "      <td>168</td>\n",
       "      <td>1309</td>\n",
       "      <td>55.941132</td>\n",
       "      <td>-30.420220</td>\n",
       "      <td>60234.142885</td>\n",
       "      <td>lsstr</td>\n",
       "      <td>24.355046</td>\n",
       "      <td>24.355046</td>\n",
       "      <td>2.631420</td>\n",
       "      <td>0.844130</td>\n",
       "      <td>...</td>\n",
       "      <td>NaN</td>\n",
       "      <td>NaN</td>\n",
       "      <td>NaN</td>\n",
       "      <td>NaN</td>\n",
       "      <td>NaN</td>\n",
       "      <td>NaN</td>\n",
       "      <td>NaN</td>\n",
       "      <td>NaN</td>\n",
       "      <td>NaN</td>\n",
       "      <td>NaN</td>\n",
       "    </tr>\n",
       "    <tr>\n",
       "      <th>1798</th>\n",
       "      <td>168</td>\n",
       "      <td>1309</td>\n",
       "      <td>55.941132</td>\n",
       "      <td>-30.420220</td>\n",
       "      <td>60234.142885</td>\n",
       "      <td>lsstr</td>\n",
       "      <td>24.355046</td>\n",
       "      <td>24.355046</td>\n",
       "      <td>2.631420</td>\n",
       "      <td>0.844130</td>\n",
       "      <td>...</td>\n",
       "      <td>NaN</td>\n",
       "      <td>NaN</td>\n",
       "      <td>NaN</td>\n",
       "      <td>NaN</td>\n",
       "      <td>NaN</td>\n",
       "      <td>NaN</td>\n",
       "      <td>NaN</td>\n",
       "      <td>NaN</td>\n",
       "      <td>NaN</td>\n",
       "      <td>NaN</td>\n",
       "    </tr>\n",
       "    <tr>\n",
       "      <th>1799</th>\n",
       "      <td>168</td>\n",
       "      <td>1309</td>\n",
       "      <td>55.941132</td>\n",
       "      <td>-30.420220</td>\n",
       "      <td>60234.142885</td>\n",
       "      <td>lsstr</td>\n",
       "      <td>24.355046</td>\n",
       "      <td>24.355046</td>\n",
       "      <td>2.631420</td>\n",
       "      <td>0.844130</td>\n",
       "      <td>...</td>\n",
       "      <td>NaN</td>\n",
       "      <td>NaN</td>\n",
       "      <td>NaN</td>\n",
       "      <td>NaN</td>\n",
       "      <td>NaN</td>\n",
       "      <td>NaN</td>\n",
       "      <td>NaN</td>\n",
       "      <td>NaN</td>\n",
       "      <td>NaN</td>\n",
       "      <td>NaN</td>\n",
       "    </tr>\n",
       "    <tr>\n",
       "      <th>1800</th>\n",
       "      <td>168</td>\n",
       "      <td>1309</td>\n",
       "      <td>55.941132</td>\n",
       "      <td>-30.420220</td>\n",
       "      <td>60234.142885</td>\n",
       "      <td>lsstr</td>\n",
       "      <td>24.355046</td>\n",
       "      <td>24.355046</td>\n",
       "      <td>2.631420</td>\n",
       "      <td>0.844130</td>\n",
       "      <td>...</td>\n",
       "      <td>NaN</td>\n",
       "      <td>NaN</td>\n",
       "      <td>NaN</td>\n",
       "      <td>NaN</td>\n",
       "      <td>NaN</td>\n",
       "      <td>NaN</td>\n",
       "      <td>NaN</td>\n",
       "      <td>NaN</td>\n",
       "      <td>NaN</td>\n",
       "      <td>NaN</td>\n",
       "    </tr>\n",
       "    <tr>\n",
       "      <th>1801</th>\n",
       "      <td>168</td>\n",
       "      <td>1309</td>\n",
       "      <td>55.941132</td>\n",
       "      <td>-30.420220</td>\n",
       "      <td>60234.142885</td>\n",
       "      <td>lsstr</td>\n",
       "      <td>24.355046</td>\n",
       "      <td>24.355046</td>\n",
       "      <td>2.631420</td>\n",
       "      <td>0.844130</td>\n",
       "      <td>...</td>\n",
       "      <td>NaN</td>\n",
       "      <td>NaN</td>\n",
       "      <td>NaN</td>\n",
       "      <td>NaN</td>\n",
       "      <td>NaN</td>\n",
       "      <td>NaN</td>\n",
       "      <td>NaN</td>\n",
       "      <td>NaN</td>\n",
       "      <td>NaN</td>\n",
       "      <td>NaN</td>\n",
       "    </tr>\n",
       "    <tr>\n",
       "      <th>1802</th>\n",
       "      <td>168</td>\n",
       "      <td>1309</td>\n",
       "      <td>55.941132</td>\n",
       "      <td>-30.420220</td>\n",
       "      <td>60234.142885</td>\n",
       "      <td>lsstr</td>\n",
       "      <td>24.355046</td>\n",
       "      <td>24.355046</td>\n",
       "      <td>2.631420</td>\n",
       "      <td>0.844130</td>\n",
       "      <td>...</td>\n",
       "      <td>NaN</td>\n",
       "      <td>NaN</td>\n",
       "      <td>NaN</td>\n",
       "      <td>NaN</td>\n",
       "      <td>NaN</td>\n",
       "      <td>NaN</td>\n",
       "      <td>NaN</td>\n",
       "      <td>NaN</td>\n",
       "      <td>NaN</td>\n",
       "      <td>NaN</td>\n",
       "    </tr>\n",
       "    <tr>\n",
       "      <th>1803</th>\n",
       "      <td>169</td>\n",
       "      <td>1297</td>\n",
       "      <td>56.951029</td>\n",
       "      <td>-30.781470</td>\n",
       "      <td>60234.155661</td>\n",
       "      <td>lsstr</td>\n",
       "      <td>24.364959</td>\n",
       "      <td>24.364959</td>\n",
       "      <td>2.593557</td>\n",
       "      <td>0.821506</td>\n",
       "      <td>...</td>\n",
       "      <td>NaN</td>\n",
       "      <td>NaN</td>\n",
       "      <td>NaN</td>\n",
       "      <td>NaN</td>\n",
       "      <td>NaN</td>\n",
       "      <td>NaN</td>\n",
       "      <td>NaN</td>\n",
       "      <td>NaN</td>\n",
       "      <td>NaN</td>\n",
       "      <td>NaN</td>\n",
       "    </tr>\n",
       "    <tr>\n",
       "      <th>1804</th>\n",
       "      <td>169</td>\n",
       "      <td>1297</td>\n",
       "      <td>56.951029</td>\n",
       "      <td>-30.781470</td>\n",
       "      <td>60234.155661</td>\n",
       "      <td>lsstr</td>\n",
       "      <td>24.364959</td>\n",
       "      <td>24.364959</td>\n",
       "      <td>2.593557</td>\n",
       "      <td>0.821506</td>\n",
       "      <td>...</td>\n",
       "      <td>NaN</td>\n",
       "      <td>NaN</td>\n",
       "      <td>NaN</td>\n",
       "      <td>NaN</td>\n",
       "      <td>NaN</td>\n",
       "      <td>NaN</td>\n",
       "      <td>NaN</td>\n",
       "      <td>NaN</td>\n",
       "      <td>NaN</td>\n",
       "      <td>NaN</td>\n",
       "    </tr>\n",
       "    <tr>\n",
       "      <th>1805</th>\n",
       "      <td>169</td>\n",
       "      <td>1297</td>\n",
       "      <td>56.951029</td>\n",
       "      <td>-30.781470</td>\n",
       "      <td>60234.155661</td>\n",
       "      <td>lsstr</td>\n",
       "      <td>24.364959</td>\n",
       "      <td>24.364959</td>\n",
       "      <td>2.593557</td>\n",
       "      <td>0.821506</td>\n",
       "      <td>...</td>\n",
       "      <td>NaN</td>\n",
       "      <td>NaN</td>\n",
       "      <td>NaN</td>\n",
       "      <td>NaN</td>\n",
       "      <td>NaN</td>\n",
       "      <td>NaN</td>\n",
       "      <td>NaN</td>\n",
       "      <td>NaN</td>\n",
       "      <td>NaN</td>\n",
       "      <td>NaN</td>\n",
       "    </tr>\n",
       "    <tr>\n",
       "      <th>1806</th>\n",
       "      <td>169</td>\n",
       "      <td>1297</td>\n",
       "      <td>56.951029</td>\n",
       "      <td>-30.781470</td>\n",
       "      <td>60234.155661</td>\n",
       "      <td>lsstr</td>\n",
       "      <td>24.364959</td>\n",
       "      <td>24.364959</td>\n",
       "      <td>2.593557</td>\n",
       "      <td>0.821506</td>\n",
       "      <td>...</td>\n",
       "      <td>NaN</td>\n",
       "      <td>NaN</td>\n",
       "      <td>NaN</td>\n",
       "      <td>NaN</td>\n",
       "      <td>NaN</td>\n",
       "      <td>NaN</td>\n",
       "      <td>NaN</td>\n",
       "      <td>NaN</td>\n",
       "      <td>NaN</td>\n",
       "      <td>NaN</td>\n",
       "    </tr>\n",
       "    <tr>\n",
       "      <th>1807</th>\n",
       "      <td>169</td>\n",
       "      <td>1297</td>\n",
       "      <td>56.951029</td>\n",
       "      <td>-30.781470</td>\n",
       "      <td>60234.155661</td>\n",
       "      <td>lsstr</td>\n",
       "      <td>24.364959</td>\n",
       "      <td>24.364959</td>\n",
       "      <td>2.593557</td>\n",
       "      <td>0.821506</td>\n",
       "      <td>...</td>\n",
       "      <td>NaN</td>\n",
       "      <td>NaN</td>\n",
       "      <td>NaN</td>\n",
       "      <td>NaN</td>\n",
       "      <td>NaN</td>\n",
       "      <td>NaN</td>\n",
       "      <td>NaN</td>\n",
       "      <td>NaN</td>\n",
       "      <td>NaN</td>\n",
       "      <td>NaN</td>\n",
       "    </tr>\n",
       "    <tr>\n",
       "      <th>1808</th>\n",
       "      <td>169</td>\n",
       "      <td>1297</td>\n",
       "      <td>56.951029</td>\n",
       "      <td>-30.781470</td>\n",
       "      <td>60234.155661</td>\n",
       "      <td>lsstr</td>\n",
       "      <td>24.364959</td>\n",
       "      <td>24.364959</td>\n",
       "      <td>2.593557</td>\n",
       "      <td>0.821506</td>\n",
       "      <td>...</td>\n",
       "      <td>NaN</td>\n",
       "      <td>NaN</td>\n",
       "      <td>NaN</td>\n",
       "      <td>NaN</td>\n",
       "      <td>NaN</td>\n",
       "      <td>NaN</td>\n",
       "      <td>NaN</td>\n",
       "      <td>NaN</td>\n",
       "      <td>NaN</td>\n",
       "      <td>NaN</td>\n",
       "    </tr>\n",
       "  </tbody>\n",
       "</table>\n",
       "<p>1809 rows × 27 columns</p>\n",
       "</div>"
      ],
      "text/plain": [
       "      index  fieldID  descDitheredRA  descDitheredDec        expMJD filter  \\\n",
       "0       107     1297       57.951252       -31.295413  60132.418248  lssty   \n",
       "1       107     1297       57.951252       -31.295413  60132.418248  lssty   \n",
       "2       107     1297       57.951252       -31.295413  60132.418248  lssty   \n",
       "3       107     1297       57.951252       -31.295413  60132.418248  lssty   \n",
       "4       107     1297       57.951252       -31.295413  60132.418248  lssty   \n",
       "5       107     1297       57.951252       -31.295413  60132.418248  lssty   \n",
       "6       108     1297       58.944666       -30.814988  60145.374232  lsstg   \n",
       "7       108     1297       58.944666       -30.814988  60145.374232  lsstg   \n",
       "8       108     1297       58.944666       -30.814988  60145.374232  lsstg   \n",
       "9       108     1297       58.944666       -30.814988  60145.374232  lsstg   \n",
       "10      108     1297       58.944666       -30.814988  60145.374232  lsstg   \n",
       "11      108     1297       58.944666       -30.814988  60145.374232  lsstg   \n",
       "12      109     1309       55.748583       -30.853548  60145.374680  lsstg   \n",
       "13      109     1309       55.748583       -30.853548  60145.374680  lsstg   \n",
       "14      109     1309       55.748583       -30.853548  60145.374680  lsstg   \n",
       "15      109     1309       55.748583       -30.853548  60145.374680  lsstg   \n",
       "16      109     1309       55.748583       -30.853548  60145.374680  lsstg   \n",
       "17      110     1297       57.343375       -29.619168  60145.390190  lsstg   \n",
       "18      110     1297       57.343375       -29.619168  60145.390190  lsstg   \n",
       "19      110     1297       57.343375       -29.619168  60145.390190  lsstg   \n",
       "20      110     1297       57.343375       -29.619168  60145.390190  lsstg   \n",
       "21      110     1297       57.343375       -29.619168  60145.390190  lsstg   \n",
       "22      110     1297       57.343375       -29.619168  60145.390190  lsstg   \n",
       "23      110     1297       57.343375       -29.619168  60145.390190  lsstg   \n",
       "24       13     1297       57.824230       -30.181010  59803.357884  lssty   \n",
       "25       13     1297       57.824230       -30.181010  59803.357884  lssty   \n",
       "26       13     1297       57.824230       -30.181010  59803.357884  lssty   \n",
       "27       13     1297       57.824230       -30.181010  59803.357884  lssty   \n",
       "28       13     1297       57.824230       -30.181010  59803.357884  lssty   \n",
       "29       13     1297       57.824230       -30.181010  59803.357884  lssty   \n",
       "...     ...      ...             ...              ...           ...    ...   \n",
       "1779    163     1178       58.522096       -32.514037  60224.167399  lsstr   \n",
       "1780    164     1309       55.003314       -31.464894  60232.149020  lsstr   \n",
       "1781    164     1309       55.003314       -31.464894  60232.149020  lsstr   \n",
       "1782    165     1297       58.683547       -30.177572  60232.154899  lsstr   \n",
       "1783    165     1297       58.683547       -30.177572  60232.154899  lsstr   \n",
       "1784    165     1297       58.683547       -30.177572  60232.154899  lsstr   \n",
       "1785    165     1297       58.683547       -30.177572  60232.154899  lsstr   \n",
       "1786    166     1297       55.925442       -30.549250  60232.172106  lsstr   \n",
       "1787    166     1297       55.925442       -30.549250  60232.172106  lsstr   \n",
       "1788    166     1297       55.925442       -30.549250  60232.172106  lsstr   \n",
       "1789    166     1297       55.925442       -30.549250  60232.172106  lsstr   \n",
       "1790    166     1297       55.925442       -30.549250  60232.172106  lsstr   \n",
       "1791    167     1297       55.380376       -30.643387  60234.141543  lsstr   \n",
       "1792    167     1297       55.380376       -30.643387  60234.141543  lsstr   \n",
       "1793    167     1297       55.380376       -30.643387  60234.141543  lsstr   \n",
       "1794    167     1297       55.380376       -30.643387  60234.141543  lsstr   \n",
       "1795    167     1297       55.380376       -30.643387  60234.141543  lsstr   \n",
       "1796    167     1297       55.380376       -30.643387  60234.141543  lsstr   \n",
       "1797    168     1309       55.941132       -30.420220  60234.142885  lsstr   \n",
       "1798    168     1309       55.941132       -30.420220  60234.142885  lsstr   \n",
       "1799    168     1309       55.941132       -30.420220  60234.142885  lsstr   \n",
       "1800    168     1309       55.941132       -30.420220  60234.142885  lsstr   \n",
       "1801    168     1309       55.941132       -30.420220  60234.142885  lsstr   \n",
       "1802    168     1309       55.941132       -30.420220  60234.142885  lsstr   \n",
       "1803    169     1297       56.951029       -30.781470  60234.155661  lsstr   \n",
       "1804    169     1297       56.951029       -30.781470  60234.155661  lsstr   \n",
       "1805    169     1297       56.951029       -30.781470  60234.155661  lsstr   \n",
       "1806    169     1297       56.951029       -30.781470  60234.155661  lsstr   \n",
       "1807    169     1297       56.951029       -30.781470  60234.155661  lsstr   \n",
       "1808    169     1297       56.951029       -30.781470  60234.155661  lsstr   \n",
       "\n",
       "      fiveSigmaDepth  fiveSigmaDepth.1  rotSkyPos  rotTelPos  ...  \\\n",
       "0          22.135284         22.135284   2.065568   0.262857  ...   \n",
       "1          22.135284         22.135284   2.065568   0.262857  ...   \n",
       "2          22.135284         22.135284   2.065568   0.262857  ...   \n",
       "3          22.135284         22.135284   2.065568   0.262857  ...   \n",
       "4          22.135284         22.135284   2.065568   0.262857  ...   \n",
       "5          22.135284         22.135284   2.065568   0.262857  ...   \n",
       "6          24.418622         24.418622   2.866696   1.047071  ...   \n",
       "7          24.418622         24.418622   2.866696   1.047071  ...   \n",
       "8          24.418622         24.418622   2.866696   1.047071  ...   \n",
       "9          24.418622         24.418622   2.866696   1.047071  ...   \n",
       "10         24.418622         24.418622   2.866696   1.047071  ...   \n",
       "11         24.418622         24.418622   2.866696   1.047071  ...   \n",
       "12         24.481660         24.481660   2.856264   1.047964  ...   \n",
       "13         24.481660         24.481660   2.856264   1.047964  ...   \n",
       "14         24.481660         24.481660   2.856264   1.047964  ...   \n",
       "15         24.481660         24.481660   2.856264   1.047964  ...   \n",
       "16         24.481660         24.481660   2.856264   1.047964  ...   \n",
       "17         24.601762         24.601762   2.959792   1.171684  ...   \n",
       "18         24.601762         24.601762   2.959792   1.171684  ...   \n",
       "19         24.601762         24.601762   2.959792   1.171684  ...   \n",
       "20         24.601762         24.601762   2.959792   1.171684  ...   \n",
       "21         24.601762         24.601762   2.959792   1.171684  ...   \n",
       "22         24.601762         24.601762   2.959792   1.171684  ...   \n",
       "23         24.601762         24.601762   2.959792   1.171684  ...   \n",
       "24         22.194237         22.194237   2.047766   0.319852  ...   \n",
       "25         22.194237         22.194237   2.047766   0.319852  ...   \n",
       "26         22.194237         22.194237   2.047766   0.319852  ...   \n",
       "27         22.194237         22.194237   2.047766   0.319852  ...   \n",
       "28         22.194237         22.194237   2.047766   0.319852  ...   \n",
       "29         22.194237         22.194237   2.047766   0.319852  ...   \n",
       "...              ...               ...        ...        ...  ...   \n",
       "1779       24.137118         24.137118   3.067222   1.308774  ...   \n",
       "1780       24.272844         24.272844   2.015027   0.228986  ...   \n",
       "1781       24.272844         24.272844   2.015027   0.228986  ...   \n",
       "1782       24.309231         24.309231   2.031281   0.247580  ...   \n",
       "1783       24.309231         24.309231   2.031281   0.247580  ...   \n",
       "1784       24.309231         24.309231   2.031281   0.247580  ...   \n",
       "1785       24.309231         24.309231   2.031281   0.247580  ...   \n",
       "1786       24.462647         24.462647   2.053374   0.302973  ...   \n",
       "1787       24.462647         24.462647   2.053374   0.302973  ...   \n",
       "1788       24.462647         24.462647   2.053374   0.302973  ...   \n",
       "1789       24.462647         24.462647   2.053374   0.302973  ...   \n",
       "1790       24.462647         24.462647   2.053374   0.302973  ...   \n",
       "1791       24.270725         24.270725   2.640207   0.841041  ...   \n",
       "1792       24.270725         24.270725   2.640207   0.841041  ...   \n",
       "1793       24.270725         24.270725   2.640207   0.841041  ...   \n",
       "1794       24.270725         24.270725   2.640207   0.841041  ...   \n",
       "1795       24.270725         24.270725   2.640207   0.841041  ...   \n",
       "1796       24.270725         24.270725   2.640207   0.841041  ...   \n",
       "1797       24.355046         24.355046   2.631420   0.844130  ...   \n",
       "1798       24.355046         24.355046   2.631420   0.844130  ...   \n",
       "1799       24.355046         24.355046   2.631420   0.844130  ...   \n",
       "1800       24.355046         24.355046   2.631420   0.844130  ...   \n",
       "1801       24.355046         24.355046   2.631420   0.844130  ...   \n",
       "1802       24.355046         24.355046   2.631420   0.844130  ...   \n",
       "1803       24.364959         24.364959   2.593557   0.821506  ...   \n",
       "1804       24.364959         24.364959   2.593557   0.821506  ...   \n",
       "1805       24.364959         24.364959   2.593557   0.821506  ...   \n",
       "1806       24.364959         24.364959   2.593557   0.821506  ...   \n",
       "1807       24.364959         24.364959   2.593557   0.821506  ...   \n",
       "1808       24.364959         24.364959   2.593557   0.821506  ...   \n",
       "\n",
       "      htmid_level_6  galaxy_id  c_in  mB t0_in  x0_in  x1_in  z_in  snra_in  \\\n",
       "0               NaN        NaN   NaN NaN   NaN    NaN    NaN   NaN      NaN   \n",
       "1               NaN        NaN   NaN NaN   NaN    NaN    NaN   NaN      NaN   \n",
       "2               NaN        NaN   NaN NaN   NaN    NaN    NaN   NaN      NaN   \n",
       "3               NaN        NaN   NaN NaN   NaN    NaN    NaN   NaN      NaN   \n",
       "4               NaN        NaN   NaN NaN   NaN    NaN    NaN   NaN      NaN   \n",
       "5               NaN        NaN   NaN NaN   NaN    NaN    NaN   NaN      NaN   \n",
       "6               NaN        NaN   NaN NaN   NaN    NaN    NaN   NaN      NaN   \n",
       "7               NaN        NaN   NaN NaN   NaN    NaN    NaN   NaN      NaN   \n",
       "8               NaN        NaN   NaN NaN   NaN    NaN    NaN   NaN      NaN   \n",
       "9               NaN        NaN   NaN NaN   NaN    NaN    NaN   NaN      NaN   \n",
       "10              NaN        NaN   NaN NaN   NaN    NaN    NaN   NaN      NaN   \n",
       "11              NaN        NaN   NaN NaN   NaN    NaN    NaN   NaN      NaN   \n",
       "12              NaN        NaN   NaN NaN   NaN    NaN    NaN   NaN      NaN   \n",
       "13              NaN        NaN   NaN NaN   NaN    NaN    NaN   NaN      NaN   \n",
       "14              NaN        NaN   NaN NaN   NaN    NaN    NaN   NaN      NaN   \n",
       "15              NaN        NaN   NaN NaN   NaN    NaN    NaN   NaN      NaN   \n",
       "16              NaN        NaN   NaN NaN   NaN    NaN    NaN   NaN      NaN   \n",
       "17              NaN        NaN   NaN NaN   NaN    NaN    NaN   NaN      NaN   \n",
       "18              NaN        NaN   NaN NaN   NaN    NaN    NaN   NaN      NaN   \n",
       "19              NaN        NaN   NaN NaN   NaN    NaN    NaN   NaN      NaN   \n",
       "20              NaN        NaN   NaN NaN   NaN    NaN    NaN   NaN      NaN   \n",
       "21              NaN        NaN   NaN NaN   NaN    NaN    NaN   NaN      NaN   \n",
       "22              NaN        NaN   NaN NaN   NaN    NaN    NaN   NaN      NaN   \n",
       "23              NaN        NaN   NaN NaN   NaN    NaN    NaN   NaN      NaN   \n",
       "24              NaN        NaN   NaN NaN   NaN    NaN    NaN   NaN      NaN   \n",
       "25              NaN        NaN   NaN NaN   NaN    NaN    NaN   NaN      NaN   \n",
       "26              NaN        NaN   NaN NaN   NaN    NaN    NaN   NaN      NaN   \n",
       "27              NaN        NaN   NaN NaN   NaN    NaN    NaN   NaN      NaN   \n",
       "28              NaN        NaN   NaN NaN   NaN    NaN    NaN   NaN      NaN   \n",
       "29              NaN        NaN   NaN NaN   NaN    NaN    NaN   NaN      NaN   \n",
       "...             ...        ...   ...  ..   ...    ...    ...   ...      ...   \n",
       "1779            NaN        NaN   NaN NaN   NaN    NaN    NaN   NaN      NaN   \n",
       "1780            NaN        NaN   NaN NaN   NaN    NaN    NaN   NaN      NaN   \n",
       "1781            NaN        NaN   NaN NaN   NaN    NaN    NaN   NaN      NaN   \n",
       "1782            NaN        NaN   NaN NaN   NaN    NaN    NaN   NaN      NaN   \n",
       "1783            NaN        NaN   NaN NaN   NaN    NaN    NaN   NaN      NaN   \n",
       "1784            NaN        NaN   NaN NaN   NaN    NaN    NaN   NaN      NaN   \n",
       "1785            NaN        NaN   NaN NaN   NaN    NaN    NaN   NaN      NaN   \n",
       "1786            NaN        NaN   NaN NaN   NaN    NaN    NaN   NaN      NaN   \n",
       "1787            NaN        NaN   NaN NaN   NaN    NaN    NaN   NaN      NaN   \n",
       "1788            NaN        NaN   NaN NaN   NaN    NaN    NaN   NaN      NaN   \n",
       "1789            NaN        NaN   NaN NaN   NaN    NaN    NaN   NaN      NaN   \n",
       "1790            NaN        NaN   NaN NaN   NaN    NaN    NaN   NaN      NaN   \n",
       "1791            NaN        NaN   NaN NaN   NaN    NaN    NaN   NaN      NaN   \n",
       "1792            NaN        NaN   NaN NaN   NaN    NaN    NaN   NaN      NaN   \n",
       "1793            NaN        NaN   NaN NaN   NaN    NaN    NaN   NaN      NaN   \n",
       "1794            NaN        NaN   NaN NaN   NaN    NaN    NaN   NaN      NaN   \n",
       "1795            NaN        NaN   NaN NaN   NaN    NaN    NaN   NaN      NaN   \n",
       "1796            NaN        NaN   NaN NaN   NaN    NaN    NaN   NaN      NaN   \n",
       "1797            NaN        NaN   NaN NaN   NaN    NaN    NaN   NaN      NaN   \n",
       "1798            NaN        NaN   NaN NaN   NaN    NaN    NaN   NaN      NaN   \n",
       "1799            NaN        NaN   NaN NaN   NaN    NaN    NaN   NaN      NaN   \n",
       "1800            NaN        NaN   NaN NaN   NaN    NaN    NaN   NaN      NaN   \n",
       "1801            NaN        NaN   NaN NaN   NaN    NaN    NaN   NaN      NaN   \n",
       "1802            NaN        NaN   NaN NaN   NaN    NaN    NaN   NaN      NaN   \n",
       "1803            NaN        NaN   NaN NaN   NaN    NaN    NaN   NaN      NaN   \n",
       "1804            NaN        NaN   NaN NaN   NaN    NaN    NaN   NaN      NaN   \n",
       "1805            NaN        NaN   NaN NaN   NaN    NaN    NaN   NaN      NaN   \n",
       "1806            NaN        NaN   NaN NaN   NaN    NaN    NaN   NaN      NaN   \n",
       "1807            NaN        NaN   NaN NaN   NaN    NaN    NaN   NaN      NaN   \n",
       "1808            NaN        NaN   NaN NaN   NaN    NaN    NaN   NaN      NaN   \n",
       "\n",
       "      sndec_in  \n",
       "0          NaN  \n",
       "1          NaN  \n",
       "2          NaN  \n",
       "3          NaN  \n",
       "4          NaN  \n",
       "5          NaN  \n",
       "6          NaN  \n",
       "7          NaN  \n",
       "8          NaN  \n",
       "9          NaN  \n",
       "10         NaN  \n",
       "11         NaN  \n",
       "12         NaN  \n",
       "13         NaN  \n",
       "14         NaN  \n",
       "15         NaN  \n",
       "16         NaN  \n",
       "17         NaN  \n",
       "18         NaN  \n",
       "19         NaN  \n",
       "20         NaN  \n",
       "21         NaN  \n",
       "22         NaN  \n",
       "23         NaN  \n",
       "24         NaN  \n",
       "25         NaN  \n",
       "26         NaN  \n",
       "27         NaN  \n",
       "28         NaN  \n",
       "29         NaN  \n",
       "...        ...  \n",
       "1779       NaN  \n",
       "1780       NaN  \n",
       "1781       NaN  \n",
       "1782       NaN  \n",
       "1783       NaN  \n",
       "1784       NaN  \n",
       "1785       NaN  \n",
       "1786       NaN  \n",
       "1787       NaN  \n",
       "1788       NaN  \n",
       "1789       NaN  \n",
       "1790       NaN  \n",
       "1791       NaN  \n",
       "1792       NaN  \n",
       "1793       NaN  \n",
       "1794       NaN  \n",
       "1795       NaN  \n",
       "1796       NaN  \n",
       "1797       NaN  \n",
       "1798       NaN  \n",
       "1799       NaN  \n",
       "1800       NaN  \n",
       "1801       NaN  \n",
       "1802       NaN  \n",
       "1803       NaN  \n",
       "1804       NaN  \n",
       "1805       NaN  \n",
       "1806       NaN  \n",
       "1807       NaN  \n",
       "1808       NaN  \n",
       "\n",
       "[1809 rows x 27 columns]"
      ]
     },
     "execution_count": 129,
     "metadata": {},
     "output_type": "execute_result"
    }
   ],
   "source": [
    "merged"
   ]
  },
  {
   "cell_type": "code",
   "execution_count": 114,
   "metadata": {},
   "outputs": [
    {
     "data": {
      "text/plain": [
       "0"
      ]
     },
     "execution_count": 114,
     "metadata": {},
     "output_type": "execute_result"
    }
   ],
   "source": [
    "np.sum(merged['x0_in'].notnull())"
   ]
  },
  {
   "cell_type": "code",
   "execution_count": 99,
   "metadata": {},
   "outputs": [
    {
     "data": {
      "text/plain": [
       "['id',\n",
       " 'coord_ra',\n",
       " 'coord_dec',\n",
       " 'parent',\n",
       " 'flags_negative',\n",
       " 'base_NaiveCentroid_x',\n",
       " 'base_NaiveCentroid_y',\n",
       " 'base_NaiveCentroid_flag',\n",
       " 'base_NaiveCentroid_flag_noCounts',\n",
       " 'base_NaiveCentroid_flag_edge',\n",
       " 'base_NaiveCentroid_flag_resetToPeak',\n",
       " 'base_PeakCentroid_x',\n",
       " 'base_PeakCentroid_y',\n",
       " 'base_PeakCentroid_flag',\n",
       " 'base_SdssCentroid_x',\n",
       " 'base_SdssCentroid_y',\n",
       " 'base_SdssCentroid_xErr',\n",
       " 'base_SdssCentroid_yErr',\n",
       " 'base_SdssCentroid_flag',\n",
       " 'base_SdssCentroid_flag_edge',\n",
       " 'base_SdssCentroid_flag_noSecondDerivative',\n",
       " 'base_SdssCentroid_flag_almostNoSecondDerivative',\n",
       " 'base_SdssCentroid_flag_notAtMaximum',\n",
       " 'base_SdssCentroid_flag_resetToPeak',\n",
       " 'ip_diffim_NaiveDipoleCentroid_flag',\n",
       " 'base_CircularApertureFlux_flag_badCentroid',\n",
       " 'base_GaussianFlux_flag_badCentroid',\n",
       " 'base_NaiveCentroid_flag_badInitialCentroid',\n",
       " 'base_PeakLikelihoodFlux_flag_badCentroid',\n",
       " 'base_PsfFlux_flag_badCentroid',\n",
       " 'base_SdssCentroid_flag_badInitialCentroid',\n",
       " 'base_SdssShape_flag_badCentroid',\n",
       " 'slot_Centroid_flag',\n",
       " 'ip_diffim_NaiveDipoleCentroid_pos_flag',\n",
       " 'slot_Centroid_pos_flag',\n",
       " 'ip_diffim_NaiveDipoleCentroid_neg_flag',\n",
       " 'slot_Centroid_neg_flag',\n",
       " 'ip_diffim_NaiveDipoleCentroid_x',\n",
       " 'slot_Centroid_x',\n",
       " 'ip_diffim_NaiveDipoleCentroid_y',\n",
       " 'slot_Centroid_y',\n",
       " 'ip_diffim_NaiveDipoleCentroid_xErr',\n",
       " 'slot_Centroid_xErr',\n",
       " 'ip_diffim_NaiveDipoleCentroid_yErr',\n",
       " 'slot_Centroid_yErr',\n",
       " 'ip_diffim_NaiveDipoleCentroid_pos_x',\n",
       " 'slot_Centroid_pos_x',\n",
       " 'ip_diffim_NaiveDipoleCentroid_pos_y',\n",
       " 'slot_Centroid_pos_y',\n",
       " 'ip_diffim_NaiveDipoleCentroid_pos_xErr',\n",
       " 'slot_Centroid_pos_xErr',\n",
       " 'ip_diffim_NaiveDipoleCentroid_pos_yErr',\n",
       " 'slot_Centroid_pos_yErr',\n",
       " 'ip_diffim_NaiveDipoleCentroid_neg_x',\n",
       " 'slot_Centroid_neg_x',\n",
       " 'ip_diffim_NaiveDipoleCentroid_neg_y',\n",
       " 'slot_Centroid_neg_y',\n",
       " 'ip_diffim_NaiveDipoleCentroid_neg_xErr',\n",
       " 'slot_Centroid_neg_xErr',\n",
       " 'ip_diffim_NaiveDipoleCentroid_neg_yErr',\n",
       " 'slot_Centroid_neg_yErr',\n",
       " 'base_SdssShape_xx',\n",
       " 'slot_Shape_xx',\n",
       " 'base_SdssShape_yy',\n",
       " 'slot_Shape_yy',\n",
       " 'base_SdssShape_xy',\n",
       " 'slot_Shape_xy',\n",
       " 'base_SdssShape_xxErr',\n",
       " 'slot_Shape_xxErr',\n",
       " 'base_SdssShape_yyErr',\n",
       " 'slot_Shape_yyErr',\n",
       " 'base_SdssShape_xyErr',\n",
       " 'slot_Shape_xyErr',\n",
       " 'base_SdssShape_x',\n",
       " 'slot_Shape_x',\n",
       " 'base_SdssShape_y',\n",
       " 'slot_Shape_y',\n",
       " 'base_SdssShape_instFlux',\n",
       " 'slot_Shape_instFlux',\n",
       " 'base_SdssShape_instFluxErr',\n",
       " 'slot_Shape_instFluxErr',\n",
       " 'base_SdssShape_psf_xx',\n",
       " 'slot_PsfShape_xx',\n",
       " 'slot_Shape_psf_xx',\n",
       " 'base_SdssShape_psf_yy',\n",
       " 'slot_PsfShape_yy',\n",
       " 'slot_Shape_psf_yy',\n",
       " 'base_SdssShape_psf_xy',\n",
       " 'slot_PsfShape_xy',\n",
       " 'slot_Shape_psf_xy',\n",
       " 'base_SdssShape_instFlux_xx_Cov',\n",
       " 'slot_Shape_instFlux_xx_Cov',\n",
       " 'base_SdssShape_instFlux_yy_Cov',\n",
       " 'slot_Shape_instFlux_yy_Cov',\n",
       " 'base_SdssShape_instFlux_xy_Cov',\n",
       " 'slot_Shape_instFlux_xy_Cov',\n",
       " 'base_SdssShape_flag',\n",
       " 'base_GaussianFlux_flag_badShape',\n",
       " 'slot_Shape_flag',\n",
       " 'base_SdssShape_flag_unweightedBad',\n",
       " 'base_GaussianFlux_flag_badShape_unweightedBad',\n",
       " 'slot_Shape_flag_unweightedBad',\n",
       " 'base_SdssShape_flag_unweighted',\n",
       " 'base_GaussianFlux_flag_badShape_unweighted',\n",
       " 'slot_Shape_flag_unweighted',\n",
       " 'base_SdssShape_flag_shift',\n",
       " 'base_GaussianFlux_flag_badShape_shift',\n",
       " 'slot_Shape_flag_shift',\n",
       " 'base_SdssShape_flag_maxIter',\n",
       " 'base_GaussianFlux_flag_badShape_maxIter',\n",
       " 'slot_Shape_flag_maxIter',\n",
       " 'base_SdssShape_flag_psf',\n",
       " 'base_GaussianFlux_flag_badShape_psf',\n",
       " 'slot_Shape_flag_psf',\n",
       " 'base_CircularApertureFlux_3_0_instFlux',\n",
       " 'base_CircularApertureFlux_3_0_instFluxErr',\n",
       " 'base_CircularApertureFlux_3_0_flag',\n",
       " 'base_CircularApertureFlux_3_0_flag_apertureTruncated',\n",
       " 'base_CircularApertureFlux_3_0_flag_sincCoeffsTruncated',\n",
       " 'base_CircularApertureFlux_4_5_instFlux',\n",
       " 'base_CircularApertureFlux_4_5_instFluxErr',\n",
       " 'base_CircularApertureFlux_4_5_flag',\n",
       " 'base_CircularApertureFlux_4_5_flag_apertureTruncated',\n",
       " 'base_CircularApertureFlux_4_5_flag_sincCoeffsTruncated',\n",
       " 'base_CircularApertureFlux_6_0_instFlux',\n",
       " 'base_CircularApertureFlux_6_0_instFluxErr',\n",
       " 'base_CircularApertureFlux_6_0_flag',\n",
       " 'base_CircularApertureFlux_6_0_flag_apertureTruncated',\n",
       " 'base_CircularApertureFlux_6_0_flag_sincCoeffsTruncated',\n",
       " 'base_CircularApertureFlux_9_0_instFlux',\n",
       " 'base_CircularApertureFlux_9_0_instFluxErr',\n",
       " 'base_CircularApertureFlux_9_0_flag',\n",
       " 'base_CircularApertureFlux_9_0_flag_apertureTruncated',\n",
       " 'base_CircularApertureFlux_9_0_flag_sincCoeffsTruncated',\n",
       " 'base_CircularApertureFlux_12_0_instFlux',\n",
       " 'slot_ApFlux_instFlux',\n",
       " 'base_CircularApertureFlux_12_0_instFluxErr',\n",
       " 'slot_ApFlux_instFluxErr',\n",
       " 'base_CircularApertureFlux_12_0_flag',\n",
       " 'slot_ApFlux_flag',\n",
       " 'base_CircularApertureFlux_12_0_flag_apertureTruncated',\n",
       " 'slot_ApFlux_flag_apertureTruncated',\n",
       " 'base_CircularApertureFlux_17_0_instFlux',\n",
       " 'base_CircularApertureFlux_17_0_instFluxErr',\n",
       " 'base_CircularApertureFlux_17_0_flag',\n",
       " 'base_CircularApertureFlux_17_0_flag_apertureTruncated',\n",
       " 'base_CircularApertureFlux_25_0_instFlux',\n",
       " 'base_CircularApertureFlux_25_0_instFluxErr',\n",
       " 'base_CircularApertureFlux_25_0_flag',\n",
       " 'base_CircularApertureFlux_25_0_flag_apertureTruncated',\n",
       " 'base_CircularApertureFlux_35_0_instFlux',\n",
       " 'base_CircularApertureFlux_35_0_instFluxErr',\n",
       " 'base_CircularApertureFlux_35_0_flag',\n",
       " 'base_CircularApertureFlux_35_0_flag_apertureTruncated',\n",
       " 'base_CircularApertureFlux_50_0_instFlux',\n",
       " 'base_CircularApertureFlux_50_0_instFluxErr',\n",
       " 'base_CircularApertureFlux_50_0_flag',\n",
       " 'base_CircularApertureFlux_50_0_flag_apertureTruncated',\n",
       " 'base_CircularApertureFlux_70_0_instFlux',\n",
       " 'base_CircularApertureFlux_70_0_instFluxErr',\n",
       " 'base_CircularApertureFlux_70_0_flag',\n",
       " 'base_CircularApertureFlux_70_0_flag_apertureTruncated',\n",
       " 'base_GaussianFlux_instFlux',\n",
       " 'base_GaussianFlux_instFluxErr',\n",
       " 'base_GaussianFlux_flag',\n",
       " 'base_PeakLikelihoodFlux_instFlux',\n",
       " 'base_PeakLikelihoodFlux_instFluxErr',\n",
       " 'base_PeakLikelihoodFlux_flag',\n",
       " 'base_PixelFlags_flag',\n",
       " 'base_PixelFlags_flag_offimage',\n",
       " 'base_PixelFlags_flag_edge',\n",
       " 'base_PixelFlags_flag_interpolated',\n",
       " 'base_PixelFlags_flag_saturated',\n",
       " 'base_PixelFlags_flag_cr',\n",
       " 'base_PixelFlags_flag_bad',\n",
       " 'base_PixelFlags_flag_suspect',\n",
       " 'base_PixelFlags_flag_interpolatedCenter',\n",
       " 'base_PixelFlags_flag_saturatedCenter',\n",
       " 'base_PixelFlags_flag_crCenter',\n",
       " 'base_PixelFlags_flag_suspectCenter',\n",
       " 'base_PsfFlux_instFlux',\n",
       " 'slot_PsfFlux_instFlux',\n",
       " 'base_PsfFlux_instFluxErr',\n",
       " 'slot_PsfFlux_instFluxErr',\n",
       " 'base_PsfFlux_area',\n",
       " 'slot_PsfFlux_area',\n",
       " 'base_PsfFlux_flag',\n",
       " 'slot_PsfFlux_flag',\n",
       " 'base_PsfFlux_flag_noGoodPixels',\n",
       " 'slot_PsfFlux_flag_noGoodPixels',\n",
       " 'base_PsfFlux_flag_edge',\n",
       " 'slot_PsfFlux_flag_edge',\n",
       " 'ip_diffim_NaiveDipoleFlux_flag',\n",
       " 'ip_diffim_NaiveDipoleFlux_pos_flag',\n",
       " 'ip_diffim_NaiveDipoleFlux_neg_flag',\n",
       " 'ip_diffim_NaiveDipoleFlux_pos_instFlux',\n",
       " 'ip_diffim_NaiveDipoleFlux_pos_instFluxErr',\n",
       " 'ip_diffim_NaiveDipoleFlux_neg_instFlux',\n",
       " 'ip_diffim_NaiveDipoleFlux_neg_instFluxErr',\n",
       " 'ip_diffim_NaiveDipoleFlux_npos',\n",
       " 'ip_diffim_NaiveDipoleFlux_nneg',\n",
       " 'ip_diffim_PsfDipoleFlux_flag',\n",
       " 'ip_diffim_PsfDipoleFlux_pos_flag',\n",
       " 'ip_diffim_PsfDipoleFlux_neg_flag',\n",
       " 'ip_diffim_PsfDipoleFlux_pos_instFlux',\n",
       " 'ip_diffim_PsfDipoleFlux_pos_instFluxErr',\n",
       " 'ip_diffim_PsfDipoleFlux_neg_instFlux',\n",
       " 'ip_diffim_PsfDipoleFlux_neg_instFluxErr',\n",
       " 'ip_diffim_PsfDipoleFlux_chi2dof',\n",
       " 'ip_diffim_PsfDipoleFlux_pos_centroid_x',\n",
       " 'ip_diffim_PsfDipoleFlux_pos_centroid_y',\n",
       " 'ip_diffim_PsfDipoleFlux_pos_centroid_xErr',\n",
       " 'ip_diffim_PsfDipoleFlux_pos_centroid_yErr',\n",
       " 'ip_diffim_PsfDipoleFlux_neg_centroid_x',\n",
       " 'ip_diffim_PsfDipoleFlux_neg_centroid_y',\n",
       " 'ip_diffim_PsfDipoleFlux_neg_centroid_xErr',\n",
       " 'ip_diffim_PsfDipoleFlux_neg_centroid_yErr',\n",
       " 'ip_diffim_PsfDipoleFlux_centroid_x',\n",
       " 'ip_diffim_PsfDipoleFlux_centroid_y',\n",
       " 'ip_diffim_PsfDipoleFlux_centroid_xErr',\n",
       " 'ip_diffim_PsfDipoleFlux_centroid_yErr',\n",
       " 'ip_diffim_ClassificationDipole_value',\n",
       " 'ip_diffim_ClassificationDipole_flag',\n",
       " 'ip_diffim_DipoleFit_pos_instFlux',\n",
       " 'ip_diffim_DipoleFit_pos_instFluxErr',\n",
       " 'ip_diffim_DipoleFit_pos_centroid_x',\n",
       " 'ip_diffim_DipoleFit_pos_centroid_y',\n",
       " 'ip_diffim_DipoleFit_neg_instFlux',\n",
       " 'ip_diffim_DipoleFit_neg_instFluxErr',\n",
       " 'ip_diffim_DipoleFit_neg_centroid_x',\n",
       " 'ip_diffim_DipoleFit_neg_centroid_y',\n",
       " 'ip_diffim_DipoleFit_centroid_x',\n",
       " 'ip_diffim_DipoleFit_centroid_y',\n",
       " 'ip_diffim_DipoleFit_instFlux',\n",
       " 'ip_diffim_DipoleFit_orientation',\n",
       " 'ip_diffim_DipoleFit_separation',\n",
       " 'ip_diffim_DipoleFit_chi2dof',\n",
       " 'ip_diffim_DipoleFit_signalToNoise',\n",
       " 'ip_diffim_DipoleFit_flag_classification',\n",
       " 'ip_diffim_DipoleFit_flag_classificationAttempted',\n",
       " 'ip_diffim_DipoleFit_flag',\n",
       " 'ip_diffim_DipoleFit_flag_edge',\n",
       " 'ip_diffim_forced_PsfFlux_instFlux',\n",
       " 'ip_diffim_forced_PsfFlux_instFluxErr',\n",
       " 'ip_diffim_forced_PsfFlux_area',\n",
       " 'ip_diffim_forced_PsfFlux_flag',\n",
       " 'ip_diffim_forced_PsfFlux_flag_noGoodPixels',\n",
       " 'ip_diffim_forced_PsfFlux_flag_edge',\n",
       " 'visit_n',\n",
       " 'filter',\n",
       " 'raft',\n",
       " 'sensor',\n",
       " 'detector']"
      ]
     },
     "execution_count": 99,
     "metadata": {},
     "output_type": "execute_result"
    }
   ],
   "source": [
    "mastercat.colnames"
   ]
  },
  {
   "cell_type": "code",
   "execution_count": null,
   "metadata": {},
   "outputs": [],
   "source": []
  }
 ],
 "metadata": {
  "kernelspec": {
   "display_name": "desc-dia",
   "language": "python",
   "name": "desc-dia"
  },
  "language_info": {
   "codemirror_mode": {
    "name": "ipython",
    "version": 3
   },
   "file_extension": ".py",
   "mimetype": "text/x-python",
   "name": "python",
   "nbconvert_exporter": "python",
   "pygments_lexer": "ipython3",
   "version": "3.7.4"
  }
 },
 "nbformat": 4,
 "nbformat_minor": 4
}
